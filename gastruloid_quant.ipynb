{
 "cells": [
  {
   "cell_type": "code",
   "execution_count": 1,
   "id": "47ef0ec2",
   "metadata": {},
   "outputs": [],
   "source": [
    "# Import libraries--------------------------------------------------------------------------------------\n",
    "\n",
    "import os \n",
    "import numpy as np \n",
    "import pandas as pd \n",
    "import napari\n",
    "import re \n",
    "\n",
    "from scipy import ndimage as nd\n",
    "from skimage.measure import label, regionprops \n",
    "from skimage.segmentation import expand_labels\n",
    "from skimage.morphology import binary_erosion, square, opening\n",
    "from tifffile import imread, imwrite\n",
    "from tqdm import tqdm"
   ]
  },
  {
   "cell_type": "code",
   "execution_count": 2,
   "id": "05712719",
   "metadata": {},
   "outputs": [],
   "source": [
    "# Define functions---------------------------------------------------------------------------------------\n",
    "\n",
    "def cyto_expand(img, px): \n",
    "    cyto_shell = expand_labels(img, distance = px) \n",
    "    cyto_buffer = expand_labels(img, distance = 2) \n",
    "    cyto = np.subtract(cyto_shell, cyto_buffer) \n",
    "\n",
    "    return cyto\n",
    "\n",
    "def roi_quant(img, img_gast_label, img_edt, img_405, img_488, img_568, img_647):\n",
    "    df = pd.DataFrame() \n",
    "    \n",
    "    roi_id = [] \n",
    "    area = []\n",
    "    gast_id = [] \n",
    "    dist_mean = [] \n",
    "    dist_max = [] \n",
    "    centroid_y = []\n",
    "    centroid_x = []\n",
    "    intensity_405 = [] \n",
    "    intensity_488 = [] \n",
    "    intensity_568 = [] \n",
    "    intensity_647 = [] \n",
    "    \n",
    "    gast_props = regionprops(img, intensity_image = img_gast_label)\n",
    "    edt_props = regionprops(img, intensity_image = img_edt)\n",
    "    img405_props = regionprops(img, intensity_image = img_405)\n",
    "    img488_props = regionprops(img, intensity_image = img_488)\n",
    "    img568_props = regionprops(img, intensity_image = img_568)\n",
    "    img647_props = regionprops(img, intensity_image = img_647)\n",
    "    \n",
    "    for roi in tqdm(range(len(gast_props))):\n",
    "        roi_id.append(gast_props[roi].label)\n",
    "        area.append(gast_props[roi].area)\n",
    "        gast_id.append(gast_props[roi].max_intensity)\n",
    "        dist_mean.append(edt_props[roi].mean_intensity)\n",
    "        dist_max.append(edt_props[roi].max_intensity)\n",
    "        centroid_y.append(gast_props[roi].centroid[0])\n",
    "        centroid_x.append(gast_props[roi].centroid[1])\n",
    "        intensity_405.append(img405_props[roi].mean_intensity)\n",
    "        intensity_488.append(img488_props[roi].mean_intensity)\n",
    "        intensity_568.append(img568_props[roi].mean_intensity)\n",
    "        intensity_647.append(img647_props[roi].mean_intensity)\n",
    "        \n",
    "    df['roi_id'] = roi_id\n",
    "    df['area'] = area\n",
    "    df['gast_id'] = gast_id\n",
    "    df['dist_mean'] = dist_mean\n",
    "    df['dist_max'] = dist_max\n",
    "    df['centroid_y'] = centroid_y\n",
    "    df['centroid_x'] = centroid_x\n",
    "    df['intensity_405'] = intensity_405\n",
    "    df['intensity_488'] = intensity_488\n",
    "    df['intensity_568'] = intensity_568\n",
    "    df['intensity_647'] = intensity_647\n",
    "    \n",
    "    return df"
   ]
  },
  {
   "cell_type": "code",
   "execution_count": 3,
   "id": "ac5abde7",
   "metadata": {},
   "outputs": [
    {
     "name": "stdout",
     "output_type": "stream",
     "text": [
      "['230714_H9DHB_Gastr_BMP4_CDX2_Ncad_001 - Stitched', '230714_H9DHB_Gastr_BMP4_CDX2_Ncad_002 - Stitched', '230714_H9DHB_Gastr_BMP4_CDX2_Ncad_003 - Stitched', '230714_H9DHB_Gastr_BMP4_CDX2_Ncad_004 - Stitched', '230714_H9DHB_Gastr_BMP4_CDX2_Ncad_005 - Stitched', '230714_H9DHB_Gastr_BMP4_CDX2_Ncad_006 - Stitched', '230714_H9DHB_Gastr_BMP4_CDX2_Ncad_007 - Stitched', '230714_H9DHB_Gastr_BMP4_CDX2_Ncad_008 - Stitched', '230714_H9DHB_Gastr_BMP4_CDX2_Ncad_009 - Stitched', '230714_H9DHB_Gastr_BMP4_SOX2_TFAP2c_001 - Stitched', '230714_H9DHB_Gastr_BMP4_SOX2_TFAP2c_002 - Stitched', '230714_H9DHB_Gastr_BMP4_SOX2_TFAP2c_003 - Stitched', '230714_H9DHB_Gastr_BMP4_SOX2_TFAP2c_004 - Stitched', '230714_H9DHB_Gastr_BMP4_SOX2_TFAP2c_005 - Stitched', '230714_H9DHB_Gastr_BMP4_SOX2_TFAP2c_006 - Stitched', '230714_H9DHB_Gastr_BMP4_SOX2_TFAP2c_007 - Stitched', '230714_H9DHB_Gastr_BMP4_SOX2_TFAP2c_008 - Stitched', '230714_H9DHB_Gastr_BMP4_SOX2_TFAP2c_009 - Stitched', '230714_H9DHB_Gastr_noBMP4_CDX2_Ncad_011 - Stitched', '230714_H9DHB_Gastr_noBMP4_CDX2_Ncad_012 - Stitched', '230714_H9DHB_Gastr_noBMP4_CDX2_Ncad_013 - Stitched', '230714_H9DHB_Gastr_noBMP4_SOX2_TFAP2c_010 - Stitched', '230714_H9DHB_Gastr_noBMP4_SOX2_TFAP2c_011 - Stitched', '230714_H9DHB_plv_CDK24C1_Gastr_BMP4_CDX2_Ncad_008 - Stitched', '230714_H9DHB_plv_CDK24C1_Gastr_BMP4_CDX2_Ncad_009 - Stitched', '230714_H9DHB_plv_CDK24C1_Gastr_BMP4_CDX2_Ncad_010 - Stitched', '230714_H9DHB_plv_CDK24C1_Gastr_BMP4_CDX2_Ncad_011 - Stitched', '230714_H9DHB_plv_CDK24C1_Gastr_BMP4_CDX2_Ncad_012 - Stitched', '230714_H9DHB_plv_CDK24C1_Gastr_noBMP4_CDX2_Ncad_013 - Stitched', '230714_H9DHB_plv_CDK24C8_Gastr_BMP4_CDX2_Ncad_014 - Stitched', '230714_H9DHB_plv_CDK24C8_Gastr_BMP4_CDX2_Ncad_015 - Stitched', '230714_H9DHB_plv_CDK24C8_Gastr_BMP4_CDX2_Ncad_016 - Stitched', '230714_H9DHB_plv_CDK24C8_Gastr_BMP4_CDX2_Ncad_017 - Stitched', '230714_H9DHB_plv_CDK24C8_Gastr_BMP4_CDX2_Ncad_018 - Stitched', '230714_H9DHB_plv_CDK24C8_Gastr_BMP4_CDX2_Ncad_019 - Stitched', '230714_H9DHB_plv_CDK24C8_Gastr_BMP4_CDX2_Ncad_020 - Stitched', '230714_H9DHB_plv_CDK24C8_Gastr_noBMP4_CDX2_Ncad_021 - Stitched', '230714_H9DHB_plv_CDK2_Gastr_BMP4_CDX2_Ncad_006 - Stitched', '230714_H9DHB_plv_CDK2_Gastr_noBMP4_CDX2_Ncad_007 - Stitched', '230714_H9DHB_plv_Gastr_BMP4_CDX2_Ncad_001 - Stitched', '230714_H9DHB_plv_Gastr_BMP4_CDX2_Ncad_002 - Stitched', '230714_H9DHB_plv_Gastr_BMP4_CDX2_Ncad_003 - Stitched', '230714_H9DHB_plv_Gastr_noBMP4_CDX2_Ncad_004 - Stitched']\n",
      "43\n"
     ]
    }
   ],
   "source": [
    "# Import path and image list----------------------------------------------------------------------------\n",
    "\n",
    "base_path = 'K:/Analysis/[NCI] [LGI] Sergio Ruiz/Bechara Saykali/images/gastruloids/2023/07_14'\n",
    "\n",
    "tmp_list = os.listdir(base_path)\n",
    "img_list = [] \n",
    "for tmp in tmp_list:\n",
    "    if re.search('_405.tif', tmp):\n",
    "        img_list.append(tmp.replace('_405.tif', ''))\n",
    "        \n",
    "print(img_list)\n",
    "print(len(img_list))"
   ]
  },
  {
   "cell_type": "code",
   "execution_count": 4,
   "id": "bc67ef28",
   "metadata": {},
   "outputs": [
    {
     "name": "stdout",
     "output_type": "stream",
     "text": [
      "230714_H9DHB_Gastr_BMP4_CDX2_Ncad_001 - Stitched\n",
      "Generating gastruloid label\n",
      "Generating cytoplasmic regions\n",
      "Quantifying gastruloids\n"
     ]
    },
    {
     "name": "stderr",
     "output_type": "stream",
     "text": [
      "100%|████████████████████████████████████████████████████████████████████████████████████| 1/1 [00:01<00:00,  1.16s/it]\n"
     ]
    },
    {
     "name": "stdout",
     "output_type": "stream",
     "text": [
      "Quantifying nuclei\n"
     ]
    },
    {
     "name": "stderr",
     "output_type": "stream",
     "text": [
      "100%|████████████████████████████████████████████████████████████████████████████| 4295/4295 [00:01<00:00, 2900.96it/s]\n"
     ]
    },
    {
     "name": "stdout",
     "output_type": "stream",
     "text": [
      "Quantifying cytoplasm\n"
     ]
    },
    {
     "name": "stderr",
     "output_type": "stream",
     "text": [
      "100%|████████████████████████████████████████████████████████████████████████████| 4295/4295 [00:01<00:00, 2530.23it/s]\n"
     ]
    },
    {
     "name": "stdout",
     "output_type": "stream",
     "text": [
      "230714_H9DHB_Gastr_BMP4_CDX2_Ncad_002 - Stitched\n",
      "Generating gastruloid label\n",
      "Generating cytoplasmic regions\n",
      "Quantifying gastruloids\n"
     ]
    },
    {
     "name": "stderr",
     "output_type": "stream",
     "text": [
      "100%|████████████████████████████████████████████████████████████████████████████████████| 1/1 [00:01<00:00,  1.20s/it]\n"
     ]
    },
    {
     "name": "stdout",
     "output_type": "stream",
     "text": [
      "Quantifying nuclei\n"
     ]
    },
    {
     "name": "stderr",
     "output_type": "stream",
     "text": [
      "100%|████████████████████████████████████████████████████████████████████████████| 4042/4042 [00:02<00:00, 1681.88it/s]\n"
     ]
    },
    {
     "name": "stdout",
     "output_type": "stream",
     "text": [
      "Quantifying cytoplasm\n"
     ]
    },
    {
     "name": "stderr",
     "output_type": "stream",
     "text": [
      "100%|████████████████████████████████████████████████████████████████████████████| 4042/4042 [00:02<00:00, 1487.03it/s]\n"
     ]
    },
    {
     "name": "stdout",
     "output_type": "stream",
     "text": [
      "230714_H9DHB_Gastr_BMP4_CDX2_Ncad_003 - Stitched\n",
      "Generating gastruloid label\n",
      "Generating cytoplasmic regions\n",
      "Quantifying gastruloids\n"
     ]
    },
    {
     "name": "stderr",
     "output_type": "stream",
     "text": [
      "100%|████████████████████████████████████████████████████████████████████████████████████| 1/1 [00:01<00:00,  1.28s/it]\n"
     ]
    },
    {
     "name": "stdout",
     "output_type": "stream",
     "text": [
      "Quantifying nuclei\n"
     ]
    },
    {
     "name": "stderr",
     "output_type": "stream",
     "text": [
      "100%|████████████████████████████████████████████████████████████████████████████| 4384/4384 [00:01<00:00, 3058.13it/s]\n"
     ]
    },
    {
     "name": "stdout",
     "output_type": "stream",
     "text": [
      "Quantifying cytoplasm\n"
     ]
    },
    {
     "name": "stderr",
     "output_type": "stream",
     "text": [
      "100%|████████████████████████████████████████████████████████████████████████████| 4384/4384 [00:01<00:00, 2572.05it/s]\n"
     ]
    },
    {
     "name": "stdout",
     "output_type": "stream",
     "text": [
      "230714_H9DHB_Gastr_BMP4_CDX2_Ncad_004 - Stitched\n",
      "Generating gastruloid label\n",
      "Generating cytoplasmic regions\n",
      "Quantifying gastruloids\n"
     ]
    },
    {
     "name": "stderr",
     "output_type": "stream",
     "text": [
      "100%|████████████████████████████████████████████████████████████████████████████████████| 1/1 [00:01<00:00,  1.22s/it]\n"
     ]
    },
    {
     "name": "stdout",
     "output_type": "stream",
     "text": [
      "Quantifying nuclei\n"
     ]
    },
    {
     "name": "stderr",
     "output_type": "stream",
     "text": [
      "100%|████████████████████████████████████████████████████████████████████████████| 4140/4140 [00:01<00:00, 2985.78it/s]\n"
     ]
    },
    {
     "name": "stdout",
     "output_type": "stream",
     "text": [
      "Quantifying cytoplasm\n"
     ]
    },
    {
     "name": "stderr",
     "output_type": "stream",
     "text": [
      "100%|████████████████████████████████████████████████████████████████████████████| 4140/4140 [00:01<00:00, 2499.26it/s]\n"
     ]
    },
    {
     "name": "stdout",
     "output_type": "stream",
     "text": [
      "230714_H9DHB_Gastr_BMP4_CDX2_Ncad_005 - Stitched\n",
      "Generating gastruloid label\n",
      "Generating cytoplasmic regions\n",
      "Quantifying gastruloids\n"
     ]
    },
    {
     "name": "stderr",
     "output_type": "stream",
     "text": [
      "100%|████████████████████████████████████████████████████████████████████████████████████| 1/1 [00:01<00:00,  1.17s/it]\n"
     ]
    },
    {
     "name": "stdout",
     "output_type": "stream",
     "text": [
      "Quantifying nuclei\n"
     ]
    },
    {
     "name": "stderr",
     "output_type": "stream",
     "text": [
      "100%|████████████████████████████████████████████████████████████████████████████| 3694/3694 [00:01<00:00, 2797.23it/s]\n"
     ]
    },
    {
     "name": "stdout",
     "output_type": "stream",
     "text": [
      "Quantifying cytoplasm\n"
     ]
    },
    {
     "name": "stderr",
     "output_type": "stream",
     "text": [
      "100%|████████████████████████████████████████████████████████████████████████████| 3694/3694 [00:01<00:00, 2338.70it/s]\n"
     ]
    },
    {
     "name": "stdout",
     "output_type": "stream",
     "text": [
      "230714_H9DHB_Gastr_BMP4_CDX2_Ncad_006 - Stitched\n",
      "Generating gastruloid label\n",
      "Generating cytoplasmic regions\n",
      "Quantifying gastruloids\n"
     ]
    },
    {
     "name": "stderr",
     "output_type": "stream",
     "text": [
      "100%|████████████████████████████████████████████████████████████████████████████████████| 1/1 [00:01<00:00,  1.11s/it]\n"
     ]
    },
    {
     "name": "stdout",
     "output_type": "stream",
     "text": [
      "Quantifying nuclei\n"
     ]
    },
    {
     "name": "stderr",
     "output_type": "stream",
     "text": [
      "100%|████████████████████████████████████████████████████████████████████████████| 3798/3798 [00:01<00:00, 3029.64it/s]\n"
     ]
    },
    {
     "name": "stdout",
     "output_type": "stream",
     "text": [
      "Quantifying cytoplasm\n"
     ]
    },
    {
     "name": "stderr",
     "output_type": "stream",
     "text": [
      "100%|████████████████████████████████████████████████████████████████████████████| 3798/3798 [00:01<00:00, 2514.34it/s]\n"
     ]
    },
    {
     "name": "stdout",
     "output_type": "stream",
     "text": [
      "230714_H9DHB_Gastr_BMP4_CDX2_Ncad_007 - Stitched\n",
      "Generating gastruloid label\n",
      "Generating cytoplasmic regions\n",
      "Quantifying gastruloids\n"
     ]
    },
    {
     "name": "stderr",
     "output_type": "stream",
     "text": [
      "100%|████████████████████████████████████████████████████████████████████████████████████| 1/1 [00:01<00:00,  1.20s/it]\n"
     ]
    },
    {
     "name": "stdout",
     "output_type": "stream",
     "text": [
      "Quantifying nuclei\n"
     ]
    },
    {
     "name": "stderr",
     "output_type": "stream",
     "text": [
      "100%|████████████████████████████████████████████████████████████████████████████| 4095/4095 [00:01<00:00, 3070.66it/s]\n"
     ]
    },
    {
     "name": "stdout",
     "output_type": "stream",
     "text": [
      "Quantifying cytoplasm\n"
     ]
    },
    {
     "name": "stderr",
     "output_type": "stream",
     "text": [
      "100%|████████████████████████████████████████████████████████████████████████████| 4095/4095 [00:01<00:00, 2552.19it/s]\n"
     ]
    },
    {
     "name": "stdout",
     "output_type": "stream",
     "text": [
      "230714_H9DHB_Gastr_BMP4_CDX2_Ncad_008 - Stitched\n",
      "Generating gastruloid label\n",
      "Generating cytoplasmic regions\n",
      "Quantifying gastruloids\n"
     ]
    },
    {
     "name": "stderr",
     "output_type": "stream",
     "text": [
      "100%|████████████████████████████████████████████████████████████████████████████████████| 1/1 [00:01<00:00,  1.20s/it]\n"
     ]
    },
    {
     "name": "stdout",
     "output_type": "stream",
     "text": [
      "Quantifying nuclei\n"
     ]
    },
    {
     "name": "stderr",
     "output_type": "stream",
     "text": [
      "100%|████████████████████████████████████████████████████████████████████████████| 4247/4247 [00:01<00:00, 3060.74it/s]\n"
     ]
    },
    {
     "name": "stdout",
     "output_type": "stream",
     "text": [
      "Quantifying cytoplasm\n"
     ]
    },
    {
     "name": "stderr",
     "output_type": "stream",
     "text": [
      "100%|████████████████████████████████████████████████████████████████████████████| 4247/4247 [00:01<00:00, 2599.94it/s]\n"
     ]
    },
    {
     "name": "stdout",
     "output_type": "stream",
     "text": [
      "230714_H9DHB_Gastr_BMP4_CDX2_Ncad_009 - Stitched\n",
      "Generating gastruloid label\n",
      "Generating cytoplasmic regions\n",
      "Quantifying gastruloids\n"
     ]
    },
    {
     "name": "stderr",
     "output_type": "stream",
     "text": [
      "100%|████████████████████████████████████████████████████████████████████████████████████| 1/1 [00:01<00:00,  1.14s/it]\n"
     ]
    },
    {
     "name": "stdout",
     "output_type": "stream",
     "text": [
      "Quantifying nuclei\n"
     ]
    },
    {
     "name": "stderr",
     "output_type": "stream",
     "text": [
      "100%|████████████████████████████████████████████████████████████████████████████| 3733/3733 [00:01<00:00, 2992.11it/s]\n"
     ]
    },
    {
     "name": "stdout",
     "output_type": "stream",
     "text": [
      "Quantifying cytoplasm\n"
     ]
    },
    {
     "name": "stderr",
     "output_type": "stream",
     "text": [
      "100%|████████████████████████████████████████████████████████████████████████████| 3733/3733 [00:01<00:00, 2555.89it/s]\n"
     ]
    },
    {
     "name": "stdout",
     "output_type": "stream",
     "text": [
      "230714_H9DHB_Gastr_BMP4_SOX2_TFAP2c_001 - Stitched\n",
      "Generating gastruloid label\n",
      "Generating cytoplasmic regions\n",
      "Quantifying gastruloids\n"
     ]
    },
    {
     "name": "stderr",
     "output_type": "stream",
     "text": [
      "100%|████████████████████████████████████████████████████████████████████████████████████| 1/1 [00:01<00:00,  1.20s/it]\n"
     ]
    },
    {
     "name": "stdout",
     "output_type": "stream",
     "text": [
      "Quantifying nuclei\n"
     ]
    },
    {
     "name": "stderr",
     "output_type": "stream",
     "text": [
      "100%|████████████████████████████████████████████████████████████████████████████| 3277/3277 [00:01<00:00, 2996.35it/s]\n"
     ]
    },
    {
     "name": "stdout",
     "output_type": "stream",
     "text": [
      "Quantifying cytoplasm\n"
     ]
    },
    {
     "name": "stderr",
     "output_type": "stream",
     "text": [
      "100%|████████████████████████████████████████████████████████████████████████████| 3277/3277 [00:01<00:00, 2431.76it/s]\n"
     ]
    },
    {
     "name": "stdout",
     "output_type": "stream",
     "text": [
      "230714_H9DHB_Gastr_BMP4_SOX2_TFAP2c_002 - Stitched\n",
      "Generating gastruloid label\n",
      "Generating cytoplasmic regions\n",
      "Quantifying gastruloids\n"
     ]
    },
    {
     "name": "stderr",
     "output_type": "stream",
     "text": [
      "100%|████████████████████████████████████████████████████████████████████████████████████| 1/1 [00:01<00:00,  1.11s/it]\n"
     ]
    },
    {
     "name": "stdout",
     "output_type": "stream",
     "text": [
      "Quantifying nuclei\n"
     ]
    },
    {
     "name": "stderr",
     "output_type": "stream",
     "text": [
      "100%|████████████████████████████████████████████████████████████████████████████| 4415/4415 [00:01<00:00, 3008.42it/s]\n"
     ]
    },
    {
     "name": "stdout",
     "output_type": "stream",
     "text": [
      "Quantifying cytoplasm\n"
     ]
    },
    {
     "name": "stderr",
     "output_type": "stream",
     "text": [
      "100%|████████████████████████████████████████████████████████████████████████████| 4415/4415 [00:01<00:00, 2539.60it/s]\n"
     ]
    },
    {
     "name": "stdout",
     "output_type": "stream",
     "text": [
      "230714_H9DHB_Gastr_BMP4_SOX2_TFAP2c_003 - Stitched\n",
      "Generating gastruloid label\n",
      "Generating cytoplasmic regions\n",
      "Quantifying gastruloids\n"
     ]
    },
    {
     "name": "stderr",
     "output_type": "stream",
     "text": [
      "100%|████████████████████████████████████████████████████████████████████████████████████| 1/1 [00:01<00:00,  1.31s/it]\n"
     ]
    },
    {
     "name": "stdout",
     "output_type": "stream",
     "text": [
      "Quantifying nuclei\n"
     ]
    },
    {
     "name": "stderr",
     "output_type": "stream",
     "text": [
      "100%|████████████████████████████████████████████████████████████████████████████| 4727/4727 [00:01<00:00, 2960.84it/s]\n"
     ]
    },
    {
     "name": "stdout",
     "output_type": "stream",
     "text": [
      "Quantifying cytoplasm\n"
     ]
    },
    {
     "name": "stderr",
     "output_type": "stream",
     "text": [
      "100%|████████████████████████████████████████████████████████████████████████████| 4727/4727 [00:01<00:00, 2564.24it/s]\n"
     ]
    },
    {
     "name": "stdout",
     "output_type": "stream",
     "text": [
      "230714_H9DHB_Gastr_BMP4_SOX2_TFAP2c_004 - Stitched\n",
      "Generating gastruloid label\n",
      "Generating cytoplasmic regions\n",
      "Quantifying gastruloids\n"
     ]
    },
    {
     "name": "stderr",
     "output_type": "stream",
     "text": [
      "100%|████████████████████████████████████████████████████████████████████████████████████| 1/1 [00:01<00:00,  1.13s/it]\n"
     ]
    },
    {
     "name": "stdout",
     "output_type": "stream",
     "text": [
      "Quantifying nuclei\n"
     ]
    },
    {
     "name": "stderr",
     "output_type": "stream",
     "text": [
      "100%|████████████████████████████████████████████████████████████████████████████| 3968/3968 [00:01<00:00, 2997.90it/s]\n"
     ]
    },
    {
     "name": "stdout",
     "output_type": "stream",
     "text": [
      "Quantifying cytoplasm\n"
     ]
    },
    {
     "name": "stderr",
     "output_type": "stream",
     "text": [
      "100%|████████████████████████████████████████████████████████████████████████████| 3968/3968 [00:01<00:00, 2531.39it/s]\n"
     ]
    },
    {
     "name": "stdout",
     "output_type": "stream",
     "text": [
      "230714_H9DHB_Gastr_BMP4_SOX2_TFAP2c_005 - Stitched\n",
      "Generating gastruloid label\n",
      "Generating cytoplasmic regions\n",
      "Quantifying gastruloids\n"
     ]
    },
    {
     "name": "stderr",
     "output_type": "stream",
     "text": [
      "100%|████████████████████████████████████████████████████████████████████████████████████| 1/1 [00:01<00:00,  1.13s/it]\n"
     ]
    },
    {
     "name": "stdout",
     "output_type": "stream",
     "text": [
      "Quantifying nuclei\n"
     ]
    },
    {
     "name": "stderr",
     "output_type": "stream",
     "text": [
      "100%|████████████████████████████████████████████████████████████████████████████| 3347/3347 [00:01<00:00, 3029.89it/s]\n"
     ]
    },
    {
     "name": "stdout",
     "output_type": "stream",
     "text": [
      "Quantifying cytoplasm\n"
     ]
    },
    {
     "name": "stderr",
     "output_type": "stream",
     "text": [
      "100%|████████████████████████████████████████████████████████████████████████████| 3347/3347 [00:01<00:00, 2447.39it/s]\n"
     ]
    },
    {
     "name": "stdout",
     "output_type": "stream",
     "text": [
      "230714_H9DHB_Gastr_BMP4_SOX2_TFAP2c_006 - Stitched\n",
      "Generating gastruloid label\n",
      "Generating cytoplasmic regions\n",
      "Quantifying gastruloids\n"
     ]
    },
    {
     "name": "stderr",
     "output_type": "stream",
     "text": [
      "100%|████████████████████████████████████████████████████████████████████████████████████| 1/1 [00:01<00:00,  1.13s/it]\n"
     ]
    },
    {
     "name": "stdout",
     "output_type": "stream",
     "text": [
      "Quantifying nuclei\n"
     ]
    },
    {
     "name": "stderr",
     "output_type": "stream",
     "text": [
      "100%|████████████████████████████████████████████████████████████████████████████| 3168/3168 [00:01<00:00, 2918.03it/s]\n"
     ]
    },
    {
     "name": "stdout",
     "output_type": "stream",
     "text": [
      "Quantifying cytoplasm\n"
     ]
    },
    {
     "name": "stderr",
     "output_type": "stream",
     "text": [
      "100%|████████████████████████████████████████████████████████████████████████████| 3168/3168 [00:01<00:00, 2402.56it/s]\n"
     ]
    },
    {
     "name": "stdout",
     "output_type": "stream",
     "text": [
      "230714_H9DHB_Gastr_BMP4_SOX2_TFAP2c_007 - Stitched\n",
      "Generating gastruloid label\n",
      "Generating cytoplasmic regions\n",
      "Quantifying gastruloids\n"
     ]
    },
    {
     "name": "stderr",
     "output_type": "stream",
     "text": [
      "100%|████████████████████████████████████████████████████████████████████████████████████| 1/1 [00:01<00:00,  1.12s/it]\n"
     ]
    },
    {
     "name": "stdout",
     "output_type": "stream",
     "text": [
      "Quantifying nuclei\n"
     ]
    },
    {
     "name": "stderr",
     "output_type": "stream",
     "text": [
      "100%|████████████████████████████████████████████████████████████████████████████| 3813/3813 [00:01<00:00, 3080.92it/s]\n"
     ]
    },
    {
     "name": "stdout",
     "output_type": "stream",
     "text": [
      "Quantifying cytoplasm\n"
     ]
    },
    {
     "name": "stderr",
     "output_type": "stream",
     "text": [
      "100%|████████████████████████████████████████████████████████████████████████████| 3813/3813 [00:01<00:00, 2524.27it/s]\n"
     ]
    },
    {
     "name": "stdout",
     "output_type": "stream",
     "text": [
      "230714_H9DHB_Gastr_BMP4_SOX2_TFAP2c_008 - Stitched\n",
      "Generating gastruloid label\n",
      "Generating cytoplasmic regions\n",
      "Quantifying gastruloids\n"
     ]
    },
    {
     "name": "stderr",
     "output_type": "stream",
     "text": [
      "100%|████████████████████████████████████████████████████████████████████████████████████| 1/1 [00:01<00:00,  1.23s/it]\n"
     ]
    },
    {
     "name": "stdout",
     "output_type": "stream",
     "text": [
      "Quantifying nuclei\n"
     ]
    },
    {
     "name": "stderr",
     "output_type": "stream",
     "text": [
      "100%|████████████████████████████████████████████████████████████████████████████| 3978/3978 [00:01<00:00, 3058.59it/s]\n"
     ]
    },
    {
     "name": "stdout",
     "output_type": "stream",
     "text": [
      "Quantifying cytoplasm\n"
     ]
    },
    {
     "name": "stderr",
     "output_type": "stream",
     "text": [
      "100%|████████████████████████████████████████████████████████████████████████████| 3977/3977 [00:01<00:00, 2579.91it/s]\n"
     ]
    },
    {
     "name": "stdout",
     "output_type": "stream",
     "text": [
      "230714_H9DHB_Gastr_BMP4_SOX2_TFAP2c_009 - Stitched\n",
      "Generating gastruloid label\n",
      "Generating cytoplasmic regions\n",
      "Quantifying gastruloids\n"
     ]
    },
    {
     "name": "stderr",
     "output_type": "stream",
     "text": [
      "100%|████████████████████████████████████████████████████████████████████████████████████| 1/1 [00:01<00:00,  1.30s/it]\n"
     ]
    },
    {
     "name": "stdout",
     "output_type": "stream",
     "text": [
      "Quantifying nuclei\n"
     ]
    },
    {
     "name": "stderr",
     "output_type": "stream",
     "text": [
      "100%|████████████████████████████████████████████████████████████████████████████| 4020/4020 [00:01<00:00, 2950.29it/s]\n"
     ]
    },
    {
     "name": "stdout",
     "output_type": "stream",
     "text": [
      "Quantifying cytoplasm\n"
     ]
    },
    {
     "name": "stderr",
     "output_type": "stream",
     "text": [
      "100%|████████████████████████████████████████████████████████████████████████████| 4020/4020 [00:01<00:00, 2507.01it/s]\n"
     ]
    },
    {
     "name": "stdout",
     "output_type": "stream",
     "text": [
      "230714_H9DHB_Gastr_noBMP4_CDX2_Ncad_011 - Stitched\n",
      "Generating gastruloid label\n",
      "Generating cytoplasmic regions\n",
      "Quantifying gastruloids\n"
     ]
    },
    {
     "name": "stderr",
     "output_type": "stream",
     "text": [
      "100%|████████████████████████████████████████████████████████████████████████████████████| 1/1 [00:01<00:00,  1.11s/it]\n"
     ]
    },
    {
     "name": "stdout",
     "output_type": "stream",
     "text": [
      "Quantifying nuclei\n"
     ]
    },
    {
     "name": "stderr",
     "output_type": "stream",
     "text": [
      "100%|████████████████████████████████████████████████████████████████████████████| 6217/6217 [00:02<00:00, 3097.07it/s]\n"
     ]
    },
    {
     "name": "stdout",
     "output_type": "stream",
     "text": [
      "Quantifying cytoplasm\n"
     ]
    },
    {
     "name": "stderr",
     "output_type": "stream",
     "text": [
      "100%|████████████████████████████████████████████████████████████████████████████| 6217/6217 [00:02<00:00, 2927.93it/s]\n"
     ]
    },
    {
     "name": "stdout",
     "output_type": "stream",
     "text": [
      "230714_H9DHB_Gastr_noBMP4_CDX2_Ncad_012 - Stitched\n",
      "Generating gastruloid label\n",
      "Generating cytoplasmic regions\n",
      "Quantifying gastruloids\n"
     ]
    },
    {
     "name": "stderr",
     "output_type": "stream",
     "text": [
      "100%|████████████████████████████████████████████████████████████████████████████████████| 1/1 [00:01<00:00,  1.11s/it]\n"
     ]
    },
    {
     "name": "stdout",
     "output_type": "stream",
     "text": [
      "Quantifying nuclei\n"
     ]
    },
    {
     "name": "stderr",
     "output_type": "stream",
     "text": [
      "100%|████████████████████████████████████████████████████████████████████████████| 6185/6185 [00:01<00:00, 3234.14it/s]\n"
     ]
    },
    {
     "name": "stdout",
     "output_type": "stream",
     "text": [
      "Quantifying cytoplasm\n"
     ]
    },
    {
     "name": "stderr",
     "output_type": "stream",
     "text": [
      "100%|████████████████████████████████████████████████████████████████████████████| 6185/6185 [00:02<00:00, 2835.43it/s]\n"
     ]
    },
    {
     "name": "stdout",
     "output_type": "stream",
     "text": [
      "230714_H9DHB_Gastr_noBMP4_CDX2_Ncad_013 - Stitched\n",
      "Generating gastruloid label\n",
      "Generating cytoplasmic regions\n",
      "Quantifying gastruloids\n"
     ]
    },
    {
     "name": "stderr",
     "output_type": "stream",
     "text": [
      "100%|████████████████████████████████████████████████████████████████████████████████████| 1/1 [00:01<00:00,  1.11s/it]\n"
     ]
    },
    {
     "name": "stdout",
     "output_type": "stream",
     "text": [
      "Quantifying nuclei\n"
     ]
    },
    {
     "name": "stderr",
     "output_type": "stream",
     "text": [
      "100%|████████████████████████████████████████████████████████████████████████████| 6443/6443 [00:02<00:00, 3168.63it/s]\n"
     ]
    },
    {
     "name": "stdout",
     "output_type": "stream",
     "text": [
      "Quantifying cytoplasm\n"
     ]
    },
    {
     "name": "stderr",
     "output_type": "stream",
     "text": [
      "100%|████████████████████████████████████████████████████████████████████████████| 6443/6443 [00:02<00:00, 2938.89it/s]\n"
     ]
    },
    {
     "name": "stdout",
     "output_type": "stream",
     "text": [
      "230714_H9DHB_Gastr_noBMP4_SOX2_TFAP2c_010 - Stitched\n",
      "Generating gastruloid label\n",
      "Generating cytoplasmic regions\n",
      "Quantifying gastruloids\n"
     ]
    },
    {
     "name": "stderr",
     "output_type": "stream",
     "text": [
      "100%|████████████████████████████████████████████████████████████████████████████████████| 1/1 [00:01<00:00,  1.09s/it]\n"
     ]
    },
    {
     "name": "stdout",
     "output_type": "stream",
     "text": [
      "Quantifying nuclei\n"
     ]
    },
    {
     "name": "stderr",
     "output_type": "stream",
     "text": [
      "100%|████████████████████████████████████████████████████████████████████████████| 6486/6486 [00:02<00:00, 3172.62it/s]\n"
     ]
    },
    {
     "name": "stdout",
     "output_type": "stream",
     "text": [
      "Quantifying cytoplasm\n"
     ]
    },
    {
     "name": "stderr",
     "output_type": "stream",
     "text": [
      "100%|████████████████████████████████████████████████████████████████████████████| 6486/6486 [00:02<00:00, 2909.42it/s]\n"
     ]
    },
    {
     "name": "stdout",
     "output_type": "stream",
     "text": [
      "230714_H9DHB_Gastr_noBMP4_SOX2_TFAP2c_011 - Stitched\n",
      "Generating gastruloid label\n",
      "Generating cytoplasmic regions\n",
      "Quantifying gastruloids\n"
     ]
    },
    {
     "name": "stderr",
     "output_type": "stream",
     "text": [
      "100%|████████████████████████████████████████████████████████████████████████████████████| 1/1 [00:01<00:00,  1.10s/it]\n"
     ]
    },
    {
     "name": "stdout",
     "output_type": "stream",
     "text": [
      "Quantifying nuclei\n"
     ]
    },
    {
     "name": "stderr",
     "output_type": "stream",
     "text": [
      "100%|████████████████████████████████████████████████████████████████████████████| 6601/6601 [00:02<00:00, 3176.06it/s]\n"
     ]
    },
    {
     "name": "stdout",
     "output_type": "stream",
     "text": [
      "Quantifying cytoplasm\n"
     ]
    },
    {
     "name": "stderr",
     "output_type": "stream",
     "text": [
      "100%|████████████████████████████████████████████████████████████████████████████| 6601/6601 [00:02<00:00, 2959.67it/s]\n"
     ]
    },
    {
     "name": "stdout",
     "output_type": "stream",
     "text": [
      "230714_H9DHB_plv_CDK24C1_Gastr_BMP4_CDX2_Ncad_008 - Stitched\n",
      "Generating gastruloid label\n",
      "Generating cytoplasmic regions\n",
      "Quantifying gastruloids\n"
     ]
    },
    {
     "name": "stderr",
     "output_type": "stream",
     "text": [
      "100%|████████████████████████████████████████████████████████████████████████████████████| 1/1 [00:01<00:00,  1.35s/it]\n"
     ]
    },
    {
     "name": "stdout",
     "output_type": "stream",
     "text": [
      "Quantifying nuclei\n"
     ]
    },
    {
     "name": "stderr",
     "output_type": "stream",
     "text": [
      "100%|████████████████████████████████████████████████████████████████████████████| 3506/3506 [00:01<00:00, 3057.61it/s]\n"
     ]
    },
    {
     "name": "stdout",
     "output_type": "stream",
     "text": [
      "Quantifying cytoplasm\n"
     ]
    },
    {
     "name": "stderr",
     "output_type": "stream",
     "text": [
      "100%|████████████████████████████████████████████████████████████████████████████| 3506/3506 [00:01<00:00, 2494.37it/s]\n"
     ]
    },
    {
     "name": "stdout",
     "output_type": "stream",
     "text": [
      "230714_H9DHB_plv_CDK24C1_Gastr_BMP4_CDX2_Ncad_009 - Stitched\n",
      "Generating gastruloid label\n",
      "Generating cytoplasmic regions\n",
      "Quantifying gastruloids\n"
     ]
    },
    {
     "name": "stderr",
     "output_type": "stream",
     "text": [
      "100%|████████████████████████████████████████████████████████████████████████████████████| 1/1 [00:01<00:00,  1.25s/it]\n"
     ]
    },
    {
     "name": "stdout",
     "output_type": "stream",
     "text": [
      "Quantifying nuclei\n"
     ]
    },
    {
     "name": "stderr",
     "output_type": "stream",
     "text": [
      "100%|████████████████████████████████████████████████████████████████████████████| 3110/3110 [00:01<00:00, 3071.03it/s]\n"
     ]
    },
    {
     "name": "stdout",
     "output_type": "stream",
     "text": [
      "Quantifying cytoplasm\n"
     ]
    },
    {
     "name": "stderr",
     "output_type": "stream",
     "text": [
      "100%|████████████████████████████████████████████████████████████████████████████| 3110/3110 [00:01<00:00, 2453.44it/s]\n"
     ]
    },
    {
     "name": "stdout",
     "output_type": "stream",
     "text": [
      "230714_H9DHB_plv_CDK24C1_Gastr_BMP4_CDX2_Ncad_010 - Stitched\n",
      "Generating gastruloid label\n",
      "Generating cytoplasmic regions\n",
      "Quantifying gastruloids\n"
     ]
    },
    {
     "name": "stderr",
     "output_type": "stream",
     "text": [
      "100%|████████████████████████████████████████████████████████████████████████████████████| 1/1 [00:01<00:00,  1.14s/it]\n"
     ]
    },
    {
     "name": "stdout",
     "output_type": "stream",
     "text": [
      "Quantifying nuclei\n"
     ]
    },
    {
     "name": "stderr",
     "output_type": "stream",
     "text": [
      "100%|████████████████████████████████████████████████████████████████████████████| 2941/2941 [00:00<00:00, 3036.02it/s]\n"
     ]
    },
    {
     "name": "stdout",
     "output_type": "stream",
     "text": [
      "Quantifying cytoplasm\n"
     ]
    },
    {
     "name": "stderr",
     "output_type": "stream",
     "text": [
      "100%|████████████████████████████████████████████████████████████████████████████| 2941/2941 [00:01<00:00, 2439.39it/s]\n"
     ]
    },
    {
     "name": "stdout",
     "output_type": "stream",
     "text": [
      "230714_H9DHB_plv_CDK24C1_Gastr_BMP4_CDX2_Ncad_011 - Stitched\n",
      "Generating gastruloid label\n",
      "Generating cytoplasmic regions\n",
      "Quantifying gastruloids\n"
     ]
    },
    {
     "name": "stderr",
     "output_type": "stream",
     "text": [
      "100%|████████████████████████████████████████████████████████████████████████████████████| 1/1 [00:01<00:00,  1.40s/it]\n"
     ]
    },
    {
     "name": "stdout",
     "output_type": "stream",
     "text": [
      "Quantifying nuclei\n"
     ]
    },
    {
     "name": "stderr",
     "output_type": "stream",
     "text": [
      "100%|████████████████████████████████████████████████████████████████████████████| 3846/3846 [00:01<00:00, 2970.80it/s]\n"
     ]
    },
    {
     "name": "stdout",
     "output_type": "stream",
     "text": [
      "Quantifying cytoplasm\n"
     ]
    },
    {
     "name": "stderr",
     "output_type": "stream",
     "text": [
      "100%|████████████████████████████████████████████████████████████████████████████| 3846/3846 [00:01<00:00, 2496.55it/s]\n"
     ]
    },
    {
     "name": "stdout",
     "output_type": "stream",
     "text": [
      "230714_H9DHB_plv_CDK24C1_Gastr_BMP4_CDX2_Ncad_012 - Stitched\n",
      "Generating gastruloid label\n",
      "Generating cytoplasmic regions\n",
      "Quantifying gastruloids\n"
     ]
    },
    {
     "name": "stderr",
     "output_type": "stream",
     "text": [
      "100%|████████████████████████████████████████████████████████████████████████████████████| 1/1 [00:01<00:00,  1.34s/it]\n"
     ]
    },
    {
     "name": "stdout",
     "output_type": "stream",
     "text": [
      "Quantifying nuclei\n"
     ]
    },
    {
     "name": "stderr",
     "output_type": "stream",
     "text": [
      "100%|████████████████████████████████████████████████████████████████████████████| 4088/4088 [00:01<00:00, 2974.01it/s]\n"
     ]
    },
    {
     "name": "stdout",
     "output_type": "stream",
     "text": [
      "Quantifying cytoplasm\n"
     ]
    },
    {
     "name": "stderr",
     "output_type": "stream",
     "text": [
      "100%|████████████████████████████████████████████████████████████████████████████| 4088/4088 [00:01<00:00, 2494.97it/s]\n"
     ]
    },
    {
     "name": "stdout",
     "output_type": "stream",
     "text": [
      "230714_H9DHB_plv_CDK24C1_Gastr_noBMP4_CDX2_Ncad_013 - Stitched\n",
      "Generating gastruloid label\n",
      "Generating cytoplasmic regions\n",
      "Quantifying gastruloids\n"
     ]
    },
    {
     "name": "stderr",
     "output_type": "stream",
     "text": [
      "100%|████████████████████████████████████████████████████████████████████████████████████| 1/1 [00:01<00:00,  1.12s/it]\n"
     ]
    },
    {
     "name": "stdout",
     "output_type": "stream",
     "text": [
      "Quantifying nuclei\n"
     ]
    },
    {
     "name": "stderr",
     "output_type": "stream",
     "text": [
      "100%|████████████████████████████████████████████████████████████████████████████| 4942/4942 [00:01<00:00, 3168.92it/s]\n"
     ]
    },
    {
     "name": "stdout",
     "output_type": "stream",
     "text": [
      "Quantifying cytoplasm\n"
     ]
    },
    {
     "name": "stderr",
     "output_type": "stream",
     "text": [
      "100%|████████████████████████████████████████████████████████████████████████████| 4942/4942 [00:01<00:00, 2656.38it/s]\n"
     ]
    },
    {
     "name": "stdout",
     "output_type": "stream",
     "text": [
      "230714_H9DHB_plv_CDK24C8_Gastr_BMP4_CDX2_Ncad_014 - Stitched\n",
      "Generating gastruloid label\n",
      "Generating cytoplasmic regions\n",
      "Quantifying gastruloids\n"
     ]
    },
    {
     "name": "stderr",
     "output_type": "stream",
     "text": [
      "100%|████████████████████████████████████████████████████████████████████████████████████| 1/1 [00:01<00:00,  1.11s/it]\n"
     ]
    },
    {
     "name": "stdout",
     "output_type": "stream",
     "text": [
      "Quantifying nuclei\n"
     ]
    },
    {
     "name": "stderr",
     "output_type": "stream",
     "text": [
      "100%|████████████████████████████████████████████████████████████████████████████| 3133/3133 [00:00<00:00, 3133.97it/s]\n"
     ]
    },
    {
     "name": "stdout",
     "output_type": "stream",
     "text": [
      "Quantifying cytoplasm\n"
     ]
    },
    {
     "name": "stderr",
     "output_type": "stream",
     "text": [
      "100%|████████████████████████████████████████████████████████████████████████████| 3133/3133 [00:01<00:00, 2564.62it/s]\n"
     ]
    },
    {
     "name": "stdout",
     "output_type": "stream",
     "text": [
      "230714_H9DHB_plv_CDK24C8_Gastr_BMP4_CDX2_Ncad_015 - Stitched\n",
      "Generating gastruloid label\n",
      "Generating cytoplasmic regions\n",
      "Quantifying gastruloids\n"
     ]
    },
    {
     "name": "stderr",
     "output_type": "stream",
     "text": [
      "100%|████████████████████████████████████████████████████████████████████████████████████| 1/1 [00:01<00:00,  1.34s/it]\n"
     ]
    },
    {
     "name": "stdout",
     "output_type": "stream",
     "text": [
      "Quantifying nuclei\n"
     ]
    },
    {
     "name": "stderr",
     "output_type": "stream",
     "text": [
      "100%|████████████████████████████████████████████████████████████████████████████| 3683/3683 [00:01<00:00, 2952.03it/s]\n"
     ]
    },
    {
     "name": "stdout",
     "output_type": "stream",
     "text": [
      "Quantifying cytoplasm\n"
     ]
    },
    {
     "name": "stderr",
     "output_type": "stream",
     "text": [
      "100%|████████████████████████████████████████████████████████████████████████████| 3683/3683 [00:01<00:00, 2433.38it/s]\n"
     ]
    },
    {
     "name": "stdout",
     "output_type": "stream",
     "text": [
      "230714_H9DHB_plv_CDK24C8_Gastr_BMP4_CDX2_Ncad_016 - Stitched\n",
      "Generating gastruloid label\n",
      "Generating cytoplasmic regions\n",
      "Quantifying gastruloids\n"
     ]
    },
    {
     "name": "stderr",
     "output_type": "stream",
     "text": [
      "100%|████████████████████████████████████████████████████████████████████████████████████| 1/1 [00:01<00:00,  1.32s/it]\n"
     ]
    },
    {
     "name": "stdout",
     "output_type": "stream",
     "text": [
      "Quantifying nuclei\n"
     ]
    },
    {
     "name": "stderr",
     "output_type": "stream",
     "text": [
      "100%|████████████████████████████████████████████████████████████████████████████| 3572/3572 [00:01<00:00, 3015.27it/s]\n"
     ]
    },
    {
     "name": "stdout",
     "output_type": "stream",
     "text": [
      "Quantifying cytoplasm\n"
     ]
    },
    {
     "name": "stderr",
     "output_type": "stream",
     "text": [
      "100%|████████████████████████████████████████████████████████████████████████████| 3572/3572 [00:01<00:00, 2493.44it/s]\n"
     ]
    },
    {
     "name": "stdout",
     "output_type": "stream",
     "text": [
      "230714_H9DHB_plv_CDK24C8_Gastr_BMP4_CDX2_Ncad_017 - Stitched\n",
      "Generating gastruloid label\n",
      "Generating cytoplasmic regions\n",
      "Quantifying gastruloids\n"
     ]
    },
    {
     "name": "stderr",
     "output_type": "stream",
     "text": [
      "100%|████████████████████████████████████████████████████████████████████████████████████| 1/1 [00:01<00:00,  1.13s/it]\n"
     ]
    },
    {
     "name": "stdout",
     "output_type": "stream",
     "text": [
      "Quantifying nuclei\n"
     ]
    },
    {
     "name": "stderr",
     "output_type": "stream",
     "text": [
      "100%|████████████████████████████████████████████████████████████████████████████| 3912/3912 [00:01<00:00, 2940.05it/s]\n"
     ]
    },
    {
     "name": "stdout",
     "output_type": "stream",
     "text": [
      "Quantifying cytoplasm\n"
     ]
    },
    {
     "name": "stderr",
     "output_type": "stream",
     "text": [
      "100%|████████████████████████████████████████████████████████████████████████████| 3912/3912 [00:01<00:00, 2571.09it/s]\n"
     ]
    },
    {
     "name": "stdout",
     "output_type": "stream",
     "text": [
      "230714_H9DHB_plv_CDK24C8_Gastr_BMP4_CDX2_Ncad_018 - Stitched\n",
      "Generating gastruloid label\n",
      "Generating cytoplasmic regions\n",
      "Quantifying gastruloids\n"
     ]
    },
    {
     "name": "stderr",
     "output_type": "stream",
     "text": [
      "100%|████████████████████████████████████████████████████████████████████████████████████| 1/1 [00:01<00:00,  1.19s/it]\n"
     ]
    },
    {
     "name": "stdout",
     "output_type": "stream",
     "text": [
      "Quantifying nuclei\n"
     ]
    },
    {
     "name": "stderr",
     "output_type": "stream",
     "text": [
      "100%|████████████████████████████████████████████████████████████████████████████| 3432/3432 [00:01<00:00, 3006.18it/s]\n"
     ]
    },
    {
     "name": "stdout",
     "output_type": "stream",
     "text": [
      "Quantifying cytoplasm\n"
     ]
    },
    {
     "name": "stderr",
     "output_type": "stream",
     "text": [
      "100%|████████████████████████████████████████████████████████████████████████████| 3432/3432 [00:01<00:00, 2475.17it/s]\n"
     ]
    },
    {
     "name": "stdout",
     "output_type": "stream",
     "text": [
      "230714_H9DHB_plv_CDK24C8_Gastr_BMP4_CDX2_Ncad_019 - Stitched\n",
      "Generating gastruloid label\n",
      "Generating cytoplasmic regions\n",
      "Quantifying gastruloids\n"
     ]
    },
    {
     "name": "stderr",
     "output_type": "stream",
     "text": [
      "100%|████████████████████████████████████████████████████████████████████████████████████| 1/1 [00:01<00:00,  1.32s/it]\n"
     ]
    },
    {
     "name": "stdout",
     "output_type": "stream",
     "text": [
      "Quantifying nuclei\n"
     ]
    },
    {
     "name": "stderr",
     "output_type": "stream",
     "text": [
      "100%|████████████████████████████████████████████████████████████████████████████| 3455/3455 [00:01<00:00, 3058.47it/s]\n"
     ]
    },
    {
     "name": "stdout",
     "output_type": "stream",
     "text": [
      "Quantifying cytoplasm\n"
     ]
    },
    {
     "name": "stderr",
     "output_type": "stream",
     "text": [
      "100%|████████████████████████████████████████████████████████████████████████████| 3455/3455 [00:01<00:00, 2440.72it/s]\n"
     ]
    },
    {
     "name": "stdout",
     "output_type": "stream",
     "text": [
      "230714_H9DHB_plv_CDK24C8_Gastr_BMP4_CDX2_Ncad_020 - Stitched\n",
      "Generating gastruloid label\n",
      "Generating cytoplasmic regions\n",
      "Quantifying gastruloids\n"
     ]
    },
    {
     "name": "stderr",
     "output_type": "stream",
     "text": [
      "100%|████████████████████████████████████████████████████████████████████████████████████| 1/1 [00:01<00:00,  1.21s/it]\n"
     ]
    },
    {
     "name": "stdout",
     "output_type": "stream",
     "text": [
      "Quantifying nuclei\n"
     ]
    },
    {
     "name": "stderr",
     "output_type": "stream",
     "text": [
      "100%|████████████████████████████████████████████████████████████████████████████| 3644/3644 [00:01<00:00, 2937.25it/s]\n"
     ]
    },
    {
     "name": "stdout",
     "output_type": "stream",
     "text": [
      "Quantifying cytoplasm\n"
     ]
    },
    {
     "name": "stderr",
     "output_type": "stream",
     "text": [
      "100%|████████████████████████████████████████████████████████████████████████████| 3644/3644 [00:01<00:00, 2431.70it/s]\n"
     ]
    },
    {
     "name": "stdout",
     "output_type": "stream",
     "text": [
      "230714_H9DHB_plv_CDK24C8_Gastr_noBMP4_CDX2_Ncad_021 - Stitched\n",
      "Generating gastruloid label\n",
      "Generating cytoplasmic regions\n",
      "Quantifying gastruloids\n"
     ]
    },
    {
     "name": "stderr",
     "output_type": "stream",
     "text": [
      "100%|████████████████████████████████████████████████████████████████████████████████████| 1/1 [00:01<00:00,  1.37s/it]\n"
     ]
    },
    {
     "name": "stdout",
     "output_type": "stream",
     "text": [
      "Quantifying nuclei\n"
     ]
    },
    {
     "name": "stderr",
     "output_type": "stream",
     "text": [
      "100%|████████████████████████████████████████████████████████████████████████████| 5495/5495 [00:01<00:00, 3013.54it/s]\n"
     ]
    },
    {
     "name": "stdout",
     "output_type": "stream",
     "text": [
      "Quantifying cytoplasm\n"
     ]
    },
    {
     "name": "stderr",
     "output_type": "stream",
     "text": [
      "100%|████████████████████████████████████████████████████████████████████████████| 5495/5495 [00:02<00:00, 2612.50it/s]\n"
     ]
    },
    {
     "name": "stdout",
     "output_type": "stream",
     "text": [
      "230714_H9DHB_plv_CDK2_Gastr_BMP4_CDX2_Ncad_006 - Stitched\n",
      "Generating gastruloid label\n",
      "Generating cytoplasmic regions\n",
      "Quantifying gastruloids\n"
     ]
    },
    {
     "name": "stderr",
     "output_type": "stream",
     "text": [
      "100%|████████████████████████████████████████████████████████████████████████████████████| 1/1 [00:01<00:00,  1.53s/it]\n"
     ]
    },
    {
     "name": "stdout",
     "output_type": "stream",
     "text": [
      "Quantifying nuclei\n"
     ]
    },
    {
     "name": "stderr",
     "output_type": "stream",
     "text": [
      "100%|████████████████████████████████████████████████████████████████████████████| 4610/4610 [00:01<00:00, 2834.31it/s]\n"
     ]
    },
    {
     "name": "stdout",
     "output_type": "stream",
     "text": [
      "Quantifying cytoplasm\n"
     ]
    },
    {
     "name": "stderr",
     "output_type": "stream",
     "text": [
      "100%|████████████████████████████████████████████████████████████████████████████| 4610/4610 [00:01<00:00, 2377.02it/s]\n"
     ]
    },
    {
     "name": "stdout",
     "output_type": "stream",
     "text": [
      "230714_H9DHB_plv_CDK2_Gastr_noBMP4_CDX2_Ncad_007 - Stitched\n",
      "Generating gastruloid label\n",
      "Generating cytoplasmic regions\n",
      "Quantifying gastruloids\n"
     ]
    },
    {
     "name": "stderr",
     "output_type": "stream",
     "text": [
      "100%|████████████████████████████████████████████████████████████████████████████████████| 1/1 [00:01<00:00,  1.36s/it]\n"
     ]
    },
    {
     "name": "stdout",
     "output_type": "stream",
     "text": [
      "Quantifying nuclei\n"
     ]
    },
    {
     "name": "stderr",
     "output_type": "stream",
     "text": [
      "100%|████████████████████████████████████████████████████████████████████████████| 7056/7056 [00:02<00:00, 2896.26it/s]\n"
     ]
    },
    {
     "name": "stdout",
     "output_type": "stream",
     "text": [
      "Quantifying cytoplasm\n"
     ]
    },
    {
     "name": "stderr",
     "output_type": "stream",
     "text": [
      "100%|████████████████████████████████████████████████████████████████████████████| 7056/7056 [00:02<00:00, 2726.22it/s]\n"
     ]
    },
    {
     "name": "stdout",
     "output_type": "stream",
     "text": [
      "230714_H9DHB_plv_Gastr_BMP4_CDX2_Ncad_001 - Stitched\n",
      "Generating gastruloid label\n",
      "Generating cytoplasmic regions\n",
      "Quantifying gastruloids\n"
     ]
    },
    {
     "name": "stderr",
     "output_type": "stream",
     "text": [
      "100%|████████████████████████████████████████████████████████████████████████████████████| 1/1 [00:01<00:00,  1.31s/it]\n"
     ]
    },
    {
     "name": "stdout",
     "output_type": "stream",
     "text": [
      "Quantifying nuclei\n"
     ]
    },
    {
     "name": "stderr",
     "output_type": "stream",
     "text": [
      "100%|████████████████████████████████████████████████████████████████████████████| 3552/3552 [00:01<00:00, 3158.31it/s]\n"
     ]
    },
    {
     "name": "stdout",
     "output_type": "stream",
     "text": [
      "Quantifying cytoplasm\n"
     ]
    },
    {
     "name": "stderr",
     "output_type": "stream",
     "text": [
      "100%|████████████████████████████████████████████████████████████████████████████| 3552/3552 [00:01<00:00, 2595.39it/s]\n"
     ]
    },
    {
     "name": "stdout",
     "output_type": "stream",
     "text": [
      "230714_H9DHB_plv_Gastr_BMP4_CDX2_Ncad_002 - Stitched\n",
      "Generating gastruloid label\n",
      "Generating cytoplasmic regions\n",
      "Quantifying gastruloids\n"
     ]
    },
    {
     "name": "stderr",
     "output_type": "stream",
     "text": [
      "100%|████████████████████████████████████████████████████████████████████████████████████| 1/1 [00:01<00:00,  1.22s/it]\n"
     ]
    },
    {
     "name": "stdout",
     "output_type": "stream",
     "text": [
      "Quantifying nuclei\n"
     ]
    },
    {
     "name": "stderr",
     "output_type": "stream",
     "text": [
      "100%|████████████████████████████████████████████████████████████████████████████| 3693/3693 [00:01<00:00, 3099.11it/s]\n"
     ]
    },
    {
     "name": "stdout",
     "output_type": "stream",
     "text": [
      "Quantifying cytoplasm\n"
     ]
    },
    {
     "name": "stderr",
     "output_type": "stream",
     "text": [
      "100%|████████████████████████████████████████████████████████████████████████████| 3693/3693 [00:01<00:00, 2561.82it/s]\n"
     ]
    },
    {
     "name": "stdout",
     "output_type": "stream",
     "text": [
      "230714_H9DHB_plv_Gastr_BMP4_CDX2_Ncad_003 - Stitched\n",
      "Generating gastruloid label\n",
      "Generating cytoplasmic regions\n",
      "Quantifying gastruloids\n"
     ]
    },
    {
     "name": "stderr",
     "output_type": "stream",
     "text": [
      "100%|████████████████████████████████████████████████████████████████████████████████████| 1/1 [00:01<00:00,  1.11s/it]\n"
     ]
    },
    {
     "name": "stdout",
     "output_type": "stream",
     "text": [
      "Quantifying nuclei\n"
     ]
    },
    {
     "name": "stderr",
     "output_type": "stream",
     "text": [
      "100%|████████████████████████████████████████████████████████████████████████████| 2915/2915 [00:00<00:00, 3079.09it/s]\n"
     ]
    },
    {
     "name": "stdout",
     "output_type": "stream",
     "text": [
      "Quantifying cytoplasm\n"
     ]
    },
    {
     "name": "stderr",
     "output_type": "stream",
     "text": [
      "100%|████████████████████████████████████████████████████████████████████████████| 2915/2915 [00:01<00:00, 2427.89it/s]\n"
     ]
    },
    {
     "name": "stdout",
     "output_type": "stream",
     "text": [
      "230714_H9DHB_plv_Gastr_noBMP4_CDX2_Ncad_004 - Stitched\n",
      "Generating gastruloid label\n",
      "Generating cytoplasmic regions\n",
      "Quantifying gastruloids\n"
     ]
    },
    {
     "name": "stderr",
     "output_type": "stream",
     "text": [
      "100%|████████████████████████████████████████████████████████████████████████████████████| 1/1 [00:01<00:00,  1.20s/it]\n"
     ]
    },
    {
     "name": "stdout",
     "output_type": "stream",
     "text": [
      "Quantifying nuclei\n"
     ]
    },
    {
     "name": "stderr",
     "output_type": "stream",
     "text": [
      "100%|████████████████████████████████████████████████████████████████████████████| 5118/5118 [00:01<00:00, 2961.00it/s]\n"
     ]
    },
    {
     "name": "stdout",
     "output_type": "stream",
     "text": [
      "Quantifying cytoplasm\n"
     ]
    },
    {
     "name": "stderr",
     "output_type": "stream",
     "text": [
      "100%|████████████████████████████████████████████████████████████████████████████| 5118/5118 [00:01<00:00, 2695.93it/s]\n"
     ]
    },
    {
     "name": "stdout",
     "output_type": "stream",
     "text": [
      "Quantification complete\n"
     ]
    }
   ],
   "source": [
    "# Main function--------------------------------------------------------------------------------------------\n",
    "\n",
    "for img_name in img_list:\n",
    "    print(img_name)\n",
    "    \n",
    "    img_nuc_path = os.path.join(base_path, img_name + '_568_cp_masks.tif')\n",
    "    img_nuc = imread(img_nuc_path)\n",
    "    \n",
    "    img_gast_path = os.path.join(base_path, img_name + '_568_gast_mask.tif')\n",
    "    img_gast = imread(img_gast_path)\n",
    "    \n",
    "    img_edt_path = os.path.join(base_path, img_name + '_568_edt_map.tif')\n",
    "    img_edt = imread(img_edt_path)\n",
    "    \n",
    "    img_405_path = os.path.join(base_path, img_name + '_405.tif')\n",
    "    img_405 = imread(img_405_path)\n",
    "    \n",
    "    img_488_path = os.path.join(base_path, img_name + '_488.tif')\n",
    "    img_488 = imread(img_488_path)\n",
    "    \n",
    "    img_568_path = os.path.join(base_path, img_name + '_568.tif')\n",
    "    img_568 = imread(img_568_path)\n",
    "    \n",
    "    img_647_path = os.path.join(base_path, img_name + '_647.tif')\n",
    "    img_647 = imread(img_647_path)\n",
    "    \n",
    "    print('Generating gastruloid label')\n",
    "    img_gast_label = label(img_gast)\n",
    "    img_gast_label_path = os.path.join(base_path, img_name + '_568_gast_label.tif')\n",
    "    imwrite(img_gast_label_path, img_gast_label)\n",
    "    \n",
    "    print('Generating cytoplasmic regions')\n",
    "    img_cyto = cyto_expand(img_nuc, 12)\n",
    "    img_cyto_path = os.path.join(base_path, img_name + '_568_cyto_label.tif')\n",
    "    imwrite(img_cyto_path, img_cyto)\n",
    "    \n",
    "    print('Quantifying gastruloids')\n",
    "    df_gast = roi_quant(img_gast_label, img_gast_label, img_edt, img_405, img_488, img_568, img_647)\n",
    "    df_gast_path = os.path.join(base_path, img_name + '_gastruloid.csv')\n",
    "    df_gast.to_csv(df_gast_path, header = True)\n",
    "    \n",
    "    print('Quantifying nuclei')\n",
    "    df_nuc = roi_quant(img_nuc, img_gast_label, img_edt, img_405, img_488, img_568, img_647)\n",
    "    df_nuc_path = os.path.join(base_path, img_name + '_nuclei.csv')\n",
    "    df_nuc.to_csv(df_nuc_path, header = True)\n",
    "    \n",
    "    print('Quantifying cytoplasm')\n",
    "    df_cyto = roi_quant(img_cyto, img_gast_label, img_edt, img_405, img_488, img_568, img_647)\n",
    "    df_cyto_path = os.path.join(base_path, img_name + '_cyto.csv')\n",
    "    df_cyto.to_csv(df_cyto_path, header = True)\n",
    "    \n",
    "print('Quantification complete')    "
   ]
  },
  {
   "cell_type": "code",
   "execution_count": null,
   "id": "8560236a",
   "metadata": {},
   "outputs": [],
   "source": []
  }
 ],
 "metadata": {
  "kernelspec": {
   "display_name": "Python 3",
   "language": "python",
   "name": "python3"
  },
  "language_info": {
   "codemirror_mode": {
    "name": "ipython",
    "version": 3
   },
   "file_extension": ".py",
   "mimetype": "text/x-python",
   "name": "python",
   "nbconvert_exporter": "python",
   "pygments_lexer": "ipython3",
   "version": "3.9.16"
  }
 },
 "nbformat": 4,
 "nbformat_minor": 5
}
