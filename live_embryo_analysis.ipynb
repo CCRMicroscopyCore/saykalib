{
 "cells": [
  {
   "cell_type": "markdown",
   "id": "dcf7d496-4f5c-4305-bd24-206bcfed526d",
   "metadata": {},
   "source": [
    "# Live embryo analysis for saykalib\n",
    "\n",
    "### 10/01/24\n",
    "### Author: Andy D. Tran, CCR Microscopy Core, LCBG, CCR, NCI"
   ]
  },
  {
   "cell_type": "code",
   "execution_count": 1,
   "id": "b24a8983-2247-4837-bf68-c7100b04cafc",
   "metadata": {},
   "outputs": [],
   "source": [
    "import os \n",
    "import numpy as np\n",
    "import pandas as pd \n",
    "import napari \n",
    "import re \n",
    "\n",
    "from scipy import ndimage as nd \n",
    "from aicsimageio import AICSImage \n",
    "from imaris_ims_file_reader.ims import ims\n",
    "from tifffile import imread, imwrite \n",
    "from skimage.measure import label, regionprops\n",
    "from skimage.segmentation import expand_labels\n",
    "from tqdm import tqdm"
   ]
  },
  {
   "cell_type": "markdown",
   "id": "450c6fa0-a7ab-4df7-90e6-9aa1b846e71f",
   "metadata": {
    "jp-MarkdownHeadingCollapsed": true
   },
   "source": [
    "### Open and prepare images"
   ]
  },
  {
   "cell_type": "code",
   "execution_count": 79,
   "id": "d2101cd2-935f-4fad-a993-446d3e6898a1",
   "metadata": {},
   "outputs": [],
   "source": [
    "base_path = 'Z:/IMAGES/saykalib/2024/Nikon SoRa/09_13'"
   ]
  },
  {
   "cell_type": "code",
   "execution_count": 88,
   "id": "aa21907f-ea7d-40ad-a7a1-1a3c3faa29ac",
   "metadata": {},
   "outputs": [
    {
     "name": "stdout",
     "output_type": "stream",
     "text": [
      "['240913_liDHB_live_day0_mtg.nd2', '240913_liDHB_live_day0_mtg001.nd2', '240913_liDHB_live_day0_mtg_M1.nd2', '240913_liDHB_live_day0_mtg_M2.nd2', '240913_liDHB_live_day0_mtg_M3.nd2', '240913_liDHB_live_day0_mtg_M4.nd2', '240913_liDHB_live_day0_mtg_M5.nd2']\n",
      "7\n"
     ]
    }
   ],
   "source": [
    "tmp_list = os.listdir(base_path)\n",
    "img_list = [] \n",
    "for tmp in tmp_list:\n",
    "    if re.search('mtg', tmp):\n",
    "        img_list.append(tmp)\n",
    "print(img_list)\n",
    "print(len(img_list))"
   ]
  },
  {
   "cell_type": "code",
   "execution_count": 110,
   "id": "02a39cd2-1d3f-4a5c-9e82-e56e9da0a275",
   "metadata": {},
   "outputs": [
    {
     "name": "stdout",
     "output_type": "stream",
     "text": [
      "(78, 2, 32, 2200, 2200)\n",
      "['488nm', '561nm']\n"
     ]
    }
   ],
   "source": [
    "img_name = img_list[6]\n",
    "img_path = os.path.join(base_path, img_name)\n",
    "\n",
    "img_tmp = AICSImage(img_path)\n",
    "print(img_tmp.shape)\n",
    "print(img_tmp.channel_names)"
   ]
  },
  {
   "cell_type": "code",
   "execution_count": 111,
   "id": "9b6e3d54-8549-4b7a-b367-90a02ecf4c09",
   "metadata": {},
   "outputs": [],
   "source": [
    "img = img_tmp.data"
   ]
  },
  {
   "cell_type": "code",
   "execution_count": 112,
   "id": "229be5b8-b31b-424f-8906-d7014256fefb",
   "metadata": {},
   "outputs": [],
   "source": [
    "img_ch1 = img[:, 0, :, :, :]\n",
    "img_ch2 = img[:, 1, :, :, :]"
   ]
  },
  {
   "cell_type": "code",
   "execution_count": 113,
   "id": "fc0eb88f-addb-48d8-84ce-3c05fd00a2ba",
   "metadata": {},
   "outputs": [],
   "source": [
    "viewer = napari.view_image(img_ch2)"
   ]
  },
  {
   "cell_type": "code",
   "execution_count": 114,
   "id": "9a3babbc-24a8-4c9d-aaef-f53d1a68dc8d",
   "metadata": {},
   "outputs": [
    {
     "name": "stdout",
     "output_type": "stream",
     "text": [
      "(78, 32, 2200, 2200)\n"
     ]
    }
   ],
   "source": [
    "print(img_ch2.shape)"
   ]
  },
  {
   "cell_type": "code",
   "execution_count": 115,
   "id": "ad700afc-f246-41a8-a596-06a150514246",
   "metadata": {},
   "outputs": [],
   "source": [
    "output_path = 'Z:/Analysis/[NCI] [LGI] Sergio Ruiz/Bechara Saykali/images/live_embryo/live/Nikon_09_13/position_5'"
   ]
  },
  {
   "cell_type": "code",
   "execution_count": 116,
   "id": "69e6bffb-33a2-4e6a-b8a6-ba582d3947da",
   "metadata": {},
   "outputs": [
    {
     "name": "stderr",
     "output_type": "stream",
     "text": [
      "100%|██████████████████████████████████████████████████████████████████████████████████| 78/78 [03:52<00:00,  2.98s/it]\n"
     ]
    }
   ],
   "source": [
    "time_num = img_ch2.shape[0]\n",
    "for time_index in tqdm(range(time_num)):\n",
    "    img_slice = img_ch2[time_index, :, :, :]\n",
    "    slice_name = 'h2b_t' + str(time_index) + '.tif'\n",
    "    slice_path = os.path.join(output_path, slice_name)\n",
    "    imwrite(slice_path, img_slice)"
   ]
  },
  {
   "cell_type": "markdown",
   "id": "27836ab3-0644-4ca9-b3f5-4bcfb545266f",
   "metadata": {
    "jp-MarkdownHeadingCollapsed": true
   },
   "source": [
    "### Fixed images"
   ]
  },
  {
   "cell_type": "code",
   "execution_count": 8,
   "id": "e0455260-3d4c-4c0f-b9ab-c15a1f1dd772",
   "metadata": {},
   "outputs": [],
   "source": [
    "base_path = 'Z:/IMAGES/saykalib/2024/ZeissLSM880/09_18'\n",
    "output_path = 'Z:/Analysis/[NCI] [LGI] Sergio Ruiz/Bechara Saykali/images/live_embryo/fixed/09_18'"
   ]
  },
  {
   "cell_type": "code",
   "execution_count": 9,
   "id": "72e291c6-2fc2-497c-8344-cdd6834e7076",
   "metadata": {},
   "outputs": [
    {
     "name": "stdout",
     "output_type": "stream",
     "text": [
      "['240918_240908_IDHB_cdx2_sox2_2024_09_18__17_10_23.czi', '240918_240908_IDHB_cdx2_sox2_2_2024_09_18__17_16_09.czi', '240918_240908_IDHB_cdx2_sox2_3_2024_09_18__17_19_34.czi', '240918_240908_IDHB_cdx2_sox2_4_2024_09_18__17_24_18.czi', '240918_240912_IDHB_cdx2_sox2_1_2024_09_18__17_28_48.czi', '240918_240912_IDHB_cdx2_sox2_2_2024_09_18__17_32_56.czi', '240918_240912_IDHB_cdx2_sox2_3_2024_09_18__17_36_25.czi', '240918_240912_IDHB_cdx2_sox2_4_2024_09_18__17_41_05.czi', '240918_240912_IDHB_cdx2_sox2_5_2024_09_18__17_44_28.czi', '240918_240913_IDHB_cdx2_sox2_1_2024_09_18__17_51_05.czi', '240918_240913_IDHB_cdx2_sox2_2_2024_09_18__17_54_53.czi', '240918_240913_IDHB_cdx2_sox2_3_2024_09_18__18_00_27.czi', '240918_240913_IDHB_cdx2_sox2_4_2024_09_18__18_05_56.czi', '240918_240913_IDHB_cdx2_sox2_5_2024_09_18__18_09_58.czi']\n",
      "14\n"
     ]
    }
   ],
   "source": [
    "tmp_list = os.listdir(base_path)\n",
    "img_list = [] \n",
    "for tmp in tmp_list:\n",
    "    if re.search('IDHB', tmp):\n",
    "        img_list.append(tmp)\n",
    "print(img_list)\n",
    "print(len(img_list))"
   ]
  },
  {
   "cell_type": "code",
   "execution_count": 74,
   "id": "c27587c0-c9ef-4db8-a3d9-c3c2a4a7df88",
   "metadata": {},
   "outputs": [
    {
     "name": "stdout",
     "output_type": "stream",
     "text": [
      "(1, 4, 25, 1024, 1024)\n",
      "['Ch1-T1', 'ChS1-T2', 'ChS2-T3', 'Ch2-T4']\n"
     ]
    }
   ],
   "source": [
    "img_name = img_list[13]\n",
    "img_path = os.path.join(base_path, img_name)\n",
    "\n",
    "img_tmp = AICSImage(img_path)\n",
    "print(img_tmp.shape)\n",
    "print(img_tmp.channel_names)"
   ]
  },
  {
   "cell_type": "code",
   "execution_count": 75,
   "id": "65510909-a2fa-47bd-8bbf-9a78240c53d6",
   "metadata": {},
   "outputs": [],
   "source": [
    "img = img_tmp.data\n",
    "\n",
    "img_ch1 = img[:, 0, :, :, :]\n",
    "img_ch2 = img[:, 1, :, :, :]\n",
    "img_ch3 = img[:, 2, :, :, :]\n",
    "img_ch4 = img[:, 3, :, :, :]"
   ]
  },
  {
   "cell_type": "code",
   "execution_count": 76,
   "id": "dafac9f6-5b4e-4baf-b9b5-5fb91c33e9ac",
   "metadata": {},
   "outputs": [],
   "source": [
    "viewer = napari.view_image(img_ch3)"
   ]
  },
  {
   "cell_type": "code",
   "execution_count": 77,
   "id": "0ecc9a9d-6b51-4f79-a3ef-6a6211934eef",
   "metadata": {},
   "outputs": [
    {
     "name": "stdout",
     "output_type": "stream",
     "text": [
      "(1, 25, 1024, 1024)\n"
     ]
    }
   ],
   "source": [
    "viewer.close()\n",
    "print(img_ch3.shape)"
   ]
  },
  {
   "cell_type": "code",
   "execution_count": 78,
   "id": "5bbf8d98-261b-4b5c-b5d2-f1378728eea1",
   "metadata": {},
   "outputs": [],
   "source": [
    "nuc_path = os.path.join(output_path, img_name.replace('.czi', '_nuc.tif'))\n",
    "imwrite(nuc_path, img_ch3)"
   ]
  },
  {
   "cell_type": "markdown",
   "id": "bb39aa30-9708-4757-8438-3494c66aa78a",
   "metadata": {
    "jp-MarkdownHeadingCollapsed": true
   },
   "source": [
    "### Stitch together live masks"
   ]
  },
  {
   "cell_type": "code",
   "execution_count": 19,
   "id": "69cf2e65-15e0-400c-a911-7b67a21141f7",
   "metadata": {},
   "outputs": [],
   "source": [
    "base_path = 'Z:/Analysis/[NCI] [LGI] Sergio Ruiz/Bechara Saykali/images/live_embryo/live/09_12/position_5'"
   ]
  },
  {
   "cell_type": "code",
   "execution_count": 20,
   "id": "6ff318d0-11ae-4c66-97d6-8ff86023870c",
   "metadata": {},
   "outputs": [
    {
     "name": "stdout",
     "output_type": "stream",
     "text": [
      "['h2b_t0_cp_masks.tif', 'h2b_t10_cp_masks.tif', 'h2b_t11_cp_masks.tif', 'h2b_t12_cp_masks.tif', 'h2b_t13_cp_masks.tif', 'h2b_t14_cp_masks.tif', 'h2b_t15_cp_masks.tif', 'h2b_t16_cp_masks.tif', 'h2b_t17_cp_masks.tif', 'h2b_t18_cp_masks.tif', 'h2b_t19_cp_masks.tif', 'h2b_t1_cp_masks.tif', 'h2b_t20_cp_masks.tif', 'h2b_t21_cp_masks.tif', 'h2b_t22_cp_masks.tif', 'h2b_t23_cp_masks.tif', 'h2b_t24_cp_masks.tif', 'h2b_t25_cp_masks.tif', 'h2b_t26_cp_masks.tif', 'h2b_t27_cp_masks.tif', 'h2b_t28_cp_masks.tif', 'h2b_t29_cp_masks.tif', 'h2b_t2_cp_masks.tif', 'h2b_t30_cp_masks.tif', 'h2b_t31_cp_masks.tif', 'h2b_t32_cp_masks.tif', 'h2b_t33_cp_masks.tif', 'h2b_t34_cp_masks.tif', 'h2b_t35_cp_masks.tif', 'h2b_t36_cp_masks.tif', 'h2b_t37_cp_masks.tif', 'h2b_t38_cp_masks.tif', 'h2b_t39_cp_masks.tif', 'h2b_t3_cp_masks.tif', 'h2b_t40_cp_masks.tif', 'h2b_t41_cp_masks.tif', 'h2b_t42_cp_masks.tif', 'h2b_t43_cp_masks.tif', 'h2b_t44_cp_masks.tif', 'h2b_t45_cp_masks.tif', 'h2b_t46_cp_masks.tif', 'h2b_t47_cp_masks.tif', 'h2b_t48_cp_masks.tif', 'h2b_t49_cp_masks.tif', 'h2b_t4_cp_masks.tif', 'h2b_t50_cp_masks.tif', 'h2b_t51_cp_masks.tif', 'h2b_t52_cp_masks.tif', 'h2b_t53_cp_masks.tif', 'h2b_t54_cp_masks.tif', 'h2b_t55_cp_masks.tif', 'h2b_t56_cp_masks.tif', 'h2b_t57_cp_masks.tif', 'h2b_t58_cp_masks.tif', 'h2b_t59_cp_masks.tif', 'h2b_t5_cp_masks.tif', 'h2b_t60_cp_masks.tif', 'h2b_t61_cp_masks.tif', 'h2b_t62_cp_masks.tif', 'h2b_t63_cp_masks.tif', 'h2b_t6_cp_masks.tif', 'h2b_t7_cp_masks.tif', 'h2b_t8_cp_masks.tif', 'h2b_t9_cp_masks.tif']\n",
      "64\n"
     ]
    }
   ],
   "source": [
    "tmp_list = os.listdir(base_path)\n",
    "img_list = []\n",
    "for tmp in tmp_list:\n",
    "    if re.search('_cp_masks.tif', tmp):\n",
    "        img_list.append(tmp)\n",
    "\n",
    "print(img_list)\n",
    "print(len(img_list))"
   ]
  },
  {
   "cell_type": "code",
   "execution_count": 21,
   "id": "16a04918-78a0-4047-9bf7-2683458e4848",
   "metadata": {},
   "outputs": [
    {
     "name": "stdout",
     "output_type": "stream",
     "text": [
      "(28, 1024, 1024)\n"
     ]
    }
   ],
   "source": [
    "img_path = os.path.join(base_path, img_list[0])\n",
    "img_tmp = imread(img_path)\n",
    "print(img_tmp.shape)"
   ]
  },
  {
   "cell_type": "code",
   "execution_count": 22,
   "id": "055bf79c-d63d-4f10-9861-b01d49956d93",
   "metadata": {
    "scrolled": true
   },
   "outputs": [
    {
     "name": "stderr",
     "output_type": "stream",
     "text": [
      "  2%|█▎                                                                                 | 1/64 [00:00<00:09,  6.80it/s]"
     ]
    },
    {
     "name": "stdout",
     "output_type": "stream",
     "text": [
      "(28, 1024, 1024)\n"
     ]
    },
    {
     "name": "stderr",
     "output_type": "stream",
     "text": [
      "  3%|██▌                                                                                | 2/64 [00:01<00:39,  1.56it/s]"
     ]
    },
    {
     "name": "stdout",
     "output_type": "stream",
     "text": [
      "(28, 1024, 1024)\n",
      "(28, 1024, 1024)\n"
     ]
    },
    {
     "name": "stderr",
     "output_type": "stream",
     "text": [
      "  5%|███▉                                                                               | 3/64 [00:02<00:52,  1.16it/s]"
     ]
    },
    {
     "name": "stdout",
     "output_type": "stream",
     "text": [
      "(28, 1024, 1024)\n"
     ]
    },
    {
     "name": "stderr",
     "output_type": "stream",
     "text": [
      "  6%|█████▏                                                                             | 4/64 [00:03<01:00,  1.01s/it]"
     ]
    },
    {
     "name": "stdout",
     "output_type": "stream",
     "text": [
      "(28, 1024, 1024)\n"
     ]
    },
    {
     "name": "stderr",
     "output_type": "stream",
     "text": [
      "  8%|██████▍                                                                            | 5/64 [00:04<01:06,  1.13s/it]"
     ]
    },
    {
     "name": "stdout",
     "output_type": "stream",
     "text": [
      "(28, 1024, 1024)\n"
     ]
    },
    {
     "name": "stderr",
     "output_type": "stream",
     "text": [
      "  9%|███████▊                                                                           | 6/64 [00:06<01:12,  1.24s/it]"
     ]
    },
    {
     "name": "stdout",
     "output_type": "stream",
     "text": [
      "(28, 1024, 1024)\n"
     ]
    },
    {
     "name": "stderr",
     "output_type": "stream",
     "text": [
      " 11%|█████████                                                                          | 7/64 [00:07<01:16,  1.34s/it]"
     ]
    },
    {
     "name": "stdout",
     "output_type": "stream",
     "text": [
      "(28, 1024, 1024)\n"
     ]
    },
    {
     "name": "stderr",
     "output_type": "stream",
     "text": [
      " 12%|██████████▍                                                                        | 8/64 [00:09<01:20,  1.45s/it]"
     ]
    },
    {
     "name": "stdout",
     "output_type": "stream",
     "text": [
      "(28, 1024, 1024)\n"
     ]
    },
    {
     "name": "stderr",
     "output_type": "stream",
     "text": [
      " 14%|███████████▋                                                                       | 9/64 [00:11<01:26,  1.58s/it]"
     ]
    },
    {
     "name": "stdout",
     "output_type": "stream",
     "text": [
      "(28, 1024, 1024)\n"
     ]
    },
    {
     "name": "stderr",
     "output_type": "stream",
     "text": [
      " 16%|████████████▊                                                                     | 10/64 [00:13<01:30,  1.68s/it]"
     ]
    },
    {
     "name": "stdout",
     "output_type": "stream",
     "text": [
      "(28, 1024, 1024)\n"
     ]
    },
    {
     "name": "stderr",
     "output_type": "stream",
     "text": [
      " 17%|██████████████                                                                    | 11/64 [00:15<01:34,  1.78s/it]"
     ]
    },
    {
     "name": "stdout",
     "output_type": "stream",
     "text": [
      "(28, 1024, 1024)\n"
     ]
    },
    {
     "name": "stderr",
     "output_type": "stream",
     "text": [
      " 19%|███████████████▍                                                                  | 12/64 [00:17<01:38,  1.89s/it]"
     ]
    },
    {
     "name": "stdout",
     "output_type": "stream",
     "text": [
      "(28, 1024, 1024)\n"
     ]
    },
    {
     "name": "stderr",
     "output_type": "stream",
     "text": [
      " 20%|████████████████▋                                                                 | 13/64 [00:19<01:41,  1.99s/it]"
     ]
    },
    {
     "name": "stdout",
     "output_type": "stream",
     "text": [
      "(28, 1024, 1024)\n"
     ]
    },
    {
     "name": "stderr",
     "output_type": "stream",
     "text": [
      " 22%|█████████████████▉                                                                | 14/64 [00:21<01:44,  2.09s/it]"
     ]
    },
    {
     "name": "stdout",
     "output_type": "stream",
     "text": [
      "(28, 1024, 1024)\n"
     ]
    },
    {
     "name": "stderr",
     "output_type": "stream",
     "text": [
      " 23%|███████████████████▏                                                              | 15/64 [00:24<01:48,  2.22s/it]"
     ]
    },
    {
     "name": "stdout",
     "output_type": "stream",
     "text": [
      "(28, 1024, 1024)\n"
     ]
    },
    {
     "name": "stderr",
     "output_type": "stream",
     "text": [
      " 25%|████████████████████▌                                                             | 16/64 [00:27<01:50,  2.31s/it]"
     ]
    },
    {
     "name": "stdout",
     "output_type": "stream",
     "text": [
      "(28, 1024, 1024)\n"
     ]
    },
    {
     "name": "stderr",
     "output_type": "stream",
     "text": [
      " 27%|█████████████████████▊                                                            | 17/64 [00:29<01:54,  2.44s/it]"
     ]
    },
    {
     "name": "stdout",
     "output_type": "stream",
     "text": [
      "(28, 1024, 1024)\n"
     ]
    },
    {
     "name": "stderr",
     "output_type": "stream",
     "text": [
      " 28%|███████████████████████                                                           | 18/64 [00:32<01:58,  2.58s/it]"
     ]
    },
    {
     "name": "stdout",
     "output_type": "stream",
     "text": [
      "(28, 1024, 1024)\n"
     ]
    },
    {
     "name": "stderr",
     "output_type": "stream",
     "text": [
      " 30%|████████████████████████▎                                                         | 19/64 [00:35<01:59,  2.66s/it]"
     ]
    },
    {
     "name": "stdout",
     "output_type": "stream",
     "text": [
      "(28, 1024, 1024)\n"
     ]
    },
    {
     "name": "stderr",
     "output_type": "stream",
     "text": [
      " 31%|█████████████████████████▋                                                        | 20/64 [00:38<02:00,  2.75s/it]"
     ]
    },
    {
     "name": "stdout",
     "output_type": "stream",
     "text": [
      "(28, 1024, 1024)\n"
     ]
    },
    {
     "name": "stderr",
     "output_type": "stream",
     "text": [
      " 33%|██████████████████████████▉                                                       | 21/64 [00:41<02:03,  2.87s/it]"
     ]
    },
    {
     "name": "stdout",
     "output_type": "stream",
     "text": [
      "(28, 1024, 1024)\n"
     ]
    },
    {
     "name": "stderr",
     "output_type": "stream",
     "text": [
      " 34%|████████████████████████████▏                                                     | 22/64 [00:44<02:06,  3.01s/it]"
     ]
    },
    {
     "name": "stdout",
     "output_type": "stream",
     "text": [
      "(28, 1024, 1024)\n"
     ]
    },
    {
     "name": "stderr",
     "output_type": "stream",
     "text": [
      " 36%|█████████████████████████████▍                                                    | 23/64 [00:48<02:06,  3.09s/it]"
     ]
    },
    {
     "name": "stdout",
     "output_type": "stream",
     "text": [
      "(28, 1024, 1024)\n"
     ]
    },
    {
     "name": "stderr",
     "output_type": "stream",
     "text": [
      " 38%|██████████████████████████████▊                                                   | 24/64 [00:51<02:07,  3.18s/it]"
     ]
    },
    {
     "name": "stdout",
     "output_type": "stream",
     "text": [
      "(28, 1024, 1024)\n"
     ]
    },
    {
     "name": "stderr",
     "output_type": "stream",
     "text": [
      " 39%|████████████████████████████████                                                  | 25/64 [00:55<02:07,  3.27s/it]"
     ]
    },
    {
     "name": "stdout",
     "output_type": "stream",
     "text": [
      "(28, 1024, 1024)\n"
     ]
    },
    {
     "name": "stderr",
     "output_type": "stream",
     "text": [
      " 41%|█████████████████████████████████▎                                                | 26/64 [00:58<02:07,  3.35s/it]"
     ]
    },
    {
     "name": "stdout",
     "output_type": "stream",
     "text": [
      "(28, 1024, 1024)\n"
     ]
    },
    {
     "name": "stderr",
     "output_type": "stream",
     "text": [
      " 42%|██████████████████████████████████▌                                               | 27/64 [01:02<02:07,  3.45s/it]"
     ]
    },
    {
     "name": "stdout",
     "output_type": "stream",
     "text": [
      "(28, 1024, 1024)\n"
     ]
    },
    {
     "name": "stderr",
     "output_type": "stream",
     "text": [
      " 44%|███████████████████████████████████▉                                              | 28/64 [01:06<02:07,  3.55s/it]"
     ]
    },
    {
     "name": "stdout",
     "output_type": "stream",
     "text": [
      "(28, 1024, 1024)\n"
     ]
    },
    {
     "name": "stderr",
     "output_type": "stream",
     "text": [
      " 45%|█████████████████████████████████████▏                                            | 29/64 [01:09<02:07,  3.64s/it]"
     ]
    },
    {
     "name": "stdout",
     "output_type": "stream",
     "text": [
      "(28, 1024, 1024)\n"
     ]
    },
    {
     "name": "stderr",
     "output_type": "stream",
     "text": [
      " 47%|██████████████████████████████████████▍                                           | 30/64 [01:13<02:07,  3.74s/it]"
     ]
    },
    {
     "name": "stdout",
     "output_type": "stream",
     "text": [
      "(28, 1024, 1024)\n"
     ]
    },
    {
     "name": "stderr",
     "output_type": "stream",
     "text": [
      " 48%|███████████████████████████████████████▋                                          | 31/64 [01:18<02:06,  3.84s/it]"
     ]
    },
    {
     "name": "stdout",
     "output_type": "stream",
     "text": [
      "(28, 1024, 1024)\n"
     ]
    },
    {
     "name": "stderr",
     "output_type": "stream",
     "text": [
      " 50%|█████████████████████████████████████████                                         | 32/64 [01:22<02:06,  3.94s/it]"
     ]
    },
    {
     "name": "stdout",
     "output_type": "stream",
     "text": [
      "(28, 1024, 1024)\n"
     ]
    },
    {
     "name": "stderr",
     "output_type": "stream",
     "text": [
      " 52%|██████████████████████████████████████████▎                                       | 33/64 [01:26<02:05,  4.04s/it]"
     ]
    },
    {
     "name": "stdout",
     "output_type": "stream",
     "text": [
      "(28, 1024, 1024)\n"
     ]
    },
    {
     "name": "stderr",
     "output_type": "stream",
     "text": [
      " 53%|███████████████████████████████████████████▌                                      | 34/64 [01:30<02:04,  4.15s/it]"
     ]
    },
    {
     "name": "stdout",
     "output_type": "stream",
     "text": [
      "(28, 1024, 1024)\n"
     ]
    },
    {
     "name": "stderr",
     "output_type": "stream",
     "text": [
      " 55%|████████████████████████████████████████████▊                                     | 35/64 [01:35<02:03,  4.24s/it]"
     ]
    },
    {
     "name": "stdout",
     "output_type": "stream",
     "text": [
      "(28, 1024, 1024)\n"
     ]
    },
    {
     "name": "stderr",
     "output_type": "stream",
     "text": [
      " 56%|██████████████████████████████████████████████▏                                   | 36/64 [01:39<02:01,  4.35s/it]"
     ]
    },
    {
     "name": "stdout",
     "output_type": "stream",
     "text": [
      "(28, 1024, 1024)\n"
     ]
    },
    {
     "name": "stderr",
     "output_type": "stream",
     "text": [
      " 58%|███████████████████████████████████████████████▍                                  | 37/64 [01:44<02:00,  4.45s/it]"
     ]
    },
    {
     "name": "stdout",
     "output_type": "stream",
     "text": [
      "(28, 1024, 1024)\n"
     ]
    },
    {
     "name": "stderr",
     "output_type": "stream",
     "text": [
      " 59%|████████████████████████████████████████████████▋                                 | 38/64 [01:49<01:58,  4.54s/it]"
     ]
    },
    {
     "name": "stdout",
     "output_type": "stream",
     "text": [
      "(28, 1024, 1024)\n"
     ]
    },
    {
     "name": "stderr",
     "output_type": "stream",
     "text": [
      " 61%|█████████████████████████████████████████████████▉                                | 39/64 [01:54<01:56,  4.67s/it]"
     ]
    },
    {
     "name": "stdout",
     "output_type": "stream",
     "text": [
      "(28, 1024, 1024)\n"
     ]
    },
    {
     "name": "stderr",
     "output_type": "stream",
     "text": [
      " 62%|███████████████████████████████████████████████████▎                              | 40/64 [01:59<01:54,  4.76s/it]"
     ]
    },
    {
     "name": "stdout",
     "output_type": "stream",
     "text": [
      "(28, 1024, 1024)\n"
     ]
    },
    {
     "name": "stderr",
     "output_type": "stream",
     "text": [
      " 64%|████████████████████████████████████████████████████▌                             | 41/64 [02:04<01:51,  4.83s/it]"
     ]
    },
    {
     "name": "stdout",
     "output_type": "stream",
     "text": [
      "(28, 1024, 1024)\n"
     ]
    },
    {
     "name": "stderr",
     "output_type": "stream",
     "text": [
      " 66%|█████████████████████████████████████████████████████▊                            | 42/64 [02:09<01:48,  4.92s/it]"
     ]
    },
    {
     "name": "stdout",
     "output_type": "stream",
     "text": [
      "(28, 1024, 1024)\n"
     ]
    },
    {
     "name": "stderr",
     "output_type": "stream",
     "text": [
      " 67%|███████████████████████████████████████████████████████                           | 43/64 [02:14<01:45,  5.02s/it]"
     ]
    },
    {
     "name": "stdout",
     "output_type": "stream",
     "text": [
      "(28, 1024, 1024)\n"
     ]
    },
    {
     "name": "stderr",
     "output_type": "stream",
     "text": [
      " 69%|████████████████████████████████████████████████████████▍                         | 44/64 [02:20<01:44,  5.21s/it]"
     ]
    },
    {
     "name": "stdout",
     "output_type": "stream",
     "text": [
      "(28, 1024, 1024)\n"
     ]
    },
    {
     "name": "stderr",
     "output_type": "stream",
     "text": [
      " 70%|█████████████████████████████████████████████████████████▋                        | 45/64 [02:25<01:41,  5.32s/it]"
     ]
    },
    {
     "name": "stdout",
     "output_type": "stream",
     "text": [
      "(28, 1024, 1024)\n"
     ]
    },
    {
     "name": "stderr",
     "output_type": "stream",
     "text": [
      " 72%|██████████████████████████████████████████████████████████▉                       | 46/64 [02:31<01:36,  5.38s/it]"
     ]
    },
    {
     "name": "stdout",
     "output_type": "stream",
     "text": [
      "(28, 1024, 1024)\n"
     ]
    },
    {
     "name": "stderr",
     "output_type": "stream",
     "text": [
      " 73%|████████████████████████████████████████████████████████████▏                     | 47/64 [02:37<01:32,  5.46s/it]"
     ]
    },
    {
     "name": "stdout",
     "output_type": "stream",
     "text": [
      "(28, 1024, 1024)\n"
     ]
    },
    {
     "name": "stderr",
     "output_type": "stream",
     "text": [
      " 75%|█████████████████████████████████████████████████████████████▌                    | 48/64 [02:42<01:28,  5.55s/it]"
     ]
    },
    {
     "name": "stdout",
     "output_type": "stream",
     "text": [
      "(28, 1024, 1024)\n"
     ]
    },
    {
     "name": "stderr",
     "output_type": "stream",
     "text": [
      " 77%|██████████████████████████████████████████████████████████████▊                   | 49/64 [02:48<01:24,  5.66s/it]"
     ]
    },
    {
     "name": "stdout",
     "output_type": "stream",
     "text": [
      "(28, 1024, 1024)\n"
     ]
    },
    {
     "name": "stderr",
     "output_type": "stream",
     "text": [
      " 78%|████████████████████████████████████████████████████████████████                  | 50/64 [02:54<01:20,  5.74s/it]"
     ]
    },
    {
     "name": "stdout",
     "output_type": "stream",
     "text": [
      "(28, 1024, 1024)\n"
     ]
    },
    {
     "name": "stderr",
     "output_type": "stream",
     "text": [
      " 80%|█████████████████████████████████████████████████████████████████▎                | 51/64 [03:00<01:16,  5.89s/it]"
     ]
    },
    {
     "name": "stdout",
     "output_type": "stream",
     "text": [
      "(28, 1024, 1024)\n"
     ]
    },
    {
     "name": "stderr",
     "output_type": "stream",
     "text": [
      " 81%|██████████████████████████████████████████████████████████████████▋               | 52/64 [03:07<01:11,  5.97s/it]"
     ]
    },
    {
     "name": "stdout",
     "output_type": "stream",
     "text": [
      "(28, 1024, 1024)\n"
     ]
    },
    {
     "name": "stderr",
     "output_type": "stream",
     "text": [
      " 83%|███████████████████████████████████████████████████████████████████▉              | 53/64 [03:13<01:06,  6.06s/it]"
     ]
    },
    {
     "name": "stdout",
     "output_type": "stream",
     "text": [
      "(28, 1024, 1024)\n"
     ]
    },
    {
     "name": "stderr",
     "output_type": "stream",
     "text": [
      " 84%|█████████████████████████████████████████████████████████████████████▏            | 54/64 [03:19<01:01,  6.15s/it]"
     ]
    },
    {
     "name": "stdout",
     "output_type": "stream",
     "text": [
      "(28, 1024, 1024)\n"
     ]
    },
    {
     "name": "stderr",
     "output_type": "stream",
     "text": [
      " 86%|██████████████████████████████████████████████████████████████████████▍           | 55/64 [03:26<00:56,  6.25s/it]"
     ]
    },
    {
     "name": "stdout",
     "output_type": "stream",
     "text": [
      "(28, 1024, 1024)\n"
     ]
    },
    {
     "name": "stderr",
     "output_type": "stream",
     "text": [
      " 88%|███████████████████████████████████████████████████████████████████████▊          | 56/64 [03:32<00:50,  6.36s/it]"
     ]
    },
    {
     "name": "stdout",
     "output_type": "stream",
     "text": [
      "(28, 1024, 1024)\n"
     ]
    },
    {
     "name": "stderr",
     "output_type": "stream",
     "text": [
      " 89%|█████████████████████████████████████████████████████████████████████████         | 57/64 [03:39<00:45,  6.47s/it]"
     ]
    },
    {
     "name": "stdout",
     "output_type": "stream",
     "text": [
      "(28, 1024, 1024)\n"
     ]
    },
    {
     "name": "stderr",
     "output_type": "stream",
     "text": [
      " 91%|██████████████████████████████████████████████████████████████████████████▎       | 58/64 [03:46<00:39,  6.59s/it]"
     ]
    },
    {
     "name": "stdout",
     "output_type": "stream",
     "text": [
      "(28, 1024, 1024)\n"
     ]
    },
    {
     "name": "stderr",
     "output_type": "stream",
     "text": [
      " 92%|███████████████████████████████████████████████████████████████████████████▌      | 59/64 [03:53<00:33,  6.68s/it]"
     ]
    },
    {
     "name": "stdout",
     "output_type": "stream",
     "text": [
      "(28, 1024, 1024)\n"
     ]
    },
    {
     "name": "stderr",
     "output_type": "stream",
     "text": [
      " 94%|████████████████████████████████████████████████████████████████████████████▉     | 60/64 [04:00<00:27,  6.79s/it]"
     ]
    },
    {
     "name": "stdout",
     "output_type": "stream",
     "text": [
      "(28, 1024, 1024)\n"
     ]
    },
    {
     "name": "stderr",
     "output_type": "stream",
     "text": [
      " 95%|██████████████████████████████████████████████████████████████████████████████▏   | 61/64 [04:07<00:20,  6.88s/it]"
     ]
    },
    {
     "name": "stdout",
     "output_type": "stream",
     "text": [
      "(28, 1024, 1024)\n"
     ]
    },
    {
     "name": "stderr",
     "output_type": "stream",
     "text": [
      " 97%|███████████████████████████████████████████████████████████████████████████████▍  | 62/64 [04:14<00:13,  6.96s/it]"
     ]
    },
    {
     "name": "stdout",
     "output_type": "stream",
     "text": [
      "(28, 1024, 1024)\n"
     ]
    },
    {
     "name": "stderr",
     "output_type": "stream",
     "text": [
      " 98%|████████████████████████████████████████████████████████████████████████████████▋ | 63/64 [04:21<00:07,  7.07s/it]"
     ]
    },
    {
     "name": "stdout",
     "output_type": "stream",
     "text": [
      "(28, 1024, 1024)\n"
     ]
    },
    {
     "name": "stderr",
     "output_type": "stream",
     "text": [
      "100%|██████████████████████████████████████████████████████████████████████████████████| 64/64 [04:29<00:00,  4.21s/it]"
     ]
    },
    {
     "name": "stdout",
     "output_type": "stream",
     "text": [
      "(64, 28, 1024, 1024)\n"
     ]
    },
    {
     "name": "stderr",
     "output_type": "stream",
     "text": [
      "\n"
     ]
    }
   ],
   "source": [
    "mask_img = np.empty([0, 28, 1024, 1024])\n",
    "for img_index in tqdm(range(len(img_list))):\n",
    "    img_name = 'h2b_t' + str(img_index) + '_cp_masks.tif'\n",
    "    img_path = os.path.join(base_path, img_name)\n",
    "    img_tmp = imread(img_path)\n",
    "    print(img_tmp.shape)\n",
    "    img_tmp = np.expand_dims(img_tmp, axis = 0)\n",
    "    mask_img = np.concatenate((mask_img, img_tmp), axis = 0)\n",
    "print(mask_img.shape)"
   ]
  },
  {
   "cell_type": "code",
   "execution_count": 23,
   "id": "5e65087b-b239-418b-bd23-93d4149875e3",
   "metadata": {},
   "outputs": [],
   "source": [
    "viewer = napari.view_image(mask_img)"
   ]
  },
  {
   "cell_type": "code",
   "execution_count": 24,
   "id": "a2cc36b5-3c80-4643-9e41-2556f7d4ab2d",
   "metadata": {},
   "outputs": [],
   "source": [
    "mask_path = os.path.join(base_path, 'h2b_masks.tif')\n",
    "imwrite(mask_path, mask_img)"
   ]
  },
  {
   "cell_type": "markdown",
   "id": "8448c83e-e425-406c-9ae3-05f304a0214b",
   "metadata": {
    "jp-MarkdownHeadingCollapsed": true
   },
   "source": [
    "### Merge broken timelapses"
   ]
  },
  {
   "cell_type": "code",
   "execution_count": 17,
   "id": "68432efb-383f-45a6-9dda-a9c5e1d465c9",
   "metadata": {},
   "outputs": [],
   "source": [
    "tl1_path = 'Z:/Analysis/[NCI] [LGI] Sergio Ruiz/Bechara Saykali/images/live_embryo/live/09_12/240912_iDHB_live_day0_mtg_2024_09_12__15_39_18(4)/240912_iDHB_live_day0_mtg_2024_09_12__15_39_18(4).czi'\n",
    "tl2_path = 'Z:/Analysis/[NCI] [LGI] Sergio Ruiz/Bechara Saykali/images/live_embryo/live/09_13/240913_iDHB_live_day1_mtg_2024_09_13__12_57_25(4)/240913_iDHB_live_day1_mtg_2024_09_13__12_57_25(4).czi'"
   ]
  },
  {
   "cell_type": "code",
   "execution_count": 18,
   "id": "764b64a0-da4b-4a1c-a51d-8e6ae4b31b38",
   "metadata": {},
   "outputs": [
    {
     "name": "stdout",
     "output_type": "stream",
     "text": [
      "(64, 2, 28, 1024, 1024)\n"
     ]
    }
   ],
   "source": [
    "tl1_tmp = AICSImage(tl1_path)\n",
    "print(tl1_tmp.shape)"
   ]
  },
  {
   "cell_type": "code",
   "execution_count": 19,
   "id": "e85013cd-df80-4a58-b47e-8fe67009800c",
   "metadata": {},
   "outputs": [
    {
     "name": "stdout",
     "output_type": "stream",
     "text": [
      "(18, 2, 31, 1024, 1024)\n"
     ]
    }
   ],
   "source": [
    "tl2_tmp = AICSImage(tl2_path)\n",
    "print(tl2_tmp.shape)"
   ]
  },
  {
   "cell_type": "code",
   "execution_count": 20,
   "id": "a4b201db-1464-4cec-98a0-d206de30af44",
   "metadata": {},
   "outputs": [],
   "source": [
    "tl1 = tl1_tmp.data\n",
    "tl2 = tl2_tmp.data"
   ]
  },
  {
   "cell_type": "code",
   "execution_count": 21,
   "id": "8cf7f8ff-6cb1-491d-98f6-043ae3b6e926",
   "metadata": {},
   "outputs": [],
   "source": [
    "tl_pad = np.zeros([64, 2, 1, 1024, 1024])\n",
    "tl_pad = np.uint16(tl_pad)\n",
    "tl_pad2 = np.zeros([64, 2, 2, 1024, 1024])\n",
    "tl_pad2 = np.uint16(tl_pad2)"
   ]
  },
  {
   "cell_type": "code",
   "execution_count": 22,
   "id": "25479928-df19-47fb-9d32-1ab95b607c72",
   "metadata": {},
   "outputs": [],
   "source": [
    "tl1 = np.concatenate((tl_pad, tl1), axis = 2)"
   ]
  },
  {
   "cell_type": "code",
   "execution_count": 23,
   "id": "202cfd8a-78a2-44e7-868d-5f63ac5543f2",
   "metadata": {},
   "outputs": [],
   "source": [
    "tl1 = np.concatenate((tl1, tl_pad2), axis = 2)"
   ]
  },
  {
   "cell_type": "code",
   "execution_count": 24,
   "id": "d638855e-9b0e-44d9-aa38-dd57cd35a479",
   "metadata": {},
   "outputs": [],
   "source": [
    "tl_merge = np.concatenate((tl1, tl2), axis = 0)"
   ]
  },
  {
   "cell_type": "code",
   "execution_count": 25,
   "id": "597e7922-4d51-40a2-a343-bf8e05bc4a7c",
   "metadata": {},
   "outputs": [],
   "source": [
    "tl_merge = np.uint16(tl_merge)"
   ]
  },
  {
   "cell_type": "code",
   "execution_count": 26,
   "id": "23a17c67-d2e9-4894-b64c-fb4bf54b9a79",
   "metadata": {},
   "outputs": [
    {
     "name": "stdout",
     "output_type": "stream",
     "text": [
      "uint16\n"
     ]
    }
   ],
   "source": [
    "print(tl_merge.dtype)"
   ]
  },
  {
   "cell_type": "code",
   "execution_count": 27,
   "id": "4cdfd7b0-58f9-49c5-bfac-69cb5b125c6d",
   "metadata": {},
   "outputs": [
    {
     "name": "stdout",
     "output_type": "stream",
     "text": [
      "(82, 2, 31, 1024, 1024)\n"
     ]
    }
   ],
   "source": [
    "print(tl_merge.shape)"
   ]
  },
  {
   "cell_type": "code",
   "execution_count": 28,
   "id": "87e21064-8891-4d38-a396-639747bdc0b6",
   "metadata": {},
   "outputs": [],
   "source": [
    "output_path = 'Z:/Analysis/[NCI] [LGI] Sergio Ruiz/Bechara Saykali/images/live_embryo/live/09_13/240913_iDHB_live_day1_mtg_2024_09_13__12_57_25(4)/merge'"
   ]
  },
  {
   "cell_type": "code",
   "execution_count": 29,
   "id": "ba4f2387-93f6-4c99-94c7-9a6e30b9eeed",
   "metadata": {},
   "outputs": [
    {
     "name": "stderr",
     "output_type": "stream",
     "text": [
      "100%|██████████████████████████████████████████████████████████████████████████████████| 82/82 [06:01<00:00,  4.41s/it]\n"
     ]
    }
   ],
   "source": [
    "for time_index in tqdm(range(tl_merge.shape[0])):\n",
    "    time_slice = tl_merge[time_index, :, :, :, :]\n",
    "    for ch_index in range(time_slice.shape[0]):\n",
    "        channel_slice = time_slice[ch_index, :, :, :]\n",
    "        for z_index in range(channel_slice.shape[0]):\n",
    "            z_slice = channel_slice[z_index, :, :]\n",
    "\n",
    "            file_name = 'merge_' + str(time_index) + '_' + str(ch_index) + '_' + str(z_index) + '.tif'\n",
    "            file_path = os.path.join(output_path, file_name)\n",
    "            imwrite(file_path, z_slice)"
   ]
  },
  {
   "cell_type": "markdown",
   "id": "e6b6a121-98ac-4c36-8de6-87cfa6799bce",
   "metadata": {},
   "source": [
    "### Cytoplasm extension"
   ]
  },
  {
   "cell_type": "code",
   "execution_count": 2,
   "id": "7f33c339-8b66-4c2c-a497-9384a0f8dc42",
   "metadata": {},
   "outputs": [],
   "source": [
    "# Define functions------------------------------------------------------------------------------\n",
    "\n",
    "def cyto_expand(img, px): \n",
    "    cyto_shell = expand_labels(img, distance = px) \n",
    "    cyto_buffer = expand_labels(img, distance = 2) \n",
    "    cyto = np.subtract(cyto_shell, cyto_buffer) \n",
    "\n",
    "    return cyto \n",
    "\n",
    "def roi_quant(label_img, dhb_img):\n",
    "    df = pd.DataFrame() \n",
    "\n",
    "    nuc_id = []\n",
    "    area = []\n",
    "    intensity = []\n",
    "\n",
    "    roi_props = regionprops(label_img, intensity_image = dhb_img)\n",
    "    for roi in tqdm(range(len(roi_props))):\n",
    "        nuc_id.append(roi_props[roi].label)\n",
    "        area.append(roi_props[roi].area)\n",
    "        intensity.append(roi_props[roi].mean_intensity)\n",
    "\n",
    "    df['nuc_id'] = nuc_id\n",
    "    df['area'] = area\n",
    "    df['intensity'] = intensity\n",
    "\n",
    "    return df"
   ]
  },
  {
   "cell_type": "code",
   "execution_count": 3,
   "id": "21931f67-8d5e-4d72-9e34-5c907c710f95",
   "metadata": {},
   "outputs": [],
   "source": [
    "img_path = '/Volumes/LECIMAGE/Analysis/[NCI] [LGI] Sergio Ruiz/Bechara Saykali/images/live_embryo/live/09_12/240912_iDHB_live_day0_mtg_2024_09_12__15_39_18(2)/merge_0_0_0.ims'\n",
    "output_path = '/Volumes/LECIMAGE/Analysis/[NCI] [LGI] Sergio Ruiz/Bechara Saykali/images/live_embryo/cyto_nuc_output/240912_iDHB_live_day0_mtg_2024_09_12__15_39_18(2)'"
   ]
  },
  {
   "cell_type": "code",
   "execution_count": 4,
   "id": "39c02452-091c-4373-83be-80a2cd1a85e0",
   "metadata": {},
   "outputs": [
    {
     "name": "stdout",
     "output_type": "stream",
     "text": [
      "Opening readonly file: /Volumes/LECIMAGE/Analysis/[NCI] [LGI] Sergio Ruiz/Bechara Saykali/images/live_embryo/live/09_12/240912_iDHB_live_day0_mtg_2024_09_12__15_39_18(2)/merge_0_0_0.ims \n",
      "\n",
      "(82, 3, 31, 1024, 1024)\n",
      "5\n"
     ]
    }
   ],
   "source": [
    "img_tmp = ims(img_path)\n",
    "print(img_tmp.shape)\n",
    "print(img_tmp.ndim)"
   ]
  },
  {
   "cell_type": "code",
   "execution_count": 5,
   "id": "543ec2c1-8c3f-4411-a592-f48c731d6e5a",
   "metadata": {
    "scrolled": true
   },
   "outputs": [],
   "source": [
    "dhb_img = img_tmp[:, 0, :, :, :]\n",
    "#ruby_img = img_tmp[:, 1, :, :, :]\n",
    "nuc_img = img_tmp[:, 2, :, :, :]"
   ]
  },
  {
   "cell_type": "code",
   "execution_count": 6,
   "id": "e6534fcd-de37-483d-a72f-dd8818fb8864",
   "metadata": {},
   "outputs": [
    {
     "name": "stderr",
     "output_type": "stream",
     "text": [
      "Invalid schema for package 'ome-types', please run 'npe2 validate ome-types' to check for manifest errors.\n"
     ]
    }
   ],
   "source": [
    "#viewer = napari.view_image(dhb_img)"
   ]
  },
  {
   "cell_type": "code",
   "execution_count": 7,
   "id": "5ca5d25b-f38c-46de-b2d0-4b4d469479a1",
   "metadata": {
    "scrolled": true
   },
   "outputs": [
    {
     "name": "stdout",
     "output_type": "stream",
     "text": [
      "Time point: 0\n",
      "Z plane: 0\n"
     ]
    },
    {
     "name": "stderr",
     "output_type": "stream",
     "text": [
      "100%|███████████████████████████████████████████| 3/3 [00:00<00:00, 2259.46it/s]\n",
      "100%|███████████████████████████████████████████| 3/3 [00:00<00:00, 1311.68it/s]\n"
     ]
    },
    {
     "name": "stdout",
     "output_type": "stream",
     "text": [
      "Z plane: 1\n"
     ]
    },
    {
     "name": "stderr",
     "output_type": "stream",
     "text": [
      "100%|███████████████████████████████████████████| 3/3 [00:00<00:00, 1064.18it/s]\n",
      "100%|███████████████████████████████████████████| 3/3 [00:00<00:00, 1098.08it/s]\n"
     ]
    },
    {
     "name": "stdout",
     "output_type": "stream",
     "text": [
      "Z plane: 2\n"
     ]
    },
    {
     "name": "stderr",
     "output_type": "stream",
     "text": [
      "100%|███████████████████████████████████████████| 3/3 [00:00<00:00, 1209.20it/s]\n",
      "100%|███████████████████████████████████████████| 3/3 [00:00<00:00, 1090.47it/s]\n"
     ]
    },
    {
     "name": "stdout",
     "output_type": "stream",
     "text": [
      "Z plane: 3\n"
     ]
    },
    {
     "name": "stderr",
     "output_type": "stream",
     "text": [
      "100%|████████████████████████████████████████████| 4/4 [00:00<00:00, 975.14it/s]\n",
      "100%|███████████████████████████████████████████| 4/4 [00:00<00:00, 1137.90it/s]\n"
     ]
    },
    {
     "name": "stdout",
     "output_type": "stream",
     "text": [
      "Z plane: 4\n"
     ]
    },
    {
     "name": "stderr",
     "output_type": "stream",
     "text": [
      "100%|███████████████████████████████████████████| 3/3 [00:00<00:00, 1850.70it/s]\n",
      "100%|███████████████████████████████████████████| 3/3 [00:00<00:00, 2576.88it/s]\n"
     ]
    },
    {
     "name": "stdout",
     "output_type": "stream",
     "text": [
      "Z plane: 5\n"
     ]
    },
    {
     "name": "stderr",
     "output_type": "stream",
     "text": [
      "100%|███████████████████████████████████████████| 6/6 [00:00<00:00, 1211.12it/s]\n",
      "100%|███████████████████████████████████████████| 6/6 [00:00<00:00, 1586.15it/s]\n"
     ]
    },
    {
     "name": "stdout",
     "output_type": "stream",
     "text": [
      "Z plane: 6\n"
     ]
    },
    {
     "name": "stderr",
     "output_type": "stream",
     "text": [
      "100%|████████████████████████████████████████████| 8/8 [00:00<00:00, 895.33it/s]\n",
      "100%|███████████████████████████████████████████| 8/8 [00:00<00:00, 1382.66it/s]\n"
     ]
    },
    {
     "name": "stdout",
     "output_type": "stream",
     "text": [
      "Z plane: 7\n"
     ]
    },
    {
     "name": "stderr",
     "output_type": "stream",
     "text": [
      "100%|█████████████████████████████████████████| 10/10 [00:00<00:00, 1500.16it/s]\n",
      "100%|█████████████████████████████████████████| 10/10 [00:00<00:00, 2683.15it/s]\n"
     ]
    },
    {
     "name": "stdout",
     "output_type": "stream",
     "text": [
      "Z plane: 8\n"
     ]
    },
    {
     "name": "stderr",
     "output_type": "stream",
     "text": [
      "100%|█████████████████████████████████████████| 13/13 [00:00<00:00, 2004.11it/s]\n",
      "100%|█████████████████████████████████████████| 13/13 [00:00<00:00, 3285.49it/s]\n"
     ]
    },
    {
     "name": "stdout",
     "output_type": "stream",
     "text": [
      "Z plane: 9\n"
     ]
    },
    {
     "name": "stderr",
     "output_type": "stream",
     "text": [
      "100%|█████████████████████████████████████████| 16/16 [00:00<00:00, 2429.02it/s]\n",
      "100%|█████████████████████████████████████████| 16/16 [00:00<00:00, 1898.20it/s]\n"
     ]
    },
    {
     "name": "stdout",
     "output_type": "stream",
     "text": [
      "Z plane: 10\n"
     ]
    },
    {
     "name": "stderr",
     "output_type": "stream",
     "text": [
      "100%|█████████████████████████████████████████| 19/19 [00:00<00:00, 1748.28it/s]\n",
      "100%|█████████████████████████████████████████| 19/19 [00:00<00:00, 5336.98it/s]\n"
     ]
    },
    {
     "name": "stdout",
     "output_type": "stream",
     "text": [
      "Z plane: 11\n"
     ]
    },
    {
     "name": "stderr",
     "output_type": "stream",
     "text": [
      "100%|█████████████████████████████████████████| 21/21 [00:00<00:00, 2952.35it/s]\n",
      "100%|█████████████████████████████████████████| 21/21 [00:00<00:00, 3948.20it/s]\n"
     ]
    },
    {
     "name": "stdout",
     "output_type": "stream",
     "text": [
      "Z plane: 12\n"
     ]
    },
    {
     "name": "stderr",
     "output_type": "stream",
     "text": [
      "100%|█████████████████████████████████████████| 24/24 [00:00<00:00, 2535.66it/s]\n",
      "100%|█████████████████████████████████████████| 24/24 [00:00<00:00, 3713.42it/s]\n"
     ]
    },
    {
     "name": "stdout",
     "output_type": "stream",
     "text": [
      "Z plane: 13\n"
     ]
    },
    {
     "name": "stderr",
     "output_type": "stream",
     "text": [
      "100%|█████████████████████████████████████████| 28/28 [00:00<00:00, 2175.23it/s]\n",
      "100%|█████████████████████████████████████████| 28/28 [00:00<00:00, 4941.12it/s]\n"
     ]
    },
    {
     "name": "stdout",
     "output_type": "stream",
     "text": [
      "Z plane: 14\n"
     ]
    },
    {
     "name": "stderr",
     "output_type": "stream",
     "text": [
      "100%|█████████████████████████████████████████| 30/30 [00:00<00:00, 4099.47it/s]\n",
      "100%|█████████████████████████████████████████| 30/30 [00:00<00:00, 4413.66it/s]\n"
     ]
    },
    {
     "name": "stdout",
     "output_type": "stream",
     "text": [
      "Z plane: 15\n"
     ]
    },
    {
     "name": "stderr",
     "output_type": "stream",
     "text": [
      "100%|█████████████████████████████████████████| 34/34 [00:00<00:00, 4692.39it/s]\n",
      "100%|█████████████████████████████████████████| 34/34 [00:00<00:00, 5522.45it/s]\n"
     ]
    },
    {
     "name": "stdout",
     "output_type": "stream",
     "text": [
      "Z plane: 16\n"
     ]
    },
    {
     "name": "stderr",
     "output_type": "stream",
     "text": [
      "100%|█████████████████████████████████████████| 40/40 [00:00<00:00, 3651.98it/s]\n",
      "100%|█████████████████████████████████████████| 40/40 [00:00<00:00, 8257.72it/s]\n"
     ]
    },
    {
     "name": "stdout",
     "output_type": "stream",
     "text": [
      "Z plane: 17\n"
     ]
    },
    {
     "name": "stderr",
     "output_type": "stream",
     "text": [
      "100%|█████████████████████████████████████████| 41/41 [00:00<00:00, 3206.12it/s]\n",
      "100%|█████████████████████████████████████████| 41/41 [00:00<00:00, 8660.68it/s]\n"
     ]
    },
    {
     "name": "stdout",
     "output_type": "stream",
     "text": [
      "Z plane: 18\n"
     ]
    },
    {
     "name": "stderr",
     "output_type": "stream",
     "text": [
      "100%|█████████████████████████████████████████| 41/41 [00:00<00:00, 3435.28it/s]\n",
      "100%|█████████████████████████████████████████| 41/41 [00:00<00:00, 7499.63it/s]\n"
     ]
    },
    {
     "name": "stdout",
     "output_type": "stream",
     "text": [
      "Z plane: 19\n"
     ]
    },
    {
     "name": "stderr",
     "output_type": "stream",
     "text": [
      "100%|█████████████████████████████████████████| 39/39 [00:00<00:00, 3616.18it/s]\n",
      "100%|█████████████████████████████████████████| 39/39 [00:00<00:00, 6750.49it/s]\n"
     ]
    },
    {
     "name": "stdout",
     "output_type": "stream",
     "text": [
      "Z plane: 20\n"
     ]
    },
    {
     "name": "stderr",
     "output_type": "stream",
     "text": [
      "100%|█████████████████████████████████████████| 35/35 [00:00<00:00, 3027.44it/s]\n",
      "100%|█████████████████████████████████████████| 35/35 [00:00<00:00, 5288.59it/s]\n"
     ]
    },
    {
     "name": "stdout",
     "output_type": "stream",
     "text": [
      "Z plane: 21\n"
     ]
    },
    {
     "name": "stderr",
     "output_type": "stream",
     "text": [
      "100%|█████████████████████████████████████████| 30/30 [00:00<00:00, 3453.52it/s]\n",
      "100%|█████████████████████████████████████████| 30/30 [00:00<00:00, 7358.43it/s]\n"
     ]
    },
    {
     "name": "stdout",
     "output_type": "stream",
     "text": [
      "Z plane: 22\n"
     ]
    },
    {
     "name": "stderr",
     "output_type": "stream",
     "text": [
      "100%|█████████████████████████████████████████| 25/25 [00:00<00:00, 2921.88it/s]\n",
      "100%|█████████████████████████████████████████| 25/25 [00:00<00:00, 3958.38it/s]\n"
     ]
    },
    {
     "name": "stdout",
     "output_type": "stream",
     "text": [
      "Z plane: 23\n"
     ]
    },
    {
     "name": "stderr",
     "output_type": "stream",
     "text": [
      "100%|█████████████████████████████████████████| 23/23 [00:00<00:00, 1916.50it/s]\n",
      "100%|█████████████████████████████████████████| 23/23 [00:00<00:00, 4002.20it/s]\n"
     ]
    },
    {
     "name": "stdout",
     "output_type": "stream",
     "text": [
      "Z plane: 24\n"
     ]
    },
    {
     "name": "stderr",
     "output_type": "stream",
     "text": [
      "100%|█████████████████████████████████████████| 18/18 [00:00<00:00, 2221.10it/s]\n",
      "100%|█████████████████████████████████████████| 18/18 [00:00<00:00, 2433.13it/s]\n"
     ]
    },
    {
     "name": "stdout",
     "output_type": "stream",
     "text": [
      "Z plane: 25\n"
     ]
    },
    {
     "name": "stderr",
     "output_type": "stream",
     "text": [
      "100%|███████████████████████████████████████████| 9/9 [00:00<00:00, 2410.98it/s]\n",
      "100%|███████████████████████████████████████████| 9/9 [00:00<00:00, 1459.34it/s]\n"
     ]
    },
    {
     "name": "stdout",
     "output_type": "stream",
     "text": [
      "Z plane: 26\n"
     ]
    },
    {
     "name": "stderr",
     "output_type": "stream",
     "text": [
      "100%|███████████████████████████████████████████| 7/7 [00:00<00:00, 1823.95it/s]\n",
      "100%|███████████████████████████████████████████| 7/7 [00:00<00:00, 2002.19it/s]\n"
     ]
    },
    {
     "name": "stdout",
     "output_type": "stream",
     "text": [
      "Z plane: 27\n"
     ]
    },
    {
     "name": "stderr",
     "output_type": "stream",
     "text": [
      "100%|█████████████████████████████████████████| 10/10 [00:00<00:00, 3647.22it/s]\n",
      "100%|█████████████████████████████████████████| 10/10 [00:00<00:00, 4692.67it/s]\n"
     ]
    },
    {
     "name": "stdout",
     "output_type": "stream",
     "text": [
      "Z plane: 28\n"
     ]
    },
    {
     "name": "stderr",
     "output_type": "stream",
     "text": [
      "100%|███████████████████████████████████████████| 9/9 [00:00<00:00, 2624.72it/s]\n",
      "100%|███████████████████████████████████████████| 9/9 [00:00<00:00, 2868.88it/s]\n"
     ]
    },
    {
     "name": "stdout",
     "output_type": "stream",
     "text": [
      "Z plane: 29\n"
     ]
    },
    {
     "name": "stderr",
     "output_type": "stream",
     "text": [
      "100%|███████████████████████████████████████████| 8/8 [00:00<00:00, 1670.87it/s]\n",
      "100%|███████████████████████████████████████████| 8/8 [00:00<00:00, 1976.35it/s]\n"
     ]
    },
    {
     "name": "stdout",
     "output_type": "stream",
     "text": [
      "Z plane: 30\n"
     ]
    },
    {
     "name": "stderr",
     "output_type": "stream",
     "text": [
      "100%|███████████████████████████████████████████| 8/8 [00:00<00:00, 1613.89it/s]\n",
      "100%|███████████████████████████████████████████| 8/8 [00:00<00:00, 1631.63it/s]\n"
     ]
    },
    {
     "name": "stdout",
     "output_type": "stream",
     "text": [
      "Z plane: 31\n"
     ]
    },
    {
     "name": "stderr",
     "output_type": "stream",
     "text": [
      "100%|███████████████████████████████████████████| 8/8 [00:00<00:00, 1932.86it/s]\n",
      "100%|███████████████████████████████████████████| 8/8 [00:00<00:00, 2559.84it/s]\n"
     ]
    },
    {
     "name": "stdout",
     "output_type": "stream",
     "text": [
      "Time point: 1\n",
      "Z plane: 0\n"
     ]
    },
    {
     "name": "stderr",
     "output_type": "stream",
     "text": [
      "100%|███████████████████████████████████████████| 3/3 [00:00<00:00, 1386.39it/s]\n",
      "100%|████████████████████████████████████████████| 3/3 [00:00<00:00, 657.79it/s]\n"
     ]
    },
    {
     "name": "stdout",
     "output_type": "stream",
     "text": [
      "Z plane: 1\n"
     ]
    },
    {
     "name": "stderr",
     "output_type": "stream",
     "text": [
      "100%|████████████████████████████████████████████| 3/3 [00:00<00:00, 964.87it/s]\n",
      "100%|████████████████████████████████████████████| 3/3 [00:00<00:00, 951.16it/s]\n"
     ]
    },
    {
     "name": "stdout",
     "output_type": "stream",
     "text": [
      "Z plane: 2\n"
     ]
    },
    {
     "name": "stderr",
     "output_type": "stream",
     "text": [
      "100%|███████████████████████████████████████████| 3/3 [00:00<00:00, 1139.86it/s]\n",
      "100%|████████████████████████████████████████████| 3/3 [00:00<00:00, 707.34it/s]\n"
     ]
    },
    {
     "name": "stdout",
     "output_type": "stream",
     "text": [
      "Z plane: 3\n"
     ]
    },
    {
     "name": "stderr",
     "output_type": "stream",
     "text": [
      "100%|████████████████████████████████████████████| 3/3 [00:00<00:00, 957.24it/s]\n",
      "100%|████████████████████████████████████████████| 3/3 [00:00<00:00, 795.73it/s]\n"
     ]
    },
    {
     "name": "stdout",
     "output_type": "stream",
     "text": [
      "Z plane: 4\n"
     ]
    },
    {
     "name": "stderr",
     "output_type": "stream",
     "text": [
      "100%|███████████████████████████████████████████| 4/4 [00:00<00:00, 1136.36it/s]\n",
      "100%|████████████████████████████████████████████| 4/4 [00:00<00:00, 818.96it/s]\n"
     ]
    },
    {
     "name": "stdout",
     "output_type": "stream",
     "text": [
      "Z plane: 5\n"
     ]
    },
    {
     "name": "stderr",
     "output_type": "stream",
     "text": [
      "100%|███████████████████████████████████████████| 6/6 [00:00<00:00, 1443.33it/s]\n",
      "100%|███████████████████████████████████████████| 6/6 [00:00<00:00, 1148.70it/s]\n"
     ]
    },
    {
     "name": "stdout",
     "output_type": "stream",
     "text": [
      "Z plane: 6\n"
     ]
    },
    {
     "name": "stderr",
     "output_type": "stream",
     "text": [
      "100%|███████████████████████████████████████████| 8/8 [00:00<00:00, 1155.38it/s]\n",
      "100%|████████████████████████████████████████████| 8/8 [00:00<00:00, 943.73it/s]\n"
     ]
    },
    {
     "name": "stdout",
     "output_type": "stream",
     "text": [
      "Z plane: 7\n"
     ]
    },
    {
     "name": "stderr",
     "output_type": "stream",
     "text": [
      "100%|█████████████████████████████████████████| 11/11 [00:00<00:00, 2705.21it/s]\n",
      "100%|█████████████████████████████████████████| 11/11 [00:00<00:00, 2635.97it/s]\n"
     ]
    },
    {
     "name": "stdout",
     "output_type": "stream",
     "text": [
      "Z plane: 8\n"
     ]
    },
    {
     "name": "stderr",
     "output_type": "stream",
     "text": [
      "100%|█████████████████████████████████████████| 12/12 [00:00<00:00, 1925.91it/s]\n",
      "100%|█████████████████████████████████████████| 12/12 [00:00<00:00, 2974.68it/s]\n"
     ]
    },
    {
     "name": "stdout",
     "output_type": "stream",
     "text": [
      "Z plane: 9\n"
     ]
    },
    {
     "name": "stderr",
     "output_type": "stream",
     "text": [
      "100%|█████████████████████████████████████████| 17/17 [00:00<00:00, 1806.74it/s]\n",
      "100%|█████████████████████████████████████████| 17/17 [00:00<00:00, 3176.80it/s]\n"
     ]
    },
    {
     "name": "stdout",
     "output_type": "stream",
     "text": [
      "Z plane: 10\n"
     ]
    },
    {
     "name": "stderr",
     "output_type": "stream",
     "text": [
      "100%|█████████████████████████████████████████| 19/19 [00:00<00:00, 2762.09it/s]\n",
      "100%|█████████████████████████████████████████| 19/19 [00:00<00:00, 6078.24it/s]\n"
     ]
    },
    {
     "name": "stdout",
     "output_type": "stream",
     "text": [
      "Z plane: 11\n"
     ]
    },
    {
     "name": "stderr",
     "output_type": "stream",
     "text": [
      "100%|█████████████████████████████████████████| 23/23 [00:00<00:00, 1944.98it/s]\n",
      "100%|█████████████████████████████████████████| 23/23 [00:00<00:00, 4191.75it/s]\n"
     ]
    },
    {
     "name": "stdout",
     "output_type": "stream",
     "text": [
      "Z plane: 12\n"
     ]
    },
    {
     "name": "stderr",
     "output_type": "stream",
     "text": [
      "100%|█████████████████████████████████████████| 25/25 [00:00<00:00, 2224.20it/s]\n",
      "100%|█████████████████████████████████████████| 24/24 [00:00<00:00, 4270.46it/s]\n"
     ]
    },
    {
     "name": "stdout",
     "output_type": "stream",
     "text": [
      "Z plane: 13\n"
     ]
    },
    {
     "name": "stderr",
     "output_type": "stream",
     "text": [
      "100%|█████████████████████████████████████████| 34/34 [00:00<00:00, 3368.28it/s]\n",
      "100%|█████████████████████████████████████████| 29/29 [00:00<00:00, 4747.10it/s]\n"
     ]
    },
    {
     "name": "stdout",
     "output_type": "stream",
     "text": [
      "Z plane: 14\n"
     ]
    },
    {
     "name": "stderr",
     "output_type": "stream",
     "text": [
      "100%|█████████████████████████████████████████| 35/35 [00:00<00:00, 4199.10it/s]\n",
      "100%|█████████████████████████████████████████| 30/30 [00:00<00:00, 7371.36it/s]\n"
     ]
    },
    {
     "name": "stdout",
     "output_type": "stream",
     "text": [
      "Z plane: 15\n"
     ]
    },
    {
     "name": "stderr",
     "output_type": "stream",
     "text": [
      "100%|█████████████████████████████████████████| 36/36 [00:00<00:00, 5165.75it/s]\n",
      "100%|█████████████████████████████████████████| 33/33 [00:00<00:00, 9404.27it/s]\n"
     ]
    },
    {
     "name": "stdout",
     "output_type": "stream",
     "text": [
      "Z plane: 16\n"
     ]
    },
    {
     "name": "stderr",
     "output_type": "stream",
     "text": [
      "100%|█████████████████████████████████████████| 45/45 [00:00<00:00, 5188.40it/s]\n",
      "100%|█████████████████████████████████████████| 43/43 [00:00<00:00, 9172.31it/s]\n"
     ]
    },
    {
     "name": "stdout",
     "output_type": "stream",
     "text": [
      "Z plane: 17\n"
     ]
    },
    {
     "name": "stderr",
     "output_type": "stream",
     "text": [
      "100%|█████████████████████████████████████████| 42/42 [00:00<00:00, 5514.67it/s]\n",
      "100%|█████████████████████████████████████████| 41/41 [00:00<00:00, 8893.59it/s]\n"
     ]
    },
    {
     "name": "stdout",
     "output_type": "stream",
     "text": [
      "Z plane: 18\n"
     ]
    },
    {
     "name": "stderr",
     "output_type": "stream",
     "text": [
      "100%|█████████████████████████████████████████| 41/41 [00:00<00:00, 4940.86it/s]\n",
      "100%|█████████████████████████████████████████| 40/40 [00:00<00:00, 6863.53it/s]\n"
     ]
    },
    {
     "name": "stdout",
     "output_type": "stream",
     "text": [
      "Z plane: 19\n"
     ]
    },
    {
     "name": "stderr",
     "output_type": "stream",
     "text": [
      "100%|█████████████████████████████████████████| 39/39 [00:00<00:00, 3922.73it/s]\n",
      "100%|████████████████████████████████████████| 39/39 [00:00<00:00, 11310.87it/s]\n"
     ]
    },
    {
     "name": "stdout",
     "output_type": "stream",
     "text": [
      "Z plane: 20\n"
     ]
    },
    {
     "name": "stderr",
     "output_type": "stream",
     "text": [
      "100%|█████████████████████████████████████████| 36/36 [00:00<00:00, 4058.68it/s]\n",
      "100%|█████████████████████████████████████████| 36/36 [00:00<00:00, 6515.70it/s]\n"
     ]
    },
    {
     "name": "stdout",
     "output_type": "stream",
     "text": [
      "Z plane: 21\n"
     ]
    },
    {
     "name": "stderr",
     "output_type": "stream",
     "text": [
      "100%|█████████████████████████████████████████| 32/32 [00:00<00:00, 3654.57it/s]\n",
      "100%|█████████████████████████████████████████| 32/32 [00:00<00:00, 6853.79it/s]\n"
     ]
    },
    {
     "name": "stdout",
     "output_type": "stream",
     "text": [
      "Z plane: 22\n"
     ]
    },
    {
     "name": "stderr",
     "output_type": "stream",
     "text": [
      "100%|█████████████████████████████████████████| 28/28 [00:00<00:00, 4561.68it/s]\n",
      "100%|█████████████████████████████████████████| 28/28 [00:00<00:00, 6956.96it/s]\n"
     ]
    },
    {
     "name": "stdout",
     "output_type": "stream",
     "text": [
      "Z plane: 23\n"
     ]
    },
    {
     "name": "stderr",
     "output_type": "stream",
     "text": [
      "100%|█████████████████████████████████████████| 24/24 [00:00<00:00, 3068.16it/s]\n",
      "100%|█████████████████████████████████████████| 24/24 [00:00<00:00, 5256.02it/s]\n"
     ]
    },
    {
     "name": "stdout",
     "output_type": "stream",
     "text": [
      "Z plane: 24\n"
     ]
    },
    {
     "name": "stderr",
     "output_type": "stream",
     "text": [
      "100%|█████████████████████████████████████████| 19/19 [00:00<00:00, 2726.09it/s]\n",
      "100%|█████████████████████████████████████████| 19/19 [00:00<00:00, 3374.20it/s]\n"
     ]
    },
    {
     "name": "stdout",
     "output_type": "stream",
     "text": [
      "Z plane: 25\n"
     ]
    },
    {
     "name": "stderr",
     "output_type": "stream",
     "text": [
      "100%|███████████████████████████████████████████| 8/8 [00:00<00:00, 2157.56it/s]\n",
      "100%|███████████████████████████████████████████| 8/8 [00:00<00:00, 2776.77it/s]\n"
     ]
    },
    {
     "name": "stdout",
     "output_type": "stream",
     "text": [
      "Z plane: 26\n"
     ]
    },
    {
     "name": "stderr",
     "output_type": "stream",
     "text": [
      "100%|███████████████████████████████████████████| 9/9 [00:00<00:00, 1580.37it/s]\n",
      "100%|███████████████████████████████████████████| 9/9 [00:00<00:00, 2152.15it/s]\n"
     ]
    },
    {
     "name": "stdout",
     "output_type": "stream",
     "text": [
      "Z plane: 27\n"
     ]
    },
    {
     "name": "stderr",
     "output_type": "stream",
     "text": [
      "100%|█████████████████████████████████████████| 10/10 [00:00<00:00, 2016.10it/s]\n",
      "100%|█████████████████████████████████████████| 10/10 [00:00<00:00, 1766.10it/s]\n"
     ]
    },
    {
     "name": "stdout",
     "output_type": "stream",
     "text": [
      "Z plane: 28\n"
     ]
    },
    {
     "name": "stderr",
     "output_type": "stream",
     "text": [
      "100%|█████████████████████████████████████████| 11/11 [00:00<00:00, 2411.78it/s]\n",
      "100%|█████████████████████████████████████████| 11/11 [00:00<00:00, 2422.42it/s]\n"
     ]
    },
    {
     "name": "stdout",
     "output_type": "stream",
     "text": [
      "Z plane: 29\n"
     ]
    },
    {
     "name": "stderr",
     "output_type": "stream",
     "text": [
      "100%|█████████████████████████████████████████| 12/12 [00:00<00:00, 2455.56it/s]\n",
      "100%|█████████████████████████████████████████| 12/12 [00:00<00:00, 2550.37it/s]\n"
     ]
    },
    {
     "name": "stdout",
     "output_type": "stream",
     "text": [
      "Z plane: 30\n"
     ]
    },
    {
     "name": "stderr",
     "output_type": "stream",
     "text": [
      "100%|█████████████████████████████████████████| 11/11 [00:00<00:00, 2280.30it/s]\n",
      "100%|█████████████████████████████████████████| 11/11 [00:00<00:00, 2250.38it/s]\n"
     ]
    },
    {
     "name": "stdout",
     "output_type": "stream",
     "text": [
      "Z plane: 31\n"
     ]
    },
    {
     "name": "stderr",
     "output_type": "stream",
     "text": [
      "100%|█████████████████████████████████████████| 10/10 [00:00<00:00, 1855.64it/s]\n",
      "100%|█████████████████████████████████████████| 10/10 [00:00<00:00, 2317.68it/s]\n"
     ]
    },
    {
     "name": "stdout",
     "output_type": "stream",
     "text": [
      "Time point: 2\n",
      "Z plane: 0\n"
     ]
    },
    {
     "name": "stderr",
     "output_type": "stream",
     "text": [
      "100%|███████████████████████████████████████████| 4/4 [00:00<00:00, 1318.34it/s]\n",
      "100%|████████████████████████████████████████████| 4/4 [00:00<00:00, 994.79it/s]\n"
     ]
    },
    {
     "name": "stdout",
     "output_type": "stream",
     "text": [
      "Z plane: 1\n"
     ]
    },
    {
     "name": "stderr",
     "output_type": "stream",
     "text": [
      "100%|███████████████████████████████████████████| 5/5 [00:00<00:00, 1700.72it/s]\n",
      "100%|███████████████████████████████████████████| 5/5 [00:00<00:00, 1632.91it/s]\n"
     ]
    },
    {
     "name": "stdout",
     "output_type": "stream",
     "text": [
      "Z plane: 2\n"
     ]
    },
    {
     "name": "stderr",
     "output_type": "stream",
     "text": [
      "100%|███████████████████████████████████████████| 3/3 [00:00<00:00, 1028.10it/s]\n",
      "100%|████████████████████████████████████████████| 3/3 [00:00<00:00, 958.48it/s]\n"
     ]
    },
    {
     "name": "stdout",
     "output_type": "stream",
     "text": [
      "Z plane: 3\n"
     ]
    },
    {
     "name": "stderr",
     "output_type": "stream",
     "text": [
      "100%|███████████████████████████████████████████| 3/3 [00:00<00:00, 1219.39it/s]\n",
      "100%|████████████████████████████████████████████| 3/3 [00:00<00:00, 759.10it/s]\n"
     ]
    },
    {
     "name": "stdout",
     "output_type": "stream",
     "text": [
      "Z plane: 4\n"
     ]
    },
    {
     "name": "stderr",
     "output_type": "stream",
     "text": [
      "100%|███████████████████████████████████████████| 5/5 [00:00<00:00, 1061.80it/s]\n",
      "100%|███████████████████████████████████████████| 5/5 [00:00<00:00, 1212.16it/s]\n"
     ]
    },
    {
     "name": "stdout",
     "output_type": "stream",
     "text": [
      "Z plane: 5\n"
     ]
    },
    {
     "name": "stderr",
     "output_type": "stream",
     "text": [
      "100%|███████████████████████████████████████████| 7/7 [00:00<00:00, 1537.82it/s]\n",
      "100%|███████████████████████████████████████████| 7/7 [00:00<00:00, 2606.31it/s]\n"
     ]
    },
    {
     "name": "stdout",
     "output_type": "stream",
     "text": [
      "Z plane: 6\n"
     ]
    },
    {
     "name": "stderr",
     "output_type": "stream",
     "text": [
      "100%|███████████████████████████████████████████| 9/9 [00:00<00:00, 2116.67it/s]\n",
      "100%|███████████████████████████████████████████| 9/9 [00:00<00:00, 1920.27it/s]\n"
     ]
    },
    {
     "name": "stdout",
     "output_type": "stream",
     "text": [
      "Z plane: 7\n"
     ]
    },
    {
     "name": "stderr",
     "output_type": "stream",
     "text": [
      "100%|█████████████████████████████████████████| 11/11 [00:00<00:00, 1365.45it/s]\n",
      "100%|█████████████████████████████████████████| 11/11 [00:00<00:00, 3453.65it/s]\n"
     ]
    },
    {
     "name": "stdout",
     "output_type": "stream",
     "text": [
      "Z plane: 8\n"
     ]
    },
    {
     "name": "stderr",
     "output_type": "stream",
     "text": [
      "100%|█████████████████████████████████████████| 13/13 [00:00<00:00, 2062.56it/s]\n",
      "100%|█████████████████████████████████████████| 13/13 [00:00<00:00, 4232.07it/s]\n"
     ]
    },
    {
     "name": "stdout",
     "output_type": "stream",
     "text": [
      "Z plane: 9\n"
     ]
    },
    {
     "name": "stderr",
     "output_type": "stream",
     "text": [
      "100%|█████████████████████████████████████████| 19/19 [00:00<00:00, 2992.56it/s]\n",
      "100%|█████████████████████████████████████████| 19/19 [00:00<00:00, 4224.09it/s]\n"
     ]
    },
    {
     "name": "stdout",
     "output_type": "stream",
     "text": [
      "Z plane: 10\n"
     ]
    },
    {
     "name": "stderr",
     "output_type": "stream",
     "text": [
      "100%|█████████████████████████████████████████| 21/21 [00:00<00:00, 2372.02it/s]\n",
      "100%|█████████████████████████████████████████| 21/21 [00:00<00:00, 5579.30it/s]\n"
     ]
    },
    {
     "name": "stdout",
     "output_type": "stream",
     "text": [
      "Z plane: 11\n"
     ]
    },
    {
     "name": "stderr",
     "output_type": "stream",
     "text": [
      "100%|█████████████████████████████████████████| 20/20 [00:00<00:00, 2696.43it/s]\n",
      "100%|█████████████████████████████████████████| 20/20 [00:00<00:00, 4062.67it/s]\n"
     ]
    },
    {
     "name": "stdout",
     "output_type": "stream",
     "text": [
      "Z plane: 12\n"
     ]
    },
    {
     "name": "stderr",
     "output_type": "stream",
     "text": [
      "100%|█████████████████████████████████████████| 23/23 [00:00<00:00, 2317.35it/s]\n",
      "100%|█████████████████████████████████████████| 23/23 [00:00<00:00, 5109.86it/s]\n"
     ]
    },
    {
     "name": "stdout",
     "output_type": "stream",
     "text": [
      "Z plane: 13\n"
     ]
    },
    {
     "name": "stderr",
     "output_type": "stream",
     "text": [
      "100%|█████████████████████████████████████████| 27/27 [00:00<00:00, 3118.18it/s]\n",
      "100%|█████████████████████████████████████████| 27/27 [00:00<00:00, 6473.43it/s]\n"
     ]
    },
    {
     "name": "stdout",
     "output_type": "stream",
     "text": [
      "Z plane: 14\n"
     ]
    },
    {
     "name": "stderr",
     "output_type": "stream",
     "text": [
      "100%|█████████████████████████████████████████| 30/30 [00:00<00:00, 4103.35it/s]\n",
      "100%|█████████████████████████████████████████| 30/30 [00:00<00:00, 9118.71it/s]\n"
     ]
    },
    {
     "name": "stdout",
     "output_type": "stream",
     "text": [
      "Z plane: 15\n"
     ]
    },
    {
     "name": "stderr",
     "output_type": "stream",
     "text": [
      "100%|█████████████████████████████████████████| 36/36 [00:00<00:00, 2845.63it/s]\n",
      "100%|█████████████████████████████████████████| 36/36 [00:00<00:00, 7234.68it/s]\n"
     ]
    },
    {
     "name": "stdout",
     "output_type": "stream",
     "text": [
      "Z plane: 16\n"
     ]
    },
    {
     "name": "stderr",
     "output_type": "stream",
     "text": [
      "100%|█████████████████████████████████████████| 43/43 [00:00<00:00, 3939.86it/s]\n",
      "100%|█████████████████████████████████████████| 41/41 [00:00<00:00, 7252.60it/s]\n"
     ]
    },
    {
     "name": "stdout",
     "output_type": "stream",
     "text": [
      "Z plane: 17\n"
     ]
    },
    {
     "name": "stderr",
     "output_type": "stream",
     "text": [
      "100%|█████████████████████████████████████████| 47/47 [00:00<00:00, 4019.09it/s]\n",
      "100%|████████████████████████████████████████| 46/46 [00:00<00:00, 13031.07it/s]\n"
     ]
    },
    {
     "name": "stdout",
     "output_type": "stream",
     "text": [
      "Z plane: 18\n"
     ]
    },
    {
     "name": "stderr",
     "output_type": "stream",
     "text": [
      "100%|█████████████████████████████████████████| 45/45 [00:00<00:00, 5246.67it/s]\n",
      "100%|█████████████████████████████████████████| 45/45 [00:00<00:00, 8396.82it/s]\n"
     ]
    },
    {
     "name": "stdout",
     "output_type": "stream",
     "text": [
      "Z plane: 19\n"
     ]
    },
    {
     "name": "stderr",
     "output_type": "stream",
     "text": [
      "100%|█████████████████████████████████████████| 47/47 [00:00<00:00, 4268.78it/s]\n",
      "100%|████████████████████████████████████████| 44/44 [00:00<00:00, 11171.27it/s]\n"
     ]
    },
    {
     "name": "stdout",
     "output_type": "stream",
     "text": [
      "Z plane: 20\n"
     ]
    },
    {
     "name": "stderr",
     "output_type": "stream",
     "text": [
      "100%|█████████████████████████████████████████| 39/39 [00:00<00:00, 4462.27it/s]\n",
      "100%|█████████████████████████████████████████| 39/39 [00:00<00:00, 6521.72it/s]\n"
     ]
    },
    {
     "name": "stdout",
     "output_type": "stream",
     "text": [
      "Z plane: 21\n"
     ]
    },
    {
     "name": "stderr",
     "output_type": "stream",
     "text": [
      "100%|█████████████████████████████████████████| 36/36 [00:00<00:00, 3316.75it/s]\n",
      "100%|█████████████████████████████████████████| 36/36 [00:00<00:00, 5733.40it/s]\n"
     ]
    },
    {
     "name": "stdout",
     "output_type": "stream",
     "text": [
      "Z plane: 22\n"
     ]
    },
    {
     "name": "stderr",
     "output_type": "stream",
     "text": [
      "100%|█████████████████████████████████████████| 31/31 [00:00<00:00, 2856.59it/s]\n",
      "100%|█████████████████████████████████████████| 31/31 [00:00<00:00, 6917.98it/s]\n"
     ]
    },
    {
     "name": "stdout",
     "output_type": "stream",
     "text": [
      "Z plane: 23\n"
     ]
    },
    {
     "name": "stderr",
     "output_type": "stream",
     "text": [
      "100%|█████████████████████████████████████████| 24/24 [00:00<00:00, 3948.04it/s]\n",
      "100%|█████████████████████████████████████████| 24/24 [00:00<00:00, 5992.58it/s]\n"
     ]
    },
    {
     "name": "stdout",
     "output_type": "stream",
     "text": [
      "Z plane: 24\n"
     ]
    },
    {
     "name": "stderr",
     "output_type": "stream",
     "text": [
      "100%|█████████████████████████████████████████| 18/18 [00:00<00:00, 2327.37it/s]\n",
      "100%|█████████████████████████████████████████| 18/18 [00:00<00:00, 3911.18it/s]\n"
     ]
    },
    {
     "name": "stdout",
     "output_type": "stream",
     "text": [
      "Z plane: 25\n"
     ]
    },
    {
     "name": "stderr",
     "output_type": "stream",
     "text": [
      "100%|█████████████████████████████████████████| 12/12 [00:00<00:00, 2465.18it/s]\n",
      "100%|█████████████████████████████████████████| 12/12 [00:00<00:00, 3080.84it/s]\n"
     ]
    },
    {
     "name": "stdout",
     "output_type": "stream",
     "text": [
      "Z plane: 26\n"
     ]
    },
    {
     "name": "stderr",
     "output_type": "stream",
     "text": [
      "100%|███████████████████████████████████████████| 9/9 [00:00<00:00, 1945.91it/s]\n",
      "100%|███████████████████████████████████████████| 9/9 [00:00<00:00, 2176.60it/s]\n"
     ]
    },
    {
     "name": "stdout",
     "output_type": "stream",
     "text": [
      "Z plane: 27\n"
     ]
    },
    {
     "name": "stderr",
     "output_type": "stream",
     "text": [
      "100%|███████████████████████████████████████████| 8/8 [00:00<00:00, 2060.83it/s]\n",
      "100%|███████████████████████████████████████████| 8/8 [00:00<00:00, 6269.51it/s]\n"
     ]
    },
    {
     "name": "stdout",
     "output_type": "stream",
     "text": [
      "Z plane: 28\n"
     ]
    },
    {
     "name": "stderr",
     "output_type": "stream",
     "text": [
      "100%|█████████████████████████████████████████| 10/10 [00:00<00:00, 2139.51it/s]\n",
      "100%|█████████████████████████████████████████| 10/10 [00:00<00:00, 3092.92it/s]\n"
     ]
    },
    {
     "name": "stdout",
     "output_type": "stream",
     "text": [
      "Z plane: 29\n"
     ]
    },
    {
     "name": "stderr",
     "output_type": "stream",
     "text": [
      "100%|█████████████████████████████████████████| 13/13 [00:00<00:00, 2593.26it/s]\n",
      "100%|█████████████████████████████████████████| 13/13 [00:00<00:00, 3033.94it/s]\n"
     ]
    },
    {
     "name": "stdout",
     "output_type": "stream",
     "text": [
      "Z plane: 30\n"
     ]
    },
    {
     "name": "stderr",
     "output_type": "stream",
     "text": [
      "100%|█████████████████████████████████████████| 12/12 [00:00<00:00, 2585.62it/s]\n",
      "100%|█████████████████████████████████████████| 12/12 [00:00<00:00, 3231.77it/s]\n"
     ]
    },
    {
     "name": "stdout",
     "output_type": "stream",
     "text": [
      "Z plane: 31\n"
     ]
    },
    {
     "name": "stderr",
     "output_type": "stream",
     "text": [
      "100%|█████████████████████████████████████████| 10/10 [00:00<00:00, 2811.57it/s]\n",
      "100%|███████████████████████████████████████████| 9/9 [00:00<00:00, 2304.98it/s]\n"
     ]
    },
    {
     "name": "stdout",
     "output_type": "stream",
     "text": [
      "Time point: 3\n",
      "Z plane: 0\n"
     ]
    },
    {
     "name": "stderr",
     "output_type": "stream",
     "text": [
      "100%|████████████████████████████████████████████| 3/3 [00:00<00:00, 953.97it/s]\n",
      "100%|████████████████████████████████████████████| 3/3 [00:00<00:00, 880.29it/s]\n"
     ]
    },
    {
     "name": "stdout",
     "output_type": "stream",
     "text": [
      "Z plane: 1\n"
     ]
    },
    {
     "name": "stderr",
     "output_type": "stream",
     "text": [
      "100%|███████████████████████████████████████████| 5/5 [00:00<00:00, 1685.81it/s]\n",
      "100%|███████████████████████████████████████████| 5/5 [00:00<00:00, 1103.76it/s]\n"
     ]
    },
    {
     "name": "stdout",
     "output_type": "stream",
     "text": [
      "Z plane: 2\n"
     ]
    },
    {
     "name": "stderr",
     "output_type": "stream",
     "text": [
      "100%|███████████████████████████████████████████| 3/3 [00:00<00:00, 1882.26it/s]\n",
      "100%|███████████████████████████████████████████| 3/3 [00:00<00:00, 1383.95it/s]\n"
     ]
    },
    {
     "name": "stdout",
     "output_type": "stream",
     "text": [
      "Z plane: 3\n"
     ]
    },
    {
     "name": "stderr",
     "output_type": "stream",
     "text": [
      "100%|███████████████████████████████████████████| 3/3 [00:00<00:00, 1393.30it/s]\n",
      "100%|████████████████████████████████████████████| 3/3 [00:00<00:00, 769.88it/s]\n"
     ]
    },
    {
     "name": "stdout",
     "output_type": "stream",
     "text": [
      "Z plane: 4\n"
     ]
    },
    {
     "name": "stderr",
     "output_type": "stream",
     "text": [
      "100%|███████████████████████████████████████████| 5/5 [00:00<00:00, 1057.57it/s]\n",
      "100%|███████████████████████████████████████████| 5/5 [00:00<00:00, 1401.00it/s]\n"
     ]
    },
    {
     "name": "stdout",
     "output_type": "stream",
     "text": [
      "Z plane: 5\n"
     ]
    },
    {
     "name": "stderr",
     "output_type": "stream",
     "text": [
      "100%|███████████████████████████████████████████| 8/8 [00:00<00:00, 1153.43it/s]\n",
      "100%|███████████████████████████████████████████| 8/8 [00:00<00:00, 1215.08it/s]\n"
     ]
    },
    {
     "name": "stdout",
     "output_type": "stream",
     "text": [
      "Z plane: 6\n"
     ]
    },
    {
     "name": "stderr",
     "output_type": "stream",
     "text": [
      "100%|███████████████████████████████████████████| 9/9 [00:00<00:00, 2014.66it/s]\n",
      "100%|███████████████████████████████████████████| 9/9 [00:00<00:00, 3348.30it/s]\n"
     ]
    },
    {
     "name": "stdout",
     "output_type": "stream",
     "text": [
      "Z plane: 7\n"
     ]
    },
    {
     "name": "stderr",
     "output_type": "stream",
     "text": [
      "100%|█████████████████████████████████████████| 12/12 [00:00<00:00, 1404.03it/s]\n",
      "100%|█████████████████████████████████████████| 12/12 [00:00<00:00, 2761.08it/s]\n"
     ]
    },
    {
     "name": "stdout",
     "output_type": "stream",
     "text": [
      "Z plane: 8\n"
     ]
    },
    {
     "name": "stderr",
     "output_type": "stream",
     "text": [
      "100%|█████████████████████████████████████████| 12/12 [00:00<00:00, 1266.08it/s]\n",
      "100%|█████████████████████████████████████████| 12/12 [00:00<00:00, 1823.15it/s]\n"
     ]
    },
    {
     "name": "stdout",
     "output_type": "stream",
     "text": [
      "Z plane: 9\n"
     ]
    },
    {
     "name": "stderr",
     "output_type": "stream",
     "text": [
      "100%|█████████████████████████████████████████| 18/18 [00:00<00:00, 1916.52it/s]\n",
      "100%|█████████████████████████████████████████| 18/18 [00:00<00:00, 4209.50it/s]\n"
     ]
    },
    {
     "name": "stdout",
     "output_type": "stream",
     "text": [
      "Z plane: 10\n"
     ]
    },
    {
     "name": "stderr",
     "output_type": "stream",
     "text": [
      "100%|█████████████████████████████████████████| 20/20 [00:00<00:00, 1770.72it/s]\n",
      "100%|█████████████████████████████████████████| 20/20 [00:00<00:00, 3886.49it/s]\n"
     ]
    },
    {
     "name": "stdout",
     "output_type": "stream",
     "text": [
      "Z plane: 11\n"
     ]
    },
    {
     "name": "stderr",
     "output_type": "stream",
     "text": [
      "100%|█████████████████████████████████████████| 20/20 [00:00<00:00, 2033.11it/s]\n",
      "100%|█████████████████████████████████████████| 20/20 [00:00<00:00, 4063.46it/s]\n"
     ]
    },
    {
     "name": "stdout",
     "output_type": "stream",
     "text": [
      "Z plane: 12\n"
     ]
    },
    {
     "name": "stderr",
     "output_type": "stream",
     "text": [
      "100%|█████████████████████████████████████████| 22/22 [00:00<00:00, 1925.76it/s]\n",
      "100%|█████████████████████████████████████████| 22/22 [00:00<00:00, 3921.58it/s]\n"
     ]
    },
    {
     "name": "stdout",
     "output_type": "stream",
     "text": [
      "Z plane: 13\n"
     ]
    },
    {
     "name": "stderr",
     "output_type": "stream",
     "text": [
      "100%|█████████████████████████████████████████| 27/27 [00:00<00:00, 3883.22it/s]\n",
      "100%|█████████████████████████████████████████| 27/27 [00:00<00:00, 4793.08it/s]\n"
     ]
    },
    {
     "name": "stdout",
     "output_type": "stream",
     "text": [
      "Z plane: 14\n"
     ]
    },
    {
     "name": "stderr",
     "output_type": "stream",
     "text": [
      "100%|█████████████████████████████████████████| 28/28 [00:00<00:00, 3167.82it/s]\n",
      "100%|█████████████████████████████████████████| 28/28 [00:00<00:00, 4260.34it/s]\n"
     ]
    },
    {
     "name": "stdout",
     "output_type": "stream",
     "text": [
      "Z plane: 15\n"
     ]
    },
    {
     "name": "stderr",
     "output_type": "stream",
     "text": [
      "100%|█████████████████████████████████████████| 32/32 [00:00<00:00, 2805.09it/s]\n",
      "100%|█████████████████████████████████████████| 32/32 [00:00<00:00, 5396.34it/s]\n"
     ]
    },
    {
     "name": "stdout",
     "output_type": "stream",
     "text": [
      "Z plane: 16\n"
     ]
    },
    {
     "name": "stderr",
     "output_type": "stream",
     "text": [
      "100%|█████████████████████████████████████████| 37/37 [00:00<00:00, 3201.43it/s]\n",
      "100%|█████████████████████████████████████████| 37/37 [00:00<00:00, 6597.90it/s]\n"
     ]
    },
    {
     "name": "stdout",
     "output_type": "stream",
     "text": [
      "Z plane: 17\n"
     ]
    },
    {
     "name": "stderr",
     "output_type": "stream",
     "text": [
      "100%|█████████████████████████████████████████| 40/40 [00:00<00:00, 4040.76it/s]\n",
      "100%|█████████████████████████████████████████| 40/40 [00:00<00:00, 5963.11it/s]\n"
     ]
    },
    {
     "name": "stdout",
     "output_type": "stream",
     "text": [
      "Z plane: 18\n"
     ]
    },
    {
     "name": "stderr",
     "output_type": "stream",
     "text": [
      "100%|█████████████████████████████████████████| 43/43 [00:00<00:00, 3756.22it/s]\n",
      "100%|████████████████████████████████████████| 43/43 [00:00<00:00, 12209.25it/s]\n"
     ]
    },
    {
     "name": "stdout",
     "output_type": "stream",
     "text": [
      "Z plane: 19\n"
     ]
    },
    {
     "name": "stderr",
     "output_type": "stream",
     "text": [
      "100%|█████████████████████████████████████████| 40/40 [00:00<00:00, 4671.89it/s]\n",
      "100%|█████████████████████████████████████████| 40/40 [00:00<00:00, 9566.75it/s]\n"
     ]
    },
    {
     "name": "stdout",
     "output_type": "stream",
     "text": [
      "Z plane: 20\n"
     ]
    },
    {
     "name": "stderr",
     "output_type": "stream",
     "text": [
      "100%|█████████████████████████████████████████| 37/37 [00:00<00:00, 3445.36it/s]\n",
      "100%|█████████████████████████████████████████| 37/37 [00:00<00:00, 7886.83it/s]\n"
     ]
    },
    {
     "name": "stdout",
     "output_type": "stream",
     "text": [
      "Z plane: 21\n"
     ]
    },
    {
     "name": "stderr",
     "output_type": "stream",
     "text": [
      "100%|█████████████████████████████████████████| 35/35 [00:00<00:00, 4635.91it/s]\n",
      "100%|████████████████████████████████████████| 35/35 [00:00<00:00, 10889.45it/s]\n"
     ]
    },
    {
     "name": "stdout",
     "output_type": "stream",
     "text": [
      "Z plane: 22\n"
     ]
    },
    {
     "name": "stderr",
     "output_type": "stream",
     "text": [
      "100%|█████████████████████████████████████████| 30/30 [00:00<00:00, 3877.99it/s]\n",
      "100%|█████████████████████████████████████████| 30/30 [00:00<00:00, 5428.82it/s]\n"
     ]
    },
    {
     "name": "stdout",
     "output_type": "stream",
     "text": [
      "Z plane: 23\n"
     ]
    },
    {
     "name": "stderr",
     "output_type": "stream",
     "text": [
      "100%|█████████████████████████████████████████| 21/21 [00:00<00:00, 2509.20it/s]\n",
      "100%|█████████████████████████████████████████| 21/21 [00:00<00:00, 3668.18it/s]\n"
     ]
    },
    {
     "name": "stdout",
     "output_type": "stream",
     "text": [
      "Z plane: 24\n"
     ]
    },
    {
     "name": "stderr",
     "output_type": "stream",
     "text": [
      "100%|█████████████████████████████████████████| 18/18 [00:00<00:00, 2218.36it/s]\n",
      "100%|█████████████████████████████████████████| 18/18 [00:00<00:00, 3253.64it/s]\n"
     ]
    },
    {
     "name": "stdout",
     "output_type": "stream",
     "text": [
      "Z plane: 25\n"
     ]
    },
    {
     "name": "stderr",
     "output_type": "stream",
     "text": [
      "100%|█████████████████████████████████████████| 13/13 [00:00<00:00, 2135.09it/s]\n",
      "100%|█████████████████████████████████████████| 13/13 [00:00<00:00, 2648.69it/s]\n"
     ]
    },
    {
     "name": "stdout",
     "output_type": "stream",
     "text": [
      "Z plane: 26\n"
     ]
    },
    {
     "name": "stderr",
     "output_type": "stream",
     "text": [
      "100%|█████████████████████████████████████████| 10/10 [00:00<00:00, 1868.45it/s]\n",
      "100%|█████████████████████████████████████████| 10/10 [00:00<00:00, 2602.25it/s]\n"
     ]
    },
    {
     "name": "stdout",
     "output_type": "stream",
     "text": [
      "Z plane: 27\n"
     ]
    },
    {
     "name": "stderr",
     "output_type": "stream",
     "text": [
      "100%|███████████████████████████████████████████| 9/9 [00:00<00:00, 2216.73it/s]\n",
      "100%|███████████████████████████████████████████| 9/9 [00:00<00:00, 1971.83it/s]\n"
     ]
    },
    {
     "name": "stdout",
     "output_type": "stream",
     "text": [
      "Z plane: 28\n"
     ]
    },
    {
     "name": "stderr",
     "output_type": "stream",
     "text": [
      "100%|█████████████████████████████████████████| 10/10 [00:00<00:00, 2254.64it/s]\n",
      "100%|█████████████████████████████████████████| 10/10 [00:00<00:00, 1883.56it/s]\n"
     ]
    },
    {
     "name": "stdout",
     "output_type": "stream",
     "text": [
      "Z plane: 29\n"
     ]
    },
    {
     "name": "stderr",
     "output_type": "stream",
     "text": [
      "100%|█████████████████████████████████████████| 13/13 [00:00<00:00, 2273.24it/s]\n",
      "100%|█████████████████████████████████████████| 13/13 [00:00<00:00, 2780.66it/s]\n"
     ]
    },
    {
     "name": "stdout",
     "output_type": "stream",
     "text": [
      "Z plane: 30\n"
     ]
    },
    {
     "name": "stderr",
     "output_type": "stream",
     "text": [
      "100%|█████████████████████████████████████████| 12/12 [00:00<00:00, 2176.32it/s]\n",
      "100%|█████████████████████████████████████████| 12/12 [00:00<00:00, 4077.09it/s]\n"
     ]
    },
    {
     "name": "stdout",
     "output_type": "stream",
     "text": [
      "Z plane: 31\n"
     ]
    },
    {
     "name": "stderr",
     "output_type": "stream",
     "text": [
      "100%|█████████████████████████████████████████| 10/10 [00:00<00:00, 1911.98it/s]\n",
      "100%|█████████████████████████████████████████| 10/10 [00:00<00:00, 2009.25it/s]\n"
     ]
    },
    {
     "name": "stdout",
     "output_type": "stream",
     "text": [
      "Time point: 4\n",
      "Z plane: 0\n"
     ]
    },
    {
     "name": "stderr",
     "output_type": "stream",
     "text": [
      "100%|████████████████████████████████████████████| 2/2 [00:00<00:00, 874.45it/s]\n",
      "100%|████████████████████████████████████████████| 2/2 [00:00<00:00, 590.83it/s]\n"
     ]
    },
    {
     "name": "stdout",
     "output_type": "stream",
     "text": [
      "Z plane: 1\n"
     ]
    },
    {
     "name": "stderr",
     "output_type": "stream",
     "text": [
      "100%|███████████████████████████████████████████| 2/2 [00:00<00:00, 1438.62it/s]\n",
      "100%|████████████████████████████████████████████| 2/2 [00:00<00:00, 630.53it/s]\n"
     ]
    },
    {
     "name": "stdout",
     "output_type": "stream",
     "text": [
      "Z plane: 2\n"
     ]
    },
    {
     "name": "stderr",
     "output_type": "stream",
     "text": [
      "100%|████████████████████████████████████████████| 2/2 [00:00<00:00, 742.16it/s]\n",
      "100%|████████████████████████████████████████████| 2/2 [00:00<00:00, 805.44it/s]\n"
     ]
    },
    {
     "name": "stdout",
     "output_type": "stream",
     "text": [
      "Z plane: 3\n"
     ]
    },
    {
     "name": "stderr",
     "output_type": "stream",
     "text": [
      "100%|███████████████████████████████████████████| 3/3 [00:00<00:00, 1326.89it/s]\n",
      "100%|████████████████████████████████████████████| 3/3 [00:00<00:00, 726.58it/s]\n"
     ]
    },
    {
     "name": "stdout",
     "output_type": "stream",
     "text": [
      "Z plane: 4\n"
     ]
    },
    {
     "name": "stderr",
     "output_type": "stream",
     "text": [
      "100%|███████████████████████████████████████████| 7/7 [00:00<00:00, 1337.59it/s]\n",
      "100%|███████████████████████████████████████████| 7/7 [00:00<00:00, 1356.38it/s]\n"
     ]
    },
    {
     "name": "stdout",
     "output_type": "stream",
     "text": [
      "Z plane: 5\n"
     ]
    },
    {
     "name": "stderr",
     "output_type": "stream",
     "text": [
      "100%|███████████████████████████████████████████| 9/9 [00:00<00:00, 1222.35it/s]\n",
      "100%|███████████████████████████████████████████| 9/9 [00:00<00:00, 1191.07it/s]\n"
     ]
    },
    {
     "name": "stdout",
     "output_type": "stream",
     "text": [
      "Z plane: 6\n"
     ]
    },
    {
     "name": "stderr",
     "output_type": "stream",
     "text": [
      "100%|█████████████████████████████████████████| 10/10 [00:00<00:00, 1303.27it/s]\n",
      "100%|█████████████████████████████████████████| 10/10 [00:00<00:00, 1579.48it/s]\n"
     ]
    },
    {
     "name": "stdout",
     "output_type": "stream",
     "text": [
      "Z plane: 7\n"
     ]
    },
    {
     "name": "stderr",
     "output_type": "stream",
     "text": [
      "100%|█████████████████████████████████████████| 12/12 [00:00<00:00, 1312.09it/s]\n",
      "100%|█████████████████████████████████████████| 12/12 [00:00<00:00, 2434.54it/s]\n"
     ]
    },
    {
     "name": "stdout",
     "output_type": "stream",
     "text": [
      "Z plane: 8\n"
     ]
    },
    {
     "name": "stderr",
     "output_type": "stream",
     "text": [
      "100%|█████████████████████████████████████████| 12/12 [00:00<00:00, 1289.46it/s]\n",
      "100%|█████████████████████████████████████████| 12/12 [00:00<00:00, 2676.22it/s]\n"
     ]
    },
    {
     "name": "stdout",
     "output_type": "stream",
     "text": [
      "Z plane: 9\n"
     ]
    },
    {
     "name": "stderr",
     "output_type": "stream",
     "text": [
      "100%|█████████████████████████████████████████| 16/16 [00:00<00:00, 1985.82it/s]\n",
      "100%|█████████████████████████████████████████| 16/16 [00:00<00:00, 5017.49it/s]\n"
     ]
    },
    {
     "name": "stdout",
     "output_type": "stream",
     "text": [
      "Z plane: 10\n"
     ]
    },
    {
     "name": "stderr",
     "output_type": "stream",
     "text": [
      "100%|█████████████████████████████████████████| 20/20 [00:00<00:00, 1815.52it/s]\n",
      "100%|█████████████████████████████████████████| 20/20 [00:00<00:00, 4473.21it/s]\n"
     ]
    },
    {
     "name": "stdout",
     "output_type": "stream",
     "text": [
      "Z plane: 11\n"
     ]
    },
    {
     "name": "stderr",
     "output_type": "stream",
     "text": [
      "100%|█████████████████████████████████████████| 21/21 [00:00<00:00, 2103.36it/s]\n",
      "100%|█████████████████████████████████████████| 21/21 [00:00<00:00, 3571.50it/s]\n"
     ]
    },
    {
     "name": "stdout",
     "output_type": "stream",
     "text": [
      "Z plane: 12\n"
     ]
    },
    {
     "name": "stderr",
     "output_type": "stream",
     "text": [
      "100%|█████████████████████████████████████████| 23/23 [00:00<00:00, 2571.82it/s]\n",
      "100%|█████████████████████████████████████████| 23/23 [00:00<00:00, 5129.42it/s]\n"
     ]
    },
    {
     "name": "stdout",
     "output_type": "stream",
     "text": [
      "Z plane: 13\n"
     ]
    },
    {
     "name": "stderr",
     "output_type": "stream",
     "text": [
      "100%|█████████████████████████████████████████| 28/28 [00:00<00:00, 3671.16it/s]\n",
      "100%|█████████████████████████████████████████| 28/28 [00:00<00:00, 6144.21it/s]\n"
     ]
    },
    {
     "name": "stdout",
     "output_type": "stream",
     "text": [
      "Z plane: 14\n"
     ]
    },
    {
     "name": "stderr",
     "output_type": "stream",
     "text": [
      "100%|█████████████████████████████████████████| 28/28 [00:00<00:00, 2606.08it/s]\n",
      "100%|█████████████████████████████████████████| 27/27 [00:00<00:00, 6804.43it/s]\n"
     ]
    },
    {
     "name": "stdout",
     "output_type": "stream",
     "text": [
      "Z plane: 15\n"
     ]
    },
    {
     "name": "stderr",
     "output_type": "stream",
     "text": [
      "100%|█████████████████████████████████████████| 31/31 [00:00<00:00, 3173.32it/s]\n",
      "100%|█████████████████████████████████████████| 31/31 [00:00<00:00, 6630.80it/s]\n"
     ]
    },
    {
     "name": "stdout",
     "output_type": "stream",
     "text": [
      "Z plane: 16\n"
     ]
    },
    {
     "name": "stderr",
     "output_type": "stream",
     "text": [
      "100%|█████████████████████████████████████████| 34/34 [00:00<00:00, 2595.20it/s]\n",
      "100%|█████████████████████████████████████████| 34/34 [00:00<00:00, 5369.42it/s]\n"
     ]
    },
    {
     "name": "stdout",
     "output_type": "stream",
     "text": [
      "Z plane: 17\n"
     ]
    },
    {
     "name": "stderr",
     "output_type": "stream",
     "text": [
      "100%|█████████████████████████████████████████| 44/44 [00:00<00:00, 3338.87it/s]\n",
      "100%|█████████████████████████████████████████| 44/44 [00:00<00:00, 6414.87it/s]\n"
     ]
    },
    {
     "name": "stdout",
     "output_type": "stream",
     "text": [
      "Z plane: 18\n"
     ]
    },
    {
     "name": "stderr",
     "output_type": "stream",
     "text": [
      "100%|█████████████████████████████████████████| 44/44 [00:00<00:00, 3960.12it/s]\n",
      "100%|█████████████████████████████████████████| 44/44 [00:00<00:00, 7648.45it/s]\n"
     ]
    },
    {
     "name": "stdout",
     "output_type": "stream",
     "text": [
      "Z plane: 19\n"
     ]
    },
    {
     "name": "stderr",
     "output_type": "stream",
     "text": [
      "100%|█████████████████████████████████████████| 38/38 [00:00<00:00, 4306.97it/s]\n",
      "100%|█████████████████████████████████████████| 38/38 [00:00<00:00, 7801.45it/s]\n"
     ]
    },
    {
     "name": "stdout",
     "output_type": "stream",
     "text": [
      "Z plane: 20\n"
     ]
    },
    {
     "name": "stderr",
     "output_type": "stream",
     "text": [
      "100%|█████████████████████████████████████████| 37/37 [00:00<00:00, 3168.10it/s]\n",
      "100%|█████████████████████████████████████████| 37/37 [00:00<00:00, 7483.33it/s]\n"
     ]
    },
    {
     "name": "stdout",
     "output_type": "stream",
     "text": [
      "Z plane: 21\n"
     ]
    },
    {
     "name": "stderr",
     "output_type": "stream",
     "text": [
      "100%|█████████████████████████████████████████| 37/37 [00:00<00:00, 3591.51it/s]\n",
      "100%|█████████████████████████████████████████| 37/37 [00:00<00:00, 5772.12it/s]\n"
     ]
    },
    {
     "name": "stdout",
     "output_type": "stream",
     "text": [
      "Z plane: 22\n"
     ]
    },
    {
     "name": "stderr",
     "output_type": "stream",
     "text": [
      "100%|█████████████████████████████████████████| 30/30 [00:00<00:00, 3622.44it/s]\n",
      "100%|█████████████████████████████████████████| 30/30 [00:00<00:00, 3986.85it/s]\n"
     ]
    },
    {
     "name": "stdout",
     "output_type": "stream",
     "text": [
      "Z plane: 23\n"
     ]
    },
    {
     "name": "stderr",
     "output_type": "stream",
     "text": [
      "100%|█████████████████████████████████████████| 21/21 [00:00<00:00, 2375.03it/s]\n",
      "100%|█████████████████████████████████████████| 21/21 [00:00<00:00, 3367.12it/s]\n"
     ]
    },
    {
     "name": "stdout",
     "output_type": "stream",
     "text": [
      "Z plane: 24\n"
     ]
    },
    {
     "name": "stderr",
     "output_type": "stream",
     "text": [
      "100%|█████████████████████████████████████████| 17/17 [00:00<00:00, 2105.01it/s]\n",
      "100%|█████████████████████████████████████████| 17/17 [00:00<00:00, 3869.91it/s]\n"
     ]
    },
    {
     "name": "stdout",
     "output_type": "stream",
     "text": [
      "Z plane: 25\n"
     ]
    },
    {
     "name": "stderr",
     "output_type": "stream",
     "text": [
      "100%|█████████████████████████████████████████| 19/19 [00:00<00:00, 2494.73it/s]\n",
      "100%|█████████████████████████████████████████| 19/19 [00:00<00:00, 3504.17it/s]\n"
     ]
    },
    {
     "name": "stdout",
     "output_type": "stream",
     "text": [
      "Z plane: 26\n"
     ]
    },
    {
     "name": "stderr",
     "output_type": "stream",
     "text": [
      "100%|█████████████████████████████████████████| 12/12 [00:00<00:00, 2309.00it/s]\n",
      "100%|█████████████████████████████████████████| 12/12 [00:00<00:00, 3147.89it/s]\n"
     ]
    },
    {
     "name": "stdout",
     "output_type": "stream",
     "text": [
      "Z plane: 27\n"
     ]
    },
    {
     "name": "stderr",
     "output_type": "stream",
     "text": [
      "100%|█████████████████████████████████████████| 12/12 [00:00<00:00, 2458.08it/s]\n",
      "100%|█████████████████████████████████████████| 11/11 [00:00<00:00, 3130.29it/s]\n"
     ]
    },
    {
     "name": "stdout",
     "output_type": "stream",
     "text": [
      "Z plane: 28\n"
     ]
    },
    {
     "name": "stderr",
     "output_type": "stream",
     "text": [
      "100%|█████████████████████████████████████████| 11/11 [00:00<00:00, 2350.83it/s]\n",
      "100%|█████████████████████████████████████████| 11/11 [00:00<00:00, 2518.41it/s]\n"
     ]
    },
    {
     "name": "stdout",
     "output_type": "stream",
     "text": [
      "Z plane: 29\n"
     ]
    },
    {
     "name": "stderr",
     "output_type": "stream",
     "text": [
      "100%|█████████████████████████████████████████| 14/14 [00:00<00:00, 3187.51it/s]\n",
      "100%|█████████████████████████████████████████| 14/14 [00:00<00:00, 4929.50it/s]\n"
     ]
    },
    {
     "name": "stdout",
     "output_type": "stream",
     "text": [
      "Z plane: 30\n"
     ]
    },
    {
     "name": "stderr",
     "output_type": "stream",
     "text": [
      "100%|█████████████████████████████████████████| 12/12 [00:00<00:00, 2229.53it/s]\n",
      "100%|█████████████████████████████████████████| 12/12 [00:00<00:00, 2305.94it/s]\n"
     ]
    },
    {
     "name": "stdout",
     "output_type": "stream",
     "text": [
      "Z plane: 31\n"
     ]
    },
    {
     "name": "stderr",
     "output_type": "stream",
     "text": [
      "100%|███████████████████████████████████████████| 9/9 [00:00<00:00, 2485.43it/s]\n",
      "100%|███████████████████████████████████████████| 9/9 [00:00<00:00, 4390.41it/s]\n"
     ]
    },
    {
     "name": "stdout",
     "output_type": "stream",
     "text": [
      "Time point: 5\n",
      "Z plane: 0\n"
     ]
    },
    {
     "name": "stderr",
     "output_type": "stream",
     "text": [
      "100%|████████████████████████████████████████████| 3/3 [00:00<00:00, 962.14it/s]\n",
      "100%|███████████████████████████████████████████| 3/3 [00:00<00:00, 1057.48it/s]\n"
     ]
    },
    {
     "name": "stdout",
     "output_type": "stream",
     "text": [
      "Z plane: 1\n"
     ]
    },
    {
     "name": "stderr",
     "output_type": "stream",
     "text": [
      "100%|███████████████████████████████████████████| 3/3 [00:00<00:00, 1061.31it/s]\n",
      "100%|████████████████████████████████████████████| 3/3 [00:00<00:00, 957.24it/s]\n"
     ]
    },
    {
     "name": "stdout",
     "output_type": "stream",
     "text": [
      "Z plane: 2\n"
     ]
    },
    {
     "name": "stderr",
     "output_type": "stream",
     "text": [
      "100%|███████████████████████████████████████████| 4/4 [00:00<00:00, 1410.44it/s]\n",
      "100%|███████████████████████████████████████████| 4/4 [00:00<00:00, 1105.95it/s]\n"
     ]
    },
    {
     "name": "stdout",
     "output_type": "stream",
     "text": [
      "Z plane: 3\n"
     ]
    },
    {
     "name": "stderr",
     "output_type": "stream",
     "text": [
      "100%|███████████████████████████████████████████| 3/3 [00:00<00:00, 1042.41it/s]\n",
      "100%|████████████████████████████████████████████| 3/3 [00:00<00:00, 910.75it/s]\n"
     ]
    },
    {
     "name": "stdout",
     "output_type": "stream",
     "text": [
      "Z plane: 4\n"
     ]
    },
    {
     "name": "stderr",
     "output_type": "stream",
     "text": [
      "100%|███████████████████████████████████████████| 6/6 [00:00<00:00, 1430.61it/s]\n",
      "100%|███████████████████████████████████████████| 6/6 [00:00<00:00, 1436.00it/s]\n"
     ]
    },
    {
     "name": "stdout",
     "output_type": "stream",
     "text": [
      "Z plane: 5\n"
     ]
    },
    {
     "name": "stderr",
     "output_type": "stream",
     "text": [
      "100%|███████████████████████████████████████████| 9/9 [00:00<00:00, 1088.68it/s]\n",
      "100%|███████████████████████████████████████████| 8/8 [00:00<00:00, 1332.27it/s]\n"
     ]
    },
    {
     "name": "stdout",
     "output_type": "stream",
     "text": [
      "Z plane: 6\n"
     ]
    },
    {
     "name": "stderr",
     "output_type": "stream",
     "text": [
      "100%|█████████████████████████████████████████| 10/10 [00:00<00:00, 1214.93it/s]\n",
      "100%|█████████████████████████████████████████| 10/10 [00:00<00:00, 1541.06it/s]\n"
     ]
    },
    {
     "name": "stdout",
     "output_type": "stream",
     "text": [
      "Z plane: 7\n"
     ]
    },
    {
     "name": "stderr",
     "output_type": "stream",
     "text": [
      "100%|█████████████████████████████████████████| 11/11 [00:00<00:00, 1538.07it/s]\n",
      "100%|█████████████████████████████████████████| 11/11 [00:00<00:00, 3712.07it/s]\n"
     ]
    },
    {
     "name": "stdout",
     "output_type": "stream",
     "text": [
      "Z plane: 8\n"
     ]
    },
    {
     "name": "stderr",
     "output_type": "stream",
     "text": [
      "100%|█████████████████████████████████████████| 14/14 [00:00<00:00, 1498.46it/s]\n",
      "100%|█████████████████████████████████████████| 14/14 [00:00<00:00, 2737.03it/s]\n"
     ]
    },
    {
     "name": "stdout",
     "output_type": "stream",
     "text": [
      "Z plane: 9\n"
     ]
    },
    {
     "name": "stderr",
     "output_type": "stream",
     "text": [
      "100%|█████████████████████████████████████████| 17/17 [00:00<00:00, 1812.21it/s]\n",
      "100%|█████████████████████████████████████████| 17/17 [00:00<00:00, 4628.27it/s]\n"
     ]
    },
    {
     "name": "stdout",
     "output_type": "stream",
     "text": [
      "Z plane: 10\n"
     ]
    },
    {
     "name": "stderr",
     "output_type": "stream",
     "text": [
      "100%|█████████████████████████████████████████| 21/21 [00:00<00:00, 1645.50it/s]\n",
      "100%|█████████████████████████████████████████| 21/21 [00:00<00:00, 5926.95it/s]\n"
     ]
    },
    {
     "name": "stdout",
     "output_type": "stream",
     "text": [
      "Z plane: 11\n"
     ]
    },
    {
     "name": "stderr",
     "output_type": "stream",
     "text": [
      "100%|█████████████████████████████████████████| 22/22 [00:00<00:00, 2588.21it/s]\n",
      "100%|█████████████████████████████████████████| 22/22 [00:00<00:00, 4480.01it/s]\n"
     ]
    },
    {
     "name": "stdout",
     "output_type": "stream",
     "text": [
      "Z plane: 12\n"
     ]
    },
    {
     "name": "stderr",
     "output_type": "stream",
     "text": [
      "100%|█████████████████████████████████████████| 24/24 [00:00<00:00, 2858.86it/s]\n",
      "100%|█████████████████████████████████████████| 24/24 [00:00<00:00, 5259.59it/s]\n"
     ]
    },
    {
     "name": "stdout",
     "output_type": "stream",
     "text": [
      "Z plane: 13\n"
     ]
    },
    {
     "name": "stderr",
     "output_type": "stream",
     "text": [
      "100%|█████████████████████████████████████████| 27/27 [00:00<00:00, 3771.98it/s]\n",
      "100%|█████████████████████████████████████████| 27/27 [00:00<00:00, 4074.19it/s]\n"
     ]
    },
    {
     "name": "stdout",
     "output_type": "stream",
     "text": [
      "Z plane: 14\n"
     ]
    },
    {
     "name": "stderr",
     "output_type": "stream",
     "text": [
      "100%|█████████████████████████████████████████| 27/27 [00:00<00:00, 4156.43it/s]\n",
      "100%|█████████████████████████████████████████| 27/27 [00:00<00:00, 6127.71it/s]\n"
     ]
    },
    {
     "name": "stdout",
     "output_type": "stream",
     "text": [
      "Z plane: 15\n"
     ]
    },
    {
     "name": "stderr",
     "output_type": "stream",
     "text": [
      "100%|█████████████████████████████████████████| 34/34 [00:00<00:00, 3343.17it/s]\n",
      "100%|█████████████████████████████████████████| 34/34 [00:00<00:00, 7477.26it/s]\n"
     ]
    },
    {
     "name": "stdout",
     "output_type": "stream",
     "text": [
      "Z plane: 16\n"
     ]
    },
    {
     "name": "stderr",
     "output_type": "stream",
     "text": [
      "100%|█████████████████████████████████████████| 36/36 [00:00<00:00, 3040.57it/s]\n",
      "100%|█████████████████████████████████████████| 36/36 [00:00<00:00, 7345.18it/s]\n"
     ]
    },
    {
     "name": "stdout",
     "output_type": "stream",
     "text": [
      "Z plane: 17\n"
     ]
    },
    {
     "name": "stderr",
     "output_type": "stream",
     "text": [
      "100%|█████████████████████████████████████████| 41/41 [00:00<00:00, 4269.49it/s]\n",
      "100%|█████████████████████████████████████████| 40/40 [00:00<00:00, 6671.13it/s]\n"
     ]
    },
    {
     "name": "stdout",
     "output_type": "stream",
     "text": [
      "Z plane: 18\n"
     ]
    },
    {
     "name": "stderr",
     "output_type": "stream",
     "text": [
      "100%|█████████████████████████████████████████| 44/44 [00:00<00:00, 5217.09it/s]\n",
      "100%|████████████████████████████████████████| 44/44 [00:00<00:00, 15416.37it/s]\n"
     ]
    },
    {
     "name": "stdout",
     "output_type": "stream",
     "text": [
      "Z plane: 19\n"
     ]
    },
    {
     "name": "stderr",
     "output_type": "stream",
     "text": [
      "100%|█████████████████████████████████████████| 44/44 [00:00<00:00, 4727.67it/s]\n",
      "100%|█████████████████████████████████████████| 44/44 [00:00<00:00, 8492.45it/s]\n"
     ]
    },
    {
     "name": "stdout",
     "output_type": "stream",
     "text": [
      "Z plane: 20\n"
     ]
    },
    {
     "name": "stderr",
     "output_type": "stream",
     "text": [
      "100%|█████████████████████████████████████████| 37/37 [00:00<00:00, 4519.86it/s]\n",
      "100%|█████████████████████████████████████████| 37/37 [00:00<00:00, 6682.28it/s]\n"
     ]
    },
    {
     "name": "stdout",
     "output_type": "stream",
     "text": [
      "Z plane: 21\n"
     ]
    },
    {
     "name": "stderr",
     "output_type": "stream",
     "text": [
      "100%|█████████████████████████████████████████| 34/34 [00:00<00:00, 3648.06it/s]\n",
      "100%|█████████████████████████████████████████| 34/34 [00:00<00:00, 6749.96it/s]\n"
     ]
    },
    {
     "name": "stdout",
     "output_type": "stream",
     "text": [
      "Z plane: 22\n"
     ]
    },
    {
     "name": "stderr",
     "output_type": "stream",
     "text": [
      "100%|█████████████████████████████████████████| 29/29 [00:00<00:00, 3192.43it/s]\n",
      "100%|█████████████████████████████████████████| 29/29 [00:00<00:00, 3960.11it/s]\n"
     ]
    },
    {
     "name": "stdout",
     "output_type": "stream",
     "text": [
      "Z plane: 23\n"
     ]
    },
    {
     "name": "stderr",
     "output_type": "stream",
     "text": [
      "100%|█████████████████████████████████████████| 26/26 [00:00<00:00, 2925.29it/s]\n",
      "100%|█████████████████████████████████████████| 26/26 [00:00<00:00, 4177.43it/s]\n"
     ]
    },
    {
     "name": "stdout",
     "output_type": "stream",
     "text": [
      "Z plane: 24\n"
     ]
    },
    {
     "name": "stderr",
     "output_type": "stream",
     "text": [
      "100%|█████████████████████████████████████████| 22/22 [00:00<00:00, 2464.40it/s]\n",
      "100%|█████████████████████████████████████████| 22/22 [00:00<00:00, 4832.15it/s]\n"
     ]
    },
    {
     "name": "stdout",
     "output_type": "stream",
     "text": [
      "Z plane: 25\n"
     ]
    },
    {
     "name": "stderr",
     "output_type": "stream",
     "text": [
      "100%|█████████████████████████████████████████| 18/18 [00:00<00:00, 1940.51it/s]\n",
      "100%|█████████████████████████████████████████| 18/18 [00:00<00:00, 2773.20it/s]\n"
     ]
    },
    {
     "name": "stdout",
     "output_type": "stream",
     "text": [
      "Z plane: 26\n"
     ]
    },
    {
     "name": "stderr",
     "output_type": "stream",
     "text": [
      "100%|█████████████████████████████████████████| 13/13 [00:00<00:00, 2064.44it/s]\n",
      "100%|█████████████████████████████████████████| 13/13 [00:00<00:00, 3230.78it/s]\n"
     ]
    },
    {
     "name": "stdout",
     "output_type": "stream",
     "text": [
      "Z plane: 27\n"
     ]
    },
    {
     "name": "stderr",
     "output_type": "stream",
     "text": [
      "100%|█████████████████████████████████████████| 17/17 [00:00<00:00, 2216.38it/s]\n",
      "100%|█████████████████████████████████████████| 17/17 [00:00<00:00, 2857.96it/s]\n"
     ]
    },
    {
     "name": "stdout",
     "output_type": "stream",
     "text": [
      "Z plane: 28\n"
     ]
    },
    {
     "name": "stderr",
     "output_type": "stream",
     "text": [
      "100%|█████████████████████████████████████████| 14/14 [00:00<00:00, 2015.52it/s]\n",
      "100%|█████████████████████████████████████████| 14/14 [00:00<00:00, 3180.43it/s]\n"
     ]
    },
    {
     "name": "stdout",
     "output_type": "stream",
     "text": [
      "Z plane: 29\n"
     ]
    },
    {
     "name": "stderr",
     "output_type": "stream",
     "text": [
      "100%|█████████████████████████████████████████| 13/13 [00:00<00:00, 2368.74it/s]\n",
      "100%|█████████████████████████████████████████| 13/13 [00:00<00:00, 2370.69it/s]\n"
     ]
    },
    {
     "name": "stdout",
     "output_type": "stream",
     "text": [
      "Z plane: 30\n"
     ]
    },
    {
     "name": "stderr",
     "output_type": "stream",
     "text": [
      "100%|█████████████████████████████████████████| 13/13 [00:00<00:00, 2363.30it/s]\n",
      "100%|█████████████████████████████████████████| 13/13 [00:00<00:00, 2667.74it/s]\n"
     ]
    },
    {
     "name": "stdout",
     "output_type": "stream",
     "text": [
      "Z plane: 31\n"
     ]
    },
    {
     "name": "stderr",
     "output_type": "stream",
     "text": [
      "100%|█████████████████████████████████████████| 10/10 [00:00<00:00, 1568.14it/s]\n",
      "100%|█████████████████████████████████████████| 10/10 [00:00<00:00, 1752.89it/s]\n"
     ]
    },
    {
     "name": "stdout",
     "output_type": "stream",
     "text": [
      "Time point: 6\n",
      "Z plane: 0\n"
     ]
    },
    {
     "name": "stderr",
     "output_type": "stream",
     "text": [
      "100%|███████████████████████████████████████████| 3/3 [00:00<00:00, 1798.84it/s]\n",
      "100%|███████████████████████████████████████████| 3/3 [00:00<00:00, 1614.85it/s]\n"
     ]
    },
    {
     "name": "stdout",
     "output_type": "stream",
     "text": [
      "Z plane: 1\n"
     ]
    },
    {
     "name": "stderr",
     "output_type": "stream",
     "text": [
      "100%|███████████████████████████████████████████| 4/4 [00:00<00:00, 3979.42it/s]\n",
      "100%|███████████████████████████████████████████| 4/4 [00:00<00:00, 2191.67it/s]\n"
     ]
    },
    {
     "name": "stdout",
     "output_type": "stream",
     "text": [
      "Z plane: 2\n"
     ]
    },
    {
     "name": "stderr",
     "output_type": "stream",
     "text": [
      "100%|███████████████████████████████████████████| 4/4 [00:00<00:00, 3132.42it/s]\n",
      "100%|███████████████████████████████████████████| 4/4 [00:00<00:00, 1280.02it/s]\n"
     ]
    },
    {
     "name": "stdout",
     "output_type": "stream",
     "text": [
      "Z plane: 3\n"
     ]
    },
    {
     "name": "stderr",
     "output_type": "stream",
     "text": [
      "100%|███████████████████████████████████████████| 6/6 [00:00<00:00, 1407.41it/s]\n",
      "100%|███████████████████████████████████████████| 6/6 [00:00<00:00, 1687.74it/s]\n"
     ]
    },
    {
     "name": "stdout",
     "output_type": "stream",
     "text": [
      "Z plane: 4\n"
     ]
    },
    {
     "name": "stderr",
     "output_type": "stream",
     "text": [
      "100%|███████████████████████████████████████████| 8/8 [00:00<00:00, 1135.40it/s]\n",
      "100%|███████████████████████████████████████████| 8/8 [00:00<00:00, 1363.06it/s]\n"
     ]
    },
    {
     "name": "stdout",
     "output_type": "stream",
     "text": [
      "Z plane: 5\n"
     ]
    },
    {
     "name": "stderr",
     "output_type": "stream",
     "text": [
      "100%|███████████████████████████████████████████| 9/9 [00:00<00:00, 1565.49it/s]\n",
      "100%|███████████████████████████████████████████| 9/9 [00:00<00:00, 1887.25it/s]\n"
     ]
    },
    {
     "name": "stdout",
     "output_type": "stream",
     "text": [
      "Z plane: 6\n"
     ]
    },
    {
     "name": "stderr",
     "output_type": "stream",
     "text": [
      "100%|█████████████████████████████████████████| 10/10 [00:00<00:00, 1161.99it/s]\n",
      "100%|█████████████████████████████████████████| 10/10 [00:00<00:00, 2000.34it/s]\n"
     ]
    },
    {
     "name": "stdout",
     "output_type": "stream",
     "text": [
      "Z plane: 7\n"
     ]
    },
    {
     "name": "stderr",
     "output_type": "stream",
     "text": [
      "100%|█████████████████████████████████████████| 12/12 [00:00<00:00, 1562.75it/s]\n",
      "100%|█████████████████████████████████████████| 12/12 [00:00<00:00, 2457.96it/s]\n"
     ]
    },
    {
     "name": "stdout",
     "output_type": "stream",
     "text": [
      "Z plane: 8\n"
     ]
    },
    {
     "name": "stderr",
     "output_type": "stream",
     "text": [
      "100%|█████████████████████████████████████████| 11/11 [00:00<00:00, 1354.03it/s]\n",
      "100%|█████████████████████████████████████████| 11/11 [00:00<00:00, 1690.76it/s]\n"
     ]
    },
    {
     "name": "stdout",
     "output_type": "stream",
     "text": [
      "Z plane: 9\n"
     ]
    },
    {
     "name": "stderr",
     "output_type": "stream",
     "text": [
      "100%|█████████████████████████████████████████| 17/17 [00:00<00:00, 1329.09it/s]\n",
      "100%|█████████████████████████████████████████| 16/16 [00:00<00:00, 4444.30it/s]\n"
     ]
    },
    {
     "name": "stdout",
     "output_type": "stream",
     "text": [
      "Z plane: 10\n"
     ]
    },
    {
     "name": "stderr",
     "output_type": "stream",
     "text": [
      "100%|█████████████████████████████████████████| 19/19 [00:00<00:00, 1734.05it/s]\n",
      "100%|█████████████████████████████████████████| 19/19 [00:00<00:00, 3134.76it/s]\n"
     ]
    },
    {
     "name": "stdout",
     "output_type": "stream",
     "text": [
      "Z plane: 11\n"
     ]
    },
    {
     "name": "stderr",
     "output_type": "stream",
     "text": [
      "100%|█████████████████████████████████████████| 19/19 [00:00<00:00, 1798.75it/s]\n",
      "100%|█████████████████████████████████████████| 19/19 [00:00<00:00, 3018.17it/s]\n"
     ]
    },
    {
     "name": "stdout",
     "output_type": "stream",
     "text": [
      "Z plane: 12\n"
     ]
    },
    {
     "name": "stderr",
     "output_type": "stream",
     "text": [
      "100%|█████████████████████████████████████████| 21/21 [00:00<00:00, 1884.23it/s]\n",
      "100%|█████████████████████████████████████████| 21/21 [00:00<00:00, 3135.76it/s]\n"
     ]
    },
    {
     "name": "stdout",
     "output_type": "stream",
     "text": [
      "Z plane: 13\n"
     ]
    },
    {
     "name": "stderr",
     "output_type": "stream",
     "text": [
      "100%|█████████████████████████████████████████| 26/26 [00:00<00:00, 2445.93it/s]\n",
      "100%|█████████████████████████████████████████| 26/26 [00:00<00:00, 4578.36it/s]\n"
     ]
    },
    {
     "name": "stdout",
     "output_type": "stream",
     "text": [
      "Z plane: 14\n"
     ]
    },
    {
     "name": "stderr",
     "output_type": "stream",
     "text": [
      "100%|█████████████████████████████████████████| 29/29 [00:00<00:00, 2668.83it/s]\n",
      "100%|█████████████████████████████████████████| 29/29 [00:00<00:00, 4286.84it/s]\n"
     ]
    },
    {
     "name": "stdout",
     "output_type": "stream",
     "text": [
      "Z plane: 15\n"
     ]
    },
    {
     "name": "stderr",
     "output_type": "stream",
     "text": [
      "100%|█████████████████████████████████████████| 30/30 [00:00<00:00, 2693.09it/s]\n",
      "100%|█████████████████████████████████████████| 30/30 [00:00<00:00, 5185.62it/s]\n"
     ]
    },
    {
     "name": "stdout",
     "output_type": "stream",
     "text": [
      "Z plane: 16\n"
     ]
    },
    {
     "name": "stderr",
     "output_type": "stream",
     "text": [
      "100%|█████████████████████████████████████████| 33/33 [00:00<00:00, 2711.36it/s]\n",
      "100%|█████████████████████████████████████████| 33/33 [00:00<00:00, 5791.54it/s]\n"
     ]
    },
    {
     "name": "stdout",
     "output_type": "stream",
     "text": [
      "Z plane: 17\n"
     ]
    },
    {
     "name": "stderr",
     "output_type": "stream",
     "text": [
      "100%|█████████████████████████████████████████| 35/35 [00:00<00:00, 2781.11it/s]\n",
      "100%|████████████████████████████████████████| 35/35 [00:00<00:00, 11257.72it/s]\n"
     ]
    },
    {
     "name": "stdout",
     "output_type": "stream",
     "text": [
      "Z plane: 18\n"
     ]
    },
    {
     "name": "stderr",
     "output_type": "stream",
     "text": [
      "100%|█████████████████████████████████████████| 38/38 [00:00<00:00, 2853.47it/s]\n",
      "100%|█████████████████████████████████████████| 38/38 [00:00<00:00, 5847.86it/s]\n"
     ]
    },
    {
     "name": "stdout",
     "output_type": "stream",
     "text": [
      "Z plane: 19\n"
     ]
    },
    {
     "name": "stderr",
     "output_type": "stream",
     "text": [
      "100%|█████████████████████████████████████████| 41/41 [00:00<00:00, 3321.16it/s]\n",
      "100%|█████████████████████████████████████████| 41/41 [00:00<00:00, 5634.18it/s]\n"
     ]
    },
    {
     "name": "stdout",
     "output_type": "stream",
     "text": [
      "Z plane: 20\n"
     ]
    },
    {
     "name": "stderr",
     "output_type": "stream",
     "text": [
      "100%|█████████████████████████████████████████| 37/37 [00:00<00:00, 3260.21it/s]\n",
      "100%|█████████████████████████████████████████| 37/37 [00:00<00:00, 5787.62it/s]\n"
     ]
    },
    {
     "name": "stdout",
     "output_type": "stream",
     "text": [
      "Z plane: 21\n"
     ]
    },
    {
     "name": "stderr",
     "output_type": "stream",
     "text": [
      "100%|█████████████████████████████████████████| 33/33 [00:00<00:00, 2871.32it/s]\n",
      "100%|█████████████████████████████████████████| 33/33 [00:00<00:00, 7242.91it/s]\n"
     ]
    },
    {
     "name": "stdout",
     "output_type": "stream",
     "text": [
      "Z plane: 22\n"
     ]
    },
    {
     "name": "stderr",
     "output_type": "stream",
     "text": [
      "100%|█████████████████████████████████████████| 31/31 [00:00<00:00, 3661.70it/s]\n",
      "100%|█████████████████████████████████████████| 31/31 [00:00<00:00, 3658.61it/s]\n"
     ]
    },
    {
     "name": "stdout",
     "output_type": "stream",
     "text": [
      "Z plane: 23\n"
     ]
    },
    {
     "name": "stderr",
     "output_type": "stream",
     "text": [
      "100%|█████████████████████████████████████████| 28/28 [00:00<00:00, 3778.65it/s]\n",
      "100%|█████████████████████████████████████████| 28/28 [00:00<00:00, 3909.08it/s]\n"
     ]
    },
    {
     "name": "stdout",
     "output_type": "stream",
     "text": [
      "Z plane: 24\n"
     ]
    },
    {
     "name": "stderr",
     "output_type": "stream",
     "text": [
      "100%|█████████████████████████████████████████| 19/19 [00:00<00:00, 2024.28it/s]\n",
      "100%|█████████████████████████████████████████| 19/19 [00:00<00:00, 3041.90it/s]\n"
     ]
    },
    {
     "name": "stdout",
     "output_type": "stream",
     "text": [
      "Z plane: 25\n"
     ]
    },
    {
     "name": "stderr",
     "output_type": "stream",
     "text": [
      "100%|█████████████████████████████████████████| 18/18 [00:00<00:00, 1541.11it/s]\n",
      "100%|█████████████████████████████████████████| 18/18 [00:00<00:00, 3609.56it/s]\n"
     ]
    },
    {
     "name": "stdout",
     "output_type": "stream",
     "text": [
      "Z plane: 26\n"
     ]
    },
    {
     "name": "stderr",
     "output_type": "stream",
     "text": [
      "100%|█████████████████████████████████████████| 17/17 [00:00<00:00, 3160.88it/s]\n",
      "100%|█████████████████████████████████████████| 17/17 [00:00<00:00, 5958.32it/s]\n"
     ]
    },
    {
     "name": "stdout",
     "output_type": "stream",
     "text": [
      "Z plane: 27\n"
     ]
    },
    {
     "name": "stderr",
     "output_type": "stream",
     "text": [
      "100%|█████████████████████████████████████████| 20/20 [00:00<00:00, 2703.82it/s]\n",
      "100%|█████████████████████████████████████████| 20/20 [00:00<00:00, 2749.91it/s]\n"
     ]
    },
    {
     "name": "stdout",
     "output_type": "stream",
     "text": [
      "Z plane: 28\n"
     ]
    },
    {
     "name": "stderr",
     "output_type": "stream",
     "text": [
      "100%|█████████████████████████████████████████| 14/14 [00:00<00:00, 2237.56it/s]\n",
      "100%|█████████████████████████████████████████| 14/14 [00:00<00:00, 3368.53it/s]\n"
     ]
    },
    {
     "name": "stdout",
     "output_type": "stream",
     "text": [
      "Z plane: 29\n"
     ]
    },
    {
     "name": "stderr",
     "output_type": "stream",
     "text": [
      "100%|█████████████████████████████████████████| 13/13 [00:00<00:00, 2390.23it/s]\n",
      "100%|█████████████████████████████████████████| 13/13 [00:00<00:00, 2513.53it/s]\n"
     ]
    },
    {
     "name": "stdout",
     "output_type": "stream",
     "text": [
      "Z plane: 30\n"
     ]
    },
    {
     "name": "stderr",
     "output_type": "stream",
     "text": [
      "100%|█████████████████████████████████████████| 15/15 [00:00<00:00, 4024.73it/s]\n",
      "100%|█████████████████████████████████████████| 15/15 [00:00<00:00, 5362.65it/s]\n"
     ]
    },
    {
     "name": "stdout",
     "output_type": "stream",
     "text": [
      "Z plane: 31\n"
     ]
    },
    {
     "name": "stderr",
     "output_type": "stream",
     "text": [
      "100%|█████████████████████████████████████████| 13/13 [00:00<00:00, 2776.41it/s]\n",
      "100%|█████████████████████████████████████████| 13/13 [00:00<00:00, 1998.17it/s]\n"
     ]
    },
    {
     "name": "stdout",
     "output_type": "stream",
     "text": [
      "Time point: 7\n",
      "Z plane: 0\n"
     ]
    },
    {
     "name": "stderr",
     "output_type": "stream",
     "text": [
      "100%|███████████████████████████████████████████| 2/2 [00:00<00:00, 1124.93it/s]\n",
      "100%|████████████████████████████████████████████| 2/2 [00:00<00:00, 928.56it/s]\n"
     ]
    },
    {
     "name": "stdout",
     "output_type": "stream",
     "text": [
      "Z plane: 1\n"
     ]
    },
    {
     "name": "stderr",
     "output_type": "stream",
     "text": [
      "100%|███████████████████████████████████████████| 2/2 [00:00<00:00, 1785.95it/s]\n",
      "100%|███████████████████████████████████████████| 2/2 [00:00<00:00, 1353.44it/s]\n"
     ]
    },
    {
     "name": "stdout",
     "output_type": "stream",
     "text": [
      "Z plane: 2\n"
     ]
    },
    {
     "name": "stderr",
     "output_type": "stream",
     "text": [
      "100%|███████████████████████████████████████████| 2/2 [00:00<00:00, 1293.54it/s]\n",
      "100%|████████████████████████████████████████████| 2/2 [00:00<00:00, 339.80it/s]\n"
     ]
    },
    {
     "name": "stdout",
     "output_type": "stream",
     "text": [
      "Z plane: 3\n"
     ]
    },
    {
     "name": "stderr",
     "output_type": "stream",
     "text": [
      "100%|████████████████████████████████████████████| 4/4 [00:00<00:00, 808.07it/s]\n",
      "100%|███████████████████████████████████████████| 4/4 [00:00<00:00, 1100.72it/s]\n"
     ]
    },
    {
     "name": "stdout",
     "output_type": "stream",
     "text": [
      "Z plane: 4\n"
     ]
    },
    {
     "name": "stderr",
     "output_type": "stream",
     "text": [
      "100%|███████████████████████████████████████████| 6/6 [00:00<00:00, 1128.87it/s]\n",
      "100%|███████████████████████████████████████████| 6/6 [00:00<00:00, 1251.28it/s]\n"
     ]
    },
    {
     "name": "stdout",
     "output_type": "stream",
     "text": [
      "Z plane: 5\n"
     ]
    },
    {
     "name": "stderr",
     "output_type": "stream",
     "text": [
      "100%|███████████████████████████████████████████| 8/8 [00:00<00:00, 1255.50it/s]\n",
      "100%|███████████████████████████████████████████| 8/8 [00:00<00:00, 1726.32it/s]\n"
     ]
    },
    {
     "name": "stdout",
     "output_type": "stream",
     "text": [
      "Z plane: 6\n"
     ]
    },
    {
     "name": "stderr",
     "output_type": "stream",
     "text": [
      "100%|█████████████████████████████████████████| 10/10 [00:00<00:00, 1584.49it/s]\n",
      "100%|█████████████████████████████████████████| 10/10 [00:00<00:00, 1488.98it/s]\n"
     ]
    },
    {
     "name": "stdout",
     "output_type": "stream",
     "text": [
      "Z plane: 7\n"
     ]
    },
    {
     "name": "stderr",
     "output_type": "stream",
     "text": [
      "100%|█████████████████████████████████████████| 10/10 [00:00<00:00, 1629.74it/s]\n",
      "100%|█████████████████████████████████████████| 10/10 [00:00<00:00, 1646.96it/s]\n"
     ]
    },
    {
     "name": "stdout",
     "output_type": "stream",
     "text": [
      "Z plane: 8\n"
     ]
    },
    {
     "name": "stderr",
     "output_type": "stream",
     "text": [
      "100%|█████████████████████████████████████████| 12/12 [00:00<00:00, 1540.42it/s]\n",
      "100%|█████████████████████████████████████████| 12/12 [00:00<00:00, 2462.53it/s]\n"
     ]
    },
    {
     "name": "stdout",
     "output_type": "stream",
     "text": [
      "Z plane: 9\n"
     ]
    },
    {
     "name": "stderr",
     "output_type": "stream",
     "text": [
      "100%|█████████████████████████████████████████| 14/14 [00:00<00:00, 1228.82it/s]\n",
      "100%|█████████████████████████████████████████| 14/14 [00:00<00:00, 2682.52it/s]\n"
     ]
    },
    {
     "name": "stdout",
     "output_type": "stream",
     "text": [
      "Z plane: 10\n"
     ]
    },
    {
     "name": "stderr",
     "output_type": "stream",
     "text": [
      "100%|█████████████████████████████████████████| 16/16 [00:00<00:00, 1675.59it/s]\n",
      "100%|█████████████████████████████████████████| 16/16 [00:00<00:00, 4141.76it/s]\n"
     ]
    },
    {
     "name": "stdout",
     "output_type": "stream",
     "text": [
      "Z plane: 11\n"
     ]
    },
    {
     "name": "stderr",
     "output_type": "stream",
     "text": [
      "100%|█████████████████████████████████████████| 19/19 [00:00<00:00, 2073.31it/s]\n",
      "100%|█████████████████████████████████████████| 18/18 [00:00<00:00, 3467.64it/s]\n"
     ]
    },
    {
     "name": "stdout",
     "output_type": "stream",
     "text": [
      "Z plane: 12\n"
     ]
    },
    {
     "name": "stderr",
     "output_type": "stream",
     "text": [
      "100%|█████████████████████████████████████████| 20/20 [00:00<00:00, 2730.67it/s]\n",
      "100%|█████████████████████████████████████████| 20/20 [00:00<00:00, 2789.14it/s]\n"
     ]
    },
    {
     "name": "stdout",
     "output_type": "stream",
     "text": [
      "Z plane: 13\n"
     ]
    },
    {
     "name": "stderr",
     "output_type": "stream",
     "text": [
      "100%|█████████████████████████████████████████| 22/22 [00:00<00:00, 2240.82it/s]\n",
      "100%|█████████████████████████████████████████| 22/22 [00:00<00:00, 4042.88it/s]\n"
     ]
    },
    {
     "name": "stdout",
     "output_type": "stream",
     "text": [
      "Z plane: 14\n"
     ]
    },
    {
     "name": "stderr",
     "output_type": "stream",
     "text": [
      "100%|█████████████████████████████████████████| 28/28 [00:00<00:00, 2385.45it/s]\n",
      "100%|█████████████████████████████████████████| 27/27 [00:00<00:00, 5701.94it/s]\n"
     ]
    },
    {
     "name": "stdout",
     "output_type": "stream",
     "text": [
      "Z plane: 15\n"
     ]
    },
    {
     "name": "stderr",
     "output_type": "stream",
     "text": [
      "100%|█████████████████████████████████████████| 30/30 [00:00<00:00, 2987.47it/s]\n",
      "100%|████████████████████████████████████████| 30/30 [00:00<00:00, 10070.36it/s]\n"
     ]
    },
    {
     "name": "stdout",
     "output_type": "stream",
     "text": [
      "Z plane: 16\n"
     ]
    },
    {
     "name": "stderr",
     "output_type": "stream",
     "text": [
      "100%|█████████████████████████████████████████| 31/31 [00:00<00:00, 3798.19it/s]\n",
      "100%|█████████████████████████████████████████| 31/31 [00:00<00:00, 4362.47it/s]\n"
     ]
    },
    {
     "name": "stdout",
     "output_type": "stream",
     "text": [
      "Z plane: 17\n"
     ]
    },
    {
     "name": "stderr",
     "output_type": "stream",
     "text": [
      "100%|█████████████████████████████████████████| 39/39 [00:00<00:00, 2906.09it/s]\n",
      "100%|█████████████████████████████████████████| 39/39 [00:00<00:00, 4429.88it/s]\n"
     ]
    },
    {
     "name": "stdout",
     "output_type": "stream",
     "text": [
      "Z plane: 18\n"
     ]
    },
    {
     "name": "stderr",
     "output_type": "stream",
     "text": [
      "100%|█████████████████████████████████████████| 39/39 [00:00<00:00, 2979.18it/s]\n",
      "100%|█████████████████████████████████████████| 39/39 [00:00<00:00, 5775.24it/s]\n"
     ]
    },
    {
     "name": "stdout",
     "output_type": "stream",
     "text": [
      "Z plane: 19\n"
     ]
    },
    {
     "name": "stderr",
     "output_type": "stream",
     "text": [
      "100%|█████████████████████████████████████████| 39/39 [00:00<00:00, 4009.06it/s]\n",
      "100%|█████████████████████████████████████████| 39/39 [00:00<00:00, 5214.47it/s]\n"
     ]
    },
    {
     "name": "stdout",
     "output_type": "stream",
     "text": [
      "Z plane: 20\n"
     ]
    },
    {
     "name": "stderr",
     "output_type": "stream",
     "text": [
      "100%|█████████████████████████████████████████| 36/36 [00:00<00:00, 3204.00it/s]\n",
      "100%|█████████████████████████████████████████| 36/36 [00:00<00:00, 7034.14it/s]\n"
     ]
    },
    {
     "name": "stdout",
     "output_type": "stream",
     "text": [
      "Z plane: 21\n"
     ]
    },
    {
     "name": "stderr",
     "output_type": "stream",
     "text": [
      "100%|█████████████████████████████████████████| 37/37 [00:00<00:00, 3278.39it/s]\n",
      "100%|█████████████████████████████████████████| 37/37 [00:00<00:00, 6734.77it/s]\n"
     ]
    },
    {
     "name": "stdout",
     "output_type": "stream",
     "text": [
      "Z plane: 22\n"
     ]
    },
    {
     "name": "stderr",
     "output_type": "stream",
     "text": [
      "100%|█████████████████████████████████████████| 33/33 [00:00<00:00, 3219.86it/s]\n",
      "100%|█████████████████████████████████████████| 33/33 [00:00<00:00, 5720.92it/s]\n"
     ]
    },
    {
     "name": "stdout",
     "output_type": "stream",
     "text": [
      "Z plane: 23\n"
     ]
    },
    {
     "name": "stderr",
     "output_type": "stream",
     "text": [
      "100%|█████████████████████████████████████████| 26/26 [00:00<00:00, 2382.92it/s]\n",
      "100%|█████████████████████████████████████████| 26/26 [00:00<00:00, 3752.39it/s]\n"
     ]
    },
    {
     "name": "stdout",
     "output_type": "stream",
     "text": [
      "Z plane: 24\n"
     ]
    },
    {
     "name": "stderr",
     "output_type": "stream",
     "text": [
      "100%|█████████████████████████████████████████| 21/21 [00:00<00:00, 1961.66it/s]\n",
      "100%|█████████████████████████████████████████| 21/21 [00:00<00:00, 3508.76it/s]\n"
     ]
    },
    {
     "name": "stdout",
     "output_type": "stream",
     "text": [
      "Z plane: 25\n"
     ]
    },
    {
     "name": "stderr",
     "output_type": "stream",
     "text": [
      "100%|█████████████████████████████████████████| 20/20 [00:00<00:00, 2782.48it/s]\n",
      "100%|█████████████████████████████████████████| 20/20 [00:00<00:00, 5557.21it/s]\n"
     ]
    },
    {
     "name": "stdout",
     "output_type": "stream",
     "text": [
      "Z plane: 26\n"
     ]
    },
    {
     "name": "stderr",
     "output_type": "stream",
     "text": [
      "100%|█████████████████████████████████████████| 20/20 [00:00<00:00, 2308.94it/s]\n",
      "100%|█████████████████████████████████████████| 20/20 [00:00<00:00, 3779.16it/s]\n"
     ]
    },
    {
     "name": "stdout",
     "output_type": "stream",
     "text": [
      "Z plane: 27\n"
     ]
    },
    {
     "name": "stderr",
     "output_type": "stream",
     "text": [
      "100%|█████████████████████████████████████████| 19/19 [00:00<00:00, 2931.14it/s]\n",
      "100%|█████████████████████████████████████████| 18/18 [00:00<00:00, 3548.31it/s]\n"
     ]
    },
    {
     "name": "stdout",
     "output_type": "stream",
     "text": [
      "Z plane: 28\n"
     ]
    },
    {
     "name": "stderr",
     "output_type": "stream",
     "text": [
      "100%|█████████████████████████████████████████| 14/14 [00:00<00:00, 2580.66it/s]\n",
      "100%|█████████████████████████████████████████| 13/13 [00:00<00:00, 2933.87it/s]\n"
     ]
    },
    {
     "name": "stdout",
     "output_type": "stream",
     "text": [
      "Z plane: 29\n"
     ]
    },
    {
     "name": "stderr",
     "output_type": "stream",
     "text": [
      "100%|█████████████████████████████████████████| 15/15 [00:00<00:00, 5574.57it/s]\n",
      "100%|█████████████████████████████████████████| 14/14 [00:00<00:00, 4679.28it/s]\n"
     ]
    },
    {
     "name": "stdout",
     "output_type": "stream",
     "text": [
      "Z plane: 30\n"
     ]
    },
    {
     "name": "stderr",
     "output_type": "stream",
     "text": [
      "100%|█████████████████████████████████████████| 16/16 [00:00<00:00, 4866.13it/s]\n",
      "100%|█████████████████████████████████████████| 15/15 [00:00<00:00, 4153.05it/s]\n"
     ]
    },
    {
     "name": "stdout",
     "output_type": "stream",
     "text": [
      "Z plane: 31\n"
     ]
    },
    {
     "name": "stderr",
     "output_type": "stream",
     "text": [
      "100%|█████████████████████████████████████████| 15/15 [00:00<00:00, 2989.81it/s]\n",
      "100%|█████████████████████████████████████████| 14/14 [00:00<00:00, 2697.43it/s]\n"
     ]
    },
    {
     "name": "stdout",
     "output_type": "stream",
     "text": [
      "Time point: 8\n",
      "Z plane: 0\n"
     ]
    },
    {
     "name": "stderr",
     "output_type": "stream",
     "text": [
      "100%|████████████████████████████████████████████| 2/2 [00:00<00:00, 833.36it/s]\n",
      "100%|████████████████████████████████████████████| 2/2 [00:00<00:00, 659.17it/s]\n"
     ]
    },
    {
     "name": "stdout",
     "output_type": "stream",
     "text": [
      "Z plane: 1\n"
     ]
    },
    {
     "name": "stderr",
     "output_type": "stream",
     "text": [
      "100%|████████████████████████████████████████████| 2/2 [00:00<00:00, 753.02it/s]\n",
      "100%|████████████████████████████████████████████| 2/2 [00:00<00:00, 633.48it/s]\n"
     ]
    },
    {
     "name": "stdout",
     "output_type": "stream",
     "text": [
      "Z plane: 2\n"
     ]
    },
    {
     "name": "stderr",
     "output_type": "stream",
     "text": [
      "100%|████████████████████████████████████████████| 2/2 [00:00<00:00, 924.47it/s]\n",
      "100%|████████████████████████████████████████████| 2/2 [00:00<00:00, 624.80it/s]\n"
     ]
    },
    {
     "name": "stdout",
     "output_type": "stream",
     "text": [
      "Z plane: 3\n"
     ]
    },
    {
     "name": "stderr",
     "output_type": "stream",
     "text": [
      "100%|███████████████████████████████████████████| 5/5 [00:00<00:00, 1238.57it/s]\n",
      "100%|███████████████████████████████████████████| 5/5 [00:00<00:00, 1453.93it/s]\n"
     ]
    },
    {
     "name": "stdout",
     "output_type": "stream",
     "text": [
      "Z plane: 4\n"
     ]
    },
    {
     "name": "stderr",
     "output_type": "stream",
     "text": [
      "100%|███████████████████████████████████████████| 6/6 [00:00<00:00, 1370.76it/s]\n",
      "100%|████████████████████████████████████████████| 6/6 [00:00<00:00, 915.19it/s]\n"
     ]
    },
    {
     "name": "stdout",
     "output_type": "stream",
     "text": [
      "Z plane: 5\n"
     ]
    },
    {
     "name": "stderr",
     "output_type": "stream",
     "text": [
      "100%|███████████████████████████████████████████| 8/8 [00:00<00:00, 1262.44it/s]\n",
      "100%|███████████████████████████████████████████| 8/8 [00:00<00:00, 1757.79it/s]\n"
     ]
    },
    {
     "name": "stdout",
     "output_type": "stream",
     "text": [
      "Z plane: 6\n"
     ]
    },
    {
     "name": "stderr",
     "output_type": "stream",
     "text": [
      "100%|█████████████████████████████████████████| 10/10 [00:00<00:00, 1255.82it/s]\n",
      "100%|█████████████████████████████████████████| 10/10 [00:00<00:00, 1628.16it/s]\n"
     ]
    },
    {
     "name": "stdout",
     "output_type": "stream",
     "text": [
      "Z plane: 7\n"
     ]
    },
    {
     "name": "stderr",
     "output_type": "stream",
     "text": [
      "100%|█████████████████████████████████████████| 10/10 [00:00<00:00, 1406.12it/s]\n",
      "100%|█████████████████████████████████████████| 10/10 [00:00<00:00, 1691.73it/s]\n"
     ]
    },
    {
     "name": "stdout",
     "output_type": "stream",
     "text": [
      "Z plane: 8\n"
     ]
    },
    {
     "name": "stderr",
     "output_type": "stream",
     "text": [
      "100%|█████████████████████████████████████████| 13/13 [00:00<00:00, 1212.15it/s]\n",
      "100%|█████████████████████████████████████████| 13/13 [00:00<00:00, 2418.11it/s]\n"
     ]
    },
    {
     "name": "stdout",
     "output_type": "stream",
     "text": [
      "Z plane: 9\n"
     ]
    },
    {
     "name": "stderr",
     "output_type": "stream",
     "text": [
      "100%|█████████████████████████████████████████| 14/14 [00:00<00:00, 1207.12it/s]\n",
      "100%|█████████████████████████████████████████| 14/14 [00:00<00:00, 2563.20it/s]\n"
     ]
    },
    {
     "name": "stdout",
     "output_type": "stream",
     "text": [
      "Z plane: 10\n"
     ]
    },
    {
     "name": "stderr",
     "output_type": "stream",
     "text": [
      "100%|█████████████████████████████████████████| 17/17 [00:00<00:00, 2590.68it/s]\n",
      "100%|█████████████████████████████████████████| 17/17 [00:00<00:00, 2983.02it/s]\n"
     ]
    },
    {
     "name": "stdout",
     "output_type": "stream",
     "text": [
      "Z plane: 11\n"
     ]
    },
    {
     "name": "stderr",
     "output_type": "stream",
     "text": [
      "100%|█████████████████████████████████████████| 19/19 [00:00<00:00, 1880.41it/s]\n",
      "100%|█████████████████████████████████████████| 19/19 [00:00<00:00, 3003.95it/s]\n"
     ]
    },
    {
     "name": "stdout",
     "output_type": "stream",
     "text": [
      "Z plane: 12\n"
     ]
    },
    {
     "name": "stderr",
     "output_type": "stream",
     "text": [
      "100%|█████████████████████████████████████████| 20/20 [00:00<00:00, 2364.05it/s]\n",
      "100%|█████████████████████████████████████████| 20/20 [00:00<00:00, 2685.64it/s]\n"
     ]
    },
    {
     "name": "stdout",
     "output_type": "stream",
     "text": [
      "Z plane: 13\n"
     ]
    },
    {
     "name": "stderr",
     "output_type": "stream",
     "text": [
      "100%|█████████████████████████████████████████| 22/22 [00:00<00:00, 2505.69it/s]\n",
      "100%|█████████████████████████████████████████| 22/22 [00:00<00:00, 3766.31it/s]\n"
     ]
    },
    {
     "name": "stdout",
     "output_type": "stream",
     "text": [
      "Z plane: 14\n"
     ]
    },
    {
     "name": "stderr",
     "output_type": "stream",
     "text": [
      "100%|█████████████████████████████████████████| 25/25 [00:00<00:00, 3057.43it/s]\n",
      "100%|█████████████████████████████████████████| 25/25 [00:00<00:00, 8635.23it/s]\n"
     ]
    },
    {
     "name": "stdout",
     "output_type": "stream",
     "text": [
      "Z plane: 15\n"
     ]
    },
    {
     "name": "stderr",
     "output_type": "stream",
     "text": [
      "100%|█████████████████████████████████████████| 28/28 [00:00<00:00, 2901.63it/s]\n",
      "100%|█████████████████████████████████████████| 28/28 [00:00<00:00, 6388.54it/s]\n"
     ]
    },
    {
     "name": "stdout",
     "output_type": "stream",
     "text": [
      "Z plane: 16\n"
     ]
    },
    {
     "name": "stderr",
     "output_type": "stream",
     "text": [
      "100%|█████████████████████████████████████████| 33/33 [00:00<00:00, 2271.62it/s]\n",
      "100%|█████████████████████████████████████████| 32/32 [00:00<00:00, 4821.73it/s]\n"
     ]
    },
    {
     "name": "stdout",
     "output_type": "stream",
     "text": [
      "Z plane: 17\n"
     ]
    },
    {
     "name": "stderr",
     "output_type": "stream",
     "text": [
      "100%|█████████████████████████████████████████| 36/36 [00:00<00:00, 3775.16it/s]\n",
      "100%|█████████████████████████████████████████| 35/35 [00:00<00:00, 5297.56it/s]\n"
     ]
    },
    {
     "name": "stdout",
     "output_type": "stream",
     "text": [
      "Z plane: 18\n"
     ]
    },
    {
     "name": "stderr",
     "output_type": "stream",
     "text": [
      "100%|█████████████████████████████████████████| 41/41 [00:00<00:00, 2947.51it/s]\n",
      "100%|█████████████████████████████████████████| 39/39 [00:00<00:00, 5943.31it/s]\n"
     ]
    },
    {
     "name": "stdout",
     "output_type": "stream",
     "text": [
      "Z plane: 19\n"
     ]
    },
    {
     "name": "stderr",
     "output_type": "stream",
     "text": [
      "100%|█████████████████████████████████████████| 40/40 [00:00<00:00, 3156.34it/s]\n",
      "100%|█████████████████████████████████████████| 39/39 [00:00<00:00, 7211.47it/s]\n"
     ]
    },
    {
     "name": "stdout",
     "output_type": "stream",
     "text": [
      "Z plane: 20\n"
     ]
    },
    {
     "name": "stderr",
     "output_type": "stream",
     "text": [
      "100%|█████████████████████████████████████████| 35/35 [00:00<00:00, 3406.76it/s]\n",
      "100%|█████████████████████████████████████████| 34/34 [00:00<00:00, 6942.86it/s]\n"
     ]
    },
    {
     "name": "stdout",
     "output_type": "stream",
     "text": [
      "Z plane: 21\n"
     ]
    },
    {
     "name": "stderr",
     "output_type": "stream",
     "text": [
      "100%|█████████████████████████████████████████| 37/37 [00:00<00:00, 4826.59it/s]\n",
      "100%|█████████████████████████████████████████| 36/36 [00:00<00:00, 5918.12it/s]\n"
     ]
    },
    {
     "name": "stdout",
     "output_type": "stream",
     "text": [
      "Z plane: 22\n"
     ]
    },
    {
     "name": "stderr",
     "output_type": "stream",
     "text": [
      "100%|█████████████████████████████████████████| 32/32 [00:00<00:00, 2539.12it/s]\n",
      "100%|█████████████████████████████████████████| 32/32 [00:00<00:00, 4814.81it/s]\n"
     ]
    },
    {
     "name": "stdout",
     "output_type": "stream",
     "text": [
      "Z plane: 23\n"
     ]
    },
    {
     "name": "stderr",
     "output_type": "stream",
     "text": [
      "100%|█████████████████████████████████████████| 31/31 [00:00<00:00, 3299.58it/s]\n",
      "100%|█████████████████████████████████████████| 31/31 [00:00<00:00, 5401.66it/s]\n"
     ]
    },
    {
     "name": "stdout",
     "output_type": "stream",
     "text": [
      "Z plane: 24\n"
     ]
    },
    {
     "name": "stderr",
     "output_type": "stream",
     "text": [
      "100%|█████████████████████████████████████████| 25/25 [00:00<00:00, 2435.43it/s]\n",
      "100%|█████████████████████████████████████████| 25/25 [00:00<00:00, 3401.82it/s]\n"
     ]
    },
    {
     "name": "stdout",
     "output_type": "stream",
     "text": [
      "Z plane: 25\n"
     ]
    },
    {
     "name": "stderr",
     "output_type": "stream",
     "text": [
      "100%|█████████████████████████████████████████| 22/22 [00:00<00:00, 1937.28it/s]\n",
      "100%|█████████████████████████████████████████| 22/22 [00:00<00:00, 3098.65it/s]\n"
     ]
    },
    {
     "name": "stdout",
     "output_type": "stream",
     "text": [
      "Z plane: 26\n"
     ]
    },
    {
     "name": "stderr",
     "output_type": "stream",
     "text": [
      "100%|█████████████████████████████████████████| 21/21 [00:00<00:00, 3025.88it/s]\n",
      "100%|█████████████████████████████████████████| 21/21 [00:00<00:00, 4830.82it/s]\n"
     ]
    },
    {
     "name": "stdout",
     "output_type": "stream",
     "text": [
      "Z plane: 27\n"
     ]
    },
    {
     "name": "stderr",
     "output_type": "stream",
     "text": [
      "100%|█████████████████████████████████████████| 18/18 [00:00<00:00, 2076.67it/s]\n",
      "100%|█████████████████████████████████████████| 18/18 [00:00<00:00, 3257.85it/s]\n"
     ]
    },
    {
     "name": "stdout",
     "output_type": "stream",
     "text": [
      "Z plane: 28\n"
     ]
    },
    {
     "name": "stderr",
     "output_type": "stream",
     "text": [
      "100%|█████████████████████████████████████████| 15/15 [00:00<00:00, 1893.93it/s]\n",
      "100%|█████████████████████████████████████████| 15/15 [00:00<00:00, 2543.75it/s]\n"
     ]
    },
    {
     "name": "stdout",
     "output_type": "stream",
     "text": [
      "Z plane: 29\n"
     ]
    },
    {
     "name": "stderr",
     "output_type": "stream",
     "text": [
      "100%|█████████████████████████████████████████| 15/15 [00:00<00:00, 3321.61it/s]\n",
      "100%|█████████████████████████████████████████| 15/15 [00:00<00:00, 2524.05it/s]\n"
     ]
    },
    {
     "name": "stdout",
     "output_type": "stream",
     "text": [
      "Z plane: 30\n"
     ]
    },
    {
     "name": "stderr",
     "output_type": "stream",
     "text": [
      "100%|█████████████████████████████████████████| 14/14 [00:00<00:00, 2402.14it/s]\n",
      "100%|█████████████████████████████████████████| 14/14 [00:00<00:00, 2923.88it/s]\n"
     ]
    },
    {
     "name": "stdout",
     "output_type": "stream",
     "text": [
      "Z plane: 31\n"
     ]
    },
    {
     "name": "stderr",
     "output_type": "stream",
     "text": [
      "100%|█████████████████████████████████████████| 13/13 [00:00<00:00, 2127.68it/s]\n",
      "100%|█████████████████████████████████████████| 13/13 [00:00<00:00, 2103.14it/s]\n"
     ]
    },
    {
     "name": "stdout",
     "output_type": "stream",
     "text": [
      "Time point: 9\n",
      "Z plane: 0\n"
     ]
    },
    {
     "name": "stderr",
     "output_type": "stream",
     "text": [
      "100%|███████████████████████████████████████████| 3/3 [00:00<00:00, 1177.40it/s]\n",
      "100%|████████████████████████████████████████████| 3/3 [00:00<00:00, 931.72it/s]\n"
     ]
    },
    {
     "name": "stdout",
     "output_type": "stream",
     "text": [
      "Z plane: 1\n"
     ]
    },
    {
     "name": "stderr",
     "output_type": "stream",
     "text": [
      "100%|███████████████████████████████████████████| 4/4 [00:00<00:00, 1375.52it/s]\n",
      "100%|███████████████████████████████████████████| 4/4 [00:00<00:00, 2087.76it/s]\n"
     ]
    },
    {
     "name": "stdout",
     "output_type": "stream",
     "text": [
      "Z plane: 2\n"
     ]
    },
    {
     "name": "stderr",
     "output_type": "stream",
     "text": [
      "100%|███████████████████████████████████████████| 4/4 [00:00<00:00, 1746.72it/s]\n",
      "100%|███████████████████████████████████████████| 4/4 [00:00<00:00, 1205.17it/s]\n"
     ]
    },
    {
     "name": "stdout",
     "output_type": "stream",
     "text": [
      "Z plane: 3\n"
     ]
    },
    {
     "name": "stderr",
     "output_type": "stream",
     "text": [
      "100%|███████████████████████████████████████████| 9/9 [00:00<00:00, 1405.81it/s]\n",
      "100%|███████████████████████████████████████████| 9/9 [00:00<00:00, 1897.59it/s]\n"
     ]
    },
    {
     "name": "stdout",
     "output_type": "stream",
     "text": [
      "Z plane: 4\n"
     ]
    },
    {
     "name": "stderr",
     "output_type": "stream",
     "text": [
      "100%|███████████████████████████████████████████| 9/9 [00:00<00:00, 1601.15it/s]\n",
      "100%|███████████████████████████████████████████| 9/9 [00:00<00:00, 1391.25it/s]\n"
     ]
    },
    {
     "name": "stdout",
     "output_type": "stream",
     "text": [
      "Z plane: 5\n"
     ]
    },
    {
     "name": "stderr",
     "output_type": "stream",
     "text": [
      "100%|█████████████████████████████████████████| 10/10 [00:00<00:00, 1509.88it/s]\n",
      "100%|█████████████████████████████████████████| 10/10 [00:00<00:00, 2192.87it/s]\n"
     ]
    },
    {
     "name": "stdout",
     "output_type": "stream",
     "text": [
      "Z plane: 6\n"
     ]
    },
    {
     "name": "stderr",
     "output_type": "stream",
     "text": [
      "100%|█████████████████████████████████████████| 11/11 [00:00<00:00, 1070.37it/s]\n",
      "100%|█████████████████████████████████████████| 11/11 [00:00<00:00, 1575.41it/s]\n"
     ]
    },
    {
     "name": "stdout",
     "output_type": "stream",
     "text": [
      "Z plane: 7\n"
     ]
    },
    {
     "name": "stderr",
     "output_type": "stream",
     "text": [
      "100%|█████████████████████████████████████████| 11/11 [00:00<00:00, 1206.14it/s]\n",
      "100%|█████████████████████████████████████████| 11/11 [00:00<00:00, 1763.93it/s]\n"
     ]
    },
    {
     "name": "stdout",
     "output_type": "stream",
     "text": [
      "Z plane: 8\n"
     ]
    },
    {
     "name": "stderr",
     "output_type": "stream",
     "text": [
      "100%|█████████████████████████████████████████| 13/13 [00:00<00:00, 2087.04it/s]\n",
      "100%|█████████████████████████████████████████| 13/13 [00:00<00:00, 1880.21it/s]\n"
     ]
    },
    {
     "name": "stdout",
     "output_type": "stream",
     "text": [
      "Z plane: 9\n"
     ]
    },
    {
     "name": "stderr",
     "output_type": "stream",
     "text": [
      "100%|█████████████████████████████████████████| 14/14 [00:00<00:00, 2371.29it/s]\n",
      "100%|█████████████████████████████████████████| 14/14 [00:00<00:00, 6517.23it/s]\n"
     ]
    },
    {
     "name": "stdout",
     "output_type": "stream",
     "text": [
      "Z plane: 10\n"
     ]
    },
    {
     "name": "stderr",
     "output_type": "stream",
     "text": [
      "100%|█████████████████████████████████████████| 17/17 [00:00<00:00, 1978.12it/s]\n",
      "100%|█████████████████████████████████████████| 17/17 [00:00<00:00, 4436.21it/s]\n"
     ]
    },
    {
     "name": "stdout",
     "output_type": "stream",
     "text": [
      "Z plane: 11\n"
     ]
    },
    {
     "name": "stderr",
     "output_type": "stream",
     "text": [
      "100%|█████████████████████████████████████████| 19/19 [00:00<00:00, 2192.77it/s]\n",
      "100%|█████████████████████████████████████████| 18/18 [00:00<00:00, 3440.30it/s]\n"
     ]
    },
    {
     "name": "stdout",
     "output_type": "stream",
     "text": [
      "Z plane: 12\n"
     ]
    },
    {
     "name": "stderr",
     "output_type": "stream",
     "text": [
      "100%|█████████████████████████████████████████| 21/21 [00:00<00:00, 2385.52it/s]\n",
      "100%|█████████████████████████████████████████| 21/21 [00:00<00:00, 3305.08it/s]\n"
     ]
    },
    {
     "name": "stdout",
     "output_type": "stream",
     "text": [
      "Z plane: 13\n"
     ]
    },
    {
     "name": "stderr",
     "output_type": "stream",
     "text": [
      "100%|█████████████████████████████████████████| 22/22 [00:00<00:00, 2772.51it/s]\n",
      "100%|█████████████████████████████████████████| 22/22 [00:00<00:00, 3650.97it/s]\n"
     ]
    },
    {
     "name": "stdout",
     "output_type": "stream",
     "text": [
      "Z plane: 14\n"
     ]
    },
    {
     "name": "stderr",
     "output_type": "stream",
     "text": [
      "100%|█████████████████████████████████████████| 27/27 [00:00<00:00, 2638.30it/s]\n",
      "100%|█████████████████████████████████████████| 27/27 [00:00<00:00, 5512.37it/s]\n"
     ]
    },
    {
     "name": "stdout",
     "output_type": "stream",
     "text": [
      "Z plane: 15\n"
     ]
    },
    {
     "name": "stderr",
     "output_type": "stream",
     "text": [
      "100%|█████████████████████████████████████████| 28/28 [00:00<00:00, 3634.47it/s]\n",
      "100%|█████████████████████████████████████████| 27/27 [00:00<00:00, 6248.76it/s]\n"
     ]
    },
    {
     "name": "stdout",
     "output_type": "stream",
     "text": [
      "Z plane: 16\n"
     ]
    },
    {
     "name": "stderr",
     "output_type": "stream",
     "text": [
      "100%|█████████████████████████████████████████| 31/31 [00:00<00:00, 3721.44it/s]\n",
      "100%|█████████████████████████████████████████| 31/31 [00:00<00:00, 5360.46it/s]\n"
     ]
    },
    {
     "name": "stdout",
     "output_type": "stream",
     "text": [
      "Z plane: 17\n"
     ]
    },
    {
     "name": "stderr",
     "output_type": "stream",
     "text": [
      "100%|█████████████████████████████████████████| 35/35 [00:00<00:00, 2974.14it/s]\n",
      "100%|█████████████████████████████████████████| 35/35 [00:00<00:00, 6037.95it/s]\n"
     ]
    },
    {
     "name": "stdout",
     "output_type": "stream",
     "text": [
      "Z plane: 18\n"
     ]
    },
    {
     "name": "stderr",
     "output_type": "stream",
     "text": [
      "100%|█████████████████████████████████████████| 40/40 [00:00<00:00, 3304.16it/s]\n",
      "100%|█████████████████████████████████████████| 39/39 [00:00<00:00, 6868.69it/s]\n"
     ]
    },
    {
     "name": "stdout",
     "output_type": "stream",
     "text": [
      "Z plane: 19\n"
     ]
    },
    {
     "name": "stderr",
     "output_type": "stream",
     "text": [
      "100%|█████████████████████████████████████████| 40/40 [00:00<00:00, 3163.07it/s]\n",
      "100%|█████████████████████████████████████████| 40/40 [00:00<00:00, 5959.51it/s]\n"
     ]
    },
    {
     "name": "stdout",
     "output_type": "stream",
     "text": [
      "Z plane: 20\n"
     ]
    },
    {
     "name": "stderr",
     "output_type": "stream",
     "text": [
      "100%|█████████████████████████████████████████| 41/41 [00:00<00:00, 4140.68it/s]\n",
      "100%|█████████████████████████████████████████| 40/40 [00:00<00:00, 6491.47it/s]\n"
     ]
    },
    {
     "name": "stdout",
     "output_type": "stream",
     "text": [
      "Z plane: 21\n"
     ]
    },
    {
     "name": "stderr",
     "output_type": "stream",
     "text": [
      "100%|█████████████████████████████████████████| 39/39 [00:00<00:00, 3995.55it/s]\n",
      "100%|█████████████████████████████████████████| 39/39 [00:00<00:00, 6651.94it/s]\n"
     ]
    },
    {
     "name": "stdout",
     "output_type": "stream",
     "text": [
      "Z plane: 22\n"
     ]
    },
    {
     "name": "stderr",
     "output_type": "stream",
     "text": [
      "100%|█████████████████████████████████████████| 38/38 [00:00<00:00, 2970.19it/s]\n",
      "100%|█████████████████████████████████████████| 38/38 [00:00<00:00, 5326.46it/s]\n"
     ]
    },
    {
     "name": "stdout",
     "output_type": "stream",
     "text": [
      "Z plane: 23\n"
     ]
    },
    {
     "name": "stderr",
     "output_type": "stream",
     "text": [
      "100%|█████████████████████████████████████████| 32/32 [00:00<00:00, 4422.91it/s]\n",
      "100%|█████████████████████████████████████████| 32/32 [00:00<00:00, 8094.67it/s]\n"
     ]
    },
    {
     "name": "stdout",
     "output_type": "stream",
     "text": [
      "Z plane: 24\n"
     ]
    },
    {
     "name": "stderr",
     "output_type": "stream",
     "text": [
      "100%|█████████████████████████████████████████| 28/28 [00:00<00:00, 2027.21it/s]\n",
      "100%|█████████████████████████████████████████| 28/28 [00:00<00:00, 4107.32it/s]\n"
     ]
    },
    {
     "name": "stdout",
     "output_type": "stream",
     "text": [
      "Z plane: 25\n"
     ]
    },
    {
     "name": "stderr",
     "output_type": "stream",
     "text": [
      "100%|█████████████████████████████████████████| 25/25 [00:00<00:00, 2281.20it/s]\n",
      "100%|█████████████████████████████████████████| 25/25 [00:00<00:00, 3248.38it/s]\n"
     ]
    },
    {
     "name": "stdout",
     "output_type": "stream",
     "text": [
      "Z plane: 26\n"
     ]
    },
    {
     "name": "stderr",
     "output_type": "stream",
     "text": [
      "100%|█████████████████████████████████████████| 19/19 [00:00<00:00, 3826.74it/s]\n",
      "100%|█████████████████████████████████████████| 19/19 [00:00<00:00, 4625.18it/s]\n"
     ]
    },
    {
     "name": "stdout",
     "output_type": "stream",
     "text": [
      "Z plane: 27\n"
     ]
    },
    {
     "name": "stderr",
     "output_type": "stream",
     "text": [
      "100%|█████████████████████████████████████████| 20/20 [00:00<00:00, 2255.55it/s]\n",
      "100%|█████████████████████████████████████████| 20/20 [00:00<00:00, 4079.07it/s]\n"
     ]
    },
    {
     "name": "stdout",
     "output_type": "stream",
     "text": [
      "Z plane: 28\n"
     ]
    },
    {
     "name": "stderr",
     "output_type": "stream",
     "text": [
      "100%|█████████████████████████████████████████| 21/21 [00:00<00:00, 2759.93it/s]\n",
      "100%|█████████████████████████████████████████| 20/20 [00:00<00:00, 4051.10it/s]\n"
     ]
    },
    {
     "name": "stdout",
     "output_type": "stream",
     "text": [
      "Z plane: 29\n"
     ]
    },
    {
     "name": "stderr",
     "output_type": "stream",
     "text": [
      "100%|█████████████████████████████████████████| 17/17 [00:00<00:00, 2935.62it/s]\n",
      "100%|█████████████████████████████████████████| 17/17 [00:00<00:00, 3953.60it/s]\n"
     ]
    },
    {
     "name": "stdout",
     "output_type": "stream",
     "text": [
      "Z plane: 30\n"
     ]
    },
    {
     "name": "stderr",
     "output_type": "stream",
     "text": [
      "100%|█████████████████████████████████████████| 17/17 [00:00<00:00, 3562.49it/s]\n",
      "100%|█████████████████████████████████████████| 17/17 [00:00<00:00, 3316.27it/s]\n"
     ]
    },
    {
     "name": "stdout",
     "output_type": "stream",
     "text": [
      "Z plane: 31\n"
     ]
    },
    {
     "name": "stderr",
     "output_type": "stream",
     "text": [
      "100%|█████████████████████████████████████████| 17/17 [00:00<00:00, 2838.50it/s]\n",
      "100%|█████████████████████████████████████████| 17/17 [00:00<00:00, 3238.70it/s]\n"
     ]
    },
    {
     "name": "stdout",
     "output_type": "stream",
     "text": [
      "Time point: 10\n",
      "Z plane: 0\n"
     ]
    },
    {
     "name": "stderr",
     "output_type": "stream",
     "text": [
      "100%|███████████████████████████████████████████| 3/3 [00:00<00:00, 1715.23it/s]\n",
      "100%|███████████████████████████████████████████| 3/3 [00:00<00:00, 1097.60it/s]\n"
     ]
    },
    {
     "name": "stdout",
     "output_type": "stream",
     "text": [
      "Z plane: 1\n"
     ]
    },
    {
     "name": "stderr",
     "output_type": "stream",
     "text": [
      "100%|███████████████████████████████████████████| 4/4 [00:00<00:00, 1740.01it/s]\n",
      "100%|███████████████████████████████████████████| 4/4 [00:00<00:00, 1415.44it/s]\n"
     ]
    },
    {
     "name": "stdout",
     "output_type": "stream",
     "text": [
      "Z plane: 2\n"
     ]
    },
    {
     "name": "stderr",
     "output_type": "stream",
     "text": [
      "100%|███████████████████████████████████████████| 4/4 [00:00<00:00, 1354.09it/s]\n",
      "100%|███████████████████████████████████████████| 4/4 [00:00<00:00, 1530.91it/s]\n"
     ]
    },
    {
     "name": "stdout",
     "output_type": "stream",
     "text": [
      "Z plane: 3\n"
     ]
    },
    {
     "name": "stderr",
     "output_type": "stream",
     "text": [
      "100%|███████████████████████████████████████████| 6/6 [00:00<00:00, 1084.22it/s]\n",
      "100%|███████████████████████████████████████████| 6/6 [00:00<00:00, 1201.75it/s]\n"
     ]
    },
    {
     "name": "stdout",
     "output_type": "stream",
     "text": [
      "Z plane: 4\n"
     ]
    },
    {
     "name": "stderr",
     "output_type": "stream",
     "text": [
      "100%|███████████████████████████████████████████| 7/7 [00:00<00:00, 1127.07it/s]\n",
      "100%|████████████████████████████████████████████| 7/7 [00:00<00:00, 986.73it/s]\n"
     ]
    },
    {
     "name": "stdout",
     "output_type": "stream",
     "text": [
      "Z plane: 5\n"
     ]
    },
    {
     "name": "stderr",
     "output_type": "stream",
     "text": [
      "100%|███████████████████████████████████████████| 9/9 [00:00<00:00, 1291.84it/s]\n",
      "100%|███████████████████████████████████████████| 9/9 [00:00<00:00, 1799.02it/s]\n"
     ]
    },
    {
     "name": "stdout",
     "output_type": "stream",
     "text": [
      "Z plane: 6\n"
     ]
    },
    {
     "name": "stderr",
     "output_type": "stream",
     "text": [
      "100%|█████████████████████████████████████████| 11/11 [00:00<00:00, 2543.26it/s]\n",
      "100%|█████████████████████████████████████████| 11/11 [00:00<00:00, 3757.72it/s]\n"
     ]
    },
    {
     "name": "stdout",
     "output_type": "stream",
     "text": [
      "Z plane: 7\n"
     ]
    },
    {
     "name": "stderr",
     "output_type": "stream",
     "text": [
      "100%|█████████████████████████████████████████| 11/11 [00:00<00:00, 1220.76it/s]\n",
      "100%|█████████████████████████████████████████| 11/11 [00:00<00:00, 2755.46it/s]\n"
     ]
    },
    {
     "name": "stdout",
     "output_type": "stream",
     "text": [
      "Z plane: 8\n"
     ]
    },
    {
     "name": "stderr",
     "output_type": "stream",
     "text": [
      "100%|█████████████████████████████████████████| 13/13 [00:00<00:00, 1211.80it/s]\n",
      "100%|█████████████████████████████████████████| 13/13 [00:00<00:00, 2442.26it/s]\n"
     ]
    },
    {
     "name": "stdout",
     "output_type": "stream",
     "text": [
      "Z plane: 9\n"
     ]
    },
    {
     "name": "stderr",
     "output_type": "stream",
     "text": [
      "100%|█████████████████████████████████████████| 15/15 [00:00<00:00, 2195.82it/s]\n",
      "100%|█████████████████████████████████████████| 15/15 [00:00<00:00, 3731.37it/s]\n"
     ]
    },
    {
     "name": "stdout",
     "output_type": "stream",
     "text": [
      "Z plane: 10\n"
     ]
    },
    {
     "name": "stderr",
     "output_type": "stream",
     "text": [
      "100%|█████████████████████████████████████████| 19/19 [00:00<00:00, 2148.84it/s]\n",
      "100%|█████████████████████████████████████████| 19/19 [00:00<00:00, 3888.54it/s]\n"
     ]
    },
    {
     "name": "stdout",
     "output_type": "stream",
     "text": [
      "Z plane: 11\n"
     ]
    },
    {
     "name": "stderr",
     "output_type": "stream",
     "text": [
      "100%|█████████████████████████████████████████| 20/20 [00:00<00:00, 2075.10it/s]\n",
      "100%|█████████████████████████████████████████| 20/20 [00:00<00:00, 4023.31it/s]\n"
     ]
    },
    {
     "name": "stdout",
     "output_type": "stream",
     "text": [
      "Z plane: 12\n"
     ]
    },
    {
     "name": "stderr",
     "output_type": "stream",
     "text": [
      "100%|█████████████████████████████████████████| 20/20 [00:00<00:00, 1807.66it/s]\n",
      "100%|█████████████████████████████████████████| 20/20 [00:00<00:00, 3493.51it/s]\n"
     ]
    },
    {
     "name": "stdout",
     "output_type": "stream",
     "text": [
      "Z plane: 13\n"
     ]
    },
    {
     "name": "stderr",
     "output_type": "stream",
     "text": [
      "100%|█████████████████████████████████████████| 22/22 [00:00<00:00, 2174.29it/s]\n",
      "100%|█████████████████████████████████████████| 22/22 [00:00<00:00, 3787.34it/s]\n"
     ]
    },
    {
     "name": "stdout",
     "output_type": "stream",
     "text": [
      "Z plane: 14\n"
     ]
    },
    {
     "name": "stderr",
     "output_type": "stream",
     "text": [
      "100%|█████████████████████████████████████████| 26/26 [00:00<00:00, 2838.12it/s]\n",
      "100%|█████████████████████████████████████████| 26/26 [00:00<00:00, 4667.92it/s]\n"
     ]
    },
    {
     "name": "stdout",
     "output_type": "stream",
     "text": [
      "Z plane: 15\n"
     ]
    },
    {
     "name": "stderr",
     "output_type": "stream",
     "text": [
      "100%|█████████████████████████████████████████| 29/29 [00:00<00:00, 2556.70it/s]\n",
      "100%|█████████████████████████████████████████| 29/29 [00:00<00:00, 4410.57it/s]\n"
     ]
    },
    {
     "name": "stdout",
     "output_type": "stream",
     "text": [
      "Z plane: 16\n"
     ]
    },
    {
     "name": "stderr",
     "output_type": "stream",
     "text": [
      "100%|█████████████████████████████████████████| 33/33 [00:00<00:00, 2659.37it/s]\n",
      "100%|█████████████████████████████████████████| 33/33 [00:00<00:00, 5523.01it/s]\n"
     ]
    },
    {
     "name": "stdout",
     "output_type": "stream",
     "text": [
      "Z plane: 17\n"
     ]
    },
    {
     "name": "stderr",
     "output_type": "stream",
     "text": [
      "100%|█████████████████████████████████████████| 31/31 [00:00<00:00, 2751.70it/s]\n",
      "100%|█████████████████████████████████████████| 31/31 [00:00<00:00, 5300.80it/s]\n"
     ]
    },
    {
     "name": "stdout",
     "output_type": "stream",
     "text": [
      "Z plane: 18\n"
     ]
    },
    {
     "name": "stderr",
     "output_type": "stream",
     "text": [
      "100%|█████████████████████████████████████████| 33/33 [00:00<00:00, 3577.93it/s]\n",
      "100%|█████████████████████████████████████████| 33/33 [00:00<00:00, 6126.05it/s]\n"
     ]
    },
    {
     "name": "stdout",
     "output_type": "stream",
     "text": [
      "Z plane: 19\n"
     ]
    },
    {
     "name": "stderr",
     "output_type": "stream",
     "text": [
      "100%|█████████████████████████████████████████| 36/36 [00:00<00:00, 3302.75it/s]\n",
      "100%|█████████████████████████████████████████| 36/36 [00:00<00:00, 4578.93it/s]\n"
     ]
    },
    {
     "name": "stdout",
     "output_type": "stream",
     "text": [
      "Z plane: 20\n"
     ]
    },
    {
     "name": "stderr",
     "output_type": "stream",
     "text": [
      "100%|█████████████████████████████████████████| 38/38 [00:00<00:00, 4509.88it/s]\n",
      "100%|█████████████████████████████████████████| 37/37 [00:00<00:00, 6552.49it/s]\n"
     ]
    },
    {
     "name": "stdout",
     "output_type": "stream",
     "text": [
      "Z plane: 21\n"
     ]
    },
    {
     "name": "stderr",
     "output_type": "stream",
     "text": [
      "100%|█████████████████████████████████████████| 38/38 [00:00<00:00, 2610.45it/s]\n",
      "100%|████████████████████████████████████████| 38/38 [00:00<00:00, 12137.04it/s]\n"
     ]
    },
    {
     "name": "stdout",
     "output_type": "stream",
     "text": [
      "Z plane: 22\n"
     ]
    },
    {
     "name": "stderr",
     "output_type": "stream",
     "text": [
      "100%|█████████████████████████████████████████| 37/37 [00:00<00:00, 3713.82it/s]\n",
      "100%|█████████████████████████████████████████| 37/37 [00:00<00:00, 5538.91it/s]\n"
     ]
    },
    {
     "name": "stdout",
     "output_type": "stream",
     "text": [
      "Z plane: 23\n"
     ]
    },
    {
     "name": "stderr",
     "output_type": "stream",
     "text": [
      "100%|█████████████████████████████████████████| 31/31 [00:00<00:00, 2913.23it/s]\n",
      "100%|█████████████████████████████████████████| 31/31 [00:00<00:00, 7834.15it/s]\n"
     ]
    },
    {
     "name": "stdout",
     "output_type": "stream",
     "text": [
      "Z plane: 24\n"
     ]
    },
    {
     "name": "stderr",
     "output_type": "stream",
     "text": [
      "100%|█████████████████████████████████████████| 30/30 [00:00<00:00, 3067.81it/s]\n",
      "100%|█████████████████████████████████████████| 30/30 [00:00<00:00, 5074.37it/s]\n"
     ]
    },
    {
     "name": "stdout",
     "output_type": "stream",
     "text": [
      "Z plane: 25\n"
     ]
    },
    {
     "name": "stderr",
     "output_type": "stream",
     "text": [
      "100%|█████████████████████████████████████████| 24/24 [00:00<00:00, 2169.98it/s]\n",
      "100%|█████████████████████████████████████████| 24/24 [00:00<00:00, 3531.55it/s]\n"
     ]
    },
    {
     "name": "stdout",
     "output_type": "stream",
     "text": [
      "Z plane: 26\n"
     ]
    },
    {
     "name": "stderr",
     "output_type": "stream",
     "text": [
      "100%|█████████████████████████████████████████| 23/23 [00:00<00:00, 3041.55it/s]\n",
      "100%|█████████████████████████████████████████| 23/23 [00:00<00:00, 5225.84it/s]\n"
     ]
    },
    {
     "name": "stdout",
     "output_type": "stream",
     "text": [
      "Z plane: 27\n"
     ]
    },
    {
     "name": "stderr",
     "output_type": "stream",
     "text": [
      "100%|█████████████████████████████████████████| 22/22 [00:00<00:00, 2916.67it/s]\n",
      "100%|█████████████████████████████████████████| 21/21 [00:00<00:00, 5167.52it/s]\n"
     ]
    },
    {
     "name": "stdout",
     "output_type": "stream",
     "text": [
      "Z plane: 28\n"
     ]
    },
    {
     "name": "stderr",
     "output_type": "stream",
     "text": [
      "100%|█████████████████████████████████████████| 18/18 [00:00<00:00, 3968.96it/s]\n",
      "100%|█████████████████████████████████████████| 17/17 [00:00<00:00, 7696.80it/s]\n"
     ]
    },
    {
     "name": "stdout",
     "output_type": "stream",
     "text": [
      "Z plane: 29\n"
     ]
    },
    {
     "name": "stderr",
     "output_type": "stream",
     "text": [
      "100%|█████████████████████████████████████████| 18/18 [00:00<00:00, 3110.99it/s]\n",
      "100%|█████████████████████████████████████████| 17/17 [00:00<00:00, 4010.30it/s]\n"
     ]
    },
    {
     "name": "stdout",
     "output_type": "stream",
     "text": [
      "Z plane: 30\n"
     ]
    },
    {
     "name": "stderr",
     "output_type": "stream",
     "text": [
      "100%|█████████████████████████████████████████| 16/16 [00:00<00:00, 4086.77it/s]\n",
      "100%|█████████████████████████████████████████| 15/15 [00:00<00:00, 4330.27it/s]\n"
     ]
    },
    {
     "name": "stdout",
     "output_type": "stream",
     "text": [
      "Z plane: 31\n"
     ]
    },
    {
     "name": "stderr",
     "output_type": "stream",
     "text": [
      "100%|█████████████████████████████████████████| 16/16 [00:00<00:00, 4081.80it/s]\n",
      "100%|█████████████████████████████████████████| 15/15 [00:00<00:00, 5330.84it/s]\n"
     ]
    },
    {
     "name": "stdout",
     "output_type": "stream",
     "text": [
      "Time point: 11\n",
      "Z plane: 0\n"
     ]
    },
    {
     "name": "stderr",
     "output_type": "stream",
     "text": [
      "100%|███████████████████████████████████████████| 3/3 [00:00<00:00, 1341.75it/s]\n",
      "100%|███████████████████████████████████████████| 3/3 [00:00<00:00, 1105.41it/s]\n"
     ]
    },
    {
     "name": "stdout",
     "output_type": "stream",
     "text": [
      "Z plane: 1\n"
     ]
    },
    {
     "name": "stderr",
     "output_type": "stream",
     "text": [
      "100%|████████████████████████████████████████████| 3/3 [00:00<00:00, 963.10it/s]\n",
      "100%|███████████████████████████████████████████| 3/3 [00:00<00:00, 1429.23it/s]\n"
     ]
    },
    {
     "name": "stdout",
     "output_type": "stream",
     "text": [
      "Z plane: 2\n"
     ]
    },
    {
     "name": "stderr",
     "output_type": "stream",
     "text": [
      "100%|███████████████████████████████████████████| 6/6 [00:00<00:00, 2181.13it/s]\n",
      "100%|███████████████████████████████████████████| 6/6 [00:00<00:00, 1422.52it/s]\n"
     ]
    },
    {
     "name": "stdout",
     "output_type": "stream",
     "text": [
      "Z plane: 3\n"
     ]
    },
    {
     "name": "stderr",
     "output_type": "stream",
     "text": [
      "100%|███████████████████████████████████████████| 7/7 [00:00<00:00, 1367.50it/s]\n",
      "100%|███████████████████████████████████████████| 7/7 [00:00<00:00, 2520.62it/s]\n"
     ]
    },
    {
     "name": "stdout",
     "output_type": "stream",
     "text": [
      "Z plane: 4\n"
     ]
    },
    {
     "name": "stderr",
     "output_type": "stream",
     "text": [
      "100%|███████████████████████████████████████████| 8/8 [00:00<00:00, 1804.78it/s]\n",
      "100%|███████████████████████████████████████████| 8/8 [00:00<00:00, 1436.34it/s]\n"
     ]
    },
    {
     "name": "stdout",
     "output_type": "stream",
     "text": [
      "Z plane: 5\n"
     ]
    },
    {
     "name": "stderr",
     "output_type": "stream",
     "text": [
      "100%|███████████████████████████████████████████| 9/9 [00:00<00:00, 1308.72it/s]\n",
      "100%|███████████████████████████████████████████| 9/9 [00:00<00:00, 1645.33it/s]\n"
     ]
    },
    {
     "name": "stdout",
     "output_type": "stream",
     "text": [
      "Z plane: 6\n"
     ]
    },
    {
     "name": "stderr",
     "output_type": "stream",
     "text": [
      "100%|█████████████████████████████████████████| 11/11 [00:00<00:00, 2302.72it/s]\n",
      "100%|█████████████████████████████████████████| 11/11 [00:00<00:00, 3806.08it/s]\n"
     ]
    },
    {
     "name": "stdout",
     "output_type": "stream",
     "text": [
      "Z plane: 7\n"
     ]
    },
    {
     "name": "stderr",
     "output_type": "stream",
     "text": [
      "100%|█████████████████████████████████████████| 12/12 [00:00<00:00, 1427.73it/s]\n",
      "100%|█████████████████████████████████████████| 12/12 [00:00<00:00, 2124.33it/s]\n"
     ]
    },
    {
     "name": "stdout",
     "output_type": "stream",
     "text": [
      "Z plane: 8\n"
     ]
    },
    {
     "name": "stderr",
     "output_type": "stream",
     "text": [
      "100%|█████████████████████████████████████████| 13/13 [00:00<00:00, 1155.87it/s]\n",
      "100%|█████████████████████████████████████████| 13/13 [00:00<00:00, 2295.93it/s]\n"
     ]
    },
    {
     "name": "stdout",
     "output_type": "stream",
     "text": [
      "Z plane: 9\n"
     ]
    },
    {
     "name": "stderr",
     "output_type": "stream",
     "text": [
      "100%|█████████████████████████████████████████| 14/14 [00:00<00:00, 1669.66it/s]\n",
      "100%|█████████████████████████████████████████| 14/14 [00:00<00:00, 2548.29it/s]\n"
     ]
    },
    {
     "name": "stdout",
     "output_type": "stream",
     "text": [
      "Z plane: 10\n"
     ]
    },
    {
     "name": "stderr",
     "output_type": "stream",
     "text": [
      "100%|█████████████████████████████████████████| 16/16 [00:00<00:00, 1354.01it/s]\n",
      "100%|█████████████████████████████████████████| 16/16 [00:00<00:00, 2992.32it/s]\n"
     ]
    },
    {
     "name": "stdout",
     "output_type": "stream",
     "text": [
      "Z plane: 11\n"
     ]
    },
    {
     "name": "stderr",
     "output_type": "stream",
     "text": [
      "100%|█████████████████████████████████████████| 17/17 [00:00<00:00, 1513.64it/s]\n",
      "100%|█████████████████████████████████████████| 17/17 [00:00<00:00, 1943.71it/s]\n"
     ]
    },
    {
     "name": "stdout",
     "output_type": "stream",
     "text": [
      "Z plane: 12\n"
     ]
    },
    {
     "name": "stderr",
     "output_type": "stream",
     "text": [
      "100%|█████████████████████████████████████████| 19/19 [00:00<00:00, 1798.59it/s]\n",
      "100%|█████████████████████████████████████████| 19/19 [00:00<00:00, 4637.56it/s]\n"
     ]
    },
    {
     "name": "stdout",
     "output_type": "stream",
     "text": [
      "Z plane: 13\n"
     ]
    },
    {
     "name": "stderr",
     "output_type": "stream",
     "text": [
      "100%|█████████████████████████████████████████| 22/22 [00:00<00:00, 3732.04it/s]\n",
      "100%|████████████████████████████████████████| 20/20 [00:00<00:00, 10223.78it/s]\n"
     ]
    },
    {
     "name": "stdout",
     "output_type": "stream",
     "text": [
      "Z plane: 14\n"
     ]
    },
    {
     "name": "stderr",
     "output_type": "stream",
     "text": [
      "100%|█████████████████████████████████████████| 28/28 [00:00<00:00, 5180.21it/s]\n",
      "100%|█████████████████████████████████████████| 28/28 [00:00<00:00, 4668.30it/s]\n"
     ]
    },
    {
     "name": "stdout",
     "output_type": "stream",
     "text": [
      "Z plane: 15\n"
     ]
    },
    {
     "name": "stderr",
     "output_type": "stream",
     "text": [
      "100%|█████████████████████████████████████████| 29/29 [00:00<00:00, 3255.14it/s]\n",
      "100%|█████████████████████████████████████████| 29/29 [00:00<00:00, 8903.80it/s]\n"
     ]
    },
    {
     "name": "stdout",
     "output_type": "stream",
     "text": [
      "Z plane: 16\n"
     ]
    },
    {
     "name": "stderr",
     "output_type": "stream",
     "text": [
      "100%|█████████████████████████████████████████| 30/30 [00:00<00:00, 3471.82it/s]\n",
      "100%|█████████████████████████████████████████| 28/28 [00:00<00:00, 4654.98it/s]\n"
     ]
    },
    {
     "name": "stdout",
     "output_type": "stream",
     "text": [
      "Z plane: 17\n"
     ]
    },
    {
     "name": "stderr",
     "output_type": "stream",
     "text": [
      "100%|█████████████████████████████████████████| 34/34 [00:00<00:00, 3828.46it/s]\n",
      "100%|█████████████████████████████████████████| 33/33 [00:00<00:00, 3294.74it/s]\n"
     ]
    },
    {
     "name": "stdout",
     "output_type": "stream",
     "text": [
      "Z plane: 18\n"
     ]
    },
    {
     "name": "stderr",
     "output_type": "stream",
     "text": [
      "100%|█████████████████████████████████████████| 35/35 [00:00<00:00, 4215.87it/s]\n",
      "100%|█████████████████████████████████████████| 34/34 [00:00<00:00, 7790.57it/s]\n"
     ]
    },
    {
     "name": "stdout",
     "output_type": "stream",
     "text": [
      "Z plane: 19\n"
     ]
    },
    {
     "name": "stderr",
     "output_type": "stream",
     "text": [
      "100%|█████████████████████████████████████████| 35/35 [00:00<00:00, 3870.92it/s]\n",
      "100%|█████████████████████████████████████████| 35/35 [00:00<00:00, 6338.27it/s]\n"
     ]
    },
    {
     "name": "stdout",
     "output_type": "stream",
     "text": [
      "Z plane: 20\n"
     ]
    },
    {
     "name": "stderr",
     "output_type": "stream",
     "text": [
      "100%|█████████████████████████████████████████| 35/35 [00:00<00:00, 4823.57it/s]\n",
      "100%|█████████████████████████████████████████| 35/35 [00:00<00:00, 7990.46it/s]\n"
     ]
    },
    {
     "name": "stdout",
     "output_type": "stream",
     "text": [
      "Z plane: 21\n"
     ]
    },
    {
     "name": "stderr",
     "output_type": "stream",
     "text": [
      "100%|█████████████████████████████████████████| 37/37 [00:00<00:00, 5668.81it/s]\n",
      "100%|█████████████████████████████████████████| 37/37 [00:00<00:00, 8149.41it/s]\n"
     ]
    },
    {
     "name": "stdout",
     "output_type": "stream",
     "text": [
      "Z plane: 22\n"
     ]
    },
    {
     "name": "stderr",
     "output_type": "stream",
     "text": [
      "100%|█████████████████████████████████████████| 40/40 [00:00<00:00, 5402.59it/s]\n",
      "100%|████████████████████████████████████████| 40/40 [00:00<00:00, 11135.81it/s]\n"
     ]
    },
    {
     "name": "stdout",
     "output_type": "stream",
     "text": [
      "Z plane: 23\n"
     ]
    },
    {
     "name": "stderr",
     "output_type": "stream",
     "text": [
      "100%|█████████████████████████████████████████| 35/35 [00:00<00:00, 5994.31it/s]\n",
      "100%|████████████████████████████████████████| 35/35 [00:00<00:00, 14893.03it/s]\n"
     ]
    },
    {
     "name": "stdout",
     "output_type": "stream",
     "text": [
      "Z plane: 24\n"
     ]
    },
    {
     "name": "stderr",
     "output_type": "stream",
     "text": [
      "100%|█████████████████████████████████████████| 36/36 [00:00<00:00, 3443.68it/s]\n",
      "100%|█████████████████████████████████████████| 36/36 [00:00<00:00, 5775.95it/s]\n"
     ]
    },
    {
     "name": "stdout",
     "output_type": "stream",
     "text": [
      "Z plane: 25\n"
     ]
    },
    {
     "name": "stderr",
     "output_type": "stream",
     "text": [
      "100%|█████████████████████████████████████████| 27/27 [00:00<00:00, 3820.08it/s]\n",
      "100%|█████████████████████████████████████████| 27/27 [00:00<00:00, 5268.25it/s]\n"
     ]
    },
    {
     "name": "stdout",
     "output_type": "stream",
     "text": [
      "Z plane: 26\n"
     ]
    },
    {
     "name": "stderr",
     "output_type": "stream",
     "text": [
      "100%|█████████████████████████████████████████| 25/25 [00:00<00:00, 2555.94it/s]\n",
      "100%|█████████████████████████████████████████| 25/25 [00:00<00:00, 4785.61it/s]\n"
     ]
    },
    {
     "name": "stdout",
     "output_type": "stream",
     "text": [
      "Z plane: 27\n"
     ]
    },
    {
     "name": "stderr",
     "output_type": "stream",
     "text": [
      "100%|█████████████████████████████████████████| 24/24 [00:00<00:00, 2671.11it/s]\n",
      "100%|█████████████████████████████████████████| 24/24 [00:00<00:00, 4500.12it/s]\n"
     ]
    },
    {
     "name": "stdout",
     "output_type": "stream",
     "text": [
      "Z plane: 28\n"
     ]
    },
    {
     "name": "stderr",
     "output_type": "stream",
     "text": [
      "100%|█████████████████████████████████████████| 24/24 [00:00<00:00, 3985.56it/s]\n",
      "100%|█████████████████████████████████████████| 24/24 [00:00<00:00, 4304.24it/s]\n"
     ]
    },
    {
     "name": "stdout",
     "output_type": "stream",
     "text": [
      "Z plane: 29\n"
     ]
    },
    {
     "name": "stderr",
     "output_type": "stream",
     "text": [
      "100%|█████████████████████████████████████████| 19/19 [00:00<00:00, 2821.55it/s]\n",
      "100%|█████████████████████████████████████████| 19/19 [00:00<00:00, 5283.55it/s]\n"
     ]
    },
    {
     "name": "stdout",
     "output_type": "stream",
     "text": [
      "Z plane: 30\n"
     ]
    },
    {
     "name": "stderr",
     "output_type": "stream",
     "text": [
      "100%|█████████████████████████████████████████| 16/16 [00:00<00:00, 4105.77it/s]\n",
      "100%|█████████████████████████████████████████| 16/16 [00:00<00:00, 3734.91it/s]\n"
     ]
    },
    {
     "name": "stdout",
     "output_type": "stream",
     "text": [
      "Z plane: 31\n"
     ]
    },
    {
     "name": "stderr",
     "output_type": "stream",
     "text": [
      "100%|█████████████████████████████████████████| 17/17 [00:00<00:00, 3109.47it/s]\n",
      "100%|█████████████████████████████████████████| 17/17 [00:00<00:00, 4484.48it/s]\n"
     ]
    },
    {
     "name": "stdout",
     "output_type": "stream",
     "text": [
      "Time point: 12\n",
      "Z plane: 0\n"
     ]
    },
    {
     "name": "stderr",
     "output_type": "stream",
     "text": [
      "100%|███████████████████████████████████████████| 3/3 [00:00<00:00, 1434.77it/s]\n",
      "100%|███████████████████████████████████████████| 3/3 [00:00<00:00, 1797.30it/s]\n"
     ]
    },
    {
     "name": "stdout",
     "output_type": "stream",
     "text": [
      "Z plane: 1\n"
     ]
    },
    {
     "name": "stderr",
     "output_type": "stream",
     "text": [
      "100%|███████████████████████████████████████████| 3/3 [00:00<00:00, 1696.50it/s]\n",
      "100%|███████████████████████████████████████████| 3/3 [00:00<00:00, 1684.46it/s]\n"
     ]
    },
    {
     "name": "stdout",
     "output_type": "stream",
     "text": [
      "Z plane: 2\n"
     ]
    },
    {
     "name": "stderr",
     "output_type": "stream",
     "text": [
      "100%|███████████████████████████████████████████| 4/4 [00:00<00:00, 1539.05it/s]\n",
      "100%|███████████████████████████████████████████| 4/4 [00:00<00:00, 1073.60it/s]\n"
     ]
    },
    {
     "name": "stdout",
     "output_type": "stream",
     "text": [
      "Z plane: 3\n"
     ]
    },
    {
     "name": "stderr",
     "output_type": "stream",
     "text": [
      "100%|███████████████████████████████████████████| 6/6 [00:00<00:00, 1226.05it/s]\n",
      "100%|████████████████████████████████████████████| 6/6 [00:00<00:00, 977.31it/s]\n"
     ]
    },
    {
     "name": "stdout",
     "output_type": "stream",
     "text": [
      "Z plane: 4\n"
     ]
    },
    {
     "name": "stderr",
     "output_type": "stream",
     "text": [
      "100%|███████████████████████████████████████████| 7/7 [00:00<00:00, 1883.75it/s]\n",
      "100%|███████████████████████████████████████████| 7/7 [00:00<00:00, 1380.16it/s]\n"
     ]
    },
    {
     "name": "stdout",
     "output_type": "stream",
     "text": [
      "Z plane: 5\n"
     ]
    },
    {
     "name": "stderr",
     "output_type": "stream",
     "text": [
      "100%|███████████████████████████████████████████| 9/9 [00:00<00:00, 1275.55it/s]\n",
      "100%|███████████████████████████████████████████| 9/9 [00:00<00:00, 1715.93it/s]\n"
     ]
    },
    {
     "name": "stdout",
     "output_type": "stream",
     "text": [
      "Z plane: 6\n"
     ]
    },
    {
     "name": "stderr",
     "output_type": "stream",
     "text": [
      "100%|█████████████████████████████████████████| 11/11 [00:00<00:00, 1489.70it/s]\n",
      "100%|█████████████████████████████████████████| 11/11 [00:00<00:00, 3417.33it/s]\n"
     ]
    },
    {
     "name": "stdout",
     "output_type": "stream",
     "text": [
      "Z plane: 7\n"
     ]
    },
    {
     "name": "stderr",
     "output_type": "stream",
     "text": [
      "100%|█████████████████████████████████████████| 11/11 [00:00<00:00, 1814.36it/s]\n",
      "100%|█████████████████████████████████████████| 11/11 [00:00<00:00, 1650.65it/s]\n"
     ]
    },
    {
     "name": "stdout",
     "output_type": "stream",
     "text": [
      "Z plane: 8\n"
     ]
    },
    {
     "name": "stderr",
     "output_type": "stream",
     "text": [
      "100%|█████████████████████████████████████████| 13/13 [00:00<00:00, 1123.02it/s]\n",
      "100%|█████████████████████████████████████████| 13/13 [00:00<00:00, 2024.28it/s]\n"
     ]
    },
    {
     "name": "stdout",
     "output_type": "stream",
     "text": [
      "Z plane: 9\n"
     ]
    },
    {
     "name": "stderr",
     "output_type": "stream",
     "text": [
      "100%|█████████████████████████████████████████| 15/15 [00:00<00:00, 1848.63it/s]\n",
      "100%|█████████████████████████████████████████| 15/15 [00:00<00:00, 2815.73it/s]\n"
     ]
    },
    {
     "name": "stdout",
     "output_type": "stream",
     "text": [
      "Z plane: 10\n"
     ]
    },
    {
     "name": "stderr",
     "output_type": "stream",
     "text": [
      "100%|█████████████████████████████████████████| 16/16 [00:00<00:00, 1516.58it/s]\n",
      "100%|█████████████████████████████████████████| 16/16 [00:00<00:00, 2709.61it/s]\n"
     ]
    },
    {
     "name": "stdout",
     "output_type": "stream",
     "text": [
      "Z plane: 11\n"
     ]
    },
    {
     "name": "stderr",
     "output_type": "stream",
     "text": [
      "100%|█████████████████████████████████████████| 18/18 [00:00<00:00, 3244.97it/s]\n",
      "100%|█████████████████████████████████████████| 18/18 [00:00<00:00, 2902.30it/s]\n"
     ]
    },
    {
     "name": "stdout",
     "output_type": "stream",
     "text": [
      "Z plane: 12\n"
     ]
    },
    {
     "name": "stderr",
     "output_type": "stream",
     "text": [
      "100%|█████████████████████████████████████████| 19/19 [00:00<00:00, 1405.30it/s]\n",
      "100%|█████████████████████████████████████████| 19/19 [00:00<00:00, 2745.53it/s]\n"
     ]
    },
    {
     "name": "stdout",
     "output_type": "stream",
     "text": [
      "Z plane: 13\n"
     ]
    },
    {
     "name": "stderr",
     "output_type": "stream",
     "text": [
      "100%|█████████████████████████████████████████| 19/19 [00:00<00:00, 1896.43it/s]\n",
      "100%|█████████████████████████████████████████| 19/19 [00:00<00:00, 3483.03it/s]\n"
     ]
    },
    {
     "name": "stdout",
     "output_type": "stream",
     "text": [
      "Z plane: 14\n"
     ]
    },
    {
     "name": "stderr",
     "output_type": "stream",
     "text": [
      "100%|█████████████████████████████████████████| 26/26 [00:00<00:00, 2609.15it/s]\n",
      "100%|█████████████████████████████████████████| 26/26 [00:00<00:00, 4515.61it/s]\n"
     ]
    },
    {
     "name": "stdout",
     "output_type": "stream",
     "text": [
      "Z plane: 15\n"
     ]
    },
    {
     "name": "stderr",
     "output_type": "stream",
     "text": [
      "100%|█████████████████████████████████████████| 28/28 [00:00<00:00, 4492.41it/s]\n",
      "100%|█████████████████████████████████████████| 28/28 [00:00<00:00, 5966.29it/s]\n"
     ]
    },
    {
     "name": "stdout",
     "output_type": "stream",
     "text": [
      "Z plane: 16\n"
     ]
    },
    {
     "name": "stderr",
     "output_type": "stream",
     "text": [
      "100%|█████████████████████████████████████████| 33/33 [00:00<00:00, 3095.43it/s]\n",
      "100%|█████████████████████████████████████████| 33/33 [00:00<00:00, 5442.86it/s]\n"
     ]
    },
    {
     "name": "stdout",
     "output_type": "stream",
     "text": [
      "Z plane: 17\n"
     ]
    },
    {
     "name": "stderr",
     "output_type": "stream",
     "text": [
      "100%|█████████████████████████████████████████| 33/33 [00:00<00:00, 3837.21it/s]\n",
      "100%|█████████████████████████████████████████| 33/33 [00:00<00:00, 8911.41it/s]\n"
     ]
    },
    {
     "name": "stdout",
     "output_type": "stream",
     "text": [
      "Z plane: 18\n"
     ]
    },
    {
     "name": "stderr",
     "output_type": "stream",
     "text": [
      "100%|█████████████████████████████████████████| 37/37 [00:00<00:00, 4466.26it/s]\n",
      "100%|█████████████████████████████████████████| 35/35 [00:00<00:00, 6797.58it/s]\n"
     ]
    },
    {
     "name": "stdout",
     "output_type": "stream",
     "text": [
      "Z plane: 19\n"
     ]
    },
    {
     "name": "stderr",
     "output_type": "stream",
     "text": [
      "100%|█████████████████████████████████████████| 40/40 [00:00<00:00, 4567.34it/s]\n",
      "100%|█████████████████████████████████████████| 39/39 [00:00<00:00, 9577.72it/s]\n"
     ]
    },
    {
     "name": "stdout",
     "output_type": "stream",
     "text": [
      "Z plane: 20\n"
     ]
    },
    {
     "name": "stderr",
     "output_type": "stream",
     "text": [
      "100%|█████████████████████████████████████████| 37/37 [00:00<00:00, 3960.22it/s]\n",
      "100%|█████████████████████████████████████████| 36/36 [00:00<00:00, 6185.53it/s]\n"
     ]
    },
    {
     "name": "stdout",
     "output_type": "stream",
     "text": [
      "Z plane: 21\n"
     ]
    },
    {
     "name": "stderr",
     "output_type": "stream",
     "text": [
      "100%|█████████████████████████████████████████| 37/37 [00:00<00:00, 6877.43it/s]\n",
      "100%|████████████████████████████████████████| 37/37 [00:00<00:00, 16358.10it/s]\n"
     ]
    },
    {
     "name": "stdout",
     "output_type": "stream",
     "text": [
      "Z plane: 22\n"
     ]
    },
    {
     "name": "stderr",
     "output_type": "stream",
     "text": [
      "100%|█████████████████████████████████████████| 32/32 [00:00<00:00, 3102.01it/s]\n",
      "100%|█████████████████████████████████████████| 32/32 [00:00<00:00, 5434.80it/s]\n"
     ]
    },
    {
     "name": "stdout",
     "output_type": "stream",
     "text": [
      "Z plane: 23\n"
     ]
    },
    {
     "name": "stderr",
     "output_type": "stream",
     "text": [
      "100%|█████████████████████████████████████████| 32/32 [00:00<00:00, 2840.95it/s]\n",
      "100%|█████████████████████████████████████████| 32/32 [00:00<00:00, 4228.80it/s]\n"
     ]
    },
    {
     "name": "stdout",
     "output_type": "stream",
     "text": [
      "Z plane: 24\n"
     ]
    },
    {
     "name": "stderr",
     "output_type": "stream",
     "text": [
      "100%|█████████████████████████████████████████| 33/33 [00:00<00:00, 3009.87it/s]\n",
      "100%|█████████████████████████████████████████| 32/32 [00:00<00:00, 4039.42it/s]\n"
     ]
    },
    {
     "name": "stdout",
     "output_type": "stream",
     "text": [
      "Z plane: 25\n"
     ]
    },
    {
     "name": "stderr",
     "output_type": "stream",
     "text": [
      "100%|█████████████████████████████████████████| 28/28 [00:00<00:00, 2291.34it/s]\n",
      "100%|█████████████████████████████████████████| 27/27 [00:00<00:00, 3295.11it/s]\n"
     ]
    },
    {
     "name": "stdout",
     "output_type": "stream",
     "text": [
      "Z plane: 26\n"
     ]
    },
    {
     "name": "stderr",
     "output_type": "stream",
     "text": [
      "100%|█████████████████████████████████████████| 23/23 [00:00<00:00, 2026.23it/s]\n",
      "100%|█████████████████████████████████████████| 23/23 [00:00<00:00, 3757.46it/s]\n"
     ]
    },
    {
     "name": "stdout",
     "output_type": "stream",
     "text": [
      "Z plane: 27\n"
     ]
    },
    {
     "name": "stderr",
     "output_type": "stream",
     "text": [
      "100%|█████████████████████████████████████████| 22/22 [00:00<00:00, 2383.99it/s]\n",
      "100%|█████████████████████████████████████████| 22/22 [00:00<00:00, 3562.73it/s]\n"
     ]
    },
    {
     "name": "stdout",
     "output_type": "stream",
     "text": [
      "Z plane: 28\n"
     ]
    },
    {
     "name": "stderr",
     "output_type": "stream",
     "text": [
      "100%|█████████████████████████████████████████| 21/21 [00:00<00:00, 2464.55it/s]\n",
      "100%|█████████████████████████████████████████| 21/21 [00:00<00:00, 3811.19it/s]\n"
     ]
    },
    {
     "name": "stdout",
     "output_type": "stream",
     "text": [
      "Z plane: 29\n"
     ]
    },
    {
     "name": "stderr",
     "output_type": "stream",
     "text": [
      "100%|█████████████████████████████████████████| 20/20 [00:00<00:00, 4257.10it/s]\n",
      "100%|█████████████████████████████████████████| 20/20 [00:00<00:00, 5279.84it/s]\n"
     ]
    },
    {
     "name": "stdout",
     "output_type": "stream",
     "text": [
      "Z plane: 30\n"
     ]
    },
    {
     "name": "stderr",
     "output_type": "stream",
     "text": [
      "100%|█████████████████████████████████████████| 17/17 [00:00<00:00, 2888.05it/s]\n",
      "100%|█████████████████████████████████████████| 17/17 [00:00<00:00, 3863.83it/s]\n"
     ]
    },
    {
     "name": "stdout",
     "output_type": "stream",
     "text": [
      "Z plane: 31\n"
     ]
    },
    {
     "name": "stderr",
     "output_type": "stream",
     "text": [
      "100%|█████████████████████████████████████████| 16/16 [00:00<00:00, 2139.06it/s]\n",
      "100%|█████████████████████████████████████████| 16/16 [00:00<00:00, 4481.99it/s]\n"
     ]
    },
    {
     "name": "stdout",
     "output_type": "stream",
     "text": [
      "Time point: 13\n",
      "Z plane: 0\n"
     ]
    },
    {
     "name": "stderr",
     "output_type": "stream",
     "text": [
      "100%|███████████████████████████████████████████| 3/3 [00:00<00:00, 1328.01it/s]\n",
      "100%|███████████████████████████████████████████| 3/3 [00:00<00:00, 1110.19it/s]\n"
     ]
    },
    {
     "name": "stdout",
     "output_type": "stream",
     "text": [
      "Z plane: 1\n"
     ]
    },
    {
     "name": "stderr",
     "output_type": "stream",
     "text": [
      "100%|███████████████████████████████████████████| 3/3 [00:00<00:00, 1375.03it/s]\n",
      "100%|███████████████████████████████████████████| 3/3 [00:00<00:00, 1184.83it/s]\n"
     ]
    },
    {
     "name": "stdout",
     "output_type": "stream",
     "text": [
      "Z plane: 2\n"
     ]
    },
    {
     "name": "stderr",
     "output_type": "stream",
     "text": [
      "100%|███████████████████████████████████████████| 4/4 [00:00<00:00, 1045.96it/s]\n",
      "100%|███████████████████████████████████████████| 4/4 [00:00<00:00, 1066.98it/s]\n"
     ]
    },
    {
     "name": "stdout",
     "output_type": "stream",
     "text": [
      "Z plane: 3\n"
     ]
    },
    {
     "name": "stderr",
     "output_type": "stream",
     "text": [
      "100%|████████████████████████████████████████████| 6/6 [00:00<00:00, 929.38it/s]\n",
      "100%|████████████████████████████████████████████| 6/6 [00:00<00:00, 912.96it/s]\n"
     ]
    },
    {
     "name": "stdout",
     "output_type": "stream",
     "text": [
      "Z plane: 4\n"
     ]
    },
    {
     "name": "stderr",
     "output_type": "stream",
     "text": [
      "100%|████████████████████████████████████████████| 7/7 [00:00<00:00, 987.86it/s]\n",
      "100%|███████████████████████████████████████████| 7/7 [00:00<00:00, 1373.32it/s]\n"
     ]
    },
    {
     "name": "stdout",
     "output_type": "stream",
     "text": [
      "Z plane: 5\n"
     ]
    },
    {
     "name": "stderr",
     "output_type": "stream",
     "text": [
      "100%|████████████████████████████████████████████| 8/8 [00:00<00:00, 921.45it/s]\n",
      "100%|███████████████████████████████████████████| 8/8 [00:00<00:00, 1576.95it/s]\n"
     ]
    },
    {
     "name": "stdout",
     "output_type": "stream",
     "text": [
      "Z plane: 6\n"
     ]
    },
    {
     "name": "stderr",
     "output_type": "stream",
     "text": [
      "100%|█████████████████████████████████████████| 11/11 [00:00<00:00, 1328.38it/s]\n",
      "100%|█████████████████████████████████████████| 11/11 [00:00<00:00, 1456.77it/s]\n"
     ]
    },
    {
     "name": "stdout",
     "output_type": "stream",
     "text": [
      "Z plane: 7\n"
     ]
    },
    {
     "name": "stderr",
     "output_type": "stream",
     "text": [
      "100%|███████████████████████████████████████████| 9/9 [00:00<00:00, 1286.64it/s]\n",
      "100%|███████████████████████████████████████████| 9/9 [00:00<00:00, 1310.63it/s]\n"
     ]
    },
    {
     "name": "stdout",
     "output_type": "stream",
     "text": [
      "Z plane: 8\n"
     ]
    },
    {
     "name": "stderr",
     "output_type": "stream",
     "text": [
      "100%|█████████████████████████████████████████| 13/13 [00:00<00:00, 1430.19it/s]\n",
      "100%|█████████████████████████████████████████| 13/13 [00:00<00:00, 1783.70it/s]\n"
     ]
    },
    {
     "name": "stdout",
     "output_type": "stream",
     "text": [
      "Z plane: 9\n"
     ]
    },
    {
     "name": "stderr",
     "output_type": "stream",
     "text": [
      "100%|█████████████████████████████████████████| 14/14 [00:00<00:00, 1927.78it/s]\n",
      "100%|█████████████████████████████████████████| 14/14 [00:00<00:00, 2462.37it/s]\n"
     ]
    },
    {
     "name": "stdout",
     "output_type": "stream",
     "text": [
      "Z plane: 10\n"
     ]
    },
    {
     "name": "stderr",
     "output_type": "stream",
     "text": [
      "100%|█████████████████████████████████████████| 16/16 [00:00<00:00, 1641.73it/s]\n",
      "100%|█████████████████████████████████████████| 16/16 [00:00<00:00, 2472.15it/s]\n"
     ]
    },
    {
     "name": "stdout",
     "output_type": "stream",
     "text": [
      "Z plane: 11\n"
     ]
    },
    {
     "name": "stderr",
     "output_type": "stream",
     "text": [
      "100%|█████████████████████████████████████████| 17/17 [00:00<00:00, 2544.91it/s]\n",
      "100%|█████████████████████████████████████████| 17/17 [00:00<00:00, 2630.34it/s]\n"
     ]
    },
    {
     "name": "stdout",
     "output_type": "stream",
     "text": [
      "Z plane: 12\n"
     ]
    },
    {
     "name": "stderr",
     "output_type": "stream",
     "text": [
      "100%|█████████████████████████████████████████| 18/18 [00:00<00:00, 1920.62it/s]\n",
      "100%|█████████████████████████████████████████| 18/18 [00:00<00:00, 3474.02it/s]\n"
     ]
    },
    {
     "name": "stdout",
     "output_type": "stream",
     "text": [
      "Z plane: 13\n"
     ]
    },
    {
     "name": "stderr",
     "output_type": "stream",
     "text": [
      "100%|█████████████████████████████████████████| 17/17 [00:00<00:00, 1526.02it/s]\n",
      "100%|█████████████████████████████████████████| 17/17 [00:00<00:00, 3877.70it/s]\n"
     ]
    },
    {
     "name": "stdout",
     "output_type": "stream",
     "text": [
      "Z plane: 14\n"
     ]
    },
    {
     "name": "stderr",
     "output_type": "stream",
     "text": [
      "100%|█████████████████████████████████████████| 21/21 [00:00<00:00, 2942.49it/s]\n",
      "100%|█████████████████████████████████████████| 21/21 [00:00<00:00, 3977.26it/s]\n"
     ]
    },
    {
     "name": "stdout",
     "output_type": "stream",
     "text": [
      "Z plane: 15\n"
     ]
    },
    {
     "name": "stderr",
     "output_type": "stream",
     "text": [
      "100%|█████████████████████████████████████████| 24/24 [00:00<00:00, 2450.42it/s]\n",
      "100%|█████████████████████████████████████████| 24/24 [00:00<00:00, 6052.75it/s]\n"
     ]
    },
    {
     "name": "stdout",
     "output_type": "stream",
     "text": [
      "Z plane: 16\n"
     ]
    },
    {
     "name": "stderr",
     "output_type": "stream",
     "text": [
      "100%|█████████████████████████████████████████| 33/33 [00:00<00:00, 4380.27it/s]\n",
      "100%|█████████████████████████████████████████| 33/33 [00:00<00:00, 7628.53it/s]\n"
     ]
    },
    {
     "name": "stdout",
     "output_type": "stream",
     "text": [
      "Z plane: 17\n"
     ]
    },
    {
     "name": "stderr",
     "output_type": "stream",
     "text": [
      "100%|█████████████████████████████████████████| 34/34 [00:00<00:00, 2577.89it/s]\n",
      "100%|█████████████████████████████████████████| 34/34 [00:00<00:00, 5834.72it/s]\n"
     ]
    },
    {
     "name": "stdout",
     "output_type": "stream",
     "text": [
      "Z plane: 18\n"
     ]
    },
    {
     "name": "stderr",
     "output_type": "stream",
     "text": [
      "100%|█████████████████████████████████████████| 34/34 [00:00<00:00, 2065.62it/s]\n",
      "100%|█████████████████████████████████████████| 34/34 [00:00<00:00, 4055.35it/s]\n"
     ]
    },
    {
     "name": "stdout",
     "output_type": "stream",
     "text": [
      "Z plane: 19\n"
     ]
    },
    {
     "name": "stderr",
     "output_type": "stream",
     "text": [
      "100%|█████████████████████████████████████████| 36/36 [00:00<00:00, 2885.11it/s]\n",
      "100%|█████████████████████████████████████████| 36/36 [00:00<00:00, 7569.43it/s]\n"
     ]
    },
    {
     "name": "stdout",
     "output_type": "stream",
     "text": [
      "Z plane: 20\n"
     ]
    },
    {
     "name": "stderr",
     "output_type": "stream",
     "text": [
      "100%|█████████████████████████████████████████| 35/35 [00:00<00:00, 3089.43it/s]\n",
      "100%|█████████████████████████████████████████| 35/35 [00:00<00:00, 4947.61it/s]\n"
     ]
    },
    {
     "name": "stdout",
     "output_type": "stream",
     "text": [
      "Z plane: 21\n"
     ]
    },
    {
     "name": "stderr",
     "output_type": "stream",
     "text": [
      "100%|█████████████████████████████████████████| 38/38 [00:00<00:00, 2985.49it/s]\n",
      "100%|█████████████████████████████████████████| 38/38 [00:00<00:00, 6566.56it/s]\n"
     ]
    },
    {
     "name": "stdout",
     "output_type": "stream",
     "text": [
      "Z plane: 22\n"
     ]
    },
    {
     "name": "stderr",
     "output_type": "stream",
     "text": [
      "100%|█████████████████████████████████████████| 36/36 [00:00<00:00, 2850.74it/s]\n",
      "100%|█████████████████████████████████████████| 36/36 [00:00<00:00, 5812.19it/s]\n"
     ]
    },
    {
     "name": "stdout",
     "output_type": "stream",
     "text": [
      "Z plane: 23\n"
     ]
    },
    {
     "name": "stderr",
     "output_type": "stream",
     "text": [
      "100%|█████████████████████████████████████████| 38/38 [00:00<00:00, 3632.26it/s]\n",
      "100%|█████████████████████████████████████████| 38/38 [00:00<00:00, 7817.13it/s]\n"
     ]
    },
    {
     "name": "stdout",
     "output_type": "stream",
     "text": [
      "Z plane: 24\n"
     ]
    },
    {
     "name": "stderr",
     "output_type": "stream",
     "text": [
      "100%|█████████████████████████████████████████| 35/35 [00:00<00:00, 2326.48it/s]\n",
      "100%|█████████████████████████████████████████| 35/35 [00:00<00:00, 4311.83it/s]\n"
     ]
    },
    {
     "name": "stdout",
     "output_type": "stream",
     "text": [
      "Z plane: 25\n"
     ]
    },
    {
     "name": "stderr",
     "output_type": "stream",
     "text": [
      "100%|█████████████████████████████████████████| 30/30 [00:00<00:00, 2220.89it/s]\n",
      "100%|█████████████████████████████████████████| 30/30 [00:00<00:00, 3723.97it/s]\n"
     ]
    },
    {
     "name": "stdout",
     "output_type": "stream",
     "text": [
      "Z plane: 26\n"
     ]
    },
    {
     "name": "stderr",
     "output_type": "stream",
     "text": [
      "100%|█████████████████████████████████████████| 28/28 [00:00<00:00, 2370.48it/s]\n",
      "100%|█████████████████████████████████████████| 28/28 [00:00<00:00, 4075.11it/s]\n"
     ]
    },
    {
     "name": "stdout",
     "output_type": "stream",
     "text": [
      "Z plane: 27\n"
     ]
    },
    {
     "name": "stderr",
     "output_type": "stream",
     "text": [
      "100%|█████████████████████████████████████████| 25/25 [00:00<00:00, 2900.38it/s]\n",
      "100%|█████████████████████████████████████████| 25/25 [00:00<00:00, 3310.42it/s]\n"
     ]
    },
    {
     "name": "stdout",
     "output_type": "stream",
     "text": [
      "Z plane: 28\n"
     ]
    },
    {
     "name": "stderr",
     "output_type": "stream",
     "text": [
      "100%|█████████████████████████████████████████| 22/22 [00:00<00:00, 2430.14it/s]\n",
      "100%|█████████████████████████████████████████| 21/21 [00:00<00:00, 3536.65it/s]\n"
     ]
    },
    {
     "name": "stdout",
     "output_type": "stream",
     "text": [
      "Z plane: 29\n"
     ]
    },
    {
     "name": "stderr",
     "output_type": "stream",
     "text": [
      "100%|█████████████████████████████████████████| 23/23 [00:00<00:00, 2341.65it/s]\n",
      "100%|█████████████████████████████████████████| 23/23 [00:00<00:00, 4877.84it/s]\n"
     ]
    },
    {
     "name": "stdout",
     "output_type": "stream",
     "text": [
      "Z plane: 30\n"
     ]
    },
    {
     "name": "stderr",
     "output_type": "stream",
     "text": [
      "100%|█████████████████████████████████████████| 19/19 [00:00<00:00, 3523.07it/s]\n",
      "100%|█████████████████████████████████████████| 19/19 [00:00<00:00, 3898.24it/s]\n"
     ]
    },
    {
     "name": "stdout",
     "output_type": "stream",
     "text": [
      "Z plane: 31\n"
     ]
    },
    {
     "name": "stderr",
     "output_type": "stream",
     "text": [
      "100%|█████████████████████████████████████████| 17/17 [00:00<00:00, 3685.11it/s]\n",
      "100%|█████████████████████████████████████████| 17/17 [00:00<00:00, 5100.37it/s]\n"
     ]
    },
    {
     "name": "stdout",
     "output_type": "stream",
     "text": [
      "Time point: 14\n",
      "Z plane: 0\n"
     ]
    },
    {
     "name": "stderr",
     "output_type": "stream",
     "text": [
      "100%|███████████████████████████████████████████| 2/2 [00:00<00:00, 1537.22it/s]\n",
      "100%|███████████████████████████████████████████| 2/2 [00:00<00:00, 1712.66it/s]\n"
     ]
    },
    {
     "name": "stdout",
     "output_type": "stream",
     "text": [
      "Z plane: 1\n"
     ]
    },
    {
     "name": "stderr",
     "output_type": "stream",
     "text": [
      "100%|████████████████████████████████████████████| 2/2 [00:00<00:00, 756.14it/s]\n",
      "100%|████████████████████████████████████████████| 2/2 [00:00<00:00, 585.47it/s]\n"
     ]
    },
    {
     "name": "stdout",
     "output_type": "stream",
     "text": [
      "Z plane: 2\n"
     ]
    },
    {
     "name": "stderr",
     "output_type": "stream",
     "text": [
      "100%|███████████████████████████████████████████| 3/3 [00:00<00:00, 1368.45it/s]\n",
      "100%|████████████████████████████████████████████| 3/3 [00:00<00:00, 769.22it/s]\n"
     ]
    },
    {
     "name": "stdout",
     "output_type": "stream",
     "text": [
      "Z plane: 3\n"
     ]
    },
    {
     "name": "stderr",
     "output_type": "stream",
     "text": [
      "100%|████████████████████████████████████████████| 5/5 [00:00<00:00, 888.59it/s]\n",
      "100%|███████████████████████████████████████████| 5/5 [00:00<00:00, 1245.93it/s]\n"
     ]
    },
    {
     "name": "stdout",
     "output_type": "stream",
     "text": [
      "Z plane: 4\n"
     ]
    },
    {
     "name": "stderr",
     "output_type": "stream",
     "text": [
      "100%|████████████████████████████████████████████| 6/6 [00:00<00:00, 673.78it/s]\n",
      "100%|████████████████████████████████████████████| 6/6 [00:00<00:00, 873.12it/s]\n"
     ]
    },
    {
     "name": "stdout",
     "output_type": "stream",
     "text": [
      "Z plane: 5\n"
     ]
    },
    {
     "name": "stderr",
     "output_type": "stream",
     "text": [
      "100%|████████████████████████████████████████████| 8/8 [00:00<00:00, 853.69it/s]\n",
      "100%|███████████████████████████████████████████| 8/8 [00:00<00:00, 1920.69it/s]\n"
     ]
    },
    {
     "name": "stdout",
     "output_type": "stream",
     "text": [
      "Z plane: 6\n"
     ]
    },
    {
     "name": "stderr",
     "output_type": "stream",
     "text": [
      "100%|████████████████████████████████████████████| 9/9 [00:00<00:00, 951.78it/s]\n",
      "100%|███████████████████████████████████████████| 9/9 [00:00<00:00, 1324.89it/s]\n"
     ]
    },
    {
     "name": "stdout",
     "output_type": "stream",
     "text": [
      "Z plane: 7\n"
     ]
    },
    {
     "name": "stderr",
     "output_type": "stream",
     "text": [
      "100%|█████████████████████████████████████████| 10/10 [00:00<00:00, 1290.32it/s]\n",
      "100%|█████████████████████████████████████████| 10/10 [00:00<00:00, 1472.72it/s]\n"
     ]
    },
    {
     "name": "stdout",
     "output_type": "stream",
     "text": [
      "Z plane: 8\n"
     ]
    },
    {
     "name": "stderr",
     "output_type": "stream",
     "text": [
      "100%|█████████████████████████████████████████| 10/10 [00:00<00:00, 1197.86it/s]\n",
      "100%|█████████████████████████████████████████| 10/10 [00:00<00:00, 1514.08it/s]\n"
     ]
    },
    {
     "name": "stdout",
     "output_type": "stream",
     "text": [
      "Z plane: 9\n"
     ]
    },
    {
     "name": "stderr",
     "output_type": "stream",
     "text": [
      "100%|█████████████████████████████████████████| 14/14 [00:00<00:00, 1694.96it/s]\n",
      "100%|█████████████████████████████████████████| 14/14 [00:00<00:00, 3080.16it/s]\n"
     ]
    },
    {
     "name": "stdout",
     "output_type": "stream",
     "text": [
      "Z plane: 10\n"
     ]
    },
    {
     "name": "stderr",
     "output_type": "stream",
     "text": [
      "100%|█████████████████████████████████████████| 15/15 [00:00<00:00, 2059.53it/s]\n",
      "100%|█████████████████████████████████████████| 15/15 [00:00<00:00, 2955.68it/s]\n"
     ]
    },
    {
     "name": "stdout",
     "output_type": "stream",
     "text": [
      "Z plane: 11\n"
     ]
    },
    {
     "name": "stderr",
     "output_type": "stream",
     "text": [
      "100%|█████████████████████████████████████████| 13/13 [00:00<00:00, 1266.54it/s]\n",
      "100%|█████████████████████████████████████████| 13/13 [00:00<00:00, 2078.29it/s]\n"
     ]
    },
    {
     "name": "stdout",
     "output_type": "stream",
     "text": [
      "Z plane: 12\n"
     ]
    },
    {
     "name": "stderr",
     "output_type": "stream",
     "text": [
      "100%|█████████████████████████████████████████| 15/15 [00:00<00:00, 1386.70it/s]\n",
      "100%|█████████████████████████████████████████| 15/15 [00:00<00:00, 4719.77it/s]\n"
     ]
    },
    {
     "name": "stdout",
     "output_type": "stream",
     "text": [
      "Z plane: 13\n"
     ]
    },
    {
     "name": "stderr",
     "output_type": "stream",
     "text": [
      "100%|█████████████████████████████████████████| 16/16 [00:00<00:00, 1975.82it/s]\n",
      "100%|█████████████████████████████████████████| 16/16 [00:00<00:00, 3718.35it/s]\n"
     ]
    },
    {
     "name": "stdout",
     "output_type": "stream",
     "text": [
      "Z plane: 14\n"
     ]
    },
    {
     "name": "stderr",
     "output_type": "stream",
     "text": [
      "100%|█████████████████████████████████████████| 19/19 [00:00<00:00, 2264.36it/s]\n",
      "100%|█████████████████████████████████████████| 19/19 [00:00<00:00, 2901.58it/s]\n"
     ]
    },
    {
     "name": "stdout",
     "output_type": "stream",
     "text": [
      "Z plane: 15\n"
     ]
    },
    {
     "name": "stderr",
     "output_type": "stream",
     "text": [
      "100%|█████████████████████████████████████████| 26/26 [00:00<00:00, 3513.04it/s]\n",
      "100%|█████████████████████████████████████████| 26/26 [00:00<00:00, 4818.27it/s]\n"
     ]
    },
    {
     "name": "stdout",
     "output_type": "stream",
     "text": [
      "Z plane: 16\n"
     ]
    },
    {
     "name": "stderr",
     "output_type": "stream",
     "text": [
      "100%|█████████████████████████████████████████| 28/28 [00:00<00:00, 3094.94it/s]\n",
      "100%|█████████████████████████████████████████| 28/28 [00:00<00:00, 6324.89it/s]\n"
     ]
    },
    {
     "name": "stdout",
     "output_type": "stream",
     "text": [
      "Z plane: 17\n"
     ]
    },
    {
     "name": "stderr",
     "output_type": "stream",
     "text": [
      "100%|█████████████████████████████████████████| 31/31 [00:00<00:00, 2513.99it/s]\n",
      "100%|█████████████████████████████████████████| 31/31 [00:00<00:00, 4957.62it/s]\n"
     ]
    },
    {
     "name": "stdout",
     "output_type": "stream",
     "text": [
      "Z plane: 18\n"
     ]
    },
    {
     "name": "stderr",
     "output_type": "stream",
     "text": [
      "100%|█████████████████████████████████████████| 31/31 [00:00<00:00, 2696.85it/s]\n",
      "100%|█████████████████████████████████████████| 30/30 [00:00<00:00, 5056.42it/s]\n"
     ]
    },
    {
     "name": "stdout",
     "output_type": "stream",
     "text": [
      "Z plane: 19\n"
     ]
    },
    {
     "name": "stderr",
     "output_type": "stream",
     "text": [
      "100%|██████████████████████████████████████████| 31/31 [00:00<00:00, 742.68it/s]\n",
      "100%|█████████████████████████████████████████| 31/31 [00:00<00:00, 3418.97it/s]\n"
     ]
    },
    {
     "name": "stdout",
     "output_type": "stream",
     "text": [
      "Z plane: 20\n"
     ]
    },
    {
     "name": "stderr",
     "output_type": "stream",
     "text": [
      "100%|█████████████████████████████████████████| 35/35 [00:00<00:00, 2506.63it/s]\n",
      "100%|█████████████████████████████████████████| 35/35 [00:00<00:00, 6986.18it/s]\n"
     ]
    },
    {
     "name": "stdout",
     "output_type": "stream",
     "text": [
      "Z plane: 21\n"
     ]
    },
    {
     "name": "stderr",
     "output_type": "stream",
     "text": [
      "100%|█████████████████████████████████████████| 33/33 [00:00<00:00, 2991.85it/s]\n",
      "100%|█████████████████████████████████████████| 33/33 [00:00<00:00, 6052.65it/s]\n"
     ]
    },
    {
     "name": "stdout",
     "output_type": "stream",
     "text": [
      "Z plane: 22\n"
     ]
    },
    {
     "name": "stderr",
     "output_type": "stream",
     "text": [
      "100%|█████████████████████████████████████████| 34/34 [00:00<00:00, 2923.04it/s]\n",
      "100%|█████████████████████████████████████████| 33/33 [00:00<00:00, 6418.96it/s]\n"
     ]
    },
    {
     "name": "stdout",
     "output_type": "stream",
     "text": [
      "Z plane: 23\n"
     ]
    },
    {
     "name": "stderr",
     "output_type": "stream",
     "text": [
      "100%|█████████████████████████████████████████| 34/34 [00:00<00:00, 3144.43it/s]\n",
      "100%|████████████████████████████████████████| 34/34 [00:00<00:00, 16683.01it/s]\n"
     ]
    },
    {
     "name": "stdout",
     "output_type": "stream",
     "text": [
      "Z plane: 24\n"
     ]
    },
    {
     "name": "stderr",
     "output_type": "stream",
     "text": [
      "100%|█████████████████████████████████████████| 35/35 [00:00<00:00, 3884.95it/s]\n",
      "100%|█████████████████████████████████████████| 35/35 [00:00<00:00, 4873.86it/s]\n"
     ]
    },
    {
     "name": "stdout",
     "output_type": "stream",
     "text": [
      "Z plane: 25\n"
     ]
    },
    {
     "name": "stderr",
     "output_type": "stream",
     "text": [
      "100%|█████████████████████████████████████████| 32/32 [00:00<00:00, 3613.83it/s]\n",
      "100%|█████████████████████████████████████████| 32/32 [00:00<00:00, 8869.21it/s]\n"
     ]
    },
    {
     "name": "stdout",
     "output_type": "stream",
     "text": [
      "Z plane: 26\n"
     ]
    },
    {
     "name": "stderr",
     "output_type": "stream",
     "text": [
      "100%|█████████████████████████████████████████| 26/26 [00:00<00:00, 3297.81it/s]\n",
      "100%|█████████████████████████████████████████| 26/26 [00:00<00:00, 4984.77it/s]\n"
     ]
    },
    {
     "name": "stdout",
     "output_type": "stream",
     "text": [
      "Z plane: 27\n"
     ]
    },
    {
     "name": "stderr",
     "output_type": "stream",
     "text": [
      "100%|█████████████████████████████████████████| 22/22 [00:00<00:00, 3201.31it/s]\n",
      "100%|█████████████████████████████████████████| 22/22 [00:00<00:00, 3510.01it/s]\n"
     ]
    },
    {
     "name": "stdout",
     "output_type": "stream",
     "text": [
      "Z plane: 28\n"
     ]
    },
    {
     "name": "stderr",
     "output_type": "stream",
     "text": [
      "100%|█████████████████████████████████████████| 24/24 [00:00<00:00, 2849.71it/s]\n",
      "100%|█████████████████████████████████████████| 24/24 [00:00<00:00, 3970.31it/s]\n"
     ]
    },
    {
     "name": "stdout",
     "output_type": "stream",
     "text": [
      "Z plane: 29\n"
     ]
    },
    {
     "name": "stderr",
     "output_type": "stream",
     "text": [
      "100%|█████████████████████████████████████████| 22/22 [00:00<00:00, 3948.26it/s]\n",
      "100%|█████████████████████████████████████████| 22/22 [00:00<00:00, 6903.17it/s]\n"
     ]
    },
    {
     "name": "stdout",
     "output_type": "stream",
     "text": [
      "Z plane: 30\n"
     ]
    },
    {
     "name": "stderr",
     "output_type": "stream",
     "text": [
      "100%|█████████████████████████████████████████| 22/22 [00:00<00:00, 3702.54it/s]\n",
      "100%|█████████████████████████████████████████| 22/22 [00:00<00:00, 6940.56it/s]\n"
     ]
    },
    {
     "name": "stdout",
     "output_type": "stream",
     "text": [
      "Z plane: 31\n"
     ]
    },
    {
     "name": "stderr",
     "output_type": "stream",
     "text": [
      "100%|█████████████████████████████████████████| 18/18 [00:00<00:00, 2918.45it/s]\n",
      "100%|█████████████████████████████████████████| 18/18 [00:00<00:00, 3956.06it/s]\n"
     ]
    },
    {
     "name": "stdout",
     "output_type": "stream",
     "text": [
      "Time point: 15\n",
      "Z plane: 0\n"
     ]
    },
    {
     "name": "stderr",
     "output_type": "stream",
     "text": [
      "100%|████████████████████████████████████████████| 2/2 [00:00<00:00, 826.79it/s]\n",
      "100%|████████████████████████████████████████████| 2/2 [00:00<00:00, 685.12it/s]\n"
     ]
    },
    {
     "name": "stdout",
     "output_type": "stream",
     "text": [
      "Z plane: 1\n"
     ]
    },
    {
     "name": "stderr",
     "output_type": "stream",
     "text": [
      "100%|████████████████████████████████████████████| 2/2 [00:00<00:00, 588.10it/s]\n",
      "100%|████████████████████████████████████████████| 2/2 [00:00<00:00, 371.54it/s]\n"
     ]
    },
    {
     "name": "stdout",
     "output_type": "stream",
     "text": [
      "Z plane: 2\n"
     ]
    },
    {
     "name": "stderr",
     "output_type": "stream",
     "text": [
      "100%|████████████████████████████████████████████| 3/3 [00:00<00:00, 950.51it/s]\n",
      "100%|████████████████████████████████████████████| 3/3 [00:00<00:00, 718.74it/s]\n"
     ]
    },
    {
     "name": "stdout",
     "output_type": "stream",
     "text": [
      "Z plane: 3\n"
     ]
    },
    {
     "name": "stderr",
     "output_type": "stream",
     "text": [
      "100%|███████████████████████████████████████████| 5/5 [00:00<00:00, 1105.22it/s]\n",
      "100%|███████████████████████████████████████████| 5/5 [00:00<00:00, 1081.62it/s]\n"
     ]
    },
    {
     "name": "stdout",
     "output_type": "stream",
     "text": [
      "Z plane: 4\n"
     ]
    },
    {
     "name": "stderr",
     "output_type": "stream",
     "text": [
      "100%|███████████████████████████████████████████| 8/8 [00:00<00:00, 1322.08it/s]\n",
      "100%|███████████████████████████████████████████| 8/8 [00:00<00:00, 1528.82it/s]\n"
     ]
    },
    {
     "name": "stdout",
     "output_type": "stream",
     "text": [
      "Z plane: 5\n"
     ]
    },
    {
     "name": "stderr",
     "output_type": "stream",
     "text": [
      "100%|███████████████████████████████████████████| 8/8 [00:00<00:00, 1416.70it/s]\n",
      "100%|███████████████████████████████████████████| 8/8 [00:00<00:00, 1236.12it/s]\n"
     ]
    },
    {
     "name": "stdout",
     "output_type": "stream",
     "text": [
      "Z plane: 6\n"
     ]
    },
    {
     "name": "stderr",
     "output_type": "stream",
     "text": [
      "100%|███████████████████████████████████████████| 9/9 [00:00<00:00, 1204.88it/s]\n",
      "100%|███████████████████████████████████████████| 9/9 [00:00<00:00, 1291.84it/s]\n"
     ]
    },
    {
     "name": "stdout",
     "output_type": "stream",
     "text": [
      "Z plane: 7\n"
     ]
    },
    {
     "name": "stderr",
     "output_type": "stream",
     "text": [
      "100%|█████████████████████████████████████████| 11/11 [00:00<00:00, 2003.62it/s]\n",
      "100%|█████████████████████████████████████████| 11/11 [00:00<00:00, 1869.20it/s]\n"
     ]
    },
    {
     "name": "stdout",
     "output_type": "stream",
     "text": [
      "Z plane: 8\n"
     ]
    },
    {
     "name": "stderr",
     "output_type": "stream",
     "text": [
      "100%|█████████████████████████████████████████| 10/10 [00:00<00:00, 1772.37it/s]\n",
      "100%|█████████████████████████████████████████| 10/10 [00:00<00:00, 3347.94it/s]\n"
     ]
    },
    {
     "name": "stdout",
     "output_type": "stream",
     "text": [
      "Z plane: 9\n"
     ]
    },
    {
     "name": "stderr",
     "output_type": "stream",
     "text": [
      "100%|█████████████████████████████████████████| 14/14 [00:00<00:00, 1734.87it/s]\n",
      "100%|█████████████████████████████████████████| 14/14 [00:00<00:00, 2937.92it/s]\n"
     ]
    },
    {
     "name": "stdout",
     "output_type": "stream",
     "text": [
      "Z plane: 10\n"
     ]
    },
    {
     "name": "stderr",
     "output_type": "stream",
     "text": [
      "100%|█████████████████████████████████████████| 15/15 [00:00<00:00, 1489.56it/s]\n",
      "100%|█████████████████████████████████████████| 15/15 [00:00<00:00, 2147.99it/s]\n"
     ]
    },
    {
     "name": "stdout",
     "output_type": "stream",
     "text": [
      "Z plane: 11\n"
     ]
    },
    {
     "name": "stderr",
     "output_type": "stream",
     "text": [
      "100%|█████████████████████████████████████████| 14/14 [00:00<00:00, 1213.68it/s]\n",
      "100%|█████████████████████████████████████████| 14/14 [00:00<00:00, 1620.00it/s]\n"
     ]
    },
    {
     "name": "stdout",
     "output_type": "stream",
     "text": [
      "Z plane: 12\n"
     ]
    },
    {
     "name": "stderr",
     "output_type": "stream",
     "text": [
      "100%|█████████████████████████████████████████| 17/17 [00:00<00:00, 1739.10it/s]\n",
      "100%|█████████████████████████████████████████| 17/17 [00:00<00:00, 3575.17it/s]\n"
     ]
    },
    {
     "name": "stdout",
     "output_type": "stream",
     "text": [
      "Z plane: 13\n"
     ]
    },
    {
     "name": "stderr",
     "output_type": "stream",
     "text": [
      "100%|█████████████████████████████████████████| 16/16 [00:00<00:00, 2092.84it/s]\n",
      "100%|█████████████████████████████████████████| 16/16 [00:00<00:00, 4871.79it/s]\n"
     ]
    },
    {
     "name": "stdout",
     "output_type": "stream",
     "text": [
      "Z plane: 14\n"
     ]
    },
    {
     "name": "stderr",
     "output_type": "stream",
     "text": [
      "100%|█████████████████████████████████████████| 17/17 [00:00<00:00, 1652.45it/s]\n",
      "100%|█████████████████████████████████████████| 17/17 [00:00<00:00, 2737.48it/s]\n"
     ]
    },
    {
     "name": "stdout",
     "output_type": "stream",
     "text": [
      "Z plane: 15\n"
     ]
    },
    {
     "name": "stderr",
     "output_type": "stream",
     "text": [
      "100%|█████████████████████████████████████████| 24/24 [00:00<00:00, 3376.94it/s]\n",
      "100%|█████████████████████████████████████████| 24/24 [00:00<00:00, 7670.75it/s]\n"
     ]
    },
    {
     "name": "stdout",
     "output_type": "stream",
     "text": [
      "Z plane: 16\n"
     ]
    },
    {
     "name": "stderr",
     "output_type": "stream",
     "text": [
      "100%|█████████████████████████████████████████| 27/27 [00:00<00:00, 2171.30it/s]\n",
      "100%|█████████████████████████████████████████| 27/27 [00:00<00:00, 4640.10it/s]\n"
     ]
    },
    {
     "name": "stdout",
     "output_type": "stream",
     "text": [
      "Z plane: 17\n"
     ]
    },
    {
     "name": "stderr",
     "output_type": "stream",
     "text": [
      "100%|█████████████████████████████████████████| 28/28 [00:00<00:00, 2123.12it/s]\n",
      "100%|█████████████████████████████████████████| 28/28 [00:00<00:00, 4181.01it/s]\n"
     ]
    },
    {
     "name": "stdout",
     "output_type": "stream",
     "text": [
      "Z plane: 18\n"
     ]
    },
    {
     "name": "stderr",
     "output_type": "stream",
     "text": [
      "100%|█████████████████████████████████████████| 32/32 [00:00<00:00, 3089.09it/s]\n",
      "100%|█████████████████████████████████████████| 32/32 [00:00<00:00, 4651.78it/s]\n"
     ]
    },
    {
     "name": "stdout",
     "output_type": "stream",
     "text": [
      "Z plane: 19\n"
     ]
    },
    {
     "name": "stderr",
     "output_type": "stream",
     "text": [
      "100%|█████████████████████████████████████████| 33/33 [00:00<00:00, 6489.99it/s]\n",
      "100%|█████████████████████████████████████████| 33/33 [00:00<00:00, 5864.67it/s]\n"
     ]
    },
    {
     "name": "stdout",
     "output_type": "stream",
     "text": [
      "Z plane: 20\n"
     ]
    },
    {
     "name": "stderr",
     "output_type": "stream",
     "text": [
      "100%|█████████████████████████████████████████| 36/36 [00:00<00:00, 3630.12it/s]\n",
      "100%|█████████████████████████████████████████| 36/36 [00:00<00:00, 7738.57it/s]\n"
     ]
    },
    {
     "name": "stdout",
     "output_type": "stream",
     "text": [
      "Z plane: 21\n"
     ]
    },
    {
     "name": "stderr",
     "output_type": "stream",
     "text": [
      "100%|█████████████████████████████████████████| 30/30 [00:00<00:00, 2824.89it/s]\n",
      "100%|█████████████████████████████████████████| 30/30 [00:00<00:00, 5379.38it/s]\n"
     ]
    },
    {
     "name": "stdout",
     "output_type": "stream",
     "text": [
      "Z plane: 22\n"
     ]
    },
    {
     "name": "stderr",
     "output_type": "stream",
     "text": [
      "100%|█████████████████████████████████████████| 32/32 [00:00<00:00, 2961.62it/s]\n",
      "100%|█████████████████████████████████████████| 32/32 [00:00<00:00, 5717.48it/s]\n"
     ]
    },
    {
     "name": "stdout",
     "output_type": "stream",
     "text": [
      "Z plane: 23\n"
     ]
    },
    {
     "name": "stderr",
     "output_type": "stream",
     "text": [
      "100%|█████████████████████████████████████████| 30/30 [00:00<00:00, 2328.27it/s]\n",
      "100%|████████████████████████████████████████| 30/30 [00:00<00:00, 10086.50it/s]\n"
     ]
    },
    {
     "name": "stdout",
     "output_type": "stream",
     "text": [
      "Z plane: 24\n"
     ]
    },
    {
     "name": "stderr",
     "output_type": "stream",
     "text": [
      "100%|█████████████████████████████████████████| 33/33 [00:00<00:00, 2520.48it/s]\n",
      "100%|█████████████████████████████████████████| 33/33 [00:00<00:00, 4815.34it/s]\n"
     ]
    },
    {
     "name": "stdout",
     "output_type": "stream",
     "text": [
      "Z plane: 25\n"
     ]
    },
    {
     "name": "stderr",
     "output_type": "stream",
     "text": [
      "100%|█████████████████████████████████████████| 30/30 [00:00<00:00, 2427.40it/s]\n",
      "100%|█████████████████████████████████████████| 30/30 [00:00<00:00, 3926.64it/s]\n"
     ]
    },
    {
     "name": "stdout",
     "output_type": "stream",
     "text": [
      "Z plane: 26\n"
     ]
    },
    {
     "name": "stderr",
     "output_type": "stream",
     "text": [
      "100%|█████████████████████████████████████████| 30/30 [00:00<00:00, 2673.52it/s]\n",
      "100%|█████████████████████████████████████████| 30/30 [00:00<00:00, 4127.17it/s]\n"
     ]
    },
    {
     "name": "stdout",
     "output_type": "stream",
     "text": [
      "Z plane: 27\n"
     ]
    },
    {
     "name": "stderr",
     "output_type": "stream",
     "text": [
      "100%|█████████████████████████████████████████| 29/29 [00:00<00:00, 2840.41it/s]\n",
      "100%|█████████████████████████████████████████| 29/29 [00:00<00:00, 5919.83it/s]\n"
     ]
    },
    {
     "name": "stdout",
     "output_type": "stream",
     "text": [
      "Z plane: 28\n"
     ]
    },
    {
     "name": "stderr",
     "output_type": "stream",
     "text": [
      "100%|█████████████████████████████████████████| 28/28 [00:00<00:00, 3299.45it/s]\n",
      "100%|█████████████████████████████████████████| 28/28 [00:00<00:00, 6750.23it/s]\n"
     ]
    },
    {
     "name": "stdout",
     "output_type": "stream",
     "text": [
      "Z plane: 29\n"
     ]
    },
    {
     "name": "stderr",
     "output_type": "stream",
     "text": [
      "100%|█████████████████████████████████████████| 26/26 [00:00<00:00, 2597.71it/s]\n",
      "100%|█████████████████████████████████████████| 26/26 [00:00<00:00, 5140.32it/s]\n"
     ]
    },
    {
     "name": "stdout",
     "output_type": "stream",
     "text": [
      "Z plane: 30\n"
     ]
    },
    {
     "name": "stderr",
     "output_type": "stream",
     "text": [
      "100%|█████████████████████████████████████████| 25/25 [00:00<00:00, 3004.86it/s]\n",
      "100%|█████████████████████████████████████████| 25/25 [00:00<00:00, 5432.47it/s]\n"
     ]
    },
    {
     "name": "stdout",
     "output_type": "stream",
     "text": [
      "Z plane: 31\n"
     ]
    },
    {
     "name": "stderr",
     "output_type": "stream",
     "text": [
      "100%|█████████████████████████████████████████| 20/20 [00:00<00:00, 2453.02it/s]\n",
      "100%|█████████████████████████████████████████| 20/20 [00:00<00:00, 5392.18it/s]\n"
     ]
    },
    {
     "name": "stdout",
     "output_type": "stream",
     "text": [
      "Time point: 16\n",
      "Z plane: 0\n"
     ]
    },
    {
     "name": "stderr",
     "output_type": "stream",
     "text": [
      "100%|███████████████████████████████████████████| 2/2 [00:00<00:00, 1080.59it/s]\n",
      "100%|███████████████████████████████████████████| 2/2 [00:00<00:00, 1034.10it/s]\n"
     ]
    },
    {
     "name": "stdout",
     "output_type": "stream",
     "text": [
      "Z plane: 1\n"
     ]
    },
    {
     "name": "stderr",
     "output_type": "stream",
     "text": [
      "100%|███████████████████████████████████████████| 2/2 [00:00<00:00, 1019.40it/s]\n",
      "100%|███████████████████████████████████████████| 2/2 [00:00<00:00, 1216.80it/s]\n"
     ]
    },
    {
     "name": "stdout",
     "output_type": "stream",
     "text": [
      "Z plane: 2\n"
     ]
    },
    {
     "name": "stderr",
     "output_type": "stream",
     "text": [
      "100%|████████████████████████████████████████████| 3/3 [00:00<00:00, 853.95it/s]\n",
      "100%|████████████████████████████████████████████| 3/3 [00:00<00:00, 927.40it/s]\n"
     ]
    },
    {
     "name": "stdout",
     "output_type": "stream",
     "text": [
      "Z plane: 3\n"
     ]
    },
    {
     "name": "stderr",
     "output_type": "stream",
     "text": [
      "100%|███████████████████████████████████████████| 6/6 [00:00<00:00, 1179.28it/s]\n",
      "100%|███████████████████████████████████████████| 6/6 [00:00<00:00, 1234.28it/s]\n"
     ]
    },
    {
     "name": "stdout",
     "output_type": "stream",
     "text": [
      "Z plane: 4\n"
     ]
    },
    {
     "name": "stderr",
     "output_type": "stream",
     "text": [
      "100%|███████████████████████████████████████████| 6/6 [00:00<00:00, 1007.88it/s]\n",
      "100%|████████████████████████████████████████████| 6/6 [00:00<00:00, 619.07it/s]\n"
     ]
    },
    {
     "name": "stdout",
     "output_type": "stream",
     "text": [
      "Z plane: 5\n"
     ]
    },
    {
     "name": "stderr",
     "output_type": "stream",
     "text": [
      "100%|███████████████████████████████████████████| 8/8 [00:00<00:00, 1100.40it/s]\n",
      "100%|███████████████████████████████████████████| 8/8 [00:00<00:00, 1576.36it/s]\n"
     ]
    },
    {
     "name": "stdout",
     "output_type": "stream",
     "text": [
      "Z plane: 6\n"
     ]
    },
    {
     "name": "stderr",
     "output_type": "stream",
     "text": [
      "100%|███████████████████████████████████████████| 9/9 [00:00<00:00, 1798.59it/s]\n",
      "100%|███████████████████████████████████████████| 9/9 [00:00<00:00, 1537.94it/s]\n"
     ]
    },
    {
     "name": "stdout",
     "output_type": "stream",
     "text": [
      "Z plane: 7\n"
     ]
    },
    {
     "name": "stderr",
     "output_type": "stream",
     "text": [
      "100%|█████████████████████████████████████████| 10/10 [00:00<00:00, 1833.98it/s]\n",
      "100%|█████████████████████████████████████████| 10/10 [00:00<00:00, 2499.88it/s]\n"
     ]
    },
    {
     "name": "stdout",
     "output_type": "stream",
     "text": [
      "Z plane: 8\n"
     ]
    },
    {
     "name": "stderr",
     "output_type": "stream",
     "text": [
      "100%|█████████████████████████████████████████| 10/10 [00:00<00:00, 1892.05it/s]\n",
      "100%|█████████████████████████████████████████| 10/10 [00:00<00:00, 1382.34it/s]\n"
     ]
    },
    {
     "name": "stdout",
     "output_type": "stream",
     "text": [
      "Z plane: 9\n"
     ]
    },
    {
     "name": "stderr",
     "output_type": "stream",
     "text": [
      "100%|█████████████████████████████████████████| 13/13 [00:00<00:00, 1608.91it/s]\n",
      "100%|█████████████████████████████████████████| 13/13 [00:00<00:00, 2216.95it/s]\n"
     ]
    },
    {
     "name": "stdout",
     "output_type": "stream",
     "text": [
      "Z plane: 10\n"
     ]
    },
    {
     "name": "stderr",
     "output_type": "stream",
     "text": [
      "100%|█████████████████████████████████████████| 14/14 [00:00<00:00, 2327.12it/s]\n",
      "100%|█████████████████████████████████████████| 14/14 [00:00<00:00, 4117.54it/s]\n"
     ]
    },
    {
     "name": "stdout",
     "output_type": "stream",
     "text": [
      "Z plane: 11\n"
     ]
    },
    {
     "name": "stderr",
     "output_type": "stream",
     "text": [
      "100%|█████████████████████████████████████████| 14/14 [00:00<00:00, 2438.75it/s]\n",
      "100%|█████████████████████████████████████████| 14/14 [00:00<00:00, 3860.89it/s]\n"
     ]
    },
    {
     "name": "stdout",
     "output_type": "stream",
     "text": [
      "Z plane: 12\n"
     ]
    },
    {
     "name": "stderr",
     "output_type": "stream",
     "text": [
      "100%|█████████████████████████████████████████| 15/15 [00:00<00:00, 1659.10it/s]\n",
      "100%|█████████████████████████████████████████| 15/15 [00:00<00:00, 2223.92it/s]\n"
     ]
    },
    {
     "name": "stdout",
     "output_type": "stream",
     "text": [
      "Z plane: 13\n"
     ]
    },
    {
     "name": "stderr",
     "output_type": "stream",
     "text": [
      "100%|█████████████████████████████████████████| 15/15 [00:00<00:00, 2162.01it/s]\n",
      "100%|█████████████████████████████████████████| 15/15 [00:00<00:00, 3613.70it/s]\n"
     ]
    },
    {
     "name": "stdout",
     "output_type": "stream",
     "text": [
      "Z plane: 14\n"
     ]
    },
    {
     "name": "stderr",
     "output_type": "stream",
     "text": [
      "100%|█████████████████████████████████████████| 15/15 [00:00<00:00, 2259.38it/s]\n",
      "100%|█████████████████████████████████████████| 15/15 [00:00<00:00, 3836.49it/s]\n"
     ]
    },
    {
     "name": "stdout",
     "output_type": "stream",
     "text": [
      "Z plane: 15\n"
     ]
    },
    {
     "name": "stderr",
     "output_type": "stream",
     "text": [
      "100%|█████████████████████████████████████████| 26/26 [00:00<00:00, 3084.31it/s]\n",
      "100%|█████████████████████████████████████████| 26/26 [00:00<00:00, 3870.11it/s]\n"
     ]
    },
    {
     "name": "stdout",
     "output_type": "stream",
     "text": [
      "Z plane: 16\n"
     ]
    },
    {
     "name": "stderr",
     "output_type": "stream",
     "text": [
      "100%|█████████████████████████████████████████| 28/28 [00:00<00:00, 2174.58it/s]\n",
      "100%|█████████████████████████████████████████| 28/28 [00:00<00:00, 3985.22it/s]\n"
     ]
    },
    {
     "name": "stdout",
     "output_type": "stream",
     "text": [
      "Z plane: 17\n"
     ]
    },
    {
     "name": "stderr",
     "output_type": "stream",
     "text": [
      "100%|█████████████████████████████████████████| 28/28 [00:00<00:00, 2130.05it/s]\n",
      "100%|█████████████████████████████████████████| 27/27 [00:00<00:00, 4166.53it/s]\n"
     ]
    },
    {
     "name": "stdout",
     "output_type": "stream",
     "text": [
      "Z plane: 18\n"
     ]
    },
    {
     "name": "stderr",
     "output_type": "stream",
     "text": [
      "100%|█████████████████████████████████████████| 30/30 [00:00<00:00, 2400.95it/s]\n",
      "100%|█████████████████████████████████████████| 30/30 [00:00<00:00, 5296.51it/s]\n"
     ]
    },
    {
     "name": "stdout",
     "output_type": "stream",
     "text": [
      "Z plane: 19\n"
     ]
    },
    {
     "name": "stderr",
     "output_type": "stream",
     "text": [
      "100%|█████████████████████████████████████████| 31/31 [00:00<00:00, 3664.28it/s]\n",
      "100%|█████████████████████████████████████████| 30/30 [00:00<00:00, 5370.20it/s]\n"
     ]
    },
    {
     "name": "stdout",
     "output_type": "stream",
     "text": [
      "Z plane: 20\n"
     ]
    },
    {
     "name": "stderr",
     "output_type": "stream",
     "text": [
      "100%|█████████████████████████████████████████| 33/33 [00:00<00:00, 2964.11it/s]\n",
      "100%|█████████████████████████████████████████| 32/32 [00:00<00:00, 6043.12it/s]\n"
     ]
    },
    {
     "name": "stdout",
     "output_type": "stream",
     "text": [
      "Z plane: 21\n"
     ]
    },
    {
     "name": "stderr",
     "output_type": "stream",
     "text": [
      "100%|█████████████████████████████████████████| 33/33 [00:00<00:00, 4161.02it/s]\n",
      "100%|████████████████████████████████████████| 32/32 [00:00<00:00, 11926.22it/s]\n"
     ]
    },
    {
     "name": "stdout",
     "output_type": "stream",
     "text": [
      "Z plane: 22\n"
     ]
    },
    {
     "name": "stderr",
     "output_type": "stream",
     "text": [
      "100%|█████████████████████████████████████████| 32/32 [00:00<00:00, 2555.90it/s]\n",
      "100%|█████████████████████████████████████████| 32/32 [00:00<00:00, 6298.34it/s]\n"
     ]
    },
    {
     "name": "stdout",
     "output_type": "stream",
     "text": [
      "Z plane: 23\n"
     ]
    },
    {
     "name": "stderr",
     "output_type": "stream",
     "text": [
      "100%|█████████████████████████████████████████| 34/34 [00:00<00:00, 2557.92it/s]\n",
      "100%|█████████████████████████████████████████| 34/34 [00:00<00:00, 4740.74it/s]\n"
     ]
    },
    {
     "name": "stdout",
     "output_type": "stream",
     "text": [
      "Z plane: 24\n"
     ]
    },
    {
     "name": "stderr",
     "output_type": "stream",
     "text": [
      "100%|█████████████████████████████████████████| 37/37 [00:00<00:00, 2768.86it/s]\n",
      "100%|█████████████████████████████████████████| 37/37 [00:00<00:00, 5795.83it/s]\n"
     ]
    },
    {
     "name": "stdout",
     "output_type": "stream",
     "text": [
      "Z plane: 25\n"
     ]
    },
    {
     "name": "stderr",
     "output_type": "stream",
     "text": [
      "100%|█████████████████████████████████████████| 36/36 [00:00<00:00, 3045.67it/s]\n",
      "100%|█████████████████████████████████████████| 36/36 [00:00<00:00, 4466.38it/s]\n"
     ]
    },
    {
     "name": "stdout",
     "output_type": "stream",
     "text": [
      "Z plane: 26\n"
     ]
    },
    {
     "name": "stderr",
     "output_type": "stream",
     "text": [
      "100%|█████████████████████████████████████████| 30/30 [00:00<00:00, 2274.82it/s]\n",
      "100%|█████████████████████████████████████████| 30/30 [00:00<00:00, 5186.69it/s]\n"
     ]
    },
    {
     "name": "stdout",
     "output_type": "stream",
     "text": [
      "Z plane: 27\n"
     ]
    },
    {
     "name": "stderr",
     "output_type": "stream",
     "text": [
      "100%|█████████████████████████████████████████| 28/28 [00:00<00:00, 2805.82it/s]\n",
      "100%|█████████████████████████████████████████| 28/28 [00:00<00:00, 3164.49it/s]\n"
     ]
    },
    {
     "name": "stdout",
     "output_type": "stream",
     "text": [
      "Z plane: 28\n"
     ]
    },
    {
     "name": "stderr",
     "output_type": "stream",
     "text": [
      "100%|█████████████████████████████████████████| 25/25 [00:00<00:00, 2265.67it/s]\n",
      "100%|█████████████████████████████████████████| 25/25 [00:00<00:00, 3623.78it/s]\n"
     ]
    },
    {
     "name": "stdout",
     "output_type": "stream",
     "text": [
      "Z plane: 29\n"
     ]
    },
    {
     "name": "stderr",
     "output_type": "stream",
     "text": [
      "100%|█████████████████████████████████████████| 24/24 [00:00<00:00, 3142.59it/s]\n",
      "100%|█████████████████████████████████████████| 24/24 [00:00<00:00, 5700.72it/s]\n"
     ]
    },
    {
     "name": "stdout",
     "output_type": "stream",
     "text": [
      "Z plane: 30\n"
     ]
    },
    {
     "name": "stderr",
     "output_type": "stream",
     "text": [
      "100%|█████████████████████████████████████████| 25/25 [00:00<00:00, 2665.83it/s]\n",
      "100%|█████████████████████████████████████████| 25/25 [00:00<00:00, 5593.90it/s]\n"
     ]
    },
    {
     "name": "stdout",
     "output_type": "stream",
     "text": [
      "Z plane: 31\n"
     ]
    },
    {
     "name": "stderr",
     "output_type": "stream",
     "text": [
      "100%|█████████████████████████████████████████| 22/22 [00:00<00:00, 3449.78it/s]\n",
      "100%|█████████████████████████████████████████| 22/22 [00:00<00:00, 3344.01it/s]\n"
     ]
    },
    {
     "name": "stdout",
     "output_type": "stream",
     "text": [
      "Time point: 17\n",
      "Z plane: 0\n"
     ]
    },
    {
     "name": "stderr",
     "output_type": "stream",
     "text": [
      "100%|████████████████████████████████████████████| 3/3 [00:00<00:00, 745.17it/s]\n",
      "100%|███████████████████████████████████████████| 3/3 [00:00<00:00, 1277.06it/s]\n"
     ]
    },
    {
     "name": "stdout",
     "output_type": "stream",
     "text": [
      "Z plane: 1\n"
     ]
    },
    {
     "name": "stderr",
     "output_type": "stream",
     "text": [
      "100%|███████████████████████████████████████████| 4/4 [00:00<00:00, 1771.43it/s]\n",
      "100%|███████████████████████████████████████████| 4/4 [00:00<00:00, 1469.49it/s]\n"
     ]
    },
    {
     "name": "stdout",
     "output_type": "stream",
     "text": [
      "Z plane: 2\n"
     ]
    },
    {
     "name": "stderr",
     "output_type": "stream",
     "text": [
      "100%|███████████████████████████████████████████| 5/5 [00:00<00:00, 1456.46it/s]\n",
      "100%|███████████████████████████████████████████| 5/5 [00:00<00:00, 1087.90it/s]\n"
     ]
    },
    {
     "name": "stdout",
     "output_type": "stream",
     "text": [
      "Z plane: 3\n"
     ]
    },
    {
     "name": "stderr",
     "output_type": "stream",
     "text": [
      "100%|███████████████████████████████████████████| 6/6 [00:00<00:00, 1005.55it/s]\n",
      "100%|████████████████████████████████████████████| 6/6 [00:00<00:00, 779.42it/s]\n"
     ]
    },
    {
     "name": "stdout",
     "output_type": "stream",
     "text": [
      "Z plane: 4\n"
     ]
    },
    {
     "name": "stderr",
     "output_type": "stream",
     "text": [
      "100%|███████████████████████████████████████████| 8/8 [00:00<00:00, 1097.99it/s]\n",
      "100%|███████████████████████████████████████████| 8/8 [00:00<00:00, 1103.29it/s]\n"
     ]
    },
    {
     "name": "stdout",
     "output_type": "stream",
     "text": [
      "Z plane: 5\n"
     ]
    },
    {
     "name": "stderr",
     "output_type": "stream",
     "text": [
      "100%|███████████████████████████████████████████| 9/9 [00:00<00:00, 1243.78it/s]\n",
      "100%|███████████████████████████████████████████| 9/9 [00:00<00:00, 1679.36it/s]\n"
     ]
    },
    {
     "name": "stdout",
     "output_type": "stream",
     "text": [
      "Z plane: 6\n"
     ]
    },
    {
     "name": "stderr",
     "output_type": "stream",
     "text": [
      "100%|█████████████████████████████████████████| 10/10 [00:00<00:00, 1017.84it/s]\n",
      "100%|█████████████████████████████████████████| 10/10 [00:00<00:00, 2191.04it/s]\n"
     ]
    },
    {
     "name": "stdout",
     "output_type": "stream",
     "text": [
      "Z plane: 7\n"
     ]
    },
    {
     "name": "stderr",
     "output_type": "stream",
     "text": [
      "100%|█████████████████████████████████████████| 13/13 [00:00<00:00, 1372.90it/s]\n",
      "100%|█████████████████████████████████████████| 13/13 [00:00<00:00, 2406.05it/s]\n"
     ]
    },
    {
     "name": "stdout",
     "output_type": "stream",
     "text": [
      "Z plane: 8\n"
     ]
    },
    {
     "name": "stderr",
     "output_type": "stream",
     "text": [
      "100%|█████████████████████████████████████████| 11/11 [00:00<00:00, 1068.86it/s]\n",
      "100%|█████████████████████████████████████████| 11/11 [00:00<00:00, 1709.11it/s]\n"
     ]
    },
    {
     "name": "stdout",
     "output_type": "stream",
     "text": [
      "Z plane: 9\n"
     ]
    },
    {
     "name": "stderr",
     "output_type": "stream",
     "text": [
      "100%|█████████████████████████████████████████| 13/13 [00:00<00:00, 2265.68it/s]\n",
      "100%|█████████████████████████████████████████| 13/13 [00:00<00:00, 2770.63it/s]\n"
     ]
    },
    {
     "name": "stdout",
     "output_type": "stream",
     "text": [
      "Z plane: 10\n"
     ]
    },
    {
     "name": "stderr",
     "output_type": "stream",
     "text": [
      "100%|█████████████████████████████████████████| 14/14 [00:00<00:00, 2087.39it/s]\n",
      "100%|█████████████████████████████████████████| 14/14 [00:00<00:00, 1962.44it/s]\n"
     ]
    },
    {
     "name": "stdout",
     "output_type": "stream",
     "text": [
      "Z plane: 11\n"
     ]
    },
    {
     "name": "stderr",
     "output_type": "stream",
     "text": [
      "100%|█████████████████████████████████████████| 14/14 [00:00<00:00, 1897.57it/s]\n",
      "100%|█████████████████████████████████████████| 14/14 [00:00<00:00, 2111.86it/s]\n"
     ]
    },
    {
     "name": "stdout",
     "output_type": "stream",
     "text": [
      "Z plane: 12\n"
     ]
    },
    {
     "name": "stderr",
     "output_type": "stream",
     "text": [
      "100%|█████████████████████████████████████████| 18/18 [00:00<00:00, 2272.65it/s]\n",
      "100%|█████████████████████████████████████████| 18/18 [00:00<00:00, 2882.79it/s]\n"
     ]
    },
    {
     "name": "stdout",
     "output_type": "stream",
     "text": [
      "Z plane: 13\n"
     ]
    },
    {
     "name": "stderr",
     "output_type": "stream",
     "text": [
      "100%|█████████████████████████████████████████| 17/17 [00:00<00:00, 1478.89it/s]\n",
      "100%|█████████████████████████████████████████| 17/17 [00:00<00:00, 4189.13it/s]\n"
     ]
    },
    {
     "name": "stdout",
     "output_type": "stream",
     "text": [
      "Z plane: 14\n"
     ]
    },
    {
     "name": "stderr",
     "output_type": "stream",
     "text": [
      "100%|█████████████████████████████████████████| 19/19 [00:00<00:00, 2017.00it/s]\n",
      "100%|█████████████████████████████████████████| 19/19 [00:00<00:00, 4485.38it/s]\n"
     ]
    },
    {
     "name": "stdout",
     "output_type": "stream",
     "text": [
      "Z plane: 15\n"
     ]
    },
    {
     "name": "stderr",
     "output_type": "stream",
     "text": [
      "100%|█████████████████████████████████████████| 22/22 [00:00<00:00, 2503.99it/s]\n",
      "100%|█████████████████████████████████████████| 22/22 [00:00<00:00, 4942.40it/s]\n"
     ]
    },
    {
     "name": "stdout",
     "output_type": "stream",
     "text": [
      "Z plane: 16\n"
     ]
    },
    {
     "name": "stderr",
     "output_type": "stream",
     "text": [
      "100%|█████████████████████████████████████████| 26/26 [00:00<00:00, 2035.73it/s]\n",
      "100%|█████████████████████████████████████████| 26/26 [00:00<00:00, 3901.54it/s]\n"
     ]
    },
    {
     "name": "stdout",
     "output_type": "stream",
     "text": [
      "Z plane: 17\n"
     ]
    },
    {
     "name": "stderr",
     "output_type": "stream",
     "text": [
      "100%|█████████████████████████████████████████| 30/30 [00:00<00:00, 2590.89it/s]\n",
      "100%|█████████████████████████████████████████| 30/30 [00:00<00:00, 5287.16it/s]\n"
     ]
    },
    {
     "name": "stdout",
     "output_type": "stream",
     "text": [
      "Z plane: 18\n"
     ]
    },
    {
     "name": "stderr",
     "output_type": "stream",
     "text": [
      "100%|█████████████████████████████████████████| 33/33 [00:00<00:00, 3203.98it/s]\n",
      "100%|█████████████████████████████████████████| 33/33 [00:00<00:00, 4641.90it/s]\n"
     ]
    },
    {
     "name": "stdout",
     "output_type": "stream",
     "text": [
      "Z plane: 19\n"
     ]
    },
    {
     "name": "stderr",
     "output_type": "stream",
     "text": [
      "100%|█████████████████████████████████████████| 37/37 [00:00<00:00, 5371.54it/s]\n",
      "100%|█████████████████████████████████████████| 36/36 [00:00<00:00, 5990.91it/s]\n"
     ]
    },
    {
     "name": "stdout",
     "output_type": "stream",
     "text": [
      "Z plane: 20\n"
     ]
    },
    {
     "name": "stderr",
     "output_type": "stream",
     "text": [
      "100%|█████████████████████████████████████████| 38/38 [00:00<00:00, 3780.71it/s]\n",
      "100%|█████████████████████████████████████████| 37/37 [00:00<00:00, 6209.31it/s]\n"
     ]
    },
    {
     "name": "stdout",
     "output_type": "stream",
     "text": [
      "Z plane: 21\n"
     ]
    },
    {
     "name": "stderr",
     "output_type": "stream",
     "text": [
      "100%|█████████████████████████████████████████| 36/36 [00:00<00:00, 2978.38it/s]\n",
      "100%|█████████████████████████████████████████| 34/34 [00:00<00:00, 6692.93it/s]\n"
     ]
    },
    {
     "name": "stdout",
     "output_type": "stream",
     "text": [
      "Z plane: 22\n"
     ]
    },
    {
     "name": "stderr",
     "output_type": "stream",
     "text": [
      "100%|█████████████████████████████████████████| 35/35 [00:00<00:00, 3973.06it/s]\n",
      "100%|█████████████████████████████████████████| 34/34 [00:00<00:00, 6896.86it/s]\n"
     ]
    },
    {
     "name": "stdout",
     "output_type": "stream",
     "text": [
      "Z plane: 23\n"
     ]
    },
    {
     "name": "stderr",
     "output_type": "stream",
     "text": [
      "100%|█████████████████████████████████████████| 36/36 [00:00<00:00, 3483.56it/s]\n",
      "100%|█████████████████████████████████████████| 35/35 [00:00<00:00, 6512.89it/s]\n"
     ]
    },
    {
     "name": "stdout",
     "output_type": "stream",
     "text": [
      "Z plane: 24\n"
     ]
    },
    {
     "name": "stderr",
     "output_type": "stream",
     "text": [
      "100%|█████████████████████████████████████████| 35/35 [00:00<00:00, 2221.36it/s]\n",
      "100%|█████████████████████████████████████████| 35/35 [00:00<00:00, 4084.60it/s]\n"
     ]
    },
    {
     "name": "stdout",
     "output_type": "stream",
     "text": [
      "Z plane: 25\n"
     ]
    },
    {
     "name": "stderr",
     "output_type": "stream",
     "text": [
      "100%|█████████████████████████████████████████| 37/37 [00:00<00:00, 2587.57it/s]\n",
      "100%|█████████████████████████████████████████| 37/37 [00:00<00:00, 5691.47it/s]\n"
     ]
    },
    {
     "name": "stdout",
     "output_type": "stream",
     "text": [
      "Z plane: 26\n"
     ]
    },
    {
     "name": "stderr",
     "output_type": "stream",
     "text": [
      "100%|█████████████████████████████████████████| 33/33 [00:00<00:00, 2485.71it/s]\n",
      "100%|█████████████████████████████████████████| 33/33 [00:00<00:00, 4888.98it/s]\n"
     ]
    },
    {
     "name": "stdout",
     "output_type": "stream",
     "text": [
      "Z plane: 27\n"
     ]
    },
    {
     "name": "stderr",
     "output_type": "stream",
     "text": [
      "100%|█████████████████████████████████████████| 29/29 [00:00<00:00, 2676.82it/s]\n",
      "100%|█████████████████████████████████████████| 29/29 [00:00<00:00, 4177.88it/s]\n"
     ]
    },
    {
     "name": "stdout",
     "output_type": "stream",
     "text": [
      "Z plane: 28\n"
     ]
    },
    {
     "name": "stderr",
     "output_type": "stream",
     "text": [
      "100%|█████████████████████████████████████████| 27/27 [00:00<00:00, 2433.73it/s]\n",
      "100%|█████████████████████████████████████████| 27/27 [00:00<00:00, 3887.61it/s]\n"
     ]
    },
    {
     "name": "stdout",
     "output_type": "stream",
     "text": [
      "Z plane: 29\n"
     ]
    },
    {
     "name": "stderr",
     "output_type": "stream",
     "text": [
      "100%|█████████████████████████████████████████| 27/27 [00:00<00:00, 2529.06it/s]\n",
      "100%|█████████████████████████████████████████| 27/27 [00:00<00:00, 4561.60it/s]\n"
     ]
    },
    {
     "name": "stdout",
     "output_type": "stream",
     "text": [
      "Z plane: 30\n"
     ]
    },
    {
     "name": "stderr",
     "output_type": "stream",
     "text": [
      "100%|█████████████████████████████████████████| 25/25 [00:00<00:00, 2346.23it/s]\n",
      "100%|█████████████████████████████████████████| 25/25 [00:00<00:00, 5238.69it/s]\n"
     ]
    },
    {
     "name": "stdout",
     "output_type": "stream",
     "text": [
      "Z plane: 31\n"
     ]
    },
    {
     "name": "stderr",
     "output_type": "stream",
     "text": [
      "100%|█████████████████████████████████████████| 21/21 [00:00<00:00, 3334.86it/s]\n",
      "100%|█████████████████████████████████████████| 21/21 [00:00<00:00, 8183.63it/s]\n"
     ]
    },
    {
     "name": "stdout",
     "output_type": "stream",
     "text": [
      "Time point: 18\n",
      "Z plane: 0\n"
     ]
    },
    {
     "name": "stderr",
     "output_type": "stream",
     "text": [
      "100%|████████████████████████████████████████████| 2/2 [00:00<00:00, 942.96it/s]\n",
      "100%|███████████████████████████████████████████| 2/2 [00:00<00:00, 1080.59it/s]\n"
     ]
    },
    {
     "name": "stdout",
     "output_type": "stream",
     "text": [
      "Z plane: 1\n"
     ]
    },
    {
     "name": "stderr",
     "output_type": "stream",
     "text": [
      "100%|████████████████████████████████████████████| 3/3 [00:00<00:00, 876.92it/s]\n",
      "100%|████████████████████████████████████████████| 3/3 [00:00<00:00, 752.84it/s]\n"
     ]
    },
    {
     "name": "stdout",
     "output_type": "stream",
     "text": [
      "Z plane: 2\n"
     ]
    },
    {
     "name": "stderr",
     "output_type": "stream",
     "text": [
      "100%|███████████████████████████████████████████| 4/4 [00:00<00:00, 1215.48it/s]\n",
      "100%|████████████████████████████████████████████| 4/4 [00:00<00:00, 830.72it/s]\n"
     ]
    },
    {
     "name": "stdout",
     "output_type": "stream",
     "text": [
      "Z plane: 3\n"
     ]
    },
    {
     "name": "stderr",
     "output_type": "stream",
     "text": [
      "100%|███████████████████████████████████████████| 6/6 [00:00<00:00, 1135.08it/s]\n",
      "100%|████████████████████████████████████████████| 6/6 [00:00<00:00, 843.64it/s]\n"
     ]
    },
    {
     "name": "stdout",
     "output_type": "stream",
     "text": [
      "Z plane: 4\n"
     ]
    },
    {
     "name": "stderr",
     "output_type": "stream",
     "text": [
      "100%|███████████████████████████████████████████| 6/6 [00:00<00:00, 1307.72it/s]\n",
      "100%|███████████████████████████████████████████| 6/6 [00:00<00:00, 1152.07it/s]\n"
     ]
    },
    {
     "name": "stdout",
     "output_type": "stream",
     "text": [
      "Z plane: 5\n"
     ]
    },
    {
     "name": "stderr",
     "output_type": "stream",
     "text": [
      "100%|████████████████████████████████████████████| 8/8 [00:00<00:00, 909.21it/s]\n",
      "100%|███████████████████████████████████████████| 8/8 [00:00<00:00, 1378.63it/s]\n"
     ]
    },
    {
     "name": "stdout",
     "output_type": "stream",
     "text": [
      "Z plane: 6\n"
     ]
    },
    {
     "name": "stderr",
     "output_type": "stream",
     "text": [
      "100%|█████████████████████████████████████████| 10/10 [00:00<00:00, 1053.53it/s]\n",
      "100%|█████████████████████████████████████████| 10/10 [00:00<00:00, 2039.63it/s]\n"
     ]
    },
    {
     "name": "stdout",
     "output_type": "stream",
     "text": [
      "Z plane: 7\n"
     ]
    },
    {
     "name": "stderr",
     "output_type": "stream",
     "text": [
      "100%|█████████████████████████████████████████| 10/10 [00:00<00:00, 1253.45it/s]\n",
      "100%|█████████████████████████████████████████| 10/10 [00:00<00:00, 2870.26it/s]\n"
     ]
    },
    {
     "name": "stdout",
     "output_type": "stream",
     "text": [
      "Z plane: 8\n"
     ]
    },
    {
     "name": "stderr",
     "output_type": "stream",
     "text": [
      "100%|█████████████████████████████████████████| 13/13 [00:00<00:00, 1570.63it/s]\n",
      "100%|█████████████████████████████████████████| 13/13 [00:00<00:00, 2044.31it/s]\n"
     ]
    },
    {
     "name": "stdout",
     "output_type": "stream",
     "text": [
      "Z plane: 9\n"
     ]
    },
    {
     "name": "stderr",
     "output_type": "stream",
     "text": [
      "100%|█████████████████████████████████████████| 14/14 [00:00<00:00, 1592.89it/s]\n",
      "100%|█████████████████████████████████████████| 14/14 [00:00<00:00, 2464.75it/s]\n"
     ]
    },
    {
     "name": "stdout",
     "output_type": "stream",
     "text": [
      "Z plane: 10\n"
     ]
    },
    {
     "name": "stderr",
     "output_type": "stream",
     "text": [
      "100%|█████████████████████████████████████████| 15/15 [00:00<00:00, 1763.10it/s]\n",
      "100%|█████████████████████████████████████████| 15/15 [00:00<00:00, 3299.83it/s]\n"
     ]
    },
    {
     "name": "stdout",
     "output_type": "stream",
     "text": [
      "Z plane: 11\n"
     ]
    },
    {
     "name": "stderr",
     "output_type": "stream",
     "text": [
      "100%|█████████████████████████████████████████| 15/15 [00:00<00:00, 1238.52it/s]\n",
      "100%|█████████████████████████████████████████| 15/15 [00:00<00:00, 2561.98it/s]\n"
     ]
    },
    {
     "name": "stdout",
     "output_type": "stream",
     "text": [
      "Z plane: 12\n"
     ]
    },
    {
     "name": "stderr",
     "output_type": "stream",
     "text": [
      "100%|█████████████████████████████████████████| 16/16 [00:00<00:00, 1469.62it/s]\n",
      "100%|█████████████████████████████████████████| 16/16 [00:00<00:00, 2798.18it/s]\n"
     ]
    },
    {
     "name": "stdout",
     "output_type": "stream",
     "text": [
      "Z plane: 13\n"
     ]
    },
    {
     "name": "stderr",
     "output_type": "stream",
     "text": [
      "100%|█████████████████████████████████████████| 16/16 [00:00<00:00, 1778.52it/s]\n",
      "100%|█████████████████████████████████████████| 16/16 [00:00<00:00, 3591.40it/s]\n"
     ]
    },
    {
     "name": "stdout",
     "output_type": "stream",
     "text": [
      "Z plane: 14\n"
     ]
    },
    {
     "name": "stderr",
     "output_type": "stream",
     "text": [
      "100%|█████████████████████████████████████████| 16/16 [00:00<00:00, 1921.90it/s]\n",
      "100%|█████████████████████████████████████████| 16/16 [00:00<00:00, 3205.12it/s]\n"
     ]
    },
    {
     "name": "stdout",
     "output_type": "stream",
     "text": [
      "Z plane: 15\n"
     ]
    },
    {
     "name": "stderr",
     "output_type": "stream",
     "text": [
      "100%|█████████████████████████████████████████| 21/21 [00:00<00:00, 2221.50it/s]\n",
      "100%|█████████████████████████████████████████| 21/21 [00:00<00:00, 4056.39it/s]\n"
     ]
    },
    {
     "name": "stdout",
     "output_type": "stream",
     "text": [
      "Z plane: 16\n"
     ]
    },
    {
     "name": "stderr",
     "output_type": "stream",
     "text": [
      "100%|█████████████████████████████████████████| 29/29 [00:00<00:00, 3583.82it/s]\n",
      "100%|█████████████████████████████████████████| 29/29 [00:00<00:00, 7271.77it/s]\n"
     ]
    },
    {
     "name": "stdout",
     "output_type": "stream",
     "text": [
      "Z plane: 17\n"
     ]
    },
    {
     "name": "stderr",
     "output_type": "stream",
     "text": [
      "100%|█████████████████████████████████████████| 28/28 [00:00<00:00, 3843.58it/s]\n",
      "100%|█████████████████████████████████████████| 27/27 [00:00<00:00, 6868.82it/s]\n"
     ]
    },
    {
     "name": "stdout",
     "output_type": "stream",
     "text": [
      "Z plane: 18\n"
     ]
    },
    {
     "name": "stderr",
     "output_type": "stream",
     "text": [
      "100%|█████████████████████████████████████████| 30/30 [00:00<00:00, 3174.30it/s]\n",
      "100%|█████████████████████████████████████████| 30/30 [00:00<00:00, 5840.02it/s]\n"
     ]
    },
    {
     "name": "stdout",
     "output_type": "stream",
     "text": [
      "Z plane: 19\n"
     ]
    },
    {
     "name": "stderr",
     "output_type": "stream",
     "text": [
      "100%|█████████████████████████████████████████| 31/31 [00:00<00:00, 2944.24it/s]\n",
      "100%|█████████████████████████████████████████| 31/31 [00:00<00:00, 6056.05it/s]\n"
     ]
    },
    {
     "name": "stdout",
     "output_type": "stream",
     "text": [
      "Z plane: 20\n"
     ]
    },
    {
     "name": "stderr",
     "output_type": "stream",
     "text": [
      "100%|█████████████████████████████████████████| 35/35 [00:00<00:00, 3475.06it/s]\n",
      "100%|█████████████████████████████████████████| 35/35 [00:00<00:00, 7470.39it/s]\n"
     ]
    },
    {
     "name": "stdout",
     "output_type": "stream",
     "text": [
      "Z plane: 21\n"
     ]
    },
    {
     "name": "stderr",
     "output_type": "stream",
     "text": [
      "100%|█████████████████████████████████████████| 34/34 [00:00<00:00, 6303.04it/s]\n",
      "100%|█████████████████████████████████████████| 34/34 [00:00<00:00, 8548.52it/s]\n"
     ]
    },
    {
     "name": "stdout",
     "output_type": "stream",
     "text": [
      "Z plane: 22\n"
     ]
    },
    {
     "name": "stderr",
     "output_type": "stream",
     "text": [
      "100%|█████████████████████████████████████████| 34/34 [00:00<00:00, 2909.21it/s]\n",
      "100%|█████████████████████████████████████████| 34/34 [00:00<00:00, 6125.18it/s]\n"
     ]
    },
    {
     "name": "stdout",
     "output_type": "stream",
     "text": [
      "Z plane: 23\n"
     ]
    },
    {
     "name": "stderr",
     "output_type": "stream",
     "text": [
      "100%|█████████████████████████████████████████| 35/35 [00:00<00:00, 3387.11it/s]\n",
      "100%|█████████████████████████████████████████| 35/35 [00:00<00:00, 5299.85it/s]\n"
     ]
    },
    {
     "name": "stdout",
     "output_type": "stream",
     "text": [
      "Z plane: 24\n"
     ]
    },
    {
     "name": "stderr",
     "output_type": "stream",
     "text": [
      "100%|█████████████████████████████████████████| 32/32 [00:00<00:00, 3436.81it/s]\n",
      "100%|█████████████████████████████████████████| 32/32 [00:00<00:00, 4137.67it/s]\n"
     ]
    },
    {
     "name": "stdout",
     "output_type": "stream",
     "text": [
      "Z plane: 25\n"
     ]
    },
    {
     "name": "stderr",
     "output_type": "stream",
     "text": [
      "100%|█████████████████████████████████████████| 31/31 [00:00<00:00, 3749.45it/s]\n",
      "100%|█████████████████████████████████████████| 31/31 [00:00<00:00, 4690.43it/s]\n"
     ]
    },
    {
     "name": "stdout",
     "output_type": "stream",
     "text": [
      "Z plane: 26\n"
     ]
    },
    {
     "name": "stderr",
     "output_type": "stream",
     "text": [
      "100%|█████████████████████████████████████████| 29/29 [00:00<00:00, 2725.10it/s]\n",
      "100%|█████████████████████████████████████████| 29/29 [00:00<00:00, 4359.67it/s]\n"
     ]
    },
    {
     "name": "stdout",
     "output_type": "stream",
     "text": [
      "Z plane: 27\n"
     ]
    },
    {
     "name": "stderr",
     "output_type": "stream",
     "text": [
      "100%|█████████████████████████████████████████| 24/24 [00:00<00:00, 2340.52it/s]\n",
      "100%|█████████████████████████████████████████| 24/24 [00:00<00:00, 3883.46it/s]\n"
     ]
    },
    {
     "name": "stdout",
     "output_type": "stream",
     "text": [
      "Z plane: 28\n"
     ]
    },
    {
     "name": "stderr",
     "output_type": "stream",
     "text": [
      "100%|█████████████████████████████████████████| 18/18 [00:00<00:00, 1575.79it/s]\n",
      "100%|█████████████████████████████████████████| 18/18 [00:00<00:00, 3831.97it/s]\n"
     ]
    },
    {
     "name": "stdout",
     "output_type": "stream",
     "text": [
      "Z plane: 29\n"
     ]
    },
    {
     "name": "stderr",
     "output_type": "stream",
     "text": [
      "100%|█████████████████████████████████████████| 18/18 [00:00<00:00, 2872.59it/s]\n",
      "100%|█████████████████████████████████████████| 18/18 [00:00<00:00, 2323.43it/s]\n"
     ]
    },
    {
     "name": "stdout",
     "output_type": "stream",
     "text": [
      "Z plane: 30\n"
     ]
    },
    {
     "name": "stderr",
     "output_type": "stream",
     "text": [
      "100%|█████████████████████████████████████████| 18/18 [00:00<00:00, 3127.74it/s]\n",
      "100%|█████████████████████████████████████████| 17/17 [00:00<00:00, 2930.07it/s]\n"
     ]
    },
    {
     "name": "stdout",
     "output_type": "stream",
     "text": [
      "Z plane: 31\n"
     ]
    },
    {
     "name": "stderr",
     "output_type": "stream",
     "text": [
      "100%|█████████████████████████████████████████| 16/16 [00:00<00:00, 2148.24it/s]\n",
      "100%|█████████████████████████████████████████| 15/15 [00:00<00:00, 2645.58it/s]\n"
     ]
    },
    {
     "name": "stdout",
     "output_type": "stream",
     "text": [
      "Time point: 19\n",
      "Z plane: 0\n"
     ]
    },
    {
     "name": "stderr",
     "output_type": "stream",
     "text": [
      "100%|███████████████████████████████████████████| 2/2 [00:00<00:00, 1085.76it/s]\n",
      "100%|████████████████████████████████████████████| 2/2 [00:00<00:00, 866.50it/s]\n"
     ]
    },
    {
     "name": "stdout",
     "output_type": "stream",
     "text": [
      "Z plane: 1\n"
     ]
    },
    {
     "name": "stderr",
     "output_type": "stream",
     "text": [
      "100%|████████████████████████████████████████████| 2/2 [00:00<00:00, 973.72it/s]\n",
      "100%|███████████████████████████████████████████| 2/2 [00:00<00:00, 1758.99it/s]\n"
     ]
    },
    {
     "name": "stdout",
     "output_type": "stream",
     "text": [
      "Z plane: 2\n"
     ]
    },
    {
     "name": "stderr",
     "output_type": "stream",
     "text": [
      "100%|███████████████████████████████████████████| 4/4 [00:00<00:00, 1894.02it/s]\n",
      "100%|███████████████████████████████████████████| 4/4 [00:00<00:00, 1017.05it/s]\n"
     ]
    },
    {
     "name": "stdout",
     "output_type": "stream",
     "text": [
      "Z plane: 3\n"
     ]
    },
    {
     "name": "stderr",
     "output_type": "stream",
     "text": [
      "100%|███████████████████████████████████████████| 6/6 [00:00<00:00, 1364.22it/s]\n",
      "100%|███████████████████████████████████████████| 6/6 [00:00<00:00, 1054.51it/s]\n"
     ]
    },
    {
     "name": "stdout",
     "output_type": "stream",
     "text": [
      "Z plane: 4\n"
     ]
    },
    {
     "name": "stderr",
     "output_type": "stream",
     "text": [
      "100%|███████████████████████████████████████████| 8/8 [00:00<00:00, 1282.22it/s]\n",
      "100%|███████████████████████████████████████████| 8/8 [00:00<00:00, 1095.91it/s]\n"
     ]
    },
    {
     "name": "stdout",
     "output_type": "stream",
     "text": [
      "Z plane: 5\n"
     ]
    },
    {
     "name": "stderr",
     "output_type": "stream",
     "text": [
      "100%|███████████████████████████████████████████| 8/8 [00:00<00:00, 1176.98it/s]\n",
      "100%|███████████████████████████████████████████| 8/8 [00:00<00:00, 1387.69it/s]\n"
     ]
    },
    {
     "name": "stdout",
     "output_type": "stream",
     "text": [
      "Z plane: 6\n"
     ]
    },
    {
     "name": "stderr",
     "output_type": "stream",
     "text": [
      "100%|█████████████████████████████████████████| 10/10 [00:00<00:00, 1548.23it/s]\n",
      "100%|█████████████████████████████████████████| 10/10 [00:00<00:00, 2240.55it/s]\n"
     ]
    },
    {
     "name": "stdout",
     "output_type": "stream",
     "text": [
      "Z plane: 7\n"
     ]
    },
    {
     "name": "stderr",
     "output_type": "stream",
     "text": [
      "100%|█████████████████████████████████████████| 13/13 [00:00<00:00, 1487.59it/s]\n",
      "100%|█████████████████████████████████████████| 13/13 [00:00<00:00, 2305.05it/s]\n"
     ]
    },
    {
     "name": "stdout",
     "output_type": "stream",
     "text": [
      "Z plane: 8\n"
     ]
    },
    {
     "name": "stderr",
     "output_type": "stream",
     "text": [
      "100%|█████████████████████████████████████████| 12/12 [00:00<00:00, 2475.12it/s]\n",
      "100%|█████████████████████████████████████████| 12/12 [00:00<00:00, 2167.60it/s]\n"
     ]
    },
    {
     "name": "stdout",
     "output_type": "stream",
     "text": [
      "Z plane: 9\n"
     ]
    },
    {
     "name": "stderr",
     "output_type": "stream",
     "text": [
      "100%|█████████████████████████████████████████| 14/14 [00:00<00:00, 1725.39it/s]\n",
      "100%|█████████████████████████████████████████| 14/14 [00:00<00:00, 2112.54it/s]\n"
     ]
    },
    {
     "name": "stdout",
     "output_type": "stream",
     "text": [
      "Z plane: 10\n"
     ]
    },
    {
     "name": "stderr",
     "output_type": "stream",
     "text": [
      "100%|█████████████████████████████████████████| 17/17 [00:00<00:00, 2154.37it/s]\n",
      "100%|█████████████████████████████████████████| 17/17 [00:00<00:00, 2938.03it/s]\n"
     ]
    },
    {
     "name": "stdout",
     "output_type": "stream",
     "text": [
      "Z plane: 11\n"
     ]
    },
    {
     "name": "stderr",
     "output_type": "stream",
     "text": [
      "100%|█████████████████████████████████████████| 16/16 [00:00<00:00, 2044.26it/s]\n",
      "100%|█████████████████████████████████████████| 16/16 [00:00<00:00, 3743.66it/s]\n"
     ]
    },
    {
     "name": "stdout",
     "output_type": "stream",
     "text": [
      "Z plane: 12\n"
     ]
    },
    {
     "name": "stderr",
     "output_type": "stream",
     "text": [
      "100%|█████████████████████████████████████████| 18/18 [00:00<00:00, 2168.66it/s]\n",
      "100%|█████████████████████████████████████████| 18/18 [00:00<00:00, 4554.63it/s]\n"
     ]
    },
    {
     "name": "stdout",
     "output_type": "stream",
     "text": [
      "Z plane: 13\n"
     ]
    },
    {
     "name": "stderr",
     "output_type": "stream",
     "text": [
      "100%|█████████████████████████████████████████| 18/18 [00:00<00:00, 2196.67it/s]\n",
      "100%|█████████████████████████████████████████| 17/17 [00:00<00:00, 2989.90it/s]\n"
     ]
    },
    {
     "name": "stdout",
     "output_type": "stream",
     "text": [
      "Z plane: 14\n"
     ]
    },
    {
     "name": "stderr",
     "output_type": "stream",
     "text": [
      "100%|█████████████████████████████████████████| 21/21 [00:00<00:00, 2615.14it/s]\n",
      "100%|█████████████████████████████████████████| 20/20 [00:00<00:00, 3455.94it/s]\n"
     ]
    },
    {
     "name": "stdout",
     "output_type": "stream",
     "text": [
      "Z plane: 15\n"
     ]
    },
    {
     "name": "stderr",
     "output_type": "stream",
     "text": [
      "100%|█████████████████████████████████████████| 24/24 [00:00<00:00, 2626.09it/s]\n",
      "100%|█████████████████████████████████████████| 23/23 [00:00<00:00, 3179.81it/s]\n"
     ]
    },
    {
     "name": "stdout",
     "output_type": "stream",
     "text": [
      "Z plane: 16\n"
     ]
    },
    {
     "name": "stderr",
     "output_type": "stream",
     "text": [
      "100%|█████████████████████████████████████████| 26/26 [00:00<00:00, 3536.97it/s]\n",
      "100%|█████████████████████████████████████████| 25/25 [00:00<00:00, 7646.03it/s]\n"
     ]
    },
    {
     "name": "stdout",
     "output_type": "stream",
     "text": [
      "Z plane: 17\n"
     ]
    },
    {
     "name": "stderr",
     "output_type": "stream",
     "text": [
      "100%|█████████████████████████████████████████| 32/32 [00:00<00:00, 3530.09it/s]\n",
      "100%|█████████████████████████████████████████| 30/30 [00:00<00:00, 5934.78it/s]\n"
     ]
    },
    {
     "name": "stdout",
     "output_type": "stream",
     "text": [
      "Z plane: 18\n"
     ]
    },
    {
     "name": "stderr",
     "output_type": "stream",
     "text": [
      "100%|█████████████████████████████████████████| 33/33 [00:00<00:00, 3260.21it/s]\n",
      "100%|█████████████████████████████████████████| 32/32 [00:00<00:00, 5321.03it/s]\n"
     ]
    },
    {
     "name": "stdout",
     "output_type": "stream",
     "text": [
      "Z plane: 19\n"
     ]
    },
    {
     "name": "stderr",
     "output_type": "stream",
     "text": [
      "100%|█████████████████████████████████████████| 34/34 [00:00<00:00, 3521.84it/s]\n",
      "100%|█████████████████████████████████████████| 32/32 [00:00<00:00, 6348.09it/s]\n"
     ]
    },
    {
     "name": "stdout",
     "output_type": "stream",
     "text": [
      "Z plane: 20\n"
     ]
    },
    {
     "name": "stderr",
     "output_type": "stream",
     "text": [
      "100%|█████████████████████████████████████████| 36/36 [00:00<00:00, 3393.75it/s]\n",
      "100%|█████████████████████████████████████████| 34/34 [00:00<00:00, 8355.68it/s]\n"
     ]
    },
    {
     "name": "stdout",
     "output_type": "stream",
     "text": [
      "Z plane: 21\n"
     ]
    },
    {
     "name": "stderr",
     "output_type": "stream",
     "text": [
      "100%|█████████████████████████████████████████| 36/36 [00:00<00:00, 3980.57it/s]\n",
      "100%|█████████████████████████████████████████| 35/35 [00:00<00:00, 5673.67it/s]\n"
     ]
    },
    {
     "name": "stdout",
     "output_type": "stream",
     "text": [
      "Z plane: 22\n"
     ]
    },
    {
     "name": "stderr",
     "output_type": "stream",
     "text": [
      "100%|█████████████████████████████████████████| 34/34 [00:00<00:00, 2917.96it/s]\n",
      "100%|█████████████████████████████████████████| 33/33 [00:00<00:00, 6432.68it/s]\n"
     ]
    },
    {
     "name": "stdout",
     "output_type": "stream",
     "text": [
      "Z plane: 23\n"
     ]
    },
    {
     "name": "stderr",
     "output_type": "stream",
     "text": [
      "100%|█████████████████████████████████████████| 36/36 [00:00<00:00, 3340.15it/s]\n",
      "100%|█████████████████████████████████████████| 35/35 [00:00<00:00, 4393.78it/s]\n"
     ]
    },
    {
     "name": "stdout",
     "output_type": "stream",
     "text": [
      "Z plane: 24\n"
     ]
    },
    {
     "name": "stderr",
     "output_type": "stream",
     "text": [
      "100%|█████████████████████████████████████████| 35/35 [00:00<00:00, 3691.89it/s]\n",
      "100%|█████████████████████████████████████████| 35/35 [00:00<00:00, 4287.53it/s]\n"
     ]
    },
    {
     "name": "stdout",
     "output_type": "stream",
     "text": [
      "Z plane: 25\n"
     ]
    },
    {
     "name": "stderr",
     "output_type": "stream",
     "text": [
      "100%|█████████████████████████████████████████| 29/29 [00:00<00:00, 4947.92it/s]\n",
      "100%|█████████████████████████████████████████| 29/29 [00:00<00:00, 4626.83it/s]\n"
     ]
    },
    {
     "name": "stdout",
     "output_type": "stream",
     "text": [
      "Z plane: 26\n"
     ]
    },
    {
     "name": "stderr",
     "output_type": "stream",
     "text": [
      "100%|█████████████████████████████████████████| 27/27 [00:00<00:00, 2762.71it/s]\n",
      "100%|█████████████████████████████████████████| 27/27 [00:00<00:00, 4721.94it/s]\n"
     ]
    },
    {
     "name": "stdout",
     "output_type": "stream",
     "text": [
      "Z plane: 27\n"
     ]
    },
    {
     "name": "stderr",
     "output_type": "stream",
     "text": [
      "100%|█████████████████████████████████████████| 25/25 [00:00<00:00, 2039.28it/s]\n",
      "100%|█████████████████████████████████████████| 25/25 [00:00<00:00, 3334.74it/s]\n"
     ]
    },
    {
     "name": "stdout",
     "output_type": "stream",
     "text": [
      "Z plane: 28\n"
     ]
    },
    {
     "name": "stderr",
     "output_type": "stream",
     "text": [
      "100%|█████████████████████████████████████████| 20/20 [00:00<00:00, 2242.94it/s]\n",
      "100%|█████████████████████████████████████████| 20/20 [00:00<00:00, 3328.28it/s]\n"
     ]
    },
    {
     "name": "stdout",
     "output_type": "stream",
     "text": [
      "Z plane: 29\n"
     ]
    },
    {
     "name": "stderr",
     "output_type": "stream",
     "text": [
      "100%|█████████████████████████████████████████| 17/17 [00:00<00:00, 2428.33it/s]\n",
      "100%|█████████████████████████████████████████| 17/17 [00:00<00:00, 2432.39it/s]\n"
     ]
    },
    {
     "name": "stdout",
     "output_type": "stream",
     "text": [
      "Z plane: 30\n"
     ]
    },
    {
     "name": "stderr",
     "output_type": "stream",
     "text": [
      "100%|█████████████████████████████████████████| 15/15 [00:00<00:00, 1703.20it/s]\n",
      "100%|█████████████████████████████████████████| 15/15 [00:00<00:00, 1924.52it/s]\n"
     ]
    },
    {
     "name": "stdout",
     "output_type": "stream",
     "text": [
      "Z plane: 31\n"
     ]
    },
    {
     "name": "stderr",
     "output_type": "stream",
     "text": [
      "100%|█████████████████████████████████████████| 14/14 [00:00<00:00, 2468.27it/s]\n",
      "100%|█████████████████████████████████████████| 14/14 [00:00<00:00, 2732.70it/s]\n"
     ]
    },
    {
     "name": "stdout",
     "output_type": "stream",
     "text": [
      "Time point: 20\n",
      "Z plane: 0\n"
     ]
    },
    {
     "name": "stderr",
     "output_type": "stream",
     "text": [
      "100%|███████████████████████████████████████████| 3/3 [00:00<00:00, 1082.59it/s]\n",
      "100%|████████████████████████████████████████████| 3/3 [00:00<00:00, 797.04it/s]\n"
     ]
    },
    {
     "name": "stdout",
     "output_type": "stream",
     "text": [
      "Z plane: 1\n"
     ]
    },
    {
     "name": "stderr",
     "output_type": "stream",
     "text": [
      "100%|███████████████████████████████████████████| 3/3 [00:00<00:00, 1665.73it/s]\n",
      "100%|████████████████████████████████████████████| 3/3 [00:00<00:00, 899.61it/s]\n"
     ]
    },
    {
     "name": "stdout",
     "output_type": "stream",
     "text": [
      "Z plane: 2\n"
     ]
    },
    {
     "name": "stderr",
     "output_type": "stream",
     "text": [
      "100%|███████████████████████████████████████████| 3/3 [00:00<00:00, 1015.24it/s]\n",
      "100%|████████████████████████████████████████████| 3/3 [00:00<00:00, 609.87it/s]\n"
     ]
    },
    {
     "name": "stdout",
     "output_type": "stream",
     "text": [
      "Z plane: 3\n"
     ]
    },
    {
     "name": "stderr",
     "output_type": "stream",
     "text": [
      "100%|███████████████████████████████████████████| 5/5 [00:00<00:00, 1138.64it/s]\n",
      "100%|███████████████████████████████████████████| 5/5 [00:00<00:00, 1378.98it/s]\n"
     ]
    },
    {
     "name": "stdout",
     "output_type": "stream",
     "text": [
      "Z plane: 4\n"
     ]
    },
    {
     "name": "stderr",
     "output_type": "stream",
     "text": [
      "100%|███████████████████████████████████████████| 6/6 [00:00<00:00, 1240.92it/s]\n",
      "100%|███████████████████████████████████████████| 6/6 [00:00<00:00, 1569.04it/s]\n"
     ]
    },
    {
     "name": "stdout",
     "output_type": "stream",
     "text": [
      "Z plane: 5\n"
     ]
    },
    {
     "name": "stderr",
     "output_type": "stream",
     "text": [
      "100%|███████████████████████████████████████████| 8/8 [00:00<00:00, 1239.54it/s]\n",
      "100%|███████████████████████████████████████████| 8/8 [00:00<00:00, 1640.96it/s]\n"
     ]
    },
    {
     "name": "stdout",
     "output_type": "stream",
     "text": [
      "Z plane: 6\n"
     ]
    },
    {
     "name": "stderr",
     "output_type": "stream",
     "text": [
      "100%|███████████████████████████████████████████| 9/9 [00:00<00:00, 1117.06it/s]\n",
      "100%|███████████████████████████████████████████| 9/9 [00:00<00:00, 1556.07it/s]\n"
     ]
    },
    {
     "name": "stdout",
     "output_type": "stream",
     "text": [
      "Z plane: 7\n"
     ]
    },
    {
     "name": "stderr",
     "output_type": "stream",
     "text": [
      "100%|█████████████████████████████████████████| 14/14 [00:00<00:00, 1936.68it/s]\n",
      "100%|█████████████████████████████████████████| 14/14 [00:00<00:00, 2489.41it/s]\n"
     ]
    },
    {
     "name": "stdout",
     "output_type": "stream",
     "text": [
      "Z plane: 8\n"
     ]
    },
    {
     "name": "stderr",
     "output_type": "stream",
     "text": [
      "100%|█████████████████████████████████████████| 12/12 [00:00<00:00, 1438.79it/s]\n",
      "100%|█████████████████████████████████████████| 12/12 [00:00<00:00, 2124.95it/s]\n"
     ]
    },
    {
     "name": "stdout",
     "output_type": "stream",
     "text": [
      "Z plane: 9\n"
     ]
    },
    {
     "name": "stderr",
     "output_type": "stream",
     "text": [
      "100%|█████████████████████████████████████████| 13/13 [00:00<00:00, 1479.11it/s]\n",
      "100%|█████████████████████████████████████████| 13/13 [00:00<00:00, 1919.18it/s]\n"
     ]
    },
    {
     "name": "stdout",
     "output_type": "stream",
     "text": [
      "Z plane: 10\n"
     ]
    },
    {
     "name": "stderr",
     "output_type": "stream",
     "text": [
      "100%|█████████████████████████████████████████| 15/15 [00:00<00:00, 1486.32it/s]\n",
      "100%|█████████████████████████████████████████| 15/15 [00:00<00:00, 2092.69it/s]\n"
     ]
    },
    {
     "name": "stdout",
     "output_type": "stream",
     "text": [
      "Z plane: 11\n"
     ]
    },
    {
     "name": "stderr",
     "output_type": "stream",
     "text": [
      "100%|█████████████████████████████████████████| 15/15 [00:00<00:00, 2200.73it/s]\n",
      "100%|█████████████████████████████████████████| 15/15 [00:00<00:00, 2239.83it/s]\n"
     ]
    },
    {
     "name": "stdout",
     "output_type": "stream",
     "text": [
      "Z plane: 12\n"
     ]
    },
    {
     "name": "stderr",
     "output_type": "stream",
     "text": [
      "100%|█████████████████████████████████████████| 16/16 [00:00<00:00, 1506.14it/s]\n",
      "100%|█████████████████████████████████████████| 16/16 [00:00<00:00, 2557.60it/s]\n"
     ]
    },
    {
     "name": "stdout",
     "output_type": "stream",
     "text": [
      "Z plane: 13\n"
     ]
    },
    {
     "name": "stderr",
     "output_type": "stream",
     "text": [
      "100%|█████████████████████████████████████████| 18/18 [00:00<00:00, 1662.17it/s]\n",
      "100%|█████████████████████████████████████████| 18/18 [00:00<00:00, 2417.39it/s]\n"
     ]
    },
    {
     "name": "stdout",
     "output_type": "stream",
     "text": [
      "Z plane: 14\n"
     ]
    },
    {
     "name": "stderr",
     "output_type": "stream",
     "text": [
      "100%|█████████████████████████████████████████| 20/20 [00:00<00:00, 3010.55it/s]\n",
      "100%|█████████████████████████████████████████| 20/20 [00:00<00:00, 3341.01it/s]\n"
     ]
    },
    {
     "name": "stdout",
     "output_type": "stream",
     "text": [
      "Z plane: 15\n"
     ]
    },
    {
     "name": "stderr",
     "output_type": "stream",
     "text": [
      "100%|█████████████████████████████████████████| 21/21 [00:00<00:00, 2217.98it/s]\n",
      "100%|█████████████████████████████████████████| 21/21 [00:00<00:00, 4761.87it/s]\n"
     ]
    },
    {
     "name": "stdout",
     "output_type": "stream",
     "text": [
      "Z plane: 16\n"
     ]
    },
    {
     "name": "stderr",
     "output_type": "stream",
     "text": [
      "100%|█████████████████████████████████████████| 27/27 [00:00<00:00, 2658.30it/s]\n",
      "100%|█████████████████████████████████████████| 26/26 [00:00<00:00, 3865.99it/s]\n"
     ]
    },
    {
     "name": "stdout",
     "output_type": "stream",
     "text": [
      "Z plane: 17\n"
     ]
    },
    {
     "name": "stderr",
     "output_type": "stream",
     "text": [
      "100%|█████████████████████████████████████████| 28/28 [00:00<00:00, 2600.72it/s]\n",
      "100%|█████████████████████████████████████████| 27/27 [00:00<00:00, 6928.07it/s]\n"
     ]
    },
    {
     "name": "stdout",
     "output_type": "stream",
     "text": [
      "Z plane: 18\n"
     ]
    },
    {
     "name": "stderr",
     "output_type": "stream",
     "text": [
      "100%|█████████████████████████████████████████| 37/37 [00:00<00:00, 3887.70it/s]\n",
      "100%|█████████████████████████████████████████| 34/34 [00:00<00:00, 5425.18it/s]\n"
     ]
    },
    {
     "name": "stdout",
     "output_type": "stream",
     "text": [
      "Z plane: 19\n"
     ]
    },
    {
     "name": "stderr",
     "output_type": "stream",
     "text": [
      "100%|█████████████████████████████████████████| 37/37 [00:00<00:00, 3780.03it/s]\n",
      "100%|█████████████████████████████████████████| 33/33 [00:00<00:00, 8672.43it/s]\n"
     ]
    },
    {
     "name": "stdout",
     "output_type": "stream",
     "text": [
      "Z plane: 20\n"
     ]
    },
    {
     "name": "stderr",
     "output_type": "stream",
     "text": [
      "100%|█████████████████████████████████████████| 35/35 [00:00<00:00, 6489.86it/s]\n",
      "100%|█████████████████████████████████████████| 35/35 [00:00<00:00, 7033.71it/s]\n"
     ]
    },
    {
     "name": "stdout",
     "output_type": "stream",
     "text": [
      "Z plane: 21\n"
     ]
    },
    {
     "name": "stderr",
     "output_type": "stream",
     "text": [
      "100%|█████████████████████████████████████████| 35/35 [00:00<00:00, 2194.62it/s]\n",
      "100%|█████████████████████████████████████████| 35/35 [00:00<00:00, 5260.92it/s]\n"
     ]
    },
    {
     "name": "stdout",
     "output_type": "stream",
     "text": [
      "Z plane: 22\n"
     ]
    },
    {
     "name": "stderr",
     "output_type": "stream",
     "text": [
      "100%|█████████████████████████████████████████| 33/33 [00:00<00:00, 3501.00it/s]\n",
      "100%|█████████████████████████████████████████| 33/33 [00:00<00:00, 6336.39it/s]\n"
     ]
    },
    {
     "name": "stdout",
     "output_type": "stream",
     "text": [
      "Z plane: 23\n"
     ]
    },
    {
     "name": "stderr",
     "output_type": "stream",
     "text": [
      "100%|█████████████████████████████████████████| 32/32 [00:00<00:00, 3787.93it/s]\n",
      "100%|█████████████████████████████████████████| 31/31 [00:00<00:00, 4813.72it/s]\n"
     ]
    },
    {
     "name": "stdout",
     "output_type": "stream",
     "text": [
      "Z plane: 24\n"
     ]
    },
    {
     "name": "stderr",
     "output_type": "stream",
     "text": [
      "100%|█████████████████████████████████████████| 31/31 [00:00<00:00, 3124.66it/s]\n",
      "100%|█████████████████████████████████████████| 31/31 [00:00<00:00, 5341.09it/s]\n"
     ]
    },
    {
     "name": "stdout",
     "output_type": "stream",
     "text": [
      "Z plane: 25\n"
     ]
    },
    {
     "name": "stderr",
     "output_type": "stream",
     "text": [
      "100%|█████████████████████████████████████████| 30/30 [00:00<00:00, 2803.24it/s]\n",
      "100%|█████████████████████████████████████████| 30/30 [00:00<00:00, 5984.45it/s]\n"
     ]
    },
    {
     "name": "stdout",
     "output_type": "stream",
     "text": [
      "Z plane: 26\n"
     ]
    },
    {
     "name": "stderr",
     "output_type": "stream",
     "text": [
      "100%|█████████████████████████████████████████| 26/26 [00:00<00:00, 2669.70it/s]\n",
      "100%|█████████████████████████████████████████| 26/26 [00:00<00:00, 3748.65it/s]\n"
     ]
    },
    {
     "name": "stdout",
     "output_type": "stream",
     "text": [
      "Z plane: 27\n"
     ]
    },
    {
     "name": "stderr",
     "output_type": "stream",
     "text": [
      "100%|█████████████████████████████████████████| 24/24 [00:00<00:00, 1919.55it/s]\n",
      "100%|█████████████████████████████████████████| 23/23 [00:00<00:00, 3129.67it/s]\n"
     ]
    },
    {
     "name": "stdout",
     "output_type": "stream",
     "text": [
      "Z plane: 28\n"
     ]
    },
    {
     "name": "stderr",
     "output_type": "stream",
     "text": [
      "100%|█████████████████████████████████████████| 21/21 [00:00<00:00, 2484.29it/s]\n",
      "100%|█████████████████████████████████████████| 21/21 [00:00<00:00, 6595.81it/s]\n"
     ]
    },
    {
     "name": "stdout",
     "output_type": "stream",
     "text": [
      "Z plane: 29\n"
     ]
    },
    {
     "name": "stderr",
     "output_type": "stream",
     "text": [
      "100%|█████████████████████████████████████████| 17/17 [00:00<00:00, 1788.53it/s]\n",
      "100%|█████████████████████████████████████████| 17/17 [00:00<00:00, 2091.49it/s]\n"
     ]
    },
    {
     "name": "stdout",
     "output_type": "stream",
     "text": [
      "Z plane: 30\n"
     ]
    },
    {
     "name": "stderr",
     "output_type": "stream",
     "text": [
      "100%|█████████████████████████████████████████| 17/17 [00:00<00:00, 2050.95it/s]\n",
      "100%|█████████████████████████████████████████| 17/17 [00:00<00:00, 4136.15it/s]\n"
     ]
    },
    {
     "name": "stdout",
     "output_type": "stream",
     "text": [
      "Z plane: 31\n"
     ]
    },
    {
     "name": "stderr",
     "output_type": "stream",
     "text": [
      "100%|█████████████████████████████████████████| 15/15 [00:00<00:00, 1896.10it/s]\n",
      "100%|█████████████████████████████████████████| 15/15 [00:00<00:00, 5530.95it/s]\n"
     ]
    },
    {
     "name": "stdout",
     "output_type": "stream",
     "text": [
      "Time point: 21\n",
      "Z plane: 0\n"
     ]
    },
    {
     "name": "stderr",
     "output_type": "stream",
     "text": [
      "100%|████████████████████████████████████████████| 2/2 [00:00<00:00, 760.11it/s]\n",
      "100%|████████████████████████████████████████████| 2/2 [00:00<00:00, 947.01it/s]\n"
     ]
    },
    {
     "name": "stdout",
     "output_type": "stream",
     "text": [
      "Z plane: 1\n"
     ]
    },
    {
     "name": "stderr",
     "output_type": "stream",
     "text": [
      "100%|███████████████████████████████████████████| 3/3 [00:00<00:00, 1752.25it/s]\n",
      "100%|███████████████████████████████████████████| 3/3 [00:00<00:00, 1648.06it/s]\n"
     ]
    },
    {
     "name": "stdout",
     "output_type": "stream",
     "text": [
      "Z plane: 2\n"
     ]
    },
    {
     "name": "stderr",
     "output_type": "stream",
     "text": [
      "100%|███████████████████████████████████████████| 3/3 [00:00<00:00, 1928.12it/s]\n",
      "100%|████████████████████████████████████████████| 3/3 [00:00<00:00, 741.04it/s]\n"
     ]
    },
    {
     "name": "stdout",
     "output_type": "stream",
     "text": [
      "Z plane: 3\n"
     ]
    },
    {
     "name": "stderr",
     "output_type": "stream",
     "text": [
      "100%|███████████████████████████████████████████| 4/4 [00:00<00:00, 1192.58it/s]\n",
      "100%|████████████████████████████████████████████| 4/4 [00:00<00:00, 960.12it/s]\n"
     ]
    },
    {
     "name": "stdout",
     "output_type": "stream",
     "text": [
      "Z plane: 4\n"
     ]
    },
    {
     "name": "stderr",
     "output_type": "stream",
     "text": [
      "100%|████████████████████████████████████████████| 7/7 [00:00<00:00, 975.48it/s]\n",
      "100%|███████████████████████████████████████████| 7/7 [00:00<00:00, 1221.25it/s]\n"
     ]
    },
    {
     "name": "stdout",
     "output_type": "stream",
     "text": [
      "Z plane: 5\n"
     ]
    },
    {
     "name": "stderr",
     "output_type": "stream",
     "text": [
      "100%|███████████████████████████████████████████| 9/9 [00:00<00:00, 1444.87it/s]\n",
      "100%|███████████████████████████████████████████| 9/9 [00:00<00:00, 1425.66it/s]\n"
     ]
    },
    {
     "name": "stdout",
     "output_type": "stream",
     "text": [
      "Z plane: 6\n"
     ]
    },
    {
     "name": "stderr",
     "output_type": "stream",
     "text": [
      "100%|███████████████████████████████████████████| 9/9 [00:00<00:00, 1231.73it/s]\n",
      "100%|███████████████████████████████████████████| 9/9 [00:00<00:00, 1403.82it/s]\n"
     ]
    },
    {
     "name": "stdout",
     "output_type": "stream",
     "text": [
      "Z plane: 7\n"
     ]
    },
    {
     "name": "stderr",
     "output_type": "stream",
     "text": [
      "100%|█████████████████████████████████████████| 10/10 [00:00<00:00, 1255.33it/s]\n",
      "100%|█████████████████████████████████████████| 10/10 [00:00<00:00, 1464.54it/s]\n"
     ]
    },
    {
     "name": "stdout",
     "output_type": "stream",
     "text": [
      "Z plane: 8\n"
     ]
    },
    {
     "name": "stderr",
     "output_type": "stream",
     "text": [
      "100%|█████████████████████████████████████████| 12/12 [00:00<00:00, 1440.93it/s]\n",
      "100%|█████████████████████████████████████████| 12/12 [00:00<00:00, 2225.88it/s]\n"
     ]
    },
    {
     "name": "stdout",
     "output_type": "stream",
     "text": [
      "Z plane: 9\n"
     ]
    },
    {
     "name": "stderr",
     "output_type": "stream",
     "text": [
      "100%|█████████████████████████████████████████| 12/12 [00:00<00:00, 1195.84it/s]\n",
      "100%|█████████████████████████████████████████| 12/12 [00:00<00:00, 1377.74it/s]\n"
     ]
    },
    {
     "name": "stdout",
     "output_type": "stream",
     "text": [
      "Z plane: 10\n"
     ]
    },
    {
     "name": "stderr",
     "output_type": "stream",
     "text": [
      "100%|█████████████████████████████████████████| 14/14 [00:00<00:00, 1213.91it/s]\n",
      "100%|█████████████████████████████████████████| 14/14 [00:00<00:00, 2619.80it/s]\n"
     ]
    },
    {
     "name": "stdout",
     "output_type": "stream",
     "text": [
      "Z plane: 11\n"
     ]
    },
    {
     "name": "stderr",
     "output_type": "stream",
     "text": [
      "100%|█████████████████████████████████████████| 16/16 [00:00<00:00, 1379.45it/s]\n",
      "100%|█████████████████████████████████████████| 16/16 [00:00<00:00, 2693.62it/s]\n"
     ]
    },
    {
     "name": "stdout",
     "output_type": "stream",
     "text": [
      "Z plane: 12\n"
     ]
    },
    {
     "name": "stderr",
     "output_type": "stream",
     "text": [
      "100%|█████████████████████████████████████████| 16/16 [00:00<00:00, 1774.01it/s]\n",
      "100%|█████████████████████████████████████████| 16/16 [00:00<00:00, 2426.12it/s]\n"
     ]
    },
    {
     "name": "stdout",
     "output_type": "stream",
     "text": [
      "Z plane: 13\n"
     ]
    },
    {
     "name": "stderr",
     "output_type": "stream",
     "text": [
      "100%|█████████████████████████████████████████| 17/17 [00:00<00:00, 2578.87it/s]\n",
      "100%|█████████████████████████████████████████| 17/17 [00:00<00:00, 2467.41it/s]\n"
     ]
    },
    {
     "name": "stdout",
     "output_type": "stream",
     "text": [
      "Z plane: 14\n"
     ]
    },
    {
     "name": "stderr",
     "output_type": "stream",
     "text": [
      "100%|█████████████████████████████████████████| 18/18 [00:00<00:00, 1825.15it/s]\n",
      "100%|█████████████████████████████████████████| 18/18 [00:00<00:00, 3850.14it/s]\n"
     ]
    },
    {
     "name": "stdout",
     "output_type": "stream",
     "text": [
      "Z plane: 15\n"
     ]
    },
    {
     "name": "stderr",
     "output_type": "stream",
     "text": [
      "100%|█████████████████████████████████████████| 21/21 [00:00<00:00, 2097.50it/s]\n",
      "100%|█████████████████████████████████████████| 21/21 [00:00<00:00, 3169.27it/s]\n"
     ]
    },
    {
     "name": "stdout",
     "output_type": "stream",
     "text": [
      "Z plane: 16\n"
     ]
    },
    {
     "name": "stderr",
     "output_type": "stream",
     "text": [
      "100%|█████████████████████████████████████████| 29/29 [00:00<00:00, 2327.81it/s]\n",
      "100%|█████████████████████████████████████████| 26/26 [00:00<00:00, 4199.80it/s]\n"
     ]
    },
    {
     "name": "stdout",
     "output_type": "stream",
     "text": [
      "Z plane: 17\n"
     ]
    },
    {
     "name": "stderr",
     "output_type": "stream",
     "text": [
      "100%|█████████████████████████████████████████| 29/29 [00:00<00:00, 3329.45it/s]\n",
      "100%|█████████████████████████████████████████| 29/29 [00:00<00:00, 3947.77it/s]\n"
     ]
    },
    {
     "name": "stdout",
     "output_type": "stream",
     "text": [
      "Z plane: 18\n"
     ]
    },
    {
     "name": "stderr",
     "output_type": "stream",
     "text": [
      "100%|█████████████████████████████████████████| 33/33 [00:00<00:00, 3163.99it/s]\n",
      "100%|█████████████████████████████████████████| 33/33 [00:00<00:00, 5090.92it/s]\n"
     ]
    },
    {
     "name": "stdout",
     "output_type": "stream",
     "text": [
      "Z plane: 19\n"
     ]
    },
    {
     "name": "stderr",
     "output_type": "stream",
     "text": [
      "100%|█████████████████████████████████████████| 33/33 [00:00<00:00, 2743.82it/s]\n",
      "100%|█████████████████████████████████████████| 32/32 [00:00<00:00, 5706.29it/s]\n"
     ]
    },
    {
     "name": "stdout",
     "output_type": "stream",
     "text": [
      "Z plane: 20\n"
     ]
    },
    {
     "name": "stderr",
     "output_type": "stream",
     "text": [
      "100%|█████████████████████████████████████████| 34/34 [00:00<00:00, 2437.13it/s]\n",
      "100%|█████████████████████████████████████████| 34/34 [00:00<00:00, 5268.06it/s]\n"
     ]
    },
    {
     "name": "stdout",
     "output_type": "stream",
     "text": [
      "Z plane: 21\n"
     ]
    },
    {
     "name": "stderr",
     "output_type": "stream",
     "text": [
      "100%|█████████████████████████████████████████| 36/36 [00:00<00:00, 2719.80it/s]\n",
      "100%|█████████████████████████████████████████| 36/36 [00:00<00:00, 6041.25it/s]\n"
     ]
    },
    {
     "name": "stdout",
     "output_type": "stream",
     "text": [
      "Z plane: 22\n"
     ]
    },
    {
     "name": "stderr",
     "output_type": "stream",
     "text": [
      "100%|█████████████████████████████████████████| 36/36 [00:00<00:00, 3672.68it/s]\n",
      "100%|█████████████████████████████████████████| 33/33 [00:00<00:00, 5035.73it/s]\n"
     ]
    },
    {
     "name": "stdout",
     "output_type": "stream",
     "text": [
      "Z plane: 23\n"
     ]
    },
    {
     "name": "stderr",
     "output_type": "stream",
     "text": [
      "100%|█████████████████████████████████████████| 33/33 [00:00<00:00, 3640.41it/s]\n",
      "100%|█████████████████████████████████████████| 33/33 [00:00<00:00, 5036.83it/s]\n"
     ]
    },
    {
     "name": "stdout",
     "output_type": "stream",
     "text": [
      "Z plane: 24\n"
     ]
    },
    {
     "name": "stderr",
     "output_type": "stream",
     "text": [
      "100%|█████████████████████████████████████████| 32/32 [00:00<00:00, 2933.66it/s]\n",
      "100%|█████████████████████████████████████████| 32/32 [00:00<00:00, 4855.05it/s]\n"
     ]
    },
    {
     "name": "stdout",
     "output_type": "stream",
     "text": [
      "Z plane: 25\n"
     ]
    },
    {
     "name": "stderr",
     "output_type": "stream",
     "text": [
      "100%|█████████████████████████████████████████| 32/32 [00:00<00:00, 4943.56it/s]\n",
      "100%|█████████████████████████████████████████| 31/31 [00:00<00:00, 7582.87it/s]\n"
     ]
    },
    {
     "name": "stdout",
     "output_type": "stream",
     "text": [
      "Z plane: 26\n"
     ]
    },
    {
     "name": "stderr",
     "output_type": "stream",
     "text": [
      "100%|█████████████████████████████████████████| 30/30 [00:00<00:00, 2729.72it/s]\n",
      "100%|█████████████████████████████████████████| 30/30 [00:00<00:00, 4342.23it/s]\n"
     ]
    },
    {
     "name": "stdout",
     "output_type": "stream",
     "text": [
      "Z plane: 27\n"
     ]
    },
    {
     "name": "stderr",
     "output_type": "stream",
     "text": [
      "100%|█████████████████████████████████████████| 28/28 [00:00<00:00, 2718.09it/s]\n",
      "100%|█████████████████████████████████████████| 28/28 [00:00<00:00, 4274.29it/s]\n"
     ]
    },
    {
     "name": "stdout",
     "output_type": "stream",
     "text": [
      "Z plane: 28\n"
     ]
    },
    {
     "name": "stderr",
     "output_type": "stream",
     "text": [
      "100%|█████████████████████████████████████████| 20/20 [00:00<00:00, 2134.45it/s]\n",
      "100%|█████████████████████████████████████████| 20/20 [00:00<00:00, 3324.46it/s]\n"
     ]
    },
    {
     "name": "stdout",
     "output_type": "stream",
     "text": [
      "Z plane: 29\n"
     ]
    },
    {
     "name": "stderr",
     "output_type": "stream",
     "text": [
      "100%|█████████████████████████████████████████| 17/17 [00:00<00:00, 1695.27it/s]\n",
      "100%|█████████████████████████████████████████| 17/17 [00:00<00:00, 3257.94it/s]\n"
     ]
    },
    {
     "name": "stdout",
     "output_type": "stream",
     "text": [
      "Z plane: 30\n"
     ]
    },
    {
     "name": "stderr",
     "output_type": "stream",
     "text": [
      "100%|█████████████████████████████████████████| 18/18 [00:00<00:00, 2219.01it/s]\n",
      "100%|█████████████████████████████████████████| 17/17 [00:00<00:00, 2715.69it/s]\n"
     ]
    },
    {
     "name": "stdout",
     "output_type": "stream",
     "text": [
      "Z plane: 31\n"
     ]
    },
    {
     "name": "stderr",
     "output_type": "stream",
     "text": [
      "100%|█████████████████████████████████████████| 15/15 [00:00<00:00, 2292.47it/s]\n",
      "100%|█████████████████████████████████████████| 15/15 [00:00<00:00, 3084.50it/s]\n"
     ]
    },
    {
     "name": "stdout",
     "output_type": "stream",
     "text": [
      "Time point: 22\n",
      "Z plane: 0\n"
     ]
    },
    {
     "name": "stderr",
     "output_type": "stream",
     "text": [
      "100%|███████████████████████████████████████████| 4/4 [00:00<00:00, 4277.72it/s]\n",
      "100%|███████████████████████████████████████████| 4/4 [00:00<00:00, 1536.66it/s]\n"
     ]
    },
    {
     "name": "stdout",
     "output_type": "stream",
     "text": [
      "Z plane: 1\n"
     ]
    },
    {
     "name": "stderr",
     "output_type": "stream",
     "text": [
      "100%|███████████████████████████████████████████| 4/4 [00:00<00:00, 2095.32it/s]\n",
      "100%|███████████████████████████████████████████| 4/4 [00:00<00:00, 1506.03it/s]\n"
     ]
    },
    {
     "name": "stdout",
     "output_type": "stream",
     "text": [
      "Z plane: 2\n"
     ]
    },
    {
     "name": "stderr",
     "output_type": "stream",
     "text": [
      "100%|███████████████████████████████████████████| 4/4 [00:00<00:00, 1430.04it/s]\n",
      "100%|████████████████████████████████████████████| 4/4 [00:00<00:00, 933.05it/s]\n"
     ]
    },
    {
     "name": "stdout",
     "output_type": "stream",
     "text": [
      "Z plane: 3\n"
     ]
    },
    {
     "name": "stderr",
     "output_type": "stream",
     "text": [
      "100%|███████████████████████████████████████████| 4/4 [00:00<00:00, 1242.66it/s]\n",
      "100%|███████████████████████████████████████████| 4/4 [00:00<00:00, 1198.72it/s]\n"
     ]
    },
    {
     "name": "stdout",
     "output_type": "stream",
     "text": [
      "Z plane: 4\n"
     ]
    },
    {
     "name": "stderr",
     "output_type": "stream",
     "text": [
      "100%|███████████████████████████████████████████| 6/6 [00:00<00:00, 1265.31it/s]\n",
      "100%|███████████████████████████████████████████| 6/6 [00:00<00:00, 1703.16it/s]\n"
     ]
    },
    {
     "name": "stdout",
     "output_type": "stream",
     "text": [
      "Z plane: 5\n"
     ]
    },
    {
     "name": "stderr",
     "output_type": "stream",
     "text": [
      "100%|███████████████████████████████████████████| 8/8 [00:00<00:00, 1218.04it/s]\n",
      "100%|███████████████████████████████████████████| 8/8 [00:00<00:00, 1956.41it/s]\n"
     ]
    },
    {
     "name": "stdout",
     "output_type": "stream",
     "text": [
      "Z plane: 6\n"
     ]
    },
    {
     "name": "stderr",
     "output_type": "stream",
     "text": [
      "100%|███████████████████████████████████████████| 9/9 [00:00<00:00, 1303.39it/s]\n",
      "100%|███████████████████████████████████████████| 9/9 [00:00<00:00, 2806.39it/s]\n"
     ]
    },
    {
     "name": "stdout",
     "output_type": "stream",
     "text": [
      "Z plane: 7\n"
     ]
    },
    {
     "name": "stderr",
     "output_type": "stream",
     "text": [
      "100%|█████████████████████████████████████████| 13/13 [00:00<00:00, 2026.23it/s]\n",
      "100%|█████████████████████████████████████████| 13/13 [00:00<00:00, 2410.41it/s]\n"
     ]
    },
    {
     "name": "stdout",
     "output_type": "stream",
     "text": [
      "Z plane: 8\n"
     ]
    },
    {
     "name": "stderr",
     "output_type": "stream",
     "text": [
      "100%|█████████████████████████████████████████| 13/13 [00:00<00:00, 1638.45it/s]\n",
      "100%|█████████████████████████████████████████| 13/13 [00:00<00:00, 2637.93it/s]\n"
     ]
    },
    {
     "name": "stdout",
     "output_type": "stream",
     "text": [
      "Z plane: 9\n"
     ]
    },
    {
     "name": "stderr",
     "output_type": "stream",
     "text": [
      "100%|█████████████████████████████████████████| 13/13 [00:00<00:00, 1343.80it/s]\n",
      "100%|█████████████████████████████████████████| 13/13 [00:00<00:00, 2062.88it/s]\n"
     ]
    },
    {
     "name": "stdout",
     "output_type": "stream",
     "text": [
      "Z plane: 10\n"
     ]
    },
    {
     "name": "stderr",
     "output_type": "stream",
     "text": [
      "100%|█████████████████████████████████████████| 17/17 [00:00<00:00, 2244.21it/s]\n",
      "100%|█████████████████████████████████████████| 17/17 [00:00<00:00, 3374.98it/s]\n"
     ]
    },
    {
     "name": "stdout",
     "output_type": "stream",
     "text": [
      "Z plane: 11\n"
     ]
    },
    {
     "name": "stderr",
     "output_type": "stream",
     "text": [
      "100%|█████████████████████████████████████████| 16/16 [00:00<00:00, 1493.66it/s]\n",
      "100%|█████████████████████████████████████████| 16/16 [00:00<00:00, 2318.18it/s]\n"
     ]
    },
    {
     "name": "stdout",
     "output_type": "stream",
     "text": [
      "Z plane: 12\n"
     ]
    },
    {
     "name": "stderr",
     "output_type": "stream",
     "text": [
      "100%|█████████████████████████████████████████| 16/16 [00:00<00:00, 1482.58it/s]\n",
      "100%|█████████████████████████████████████████| 16/16 [00:00<00:00, 2091.47it/s]\n"
     ]
    },
    {
     "name": "stdout",
     "output_type": "stream",
     "text": [
      "Z plane: 13\n"
     ]
    },
    {
     "name": "stderr",
     "output_type": "stream",
     "text": [
      "100%|█████████████████████████████████████████| 18/18 [00:00<00:00, 1627.35it/s]\n",
      "100%|█████████████████████████████████████████| 18/18 [00:00<00:00, 4085.36it/s]\n"
     ]
    },
    {
     "name": "stdout",
     "output_type": "stream",
     "text": [
      "Z plane: 14\n"
     ]
    },
    {
     "name": "stderr",
     "output_type": "stream",
     "text": [
      "100%|█████████████████████████████████████████| 18/18 [00:00<00:00, 1631.28it/s]\n",
      "100%|█████████████████████████████████████████| 18/18 [00:00<00:00, 2830.16it/s]\n"
     ]
    },
    {
     "name": "stdout",
     "output_type": "stream",
     "text": [
      "Z plane: 15\n"
     ]
    },
    {
     "name": "stderr",
     "output_type": "stream",
     "text": [
      "100%|█████████████████████████████████████████| 22/22 [00:00<00:00, 3451.59it/s]\n",
      "100%|█████████████████████████████████████████| 21/21 [00:00<00:00, 2313.04it/s]\n"
     ]
    },
    {
     "name": "stdout",
     "output_type": "stream",
     "text": [
      "Z plane: 16\n"
     ]
    },
    {
     "name": "stderr",
     "output_type": "stream",
     "text": [
      "100%|█████████████████████████████████████████| 27/27 [00:00<00:00, 2724.82it/s]\n",
      "100%|█████████████████████████████████████████| 27/27 [00:00<00:00, 4229.39it/s]\n"
     ]
    },
    {
     "name": "stdout",
     "output_type": "stream",
     "text": [
      "Z plane: 17\n"
     ]
    },
    {
     "name": "stderr",
     "output_type": "stream",
     "text": [
      "100%|█████████████████████████████████████████| 29/29 [00:00<00:00, 2252.25it/s]\n",
      "100%|█████████████████████████████████████████| 29/29 [00:00<00:00, 4078.69it/s]\n"
     ]
    },
    {
     "name": "stdout",
     "output_type": "stream",
     "text": [
      "Z plane: 18\n"
     ]
    },
    {
     "name": "stderr",
     "output_type": "stream",
     "text": [
      "100%|█████████████████████████████████████████| 30/30 [00:00<00:00, 2330.82it/s]\n",
      "100%|█████████████████████████████████████████| 30/30 [00:00<00:00, 3841.64it/s]\n"
     ]
    },
    {
     "name": "stdout",
     "output_type": "stream",
     "text": [
      "Z plane: 19\n"
     ]
    },
    {
     "name": "stderr",
     "output_type": "stream",
     "text": [
      "100%|█████████████████████████████████████████| 32/32 [00:00<00:00, 3339.33it/s]\n",
      "100%|█████████████████████████████████████████| 32/32 [00:00<00:00, 4910.28it/s]\n"
     ]
    },
    {
     "name": "stdout",
     "output_type": "stream",
     "text": [
      "Z plane: 20\n"
     ]
    },
    {
     "name": "stderr",
     "output_type": "stream",
     "text": [
      "100%|█████████████████████████████████████████| 34/34 [00:00<00:00, 2988.71it/s]\n",
      "100%|█████████████████████████████████████████| 34/34 [00:00<00:00, 4538.71it/s]\n"
     ]
    },
    {
     "name": "stdout",
     "output_type": "stream",
     "text": [
      "Z plane: 21\n"
     ]
    },
    {
     "name": "stderr",
     "output_type": "stream",
     "text": [
      "100%|█████████████████████████████████████████| 36/36 [00:00<00:00, 3616.21it/s]\n",
      "100%|█████████████████████████████████████████| 34/34 [00:00<00:00, 4800.11it/s]\n"
     ]
    },
    {
     "name": "stdout",
     "output_type": "stream",
     "text": [
      "Z plane: 22\n"
     ]
    },
    {
     "name": "stderr",
     "output_type": "stream",
     "text": [
      "100%|█████████████████████████████████████████| 35/35 [00:00<00:00, 5036.04it/s]\n",
      "100%|█████████████████████████████████████████| 34/34 [00:00<00:00, 7222.04it/s]\n"
     ]
    },
    {
     "name": "stdout",
     "output_type": "stream",
     "text": [
      "Z plane: 23\n"
     ]
    },
    {
     "name": "stderr",
     "output_type": "stream",
     "text": [
      "100%|█████████████████████████████████████████| 34/34 [00:00<00:00, 3170.23it/s]\n",
      "100%|█████████████████████████████████████████| 34/34 [00:00<00:00, 6758.27it/s]\n"
     ]
    },
    {
     "name": "stdout",
     "output_type": "stream",
     "text": [
      "Z plane: 24\n"
     ]
    },
    {
     "name": "stderr",
     "output_type": "stream",
     "text": [
      "100%|█████████████████████████████████████████| 30/30 [00:00<00:00, 3003.08it/s]\n",
      "100%|█████████████████████████████████████████| 29/29 [00:00<00:00, 4275.99it/s]\n"
     ]
    },
    {
     "name": "stdout",
     "output_type": "stream",
     "text": [
      "Z plane: 25\n"
     ]
    },
    {
     "name": "stderr",
     "output_type": "stream",
     "text": [
      "100%|█████████████████████████████████████████| 31/31 [00:00<00:00, 2217.28it/s]\n",
      "100%|█████████████████████████████████████████| 31/31 [00:00<00:00, 4818.89it/s]\n"
     ]
    },
    {
     "name": "stdout",
     "output_type": "stream",
     "text": [
      "Z plane: 26\n"
     ]
    },
    {
     "name": "stderr",
     "output_type": "stream",
     "text": [
      "100%|█████████████████████████████████████████| 29/29 [00:00<00:00, 2662.47it/s]\n",
      "100%|█████████████████████████████████████████| 29/29 [00:00<00:00, 5458.39it/s]\n"
     ]
    },
    {
     "name": "stdout",
     "output_type": "stream",
     "text": [
      "Z plane: 27\n"
     ]
    },
    {
     "name": "stderr",
     "output_type": "stream",
     "text": [
      "100%|█████████████████████████████████████████| 26/26 [00:00<00:00, 2137.98it/s]\n",
      "100%|█████████████████████████████████████████| 26/26 [00:00<00:00, 4715.15it/s]\n"
     ]
    },
    {
     "name": "stdout",
     "output_type": "stream",
     "text": [
      "Z plane: 28\n"
     ]
    },
    {
     "name": "stderr",
     "output_type": "stream",
     "text": [
      "100%|█████████████████████████████████████████| 20/20 [00:00<00:00, 1957.90it/s]\n",
      "100%|█████████████████████████████████████████| 20/20 [00:00<00:00, 3284.11it/s]\n"
     ]
    },
    {
     "name": "stdout",
     "output_type": "stream",
     "text": [
      "Z plane: 29\n"
     ]
    },
    {
     "name": "stderr",
     "output_type": "stream",
     "text": [
      "100%|█████████████████████████████████████████| 17/17 [00:00<00:00, 1736.98it/s]\n",
      "100%|█████████████████████████████████████████| 17/17 [00:00<00:00, 2316.62it/s]\n"
     ]
    },
    {
     "name": "stdout",
     "output_type": "stream",
     "text": [
      "Z plane: 30\n"
     ]
    },
    {
     "name": "stderr",
     "output_type": "stream",
     "text": [
      "100%|█████████████████████████████████████████| 17/17 [00:00<00:00, 2038.86it/s]\n",
      "100%|█████████████████████████████████████████| 17/17 [00:00<00:00, 2903.11it/s]\n"
     ]
    },
    {
     "name": "stdout",
     "output_type": "stream",
     "text": [
      "Z plane: 31\n"
     ]
    },
    {
     "name": "stderr",
     "output_type": "stream",
     "text": [
      "100%|█████████████████████████████████████████| 15/15 [00:00<00:00, 2293.89it/s]\n",
      "100%|█████████████████████████████████████████| 15/15 [00:00<00:00, 2887.45it/s]\n"
     ]
    },
    {
     "name": "stdout",
     "output_type": "stream",
     "text": [
      "Time point: 23\n",
      "Z plane: 0\n"
     ]
    },
    {
     "name": "stderr",
     "output_type": "stream",
     "text": [
      "100%|████████████████████████████████████████████| 3/3 [00:00<00:00, 971.58it/s]\n",
      "100%|████████████████████████████████████████████| 3/3 [00:00<00:00, 747.25it/s]\n"
     ]
    },
    {
     "name": "stdout",
     "output_type": "stream",
     "text": [
      "Z plane: 1\n"
     ]
    },
    {
     "name": "stderr",
     "output_type": "stream",
     "text": [
      "100%|███████████████████████████████████████████| 3/3 [00:00<00:00, 1142.45it/s]\n",
      "100%|████████████████████████████████████████████| 3/3 [00:00<00:00, 911.28it/s]\n"
     ]
    },
    {
     "name": "stdout",
     "output_type": "stream",
     "text": [
      "Z plane: 2\n"
     ]
    },
    {
     "name": "stderr",
     "output_type": "stream",
     "text": [
      "100%|███████████████████████████████████████████| 3/3 [00:00<00:00, 1417.63it/s]\n",
      "100%|███████████████████████████████████████████| 3/3 [00:00<00:00, 1002.06it/s]\n"
     ]
    },
    {
     "name": "stdout",
     "output_type": "stream",
     "text": [
      "Z plane: 3\n"
     ]
    },
    {
     "name": "stderr",
     "output_type": "stream",
     "text": [
      "100%|███████████████████████████████████████████| 4/4 [00:00<00:00, 1384.60it/s]\n",
      "100%|████████████████████████████████████████████| 4/4 [00:00<00:00, 993.03it/s]\n"
     ]
    },
    {
     "name": "stdout",
     "output_type": "stream",
     "text": [
      "Z plane: 4\n"
     ]
    },
    {
     "name": "stderr",
     "output_type": "stream",
     "text": [
      "100%|███████████████████████████████████████████| 6/6 [00:00<00:00, 1083.24it/s]\n",
      "100%|███████████████████████████████████████████| 6/6 [00:00<00:00, 1142.14it/s]\n"
     ]
    },
    {
     "name": "stdout",
     "output_type": "stream",
     "text": [
      "Z plane: 5\n"
     ]
    },
    {
     "name": "stderr",
     "output_type": "stream",
     "text": [
      "100%|███████████████████████████████████████████| 8/8 [00:00<00:00, 1882.01it/s]\n",
      "100%|███████████████████████████████████████████| 8/8 [00:00<00:00, 2454.07it/s]\n"
     ]
    },
    {
     "name": "stdout",
     "output_type": "stream",
     "text": [
      "Z plane: 6\n"
     ]
    },
    {
     "name": "stderr",
     "output_type": "stream",
     "text": [
      "100%|███████████████████████████████████████████| 9/9 [00:00<00:00, 1231.24it/s]\n",
      "100%|███████████████████████████████████████████| 9/9 [00:00<00:00, 1552.55it/s]\n"
     ]
    },
    {
     "name": "stdout",
     "output_type": "stream",
     "text": [
      "Z plane: 7\n"
     ]
    },
    {
     "name": "stderr",
     "output_type": "stream",
     "text": [
      "100%|█████████████████████████████████████████| 11/11 [00:00<00:00, 1649.18it/s]\n",
      "100%|█████████████████████████████████████████| 11/11 [00:00<00:00, 3086.52it/s]\n"
     ]
    },
    {
     "name": "stdout",
     "output_type": "stream",
     "text": [
      "Z plane: 8\n"
     ]
    },
    {
     "name": "stderr",
     "output_type": "stream",
     "text": [
      "100%|█████████████████████████████████████████| 12/12 [00:00<00:00, 1716.28it/s]\n",
      "100%|█████████████████████████████████████████| 12/12 [00:00<00:00, 1571.49it/s]\n"
     ]
    },
    {
     "name": "stdout",
     "output_type": "stream",
     "text": [
      "Z plane: 9\n"
     ]
    },
    {
     "name": "stderr",
     "output_type": "stream",
     "text": [
      "100%|█████████████████████████████████████████| 13/13 [00:00<00:00, 1437.09it/s]\n",
      "100%|█████████████████████████████████████████| 13/13 [00:00<00:00, 2325.10it/s]\n"
     ]
    },
    {
     "name": "stdout",
     "output_type": "stream",
     "text": [
      "Z plane: 10\n"
     ]
    },
    {
     "name": "stderr",
     "output_type": "stream",
     "text": [
      "100%|█████████████████████████████████████████| 16/16 [00:00<00:00, 1356.61it/s]\n",
      "100%|█████████████████████████████████████████| 16/16 [00:00<00:00, 2122.35it/s]\n"
     ]
    },
    {
     "name": "stdout",
     "output_type": "stream",
     "text": [
      "Z plane: 11\n"
     ]
    },
    {
     "name": "stderr",
     "output_type": "stream",
     "text": [
      "100%|█████████████████████████████████████████| 16/16 [00:00<00:00, 1583.69it/s]\n",
      "100%|█████████████████████████████████████████| 16/16 [00:00<00:00, 1606.55it/s]\n"
     ]
    },
    {
     "name": "stdout",
     "output_type": "stream",
     "text": [
      "Z plane: 12\n"
     ]
    },
    {
     "name": "stderr",
     "output_type": "stream",
     "text": [
      "100%|█████████████████████████████████████████| 18/18 [00:00<00:00, 1875.57it/s]\n",
      "100%|█████████████████████████████████████████| 18/18 [00:00<00:00, 2390.75it/s]\n"
     ]
    },
    {
     "name": "stdout",
     "output_type": "stream",
     "text": [
      "Z plane: 13\n"
     ]
    },
    {
     "name": "stderr",
     "output_type": "stream",
     "text": [
      "100%|█████████████████████████████████████████| 17/17 [00:00<00:00, 1833.88it/s]\n",
      "100%|█████████████████████████████████████████| 17/17 [00:00<00:00, 2530.55it/s]\n"
     ]
    },
    {
     "name": "stdout",
     "output_type": "stream",
     "text": [
      "Z plane: 14\n"
     ]
    },
    {
     "name": "stderr",
     "output_type": "stream",
     "text": [
      "100%|█████████████████████████████████████████| 20/20 [00:00<00:00, 2220.32it/s]\n",
      "100%|█████████████████████████████████████████| 19/19 [00:00<00:00, 3885.51it/s]\n"
     ]
    },
    {
     "name": "stdout",
     "output_type": "stream",
     "text": [
      "Z plane: 15\n"
     ]
    },
    {
     "name": "stderr",
     "output_type": "stream",
     "text": [
      "100%|█████████████████████████████████████████| 26/26 [00:00<00:00, 5024.04it/s]\n",
      "100%|█████████████████████████████████████████| 26/26 [00:00<00:00, 8491.16it/s]\n"
     ]
    },
    {
     "name": "stdout",
     "output_type": "stream",
     "text": [
      "Z plane: 16\n"
     ]
    },
    {
     "name": "stderr",
     "output_type": "stream",
     "text": [
      "100%|█████████████████████████████████████████| 27/27 [00:00<00:00, 2188.71it/s]\n",
      "100%|█████████████████████████████████████████| 27/27 [00:00<00:00, 4555.54it/s]\n"
     ]
    },
    {
     "name": "stdout",
     "output_type": "stream",
     "text": [
      "Z plane: 17\n"
     ]
    },
    {
     "name": "stderr",
     "output_type": "stream",
     "text": [
      "100%|█████████████████████████████████████████| 28/28 [00:00<00:00, 2477.44it/s]\n",
      "100%|█████████████████████████████████████████| 28/28 [00:00<00:00, 4461.35it/s]\n"
     ]
    },
    {
     "name": "stdout",
     "output_type": "stream",
     "text": [
      "Z plane: 18\n"
     ]
    },
    {
     "name": "stderr",
     "output_type": "stream",
     "text": [
      "100%|█████████████████████████████████████████| 31/31 [00:00<00:00, 2758.94it/s]\n",
      "100%|█████████████████████████████████████████| 31/31 [00:00<00:00, 4167.28it/s]\n"
     ]
    },
    {
     "name": "stdout",
     "output_type": "stream",
     "text": [
      "Z plane: 19\n"
     ]
    },
    {
     "name": "stderr",
     "output_type": "stream",
     "text": [
      "100%|█████████████████████████████████████████| 32/32 [00:00<00:00, 2365.99it/s]\n",
      "100%|█████████████████████████████████████████| 32/32 [00:00<00:00, 4798.29it/s]\n"
     ]
    },
    {
     "name": "stdout",
     "output_type": "stream",
     "text": [
      "Z plane: 20\n"
     ]
    },
    {
     "name": "stderr",
     "output_type": "stream",
     "text": [
      "100%|█████████████████████████████████████████| 32/32 [00:00<00:00, 2784.02it/s]\n",
      "100%|█████████████████████████████████████████| 32/32 [00:00<00:00, 5990.26it/s]\n"
     ]
    },
    {
     "name": "stdout",
     "output_type": "stream",
     "text": [
      "Z plane: 21\n"
     ]
    },
    {
     "name": "stderr",
     "output_type": "stream",
     "text": [
      "100%|█████████████████████████████████████████| 29/29 [00:00<00:00, 3217.51it/s]\n",
      "100%|█████████████████████████████████████████| 29/29 [00:00<00:00, 5048.55it/s]\n"
     ]
    },
    {
     "name": "stdout",
     "output_type": "stream",
     "text": [
      "Z plane: 22\n"
     ]
    },
    {
     "name": "stderr",
     "output_type": "stream",
     "text": [
      "100%|█████████████████████████████████████████| 34/34 [00:00<00:00, 3015.51it/s]\n",
      "100%|█████████████████████████████████████████| 34/34 [00:00<00:00, 5083.82it/s]\n"
     ]
    },
    {
     "name": "stdout",
     "output_type": "stream",
     "text": [
      "Z plane: 23\n"
     ]
    },
    {
     "name": "stderr",
     "output_type": "stream",
     "text": [
      "100%|█████████████████████████████████████████| 31/31 [00:00<00:00, 2477.63it/s]\n",
      "100%|█████████████████████████████████████████| 31/31 [00:00<00:00, 5412.01it/s]\n"
     ]
    },
    {
     "name": "stdout",
     "output_type": "stream",
     "text": [
      "Z plane: 24\n"
     ]
    },
    {
     "name": "stderr",
     "output_type": "stream",
     "text": [
      "100%|█████████████████████████████████████████| 30/30 [00:00<00:00, 2535.70it/s]\n",
      "100%|█████████████████████████████████████████| 30/30 [00:00<00:00, 4732.73it/s]\n"
     ]
    },
    {
     "name": "stdout",
     "output_type": "stream",
     "text": [
      "Z plane: 25\n"
     ]
    },
    {
     "name": "stderr",
     "output_type": "stream",
     "text": [
      "100%|█████████████████████████████████████████| 27/27 [00:00<00:00, 3074.08it/s]\n",
      "100%|█████████████████████████████████████████| 27/27 [00:00<00:00, 3960.90it/s]\n"
     ]
    },
    {
     "name": "stdout",
     "output_type": "stream",
     "text": [
      "Z plane: 26\n"
     ]
    },
    {
     "name": "stderr",
     "output_type": "stream",
     "text": [
      "100%|█████████████████████████████████████████| 27/27 [00:00<00:00, 2039.63it/s]\n",
      "100%|█████████████████████████████████████████| 27/27 [00:00<00:00, 4476.31it/s]\n"
     ]
    },
    {
     "name": "stdout",
     "output_type": "stream",
     "text": [
      "Z plane: 27\n"
     ]
    },
    {
     "name": "stderr",
     "output_type": "stream",
     "text": [
      "100%|█████████████████████████████████████████| 23/23 [00:00<00:00, 1925.61it/s]\n",
      "100%|█████████████████████████████████████████| 23/23 [00:00<00:00, 3682.16it/s]\n"
     ]
    },
    {
     "name": "stdout",
     "output_type": "stream",
     "text": [
      "Z plane: 28\n"
     ]
    },
    {
     "name": "stderr",
     "output_type": "stream",
     "text": [
      "100%|█████████████████████████████████████████| 20/20 [00:00<00:00, 2305.01it/s]\n",
      "100%|█████████████████████████████████████████| 20/20 [00:00<00:00, 2653.28it/s]\n"
     ]
    },
    {
     "name": "stdout",
     "output_type": "stream",
     "text": [
      "Z plane: 29\n"
     ]
    },
    {
     "name": "stderr",
     "output_type": "stream",
     "text": [
      "100%|█████████████████████████████████████████| 17/17 [00:00<00:00, 1541.16it/s]\n",
      "100%|█████████████████████████████████████████| 17/17 [00:00<00:00, 3977.64it/s]\n"
     ]
    },
    {
     "name": "stdout",
     "output_type": "stream",
     "text": [
      "Z plane: 30\n"
     ]
    },
    {
     "name": "stderr",
     "output_type": "stream",
     "text": [
      "100%|█████████████████████████████████████████| 18/18 [00:00<00:00, 2346.83it/s]\n",
      "100%|█████████████████████████████████████████| 18/18 [00:00<00:00, 5923.23it/s]\n"
     ]
    },
    {
     "name": "stdout",
     "output_type": "stream",
     "text": [
      "Z plane: 31\n"
     ]
    },
    {
     "name": "stderr",
     "output_type": "stream",
     "text": [
      "100%|█████████████████████████████████████████| 17/17 [00:00<00:00, 1839.61it/s]\n",
      "100%|█████████████████████████████████████████| 17/17 [00:00<00:00, 3134.76it/s]\n"
     ]
    },
    {
     "name": "stdout",
     "output_type": "stream",
     "text": [
      "Time point: 24\n",
      "Z plane: 0\n"
     ]
    },
    {
     "name": "stderr",
     "output_type": "stream",
     "text": [
      "100%|███████████████████████████████████████████| 2/2 [00:00<00:00, 1579.48it/s]\n",
      "100%|████████████████████████████████████████████| 2/2 [00:00<00:00, 588.80it/s]\n"
     ]
    },
    {
     "name": "stdout",
     "output_type": "stream",
     "text": [
      "Z plane: 1\n"
     ]
    },
    {
     "name": "stderr",
     "output_type": "stream",
     "text": [
      "100%|████████████████████████████████████████████| 2/2 [00:00<00:00, 774.86it/s]\n",
      "100%|████████████████████████████████████████████| 2/2 [00:00<00:00, 663.97it/s]\n"
     ]
    },
    {
     "name": "stdout",
     "output_type": "stream",
     "text": [
      "Z plane: 2\n"
     ]
    },
    {
     "name": "stderr",
     "output_type": "stream",
     "text": [
      "100%|████████████████████████████████████████████| 2/2 [00:00<00:00, 753.56it/s]\n",
      "100%|███████████████████████████████████████████| 2/2 [00:00<00:00, 1126.14it/s]\n"
     ]
    },
    {
     "name": "stdout",
     "output_type": "stream",
     "text": [
      "Z plane: 3\n"
     ]
    },
    {
     "name": "stderr",
     "output_type": "stream",
     "text": [
      "100%|███████████████████████████████████████████| 3/3 [00:00<00:00, 1468.59it/s]\n",
      "100%|████████████████████████████████████████████| 3/3 [00:00<00:00, 840.32it/s]\n"
     ]
    },
    {
     "name": "stdout",
     "output_type": "stream",
     "text": [
      "Z plane: 4\n"
     ]
    },
    {
     "name": "stderr",
     "output_type": "stream",
     "text": [
      "100%|███████████████████████████████████████████| 5/5 [00:00<00:00, 1272.93it/s]\n",
      "100%|████████████████████████████████████████████| 5/5 [00:00<00:00, 921.62it/s]\n"
     ]
    },
    {
     "name": "stdout",
     "output_type": "stream",
     "text": [
      "Z plane: 5\n"
     ]
    },
    {
     "name": "stderr",
     "output_type": "stream",
     "text": [
      "100%|████████████████████████████████████████████| 7/7 [00:00<00:00, 873.50it/s]\n",
      "100%|███████████████████████████████████████████| 7/7 [00:00<00:00, 1324.02it/s]\n"
     ]
    },
    {
     "name": "stdout",
     "output_type": "stream",
     "text": [
      "Z plane: 6\n"
     ]
    },
    {
     "name": "stderr",
     "output_type": "stream",
     "text": [
      "100%|████████████████████████████████████████████| 7/7 [00:00<00:00, 818.81it/s]\n",
      "100%|███████████████████████████████████████████| 7/7 [00:00<00:00, 1410.46it/s]\n"
     ]
    },
    {
     "name": "stdout",
     "output_type": "stream",
     "text": [
      "Z plane: 7\n"
     ]
    },
    {
     "name": "stderr",
     "output_type": "stream",
     "text": [
      "100%|█████████████████████████████████████████| 10/10 [00:00<00:00, 1371.14it/s]\n",
      "100%|█████████████████████████████████████████| 10/10 [00:00<00:00, 2108.86it/s]\n"
     ]
    },
    {
     "name": "stdout",
     "output_type": "stream",
     "text": [
      "Z plane: 8\n"
     ]
    },
    {
     "name": "stderr",
     "output_type": "stream",
     "text": [
      "100%|█████████████████████████████████████████| 12/12 [00:00<00:00, 1471.51it/s]\n",
      "100%|█████████████████████████████████████████| 12/12 [00:00<00:00, 1494.19it/s]\n"
     ]
    },
    {
     "name": "stdout",
     "output_type": "stream",
     "text": [
      "Z plane: 9\n"
     ]
    },
    {
     "name": "stderr",
     "output_type": "stream",
     "text": [
      "100%|█████████████████████████████████████████| 12/12 [00:00<00:00, 1280.38it/s]\n",
      "100%|█████████████████████████████████████████| 12/12 [00:00<00:00, 2310.27it/s]\n"
     ]
    },
    {
     "name": "stdout",
     "output_type": "stream",
     "text": [
      "Z plane: 10\n"
     ]
    },
    {
     "name": "stderr",
     "output_type": "stream",
     "text": [
      "100%|█████████████████████████████████████████| 14/14 [00:00<00:00, 1399.00it/s]\n",
      "100%|█████████████████████████████████████████| 14/14 [00:00<00:00, 1913.40it/s]\n"
     ]
    },
    {
     "name": "stdout",
     "output_type": "stream",
     "text": [
      "Z plane: 11\n"
     ]
    },
    {
     "name": "stderr",
     "output_type": "stream",
     "text": [
      "100%|█████████████████████████████████████████| 17/17 [00:00<00:00, 1544.63it/s]\n",
      "100%|█████████████████████████████████████████| 17/17 [00:00<00:00, 1999.75it/s]\n"
     ]
    },
    {
     "name": "stdout",
     "output_type": "stream",
     "text": [
      "Z plane: 12\n"
     ]
    },
    {
     "name": "stderr",
     "output_type": "stream",
     "text": [
      "100%|█████████████████████████████████████████| 17/17 [00:00<00:00, 1485.89it/s]\n",
      "100%|█████████████████████████████████████████| 17/17 [00:00<00:00, 2486.08it/s]\n"
     ]
    },
    {
     "name": "stdout",
     "output_type": "stream",
     "text": [
      "Z plane: 13\n"
     ]
    },
    {
     "name": "stderr",
     "output_type": "stream",
     "text": [
      "100%|█████████████████████████████████████████| 16/16 [00:00<00:00, 1833.02it/s]\n",
      "100%|█████████████████████████████████████████| 16/16 [00:00<00:00, 1292.69it/s]\n"
     ]
    },
    {
     "name": "stdout",
     "output_type": "stream",
     "text": [
      "Z plane: 14\n"
     ]
    },
    {
     "name": "stderr",
     "output_type": "stream",
     "text": [
      "100%|█████████████████████████████████████████| 19/19 [00:00<00:00, 4229.70it/s]\n",
      "100%|█████████████████████████████████████████| 19/19 [00:00<00:00, 4154.72it/s]\n"
     ]
    },
    {
     "name": "stdout",
     "output_type": "stream",
     "text": [
      "Z plane: 15\n"
     ]
    },
    {
     "name": "stderr",
     "output_type": "stream",
     "text": [
      "100%|█████████████████████████████████████████| 23/23 [00:00<00:00, 2553.51it/s]\n",
      "100%|█████████████████████████████████████████| 22/22 [00:00<00:00, 3791.23it/s]\n"
     ]
    },
    {
     "name": "stdout",
     "output_type": "stream",
     "text": [
      "Z plane: 16\n"
     ]
    },
    {
     "name": "stderr",
     "output_type": "stream",
     "text": [
      "100%|█████████████████████████████████████████| 29/29 [00:00<00:00, 3544.76it/s]\n",
      "100%|█████████████████████████████████████████| 29/29 [00:00<00:00, 4535.57it/s]\n"
     ]
    },
    {
     "name": "stdout",
     "output_type": "stream",
     "text": [
      "Z plane: 17\n"
     ]
    },
    {
     "name": "stderr",
     "output_type": "stream",
     "text": [
      "100%|█████████████████████████████████████████| 26/26 [00:00<00:00, 3455.60it/s]\n",
      "100%|█████████████████████████████████████████| 26/26 [00:00<00:00, 5311.57it/s]\n"
     ]
    },
    {
     "name": "stdout",
     "output_type": "stream",
     "text": [
      "Z plane: 18\n"
     ]
    },
    {
     "name": "stderr",
     "output_type": "stream",
     "text": [
      "100%|█████████████████████████████████████████| 29/29 [00:00<00:00, 2337.20it/s]\n",
      "100%|█████████████████████████████████████████| 29/29 [00:00<00:00, 4239.33it/s]\n"
     ]
    },
    {
     "name": "stdout",
     "output_type": "stream",
     "text": [
      "Z plane: 19\n"
     ]
    },
    {
     "name": "stderr",
     "output_type": "stream",
     "text": [
      "100%|█████████████████████████████████████████| 33/33 [00:00<00:00, 2838.93it/s]\n",
      "100%|█████████████████████████████████████████| 33/33 [00:00<00:00, 5577.31it/s]\n"
     ]
    },
    {
     "name": "stdout",
     "output_type": "stream",
     "text": [
      "Z plane: 20\n"
     ]
    },
    {
     "name": "stderr",
     "output_type": "stream",
     "text": [
      "100%|█████████████████████████████████████████| 33/33 [00:00<00:00, 3233.10it/s]\n",
      "100%|█████████████████████████████████████████| 33/33 [00:00<00:00, 5386.94it/s]\n"
     ]
    },
    {
     "name": "stdout",
     "output_type": "stream",
     "text": [
      "Z plane: 21\n"
     ]
    },
    {
     "name": "stderr",
     "output_type": "stream",
     "text": [
      "100%|█████████████████████████████████████████| 34/34 [00:00<00:00, 2800.65it/s]\n",
      "100%|█████████████████████████████████████████| 34/34 [00:00<00:00, 6441.99it/s]\n"
     ]
    },
    {
     "name": "stdout",
     "output_type": "stream",
     "text": [
      "Z plane: 22\n"
     ]
    },
    {
     "name": "stderr",
     "output_type": "stream",
     "text": [
      "100%|█████████████████████████████████████████| 36/36 [00:00<00:00, 4625.36it/s]\n",
      "100%|█████████████████████████████████████████| 35/35 [00:00<00:00, 7283.95it/s]\n"
     ]
    },
    {
     "name": "stdout",
     "output_type": "stream",
     "text": [
      "Z plane: 23\n"
     ]
    },
    {
     "name": "stderr",
     "output_type": "stream",
     "text": [
      "100%|█████████████████████████████████████████| 33/33 [00:00<00:00, 3735.21it/s]\n",
      "100%|█████████████████████████████████████████| 33/33 [00:00<00:00, 7297.52it/s]\n"
     ]
    },
    {
     "name": "stdout",
     "output_type": "stream",
     "text": [
      "Z plane: 24\n"
     ]
    },
    {
     "name": "stderr",
     "output_type": "stream",
     "text": [
      "100%|█████████████████████████████████████████| 34/34 [00:00<00:00, 3088.99it/s]\n",
      "100%|█████████████████████████████████████████| 32/32 [00:00<00:00, 4803.27it/s]\n"
     ]
    },
    {
     "name": "stdout",
     "output_type": "stream",
     "text": [
      "Z plane: 25\n"
     ]
    },
    {
     "name": "stderr",
     "output_type": "stream",
     "text": [
      "100%|█████████████████████████████████████████| 30/30 [00:00<00:00, 2410.84it/s]\n",
      "100%|█████████████████████████████████████████| 30/30 [00:00<00:00, 4225.29it/s]\n"
     ]
    },
    {
     "name": "stdout",
     "output_type": "stream",
     "text": [
      "Z plane: 26\n"
     ]
    },
    {
     "name": "stderr",
     "output_type": "stream",
     "text": [
      "100%|█████████████████████████████████████████| 26/26 [00:00<00:00, 1733.43it/s]\n",
      "100%|█████████████████████████████████████████| 26/26 [00:00<00:00, 4014.72it/s]\n"
     ]
    },
    {
     "name": "stdout",
     "output_type": "stream",
     "text": [
      "Z plane: 27\n"
     ]
    },
    {
     "name": "stderr",
     "output_type": "stream",
     "text": [
      "100%|█████████████████████████████████████████| 25/25 [00:00<00:00, 2209.48it/s]\n",
      "100%|█████████████████████████████████████████| 25/25 [00:00<00:00, 4032.83it/s]\n"
     ]
    },
    {
     "name": "stdout",
     "output_type": "stream",
     "text": [
      "Z plane: 28\n"
     ]
    },
    {
     "name": "stderr",
     "output_type": "stream",
     "text": [
      "100%|█████████████████████████████████████████| 21/21 [00:00<00:00, 1918.88it/s]\n",
      "100%|█████████████████████████████████████████| 21/21 [00:00<00:00, 2713.92it/s]\n"
     ]
    },
    {
     "name": "stdout",
     "output_type": "stream",
     "text": [
      "Z plane: 29\n"
     ]
    },
    {
     "name": "stderr",
     "output_type": "stream",
     "text": [
      "100%|█████████████████████████████████████████| 17/17 [00:00<00:00, 2105.51it/s]\n",
      "100%|█████████████████████████████████████████| 17/17 [00:00<00:00, 2418.20it/s]\n"
     ]
    },
    {
     "name": "stdout",
     "output_type": "stream",
     "text": [
      "Z plane: 30\n"
     ]
    },
    {
     "name": "stderr",
     "output_type": "stream",
     "text": [
      "100%|█████████████████████████████████████████| 16/16 [00:00<00:00, 1779.13it/s]\n",
      "100%|█████████████████████████████████████████| 16/16 [00:00<00:00, 3319.43it/s]\n"
     ]
    },
    {
     "name": "stdout",
     "output_type": "stream",
     "text": [
      "Z plane: 31\n"
     ]
    },
    {
     "name": "stderr",
     "output_type": "stream",
     "text": [
      "100%|█████████████████████████████████████████| 16/16 [00:00<00:00, 1802.40it/s]\n",
      "100%|█████████████████████████████████████████| 16/16 [00:00<00:00, 2250.92it/s]\n"
     ]
    },
    {
     "name": "stdout",
     "output_type": "stream",
     "text": [
      "Time point: 25\n",
      "Z plane: 0\n"
     ]
    },
    {
     "name": "stderr",
     "output_type": "stream",
     "text": [
      "100%|███████████████████████████████████████████| 2/2 [00:00<00:00, 1129.93it/s]\n",
      "100%|███████████████████████████████████████████| 2/2 [00:00<00:00, 1650.00it/s]\n"
     ]
    },
    {
     "name": "stdout",
     "output_type": "stream",
     "text": [
      "Z plane: 1\n"
     ]
    },
    {
     "name": "stderr",
     "output_type": "stream",
     "text": [
      "100%|████████████████████████████████████████████| 2/2 [00:00<00:00, 934.25it/s]\n",
      "100%|████████████████████████████████████████████| 2/2 [00:00<00:00, 740.39it/s]\n"
     ]
    },
    {
     "name": "stdout",
     "output_type": "stream",
     "text": [
      "Z plane: 2\n"
     ]
    },
    {
     "name": "stderr",
     "output_type": "stream",
     "text": [
      "100%|███████████████████████████████████████████| 3/3 [00:00<00:00, 2798.07it/s]\n",
      "100%|███████████████████████████████████████████| 3/3 [00:00<00:00, 1119.38it/s]\n"
     ]
    },
    {
     "name": "stdout",
     "output_type": "stream",
     "text": [
      "Z plane: 3\n"
     ]
    },
    {
     "name": "stderr",
     "output_type": "stream",
     "text": [
      "100%|███████████████████████████████████████████| 3/3 [00:00<00:00, 1058.63it/s]\n",
      "100%|████████████████████████████████████████████| 3/3 [00:00<00:00, 743.32it/s]\n"
     ]
    },
    {
     "name": "stdout",
     "output_type": "stream",
     "text": [
      "Z plane: 4\n"
     ]
    },
    {
     "name": "stderr",
     "output_type": "stream",
     "text": [
      "100%|███████████████████████████████████████████| 6/6 [00:00<00:00, 1030.37it/s]\n",
      "100%|███████████████████████████████████████████| 6/6 [00:00<00:00, 1181.55it/s]\n"
     ]
    },
    {
     "name": "stdout",
     "output_type": "stream",
     "text": [
      "Z plane: 5\n"
     ]
    },
    {
     "name": "stderr",
     "output_type": "stream",
     "text": [
      "100%|████████████████████████████████████████████| 7/7 [00:00<00:00, 983.13it/s]\n",
      "100%|███████████████████████████████████████████| 7/7 [00:00<00:00, 1154.91it/s]\n"
     ]
    },
    {
     "name": "stdout",
     "output_type": "stream",
     "text": [
      "Z plane: 6\n"
     ]
    },
    {
     "name": "stderr",
     "output_type": "stream",
     "text": [
      "100%|████████████████████████████████████████████| 7/7 [00:00<00:00, 908.17it/s]\n",
      "100%|███████████████████████████████████████████| 7/7 [00:00<00:00, 2132.96it/s]\n"
     ]
    },
    {
     "name": "stdout",
     "output_type": "stream",
     "text": [
      "Z plane: 7\n"
     ]
    },
    {
     "name": "stderr",
     "output_type": "stream",
     "text": [
      "100%|█████████████████████████████████████████| 11/11 [00:00<00:00, 1362.43it/s]\n",
      "100%|█████████████████████████████████████████| 11/11 [00:00<00:00, 3063.37it/s]\n"
     ]
    },
    {
     "name": "stdout",
     "output_type": "stream",
     "text": [
      "Z plane: 8\n"
     ]
    },
    {
     "name": "stderr",
     "output_type": "stream",
     "text": [
      "100%|█████████████████████████████████████████| 13/13 [00:00<00:00, 1720.93it/s]\n",
      "100%|█████████████████████████████████████████| 13/13 [00:00<00:00, 1778.17it/s]\n"
     ]
    },
    {
     "name": "stdout",
     "output_type": "stream",
     "text": [
      "Z plane: 9\n"
     ]
    },
    {
     "name": "stderr",
     "output_type": "stream",
     "text": [
      "100%|█████████████████████████████████████████| 13/13 [00:00<00:00, 1414.94it/s]\n",
      "100%|█████████████████████████████████████████| 13/13 [00:00<00:00, 2409.24it/s]\n"
     ]
    },
    {
     "name": "stdout",
     "output_type": "stream",
     "text": [
      "Z plane: 10\n"
     ]
    },
    {
     "name": "stderr",
     "output_type": "stream",
     "text": [
      "100%|█████████████████████████████████████████| 15/15 [00:00<00:00, 2032.19it/s]\n",
      "100%|█████████████████████████████████████████| 15/15 [00:00<00:00, 1954.35it/s]\n"
     ]
    },
    {
     "name": "stdout",
     "output_type": "stream",
     "text": [
      "Z plane: 11\n"
     ]
    },
    {
     "name": "stderr",
     "output_type": "stream",
     "text": [
      "100%|█████████████████████████████████████████| 15/15 [00:00<00:00, 2000.53it/s]\n",
      "100%|█████████████████████████████████████████| 15/15 [00:00<00:00, 2950.41it/s]\n"
     ]
    },
    {
     "name": "stdout",
     "output_type": "stream",
     "text": [
      "Z plane: 12\n"
     ]
    },
    {
     "name": "stderr",
     "output_type": "stream",
     "text": [
      "100%|█████████████████████████████████████████| 17/17 [00:00<00:00, 1434.47it/s]\n",
      "100%|█████████████████████████████████████████| 17/17 [00:00<00:00, 2298.92it/s]\n"
     ]
    },
    {
     "name": "stdout",
     "output_type": "stream",
     "text": [
      "Z plane: 13\n"
     ]
    },
    {
     "name": "stderr",
     "output_type": "stream",
     "text": [
      "100%|█████████████████████████████████████████| 18/18 [00:00<00:00, 1914.48it/s]\n",
      "100%|█████████████████████████████████████████| 15/15 [00:00<00:00, 4338.94it/s]\n"
     ]
    },
    {
     "name": "stdout",
     "output_type": "stream",
     "text": [
      "Z plane: 14\n"
     ]
    },
    {
     "name": "stderr",
     "output_type": "stream",
     "text": [
      "100%|█████████████████████████████████████████| 20/20 [00:00<00:00, 4088.41it/s]\n",
      "100%|█████████████████████████████████████████| 17/17 [00:00<00:00, 4267.35it/s]\n"
     ]
    },
    {
     "name": "stdout",
     "output_type": "stream",
     "text": [
      "Z plane: 15\n"
     ]
    },
    {
     "name": "stderr",
     "output_type": "stream",
     "text": [
      "100%|█████████████████████████████████████████| 26/26 [00:00<00:00, 2973.55it/s]\n",
      "100%|█████████████████████████████████████████| 25/25 [00:00<00:00, 5062.89it/s]\n"
     ]
    },
    {
     "name": "stdout",
     "output_type": "stream",
     "text": [
      "Z plane: 16\n"
     ]
    },
    {
     "name": "stderr",
     "output_type": "stream",
     "text": [
      "100%|█████████████████████████████████████████| 28/28 [00:00<00:00, 2965.52it/s]\n",
      "100%|█████████████████████████████████████████| 28/28 [00:00<00:00, 4936.55it/s]\n"
     ]
    },
    {
     "name": "stdout",
     "output_type": "stream",
     "text": [
      "Z plane: 17\n"
     ]
    },
    {
     "name": "stderr",
     "output_type": "stream",
     "text": [
      "100%|█████████████████████████████████████████| 28/28 [00:00<00:00, 2475.92it/s]\n",
      "100%|█████████████████████████████████████████| 28/28 [00:00<00:00, 4417.71it/s]\n"
     ]
    },
    {
     "name": "stdout",
     "output_type": "stream",
     "text": [
      "Z plane: 18\n"
     ]
    },
    {
     "name": "stderr",
     "output_type": "stream",
     "text": [
      "100%|█████████████████████████████████████████| 32/32 [00:00<00:00, 2338.86it/s]\n",
      "100%|█████████████████████████████████████████| 32/32 [00:00<00:00, 5489.70it/s]\n"
     ]
    },
    {
     "name": "stdout",
     "output_type": "stream",
     "text": [
      "Z plane: 19\n"
     ]
    },
    {
     "name": "stderr",
     "output_type": "stream",
     "text": [
      "100%|█████████████████████████████████████████| 32/32 [00:00<00:00, 3705.42it/s]\n",
      "100%|█████████████████████████████████████████| 32/32 [00:00<00:00, 4211.55it/s]\n"
     ]
    },
    {
     "name": "stdout",
     "output_type": "stream",
     "text": [
      "Z plane: 20\n"
     ]
    },
    {
     "name": "stderr",
     "output_type": "stream",
     "text": [
      "100%|█████████████████████████████████████████| 31/31 [00:00<00:00, 3392.12it/s]\n",
      "100%|█████████████████████████████████████████| 31/31 [00:00<00:00, 4245.39it/s]\n"
     ]
    },
    {
     "name": "stdout",
     "output_type": "stream",
     "text": [
      "Z plane: 21\n"
     ]
    },
    {
     "name": "stderr",
     "output_type": "stream",
     "text": [
      "100%|█████████████████████████████████████████| 38/38 [00:00<00:00, 3697.91it/s]\n",
      "100%|█████████████████████████████████████████| 38/38 [00:00<00:00, 7667.46it/s]\n"
     ]
    },
    {
     "name": "stdout",
     "output_type": "stream",
     "text": [
      "Z plane: 22\n"
     ]
    },
    {
     "name": "stderr",
     "output_type": "stream",
     "text": [
      "100%|█████████████████████████████████████████| 35/35 [00:00<00:00, 3626.86it/s]\n",
      "100%|█████████████████████████████████████████| 34/34 [00:00<00:00, 5246.16it/s]\n"
     ]
    },
    {
     "name": "stdout",
     "output_type": "stream",
     "text": [
      "Z plane: 23\n"
     ]
    },
    {
     "name": "stderr",
     "output_type": "stream",
     "text": [
      "100%|█████████████████████████████████████████| 31/31 [00:00<00:00, 3781.40it/s]\n",
      "100%|█████████████████████████████████████████| 31/31 [00:00<00:00, 5554.66it/s]\n"
     ]
    },
    {
     "name": "stdout",
     "output_type": "stream",
     "text": [
      "Z plane: 24\n"
     ]
    },
    {
     "name": "stderr",
     "output_type": "stream",
     "text": [
      "100%|█████████████████████████████████████████| 29/29 [00:00<00:00, 3210.80it/s]\n",
      "100%|█████████████████████████████████████████| 29/29 [00:00<00:00, 4686.37it/s]\n"
     ]
    },
    {
     "name": "stdout",
     "output_type": "stream",
     "text": [
      "Z plane: 25\n"
     ]
    },
    {
     "name": "stderr",
     "output_type": "stream",
     "text": [
      "100%|█████████████████████████████████████████| 25/25 [00:00<00:00, 2458.45it/s]\n",
      "100%|█████████████████████████████████████████| 25/25 [00:00<00:00, 5320.29it/s]\n"
     ]
    },
    {
     "name": "stdout",
     "output_type": "stream",
     "text": [
      "Z plane: 26\n"
     ]
    },
    {
     "name": "stderr",
     "output_type": "stream",
     "text": [
      "100%|█████████████████████████████████████████| 22/22 [00:00<00:00, 2745.54it/s]\n",
      "100%|█████████████████████████████████████████| 22/22 [00:00<00:00, 5885.24it/s]\n"
     ]
    },
    {
     "name": "stdout",
     "output_type": "stream",
     "text": [
      "Z plane: 27\n"
     ]
    },
    {
     "name": "stderr",
     "output_type": "stream",
     "text": [
      "100%|█████████████████████████████████████████| 23/23 [00:00<00:00, 1844.74it/s]\n",
      "100%|█████████████████████████████████████████| 23/23 [00:00<00:00, 3622.02it/s]\n"
     ]
    },
    {
     "name": "stdout",
     "output_type": "stream",
     "text": [
      "Z plane: 28\n"
     ]
    },
    {
     "name": "stderr",
     "output_type": "stream",
     "text": [
      "100%|█████████████████████████████████████████| 23/23 [00:00<00:00, 2126.09it/s]\n",
      "100%|█████████████████████████████████████████| 23/23 [00:00<00:00, 7443.02it/s]\n"
     ]
    },
    {
     "name": "stdout",
     "output_type": "stream",
     "text": [
      "Z plane: 29\n"
     ]
    },
    {
     "name": "stderr",
     "output_type": "stream",
     "text": [
      "100%|█████████████████████████████████████████| 22/22 [00:00<00:00, 3451.59it/s]\n",
      "100%|█████████████████████████████████████████| 22/22 [00:00<00:00, 5823.22it/s]\n"
     ]
    },
    {
     "name": "stdout",
     "output_type": "stream",
     "text": [
      "Z plane: 30\n"
     ]
    },
    {
     "name": "stderr",
     "output_type": "stream",
     "text": [
      "100%|█████████████████████████████████████████| 17/17 [00:00<00:00, 2067.90it/s]\n",
      "100%|█████████████████████████████████████████| 17/17 [00:00<00:00, 2982.02it/s]\n"
     ]
    },
    {
     "name": "stdout",
     "output_type": "stream",
     "text": [
      "Z plane: 31\n"
     ]
    },
    {
     "name": "stderr",
     "output_type": "stream",
     "text": [
      "100%|█████████████████████████████████████████| 17/17 [00:00<00:00, 2580.55it/s]\n",
      "100%|█████████████████████████████████████████| 17/17 [00:00<00:00, 3200.90it/s]\n"
     ]
    },
    {
     "name": "stdout",
     "output_type": "stream",
     "text": [
      "Time point: 26\n",
      "Z plane: 0\n"
     ]
    },
    {
     "name": "stderr",
     "output_type": "stream",
     "text": [
      "100%|████████████████████████████████████████████| 2/2 [00:00<00:00, 925.89it/s]\n",
      "100%|███████████████████████████████████████████| 2/2 [00:00<00:00, 1168.33it/s]\n"
     ]
    },
    {
     "name": "stdout",
     "output_type": "stream",
     "text": [
      "Z plane: 1\n"
     ]
    },
    {
     "name": "stderr",
     "output_type": "stream",
     "text": [
      "100%|████████████████████████████████████████████| 2/2 [00:00<00:00, 858.35it/s]\n",
      "100%|███████████████████████████████████████████| 2/2 [00:00<00:00, 1057.57it/s]\n"
     ]
    },
    {
     "name": "stdout",
     "output_type": "stream",
     "text": [
      "Z plane: 2\n"
     ]
    },
    {
     "name": "stderr",
     "output_type": "stream",
     "text": [
      "100%|████████████████████████████████████████████| 2/2 [00:00<00:00, 950.66it/s]\n",
      "100%|████████████████████████████████████████████| 2/2 [00:00<00:00, 753.36it/s]\n"
     ]
    },
    {
     "name": "stdout",
     "output_type": "stream",
     "text": [
      "Z plane: 3\n"
     ]
    },
    {
     "name": "stderr",
     "output_type": "stream",
     "text": [
      "100%|███████████████████████████████████████████| 3/3 [00:00<00:00, 1406.54it/s]\n",
      "100%|███████████████████████████████████████████| 3/3 [00:00<00:00, 1379.25it/s]\n"
     ]
    },
    {
     "name": "stdout",
     "output_type": "stream",
     "text": [
      "Z plane: 4\n"
     ]
    },
    {
     "name": "stderr",
     "output_type": "stream",
     "text": [
      "100%|████████████████████████████████████████████| 4/4 [00:00<00:00, 837.19it/s]\n",
      "100%|████████████████████████████████████████████| 4/4 [00:00<00:00, 958.75it/s]\n"
     ]
    },
    {
     "name": "stdout",
     "output_type": "stream",
     "text": [
      "Z plane: 5\n"
     ]
    },
    {
     "name": "stderr",
     "output_type": "stream",
     "text": [
      "100%|███████████████████████████████████████████| 6/6 [00:00<00:00, 1017.83it/s]\n",
      "100%|███████████████████████████████████████████| 6/6 [00:00<00:00, 1801.42it/s]\n"
     ]
    },
    {
     "name": "stdout",
     "output_type": "stream",
     "text": [
      "Z plane: 6\n"
     ]
    },
    {
     "name": "stderr",
     "output_type": "stream",
     "text": [
      "100%|███████████████████████████████████████████| 7/7 [00:00<00:00, 1039.30it/s]\n",
      "100%|████████████████████████████████████████████| 7/7 [00:00<00:00, 859.21it/s]\n"
     ]
    },
    {
     "name": "stdout",
     "output_type": "stream",
     "text": [
      "Z plane: 7\n"
     ]
    },
    {
     "name": "stderr",
     "output_type": "stream",
     "text": [
      "100%|█████████████████████████████████████████| 10/10 [00:00<00:00, 1342.48it/s]\n",
      "100%|█████████████████████████████████████████| 10/10 [00:00<00:00, 2774.74it/s]\n"
     ]
    },
    {
     "name": "stdout",
     "output_type": "stream",
     "text": [
      "Z plane: 8\n"
     ]
    },
    {
     "name": "stderr",
     "output_type": "stream",
     "text": [
      "100%|█████████████████████████████████████████| 10/10 [00:00<00:00, 1349.17it/s]\n",
      "100%|█████████████████████████████████████████| 10/10 [00:00<00:00, 1963.07it/s]\n"
     ]
    },
    {
     "name": "stdout",
     "output_type": "stream",
     "text": [
      "Z plane: 9\n"
     ]
    },
    {
     "name": "stderr",
     "output_type": "stream",
     "text": [
      "100%|█████████████████████████████████████████| 13/13 [00:00<00:00, 1826.30it/s]\n",
      "100%|█████████████████████████████████████████| 13/13 [00:00<00:00, 1694.09it/s]\n"
     ]
    },
    {
     "name": "stdout",
     "output_type": "stream",
     "text": [
      "Z plane: 10\n"
     ]
    },
    {
     "name": "stderr",
     "output_type": "stream",
     "text": [
      "100%|█████████████████████████████████████████| 15/15 [00:00<00:00, 2184.38it/s]\n",
      "100%|█████████████████████████████████████████| 15/15 [00:00<00:00, 2768.52it/s]\n"
     ]
    },
    {
     "name": "stdout",
     "output_type": "stream",
     "text": [
      "Z plane: 11\n"
     ]
    },
    {
     "name": "stderr",
     "output_type": "stream",
     "text": [
      "100%|█████████████████████████████████████████| 15/15 [00:00<00:00, 1518.03it/s]\n",
      "100%|█████████████████████████████████████████| 15/15 [00:00<00:00, 3705.43it/s]\n"
     ]
    },
    {
     "name": "stdout",
     "output_type": "stream",
     "text": [
      "Z plane: 12\n"
     ]
    },
    {
     "name": "stderr",
     "output_type": "stream",
     "text": [
      "100%|█████████████████████████████████████████| 14/14 [00:00<00:00, 2738.18it/s]\n",
      "100%|█████████████████████████████████████████| 14/14 [00:00<00:00, 4463.04it/s]\n"
     ]
    },
    {
     "name": "stdout",
     "output_type": "stream",
     "text": [
      "Z plane: 13\n"
     ]
    },
    {
     "name": "stderr",
     "output_type": "stream",
     "text": [
      "100%|█████████████████████████████████████████| 13/13 [00:00<00:00, 1467.92it/s]\n",
      "100%|█████████████████████████████████████████| 13/13 [00:00<00:00, 2262.49it/s]\n"
     ]
    },
    {
     "name": "stdout",
     "output_type": "stream",
     "text": [
      "Z plane: 14\n"
     ]
    },
    {
     "name": "stderr",
     "output_type": "stream",
     "text": [
      "100%|█████████████████████████████████████████| 19/19 [00:00<00:00, 1978.10it/s]\n",
      "100%|█████████████████████████████████████████| 19/19 [00:00<00:00, 3016.80it/s]\n"
     ]
    },
    {
     "name": "stdout",
     "output_type": "stream",
     "text": [
      "Z plane: 15\n"
     ]
    },
    {
     "name": "stderr",
     "output_type": "stream",
     "text": [
      "100%|█████████████████████████████████████████| 25/25 [00:00<00:00, 2795.16it/s]\n",
      "100%|█████████████████████████████████████████| 24/24 [00:00<00:00, 5264.27it/s]\n"
     ]
    },
    {
     "name": "stdout",
     "output_type": "stream",
     "text": [
      "Z plane: 16\n"
     ]
    },
    {
     "name": "stderr",
     "output_type": "stream",
     "text": [
      "100%|█████████████████████████████████████████| 33/33 [00:00<00:00, 2246.07it/s]\n",
      "100%|█████████████████████████████████████████| 32/32 [00:00<00:00, 4575.19it/s]\n"
     ]
    },
    {
     "name": "stdout",
     "output_type": "stream",
     "text": [
      "Z plane: 17\n"
     ]
    },
    {
     "name": "stderr",
     "output_type": "stream",
     "text": [
      "100%|█████████████████████████████████████████| 32/32 [00:00<00:00, 2474.88it/s]\n",
      "100%|█████████████████████████████████████████| 32/32 [00:00<00:00, 4330.16it/s]\n"
     ]
    },
    {
     "name": "stdout",
     "output_type": "stream",
     "text": [
      "Z plane: 18\n"
     ]
    },
    {
     "name": "stderr",
     "output_type": "stream",
     "text": [
      "100%|█████████████████████████████████████████| 30/30 [00:00<00:00, 3269.39it/s]\n",
      "100%|█████████████████████████████████████████| 30/30 [00:00<00:00, 3915.88it/s]\n"
     ]
    },
    {
     "name": "stdout",
     "output_type": "stream",
     "text": [
      "Z plane: 19\n"
     ]
    },
    {
     "name": "stderr",
     "output_type": "stream",
     "text": [
      "100%|█████████████████████████████████████████| 32/32 [00:00<00:00, 5125.75it/s]\n",
      "100%|█████████████████████████████████████████| 31/31 [00:00<00:00, 3583.39it/s]\n"
     ]
    },
    {
     "name": "stdout",
     "output_type": "stream",
     "text": [
      "Z plane: 20\n"
     ]
    },
    {
     "name": "stderr",
     "output_type": "stream",
     "text": [
      "100%|█████████████████████████████████████████| 29/29 [00:00<00:00, 4468.25it/s]\n",
      "100%|█████████████████████████████████████████| 28/28 [00:00<00:00, 4458.64it/s]\n"
     ]
    },
    {
     "name": "stdout",
     "output_type": "stream",
     "text": [
      "Z plane: 21\n"
     ]
    },
    {
     "name": "stderr",
     "output_type": "stream",
     "text": [
      "100%|█████████████████████████████████████████| 30/30 [00:00<00:00, 2455.15it/s]\n",
      "100%|█████████████████████████████████████████| 30/30 [00:00<00:00, 5351.24it/s]\n"
     ]
    },
    {
     "name": "stdout",
     "output_type": "stream",
     "text": [
      "Z plane: 22\n"
     ]
    },
    {
     "name": "stderr",
     "output_type": "stream",
     "text": [
      "100%|█████████████████████████████████████████| 32/32 [00:00<00:00, 3046.46it/s]\n",
      "100%|█████████████████████████████████████████| 32/32 [00:00<00:00, 5192.18it/s]\n"
     ]
    },
    {
     "name": "stdout",
     "output_type": "stream",
     "text": [
      "Z plane: 23\n"
     ]
    },
    {
     "name": "stderr",
     "output_type": "stream",
     "text": [
      "100%|█████████████████████████████████████████| 30/30 [00:00<00:00, 3351.69it/s]\n",
      "100%|█████████████████████████████████████████| 28/28 [00:00<00:00, 5800.96it/s]\n"
     ]
    },
    {
     "name": "stdout",
     "output_type": "stream",
     "text": [
      "Z plane: 24\n"
     ]
    },
    {
     "name": "stderr",
     "output_type": "stream",
     "text": [
      "100%|█████████████████████████████████████████| 29/29 [00:00<00:00, 2650.86it/s]\n",
      "100%|█████████████████████████████████████████| 28/28 [00:00<00:00, 3228.78it/s]\n"
     ]
    },
    {
     "name": "stdout",
     "output_type": "stream",
     "text": [
      "Z plane: 25\n"
     ]
    },
    {
     "name": "stderr",
     "output_type": "stream",
     "text": [
      "100%|█████████████████████████████████████████| 23/23 [00:00<00:00, 1966.47it/s]\n",
      "100%|█████████████████████████████████████████| 23/23 [00:00<00:00, 4018.70it/s]\n"
     ]
    },
    {
     "name": "stdout",
     "output_type": "stream",
     "text": [
      "Z plane: 26\n"
     ]
    },
    {
     "name": "stderr",
     "output_type": "stream",
     "text": [
      "100%|█████████████████████████████████████████| 26/26 [00:00<00:00, 2677.70it/s]\n",
      "100%|█████████████████████████████████████████| 26/26 [00:00<00:00, 9033.46it/s]\n"
     ]
    },
    {
     "name": "stdout",
     "output_type": "stream",
     "text": [
      "Z plane: 27\n"
     ]
    },
    {
     "name": "stderr",
     "output_type": "stream",
     "text": [
      "100%|█████████████████████████████████████████| 23/23 [00:00<00:00, 2539.46it/s]\n",
      "100%|█████████████████████████████████████████| 23/23 [00:00<00:00, 4412.84it/s]\n"
     ]
    },
    {
     "name": "stdout",
     "output_type": "stream",
     "text": [
      "Z plane: 28\n"
     ]
    },
    {
     "name": "stderr",
     "output_type": "stream",
     "text": [
      "100%|█████████████████████████████████████████| 22/22 [00:00<00:00, 2266.19it/s]\n",
      "100%|█████████████████████████████████████████| 22/22 [00:00<00:00, 3267.63it/s]\n"
     ]
    },
    {
     "name": "stdout",
     "output_type": "stream",
     "text": [
      "Z plane: 29\n"
     ]
    },
    {
     "name": "stderr",
     "output_type": "stream",
     "text": [
      "100%|█████████████████████████████████████████| 19/19 [00:00<00:00, 3345.02it/s]\n",
      "100%|█████████████████████████████████████████| 19/19 [00:00<00:00, 2742.04it/s]\n"
     ]
    },
    {
     "name": "stdout",
     "output_type": "stream",
     "text": [
      "Z plane: 30\n"
     ]
    },
    {
     "name": "stderr",
     "output_type": "stream",
     "text": [
      "100%|█████████████████████████████████████████| 19/19 [00:00<00:00, 2363.20it/s]\n",
      "100%|█████████████████████████████████████████| 19/19 [00:00<00:00, 4141.12it/s]\n"
     ]
    },
    {
     "name": "stdout",
     "output_type": "stream",
     "text": [
      "Z plane: 31\n"
     ]
    },
    {
     "name": "stderr",
     "output_type": "stream",
     "text": [
      "100%|█████████████████████████████████████████| 18/18 [00:00<00:00, 2631.95it/s]\n",
      "100%|█████████████████████████████████████████| 18/18 [00:00<00:00, 3047.20it/s]\n"
     ]
    },
    {
     "name": "stdout",
     "output_type": "stream",
     "text": [
      "Time point: 27\n",
      "Z plane: 0\n"
     ]
    },
    {
     "name": "stderr",
     "output_type": "stream",
     "text": [
      "100%|████████████████████████████████████████████| 2/2 [00:00<00:00, 710.00it/s]\n",
      "100%|███████████████████████████████████████████| 2/2 [00:00<00:00, 1372.71it/s]\n"
     ]
    },
    {
     "name": "stdout",
     "output_type": "stream",
     "text": [
      "Z plane: 1\n"
     ]
    },
    {
     "name": "stderr",
     "output_type": "stream",
     "text": [
      "100%|████████████████████████████████████████████| 2/2 [00:00<00:00, 927.64it/s]\n",
      "100%|███████████████████████████████████████████| 2/2 [00:00<00:00, 1055.83it/s]\n"
     ]
    },
    {
     "name": "stdout",
     "output_type": "stream",
     "text": [
      "Z plane: 2\n"
     ]
    },
    {
     "name": "stderr",
     "output_type": "stream",
     "text": [
      "100%|████████████████████████████████████████████| 2/2 [00:00<00:00, 732.05it/s]\n",
      "100%|████████████████████████████████████████████| 2/2 [00:00<00:00, 929.38it/s]\n"
     ]
    },
    {
     "name": "stdout",
     "output_type": "stream",
     "text": [
      "Z plane: 3\n"
     ]
    },
    {
     "name": "stderr",
     "output_type": "stream",
     "text": [
      "100%|████████████████████████████████████████████| 3/3 [00:00<00:00, 938.46it/s]\n",
      "100%|███████████████████████████████████████████| 3/3 [00:00<00:00, 1172.79it/s]\n"
     ]
    },
    {
     "name": "stdout",
     "output_type": "stream",
     "text": [
      "Z plane: 4\n"
     ]
    },
    {
     "name": "stderr",
     "output_type": "stream",
     "text": [
      "100%|████████████████████████████████████████████| 4/4 [00:00<00:00, 869.15it/s]\n",
      "100%|████████████████████████████████████████████| 4/4 [00:00<00:00, 692.07it/s]\n"
     ]
    },
    {
     "name": "stdout",
     "output_type": "stream",
     "text": [
      "Z plane: 5\n"
     ]
    },
    {
     "name": "stderr",
     "output_type": "stream",
     "text": [
      "100%|████████████████████████████████████████████| 6/6 [00:00<00:00, 885.22it/s]\n",
      "100%|████████████████████████████████████████████| 6/6 [00:00<00:00, 836.94it/s]\n"
     ]
    },
    {
     "name": "stdout",
     "output_type": "stream",
     "text": [
      "Z plane: 6\n"
     ]
    },
    {
     "name": "stderr",
     "output_type": "stream",
     "text": [
      "100%|███████████████████████████████████████████| 8/8 [00:00<00:00, 1010.25it/s]\n",
      "100%|███████████████████████████████████████████| 8/8 [00:00<00:00, 1646.36it/s]\n"
     ]
    },
    {
     "name": "stdout",
     "output_type": "stream",
     "text": [
      "Z plane: 7\n"
     ]
    },
    {
     "name": "stderr",
     "output_type": "stream",
     "text": [
      "100%|█████████████████████████████████████████| 10/10 [00:00<00:00, 1312.03it/s]\n",
      "100%|█████████████████████████████████████████| 10/10 [00:00<00:00, 1603.88it/s]\n"
     ]
    },
    {
     "name": "stdout",
     "output_type": "stream",
     "text": [
      "Z plane: 8\n"
     ]
    },
    {
     "name": "stderr",
     "output_type": "stream",
     "text": [
      "100%|█████████████████████████████████████████| 13/13 [00:00<00:00, 1702.71it/s]\n",
      "100%|█████████████████████████████████████████| 13/13 [00:00<00:00, 2355.03it/s]\n"
     ]
    },
    {
     "name": "stdout",
     "output_type": "stream",
     "text": [
      "Z plane: 9\n"
     ]
    },
    {
     "name": "stderr",
     "output_type": "stream",
     "text": [
      "100%|█████████████████████████████████████████| 13/13 [00:00<00:00, 1413.98it/s]\n",
      "100%|█████████████████████████████████████████| 13/13 [00:00<00:00, 2805.84it/s]\n"
     ]
    },
    {
     "name": "stdout",
     "output_type": "stream",
     "text": [
      "Z plane: 10\n"
     ]
    },
    {
     "name": "stderr",
     "output_type": "stream",
     "text": [
      "100%|█████████████████████████████████████████| 14/14 [00:00<00:00, 2191.63it/s]\n",
      "100%|█████████████████████████████████████████| 14/14 [00:00<00:00, 3868.77it/s]\n"
     ]
    },
    {
     "name": "stdout",
     "output_type": "stream",
     "text": [
      "Z plane: 11\n"
     ]
    },
    {
     "name": "stderr",
     "output_type": "stream",
     "text": [
      "100%|█████████████████████████████████████████| 15/15 [00:00<00:00, 1696.22it/s]\n",
      "100%|█████████████████████████████████████████| 15/15 [00:00<00:00, 3219.62it/s]\n"
     ]
    },
    {
     "name": "stdout",
     "output_type": "stream",
     "text": [
      "Z plane: 12\n"
     ]
    },
    {
     "name": "stderr",
     "output_type": "stream",
     "text": [
      "100%|█████████████████████████████████████████| 15/15 [00:00<00:00, 2217.96it/s]\n",
      "100%|█████████████████████████████████████████| 15/15 [00:00<00:00, 2227.77it/s]\n"
     ]
    },
    {
     "name": "stdout",
     "output_type": "stream",
     "text": [
      "Z plane: 13\n"
     ]
    },
    {
     "name": "stderr",
     "output_type": "stream",
     "text": [
      "100%|█████████████████████████████████████████| 17/17 [00:00<00:00, 1638.25it/s]\n",
      "100%|█████████████████████████████████████████| 17/17 [00:00<00:00, 2762.40it/s]\n"
     ]
    },
    {
     "name": "stdout",
     "output_type": "stream",
     "text": [
      "Z plane: 14\n"
     ]
    },
    {
     "name": "stderr",
     "output_type": "stream",
     "text": [
      "100%|█████████████████████████████████████████| 21/21 [00:00<00:00, 1875.33it/s]\n",
      "100%|█████████████████████████████████████████| 21/21 [00:00<00:00, 2569.74it/s]\n"
     ]
    },
    {
     "name": "stdout",
     "output_type": "stream",
     "text": [
      "Z plane: 15\n"
     ]
    },
    {
     "name": "stderr",
     "output_type": "stream",
     "text": [
      "100%|█████████████████████████████████████████| 21/21 [00:00<00:00, 2121.45it/s]\n",
      "100%|█████████████████████████████████████████| 21/21 [00:00<00:00, 2722.06it/s]\n"
     ]
    },
    {
     "name": "stdout",
     "output_type": "stream",
     "text": [
      "Z plane: 16\n"
     ]
    },
    {
     "name": "stderr",
     "output_type": "stream",
     "text": [
      "100%|█████████████████████████████████████████| 27/27 [00:00<00:00, 4168.06it/s]\n",
      "100%|█████████████████████████████████████████| 27/27 [00:00<00:00, 4034.57it/s]\n"
     ]
    },
    {
     "name": "stdout",
     "output_type": "stream",
     "text": [
      "Z plane: 17\n"
     ]
    },
    {
     "name": "stderr",
     "output_type": "stream",
     "text": [
      "100%|█████████████████████████████████████████| 30/30 [00:00<00:00, 3013.22it/s]\n",
      "100%|█████████████████████████████████████████| 28/28 [00:00<00:00, 2753.20it/s]\n"
     ]
    },
    {
     "name": "stdout",
     "output_type": "stream",
     "text": [
      "Z plane: 18\n"
     ]
    },
    {
     "name": "stderr",
     "output_type": "stream",
     "text": [
      "100%|█████████████████████████████████████████| 27/27 [00:00<00:00, 2402.75it/s]\n",
      "100%|█████████████████████████████████████████| 27/27 [00:00<00:00, 3659.01it/s]\n"
     ]
    },
    {
     "name": "stdout",
     "output_type": "stream",
     "text": [
      "Z plane: 19\n"
     ]
    },
    {
     "name": "stderr",
     "output_type": "stream",
     "text": [
      "100%|█████████████████████████████████████████| 31/31 [00:00<00:00, 2763.69it/s]\n",
      "100%|█████████████████████████████████████████| 30/30 [00:00<00:00, 4195.28it/s]\n"
     ]
    },
    {
     "name": "stdout",
     "output_type": "stream",
     "text": [
      "Z plane: 20\n"
     ]
    },
    {
     "name": "stderr",
     "output_type": "stream",
     "text": [
      "100%|█████████████████████████████████████████| 31/31 [00:00<00:00, 2562.85it/s]\n",
      "100%|█████████████████████████████████████████| 31/31 [00:00<00:00, 4395.21it/s]\n"
     ]
    },
    {
     "name": "stdout",
     "output_type": "stream",
     "text": [
      "Z plane: 21\n"
     ]
    },
    {
     "name": "stderr",
     "output_type": "stream",
     "text": [
      "100%|█████████████████████████████████████████| 31/31 [00:00<00:00, 3442.51it/s]\n",
      "100%|█████████████████████████████████████████| 31/31 [00:00<00:00, 4596.58it/s]\n"
     ]
    },
    {
     "name": "stdout",
     "output_type": "stream",
     "text": [
      "Z plane: 22\n"
     ]
    },
    {
     "name": "stderr",
     "output_type": "stream",
     "text": [
      "100%|█████████████████████████████████████████| 30/30 [00:00<00:00, 2584.40it/s]\n",
      "100%|█████████████████████████████████████████| 29/29 [00:00<00:00, 4260.41it/s]\n"
     ]
    },
    {
     "name": "stdout",
     "output_type": "stream",
     "text": [
      "Z plane: 23\n"
     ]
    },
    {
     "name": "stderr",
     "output_type": "stream",
     "text": [
      "100%|█████████████████████████████████████████| 29/29 [00:00<00:00, 3132.82it/s]\n",
      "100%|█████████████████████████████████████████| 29/29 [00:00<00:00, 6191.01it/s]\n"
     ]
    },
    {
     "name": "stdout",
     "output_type": "stream",
     "text": [
      "Z plane: 24\n"
     ]
    },
    {
     "name": "stderr",
     "output_type": "stream",
     "text": [
      "100%|█████████████████████████████████████████| 29/29 [00:00<00:00, 2997.11it/s]\n",
      "100%|█████████████████████████████████████████| 29/29 [00:00<00:00, 5733.43it/s]\n"
     ]
    },
    {
     "name": "stdout",
     "output_type": "stream",
     "text": [
      "Z plane: 25\n"
     ]
    },
    {
     "name": "stderr",
     "output_type": "stream",
     "text": [
      "100%|█████████████████████████████████████████| 27/27 [00:00<00:00, 3771.35it/s]\n",
      "100%|█████████████████████████████████████████| 27/27 [00:00<00:00, 4358.31it/s]\n"
     ]
    },
    {
     "name": "stdout",
     "output_type": "stream",
     "text": [
      "Z plane: 26\n"
     ]
    },
    {
     "name": "stderr",
     "output_type": "stream",
     "text": [
      "100%|█████████████████████████████████████████| 24/24 [00:00<00:00, 2308.37it/s]\n",
      "100%|█████████████████████████████████████████| 24/24 [00:00<00:00, 4271.73it/s]\n"
     ]
    },
    {
     "name": "stdout",
     "output_type": "stream",
     "text": [
      "Z plane: 27\n"
     ]
    },
    {
     "name": "stderr",
     "output_type": "stream",
     "text": [
      "100%|█████████████████████████████████████████| 19/19 [00:00<00:00, 1322.00it/s]\n",
      "100%|█████████████████████████████████████████| 19/19 [00:00<00:00, 2517.51it/s]\n"
     ]
    },
    {
     "name": "stdout",
     "output_type": "stream",
     "text": [
      "Z plane: 28\n"
     ]
    },
    {
     "name": "stderr",
     "output_type": "stream",
     "text": [
      "100%|█████████████████████████████████████████| 20/20 [00:00<00:00, 1517.45it/s]\n",
      "100%|█████████████████████████████████████████| 20/20 [00:00<00:00, 2708.10it/s]\n"
     ]
    },
    {
     "name": "stdout",
     "output_type": "stream",
     "text": [
      "Z plane: 29\n"
     ]
    },
    {
     "name": "stderr",
     "output_type": "stream",
     "text": [
      "100%|█████████████████████████████████████████| 20/20 [00:00<00:00, 2084.44it/s]\n",
      "100%|█████████████████████████████████████████| 20/20 [00:00<00:00, 2916.36it/s]\n"
     ]
    },
    {
     "name": "stdout",
     "output_type": "stream",
     "text": [
      "Z plane: 30\n"
     ]
    },
    {
     "name": "stderr",
     "output_type": "stream",
     "text": [
      "100%|█████████████████████████████████████████| 19/19 [00:00<00:00, 1907.64it/s]\n",
      "100%|█████████████████████████████████████████| 19/19 [00:00<00:00, 3164.63it/s]\n"
     ]
    },
    {
     "name": "stdout",
     "output_type": "stream",
     "text": [
      "Z plane: 31\n"
     ]
    },
    {
     "name": "stderr",
     "output_type": "stream",
     "text": [
      "100%|█████████████████████████████████████████| 17/17 [00:00<00:00, 1577.89it/s]\n",
      "100%|█████████████████████████████████████████| 17/17 [00:00<00:00, 2485.30it/s]\n"
     ]
    },
    {
     "name": "stdout",
     "output_type": "stream",
     "text": [
      "Time point: 28\n",
      "Z plane: 0\n"
     ]
    },
    {
     "name": "stderr",
     "output_type": "stream",
     "text": [
      "100%|███████████████████████████████████████████| 2/2 [00:00<00:00, 1083.38it/s]\n",
      "100%|████████████████████████████████████████████| 2/2 [00:00<00:00, 509.67it/s]\n"
     ]
    },
    {
     "name": "stdout",
     "output_type": "stream",
     "text": [
      "Z plane: 1\n"
     ]
    },
    {
     "name": "stderr",
     "output_type": "stream",
     "text": [
      "100%|████████████████████████████████████████████| 3/3 [00:00<00:00, 906.29it/s]\n",
      "100%|████████████████████████████████████████████| 3/3 [00:00<00:00, 744.02it/s]\n"
     ]
    },
    {
     "name": "stdout",
     "output_type": "stream",
     "text": [
      "Z plane: 2\n"
     ]
    },
    {
     "name": "stderr",
     "output_type": "stream",
     "text": [
      "100%|████████████████████████████████████████████| 2/2 [00:00<00:00, 757.37it/s]\n",
      "100%|████████████████████████████████████████████| 2/2 [00:00<00:00, 612.17it/s]\n"
     ]
    },
    {
     "name": "stdout",
     "output_type": "stream",
     "text": [
      "Z plane: 3\n"
     ]
    },
    {
     "name": "stderr",
     "output_type": "stream",
     "text": [
      "100%|███████████████████████████████████████████| 3/3 [00:00<00:00, 1237.14it/s]\n",
      "100%|███████████████████████████████████████████| 3/3 [00:00<00:00, 1577.99it/s]\n"
     ]
    },
    {
     "name": "stdout",
     "output_type": "stream",
     "text": [
      "Z plane: 4\n"
     ]
    },
    {
     "name": "stderr",
     "output_type": "stream",
     "text": [
      "100%|███████████████████████████████████████████| 5/5 [00:00<00:00, 1066.11it/s]\n",
      "100%|███████████████████████████████████████████| 5/5 [00:00<00:00, 1187.99it/s]\n"
     ]
    },
    {
     "name": "stdout",
     "output_type": "stream",
     "text": [
      "Z plane: 5\n"
     ]
    },
    {
     "name": "stderr",
     "output_type": "stream",
     "text": [
      "100%|████████████████████████████████████████████| 7/7 [00:00<00:00, 955.11it/s]\n",
      "100%|███████████████████████████████████████████| 7/7 [00:00<00:00, 1325.27it/s]\n"
     ]
    },
    {
     "name": "stdout",
     "output_type": "stream",
     "text": [
      "Z plane: 6\n"
     ]
    },
    {
     "name": "stderr",
     "output_type": "stream",
     "text": [
      "100%|███████████████████████████████████████████| 8/8 [00:00<00:00, 1250.35it/s]\n",
      "100%|███████████████████████████████████████████| 8/8 [00:00<00:00, 1138.94it/s]\n"
     ]
    },
    {
     "name": "stdout",
     "output_type": "stream",
     "text": [
      "Z plane: 7\n"
     ]
    },
    {
     "name": "stderr",
     "output_type": "stream",
     "text": [
      "100%|██████████████████████████████████████████| 10/10 [00:00<00:00, 933.81it/s]\n",
      "100%|█████████████████████████████████████████| 10/10 [00:00<00:00, 1354.49it/s]\n"
     ]
    },
    {
     "name": "stdout",
     "output_type": "stream",
     "text": [
      "Z plane: 8\n"
     ]
    },
    {
     "name": "stderr",
     "output_type": "stream",
     "text": [
      "100%|█████████████████████████████████████████| 14/14 [00:00<00:00, 1663.51it/s]\n",
      "100%|█████████████████████████████████████████| 14/14 [00:00<00:00, 2378.59it/s]\n"
     ]
    },
    {
     "name": "stdout",
     "output_type": "stream",
     "text": [
      "Z plane: 9\n"
     ]
    },
    {
     "name": "stderr",
     "output_type": "stream",
     "text": [
      "100%|█████████████████████████████████████████| 14/14 [00:00<00:00, 1689.40it/s]\n",
      "100%|█████████████████████████████████████████| 14/14 [00:00<00:00, 2052.58it/s]\n"
     ]
    },
    {
     "name": "stdout",
     "output_type": "stream",
     "text": [
      "Z plane: 10\n"
     ]
    },
    {
     "name": "stderr",
     "output_type": "stream",
     "text": [
      "100%|█████████████████████████████████████████| 14/14 [00:00<00:00, 1735.69it/s]\n",
      "100%|█████████████████████████████████████████| 13/13 [00:00<00:00, 2899.85it/s]\n"
     ]
    },
    {
     "name": "stdout",
     "output_type": "stream",
     "text": [
      "Z plane: 11\n"
     ]
    },
    {
     "name": "stderr",
     "output_type": "stream",
     "text": [
      "100%|█████████████████████████████████████████| 16/16 [00:00<00:00, 1751.92it/s]\n",
      "100%|█████████████████████████████████████████| 16/16 [00:00<00:00, 2624.31it/s]\n"
     ]
    },
    {
     "name": "stdout",
     "output_type": "stream",
     "text": [
      "Z plane: 12\n"
     ]
    },
    {
     "name": "stderr",
     "output_type": "stream",
     "text": [
      "100%|█████████████████████████████████████████| 16/16 [00:00<00:00, 2149.96it/s]\n",
      "100%|█████████████████████████████████████████| 16/16 [00:00<00:00, 2875.15it/s]\n"
     ]
    },
    {
     "name": "stdout",
     "output_type": "stream",
     "text": [
      "Z plane: 13\n"
     ]
    },
    {
     "name": "stderr",
     "output_type": "stream",
     "text": [
      "100%|█████████████████████████████████████████| 17/17 [00:00<00:00, 1868.73it/s]\n",
      "100%|█████████████████████████████████████████| 17/17 [00:00<00:00, 2460.26it/s]\n"
     ]
    },
    {
     "name": "stdout",
     "output_type": "stream",
     "text": [
      "Z plane: 14\n"
     ]
    },
    {
     "name": "stderr",
     "output_type": "stream",
     "text": [
      "100%|█████████████████████████████████████████| 20/20 [00:00<00:00, 2190.29it/s]\n",
      "100%|█████████████████████████████████████████| 19/19 [00:00<00:00, 4028.91it/s]\n"
     ]
    },
    {
     "name": "stdout",
     "output_type": "stream",
     "text": [
      "Z plane: 15\n"
     ]
    },
    {
     "name": "stderr",
     "output_type": "stream",
     "text": [
      "100%|█████████████████████████████████████████| 25/25 [00:00<00:00, 2836.06it/s]\n",
      "100%|█████████████████████████████████████████| 25/25 [00:00<00:00, 3691.13it/s]\n"
     ]
    },
    {
     "name": "stdout",
     "output_type": "stream",
     "text": [
      "Z plane: 16\n"
     ]
    },
    {
     "name": "stderr",
     "output_type": "stream",
     "text": [
      "100%|█████████████████████████████████████████| 26/26 [00:00<00:00, 2556.60it/s]\n",
      "100%|█████████████████████████████████████████| 26/26 [00:00<00:00, 4333.13it/s]\n"
     ]
    },
    {
     "name": "stdout",
     "output_type": "stream",
     "text": [
      "Z plane: 17\n"
     ]
    },
    {
     "name": "stderr",
     "output_type": "stream",
     "text": [
      "100%|█████████████████████████████████████████| 32/32 [00:00<00:00, 2436.60it/s]\n",
      "100%|█████████████████████████████████████████| 32/32 [00:00<00:00, 3945.72it/s]\n"
     ]
    },
    {
     "name": "stdout",
     "output_type": "stream",
     "text": [
      "Z plane: 18\n"
     ]
    },
    {
     "name": "stderr",
     "output_type": "stream",
     "text": [
      "100%|█████████████████████████████████████████| 30/30 [00:00<00:00, 2247.67it/s]\n",
      "100%|█████████████████████████████████████████| 30/30 [00:00<00:00, 3439.18it/s]\n"
     ]
    },
    {
     "name": "stdout",
     "output_type": "stream",
     "text": [
      "Z plane: 19\n"
     ]
    },
    {
     "name": "stderr",
     "output_type": "stream",
     "text": [
      "100%|█████████████████████████████████████████| 29/29 [00:00<00:00, 3101.90it/s]\n",
      "100%|█████████████████████████████████████████| 29/29 [00:00<00:00, 3609.56it/s]\n"
     ]
    },
    {
     "name": "stdout",
     "output_type": "stream",
     "text": [
      "Z plane: 20\n"
     ]
    },
    {
     "name": "stderr",
     "output_type": "stream",
     "text": [
      "100%|█████████████████████████████████████████| 31/31 [00:00<00:00, 2665.78it/s]\n",
      "100%|█████████████████████████████████████████| 31/31 [00:00<00:00, 4532.01it/s]\n"
     ]
    },
    {
     "name": "stdout",
     "output_type": "stream",
     "text": [
      "Z plane: 21\n"
     ]
    },
    {
     "name": "stderr",
     "output_type": "stream",
     "text": [
      "100%|█████████████████████████████████████████| 32/32 [00:00<00:00, 2760.94it/s]\n",
      "100%|█████████████████████████████████████████| 32/32 [00:00<00:00, 5211.73it/s]\n"
     ]
    },
    {
     "name": "stdout",
     "output_type": "stream",
     "text": [
      "Z plane: 22\n"
     ]
    },
    {
     "name": "stderr",
     "output_type": "stream",
     "text": [
      "100%|█████████████████████████████████████████| 30/30 [00:00<00:00, 2879.65it/s]\n",
      "100%|█████████████████████████████████████████| 30/30 [00:00<00:00, 3608.93it/s]\n"
     ]
    },
    {
     "name": "stdout",
     "output_type": "stream",
     "text": [
      "Z plane: 23\n"
     ]
    },
    {
     "name": "stderr",
     "output_type": "stream",
     "text": [
      "100%|█████████████████████████████████████████| 28/28 [00:00<00:00, 2736.01it/s]\n",
      "100%|█████████████████████████████████████████| 28/28 [00:00<00:00, 4657.38it/s]\n"
     ]
    },
    {
     "name": "stdout",
     "output_type": "stream",
     "text": [
      "Z plane: 24\n"
     ]
    },
    {
     "name": "stderr",
     "output_type": "stream",
     "text": [
      "100%|█████████████████████████████████████████| 30/30 [00:00<00:00, 1873.35it/s]\n",
      "100%|█████████████████████████████████████████| 30/30 [00:00<00:00, 4063.85it/s]\n"
     ]
    },
    {
     "name": "stdout",
     "output_type": "stream",
     "text": [
      "Z plane: 25\n"
     ]
    },
    {
     "name": "stderr",
     "output_type": "stream",
     "text": [
      "100%|█████████████████████████████████████████| 30/30 [00:00<00:00, 1879.45it/s]\n",
      "100%|█████████████████████████████████████████| 30/30 [00:00<00:00, 4318.39it/s]\n"
     ]
    },
    {
     "name": "stdout",
     "output_type": "stream",
     "text": [
      "Z plane: 26\n"
     ]
    },
    {
     "name": "stderr",
     "output_type": "stream",
     "text": [
      "100%|█████████████████████████████████████████| 25/25 [00:00<00:00, 1527.36it/s]\n",
      "100%|█████████████████████████████████████████| 25/25 [00:00<00:00, 6485.50it/s]\n"
     ]
    },
    {
     "name": "stdout",
     "output_type": "stream",
     "text": [
      "Z plane: 27\n"
     ]
    },
    {
     "name": "stderr",
     "output_type": "stream",
     "text": [
      "100%|█████████████████████████████████████████| 25/25 [00:00<00:00, 2433.06it/s]\n",
      "100%|█████████████████████████████████████████| 25/25 [00:00<00:00, 3933.29it/s]\n"
     ]
    },
    {
     "name": "stdout",
     "output_type": "stream",
     "text": [
      "Z plane: 28\n"
     ]
    },
    {
     "name": "stderr",
     "output_type": "stream",
     "text": [
      "100%|█████████████████████████████████████████| 22/22 [00:00<00:00, 1839.46it/s]\n",
      "100%|█████████████████████████████████████████| 22/22 [00:00<00:00, 2318.40it/s]\n"
     ]
    },
    {
     "name": "stdout",
     "output_type": "stream",
     "text": [
      "Z plane: 29\n"
     ]
    },
    {
     "name": "stderr",
     "output_type": "stream",
     "text": [
      "100%|█████████████████████████████████████████| 22/22 [00:00<00:00, 2012.27it/s]\n",
      "100%|█████████████████████████████████████████| 22/22 [00:00<00:00, 2618.46it/s]\n"
     ]
    },
    {
     "name": "stdout",
     "output_type": "stream",
     "text": [
      "Z plane: 30\n"
     ]
    },
    {
     "name": "stderr",
     "output_type": "stream",
     "text": [
      "100%|█████████████████████████████████████████| 17/17 [00:00<00:00, 1272.63it/s]\n",
      "100%|█████████████████████████████████████████| 17/17 [00:00<00:00, 2324.62it/s]\n"
     ]
    },
    {
     "name": "stdout",
     "output_type": "stream",
     "text": [
      "Z plane: 31\n"
     ]
    },
    {
     "name": "stderr",
     "output_type": "stream",
     "text": [
      "100%|█████████████████████████████████████████| 15/15 [00:00<00:00, 1387.98it/s]\n",
      "100%|█████████████████████████████████████████| 15/15 [00:00<00:00, 2059.87it/s]\n"
     ]
    },
    {
     "name": "stdout",
     "output_type": "stream",
     "text": [
      "Time point: 29\n",
      "Z plane: 0\n"
     ]
    },
    {
     "name": "stderr",
     "output_type": "stream",
     "text": [
      "100%|███████████████████████████████████████████| 3/3 [00:00<00:00, 2146.52it/s]\n",
      "100%|████████████████████████████████████████████| 3/3 [00:00<00:00, 739.87it/s]\n"
     ]
    },
    {
     "name": "stdout",
     "output_type": "stream",
     "text": [
      "Z plane: 1\n"
     ]
    },
    {
     "name": "stderr",
     "output_type": "stream",
     "text": [
      "100%|███████████████████████████████████████████| 3/3 [00:00<00:00, 1486.46it/s]\n",
      "100%|████████████████████████████████████████████| 3/3 [00:00<00:00, 862.85it/s]\n"
     ]
    },
    {
     "name": "stdout",
     "output_type": "stream",
     "text": [
      "Z plane: 2\n"
     ]
    },
    {
     "name": "stderr",
     "output_type": "stream",
     "text": [
      "100%|████████████████████████████████████████████| 3/3 [00:00<00:00, 890.45it/s]\n",
      "100%|███████████████████████████████████████████| 3/3 [00:00<00:00, 1925.46it/s]\n"
     ]
    },
    {
     "name": "stdout",
     "output_type": "stream",
     "text": [
      "Z plane: 3\n"
     ]
    },
    {
     "name": "stderr",
     "output_type": "stream",
     "text": [
      "100%|███████████████████████████████████████████| 3/3 [00:00<00:00, 1014.26it/s]\n",
      "100%|████████████████████████████████████████████| 3/3 [00:00<00:00, 903.10it/s]\n"
     ]
    },
    {
     "name": "stdout",
     "output_type": "stream",
     "text": [
      "Z plane: 4\n"
     ]
    },
    {
     "name": "stderr",
     "output_type": "stream",
     "text": [
      "100%|███████████████████████████████████████████| 4/4 [00:00<00:00, 1000.01it/s]\n",
      "100%|███████████████████████████████████████████| 4/4 [00:00<00:00, 1040.83it/s]\n"
     ]
    },
    {
     "name": "stdout",
     "output_type": "stream",
     "text": [
      "Z plane: 5\n"
     ]
    },
    {
     "name": "stderr",
     "output_type": "stream",
     "text": [
      "100%|████████████████████████████████████████████| 7/7 [00:00<00:00, 930.00it/s]\n",
      "100%|███████████████████████████████████████████| 7/7 [00:00<00:00, 1214.89it/s]\n"
     ]
    },
    {
     "name": "stdout",
     "output_type": "stream",
     "text": [
      "Z plane: 6\n"
     ]
    },
    {
     "name": "stderr",
     "output_type": "stream",
     "text": [
      "100%|███████████████████████████████████████████| 9/9 [00:00<00:00, 2038.93it/s]\n",
      "100%|███████████████████████████████████████████| 9/9 [00:00<00:00, 2240.02it/s]\n"
     ]
    },
    {
     "name": "stdout",
     "output_type": "stream",
     "text": [
      "Z plane: 7\n"
     ]
    },
    {
     "name": "stderr",
     "output_type": "stream",
     "text": [
      "100%|█████████████████████████████████████████| 10/10 [00:00<00:00, 2346.73it/s]\n",
      "100%|█████████████████████████████████████████| 10/10 [00:00<00:00, 3093.14it/s]\n"
     ]
    },
    {
     "name": "stdout",
     "output_type": "stream",
     "text": [
      "Z plane: 8\n"
     ]
    },
    {
     "name": "stderr",
     "output_type": "stream",
     "text": [
      "100%|█████████████████████████████████████████| 13/13 [00:00<00:00, 1216.77it/s]\n",
      "100%|█████████████████████████████████████████| 13/13 [00:00<00:00, 2093.13it/s]\n"
     ]
    },
    {
     "name": "stdout",
     "output_type": "stream",
     "text": [
      "Z plane: 9\n"
     ]
    },
    {
     "name": "stderr",
     "output_type": "stream",
     "text": [
      "100%|█████████████████████████████████████████| 14/14 [00:00<00:00, 1414.71it/s]\n",
      "100%|█████████████████████████████████████████| 14/14 [00:00<00:00, 2128.01it/s]\n"
     ]
    },
    {
     "name": "stdout",
     "output_type": "stream",
     "text": [
      "Z plane: 10\n"
     ]
    },
    {
     "name": "stderr",
     "output_type": "stream",
     "text": [
      "100%|█████████████████████████████████████████| 14/14 [00:00<00:00, 1576.72it/s]\n",
      "100%|█████████████████████████████████████████| 14/14 [00:00<00:00, 2387.88it/s]\n"
     ]
    },
    {
     "name": "stdout",
     "output_type": "stream",
     "text": [
      "Z plane: 11\n"
     ]
    },
    {
     "name": "stderr",
     "output_type": "stream",
     "text": [
      "100%|█████████████████████████████████████████| 17/17 [00:00<00:00, 1552.67it/s]\n",
      "100%|█████████████████████████████████████████| 17/17 [00:00<00:00, 2281.26it/s]\n"
     ]
    },
    {
     "name": "stdout",
     "output_type": "stream",
     "text": [
      "Z plane: 12\n"
     ]
    },
    {
     "name": "stderr",
     "output_type": "stream",
     "text": [
      "100%|█████████████████████████████████████████| 17/17 [00:00<00:00, 1772.65it/s]\n",
      "100%|█████████████████████████████████████████| 17/17 [00:00<00:00, 2291.38it/s]\n"
     ]
    },
    {
     "name": "stdout",
     "output_type": "stream",
     "text": [
      "Z plane: 13\n"
     ]
    },
    {
     "name": "stderr",
     "output_type": "stream",
     "text": [
      "100%|█████████████████████████████████████████| 18/18 [00:00<00:00, 1750.14it/s]\n",
      "100%|█████████████████████████████████████████| 18/18 [00:00<00:00, 1953.77it/s]\n"
     ]
    },
    {
     "name": "stdout",
     "output_type": "stream",
     "text": [
      "Z plane: 14\n"
     ]
    },
    {
     "name": "stderr",
     "output_type": "stream",
     "text": [
      "100%|█████████████████████████████████████████| 21/21 [00:00<00:00, 2543.98it/s]\n",
      "100%|█████████████████████████████████████████| 20/20 [00:00<00:00, 2486.03it/s]\n"
     ]
    },
    {
     "name": "stdout",
     "output_type": "stream",
     "text": [
      "Z plane: 15\n"
     ]
    },
    {
     "name": "stderr",
     "output_type": "stream",
     "text": [
      "100%|█████████████████████████████████████████| 28/28 [00:00<00:00, 3390.71it/s]\n",
      "100%|█████████████████████████████████████████| 23/23 [00:00<00:00, 3426.11it/s]\n"
     ]
    },
    {
     "name": "stdout",
     "output_type": "stream",
     "text": [
      "Z plane: 16\n"
     ]
    },
    {
     "name": "stderr",
     "output_type": "stream",
     "text": [
      "100%|█████████████████████████████████████████| 30/30 [00:00<00:00, 2387.97it/s]\n",
      "100%|█████████████████████████████████████████| 26/26 [00:00<00:00, 4682.35it/s]\n"
     ]
    },
    {
     "name": "stdout",
     "output_type": "stream",
     "text": [
      "Z plane: 17\n"
     ]
    },
    {
     "name": "stderr",
     "output_type": "stream",
     "text": [
      "100%|█████████████████████████████████████████| 35/35 [00:00<00:00, 2813.03it/s]\n",
      "100%|█████████████████████████████████████████| 29/29 [00:00<00:00, 3452.30it/s]\n"
     ]
    },
    {
     "name": "stdout",
     "output_type": "stream",
     "text": [
      "Z plane: 18\n"
     ]
    },
    {
     "name": "stderr",
     "output_type": "stream",
     "text": [
      "100%|█████████████████████████████████████████| 26/26 [00:00<00:00, 2251.93it/s]\n",
      "100%|█████████████████████████████████████████| 25/25 [00:00<00:00, 3043.23it/s]\n"
     ]
    },
    {
     "name": "stdout",
     "output_type": "stream",
     "text": [
      "Z plane: 19\n"
     ]
    },
    {
     "name": "stderr",
     "output_type": "stream",
     "text": [
      "100%|█████████████████████████████████████████| 28/28 [00:00<00:00, 2368.52it/s]\n",
      "100%|█████████████████████████████████████████| 28/28 [00:00<00:00, 3061.54it/s]\n"
     ]
    },
    {
     "name": "stdout",
     "output_type": "stream",
     "text": [
      "Z plane: 20\n"
     ]
    },
    {
     "name": "stderr",
     "output_type": "stream",
     "text": [
      "100%|█████████████████████████████████████████| 29/29 [00:00<00:00, 2641.13it/s]\n",
      "100%|█████████████████████████████████████████| 29/29 [00:00<00:00, 2930.82it/s]\n"
     ]
    },
    {
     "name": "stdout",
     "output_type": "stream",
     "text": [
      "Z plane: 21\n"
     ]
    },
    {
     "name": "stderr",
     "output_type": "stream",
     "text": [
      "100%|█████████████████████████████████████████| 31/31 [00:00<00:00, 3845.14it/s]\n",
      "100%|█████████████████████████████████████████| 31/31 [00:00<00:00, 4244.97it/s]\n"
     ]
    },
    {
     "name": "stdout",
     "output_type": "stream",
     "text": [
      "Z plane: 22\n"
     ]
    },
    {
     "name": "stderr",
     "output_type": "stream",
     "text": [
      "100%|█████████████████████████████████████████| 30/30 [00:00<00:00, 3138.67it/s]\n",
      "100%|█████████████████████████████████████████| 30/30 [00:00<00:00, 5827.58it/s]\n"
     ]
    },
    {
     "name": "stdout",
     "output_type": "stream",
     "text": [
      "Z plane: 23\n"
     ]
    },
    {
     "name": "stderr",
     "output_type": "stream",
     "text": [
      "100%|█████████████████████████████████████████| 30/30 [00:00<00:00, 4397.62it/s]\n",
      "100%|█████████████████████████████████████████| 30/30 [00:00<00:00, 3941.27it/s]\n"
     ]
    },
    {
     "name": "stdout",
     "output_type": "stream",
     "text": [
      "Z plane: 24\n"
     ]
    },
    {
     "name": "stderr",
     "output_type": "stream",
     "text": [
      "100%|█████████████████████████████████████████| 28/28 [00:00<00:00, 2952.92it/s]\n",
      "100%|█████████████████████████████████████████| 28/28 [00:00<00:00, 3503.91it/s]\n"
     ]
    },
    {
     "name": "stdout",
     "output_type": "stream",
     "text": [
      "Z plane: 25\n"
     ]
    },
    {
     "name": "stderr",
     "output_type": "stream",
     "text": [
      "100%|█████████████████████████████████████████| 26/26 [00:00<00:00, 2336.51it/s]\n",
      "100%|█████████████████████████████████████████| 26/26 [00:00<00:00, 3522.58it/s]\n"
     ]
    },
    {
     "name": "stdout",
     "output_type": "stream",
     "text": [
      "Z plane: 26\n"
     ]
    },
    {
     "name": "stderr",
     "output_type": "stream",
     "text": [
      "100%|█████████████████████████████████████████| 21/21 [00:00<00:00, 2051.00it/s]\n",
      "100%|█████████████████████████████████████████| 21/21 [00:00<00:00, 3159.38it/s]\n"
     ]
    },
    {
     "name": "stdout",
     "output_type": "stream",
     "text": [
      "Z plane: 27\n"
     ]
    },
    {
     "name": "stderr",
     "output_type": "stream",
     "text": [
      "100%|█████████████████████████████████████████| 21/21 [00:00<00:00, 2047.38it/s]\n",
      "100%|█████████████████████████████████████████| 21/21 [00:00<00:00, 3175.10it/s]\n"
     ]
    },
    {
     "name": "stdout",
     "output_type": "stream",
     "text": [
      "Z plane: 28\n"
     ]
    },
    {
     "name": "stderr",
     "output_type": "stream",
     "text": [
      "100%|█████████████████████████████████████████| 16/16 [00:00<00:00, 1819.01it/s]\n",
      "100%|█████████████████████████████████████████| 16/16 [00:00<00:00, 2892.87it/s]\n"
     ]
    },
    {
     "name": "stdout",
     "output_type": "stream",
     "text": [
      "Z plane: 29\n"
     ]
    },
    {
     "name": "stderr",
     "output_type": "stream",
     "text": [
      "100%|█████████████████████████████████████████| 16/16 [00:00<00:00, 1804.00it/s]\n",
      "100%|█████████████████████████████████████████| 16/16 [00:00<00:00, 1939.67it/s]\n"
     ]
    },
    {
     "name": "stdout",
     "output_type": "stream",
     "text": [
      "Z plane: 30\n"
     ]
    },
    {
     "name": "stderr",
     "output_type": "stream",
     "text": [
      "100%|█████████████████████████████████████████| 12/12 [00:00<00:00, 1405.36it/s]\n",
      "100%|█████████████████████████████████████████| 12/12 [00:00<00:00, 2262.91it/s]\n"
     ]
    },
    {
     "name": "stdout",
     "output_type": "stream",
     "text": [
      "Z plane: 31\n"
     ]
    },
    {
     "name": "stderr",
     "output_type": "stream",
     "text": [
      "100%|█████████████████████████████████████████| 13/13 [00:00<00:00, 1908.97it/s]\n",
      "100%|█████████████████████████████████████████| 13/13 [00:00<00:00, 1864.84it/s]\n"
     ]
    },
    {
     "name": "stdout",
     "output_type": "stream",
     "text": [
      "Time point: 30\n",
      "Z plane: 0\n"
     ]
    },
    {
     "name": "stderr",
     "output_type": "stream",
     "text": [
      "100%|███████████████████████████████████████████| 3/3 [00:00<00:00, 1034.18it/s]\n",
      "100%|████████████████████████████████████████████| 3/3 [00:00<00:00, 818.51it/s]\n"
     ]
    },
    {
     "name": "stdout",
     "output_type": "stream",
     "text": [
      "Z plane: 1\n"
     ]
    },
    {
     "name": "stderr",
     "output_type": "stream",
     "text": [
      "100%|████████████████████████████████████████████| 3/3 [00:00<00:00, 872.12it/s]\n",
      "100%|███████████████████████████████████████████| 3/3 [00:00<00:00, 1229.04it/s]\n"
     ]
    },
    {
     "name": "stdout",
     "output_type": "stream",
     "text": [
      "Z plane: 2\n"
     ]
    },
    {
     "name": "stderr",
     "output_type": "stream",
     "text": [
      "100%|████████████████████████████████████████████| 3/3 [00:00<00:00, 850.89it/s]\n",
      "100%|████████████████████████████████████████████| 3/3 [00:00<00:00, 923.38it/s]\n"
     ]
    },
    {
     "name": "stdout",
     "output_type": "stream",
     "text": [
      "Z plane: 3\n"
     ]
    },
    {
     "name": "stderr",
     "output_type": "stream",
     "text": [
      "100%|████████████████████████████████████████████| 3/3 [00:00<00:00, 825.11it/s]\n",
      "100%|████████████████████████████████████████████| 3/3 [00:00<00:00, 902.84it/s]\n"
     ]
    },
    {
     "name": "stdout",
     "output_type": "stream",
     "text": [
      "Z plane: 4\n"
     ]
    },
    {
     "name": "stderr",
     "output_type": "stream",
     "text": [
      "100%|███████████████████████████████████████████| 3/3 [00:00<00:00, 1209.31it/s]\n",
      "100%|████████████████████████████████████████████| 3/3 [00:00<00:00, 819.04it/s]\n"
     ]
    },
    {
     "name": "stdout",
     "output_type": "stream",
     "text": [
      "Z plane: 5\n"
     ]
    },
    {
     "name": "stderr",
     "output_type": "stream",
     "text": [
      "100%|███████████████████████████████████████████| 3/3 [00:00<00:00, 1775.24it/s]\n",
      "100%|███████████████████████████████████████████| 3/3 [00:00<00:00, 1383.35it/s]\n"
     ]
    },
    {
     "name": "stdout",
     "output_type": "stream",
     "text": [
      "Z plane: 6\n"
     ]
    },
    {
     "name": "stderr",
     "output_type": "stream",
     "text": [
      "100%|████████████████████████████████████████████| 3/3 [00:00<00:00, 752.43it/s]\n",
      "100%|███████████████████████████████████████████| 3/3 [00:00<00:00, 1113.24it/s]\n"
     ]
    },
    {
     "name": "stdout",
     "output_type": "stream",
     "text": [
      "Z plane: 7\n"
     ]
    },
    {
     "name": "stderr",
     "output_type": "stream",
     "text": [
      "100%|███████████████████████████████████████████| 3/3 [00:00<00:00, 2531.26it/s]\n",
      "100%|███████████████████████████████████████████| 3/3 [00:00<00:00, 1519.68it/s]\n"
     ]
    },
    {
     "name": "stdout",
     "output_type": "stream",
     "text": [
      "Z plane: 8\n"
     ]
    },
    {
     "name": "stderr",
     "output_type": "stream",
     "text": [
      "100%|███████████████████████████████████████████| 7/7 [00:00<00:00, 1190.45it/s]\n",
      "100%|███████████████████████████████████████████| 7/7 [00:00<00:00, 1544.62it/s]\n"
     ]
    },
    {
     "name": "stdout",
     "output_type": "stream",
     "text": [
      "Z plane: 9\n"
     ]
    },
    {
     "name": "stderr",
     "output_type": "stream",
     "text": [
      "100%|███████████████████████████████████████████| 9/9 [00:00<00:00, 1167.03it/s]\n",
      "100%|███████████████████████████████████████████| 9/9 [00:00<00:00, 2283.65it/s]\n"
     ]
    },
    {
     "name": "stdout",
     "output_type": "stream",
     "text": [
      "Z plane: 10\n"
     ]
    },
    {
     "name": "stderr",
     "output_type": "stream",
     "text": [
      "100%|█████████████████████████████████████████| 11/11 [00:00<00:00, 1509.93it/s]\n",
      "100%|█████████████████████████████████████████| 11/11 [00:00<00:00, 1985.08it/s]\n"
     ]
    },
    {
     "name": "stdout",
     "output_type": "stream",
     "text": [
      "Z plane: 11\n"
     ]
    },
    {
     "name": "stderr",
     "output_type": "stream",
     "text": [
      "100%|█████████████████████████████████████████| 17/17 [00:00<00:00, 2042.54it/s]\n",
      "100%|█████████████████████████████████████████| 17/17 [00:00<00:00, 3899.97it/s]\n"
     ]
    },
    {
     "name": "stdout",
     "output_type": "stream",
     "text": [
      "Z plane: 12\n"
     ]
    },
    {
     "name": "stderr",
     "output_type": "stream",
     "text": [
      "100%|█████████████████████████████████████████| 20/20 [00:00<00:00, 2373.01it/s]\n",
      "100%|█████████████████████████████████████████| 20/20 [00:00<00:00, 3377.87it/s]\n"
     ]
    },
    {
     "name": "stdout",
     "output_type": "stream",
     "text": [
      "Z plane: 13\n"
     ]
    },
    {
     "name": "stderr",
     "output_type": "stream",
     "text": [
      "100%|█████████████████████████████████████████| 23/23 [00:00<00:00, 2231.06it/s]\n",
      "100%|█████████████████████████████████████████| 23/23 [00:00<00:00, 3752.64it/s]\n"
     ]
    },
    {
     "name": "stdout",
     "output_type": "stream",
     "text": [
      "Z plane: 14\n"
     ]
    },
    {
     "name": "stderr",
     "output_type": "stream",
     "text": [
      "100%|█████████████████████████████████████████| 24/24 [00:00<00:00, 3745.75it/s]\n",
      "100%|█████████████████████████████████████████| 24/24 [00:00<00:00, 8495.51it/s]\n"
     ]
    },
    {
     "name": "stdout",
     "output_type": "stream",
     "text": [
      "Z plane: 15\n"
     ]
    },
    {
     "name": "stderr",
     "output_type": "stream",
     "text": [
      "100%|█████████████████████████████████████████| 30/30 [00:00<00:00, 4629.64it/s]\n",
      "100%|█████████████████████████████████████████| 30/30 [00:00<00:00, 9066.81it/s]\n"
     ]
    },
    {
     "name": "stdout",
     "output_type": "stream",
     "text": [
      "Z plane: 16\n"
     ]
    },
    {
     "name": "stderr",
     "output_type": "stream",
     "text": [
      "100%|█████████████████████████████████████████| 31/31 [00:00<00:00, 4331.95it/s]\n",
      "100%|█████████████████████████████████████████| 31/31 [00:00<00:00, 6365.90it/s]\n"
     ]
    },
    {
     "name": "stdout",
     "output_type": "stream",
     "text": [
      "Z plane: 17\n"
     ]
    },
    {
     "name": "stderr",
     "output_type": "stream",
     "text": [
      "100%|█████████████████████████████████████████| 35/35 [00:00<00:00, 4118.18it/s]\n",
      "100%|█████████████████████████████████████████| 35/35 [00:00<00:00, 8021.89it/s]\n"
     ]
    },
    {
     "name": "stdout",
     "output_type": "stream",
     "text": [
      "Z plane: 18\n"
     ]
    },
    {
     "name": "stderr",
     "output_type": "stream",
     "text": [
      "100%|█████████████████████████████████████████| 40/40 [00:00<00:00, 4119.84it/s]\n",
      "100%|█████████████████████████████████████████| 38/38 [00:00<00:00, 6916.79it/s]\n"
     ]
    },
    {
     "name": "stdout",
     "output_type": "stream",
     "text": [
      "Z plane: 19\n"
     ]
    },
    {
     "name": "stderr",
     "output_type": "stream",
     "text": [
      "100%|█████████████████████████████████████████| 39/39 [00:00<00:00, 7378.01it/s]\n",
      "100%|█████████████████████████████████████████| 39/39 [00:00<00:00, 7338.95it/s]\n"
     ]
    },
    {
     "name": "stdout",
     "output_type": "stream",
     "text": [
      "Z plane: 20\n"
     ]
    },
    {
     "name": "stderr",
     "output_type": "stream",
     "text": [
      "100%|█████████████████████████████████████████| 39/39 [00:00<00:00, 4282.25it/s]\n",
      "100%|█████████████████████████████████████████| 39/39 [00:00<00:00, 4507.27it/s]\n"
     ]
    },
    {
     "name": "stdout",
     "output_type": "stream",
     "text": [
      "Z plane: 21\n"
     ]
    },
    {
     "name": "stderr",
     "output_type": "stream",
     "text": [
      "100%|████████████████████████████████████████| 41/41 [00:00<00:00, 10439.93it/s]\n",
      "100%|████████████████████████████████████████| 41/41 [00:00<00:00, 16041.65it/s]\n"
     ]
    },
    {
     "name": "stdout",
     "output_type": "stream",
     "text": [
      "Z plane: 22\n"
     ]
    },
    {
     "name": "stderr",
     "output_type": "stream",
     "text": [
      "100%|█████████████████████████████████████████| 39/39 [00:00<00:00, 4662.86it/s]\n",
      "100%|█████████████████████████████████████████| 39/39 [00:00<00:00, 7575.85it/s]\n"
     ]
    },
    {
     "name": "stdout",
     "output_type": "stream",
     "text": [
      "Z plane: 23\n"
     ]
    },
    {
     "name": "stderr",
     "output_type": "stream",
     "text": [
      "100%|█████████████████████████████████████████| 33/33 [00:00<00:00, 4027.82it/s]\n",
      "100%|█████████████████████████████████████████| 33/33 [00:00<00:00, 5105.19it/s]\n"
     ]
    },
    {
     "name": "stdout",
     "output_type": "stream",
     "text": [
      "Z plane: 24\n"
     ]
    },
    {
     "name": "stderr",
     "output_type": "stream",
     "text": [
      "100%|█████████████████████████████████████████| 28/28 [00:00<00:00, 2319.22it/s]\n",
      "100%|█████████████████████████████████████████| 28/28 [00:00<00:00, 3857.97it/s]\n"
     ]
    },
    {
     "name": "stdout",
     "output_type": "stream",
     "text": [
      "Z plane: 25\n"
     ]
    },
    {
     "name": "stderr",
     "output_type": "stream",
     "text": [
      "100%|█████████████████████████████████████████| 22/22 [00:00<00:00, 2468.29it/s]\n",
      "100%|█████████████████████████████████████████| 22/22 [00:00<00:00, 4546.45it/s]\n"
     ]
    },
    {
     "name": "stdout",
     "output_type": "stream",
     "text": [
      "Z plane: 26\n"
     ]
    },
    {
     "name": "stderr",
     "output_type": "stream",
     "text": [
      "100%|█████████████████████████████████████████| 17/17 [00:00<00:00, 2878.49it/s]\n",
      "100%|█████████████████████████████████████████| 17/17 [00:00<00:00, 2560.26it/s]\n"
     ]
    },
    {
     "name": "stdout",
     "output_type": "stream",
     "text": [
      "Z plane: 27\n"
     ]
    },
    {
     "name": "stderr",
     "output_type": "stream",
     "text": [
      "100%|█████████████████████████████████████████| 18/18 [00:00<00:00, 3288.79it/s]\n",
      "100%|█████████████████████████████████████████| 18/18 [00:00<00:00, 2755.99it/s]\n"
     ]
    },
    {
     "name": "stdout",
     "output_type": "stream",
     "text": [
      "Z plane: 28\n"
     ]
    },
    {
     "name": "stderr",
     "output_type": "stream",
     "text": [
      "100%|█████████████████████████████████████████| 12/12 [00:00<00:00, 1774.30it/s]\n",
      "100%|█████████████████████████████████████████| 12/12 [00:00<00:00, 1581.21it/s]\n"
     ]
    },
    {
     "name": "stdout",
     "output_type": "stream",
     "text": [
      "Z plane: 29\n"
     ]
    },
    {
     "name": "stderr",
     "output_type": "stream",
     "text": [
      "100%|███████████████████████████████████████████| 8/8 [00:00<00:00, 1287.58it/s]\n",
      "100%|███████████████████████████████████████████| 8/8 [00:00<00:00, 1375.29it/s]\n"
     ]
    },
    {
     "name": "stdout",
     "output_type": "stream",
     "text": [
      "Z plane: 30\n"
     ]
    },
    {
     "name": "stderr",
     "output_type": "stream",
     "text": [
      "100%|███████████████████████████████████████████| 9/9 [00:00<00:00, 1783.97it/s]\n",
      "100%|███████████████████████████████████████████| 9/9 [00:00<00:00, 1603.19it/s]\n"
     ]
    },
    {
     "name": "stdout",
     "output_type": "stream",
     "text": [
      "Z plane: 31\n"
     ]
    },
    {
     "name": "stderr",
     "output_type": "stream",
     "text": [
      "100%|███████████████████████████████████████████| 8/8 [00:00<00:00, 1710.48it/s]\n",
      "100%|████████████████████████████████████████████| 8/8 [00:00<00:00, 951.01it/s]\n"
     ]
    },
    {
     "name": "stdout",
     "output_type": "stream",
     "text": [
      "Time point: 31\n",
      "Z plane: 0\n"
     ]
    },
    {
     "name": "stderr",
     "output_type": "stream",
     "text": [
      "100%|████████████████████████████████████████████| 3/3 [00:00<00:00, 888.69it/s]\n",
      "100%|████████████████████████████████████████████| 3/3 [00:00<00:00, 682.93it/s]\n"
     ]
    },
    {
     "name": "stdout",
     "output_type": "stream",
     "text": [
      "Z plane: 1\n"
     ]
    },
    {
     "name": "stderr",
     "output_type": "stream",
     "text": [
      "100%|███████████████████████████████████████████| 3/3 [00:00<00:00, 1212.58it/s]\n",
      "100%|████████████████████████████████████████████| 3/3 [00:00<00:00, 938.39it/s]\n"
     ]
    },
    {
     "name": "stdout",
     "output_type": "stream",
     "text": [
      "Z plane: 2\n"
     ]
    },
    {
     "name": "stderr",
     "output_type": "stream",
     "text": [
      "100%|███████████████████████████████████████████| 3/3 [00:00<00:00, 1407.96it/s]\n",
      "100%|████████████████████████████████████████████| 3/3 [00:00<00:00, 604.45it/s]\n"
     ]
    },
    {
     "name": "stdout",
     "output_type": "stream",
     "text": [
      "Z plane: 3\n"
     ]
    },
    {
     "name": "stderr",
     "output_type": "stream",
     "text": [
      "100%|███████████████████████████████████████████| 4/4 [00:00<00:00, 2305.51it/s]\n",
      "100%|███████████████████████████████████████████| 4/4 [00:00<00:00, 2238.16it/s]\n"
     ]
    },
    {
     "name": "stdout",
     "output_type": "stream",
     "text": [
      "Z plane: 4\n"
     ]
    },
    {
     "name": "stderr",
     "output_type": "stream",
     "text": [
      "100%|███████████████████████████████████████████| 3/3 [00:00<00:00, 1510.55it/s]\n",
      "100%|████████████████████████████████████████████| 3/3 [00:00<00:00, 779.42it/s]\n"
     ]
    },
    {
     "name": "stdout",
     "output_type": "stream",
     "text": [
      "Z plane: 5\n"
     ]
    },
    {
     "name": "stderr",
     "output_type": "stream",
     "text": [
      "100%|███████████████████████████████████████████| 3/3 [00:00<00:00, 1003.66it/s]\n",
      "100%|████████████████████████████████████████████| 3/3 [00:00<00:00, 910.49it/s]\n"
     ]
    },
    {
     "name": "stdout",
     "output_type": "stream",
     "text": [
      "Z plane: 6\n"
     ]
    },
    {
     "name": "stderr",
     "output_type": "stream",
     "text": [
      "100%|███████████████████████████████████████████| 3/3 [00:00<00:00, 1182.94it/s]\n",
      "100%|███████████████████████████████████████████| 3/3 [00:00<00:00, 1101.64it/s]\n"
     ]
    },
    {
     "name": "stdout",
     "output_type": "stream",
     "text": [
      "Z plane: 7\n"
     ]
    },
    {
     "name": "stderr",
     "output_type": "stream",
     "text": [
      "100%|███████████████████████████████████████████| 4/4 [00:00<00:00, 1112.33it/s]\n",
      "100%|████████████████████████████████████████████| 4/4 [00:00<00:00, 923.55it/s]\n"
     ]
    },
    {
     "name": "stdout",
     "output_type": "stream",
     "text": [
      "Z plane: 8\n"
     ]
    },
    {
     "name": "stderr",
     "output_type": "stream",
     "text": [
      "100%|███████████████████████████████████████████| 8/8 [00:00<00:00, 1474.14it/s]\n",
      "100%|███████████████████████████████████████████| 8/8 [00:00<00:00, 1812.48it/s]\n"
     ]
    },
    {
     "name": "stdout",
     "output_type": "stream",
     "text": [
      "Z plane: 9\n"
     ]
    },
    {
     "name": "stderr",
     "output_type": "stream",
     "text": [
      "100%|███████████████████████████████████████████| 9/9 [00:00<00:00, 1194.13it/s]\n",
      "100%|███████████████████████████████████████████| 9/9 [00:00<00:00, 1584.22it/s]\n"
     ]
    },
    {
     "name": "stdout",
     "output_type": "stream",
     "text": [
      "Z plane: 10\n"
     ]
    },
    {
     "name": "stderr",
     "output_type": "stream",
     "text": [
      "100%|█████████████████████████████████████████| 11/11 [00:00<00:00, 1741.03it/s]\n",
      "100%|█████████████████████████████████████████| 11/11 [00:00<00:00, 1789.17it/s]\n"
     ]
    },
    {
     "name": "stdout",
     "output_type": "stream",
     "text": [
      "Z plane: 11\n"
     ]
    },
    {
     "name": "stderr",
     "output_type": "stream",
     "text": [
      "100%|█████████████████████████████████████████| 14/14 [00:00<00:00, 2807.43it/s]\n",
      "100%|█████████████████████████████████████████| 14/14 [00:00<00:00, 5864.99it/s]\n"
     ]
    },
    {
     "name": "stdout",
     "output_type": "stream",
     "text": [
      "Z plane: 12\n"
     ]
    },
    {
     "name": "stderr",
     "output_type": "stream",
     "text": [
      "100%|█████████████████████████████████████████| 20/20 [00:00<00:00, 2375.30it/s]\n",
      "100%|█████████████████████████████████████████| 20/20 [00:00<00:00, 3488.57it/s]\n"
     ]
    },
    {
     "name": "stdout",
     "output_type": "stream",
     "text": [
      "Z plane: 13\n"
     ]
    },
    {
     "name": "stderr",
     "output_type": "stream",
     "text": [
      "100%|█████████████████████████████████████████| 24/24 [00:00<00:00, 2496.18it/s]\n",
      "100%|█████████████████████████████████████████| 23/23 [00:00<00:00, 3493.86it/s]\n"
     ]
    },
    {
     "name": "stdout",
     "output_type": "stream",
     "text": [
      "Z plane: 14\n"
     ]
    },
    {
     "name": "stderr",
     "output_type": "stream",
     "text": [
      "100%|█████████████████████████████████████████| 28/28 [00:00<00:00, 4210.09it/s]\n",
      "100%|█████████████████████████████████████████| 28/28 [00:00<00:00, 3854.68it/s]\n"
     ]
    },
    {
     "name": "stdout",
     "output_type": "stream",
     "text": [
      "Z plane: 15\n"
     ]
    },
    {
     "name": "stderr",
     "output_type": "stream",
     "text": [
      "100%|█████████████████████████████████████████| 34/34 [00:00<00:00, 3057.79it/s]\n",
      "100%|█████████████████████████████████████████| 34/34 [00:00<00:00, 4572.91it/s]\n"
     ]
    },
    {
     "name": "stdout",
     "output_type": "stream",
     "text": [
      "Z plane: 16\n"
     ]
    },
    {
     "name": "stderr",
     "output_type": "stream",
     "text": [
      "100%|█████████████████████████████████████████| 36/36 [00:00<00:00, 2722.15it/s]\n",
      "100%|█████████████████████████████████████████| 36/36 [00:00<00:00, 6690.07it/s]\n"
     ]
    },
    {
     "name": "stdout",
     "output_type": "stream",
     "text": [
      "Z plane: 17\n"
     ]
    },
    {
     "name": "stderr",
     "output_type": "stream",
     "text": [
      "100%|█████████████████████████████████████████| 36/36 [00:00<00:00, 3361.34it/s]\n",
      "100%|█████████████████████████████████████████| 36/36 [00:00<00:00, 5654.82it/s]\n"
     ]
    },
    {
     "name": "stdout",
     "output_type": "stream",
     "text": [
      "Z plane: 18\n"
     ]
    },
    {
     "name": "stderr",
     "output_type": "stream",
     "text": [
      "100%|█████████████████████████████████████████| 38/38 [00:00<00:00, 2698.35it/s]\n",
      "100%|█████████████████████████████████████████| 37/37 [00:00<00:00, 5125.99it/s]\n"
     ]
    },
    {
     "name": "stdout",
     "output_type": "stream",
     "text": [
      "Z plane: 19\n"
     ]
    },
    {
     "name": "stderr",
     "output_type": "stream",
     "text": [
      "100%|█████████████████████████████████████████| 39/39 [00:00<00:00, 4641.69it/s]\n",
      "100%|████████████████████████████████████████| 39/39 [00:00<00:00, 10383.26it/s]\n"
     ]
    },
    {
     "name": "stdout",
     "output_type": "stream",
     "text": [
      "Z plane: 20\n"
     ]
    },
    {
     "name": "stderr",
     "output_type": "stream",
     "text": [
      "100%|█████████████████████████████████████████| 40/40 [00:00<00:00, 2958.53it/s]\n",
      "100%|█████████████████████████████████████████| 40/40 [00:00<00:00, 5995.29it/s]\n"
     ]
    },
    {
     "name": "stdout",
     "output_type": "stream",
     "text": [
      "Z plane: 21\n"
     ]
    },
    {
     "name": "stderr",
     "output_type": "stream",
     "text": [
      "100%|█████████████████████████████████████████| 44/44 [00:00<00:00, 7148.64it/s]\n",
      "100%|█████████████████████████████████████████| 43/43 [00:00<00:00, 6535.08it/s]\n"
     ]
    },
    {
     "name": "stdout",
     "output_type": "stream",
     "text": [
      "Z plane: 22\n"
     ]
    },
    {
     "name": "stderr",
     "output_type": "stream",
     "text": [
      "100%|█████████████████████████████████████████| 37/37 [00:00<00:00, 3897.17it/s]\n",
      "100%|█████████████████████████████████████████| 37/37 [00:00<00:00, 5920.09it/s]\n"
     ]
    },
    {
     "name": "stdout",
     "output_type": "stream",
     "text": [
      "Z plane: 23\n"
     ]
    },
    {
     "name": "stderr",
     "output_type": "stream",
     "text": [
      "100%|█████████████████████████████████████████| 37/37 [00:00<00:00, 3570.36it/s]\n",
      "100%|█████████████████████████████████████████| 36/36 [00:00<00:00, 6805.25it/s]\n"
     ]
    },
    {
     "name": "stdout",
     "output_type": "stream",
     "text": [
      "Z plane: 24\n"
     ]
    },
    {
     "name": "stderr",
     "output_type": "stream",
     "text": [
      "100%|█████████████████████████████████████████| 29/29 [00:00<00:00, 2976.43it/s]\n",
      "100%|█████████████████████████████████████████| 29/29 [00:00<00:00, 3657.97it/s]\n"
     ]
    },
    {
     "name": "stdout",
     "output_type": "stream",
     "text": [
      "Z plane: 25\n"
     ]
    },
    {
     "name": "stderr",
     "output_type": "stream",
     "text": [
      "100%|█████████████████████████████████████████| 21/21 [00:00<00:00, 2060.02it/s]\n",
      "100%|█████████████████████████████████████████| 21/21 [00:00<00:00, 4942.51it/s]\n"
     ]
    },
    {
     "name": "stdout",
     "output_type": "stream",
     "text": [
      "Z plane: 26\n"
     ]
    },
    {
     "name": "stderr",
     "output_type": "stream",
     "text": [
      "100%|█████████████████████████████████████████| 17/17 [00:00<00:00, 1902.89it/s]\n",
      "100%|█████████████████████████████████████████| 17/17 [00:00<00:00, 3367.65it/s]\n"
     ]
    },
    {
     "name": "stdout",
     "output_type": "stream",
     "text": [
      "Z plane: 27\n"
     ]
    },
    {
     "name": "stderr",
     "output_type": "stream",
     "text": [
      "100%|█████████████████████████████████████████| 14/14 [00:00<00:00, 1732.88it/s]\n",
      "100%|█████████████████████████████████████████| 14/14 [00:00<00:00, 2905.79it/s]\n"
     ]
    },
    {
     "name": "stdout",
     "output_type": "stream",
     "text": [
      "Z plane: 28\n"
     ]
    },
    {
     "name": "stderr",
     "output_type": "stream",
     "text": [
      "100%|█████████████████████████████████████████| 11/11 [00:00<00:00, 1502.99it/s]\n",
      "100%|█████████████████████████████████████████| 11/11 [00:00<00:00, 1641.02it/s]\n"
     ]
    },
    {
     "name": "stdout",
     "output_type": "stream",
     "text": [
      "Z plane: 29\n"
     ]
    },
    {
     "name": "stderr",
     "output_type": "stream",
     "text": [
      "100%|███████████████████████████████████████████| 8/8 [00:00<00:00, 1410.21it/s]\n",
      "100%|███████████████████████████████████████████| 8/8 [00:00<00:00, 1549.79it/s]\n"
     ]
    },
    {
     "name": "stdout",
     "output_type": "stream",
     "text": [
      "Z plane: 30\n"
     ]
    },
    {
     "name": "stderr",
     "output_type": "stream",
     "text": [
      "100%|███████████████████████████████████████████| 7/7 [00:00<00:00, 1394.12it/s]\n",
      "100%|███████████████████████████████████████████| 7/7 [00:00<00:00, 1207.14it/s]\n"
     ]
    },
    {
     "name": "stdout",
     "output_type": "stream",
     "text": [
      "Z plane: 31\n"
     ]
    },
    {
     "name": "stderr",
     "output_type": "stream",
     "text": [
      "100%|███████████████████████████████████████████| 9/9 [00:00<00:00, 1899.12it/s]\n",
      "100%|███████████████████████████████████████████| 9/9 [00:00<00:00, 1011.57it/s]\n"
     ]
    },
    {
     "name": "stdout",
     "output_type": "stream",
     "text": [
      "Time point: 32\n",
      "Z plane: 0\n"
     ]
    },
    {
     "name": "stderr",
     "output_type": "stream",
     "text": [
      "100%|████████████████████████████████████████████| 2/2 [00:00<00:00, 702.98it/s]\n",
      "100%|███████████████████████████████████████████| 2/2 [00:00<00:00, 1049.36it/s]\n"
     ]
    },
    {
     "name": "stdout",
     "output_type": "stream",
     "text": [
      "Z plane: 1\n"
     ]
    },
    {
     "name": "stderr",
     "output_type": "stream",
     "text": [
      "100%|████████████████████████████████████████████| 2/2 [00:00<00:00, 811.67it/s]\n",
      "100%|████████████████████████████████████████████| 2/2 [00:00<00:00, 580.41it/s]\n"
     ]
    },
    {
     "name": "stdout",
     "output_type": "stream",
     "text": [
      "Z plane: 2\n"
     ]
    },
    {
     "name": "stderr",
     "output_type": "stream",
     "text": [
      "100%|████████████████████████████████████████████| 2/2 [00:00<00:00, 763.85it/s]\n",
      "100%|████████████████████████████████████████████| 2/2 [00:00<00:00, 700.57it/s]\n"
     ]
    },
    {
     "name": "stdout",
     "output_type": "stream",
     "text": [
      "Z plane: 3\n"
     ]
    },
    {
     "name": "stderr",
     "output_type": "stream",
     "text": [
      "100%|███████████████████████████████████████████| 3/3 [00:00<00:00, 1519.12it/s]\n",
      "100%|███████████████████████████████████████████| 3/3 [00:00<00:00, 1182.49it/s]\n"
     ]
    },
    {
     "name": "stdout",
     "output_type": "stream",
     "text": [
      "Z plane: 4\n"
     ]
    },
    {
     "name": "stderr",
     "output_type": "stream",
     "text": [
      "100%|███████████████████████████████████████████| 3/3 [00:00<00:00, 1043.10it/s]\n",
      "100%|████████████████████████████████████████████| 3/3 [00:00<00:00, 841.27it/s]\n"
     ]
    },
    {
     "name": "stdout",
     "output_type": "stream",
     "text": [
      "Z plane: 5\n"
     ]
    },
    {
     "name": "stderr",
     "output_type": "stream",
     "text": [
      "100%|███████████████████████████████████████████| 3/3 [00:00<00:00, 1044.57it/s]\n",
      "100%|████████████████████████████████████████████| 3/3 [00:00<00:00, 834.91it/s]\n"
     ]
    },
    {
     "name": "stdout",
     "output_type": "stream",
     "text": [
      "Z plane: 6\n"
     ]
    },
    {
     "name": "stderr",
     "output_type": "stream",
     "text": [
      "100%|███████████████████████████████████████████| 2/2 [00:00<00:00, 1546.57it/s]\n",
      "100%|████████████████████████████████████████████| 2/2 [00:00<00:00, 804.20it/s]\n"
     ]
    },
    {
     "name": "stdout",
     "output_type": "stream",
     "text": [
      "Z plane: 7\n"
     ]
    },
    {
     "name": "stderr",
     "output_type": "stream",
     "text": [
      "100%|████████████████████████████████████████████| 4/4 [00:00<00:00, 939.48it/s]\n",
      "100%|███████████████████████████████████████████| 4/4 [00:00<00:00, 1091.98it/s]\n"
     ]
    },
    {
     "name": "stdout",
     "output_type": "stream",
     "text": [
      "Z plane: 8\n"
     ]
    },
    {
     "name": "stderr",
     "output_type": "stream",
     "text": [
      "100%|███████████████████████████████████████████| 9/9 [00:00<00:00, 1278.19it/s]\n",
      "100%|███████████████████████████████████████████| 9/9 [00:00<00:00, 1236.29it/s]\n"
     ]
    },
    {
     "name": "stdout",
     "output_type": "stream",
     "text": [
      "Z plane: 9\n"
     ]
    },
    {
     "name": "stderr",
     "output_type": "stream",
     "text": [
      "100%|███████████████████████████████████████████| 9/9 [00:00<00:00, 1363.41it/s]\n",
      "100%|███████████████████████████████████████████| 9/9 [00:00<00:00, 1993.81it/s]\n"
     ]
    },
    {
     "name": "stdout",
     "output_type": "stream",
     "text": [
      "Z plane: 10\n"
     ]
    },
    {
     "name": "stderr",
     "output_type": "stream",
     "text": [
      "100%|█████████████████████████████████████████| 11/11 [00:00<00:00, 1920.71it/s]\n",
      "100%|█████████████████████████████████████████| 11/11 [00:00<00:00, 2593.59it/s]\n"
     ]
    },
    {
     "name": "stdout",
     "output_type": "stream",
     "text": [
      "Z plane: 11\n"
     ]
    },
    {
     "name": "stderr",
     "output_type": "stream",
     "text": [
      "100%|█████████████████████████████████████████| 14/14 [00:00<00:00, 1884.17it/s]\n",
      "100%|█████████████████████████████████████████| 14/14 [00:00<00:00, 2653.54it/s]\n"
     ]
    },
    {
     "name": "stdout",
     "output_type": "stream",
     "text": [
      "Z plane: 12\n"
     ]
    },
    {
     "name": "stderr",
     "output_type": "stream",
     "text": [
      "100%|█████████████████████████████████████████| 18/18 [00:00<00:00, 2446.29it/s]\n",
      "100%|█████████████████████████████████████████| 18/18 [00:00<00:00, 2892.96it/s]\n"
     ]
    },
    {
     "name": "stdout",
     "output_type": "stream",
     "text": [
      "Z plane: 13\n"
     ]
    },
    {
     "name": "stderr",
     "output_type": "stream",
     "text": [
      "100%|█████████████████████████████████████████| 19/19 [00:00<00:00, 3485.62it/s]\n",
      "100%|█████████████████████████████████████████| 19/19 [00:00<00:00, 5099.29it/s]\n"
     ]
    },
    {
     "name": "stdout",
     "output_type": "stream",
     "text": [
      "Z plane: 14\n"
     ]
    },
    {
     "name": "stderr",
     "output_type": "stream",
     "text": [
      "100%|█████████████████████████████████████████| 20/20 [00:00<00:00, 2233.63it/s]\n",
      "100%|█████████████████████████████████████████| 20/20 [00:00<00:00, 2971.31it/s]\n"
     ]
    },
    {
     "name": "stdout",
     "output_type": "stream",
     "text": [
      "Z plane: 15\n"
     ]
    },
    {
     "name": "stderr",
     "output_type": "stream",
     "text": [
      "100%|█████████████████████████████████████████| 24/24 [00:00<00:00, 2598.50it/s]\n",
      "100%|█████████████████████████████████████████| 24/24 [00:00<00:00, 3611.76it/s]\n"
     ]
    },
    {
     "name": "stdout",
     "output_type": "stream",
     "text": [
      "Z plane: 16\n"
     ]
    },
    {
     "name": "stderr",
     "output_type": "stream",
     "text": [
      "100%|█████████████████████████████████████████| 31/31 [00:00<00:00, 2468.17it/s]\n",
      "100%|█████████████████████████████████████████| 31/31 [00:00<00:00, 5033.42it/s]\n"
     ]
    },
    {
     "name": "stdout",
     "output_type": "stream",
     "text": [
      "Z plane: 17\n"
     ]
    },
    {
     "name": "stderr",
     "output_type": "stream",
     "text": [
      "100%|█████████████████████████████████████████| 33/33 [00:00<00:00, 3242.56it/s]\n",
      "100%|█████████████████████████████████████████| 33/33 [00:00<00:00, 3226.39it/s]\n"
     ]
    },
    {
     "name": "stdout",
     "output_type": "stream",
     "text": [
      "Z plane: 18\n"
     ]
    },
    {
     "name": "stderr",
     "output_type": "stream",
     "text": [
      "100%|█████████████████████████████████████████| 33/33 [00:00<00:00, 2295.31it/s]\n",
      "100%|█████████████████████████████████████████| 33/33 [00:00<00:00, 8114.68it/s]\n"
     ]
    },
    {
     "name": "stdout",
     "output_type": "stream",
     "text": [
      "Z plane: 19\n"
     ]
    },
    {
     "name": "stderr",
     "output_type": "stream",
     "text": [
      "100%|█████████████████████████████████████████| 36/36 [00:00<00:00, 3088.59it/s]\n",
      "100%|█████████████████████████████████████████| 36/36 [00:00<00:00, 4291.95it/s]\n"
     ]
    },
    {
     "name": "stdout",
     "output_type": "stream",
     "text": [
      "Z plane: 20\n"
     ]
    },
    {
     "name": "stderr",
     "output_type": "stream",
     "text": [
      "100%|█████████████████████████████████████████| 36/36 [00:00<00:00, 3228.11it/s]\n",
      "100%|█████████████████████████████████████████| 36/36 [00:00<00:00, 4360.99it/s]\n"
     ]
    },
    {
     "name": "stdout",
     "output_type": "stream",
     "text": [
      "Z plane: 21\n"
     ]
    },
    {
     "name": "stderr",
     "output_type": "stream",
     "text": [
      "100%|█████████████████████████████████████████| 36/36 [00:00<00:00, 3799.00it/s]\n",
      "100%|████████████████████████████████████████| 36/36 [00:00<00:00, 13487.71it/s]\n"
     ]
    },
    {
     "name": "stdout",
     "output_type": "stream",
     "text": [
      "Z plane: 22\n"
     ]
    },
    {
     "name": "stderr",
     "output_type": "stream",
     "text": [
      "100%|█████████████████████████████████████████| 33/33 [00:00<00:00, 3065.20it/s]\n",
      "100%|█████████████████████████████████████████| 33/33 [00:00<00:00, 9786.61it/s]\n"
     ]
    },
    {
     "name": "stdout",
     "output_type": "stream",
     "text": [
      "Z plane: 23\n"
     ]
    },
    {
     "name": "stderr",
     "output_type": "stream",
     "text": [
      "100%|█████████████████████████████████████████| 32/32 [00:00<00:00, 4653.71it/s]\n",
      "100%|█████████████████████████████████████████| 32/32 [00:00<00:00, 4403.47it/s]\n"
     ]
    },
    {
     "name": "stdout",
     "output_type": "stream",
     "text": [
      "Z plane: 24\n"
     ]
    },
    {
     "name": "stderr",
     "output_type": "stream",
     "text": [
      "100%|█████████████████████████████████████████| 28/28 [00:00<00:00, 2332.58it/s]\n",
      "100%|█████████████████████████████████████████| 28/28 [00:00<00:00, 4760.84it/s]\n"
     ]
    },
    {
     "name": "stdout",
     "output_type": "stream",
     "text": [
      "Z plane: 25\n"
     ]
    },
    {
     "name": "stderr",
     "output_type": "stream",
     "text": [
      "100%|█████████████████████████████████████████| 24/24 [00:00<00:00, 2588.21it/s]\n",
      "100%|█████████████████████████████████████████| 24/24 [00:00<00:00, 3134.85it/s]\n"
     ]
    },
    {
     "name": "stdout",
     "output_type": "stream",
     "text": [
      "Z plane: 26\n"
     ]
    },
    {
     "name": "stderr",
     "output_type": "stream",
     "text": [
      "100%|█████████████████████████████████████████| 17/17 [00:00<00:00, 2304.12it/s]\n",
      "100%|█████████████████████████████████████████| 17/17 [00:00<00:00, 3728.08it/s]\n"
     ]
    },
    {
     "name": "stdout",
     "output_type": "stream",
     "text": [
      "Z plane: 27\n"
     ]
    },
    {
     "name": "stderr",
     "output_type": "stream",
     "text": [
      "100%|█████████████████████████████████████████| 16/16 [00:00<00:00, 2092.84it/s]\n",
      "100%|█████████████████████████████████████████| 16/16 [00:00<00:00, 3100.72it/s]\n"
     ]
    },
    {
     "name": "stdout",
     "output_type": "stream",
     "text": [
      "Z plane: 28\n"
     ]
    },
    {
     "name": "stderr",
     "output_type": "stream",
     "text": [
      "100%|█████████████████████████████████████████| 11/11 [00:00<00:00, 2043.10it/s]\n",
      "100%|█████████████████████████████████████████| 11/11 [00:00<00:00, 2298.36it/s]\n"
     ]
    },
    {
     "name": "stdout",
     "output_type": "stream",
     "text": [
      "Z plane: 29\n"
     ]
    },
    {
     "name": "stderr",
     "output_type": "stream",
     "text": [
      "100%|█████████████████████████████████████████| 10/10 [00:00<00:00, 2311.04it/s]\n",
      "100%|█████████████████████████████████████████| 10/10 [00:00<00:00, 1776.19it/s]\n"
     ]
    },
    {
     "name": "stdout",
     "output_type": "stream",
     "text": [
      "Z plane: 30\n"
     ]
    },
    {
     "name": "stderr",
     "output_type": "stream",
     "text": [
      "100%|███████████████████████████████████████████| 8/8 [00:00<00:00, 2962.86it/s]\n",
      "100%|███████████████████████████████████████████| 8/8 [00:00<00:00, 2176.74it/s]\n"
     ]
    },
    {
     "name": "stdout",
     "output_type": "stream",
     "text": [
      "Z plane: 31\n"
     ]
    },
    {
     "name": "stderr",
     "output_type": "stream",
     "text": [
      "100%|█████████████████████████████████████████| 10/10 [00:00<00:00, 2757.96it/s]\n",
      "100%|█████████████████████████████████████████| 10/10 [00:00<00:00, 2582.70it/s]\n"
     ]
    },
    {
     "name": "stdout",
     "output_type": "stream",
     "text": [
      "Time point: 33\n",
      "Z plane: 0\n"
     ]
    },
    {
     "name": "stderr",
     "output_type": "stream",
     "text": [
      "100%|████████████████████████████████████████████| 2/2 [00:00<00:00, 798.99it/s]\n",
      "100%|████████████████████████████████████████████| 2/2 [00:00<00:00, 566.26it/s]\n"
     ]
    },
    {
     "name": "stdout",
     "output_type": "stream",
     "text": [
      "Z plane: 1\n"
     ]
    },
    {
     "name": "stderr",
     "output_type": "stream",
     "text": [
      "100%|████████████████████████████████████████████| 2/2 [00:00<00:00, 692.02it/s]\n",
      "100%|████████████████████████████████████████████| 2/2 [00:00<00:00, 713.50it/s]\n"
     ]
    },
    {
     "name": "stdout",
     "output_type": "stream",
     "text": [
      "Z plane: 2\n"
     ]
    },
    {
     "name": "stderr",
     "output_type": "stream",
     "text": [
      "100%|████████████████████████████████████████████| 2/2 [00:00<00:00, 725.16it/s]\n",
      "100%|███████████████████████████████████████████| 2/2 [00:00<00:00, 1186.84it/s]\n"
     ]
    },
    {
     "name": "stdout",
     "output_type": "stream",
     "text": [
      "Z plane: 3\n"
     ]
    },
    {
     "name": "stderr",
     "output_type": "stream",
     "text": [
      "100%|███████████████████████████████████████████| 2/2 [00:00<00:00, 1081.15it/s]\n",
      "100%|████████████████████████████████████████████| 2/2 [00:00<00:00, 567.83it/s]\n"
     ]
    },
    {
     "name": "stdout",
     "output_type": "stream",
     "text": [
      "Z plane: 4\n"
     ]
    },
    {
     "name": "stderr",
     "output_type": "stream",
     "text": [
      "100%|████████████████████████████████████████████| 2/2 [00:00<00:00, 699.34it/s]\n",
      "100%|████████████████████████████████████████████| 2/2 [00:00<00:00, 799.07it/s]\n"
     ]
    },
    {
     "name": "stdout",
     "output_type": "stream",
     "text": [
      "Z plane: 5\n"
     ]
    },
    {
     "name": "stderr",
     "output_type": "stream",
     "text": [
      "100%|████████████████████████████████████████████| 2/2 [00:00<00:00, 735.58it/s]\n",
      "100%|████████████████████████████████████████████| 2/2 [00:00<00:00, 636.32it/s]\n"
     ]
    },
    {
     "name": "stdout",
     "output_type": "stream",
     "text": [
      "Z plane: 6\n"
     ]
    },
    {
     "name": "stderr",
     "output_type": "stream",
     "text": [
      "100%|████████████████████████████████████████████| 2/2 [00:00<00:00, 706.23it/s]\n",
      "100%|████████████████████████████████████████████| 2/2 [00:00<00:00, 578.37it/s]\n"
     ]
    },
    {
     "name": "stdout",
     "output_type": "stream",
     "text": [
      "Z plane: 7\n"
     ]
    },
    {
     "name": "stderr",
     "output_type": "stream",
     "text": [
      "100%|███████████████████████████████████████████| 4/4 [00:00<00:00, 1183.83it/s]\n",
      "100%|███████████████████████████████████████████| 4/4 [00:00<00:00, 1054.64it/s]\n"
     ]
    },
    {
     "name": "stdout",
     "output_type": "stream",
     "text": [
      "Z plane: 8\n"
     ]
    },
    {
     "name": "stderr",
     "output_type": "stream",
     "text": [
      "100%|███████████████████████████████████████████| 8/8 [00:00<00:00, 1082.12it/s]\n",
      "100%|███████████████████████████████████████████| 8/8 [00:00<00:00, 1249.05it/s]\n"
     ]
    },
    {
     "name": "stdout",
     "output_type": "stream",
     "text": [
      "Z plane: 9\n"
     ]
    },
    {
     "name": "stderr",
     "output_type": "stream",
     "text": [
      "100%|███████████████████████████████████████████| 8/8 [00:00<00:00, 1499.24it/s]\n",
      "100%|███████████████████████████████████████████| 8/8 [00:00<00:00, 1393.92it/s]\n"
     ]
    },
    {
     "name": "stdout",
     "output_type": "stream",
     "text": [
      "Z plane: 10\n"
     ]
    },
    {
     "name": "stderr",
     "output_type": "stream",
     "text": [
      "100%|██████████████████████████████████████████| 10/10 [00:00<00:00, 979.63it/s]\n",
      "100%|█████████████████████████████████████████| 10/10 [00:00<00:00, 3916.98it/s]\n"
     ]
    },
    {
     "name": "stdout",
     "output_type": "stream",
     "text": [
      "Z plane: 11\n"
     ]
    },
    {
     "name": "stderr",
     "output_type": "stream",
     "text": [
      "100%|█████████████████████████████████████████| 14/14 [00:00<00:00, 1720.89it/s]\n",
      "100%|█████████████████████████████████████████| 14/14 [00:00<00:00, 2025.95it/s]\n"
     ]
    },
    {
     "name": "stdout",
     "output_type": "stream",
     "text": [
      "Z plane: 12\n"
     ]
    },
    {
     "name": "stderr",
     "output_type": "stream",
     "text": [
      "100%|█████████████████████████████████████████| 15/15 [00:00<00:00, 2137.04it/s]\n",
      "100%|█████████████████████████████████████████| 15/15 [00:00<00:00, 2875.83it/s]\n"
     ]
    },
    {
     "name": "stdout",
     "output_type": "stream",
     "text": [
      "Z plane: 13\n"
     ]
    },
    {
     "name": "stderr",
     "output_type": "stream",
     "text": [
      "100%|█████████████████████████████████████████| 18/18 [00:00<00:00, 1954.22it/s]\n",
      "100%|█████████████████████████████████████████| 18/18 [00:00<00:00, 2459.36it/s]\n"
     ]
    },
    {
     "name": "stdout",
     "output_type": "stream",
     "text": [
      "Z plane: 14\n"
     ]
    },
    {
     "name": "stderr",
     "output_type": "stream",
     "text": [
      "100%|█████████████████████████████████████████| 17/17 [00:00<00:00, 1932.44it/s]\n",
      "100%|█████████████████████████████████████████| 17/17 [00:00<00:00, 2410.76it/s]\n"
     ]
    },
    {
     "name": "stdout",
     "output_type": "stream",
     "text": [
      "Z plane: 15\n"
     ]
    },
    {
     "name": "stderr",
     "output_type": "stream",
     "text": [
      "100%|█████████████████████████████████████████| 23/23 [00:00<00:00, 2782.81it/s]\n",
      "100%|█████████████████████████████████████████| 22/22 [00:00<00:00, 3105.53it/s]\n"
     ]
    },
    {
     "name": "stdout",
     "output_type": "stream",
     "text": [
      "Z plane: 16\n"
     ]
    },
    {
     "name": "stderr",
     "output_type": "stream",
     "text": [
      "100%|█████████████████████████████████████████| 27/27 [00:00<00:00, 2093.66it/s]\n",
      "100%|█████████████████████████████████████████| 26/26 [00:00<00:00, 2513.99it/s]\n"
     ]
    },
    {
     "name": "stdout",
     "output_type": "stream",
     "text": [
      "Z plane: 17\n"
     ]
    },
    {
     "name": "stderr",
     "output_type": "stream",
     "text": [
      "100%|█████████████████████████████████████████| 30/30 [00:00<00:00, 3711.99it/s]\n",
      "100%|█████████████████████████████████████████| 30/30 [00:00<00:00, 8305.00it/s]\n"
     ]
    },
    {
     "name": "stdout",
     "output_type": "stream",
     "text": [
      "Z plane: 18\n"
     ]
    },
    {
     "name": "stderr",
     "output_type": "stream",
     "text": [
      "100%|█████████████████████████████████████████| 32/32 [00:00<00:00, 2170.23it/s]\n",
      "100%|█████████████████████████████████████████| 31/31 [00:00<00:00, 3808.87it/s]\n"
     ]
    },
    {
     "name": "stdout",
     "output_type": "stream",
     "text": [
      "Z plane: 19\n"
     ]
    },
    {
     "name": "stderr",
     "output_type": "stream",
     "text": [
      "100%|█████████████████████████████████████████| 36/36 [00:00<00:00, 2570.52it/s]\n",
      "100%|█████████████████████████████████████████| 36/36 [00:00<00:00, 4213.97it/s]\n"
     ]
    },
    {
     "name": "stdout",
     "output_type": "stream",
     "text": [
      "Z plane: 20\n"
     ]
    },
    {
     "name": "stderr",
     "output_type": "stream",
     "text": [
      "100%|█████████████████████████████████████████| 35/35 [00:00<00:00, 3468.09it/s]\n",
      "100%|█████████████████████████████████████████| 35/35 [00:00<00:00, 7026.64it/s]\n"
     ]
    },
    {
     "name": "stdout",
     "output_type": "stream",
     "text": [
      "Z plane: 21\n"
     ]
    },
    {
     "name": "stderr",
     "output_type": "stream",
     "text": [
      "100%|█████████████████████████████████████████| 36/36 [00:00<00:00, 2630.62it/s]\n",
      "100%|█████████████████████████████████████████| 36/36 [00:00<00:00, 4345.30it/s]\n"
     ]
    },
    {
     "name": "stdout",
     "output_type": "stream",
     "text": [
      "Z plane: 22\n"
     ]
    },
    {
     "name": "stderr",
     "output_type": "stream",
     "text": [
      "100%|█████████████████████████████████████████| 37/37 [00:00<00:00, 6581.39it/s]\n",
      "100%|█████████████████████████████████████████| 37/37 [00:00<00:00, 9642.68it/s]\n"
     ]
    },
    {
     "name": "stdout",
     "output_type": "stream",
     "text": [
      "Z plane: 23\n"
     ]
    },
    {
     "name": "stderr",
     "output_type": "stream",
     "text": [
      "100%|█████████████████████████████████████████| 32/32 [00:00<00:00, 3596.69it/s]\n",
      "100%|█████████████████████████████████████████| 32/32 [00:00<00:00, 4298.13it/s]\n"
     ]
    },
    {
     "name": "stdout",
     "output_type": "stream",
     "text": [
      "Z plane: 24\n"
     ]
    },
    {
     "name": "stderr",
     "output_type": "stream",
     "text": [
      "100%|█████████████████████████████████████████| 28/28 [00:00<00:00, 2393.52it/s]\n",
      "100%|█████████████████████████████████████████| 28/28 [00:00<00:00, 5562.21it/s]\n"
     ]
    },
    {
     "name": "stdout",
     "output_type": "stream",
     "text": [
      "Z plane: 25\n"
     ]
    },
    {
     "name": "stderr",
     "output_type": "stream",
     "text": [
      "100%|█████████████████████████████████████████| 23/23 [00:00<00:00, 1957.49it/s]\n",
      "100%|█████████████████████████████████████████| 23/23 [00:00<00:00, 3651.36it/s]\n"
     ]
    },
    {
     "name": "stdout",
     "output_type": "stream",
     "text": [
      "Z plane: 26\n"
     ]
    },
    {
     "name": "stderr",
     "output_type": "stream",
     "text": [
      "100%|█████████████████████████████████████████| 14/14 [00:00<00:00, 1569.85it/s]\n",
      "100%|█████████████████████████████████████████| 14/14 [00:00<00:00, 1899.84it/s]\n"
     ]
    },
    {
     "name": "stdout",
     "output_type": "stream",
     "text": [
      "Z plane: 27\n"
     ]
    },
    {
     "name": "stderr",
     "output_type": "stream",
     "text": [
      "100%|█████████████████████████████████████████| 14/14 [00:00<00:00, 1586.56it/s]\n",
      "100%|█████████████████████████████████████████| 14/14 [00:00<00:00, 2023.79it/s]\n"
     ]
    },
    {
     "name": "stdout",
     "output_type": "stream",
     "text": [
      "Z plane: 28\n"
     ]
    },
    {
     "name": "stderr",
     "output_type": "stream",
     "text": [
      "100%|█████████████████████████████████████████| 11/11 [00:00<00:00, 1456.03it/s]\n",
      "100%|█████████████████████████████████████████| 11/11 [00:00<00:00, 2294.02it/s]\n"
     ]
    },
    {
     "name": "stdout",
     "output_type": "stream",
     "text": [
      "Z plane: 29\n"
     ]
    },
    {
     "name": "stderr",
     "output_type": "stream",
     "text": [
      "100%|█████████████████████████████████████████| 11/11 [00:00<00:00, 3110.87it/s]\n",
      "100%|█████████████████████████████████████████| 11/11 [00:00<00:00, 2087.66it/s]\n"
     ]
    },
    {
     "name": "stdout",
     "output_type": "stream",
     "text": [
      "Z plane: 30\n"
     ]
    },
    {
     "name": "stderr",
     "output_type": "stream",
     "text": [
      "100%|███████████████████████████████████████████| 9/9 [00:00<00:00, 1729.77it/s]\n",
      "100%|███████████████████████████████████████████| 9/9 [00:00<00:00, 2232.20it/s]\n"
     ]
    },
    {
     "name": "stdout",
     "output_type": "stream",
     "text": [
      "Z plane: 31\n"
     ]
    },
    {
     "name": "stderr",
     "output_type": "stream",
     "text": [
      "100%|███████████████████████████████████████████| 7/7 [00:00<00:00, 2083.90it/s]\n",
      "100%|███████████████████████████████████████████| 7/7 [00:00<00:00, 3918.86it/s]\n"
     ]
    },
    {
     "name": "stdout",
     "output_type": "stream",
     "text": [
      "Time point: 34\n",
      "Z plane: 0\n"
     ]
    },
    {
     "name": "stderr",
     "output_type": "stream",
     "text": [
      "100%|███████████████████████████████████████████| 2/2 [00:00<00:00, 2369.66it/s]\n",
      "100%|███████████████████████████████████████████| 2/2 [00:00<00:00, 1565.04it/s]\n"
     ]
    },
    {
     "name": "stdout",
     "output_type": "stream",
     "text": [
      "Z plane: 1\n"
     ]
    },
    {
     "name": "stderr",
     "output_type": "stream",
     "text": [
      "100%|███████████████████████████████████████████| 2/2 [00:00<00:00, 2070.24it/s]\n",
      "100%|████████████████████████████████████████████| 2/2 [00:00<00:00, 535.06it/s]\n"
     ]
    },
    {
     "name": "stdout",
     "output_type": "stream",
     "text": [
      "Z plane: 2\n"
     ]
    },
    {
     "name": "stderr",
     "output_type": "stream",
     "text": [
      "100%|███████████████████████████████████████████| 2/2 [00:00<00:00, 2028.68it/s]\n",
      "100%|███████████████████████████████████████████| 2/2 [00:00<00:00, 1679.06it/s]\n"
     ]
    },
    {
     "name": "stdout",
     "output_type": "stream",
     "text": [
      "Z plane: 3\n"
     ]
    },
    {
     "name": "stderr",
     "output_type": "stream",
     "text": [
      "100%|███████████████████████████████████████████| 2/2 [00:00<00:00, 1004.86it/s]\n",
      "100%|████████████████████████████████████████████| 2/2 [00:00<00:00, 958.26it/s]\n"
     ]
    },
    {
     "name": "stdout",
     "output_type": "stream",
     "text": [
      "Z plane: 4\n"
     ]
    },
    {
     "name": "stderr",
     "output_type": "stream",
     "text": [
      "100%|███████████████████████████████████████████| 2/2 [00:00<00:00, 3264.05it/s]\n",
      "100%|████████████████████████████████████████████| 2/2 [00:00<00:00, 817.44it/s]\n"
     ]
    },
    {
     "name": "stdout",
     "output_type": "stream",
     "text": [
      "Z plane: 5\n"
     ]
    },
    {
     "name": "stderr",
     "output_type": "stream",
     "text": [
      "100%|████████████████████████████████████████████| 3/3 [00:00<00:00, 774.19it/s]\n",
      "100%|███████████████████████████████████████████| 3/3 [00:00<00:00, 1317.58it/s]\n"
     ]
    },
    {
     "name": "stdout",
     "output_type": "stream",
     "text": [
      "Z plane: 6\n"
     ]
    },
    {
     "name": "stderr",
     "output_type": "stream",
     "text": [
      "100%|████████████████████████████████████████████| 2/2 [00:00<00:00, 839.62it/s]\n",
      "100%|████████████████████████████████████████████| 2/2 [00:00<00:00, 516.67it/s]\n"
     ]
    },
    {
     "name": "stdout",
     "output_type": "stream",
     "text": [
      "Z plane: 7\n"
     ]
    },
    {
     "name": "stderr",
     "output_type": "stream",
     "text": [
      "100%|███████████████████████████████████████████| 6/6 [00:00<00:00, 2001.42it/s]\n",
      "100%|███████████████████████████████████████████| 6/6 [00:00<00:00, 2582.96it/s]\n"
     ]
    },
    {
     "name": "stdout",
     "output_type": "stream",
     "text": [
      "Z plane: 8\n"
     ]
    },
    {
     "name": "stderr",
     "output_type": "stream",
     "text": [
      "100%|███████████████████████████████████████████| 9/9 [00:00<00:00, 1515.40it/s]\n",
      "100%|███████████████████████████████████████████| 9/9 [00:00<00:00, 3239.68it/s]\n"
     ]
    },
    {
     "name": "stdout",
     "output_type": "stream",
     "text": [
      "Z plane: 9\n"
     ]
    },
    {
     "name": "stderr",
     "output_type": "stream",
     "text": [
      "100%|███████████████████████████████████████████| 9/9 [00:00<00:00, 1322.38it/s]\n",
      "100%|███████████████████████████████████████████| 9/9 [00:00<00:00, 2673.80it/s]\n"
     ]
    },
    {
     "name": "stdout",
     "output_type": "stream",
     "text": [
      "Z plane: 10\n"
     ]
    },
    {
     "name": "stderr",
     "output_type": "stream",
     "text": [
      "100%|█████████████████████████████████████████| 10/10 [00:00<00:00, 1580.25it/s]\n",
      "100%|█████████████████████████████████████████| 10/10 [00:00<00:00, 2362.46it/s]\n"
     ]
    },
    {
     "name": "stdout",
     "output_type": "stream",
     "text": [
      "Z plane: 11\n"
     ]
    },
    {
     "name": "stderr",
     "output_type": "stream",
     "text": [
      "100%|█████████████████████████████████████████| 15/15 [00:00<00:00, 2062.77it/s]\n",
      "100%|█████████████████████████████████████████| 15/15 [00:00<00:00, 3770.73it/s]\n"
     ]
    },
    {
     "name": "stdout",
     "output_type": "stream",
     "text": [
      "Z plane: 12\n"
     ]
    },
    {
     "name": "stderr",
     "output_type": "stream",
     "text": [
      "100%|█████████████████████████████████████████| 14/14 [00:00<00:00, 2170.96it/s]\n",
      "100%|█████████████████████████████████████████| 14/14 [00:00<00:00, 6846.25it/s]\n"
     ]
    },
    {
     "name": "stdout",
     "output_type": "stream",
     "text": [
      "Z plane: 13\n"
     ]
    },
    {
     "name": "stderr",
     "output_type": "stream",
     "text": [
      "100%|█████████████████████████████████████████| 18/18 [00:00<00:00, 2212.12it/s]\n",
      "100%|█████████████████████████████████████████| 17/17 [00:00<00:00, 5801.72it/s]\n"
     ]
    },
    {
     "name": "stdout",
     "output_type": "stream",
     "text": [
      "Z plane: 14\n"
     ]
    },
    {
     "name": "stderr",
     "output_type": "stream",
     "text": [
      "100%|█████████████████████████████████████████| 19/19 [00:00<00:00, 2300.50it/s]\n",
      "100%|█████████████████████████████████████████| 18/18 [00:00<00:00, 6497.76it/s]\n"
     ]
    },
    {
     "name": "stdout",
     "output_type": "stream",
     "text": [
      "Z plane: 15\n"
     ]
    },
    {
     "name": "stderr",
     "output_type": "stream",
     "text": [
      "100%|█████████████████████████████████████████| 23/23 [00:00<00:00, 1948.83it/s]\n",
      "100%|█████████████████████████████████████████| 22/22 [00:00<00:00, 4375.70it/s]\n"
     ]
    },
    {
     "name": "stdout",
     "output_type": "stream",
     "text": [
      "Z plane: 16\n"
     ]
    },
    {
     "name": "stderr",
     "output_type": "stream",
     "text": [
      "100%|█████████████████████████████████████████| 27/27 [00:00<00:00, 2975.54it/s]\n",
      "100%|█████████████████████████████████████████| 27/27 [00:00<00:00, 5135.18it/s]\n"
     ]
    },
    {
     "name": "stdout",
     "output_type": "stream",
     "text": [
      "Z plane: 17\n"
     ]
    },
    {
     "name": "stderr",
     "output_type": "stream",
     "text": [
      "100%|█████████████████████████████████████████| 26/26 [00:00<00:00, 2090.08it/s]\n",
      "100%|█████████████████████████████████████████| 26/26 [00:00<00:00, 3661.43it/s]\n"
     ]
    },
    {
     "name": "stdout",
     "output_type": "stream",
     "text": [
      "Z plane: 18\n"
     ]
    },
    {
     "name": "stderr",
     "output_type": "stream",
     "text": [
      "100%|█████████████████████████████████████████| 29/29 [00:00<00:00, 2147.66it/s]\n",
      "100%|█████████████████████████████████████████| 28/28 [00:00<00:00, 4545.62it/s]\n"
     ]
    },
    {
     "name": "stdout",
     "output_type": "stream",
     "text": [
      "Z plane: 19\n"
     ]
    },
    {
     "name": "stderr",
     "output_type": "stream",
     "text": [
      "100%|█████████████████████████████████████████| 31/31 [00:00<00:00, 2959.18it/s]\n",
      "100%|█████████████████████████████████████████| 31/31 [00:00<00:00, 4107.65it/s]\n"
     ]
    },
    {
     "name": "stdout",
     "output_type": "stream",
     "text": [
      "Z plane: 20\n"
     ]
    },
    {
     "name": "stderr",
     "output_type": "stream",
     "text": [
      "100%|█████████████████████████████████████████| 31/31 [00:00<00:00, 3105.56it/s]\n",
      "100%|█████████████████████████████████████████| 31/31 [00:00<00:00, 5301.88it/s]\n"
     ]
    },
    {
     "name": "stdout",
     "output_type": "stream",
     "text": [
      "Z plane: 21\n"
     ]
    },
    {
     "name": "stderr",
     "output_type": "stream",
     "text": [
      "100%|█████████████████████████████████████████| 33/33 [00:00<00:00, 3390.13it/s]\n",
      "100%|█████████████████████████████████████████| 33/33 [00:00<00:00, 7108.99it/s]\n"
     ]
    },
    {
     "name": "stdout",
     "output_type": "stream",
     "text": [
      "Z plane: 22\n"
     ]
    },
    {
     "name": "stderr",
     "output_type": "stream",
     "text": [
      "100%|█████████████████████████████████████████| 33/33 [00:00<00:00, 3476.29it/s]\n",
      "100%|█████████████████████████████████████████| 33/33 [00:00<00:00, 5915.30it/s]\n"
     ]
    },
    {
     "name": "stdout",
     "output_type": "stream",
     "text": [
      "Z plane: 23\n"
     ]
    },
    {
     "name": "stderr",
     "output_type": "stream",
     "text": [
      "100%|█████████████████████████████████████████| 30/30 [00:00<00:00, 3408.06it/s]\n",
      "100%|█████████████████████████████████████████| 30/30 [00:00<00:00, 4734.16it/s]\n"
     ]
    },
    {
     "name": "stdout",
     "output_type": "stream",
     "text": [
      "Z plane: 24\n"
     ]
    },
    {
     "name": "stderr",
     "output_type": "stream",
     "text": [
      "100%|█████████████████████████████████████████| 28/28 [00:00<00:00, 2109.85it/s]\n",
      "100%|█████████████████████████████████████████| 28/28 [00:00<00:00, 4770.13it/s]\n"
     ]
    },
    {
     "name": "stdout",
     "output_type": "stream",
     "text": [
      "Z plane: 25\n"
     ]
    },
    {
     "name": "stderr",
     "output_type": "stream",
     "text": [
      "100%|█████████████████████████████████████████| 27/27 [00:00<00:00, 2188.37it/s]\n",
      "100%|█████████████████████████████████████████| 27/27 [00:00<00:00, 3524.73it/s]\n"
     ]
    },
    {
     "name": "stdout",
     "output_type": "stream",
     "text": [
      "Z plane: 26\n"
     ]
    },
    {
     "name": "stderr",
     "output_type": "stream",
     "text": [
      "100%|█████████████████████████████████████████| 21/21 [00:00<00:00, 2080.02it/s]\n",
      "100%|█████████████████████████████████████████| 21/21 [00:00<00:00, 3464.73it/s]\n"
     ]
    },
    {
     "name": "stdout",
     "output_type": "stream",
     "text": [
      "Z plane: 27\n"
     ]
    },
    {
     "name": "stderr",
     "output_type": "stream",
     "text": [
      "100%|█████████████████████████████████████████| 18/18 [00:00<00:00, 1717.06it/s]\n",
      "100%|█████████████████████████████████████████| 18/18 [00:00<00:00, 3594.95it/s]\n"
     ]
    },
    {
     "name": "stdout",
     "output_type": "stream",
     "text": [
      "Z plane: 28\n"
     ]
    },
    {
     "name": "stderr",
     "output_type": "stream",
     "text": [
      "100%|█████████████████████████████████████████| 13/13 [00:00<00:00, 1350.92it/s]\n",
      "100%|█████████████████████████████████████████| 13/13 [00:00<00:00, 2607.77it/s]\n"
     ]
    },
    {
     "name": "stdout",
     "output_type": "stream",
     "text": [
      "Z plane: 29\n"
     ]
    },
    {
     "name": "stderr",
     "output_type": "stream",
     "text": [
      "100%|█████████████████████████████████████████| 13/13 [00:00<00:00, 2645.99it/s]\n",
      "100%|█████████████████████████████████████████| 13/13 [00:00<00:00, 2029.10it/s]\n"
     ]
    },
    {
     "name": "stdout",
     "output_type": "stream",
     "text": [
      "Z plane: 30\n"
     ]
    },
    {
     "name": "stderr",
     "output_type": "stream",
     "text": [
      "100%|███████████████████████████████████████████| 9/9 [00:00<00:00, 1741.42it/s]\n",
      "100%|███████████████████████████████████████████| 9/9 [00:00<00:00, 1669.78it/s]\n"
     ]
    },
    {
     "name": "stdout",
     "output_type": "stream",
     "text": [
      "Z plane: 31\n"
     ]
    },
    {
     "name": "stderr",
     "output_type": "stream",
     "text": [
      "100%|███████████████████████████████████████████| 7/7 [00:00<00:00, 1583.78it/s]\n",
      "100%|███████████████████████████████████████████| 7/7 [00:00<00:00, 1798.59it/s]\n"
     ]
    },
    {
     "name": "stdout",
     "output_type": "stream",
     "text": [
      "Time point: 35\n",
      "Z plane: 0\n"
     ]
    },
    {
     "name": "stderr",
     "output_type": "stream",
     "text": [
      "100%|███████████████████████████████████████████| 2/2 [00:00<00:00, 1038.84it/s]\n",
      "100%|████████████████████████████████████████████| 2/2 [00:00<00:00, 625.04it/s]\n"
     ]
    },
    {
     "name": "stdout",
     "output_type": "stream",
     "text": [
      "Z plane: 1\n"
     ]
    },
    {
     "name": "stderr",
     "output_type": "stream",
     "text": [
      "100%|████████████████████████████████████████████| 2/2 [00:00<00:00, 671.14it/s]\n",
      "100%|████████████████████████████████████████████| 2/2 [00:00<00:00, 609.95it/s]\n"
     ]
    },
    {
     "name": "stdout",
     "output_type": "stream",
     "text": [
      "Z plane: 2\n"
     ]
    },
    {
     "name": "stderr",
     "output_type": "stream",
     "text": [
      "100%|███████████████████████████████████████████| 2/2 [00:00<00:00, 1187.68it/s]\n",
      "100%|████████████████████████████████████████████| 2/2 [00:00<00:00, 752.41it/s]\n"
     ]
    },
    {
     "name": "stdout",
     "output_type": "stream",
     "text": [
      "Z plane: 3\n"
     ]
    },
    {
     "name": "stderr",
     "output_type": "stream",
     "text": [
      "100%|████████████████████████████████████████████| 2/2 [00:00<00:00, 643.45it/s]\n",
      "100%|███████████████████████████████████████████| 2/2 [00:00<00:00, 1243.86it/s]\n"
     ]
    },
    {
     "name": "stdout",
     "output_type": "stream",
     "text": [
      "Z plane: 4\n"
     ]
    },
    {
     "name": "stderr",
     "output_type": "stream",
     "text": [
      "100%|████████████████████████████████████████████| 2/2 [00:00<00:00, 743.47it/s]\n",
      "100%|████████████████████████████████████████████| 2/2 [00:00<00:00, 668.63it/s]\n"
     ]
    },
    {
     "name": "stdout",
     "output_type": "stream",
     "text": [
      "Z plane: 5\n"
     ]
    },
    {
     "name": "stderr",
     "output_type": "stream",
     "text": [
      "100%|███████████████████████████████████████████| 3/3 [00:00<00:00, 1013.52it/s]\n",
      "100%|███████████████████████████████████████████| 3/3 [00:00<00:00, 1090.85it/s]\n"
     ]
    },
    {
     "name": "stdout",
     "output_type": "stream",
     "text": [
      "Z plane: 6\n"
     ]
    },
    {
     "name": "stderr",
     "output_type": "stream",
     "text": [
      "100%|███████████████████████████████████████████| 3/3 [00:00<00:00, 1722.98it/s]\n",
      "100%|████████████████████████████████████████████| 3/3 [00:00<00:00, 860.61it/s]\n"
     ]
    },
    {
     "name": "stdout",
     "output_type": "stream",
     "text": [
      "Z plane: 7\n"
     ]
    },
    {
     "name": "stderr",
     "output_type": "stream",
     "text": [
      "100%|███████████████████████████████████████████| 6/6 [00:00<00:00, 1061.58it/s]\n",
      "100%|████████████████████████████████████████████| 6/6 [00:00<00:00, 884.69it/s]\n"
     ]
    },
    {
     "name": "stdout",
     "output_type": "stream",
     "text": [
      "Z plane: 8\n"
     ]
    },
    {
     "name": "stderr",
     "output_type": "stream",
     "text": [
      "100%|████████████████████████████████████████████| 9/9 [00:00<00:00, 861.00it/s]\n",
      "100%|███████████████████████████████████████████| 9/9 [00:00<00:00, 1038.34it/s]\n"
     ]
    },
    {
     "name": "stdout",
     "output_type": "stream",
     "text": [
      "Z plane: 9\n"
     ]
    },
    {
     "name": "stderr",
     "output_type": "stream",
     "text": [
      "100%|██████████████████████████████████████████| 10/10 [00:00<00:00, 984.25it/s]\n",
      "100%|█████████████████████████████████████████| 10/10 [00:00<00:00, 1533.51it/s]\n"
     ]
    },
    {
     "name": "stdout",
     "output_type": "stream",
     "text": [
      "Z plane: 10\n"
     ]
    },
    {
     "name": "stderr",
     "output_type": "stream",
     "text": [
      "100%|█████████████████████████████████████████| 13/13 [00:00<00:00, 1390.51it/s]\n",
      "100%|█████████████████████████████████████████| 13/13 [00:00<00:00, 2468.69it/s]\n"
     ]
    },
    {
     "name": "stdout",
     "output_type": "stream",
     "text": [
      "Z plane: 11\n"
     ]
    },
    {
     "name": "stderr",
     "output_type": "stream",
     "text": [
      "100%|█████████████████████████████████████████| 13/13 [00:00<00:00, 1885.47it/s]\n",
      "100%|█████████████████████████████████████████| 13/13 [00:00<00:00, 4353.72it/s]\n"
     ]
    },
    {
     "name": "stdout",
     "output_type": "stream",
     "text": [
      "Z plane: 12\n"
     ]
    },
    {
     "name": "stderr",
     "output_type": "stream",
     "text": [
      "100%|█████████████████████████████████████████| 14/14 [00:00<00:00, 1530.89it/s]\n",
      "100%|█████████████████████████████████████████| 14/14 [00:00<00:00, 1924.94it/s]\n"
     ]
    },
    {
     "name": "stdout",
     "output_type": "stream",
     "text": [
      "Z plane: 13\n"
     ]
    },
    {
     "name": "stderr",
     "output_type": "stream",
     "text": [
      "100%|█████████████████████████████████████████| 18/18 [00:00<00:00, 1413.41it/s]\n",
      "100%|█████████████████████████████████████████| 18/18 [00:00<00:00, 3138.01it/s]\n"
     ]
    },
    {
     "name": "stdout",
     "output_type": "stream",
     "text": [
      "Z plane: 14\n"
     ]
    },
    {
     "name": "stderr",
     "output_type": "stream",
     "text": [
      "100%|█████████████████████████████████████████| 17/17 [00:00<00:00, 1682.83it/s]\n",
      "100%|█████████████████████████████████████████| 17/17 [00:00<00:00, 2151.83it/s]\n"
     ]
    },
    {
     "name": "stdout",
     "output_type": "stream",
     "text": [
      "Z plane: 15\n"
     ]
    },
    {
     "name": "stderr",
     "output_type": "stream",
     "text": [
      "100%|█████████████████████████████████████████| 20/20 [00:00<00:00, 1923.77it/s]\n",
      "100%|█████████████████████████████████████████| 20/20 [00:00<00:00, 5876.84it/s]\n"
     ]
    },
    {
     "name": "stdout",
     "output_type": "stream",
     "text": [
      "Z plane: 16\n"
     ]
    },
    {
     "name": "stderr",
     "output_type": "stream",
     "text": [
      "100%|█████████████████████████████████████████| 23/23 [00:00<00:00, 2670.64it/s]\n",
      "100%|█████████████████████████████████████████| 23/23 [00:00<00:00, 2880.45it/s]\n"
     ]
    },
    {
     "name": "stdout",
     "output_type": "stream",
     "text": [
      "Z plane: 17\n"
     ]
    },
    {
     "name": "stderr",
     "output_type": "stream",
     "text": [
      "100%|█████████████████████████████████████████| 26/26 [00:00<00:00, 2835.91it/s]\n",
      "100%|█████████████████████████████████████████| 26/26 [00:00<00:00, 5332.35it/s]\n"
     ]
    },
    {
     "name": "stdout",
     "output_type": "stream",
     "text": [
      "Z plane: 18\n"
     ]
    },
    {
     "name": "stderr",
     "output_type": "stream",
     "text": [
      "100%|█████████████████████████████████████████| 30/30 [00:00<00:00, 2002.40it/s]\n",
      "100%|█████████████████████████████████████████| 29/29 [00:00<00:00, 7087.04it/s]\n"
     ]
    },
    {
     "name": "stdout",
     "output_type": "stream",
     "text": [
      "Z plane: 19\n"
     ]
    },
    {
     "name": "stderr",
     "output_type": "stream",
     "text": [
      "100%|█████████████████████████████████████████| 33/33 [00:00<00:00, 2324.77it/s]\n",
      "100%|█████████████████████████████████████████| 33/33 [00:00<00:00, 3701.25it/s]\n"
     ]
    },
    {
     "name": "stdout",
     "output_type": "stream",
     "text": [
      "Z plane: 20\n"
     ]
    },
    {
     "name": "stderr",
     "output_type": "stream",
     "text": [
      "100%|█████████████████████████████████████████| 31/31 [00:00<00:00, 3372.50it/s]\n",
      "100%|████████████████████████████████████████| 31/31 [00:00<00:00, 10388.58it/s]\n"
     ]
    },
    {
     "name": "stdout",
     "output_type": "stream",
     "text": [
      "Z plane: 21\n"
     ]
    },
    {
     "name": "stderr",
     "output_type": "stream",
     "text": [
      "100%|█████████████████████████████████████████| 33/33 [00:00<00:00, 3080.89it/s]\n",
      "100%|█████████████████████████████████████████| 33/33 [00:00<00:00, 4766.75it/s]\n"
     ]
    },
    {
     "name": "stdout",
     "output_type": "stream",
     "text": [
      "Z plane: 22\n"
     ]
    },
    {
     "name": "stderr",
     "output_type": "stream",
     "text": [
      "100%|█████████████████████████████████████████| 39/39 [00:00<00:00, 3463.50it/s]\n",
      "100%|█████████████████████████████████████████| 39/39 [00:00<00:00, 6872.15it/s]\n"
     ]
    },
    {
     "name": "stdout",
     "output_type": "stream",
     "text": [
      "Z plane: 23\n"
     ]
    },
    {
     "name": "stderr",
     "output_type": "stream",
     "text": [
      "100%|█████████████████████████████████████████| 34/34 [00:00<00:00, 2744.17it/s]\n",
      "100%|█████████████████████████████████████████| 34/34 [00:00<00:00, 6322.04it/s]\n"
     ]
    },
    {
     "name": "stdout",
     "output_type": "stream",
     "text": [
      "Z plane: 24\n"
     ]
    },
    {
     "name": "stderr",
     "output_type": "stream",
     "text": [
      "100%|█████████████████████████████████████████| 32/32 [00:00<00:00, 2317.98it/s]\n",
      "100%|█████████████████████████████████████████| 32/32 [00:00<00:00, 6738.18it/s]\n"
     ]
    },
    {
     "name": "stdout",
     "output_type": "stream",
     "text": [
      "Z plane: 25\n"
     ]
    },
    {
     "name": "stderr",
     "output_type": "stream",
     "text": [
      "100%|█████████████████████████████████████████| 33/33 [00:00<00:00, 2932.02it/s]\n",
      "100%|█████████████████████████████████████████| 33/33 [00:00<00:00, 4242.64it/s]\n"
     ]
    },
    {
     "name": "stdout",
     "output_type": "stream",
     "text": [
      "Z plane: 26\n"
     ]
    },
    {
     "name": "stderr",
     "output_type": "stream",
     "text": [
      "100%|█████████████████████████████████████████| 28/28 [00:00<00:00, 2522.56it/s]\n",
      "100%|█████████████████████████████████████████| 28/28 [00:00<00:00, 5383.48it/s]\n"
     ]
    },
    {
     "name": "stdout",
     "output_type": "stream",
     "text": [
      "Z plane: 27\n"
     ]
    },
    {
     "name": "stderr",
     "output_type": "stream",
     "text": [
      "100%|█████████████████████████████████████████| 20/20 [00:00<00:00, 2066.52it/s]\n",
      "100%|█████████████████████████████████████████| 19/19 [00:00<00:00, 2817.26it/s]\n"
     ]
    },
    {
     "name": "stdout",
     "output_type": "stream",
     "text": [
      "Z plane: 28\n"
     ]
    },
    {
     "name": "stderr",
     "output_type": "stream",
     "text": [
      "100%|█████████████████████████████████████████| 16/16 [00:00<00:00, 1601.11it/s]\n",
      "100%|█████████████████████████████████████████| 15/15 [00:00<00:00, 2279.68it/s]\n"
     ]
    },
    {
     "name": "stdout",
     "output_type": "stream",
     "text": [
      "Z plane: 29\n"
     ]
    },
    {
     "name": "stderr",
     "output_type": "stream",
     "text": [
      "100%|█████████████████████████████████████████| 14/14 [00:00<00:00, 1723.97it/s]\n",
      "100%|█████████████████████████████████████████| 14/14 [00:00<00:00, 3095.92it/s]\n"
     ]
    },
    {
     "name": "stdout",
     "output_type": "stream",
     "text": [
      "Z plane: 30\n"
     ]
    },
    {
     "name": "stderr",
     "output_type": "stream",
     "text": [
      "100%|█████████████████████████████████████████| 10/10 [00:00<00:00, 1826.23it/s]\n",
      "100%|█████████████████████████████████████████| 10/10 [00:00<00:00, 1830.14it/s]\n"
     ]
    },
    {
     "name": "stdout",
     "output_type": "stream",
     "text": [
      "Z plane: 31\n"
     ]
    },
    {
     "name": "stderr",
     "output_type": "stream",
     "text": [
      "100%|███████████████████████████████████████████| 7/7 [00:00<00:00, 1518.57it/s]\n",
      "100%|███████████████████████████████████████████| 7/7 [00:00<00:00, 1878.09it/s]\n"
     ]
    },
    {
     "name": "stdout",
     "output_type": "stream",
     "text": [
      "Time point: 36\n",
      "Z plane: 0\n"
     ]
    },
    {
     "name": "stderr",
     "output_type": "stream",
     "text": [
      "100%|███████████████████████████████████████████| 3/3 [00:00<00:00, 1890.46it/s]\n",
      "100%|███████████████████████████████████████████| 3/3 [00:00<00:00, 1277.06it/s]\n"
     ]
    },
    {
     "name": "stdout",
     "output_type": "stream",
     "text": [
      "Z plane: 1\n"
     ]
    },
    {
     "name": "stderr",
     "output_type": "stream",
     "text": [
      "100%|███████████████████████████████████████████| 3/3 [00:00<00:00, 1676.83it/s]\n",
      "100%|███████████████████████████████████████████| 3/3 [00:00<00:00, 1384.41it/s]\n"
     ]
    },
    {
     "name": "stdout",
     "output_type": "stream",
     "text": [
      "Z plane: 2\n"
     ]
    },
    {
     "name": "stderr",
     "output_type": "stream",
     "text": [
      "100%|███████████████████████████████████████████| 3/3 [00:00<00:00, 1136.46it/s]\n",
      "100%|███████████████████████████████████████████| 3/3 [00:00<00:00, 1094.07it/s]\n"
     ]
    },
    {
     "name": "stdout",
     "output_type": "stream",
     "text": [
      "Z plane: 3\n"
     ]
    },
    {
     "name": "stderr",
     "output_type": "stream",
     "text": [
      "100%|███████████████████████████████████████████| 3/3 [00:00<00:00, 1043.10it/s]\n",
      "100%|███████████████████████████████████████████| 3/3 [00:00<00:00, 1132.98it/s]\n"
     ]
    },
    {
     "name": "stdout",
     "output_type": "stream",
     "text": [
      "Z plane: 4\n"
     ]
    },
    {
     "name": "stderr",
     "output_type": "stream",
     "text": [
      "100%|███████████████████████████████████████████| 3/3 [00:00<00:00, 1080.63it/s]\n",
      "100%|████████████████████████████████████████████| 3/3 [00:00<00:00, 934.91it/s]\n"
     ]
    },
    {
     "name": "stdout",
     "output_type": "stream",
     "text": [
      "Z plane: 5\n"
     ]
    },
    {
     "name": "stderr",
     "output_type": "stream",
     "text": [
      "100%|███████████████████████████████████████████| 3/3 [00:00<00:00, 1087.36it/s]\n",
      "100%|███████████████████████████████████████████| 3/3 [00:00<00:00, 1111.07it/s]\n"
     ]
    },
    {
     "name": "stdout",
     "output_type": "stream",
     "text": [
      "Z plane: 6\n"
     ]
    },
    {
     "name": "stderr",
     "output_type": "stream",
     "text": [
      "100%|███████████████████████████████████████████| 5/5 [00:00<00:00, 1306.23it/s]\n",
      "100%|███████████████████████████████████████████| 5/5 [00:00<00:00, 1149.63it/s]\n"
     ]
    },
    {
     "name": "stdout",
     "output_type": "stream",
     "text": [
      "Z plane: 7\n"
     ]
    },
    {
     "name": "stderr",
     "output_type": "stream",
     "text": [
      "100%|███████████████████████████████████████████| 6/6 [00:00<00:00, 1004.34it/s]\n",
      "100%|███████████████████████████████████████████| 6/6 [00:00<00:00, 1030.92it/s]\n"
     ]
    },
    {
     "name": "stdout",
     "output_type": "stream",
     "text": [
      "Z plane: 8\n"
     ]
    },
    {
     "name": "stderr",
     "output_type": "stream",
     "text": [
      "100%|███████████████████████████████████████████| 9/9 [00:00<00:00, 1494.29it/s]\n",
      "100%|███████████████████████████████████████████| 9/9 [00:00<00:00, 1625.14it/s]\n"
     ]
    },
    {
     "name": "stdout",
     "output_type": "stream",
     "text": [
      "Z plane: 9\n"
     ]
    },
    {
     "name": "stderr",
     "output_type": "stream",
     "text": [
      "100%|█████████████████████████████████████████| 10/10 [00:00<00:00, 1327.48it/s]\n",
      "100%|█████████████████████████████████████████| 10/10 [00:00<00:00, 4430.91it/s]\n"
     ]
    },
    {
     "name": "stdout",
     "output_type": "stream",
     "text": [
      "Z plane: 10\n"
     ]
    },
    {
     "name": "stderr",
     "output_type": "stream",
     "text": [
      "100%|█████████████████████████████████████████| 13/13 [00:00<00:00, 1403.86it/s]\n",
      "100%|█████████████████████████████████████████| 13/13 [00:00<00:00, 2307.00it/s]\n"
     ]
    },
    {
     "name": "stdout",
     "output_type": "stream",
     "text": [
      "Z plane: 11\n"
     ]
    },
    {
     "name": "stderr",
     "output_type": "stream",
     "text": [
      "100%|█████████████████████████████████████████| 14/14 [00:00<00:00, 1644.36it/s]\n",
      "100%|█████████████████████████████████████████| 14/14 [00:00<00:00, 2294.66it/s]\n"
     ]
    },
    {
     "name": "stdout",
     "output_type": "stream",
     "text": [
      "Z plane: 12\n"
     ]
    },
    {
     "name": "stderr",
     "output_type": "stream",
     "text": [
      "100%|█████████████████████████████████████████| 13/13 [00:00<00:00, 1626.67it/s]\n",
      "100%|█████████████████████████████████████████| 13/13 [00:00<00:00, 2442.70it/s]\n"
     ]
    },
    {
     "name": "stdout",
     "output_type": "stream",
     "text": [
      "Z plane: 13\n"
     ]
    },
    {
     "name": "stderr",
     "output_type": "stream",
     "text": [
      "100%|█████████████████████████████████████████| 14/14 [00:00<00:00, 1560.26it/s]\n",
      "100%|█████████████████████████████████████████| 14/14 [00:00<00:00, 2549.18it/s]\n"
     ]
    },
    {
     "name": "stdout",
     "output_type": "stream",
     "text": [
      "Z plane: 14\n"
     ]
    },
    {
     "name": "stderr",
     "output_type": "stream",
     "text": [
      "100%|█████████████████████████████████████████| 17/17 [00:00<00:00, 1529.75it/s]\n",
      "100%|█████████████████████████████████████████| 17/17 [00:00<00:00, 3258.53it/s]\n"
     ]
    },
    {
     "name": "stdout",
     "output_type": "stream",
     "text": [
      "Z plane: 15\n"
     ]
    },
    {
     "name": "stderr",
     "output_type": "stream",
     "text": [
      "100%|█████████████████████████████████████████| 20/20 [00:00<00:00, 1504.79it/s]\n",
      "100%|█████████████████████████████████████████| 20/20 [00:00<00:00, 3602.43it/s]\n"
     ]
    },
    {
     "name": "stdout",
     "output_type": "stream",
     "text": [
      "Z plane: 16\n"
     ]
    },
    {
     "name": "stderr",
     "output_type": "stream",
     "text": [
      "100%|█████████████████████████████████████████| 21/21 [00:00<00:00, 2125.80it/s]\n",
      "100%|█████████████████████████████████████████| 21/21 [00:00<00:00, 3692.63it/s]\n"
     ]
    },
    {
     "name": "stdout",
     "output_type": "stream",
     "text": [
      "Z plane: 17\n"
     ]
    },
    {
     "name": "stderr",
     "output_type": "stream",
     "text": [
      "100%|█████████████████████████████████████████| 25/25 [00:00<00:00, 1813.14it/s]\n",
      "100%|█████████████████████████████████████████| 25/25 [00:00<00:00, 3662.00it/s]\n"
     ]
    },
    {
     "name": "stdout",
     "output_type": "stream",
     "text": [
      "Z plane: 18\n"
     ]
    },
    {
     "name": "stderr",
     "output_type": "stream",
     "text": [
      "100%|█████████████████████████████████████████| 27/27 [00:00<00:00, 2118.81it/s]\n",
      "100%|█████████████████████████████████████████| 27/27 [00:00<00:00, 3143.98it/s]\n"
     ]
    },
    {
     "name": "stdout",
     "output_type": "stream",
     "text": [
      "Z plane: 19\n"
     ]
    },
    {
     "name": "stderr",
     "output_type": "stream",
     "text": [
      "100%|█████████████████████████████████████████| 29/29 [00:00<00:00, 2036.79it/s]\n",
      "100%|█████████████████████████████████████████| 29/29 [00:00<00:00, 3571.93it/s]\n"
     ]
    },
    {
     "name": "stdout",
     "output_type": "stream",
     "text": [
      "Z plane: 20\n"
     ]
    },
    {
     "name": "stderr",
     "output_type": "stream",
     "text": [
      "100%|█████████████████████████████████████████| 31/31 [00:00<00:00, 2444.60it/s]\n",
      "100%|█████████████████████████████████████████| 31/31 [00:00<00:00, 4552.80it/s]\n"
     ]
    },
    {
     "name": "stdout",
     "output_type": "stream",
     "text": [
      "Z plane: 21\n"
     ]
    },
    {
     "name": "stderr",
     "output_type": "stream",
     "text": [
      "100%|█████████████████████████████████████████| 35/35 [00:00<00:00, 3160.20it/s]\n",
      "100%|█████████████████████████████████████████| 34/34 [00:00<00:00, 3374.74it/s]\n"
     ]
    },
    {
     "name": "stdout",
     "output_type": "stream",
     "text": [
      "Z plane: 22\n"
     ]
    },
    {
     "name": "stderr",
     "output_type": "stream",
     "text": [
      "100%|█████████████████████████████████████████| 39/39 [00:00<00:00, 3676.82it/s]\n",
      "100%|█████████████████████████████████████████| 39/39 [00:00<00:00, 7033.49it/s]\n"
     ]
    },
    {
     "name": "stdout",
     "output_type": "stream",
     "text": [
      "Z plane: 23\n"
     ]
    },
    {
     "name": "stderr",
     "output_type": "stream",
     "text": [
      "100%|█████████████████████████████████████████| 33/33 [00:00<00:00, 3118.79it/s]\n",
      "100%|█████████████████████████████████████████| 33/33 [00:00<00:00, 5162.70it/s]\n"
     ]
    },
    {
     "name": "stdout",
     "output_type": "stream",
     "text": [
      "Z plane: 24\n"
     ]
    },
    {
     "name": "stderr",
     "output_type": "stream",
     "text": [
      "100%|█████████████████████████████████████████| 34/34 [00:00<00:00, 2270.58it/s]\n",
      "100%|█████████████████████████████████████████| 34/34 [00:00<00:00, 4817.29it/s]\n"
     ]
    },
    {
     "name": "stdout",
     "output_type": "stream",
     "text": [
      "Z plane: 25\n"
     ]
    },
    {
     "name": "stderr",
     "output_type": "stream",
     "text": [
      "100%|█████████████████████████████████████████| 31/31 [00:00<00:00, 2676.32it/s]\n",
      "100%|█████████████████████████████████████████| 31/31 [00:00<00:00, 5038.30it/s]\n"
     ]
    },
    {
     "name": "stdout",
     "output_type": "stream",
     "text": [
      "Z plane: 26\n"
     ]
    },
    {
     "name": "stderr",
     "output_type": "stream",
     "text": [
      "100%|█████████████████████████████████████████| 25/25 [00:00<00:00, 1888.20it/s]\n",
      "100%|█████████████████████████████████████████| 25/25 [00:00<00:00, 3526.64it/s]\n"
     ]
    },
    {
     "name": "stdout",
     "output_type": "stream",
     "text": [
      "Z plane: 27\n"
     ]
    },
    {
     "name": "stderr",
     "output_type": "stream",
     "text": [
      "100%|█████████████████████████████████████████| 19/19 [00:00<00:00, 1694.78it/s]\n",
      "100%|█████████████████████████████████████████| 19/19 [00:00<00:00, 2836.71it/s]\n"
     ]
    },
    {
     "name": "stdout",
     "output_type": "stream",
     "text": [
      "Z plane: 28\n"
     ]
    },
    {
     "name": "stderr",
     "output_type": "stream",
     "text": [
      "100%|█████████████████████████████████████████| 17/17 [00:00<00:00, 1731.00it/s]\n",
      "100%|█████████████████████████████████████████| 17/17 [00:00<00:00, 2390.00it/s]\n"
     ]
    },
    {
     "name": "stdout",
     "output_type": "stream",
     "text": [
      "Z plane: 29\n"
     ]
    },
    {
     "name": "stderr",
     "output_type": "stream",
     "text": [
      "100%|█████████████████████████████████████████| 16/16 [00:00<00:00, 1987.65it/s]\n",
      "100%|█████████████████████████████████████████| 16/16 [00:00<00:00, 2229.97it/s]\n"
     ]
    },
    {
     "name": "stdout",
     "output_type": "stream",
     "text": [
      "Z plane: 30\n"
     ]
    },
    {
     "name": "stderr",
     "output_type": "stream",
     "text": [
      "100%|█████████████████████████████████████████| 13/13 [00:00<00:00, 1534.99it/s]\n",
      "100%|█████████████████████████████████████████| 13/13 [00:00<00:00, 2607.28it/s]\n"
     ]
    },
    {
     "name": "stdout",
     "output_type": "stream",
     "text": [
      "Z plane: 31\n"
     ]
    },
    {
     "name": "stderr",
     "output_type": "stream",
     "text": [
      "100%|█████████████████████████████████████████| 11/11 [00:00<00:00, 1719.30it/s]\n",
      "100%|█████████████████████████████████████████| 11/11 [00:00<00:00, 1923.43it/s]\n"
     ]
    },
    {
     "name": "stdout",
     "output_type": "stream",
     "text": [
      "Time point: 37\n",
      "Z plane: 0\n"
     ]
    },
    {
     "name": "stderr",
     "output_type": "stream",
     "text": [
      "100%|███████████████████████████████████████████| 4/4 [00:00<00:00, 2433.24it/s]\n",
      "100%|███████████████████████████████████████████| 4/4 [00:00<00:00, 1157.21it/s]\n"
     ]
    },
    {
     "name": "stdout",
     "output_type": "stream",
     "text": [
      "Z plane: 1\n"
     ]
    },
    {
     "name": "stderr",
     "output_type": "stream",
     "text": [
      "100%|███████████████████████████████████████████| 4/4 [00:00<00:00, 1595.55it/s]\n",
      "100%|███████████████████████████████████████████| 4/4 [00:00<00:00, 1102.82it/s]\n"
     ]
    },
    {
     "name": "stdout",
     "output_type": "stream",
     "text": [
      "Z plane: 2\n"
     ]
    },
    {
     "name": "stderr",
     "output_type": "stream",
     "text": [
      "100%|███████████████████████████████████████████| 4/4 [00:00<00:00, 2125.58it/s]\n",
      "100%|███████████████████████████████████████████| 4/4 [00:00<00:00, 1748.36it/s]\n"
     ]
    },
    {
     "name": "stdout",
     "output_type": "stream",
     "text": [
      "Z plane: 3\n"
     ]
    },
    {
     "name": "stderr",
     "output_type": "stream",
     "text": [
      "100%|███████████████████████████████████████████| 5/5 [00:00<00:00, 1615.43it/s]\n",
      "100%|███████████████████████████████████████████| 4/4 [00:00<00:00, 1294.14it/s]\n"
     ]
    },
    {
     "name": "stdout",
     "output_type": "stream",
     "text": [
      "Z plane: 4\n"
     ]
    },
    {
     "name": "stderr",
     "output_type": "stream",
     "text": [
      "100%|███████████████████████████████████████████| 5/5 [00:00<00:00, 1342.61it/s]\n",
      "100%|███████████████████████████████████████████| 5/5 [00:00<00:00, 1166.90it/s]\n"
     ]
    },
    {
     "name": "stdout",
     "output_type": "stream",
     "text": [
      "Z plane: 5\n"
     ]
    },
    {
     "name": "stderr",
     "output_type": "stream",
     "text": [
      "100%|███████████████████████████████████████████| 5/5 [00:00<00:00, 1614.93it/s]\n",
      "100%|███████████████████████████████████████████| 5/5 [00:00<00:00, 1264.56it/s]\n"
     ]
    },
    {
     "name": "stdout",
     "output_type": "stream",
     "text": [
      "Z plane: 6\n"
     ]
    },
    {
     "name": "stderr",
     "output_type": "stream",
     "text": [
      "100%|███████████████████████████████████████████| 6/6 [00:00<00:00, 1440.60it/s]\n",
      "100%|███████████████████████████████████████████| 6/6 [00:00<00:00, 1375.56it/s]\n"
     ]
    },
    {
     "name": "stdout",
     "output_type": "stream",
     "text": [
      "Z plane: 7\n"
     ]
    },
    {
     "name": "stderr",
     "output_type": "stream",
     "text": [
      "100%|███████████████████████████████████████████| 9/9 [00:00<00:00, 1827.85it/s]\n",
      "100%|███████████████████████████████████████████| 9/9 [00:00<00:00, 2300.63it/s]\n"
     ]
    },
    {
     "name": "stdout",
     "output_type": "stream",
     "text": [
      "Z plane: 8\n"
     ]
    },
    {
     "name": "stderr",
     "output_type": "stream",
     "text": [
      "100%|█████████████████████████████████████████| 11/11 [00:00<00:00, 1235.01it/s]\n",
      "100%|█████████████████████████████████████████| 11/11 [00:00<00:00, 1732.27it/s]\n"
     ]
    },
    {
     "name": "stdout",
     "output_type": "stream",
     "text": [
      "Z plane: 9\n"
     ]
    },
    {
     "name": "stderr",
     "output_type": "stream",
     "text": [
      "100%|█████████████████████████████████████████| 11/11 [00:00<00:00, 1333.14it/s]\n",
      "100%|█████████████████████████████████████████| 11/11 [00:00<00:00, 1818.51it/s]\n"
     ]
    },
    {
     "name": "stdout",
     "output_type": "stream",
     "text": [
      "Z plane: 10\n"
     ]
    },
    {
     "name": "stderr",
     "output_type": "stream",
     "text": [
      "100%|█████████████████████████████████████████| 15/15 [00:00<00:00, 1352.65it/s]\n",
      "100%|█████████████████████████████████████████| 15/15 [00:00<00:00, 2350.72it/s]\n"
     ]
    },
    {
     "name": "stdout",
     "output_type": "stream",
     "text": [
      "Z plane: 11\n"
     ]
    },
    {
     "name": "stderr",
     "output_type": "stream",
     "text": [
      "100%|█████████████████████████████████████████| 14/14 [00:00<00:00, 1157.30it/s]\n",
      "100%|█████████████████████████████████████████| 14/14 [00:00<00:00, 2883.25it/s]\n"
     ]
    },
    {
     "name": "stdout",
     "output_type": "stream",
     "text": [
      "Z plane: 12\n"
     ]
    },
    {
     "name": "stderr",
     "output_type": "stream",
     "text": [
      "100%|█████████████████████████████████████████| 13/13 [00:00<00:00, 1289.06it/s]\n",
      "100%|█████████████████████████████████████████| 13/13 [00:00<00:00, 3184.74it/s]\n"
     ]
    },
    {
     "name": "stdout",
     "output_type": "stream",
     "text": [
      "Z plane: 13\n"
     ]
    },
    {
     "name": "stderr",
     "output_type": "stream",
     "text": [
      "100%|█████████████████████████████████████████| 13/13 [00:00<00:00, 1670.12it/s]\n",
      "100%|█████████████████████████████████████████| 13/13 [00:00<00:00, 2872.96it/s]\n"
     ]
    },
    {
     "name": "stdout",
     "output_type": "stream",
     "text": [
      "Z plane: 14\n"
     ]
    },
    {
     "name": "stderr",
     "output_type": "stream",
     "text": [
      "100%|█████████████████████████████████████████| 14/14 [00:00<00:00, 1960.74it/s]\n",
      "100%|█████████████████████████████████████████| 14/14 [00:00<00:00, 2698.91it/s]\n"
     ]
    },
    {
     "name": "stdout",
     "output_type": "stream",
     "text": [
      "Z plane: 15\n"
     ]
    },
    {
     "name": "stderr",
     "output_type": "stream",
     "text": [
      "100%|█████████████████████████████████████████| 17/17 [00:00<00:00, 1938.01it/s]\n",
      "100%|█████████████████████████████████████████| 17/17 [00:00<00:00, 3119.94it/s]\n"
     ]
    },
    {
     "name": "stdout",
     "output_type": "stream",
     "text": [
      "Z plane: 16\n"
     ]
    },
    {
     "name": "stderr",
     "output_type": "stream",
     "text": [
      "100%|█████████████████████████████████████████| 21/21 [00:00<00:00, 2284.30it/s]\n",
      "100%|█████████████████████████████████████████| 21/21 [00:00<00:00, 3237.65it/s]\n"
     ]
    },
    {
     "name": "stdout",
     "output_type": "stream",
     "text": [
      "Z plane: 17\n"
     ]
    },
    {
     "name": "stderr",
     "output_type": "stream",
     "text": [
      "100%|█████████████████████████████████████████| 24/24 [00:00<00:00, 1990.85it/s]\n",
      "100%|█████████████████████████████████████████| 24/24 [00:00<00:00, 3294.93it/s]\n"
     ]
    },
    {
     "name": "stdout",
     "output_type": "stream",
     "text": [
      "Z plane: 18\n"
     ]
    },
    {
     "name": "stderr",
     "output_type": "stream",
     "text": [
      "100%|█████████████████████████████████████████| 36/36 [00:00<00:00, 3107.15it/s]\n",
      "100%|█████████████████████████████████████████| 33/33 [00:00<00:00, 4574.39it/s]\n"
     ]
    },
    {
     "name": "stdout",
     "output_type": "stream",
     "text": [
      "Z plane: 19\n"
     ]
    },
    {
     "name": "stderr",
     "output_type": "stream",
     "text": [
      "100%|█████████████████████████████████████████| 36/36 [00:00<00:00, 2527.79it/s]\n",
      "100%|█████████████████████████████████████████| 36/36 [00:00<00:00, 4697.31it/s]\n"
     ]
    },
    {
     "name": "stdout",
     "output_type": "stream",
     "text": [
      "Z plane: 20\n"
     ]
    },
    {
     "name": "stderr",
     "output_type": "stream",
     "text": [
      "100%|█████████████████████████████████████████| 36/36 [00:00<00:00, 3367.64it/s]\n",
      "100%|█████████████████████████████████████████| 35/35 [00:00<00:00, 4589.53it/s]\n"
     ]
    },
    {
     "name": "stdout",
     "output_type": "stream",
     "text": [
      "Z plane: 21\n"
     ]
    },
    {
     "name": "stderr",
     "output_type": "stream",
     "text": [
      "100%|█████████████████████████████████████████| 37/37 [00:00<00:00, 3601.35it/s]\n",
      "100%|█████████████████████████████████████████| 37/37 [00:00<00:00, 6241.52it/s]\n"
     ]
    },
    {
     "name": "stdout",
     "output_type": "stream",
     "text": [
      "Z plane: 22\n"
     ]
    },
    {
     "name": "stderr",
     "output_type": "stream",
     "text": [
      "100%|█████████████████████████████████████████| 35/35 [00:00<00:00, 3186.82it/s]\n",
      "100%|█████████████████████████████████████████| 34/34 [00:00<00:00, 4933.96it/s]\n"
     ]
    },
    {
     "name": "stdout",
     "output_type": "stream",
     "text": [
      "Z plane: 23\n"
     ]
    },
    {
     "name": "stderr",
     "output_type": "stream",
     "text": [
      "100%|█████████████████████████████████████████| 37/37 [00:00<00:00, 5493.62it/s]\n",
      "100%|████████████████████████████████████████| 37/37 [00:00<00:00, 13234.63it/s]\n"
     ]
    },
    {
     "name": "stdout",
     "output_type": "stream",
     "text": [
      "Z plane: 24\n"
     ]
    },
    {
     "name": "stderr",
     "output_type": "stream",
     "text": [
      "100%|█████████████████████████████████████████| 32/32 [00:00<00:00, 3167.16it/s]\n",
      "100%|█████████████████████████████████████████| 32/32 [00:00<00:00, 3524.63it/s]\n"
     ]
    },
    {
     "name": "stdout",
     "output_type": "stream",
     "text": [
      "Z plane: 25\n"
     ]
    },
    {
     "name": "stderr",
     "output_type": "stream",
     "text": [
      "100%|█████████████████████████████████████████| 32/32 [00:00<00:00, 3178.10it/s]\n",
      "100%|█████████████████████████████████████████| 32/32 [00:00<00:00, 6276.84it/s]\n"
     ]
    },
    {
     "name": "stdout",
     "output_type": "stream",
     "text": [
      "Z plane: 26\n"
     ]
    },
    {
     "name": "stderr",
     "output_type": "stream",
     "text": [
      "100%|█████████████████████████████████████████| 30/30 [00:00<00:00, 3101.38it/s]\n",
      "100%|█████████████████████████████████████████| 30/30 [00:00<00:00, 5464.42it/s]\n"
     ]
    },
    {
     "name": "stdout",
     "output_type": "stream",
     "text": [
      "Z plane: 27\n"
     ]
    },
    {
     "name": "stderr",
     "output_type": "stream",
     "text": [
      "100%|█████████████████████████████████████████| 24/24 [00:00<00:00, 2296.47it/s]\n",
      "100%|█████████████████████████████████████████| 24/24 [00:00<00:00, 3221.12it/s]\n"
     ]
    },
    {
     "name": "stdout",
     "output_type": "stream",
     "text": [
      "Z plane: 28\n"
     ]
    },
    {
     "name": "stderr",
     "output_type": "stream",
     "text": [
      "100%|█████████████████████████████████████████| 18/18 [00:00<00:00, 1887.15it/s]\n",
      "100%|█████████████████████████████████████████| 18/18 [00:00<00:00, 4476.58it/s]\n"
     ]
    },
    {
     "name": "stdout",
     "output_type": "stream",
     "text": [
      "Z plane: 29\n"
     ]
    },
    {
     "name": "stderr",
     "output_type": "stream",
     "text": [
      "100%|█████████████████████████████████████████| 14/14 [00:00<00:00, 1636.66it/s]\n",
      "100%|█████████████████████████████████████████| 14/14 [00:00<00:00, 2217.20it/s]\n"
     ]
    },
    {
     "name": "stdout",
     "output_type": "stream",
     "text": [
      "Z plane: 30\n"
     ]
    },
    {
     "name": "stderr",
     "output_type": "stream",
     "text": [
      "100%|█████████████████████████████████████████| 10/10 [00:00<00:00, 1654.49it/s]\n",
      "100%|█████████████████████████████████████████| 10/10 [00:00<00:00, 1443.23it/s]\n"
     ]
    },
    {
     "name": "stdout",
     "output_type": "stream",
     "text": [
      "Z plane: 31\n"
     ]
    },
    {
     "name": "stderr",
     "output_type": "stream",
     "text": [
      "100%|███████████████████████████████████████████| 9/9 [00:00<00:00, 1482.73it/s]\n",
      "100%|███████████████████████████████████████████| 9/9 [00:00<00:00, 1602.51it/s]\n"
     ]
    },
    {
     "name": "stdout",
     "output_type": "stream",
     "text": [
      "Time point: 38\n",
      "Z plane: 0\n"
     ]
    },
    {
     "name": "stderr",
     "output_type": "stream",
     "text": [
      "100%|████████████████████████████████████████████| 2/2 [00:00<00:00, 760.11it/s]\n",
      "100%|████████████████████████████████████████████| 2/2 [00:00<00:00, 565.12it/s]\n"
     ]
    },
    {
     "name": "stdout",
     "output_type": "stream",
     "text": [
      "Z plane: 1\n"
     ]
    },
    {
     "name": "stderr",
     "output_type": "stream",
     "text": [
      "100%|████████████████████████████████████████████| 2/2 [00:00<00:00, 722.84it/s]\n",
      "100%|████████████████████████████████████████████| 2/2 [00:00<00:00, 821.04it/s]\n"
     ]
    },
    {
     "name": "stdout",
     "output_type": "stream",
     "text": [
      "Z plane: 2\n"
     ]
    },
    {
     "name": "stderr",
     "output_type": "stream",
     "text": [
      "100%|███████████████████████████████████████████| 3/3 [00:00<00:00, 1111.56it/s]\n",
      "100%|████████████████████████████████████████████| 3/3 [00:00<00:00, 933.38it/s]\n"
     ]
    },
    {
     "name": "stdout",
     "output_type": "stream",
     "text": [
      "Z plane: 3\n"
     ]
    },
    {
     "name": "stderr",
     "output_type": "stream",
     "text": [
      "100%|████████████████████████████████████████████| 2/2 [00:00<00:00, 928.46it/s]\n",
      "100%|████████████████████████████████████████████| 2/2 [00:00<00:00, 554.47it/s]\n"
     ]
    },
    {
     "name": "stdout",
     "output_type": "stream",
     "text": [
      "Z plane: 4\n"
     ]
    },
    {
     "name": "stderr",
     "output_type": "stream",
     "text": [
      "100%|████████████████████████████████████████████| 2/2 [00:00<00:00, 690.88it/s]\n",
      "100%|████████████████████████████████████████████| 2/2 [00:00<00:00, 677.76it/s]\n"
     ]
    },
    {
     "name": "stdout",
     "output_type": "stream",
     "text": [
      "Z plane: 5\n"
     ]
    },
    {
     "name": "stderr",
     "output_type": "stream",
     "text": [
      "100%|███████████████████████████████████████████| 3/3 [00:00<00:00, 1185.28it/s]\n",
      "100%|████████████████████████████████████████████| 3/3 [00:00<00:00, 894.18it/s]\n"
     ]
    },
    {
     "name": "stdout",
     "output_type": "stream",
     "text": [
      "Z plane: 6\n"
     ]
    },
    {
     "name": "stderr",
     "output_type": "stream",
     "text": [
      "100%|███████████████████████████████████████████| 4/4 [00:00<00:00, 1133.14it/s]\n",
      "100%|███████████████████████████████████████████| 4/4 [00:00<00:00, 1011.04it/s]\n"
     ]
    },
    {
     "name": "stdout",
     "output_type": "stream",
     "text": [
      "Z plane: 7\n"
     ]
    },
    {
     "name": "stderr",
     "output_type": "stream",
     "text": [
      "100%|████████████████████████████████████████████| 7/7 [00:00<00:00, 846.33it/s]\n",
      "100%|███████████████████████████████████████████| 7/7 [00:00<00:00, 1039.52it/s]\n"
     ]
    },
    {
     "name": "stdout",
     "output_type": "stream",
     "text": [
      "Z plane: 8\n"
     ]
    },
    {
     "name": "stderr",
     "output_type": "stream",
     "text": [
      "100%|███████████████████████████████████████████| 8/8 [00:00<00:00, 1178.71it/s]\n",
      "100%|███████████████████████████████████████████| 8/8 [00:00<00:00, 1783.67it/s]\n"
     ]
    },
    {
     "name": "stdout",
     "output_type": "stream",
     "text": [
      "Z plane: 9\n"
     ]
    },
    {
     "name": "stderr",
     "output_type": "stream",
     "text": [
      "100%|████████████████████████████████████████████| 8/8 [00:00<00:00, 838.57it/s]\n",
      "100%|███████████████████████████████████████████| 8/8 [00:00<00:00, 1409.20it/s]\n"
     ]
    },
    {
     "name": "stdout",
     "output_type": "stream",
     "text": [
      "Z plane: 10\n"
     ]
    },
    {
     "name": "stderr",
     "output_type": "stream",
     "text": [
      "100%|█████████████████████████████████████████| 12/12 [00:00<00:00, 1477.86it/s]\n",
      "100%|█████████████████████████████████████████| 12/12 [00:00<00:00, 1740.13it/s]\n"
     ]
    },
    {
     "name": "stdout",
     "output_type": "stream",
     "text": [
      "Z plane: 11\n"
     ]
    },
    {
     "name": "stderr",
     "output_type": "stream",
     "text": [
      "100%|█████████████████████████████████████████| 12/12 [00:00<00:00, 2151.75it/s]\n",
      "100%|█████████████████████████████████████████| 12/12 [00:00<00:00, 3693.25it/s]\n"
     ]
    },
    {
     "name": "stdout",
     "output_type": "stream",
     "text": [
      "Z plane: 12\n"
     ]
    },
    {
     "name": "stderr",
     "output_type": "stream",
     "text": [
      "100%|█████████████████████████████████████████| 14/14 [00:00<00:00, 1263.43it/s]\n",
      "100%|█████████████████████████████████████████| 14/14 [00:00<00:00, 2357.68it/s]\n"
     ]
    },
    {
     "name": "stdout",
     "output_type": "stream",
     "text": [
      "Z plane: 13\n"
     ]
    },
    {
     "name": "stderr",
     "output_type": "stream",
     "text": [
      "100%|█████████████████████████████████████████| 13/13 [00:00<00:00, 1134.26it/s]\n",
      "100%|█████████████████████████████████████████| 13/13 [00:00<00:00, 3525.76it/s]\n"
     ]
    },
    {
     "name": "stdout",
     "output_type": "stream",
     "text": [
      "Z plane: 14\n"
     ]
    },
    {
     "name": "stderr",
     "output_type": "stream",
     "text": [
      "100%|█████████████████████████████████████████| 14/14 [00:00<00:00, 1336.01it/s]\n",
      "100%|█████████████████████████████████████████| 14/14 [00:00<00:00, 2538.92it/s]\n"
     ]
    },
    {
     "name": "stdout",
     "output_type": "stream",
     "text": [
      "Z plane: 15\n"
     ]
    },
    {
     "name": "stderr",
     "output_type": "stream",
     "text": [
      "100%|█████████████████████████████████████████| 16/16 [00:00<00:00, 1231.72it/s]\n",
      "100%|█████████████████████████████████████████| 16/16 [00:00<00:00, 2964.70it/s]\n"
     ]
    },
    {
     "name": "stdout",
     "output_type": "stream",
     "text": [
      "Z plane: 16\n"
     ]
    },
    {
     "name": "stderr",
     "output_type": "stream",
     "text": [
      "100%|█████████████████████████████████████████| 20/20 [00:00<00:00, 1883.64it/s]\n",
      "100%|█████████████████████████████████████████| 20/20 [00:00<00:00, 3851.34it/s]\n"
     ]
    },
    {
     "name": "stdout",
     "output_type": "stream",
     "text": [
      "Z plane: 17\n"
     ]
    },
    {
     "name": "stderr",
     "output_type": "stream",
     "text": [
      "100%|█████████████████████████████████████████| 23/23 [00:00<00:00, 2290.12it/s]\n",
      "100%|█████████████████████████████████████████| 23/23 [00:00<00:00, 3716.78it/s]\n"
     ]
    },
    {
     "name": "stdout",
     "output_type": "stream",
     "text": [
      "Z plane: 18\n"
     ]
    },
    {
     "name": "stderr",
     "output_type": "stream",
     "text": [
      "100%|█████████████████████████████████████████| 30/30 [00:00<00:00, 3311.21it/s]\n",
      "100%|█████████████████████████████████████████| 30/30 [00:00<00:00, 4244.96it/s]\n"
     ]
    },
    {
     "name": "stdout",
     "output_type": "stream",
     "text": [
      "Z plane: 19\n"
     ]
    },
    {
     "name": "stderr",
     "output_type": "stream",
     "text": [
      "100%|█████████████████████████████████████████| 32/32 [00:00<00:00, 2303.65it/s]\n",
      "100%|█████████████████████████████████████████| 32/32 [00:00<00:00, 4536.53it/s]\n"
     ]
    },
    {
     "name": "stdout",
     "output_type": "stream",
     "text": [
      "Z plane: 20\n"
     ]
    },
    {
     "name": "stderr",
     "output_type": "stream",
     "text": [
      "100%|█████████████████████████████████████████| 33/33 [00:00<00:00, 2236.67it/s]\n",
      "100%|█████████████████████████████████████████| 33/33 [00:00<00:00, 4056.03it/s]\n"
     ]
    },
    {
     "name": "stdout",
     "output_type": "stream",
     "text": [
      "Z plane: 21\n"
     ]
    },
    {
     "name": "stderr",
     "output_type": "stream",
     "text": [
      "100%|█████████████████████████████████████████| 32/32 [00:00<00:00, 3412.95it/s]\n",
      "100%|█████████████████████████████████████████| 32/32 [00:00<00:00, 4692.11it/s]\n"
     ]
    },
    {
     "name": "stdout",
     "output_type": "stream",
     "text": [
      "Z plane: 22\n"
     ]
    },
    {
     "name": "stderr",
     "output_type": "stream",
     "text": [
      "100%|█████████████████████████████████████████| 36/36 [00:00<00:00, 2611.15it/s]\n",
      "100%|█████████████████████████████████████████| 35/35 [00:00<00:00, 4426.37it/s]\n"
     ]
    },
    {
     "name": "stdout",
     "output_type": "stream",
     "text": [
      "Z plane: 23\n"
     ]
    },
    {
     "name": "stderr",
     "output_type": "stream",
     "text": [
      "100%|█████████████████████████████████████████| 40/40 [00:00<00:00, 3082.40it/s]\n",
      "100%|█████████████████████████████████████████| 40/40 [00:00<00:00, 4349.36it/s]\n"
     ]
    },
    {
     "name": "stdout",
     "output_type": "stream",
     "text": [
      "Z plane: 24\n"
     ]
    },
    {
     "name": "stderr",
     "output_type": "stream",
     "text": [
      "100%|█████████████████████████████████████████| 33/33 [00:00<00:00, 2648.27it/s]\n",
      "100%|█████████████████████████████████████████| 33/33 [00:00<00:00, 4729.77it/s]\n"
     ]
    },
    {
     "name": "stdout",
     "output_type": "stream",
     "text": [
      "Z plane: 25\n"
     ]
    },
    {
     "name": "stderr",
     "output_type": "stream",
     "text": [
      "100%|█████████████████████████████████████████| 30/30 [00:00<00:00, 2267.40it/s]\n",
      "100%|█████████████████████████████████████████| 30/30 [00:00<00:00, 5806.07it/s]\n"
     ]
    },
    {
     "name": "stdout",
     "output_type": "stream",
     "text": [
      "Z plane: 26\n"
     ]
    },
    {
     "name": "stderr",
     "output_type": "stream",
     "text": [
      "100%|█████████████████████████████████████████| 27/27 [00:00<00:00, 2386.84it/s]\n",
      "100%|█████████████████████████████████████████| 27/27 [00:00<00:00, 8049.92it/s]\n"
     ]
    },
    {
     "name": "stdout",
     "output_type": "stream",
     "text": [
      "Z plane: 27\n"
     ]
    },
    {
     "name": "stderr",
     "output_type": "stream",
     "text": [
      "100%|█████████████████████████████████████████| 24/24 [00:00<00:00, 2331.68it/s]\n",
      "100%|█████████████████████████████████████████| 24/24 [00:00<00:00, 3713.96it/s]\n"
     ]
    },
    {
     "name": "stdout",
     "output_type": "stream",
     "text": [
      "Z plane: 28\n"
     ]
    },
    {
     "name": "stderr",
     "output_type": "stream",
     "text": [
      "100%|█████████████████████████████████████████| 18/18 [00:00<00:00, 4504.62it/s]\n",
      "100%|█████████████████████████████████████████| 18/18 [00:00<00:00, 3990.35it/s]\n"
     ]
    },
    {
     "name": "stdout",
     "output_type": "stream",
     "text": [
      "Z plane: 29\n"
     ]
    },
    {
     "name": "stderr",
     "output_type": "stream",
     "text": [
      "100%|█████████████████████████████████████████| 14/14 [00:00<00:00, 2283.86it/s]\n",
      "100%|█████████████████████████████████████████| 14/14 [00:00<00:00, 1885.02it/s]\n"
     ]
    },
    {
     "name": "stdout",
     "output_type": "stream",
     "text": [
      "Z plane: 30\n"
     ]
    },
    {
     "name": "stderr",
     "output_type": "stream",
     "text": [
      "100%|█████████████████████████████████████████| 11/11 [00:00<00:00, 1832.37it/s]\n",
      "100%|█████████████████████████████████████████| 11/11 [00:00<00:00, 1707.02it/s]\n"
     ]
    },
    {
     "name": "stdout",
     "output_type": "stream",
     "text": [
      "Z plane: 31\n"
     ]
    },
    {
     "name": "stderr",
     "output_type": "stream",
     "text": [
      "100%|███████████████████████████████████████████| 8/8 [00:00<00:00, 1498.17it/s]\n",
      "100%|███████████████████████████████████████████| 8/8 [00:00<00:00, 1548.86it/s]\n"
     ]
    },
    {
     "name": "stdout",
     "output_type": "stream",
     "text": [
      "Time point: 39\n",
      "Z plane: 0\n"
     ]
    },
    {
     "name": "stderr",
     "output_type": "stream",
     "text": [
      "100%|████████████████████████████████████████████| 2/2 [00:00<00:00, 760.53it/s]\n",
      "100%|████████████████████████████████████████████| 2/2 [00:00<00:00, 455.68it/s]\n"
     ]
    },
    {
     "name": "stdout",
     "output_type": "stream",
     "text": [
      "Z plane: 1\n"
     ]
    },
    {
     "name": "stderr",
     "output_type": "stream",
     "text": [
      "100%|████████████████████████████████████████████| 2/2 [00:00<00:00, 695.40it/s]\n",
      "100%|████████████████████████████████████████████| 2/2 [00:00<00:00, 631.91it/s]\n"
     ]
    },
    {
     "name": "stdout",
     "output_type": "stream",
     "text": [
      "Z plane: 2\n"
     ]
    },
    {
     "name": "stderr",
     "output_type": "stream",
     "text": [
      "100%|████████████████████████████████████████████| 2/2 [00:00<00:00, 951.41it/s]\n",
      "100%|████████████████████████████████████████████| 2/2 [00:00<00:00, 551.30it/s]\n"
     ]
    },
    {
     "name": "stdout",
     "output_type": "stream",
     "text": [
      "Z plane: 3\n"
     ]
    },
    {
     "name": "stderr",
     "output_type": "stream",
     "text": [
      "100%|███████████████████████████████████████████| 2/2 [00:00<00:00, 1097.12it/s]\n",
      "100%|███████████████████████████████████████████| 2/2 [00:00<00:00, 1234.71it/s]\n"
     ]
    },
    {
     "name": "stdout",
     "output_type": "stream",
     "text": [
      "Z plane: 4\n"
     ]
    },
    {
     "name": "stderr",
     "output_type": "stream",
     "text": [
      "100%|███████████████████████████████████████████| 4/4 [00:00<00:00, 1762.13it/s]\n",
      "100%|███████████████████████████████████████████| 4/4 [00:00<00:00, 2088.54it/s]\n"
     ]
    },
    {
     "name": "stdout",
     "output_type": "stream",
     "text": [
      "Z plane: 5\n"
     ]
    },
    {
     "name": "stderr",
     "output_type": "stream",
     "text": [
      "100%|████████████████████████████████████████████| 3/3 [00:00<00:00, 759.47it/s]\n",
      "100%|████████████████████████████████████████████| 3/3 [00:00<00:00, 616.63it/s]\n"
     ]
    },
    {
     "name": "stdout",
     "output_type": "stream",
     "text": [
      "Z plane: 6\n"
     ]
    },
    {
     "name": "stderr",
     "output_type": "stream",
     "text": [
      "100%|███████████████████████████████████████████| 5/5 [00:00<00:00, 1509.18it/s]\n",
      "100%|███████████████████████████████████████████| 5/5 [00:00<00:00, 1304.85it/s]\n"
     ]
    },
    {
     "name": "stdout",
     "output_type": "stream",
     "text": [
      "Z plane: 7\n"
     ]
    },
    {
     "name": "stderr",
     "output_type": "stream",
     "text": [
      "100%|███████████████████████████████████████████| 7/7 [00:00<00:00, 1200.48it/s]\n",
      "100%|███████████████████████████████████████████| 7/7 [00:00<00:00, 1207.54it/s]\n"
     ]
    },
    {
     "name": "stdout",
     "output_type": "stream",
     "text": [
      "Z plane: 8\n"
     ]
    },
    {
     "name": "stderr",
     "output_type": "stream",
     "text": [
      "100%|████████████████████████████████████████████| 8/8 [00:00<00:00, 777.62it/s]\n",
      "100%|███████████████████████████████████████████| 8/8 [00:00<00:00, 1124.89it/s]\n"
     ]
    },
    {
     "name": "stdout",
     "output_type": "stream",
     "text": [
      "Z plane: 9\n"
     ]
    },
    {
     "name": "stderr",
     "output_type": "stream",
     "text": [
      "100%|███████████████████████████████████████████| 8/8 [00:00<00:00, 1184.66it/s]\n",
      "100%|███████████████████████████████████████████| 8/8 [00:00<00:00, 2395.89it/s]\n"
     ]
    },
    {
     "name": "stdout",
     "output_type": "stream",
     "text": [
      "Z plane: 10\n"
     ]
    },
    {
     "name": "stderr",
     "output_type": "stream",
     "text": [
      "100%|█████████████████████████████████████████| 13/13 [00:00<00:00, 2046.31it/s]\n",
      "100%|█████████████████████████████████████████| 13/13 [00:00<00:00, 1962.57it/s]\n"
     ]
    },
    {
     "name": "stdout",
     "output_type": "stream",
     "text": [
      "Z plane: 11\n"
     ]
    },
    {
     "name": "stderr",
     "output_type": "stream",
     "text": [
      "100%|█████████████████████████████████████████| 13/13 [00:00<00:00, 1807.11it/s]\n",
      "100%|█████████████████████████████████████████| 13/13 [00:00<00:00, 2454.13it/s]\n"
     ]
    },
    {
     "name": "stdout",
     "output_type": "stream",
     "text": [
      "Z plane: 12\n"
     ]
    },
    {
     "name": "stderr",
     "output_type": "stream",
     "text": [
      "100%|█████████████████████████████████████████| 14/14 [00:00<00:00, 1332.19it/s]\n",
      "100%|█████████████████████████████████████████| 14/14 [00:00<00:00, 1971.21it/s]\n"
     ]
    },
    {
     "name": "stdout",
     "output_type": "stream",
     "text": [
      "Z plane: 13\n"
     ]
    },
    {
     "name": "stderr",
     "output_type": "stream",
     "text": [
      "100%|█████████████████████████████████████████| 13/13 [00:00<00:00, 1447.77it/s]\n",
      "100%|█████████████████████████████████████████| 13/13 [00:00<00:00, 2292.26it/s]\n"
     ]
    },
    {
     "name": "stdout",
     "output_type": "stream",
     "text": [
      "Z plane: 14\n"
     ]
    },
    {
     "name": "stderr",
     "output_type": "stream",
     "text": [
      "100%|█████████████████████████████████████████| 14/14 [00:00<00:00, 1757.46it/s]\n",
      "100%|█████████████████████████████████████████| 14/14 [00:00<00:00, 2022.88it/s]\n"
     ]
    },
    {
     "name": "stdout",
     "output_type": "stream",
     "text": [
      "Z plane: 15\n"
     ]
    },
    {
     "name": "stderr",
     "output_type": "stream",
     "text": [
      "100%|█████████████████████████████████████████| 16/16 [00:00<00:00, 1589.01it/s]\n",
      "100%|█████████████████████████████████████████| 16/16 [00:00<00:00, 1998.77it/s]\n"
     ]
    },
    {
     "name": "stdout",
     "output_type": "stream",
     "text": [
      "Z plane: 16\n"
     ]
    },
    {
     "name": "stderr",
     "output_type": "stream",
     "text": [
      "100%|█████████████████████████████████████████| 17/17 [00:00<00:00, 2093.09it/s]\n",
      "100%|█████████████████████████████████████████| 17/17 [00:00<00:00, 2770.99it/s]\n"
     ]
    },
    {
     "name": "stdout",
     "output_type": "stream",
     "text": [
      "Z plane: 17\n"
     ]
    },
    {
     "name": "stderr",
     "output_type": "stream",
     "text": [
      "100%|█████████████████████████████████████████| 20/20 [00:00<00:00, 2909.98it/s]\n",
      "100%|█████████████████████████████████████████| 20/20 [00:00<00:00, 3131.36it/s]\n"
     ]
    },
    {
     "name": "stdout",
     "output_type": "stream",
     "text": [
      "Z plane: 18\n"
     ]
    },
    {
     "name": "stderr",
     "output_type": "stream",
     "text": [
      "100%|█████████████████████████████████████████| 25/25 [00:00<00:00, 2348.54it/s]\n",
      "100%|█████████████████████████████████████████| 25/25 [00:00<00:00, 4472.30it/s]\n"
     ]
    },
    {
     "name": "stdout",
     "output_type": "stream",
     "text": [
      "Z plane: 19\n"
     ]
    },
    {
     "name": "stderr",
     "output_type": "stream",
     "text": [
      "100%|█████████████████████████████████████████| 29/29 [00:00<00:00, 2764.30it/s]\n",
      "100%|█████████████████████████████████████████| 29/29 [00:00<00:00, 5330.89it/s]\n"
     ]
    },
    {
     "name": "stdout",
     "output_type": "stream",
     "text": [
      "Z plane: 20\n"
     ]
    },
    {
     "name": "stderr",
     "output_type": "stream",
     "text": [
      "100%|█████████████████████████████████████████| 28/28 [00:00<00:00, 2446.01it/s]\n",
      "100%|█████████████████████████████████████████| 28/28 [00:00<00:00, 4095.29it/s]\n"
     ]
    },
    {
     "name": "stdout",
     "output_type": "stream",
     "text": [
      "Z plane: 21\n"
     ]
    },
    {
     "name": "stderr",
     "output_type": "stream",
     "text": [
      "100%|█████████████████████████████████████████| 31/31 [00:00<00:00, 3129.63it/s]\n",
      "100%|█████████████████████████████████████████| 31/31 [00:00<00:00, 5485.76it/s]\n"
     ]
    },
    {
     "name": "stdout",
     "output_type": "stream",
     "text": [
      "Z plane: 22\n"
     ]
    },
    {
     "name": "stderr",
     "output_type": "stream",
     "text": [
      "100%|█████████████████████████████████████████| 31/31 [00:00<00:00, 3226.55it/s]\n",
      "100%|█████████████████████████████████████████| 31/31 [00:00<00:00, 4499.24it/s]\n"
     ]
    },
    {
     "name": "stdout",
     "output_type": "stream",
     "text": [
      "Z plane: 23\n"
     ]
    },
    {
     "name": "stderr",
     "output_type": "stream",
     "text": [
      "100%|█████████████████████████████████████████| 33/33 [00:00<00:00, 3965.85it/s]\n",
      "100%|█████████████████████████████████████████| 33/33 [00:00<00:00, 5886.37it/s]\n"
     ]
    },
    {
     "name": "stdout",
     "output_type": "stream",
     "text": [
      "Z plane: 24\n"
     ]
    },
    {
     "name": "stderr",
     "output_type": "stream",
     "text": [
      "100%|█████████████████████████████████████████| 31/31 [00:00<00:00, 2742.36it/s]\n",
      "100%|█████████████████████████████████████████| 31/31 [00:00<00:00, 8392.40it/s]\n"
     ]
    },
    {
     "name": "stdout",
     "output_type": "stream",
     "text": [
      "Z plane: 25\n"
     ]
    },
    {
     "name": "stderr",
     "output_type": "stream",
     "text": [
      "100%|█████████████████████████████████████████| 26/26 [00:00<00:00, 3139.00it/s]\n",
      "100%|█████████████████████████████████████████| 26/26 [00:00<00:00, 5425.47it/s]\n"
     ]
    },
    {
     "name": "stdout",
     "output_type": "stream",
     "text": [
      "Z plane: 26\n"
     ]
    },
    {
     "name": "stderr",
     "output_type": "stream",
     "text": [
      "100%|█████████████████████████████████████████| 27/27 [00:00<00:00, 2792.20it/s]\n",
      "100%|█████████████████████████████████████████| 27/27 [00:00<00:00, 4854.52it/s]\n"
     ]
    },
    {
     "name": "stdout",
     "output_type": "stream",
     "text": [
      "Z plane: 27\n"
     ]
    },
    {
     "name": "stderr",
     "output_type": "stream",
     "text": [
      "100%|█████████████████████████████████████████| 27/27 [00:00<00:00, 3453.58it/s]\n",
      "100%|█████████████████████████████████████████| 26/26 [00:00<00:00, 6084.47it/s]\n"
     ]
    },
    {
     "name": "stdout",
     "output_type": "stream",
     "text": [
      "Z plane: 28\n"
     ]
    },
    {
     "name": "stderr",
     "output_type": "stream",
     "text": [
      "100%|█████████████████████████████████████████| 22/22 [00:00<00:00, 2163.23it/s]\n",
      "100%|█████████████████████████████████████████| 22/22 [00:00<00:00, 3351.18it/s]\n"
     ]
    },
    {
     "name": "stdout",
     "output_type": "stream",
     "text": [
      "Z plane: 29\n"
     ]
    },
    {
     "name": "stderr",
     "output_type": "stream",
     "text": [
      "100%|█████████████████████████████████████████| 18/18 [00:00<00:00, 1922.91it/s]\n",
      "100%|█████████████████████████████████████████| 18/18 [00:00<00:00, 2545.60it/s]\n"
     ]
    },
    {
     "name": "stdout",
     "output_type": "stream",
     "text": [
      "Z plane: 30\n"
     ]
    },
    {
     "name": "stderr",
     "output_type": "stream",
     "text": [
      "100%|█████████████████████████████████████████| 15/15 [00:00<00:00, 1767.21it/s]\n",
      "100%|█████████████████████████████████████████| 15/15 [00:00<00:00, 1713.31it/s]\n"
     ]
    },
    {
     "name": "stdout",
     "output_type": "stream",
     "text": [
      "Z plane: 31\n"
     ]
    },
    {
     "name": "stderr",
     "output_type": "stream",
     "text": [
      "100%|███████████████████████████████████████████| 9/9 [00:00<00:00, 2493.64it/s]\n",
      "100%|███████████████████████████████████████████| 9/9 [00:00<00:00, 1698.48it/s]\n"
     ]
    },
    {
     "name": "stdout",
     "output_type": "stream",
     "text": [
      "Time point: 40\n",
      "Z plane: 0\n"
     ]
    },
    {
     "name": "stderr",
     "output_type": "stream",
     "text": [
      "100%|███████████████████████████████████████████| 2/2 [00:00<00:00, 1100.00it/s]\n",
      "100%|████████████████████████████████████████████| 2/2 [00:00<00:00, 757.57it/s]\n"
     ]
    },
    {
     "name": "stdout",
     "output_type": "stream",
     "text": [
      "Z plane: 1\n"
     ]
    },
    {
     "name": "stderr",
     "output_type": "stream",
     "text": [
      "100%|███████████████████████████████████████████| 2/2 [00:00<00:00, 1138.21it/s]\n",
      "100%|████████████████████████████████████████████| 2/2 [00:00<00:00, 687.08it/s]\n"
     ]
    },
    {
     "name": "stdout",
     "output_type": "stream",
     "text": [
      "Z plane: 2\n"
     ]
    },
    {
     "name": "stderr",
     "output_type": "stream",
     "text": [
      "100%|███████████████████████████████████████████| 2/2 [00:00<00:00, 1036.91it/s]\n",
      "100%|████████████████████████████████████████████| 2/2 [00:00<00:00, 727.29it/s]\n"
     ]
    },
    {
     "name": "stdout",
     "output_type": "stream",
     "text": [
      "Z plane: 3\n"
     ]
    },
    {
     "name": "stderr",
     "output_type": "stream",
     "text": [
      "100%|███████████████████████████████████████████| 2/2 [00:00<00:00, 1970.54it/s]\n",
      "100%|████████████████████████████████████████████| 2/2 [00:00<00:00, 497.52it/s]\n"
     ]
    },
    {
     "name": "stdout",
     "output_type": "stream",
     "text": [
      "Z plane: 4\n"
     ]
    },
    {
     "name": "stderr",
     "output_type": "stream",
     "text": [
      "100%|████████████████████████████████████████████| 2/2 [00:00<00:00, 892.50it/s]\n",
      "100%|████████████████████████████████████████████| 2/2 [00:00<00:00, 662.24it/s]\n"
     ]
    },
    {
     "name": "stdout",
     "output_type": "stream",
     "text": [
      "Z plane: 5\n"
     ]
    },
    {
     "name": "stderr",
     "output_type": "stream",
     "text": [
      "100%|███████████████████████████████████████████| 2/2 [00:00<00:00, 1493.43it/s]\n",
      "100%|████████████████████████████████████████████| 2/2 [00:00<00:00, 730.14it/s]\n"
     ]
    },
    {
     "name": "stdout",
     "output_type": "stream",
     "text": [
      "Z plane: 6\n"
     ]
    },
    {
     "name": "stderr",
     "output_type": "stream",
     "text": [
      "100%|███████████████████████████████████████████| 5/5 [00:00<00:00, 1558.64it/s]\n",
      "100%|███████████████████████████████████████████| 5/5 [00:00<00:00, 1185.43it/s]\n"
     ]
    },
    {
     "name": "stdout",
     "output_type": "stream",
     "text": [
      "Z plane: 7\n"
     ]
    },
    {
     "name": "stderr",
     "output_type": "stream",
     "text": [
      "100%|███████████████████████████████████████████| 7/7 [00:00<00:00, 1095.81it/s]\n",
      "100%|███████████████████████████████████████████| 7/7 [00:00<00:00, 1106.72it/s]\n"
     ]
    },
    {
     "name": "stdout",
     "output_type": "stream",
     "text": [
      "Z plane: 8\n"
     ]
    },
    {
     "name": "stderr",
     "output_type": "stream",
     "text": [
      "100%|███████████████████████████████████████████| 9/9 [00:00<00:00, 1089.84it/s]\n",
      "100%|███████████████████████████████████████████| 9/9 [00:00<00:00, 2057.60it/s]\n"
     ]
    },
    {
     "name": "stdout",
     "output_type": "stream",
     "text": [
      "Z plane: 9\n"
     ]
    },
    {
     "name": "stderr",
     "output_type": "stream",
     "text": [
      "100%|███████████████████████████████████████████| 8/8 [00:00<00:00, 1000.64it/s]\n",
      "100%|███████████████████████████████████████████| 8/8 [00:00<00:00, 1286.60it/s]\n"
     ]
    },
    {
     "name": "stdout",
     "output_type": "stream",
     "text": [
      "Z plane: 10\n"
     ]
    },
    {
     "name": "stderr",
     "output_type": "stream",
     "text": [
      "100%|█████████████████████████████████████████| 13/13 [00:00<00:00, 1852.10it/s]\n",
      "100%|█████████████████████████████████████████| 13/13 [00:00<00:00, 2792.62it/s]\n"
     ]
    },
    {
     "name": "stdout",
     "output_type": "stream",
     "text": [
      "Z plane: 11\n"
     ]
    },
    {
     "name": "stderr",
     "output_type": "stream",
     "text": [
      "100%|█████████████████████████████████████████| 11/11 [00:00<00:00, 1281.77it/s]\n",
      "100%|█████████████████████████████████████████| 11/11 [00:00<00:00, 1852.16it/s]\n"
     ]
    },
    {
     "name": "stdout",
     "output_type": "stream",
     "text": [
      "Z plane: 12\n"
     ]
    },
    {
     "name": "stderr",
     "output_type": "stream",
     "text": [
      "100%|█████████████████████████████████████████| 13/13 [00:00<00:00, 1213.68it/s]\n",
      "100%|█████████████████████████████████████████| 13/13 [00:00<00:00, 1994.73it/s]\n"
     ]
    },
    {
     "name": "stdout",
     "output_type": "stream",
     "text": [
      "Z plane: 13\n"
     ]
    },
    {
     "name": "stderr",
     "output_type": "stream",
     "text": [
      "100%|█████████████████████████████████████████| 13/13 [00:00<00:00, 1309.02it/s]\n",
      "100%|█████████████████████████████████████████| 13/13 [00:00<00:00, 2525.17it/s]\n"
     ]
    },
    {
     "name": "stdout",
     "output_type": "stream",
     "text": [
      "Z plane: 14\n"
     ]
    },
    {
     "name": "stderr",
     "output_type": "stream",
     "text": [
      "100%|█████████████████████████████████████████| 12/12 [00:00<00:00, 1114.64it/s]\n",
      "100%|█████████████████████████████████████████| 12/12 [00:00<00:00, 2083.35it/s]\n"
     ]
    },
    {
     "name": "stdout",
     "output_type": "stream",
     "text": [
      "Z plane: 15\n"
     ]
    },
    {
     "name": "stderr",
     "output_type": "stream",
     "text": [
      "100%|█████████████████████████████████████████| 15/15 [00:00<00:00, 1580.61it/s]\n",
      "100%|█████████████████████████████████████████| 14/14 [00:00<00:00, 2475.25it/s]\n"
     ]
    },
    {
     "name": "stdout",
     "output_type": "stream",
     "text": [
      "Z plane: 16\n"
     ]
    },
    {
     "name": "stderr",
     "output_type": "stream",
     "text": [
      "100%|█████████████████████████████████████████| 14/14 [00:00<00:00, 1170.85it/s]\n",
      "100%|█████████████████████████████████████████| 14/14 [00:00<00:00, 1827.64it/s]\n"
     ]
    },
    {
     "name": "stdout",
     "output_type": "stream",
     "text": [
      "Z plane: 17\n"
     ]
    },
    {
     "name": "stderr",
     "output_type": "stream",
     "text": [
      "100%|█████████████████████████████████████████| 20/20 [00:00<00:00, 1831.81it/s]\n",
      "100%|█████████████████████████████████████████| 20/20 [00:00<00:00, 2621.52it/s]\n"
     ]
    },
    {
     "name": "stdout",
     "output_type": "stream",
     "text": [
      "Z plane: 18\n"
     ]
    },
    {
     "name": "stderr",
     "output_type": "stream",
     "text": [
      "100%|█████████████████████████████████████████| 23/23 [00:00<00:00, 2720.58it/s]\n",
      "100%|█████████████████████████████████████████| 23/23 [00:00<00:00, 7618.18it/s]\n"
     ]
    },
    {
     "name": "stdout",
     "output_type": "stream",
     "text": [
      "Z plane: 19\n"
     ]
    },
    {
     "name": "stderr",
     "output_type": "stream",
     "text": [
      "100%|█████████████████████████████████████████| 27/27 [00:00<00:00, 2859.82it/s]\n",
      "100%|█████████████████████████████████████████| 27/27 [00:00<00:00, 3823.82it/s]\n"
     ]
    },
    {
     "name": "stdout",
     "output_type": "stream",
     "text": [
      "Z plane: 20\n"
     ]
    },
    {
     "name": "stderr",
     "output_type": "stream",
     "text": [
      "100%|█████████████████████████████████████████| 33/33 [00:00<00:00, 2950.15it/s]\n",
      "100%|█████████████████████████████████████████| 31/31 [00:00<00:00, 3975.89it/s]\n"
     ]
    },
    {
     "name": "stdout",
     "output_type": "stream",
     "text": [
      "Z plane: 21\n"
     ]
    },
    {
     "name": "stderr",
     "output_type": "stream",
     "text": [
      "100%|█████████████████████████████████████████| 31/31 [00:00<00:00, 3020.85it/s]\n",
      "100%|█████████████████████████████████████████| 31/31 [00:00<00:00, 4862.14it/s]\n"
     ]
    },
    {
     "name": "stdout",
     "output_type": "stream",
     "text": [
      "Z plane: 22\n"
     ]
    },
    {
     "name": "stderr",
     "output_type": "stream",
     "text": [
      "100%|█████████████████████████████████████████| 32/32 [00:00<00:00, 2693.40it/s]\n",
      "100%|█████████████████████████████████████████| 31/31 [00:00<00:00, 5239.71it/s]\n"
     ]
    },
    {
     "name": "stdout",
     "output_type": "stream",
     "text": [
      "Z plane: 23\n"
     ]
    },
    {
     "name": "stderr",
     "output_type": "stream",
     "text": [
      "100%|█████████████████████████████████████████| 35/35 [00:00<00:00, 2822.17it/s]\n",
      "100%|█████████████████████████████████████████| 35/35 [00:00<00:00, 4831.67it/s]\n"
     ]
    },
    {
     "name": "stdout",
     "output_type": "stream",
     "text": [
      "Z plane: 24\n"
     ]
    },
    {
     "name": "stderr",
     "output_type": "stream",
     "text": [
      "100%|█████████████████████████████████████████| 32/32 [00:00<00:00, 5024.25it/s]\n",
      "100%|████████████████████████████████████████| 32/32 [00:00<00:00, 11180.15it/s]\n"
     ]
    },
    {
     "name": "stdout",
     "output_type": "stream",
     "text": [
      "Z plane: 25\n"
     ]
    },
    {
     "name": "stderr",
     "output_type": "stream",
     "text": [
      "100%|█████████████████████████████████████████| 29/29 [00:00<00:00, 3176.34it/s]\n",
      "100%|█████████████████████████████████████████| 29/29 [00:00<00:00, 5304.61it/s]\n"
     ]
    },
    {
     "name": "stdout",
     "output_type": "stream",
     "text": [
      "Z plane: 26\n"
     ]
    },
    {
     "name": "stderr",
     "output_type": "stream",
     "text": [
      "100%|█████████████████████████████████████████| 27/27 [00:00<00:00, 2457.01it/s]\n",
      "100%|█████████████████████████████████████████| 27/27 [00:00<00:00, 3532.98it/s]\n"
     ]
    },
    {
     "name": "stdout",
     "output_type": "stream",
     "text": [
      "Z plane: 27\n"
     ]
    },
    {
     "name": "stderr",
     "output_type": "stream",
     "text": [
      "100%|█████████████████████████████████████████| 22/22 [00:00<00:00, 2322.90it/s]\n",
      "100%|█████████████████████████████████████████| 22/22 [00:00<00:00, 3401.83it/s]\n"
     ]
    },
    {
     "name": "stdout",
     "output_type": "stream",
     "text": [
      "Z plane: 28\n"
     ]
    },
    {
     "name": "stderr",
     "output_type": "stream",
     "text": [
      "100%|█████████████████████████████████████████| 22/22 [00:00<00:00, 2782.04it/s]\n",
      "100%|█████████████████████████████████████████| 22/22 [00:00<00:00, 2982.28it/s]\n"
     ]
    },
    {
     "name": "stdout",
     "output_type": "stream",
     "text": [
      "Z plane: 29\n"
     ]
    },
    {
     "name": "stderr",
     "output_type": "stream",
     "text": [
      "100%|█████████████████████████████████████████| 16/16 [00:00<00:00, 1862.58it/s]\n",
      "100%|█████████████████████████████████████████| 16/16 [00:00<00:00, 2147.96it/s]\n"
     ]
    },
    {
     "name": "stdout",
     "output_type": "stream",
     "text": [
      "Z plane: 30\n"
     ]
    },
    {
     "name": "stderr",
     "output_type": "stream",
     "text": [
      "100%|█████████████████████████████████████████| 13/13 [00:00<00:00, 1492.02it/s]\n",
      "100%|█████████████████████████████████████████| 13/13 [00:00<00:00, 2318.08it/s]\n"
     ]
    },
    {
     "name": "stdout",
     "output_type": "stream",
     "text": [
      "Z plane: 31\n"
     ]
    },
    {
     "name": "stderr",
     "output_type": "stream",
     "text": [
      "100%|███████████████████████████████████████████| 9/9 [00:00<00:00, 1467.74it/s]\n",
      "100%|███████████████████████████████████████████| 9/9 [00:00<00:00, 1251.62it/s]\n"
     ]
    },
    {
     "name": "stdout",
     "output_type": "stream",
     "text": [
      "Time point: 41\n",
      "Z plane: 0\n"
     ]
    },
    {
     "name": "stderr",
     "output_type": "stream",
     "text": [
      "100%|████████████████████████████████████████████| 2/2 [00:00<00:00, 787.74it/s]\n",
      "100%|████████████████████████████████████████████| 2/2 [00:00<00:00, 559.17it/s]\n"
     ]
    },
    {
     "name": "stdout",
     "output_type": "stream",
     "text": [
      "Z plane: 1\n"
     ]
    },
    {
     "name": "stderr",
     "output_type": "stream",
     "text": [
      "100%|███████████████████████████████████████████| 2/2 [00:00<00:00, 1880.85it/s]\n",
      "100%|████████████████████████████████████████████| 2/2 [00:00<00:00, 587.73it/s]\n"
     ]
    },
    {
     "name": "stdout",
     "output_type": "stream",
     "text": [
      "Z plane: 2\n"
     ]
    },
    {
     "name": "stderr",
     "output_type": "stream",
     "text": [
      "100%|███████████████████████████████████████████| 4/4 [00:00<00:00, 3278.72it/s]\n",
      "100%|███████████████████████████████████████████| 4/4 [00:00<00:00, 1321.56it/s]\n"
     ]
    },
    {
     "name": "stdout",
     "output_type": "stream",
     "text": [
      "Z plane: 3\n"
     ]
    },
    {
     "name": "stderr",
     "output_type": "stream",
     "text": [
      "100%|███████████████████████████████████████████| 2/2 [00:00<00:00, 1881.28it/s]\n",
      "100%|███████████████████████████████████████████| 2/2 [00:00<00:00, 1001.98it/s]\n"
     ]
    },
    {
     "name": "stdout",
     "output_type": "stream",
     "text": [
      "Z plane: 4\n"
     ]
    },
    {
     "name": "stderr",
     "output_type": "stream",
     "text": [
      "100%|███████████████████████████████████████████| 3/3 [00:00<00:00, 1968.54it/s]\n",
      "100%|███████████████████████████████████████████| 3/3 [00:00<00:00, 1341.60it/s]\n"
     ]
    },
    {
     "name": "stdout",
     "output_type": "stream",
     "text": [
      "Z plane: 5\n"
     ]
    },
    {
     "name": "stderr",
     "output_type": "stream",
     "text": [
      "100%|███████████████████████████████████████████| 3/3 [00:00<00:00, 1648.49it/s]\n",
      "100%|████████████████████████████████████████████| 3/3 [00:00<00:00, 997.06it/s]\n"
     ]
    },
    {
     "name": "stdout",
     "output_type": "stream",
     "text": [
      "Z plane: 6\n"
     ]
    },
    {
     "name": "stderr",
     "output_type": "stream",
     "text": [
      "100%|███████████████████████████████████████████| 7/7 [00:00<00:00, 1282.77it/s]\n",
      "100%|███████████████████████████████████████████| 7/7 [00:00<00:00, 1456.86it/s]\n"
     ]
    },
    {
     "name": "stdout",
     "output_type": "stream",
     "text": [
      "Z plane: 7\n"
     ]
    },
    {
     "name": "stderr",
     "output_type": "stream",
     "text": [
      "100%|███████████████████████████████████████████| 8/8 [00:00<00:00, 1075.29it/s]\n",
      "100%|████████████████████████████████████████████| 8/8 [00:00<00:00, 994.18it/s]\n"
     ]
    },
    {
     "name": "stdout",
     "output_type": "stream",
     "text": [
      "Z plane: 8\n"
     ]
    },
    {
     "name": "stderr",
     "output_type": "stream",
     "text": [
      "100%|███████████████████████████████████████████| 9/9 [00:00<00:00, 1865.42it/s]\n",
      "100%|███████████████████████████████████████████| 9/9 [00:00<00:00, 3557.17it/s]\n"
     ]
    },
    {
     "name": "stdout",
     "output_type": "stream",
     "text": [
      "Z plane: 9\n"
     ]
    },
    {
     "name": "stderr",
     "output_type": "stream",
     "text": [
      "100%|█████████████████████████████████████████| 11/11 [00:00<00:00, 1527.37it/s]\n",
      "100%|█████████████████████████████████████████| 11/11 [00:00<00:00, 2617.87it/s]\n"
     ]
    },
    {
     "name": "stdout",
     "output_type": "stream",
     "text": [
      "Z plane: 10\n"
     ]
    },
    {
     "name": "stderr",
     "output_type": "stream",
     "text": [
      "100%|█████████████████████████████████████████| 15/15 [00:00<00:00, 2269.97it/s]\n",
      "100%|█████████████████████████████████████████| 15/15 [00:00<00:00, 5186.69it/s]\n"
     ]
    },
    {
     "name": "stdout",
     "output_type": "stream",
     "text": [
      "Z plane: 11\n"
     ]
    },
    {
     "name": "stderr",
     "output_type": "stream",
     "text": [
      "100%|█████████████████████████████████████████| 13/13 [00:00<00:00, 2201.56it/s]\n",
      "100%|█████████████████████████████████████████| 12/12 [00:00<00:00, 2396.17it/s]\n"
     ]
    },
    {
     "name": "stdout",
     "output_type": "stream",
     "text": [
      "Z plane: 12\n"
     ]
    },
    {
     "name": "stderr",
     "output_type": "stream",
     "text": [
      "100%|█████████████████████████████████████████| 14/14 [00:00<00:00, 1352.16it/s]\n",
      "100%|█████████████████████████████████████████| 14/14 [00:00<00:00, 1791.95it/s]\n"
     ]
    },
    {
     "name": "stdout",
     "output_type": "stream",
     "text": [
      "Z plane: 13\n"
     ]
    },
    {
     "name": "stderr",
     "output_type": "stream",
     "text": [
      "100%|█████████████████████████████████████████| 14/14 [00:00<00:00, 1580.12it/s]\n",
      "100%|█████████████████████████████████████████| 14/14 [00:00<00:00, 5043.83it/s]\n"
     ]
    },
    {
     "name": "stdout",
     "output_type": "stream",
     "text": [
      "Z plane: 14\n"
     ]
    },
    {
     "name": "stderr",
     "output_type": "stream",
     "text": [
      "100%|█████████████████████████████████████████| 14/14 [00:00<00:00, 2257.34it/s]\n",
      "100%|█████████████████████████████████████████| 14/14 [00:00<00:00, 3754.25it/s]\n"
     ]
    },
    {
     "name": "stdout",
     "output_type": "stream",
     "text": [
      "Z plane: 15\n"
     ]
    },
    {
     "name": "stderr",
     "output_type": "stream",
     "text": [
      "100%|█████████████████████████████████████████| 18/18 [00:00<00:00, 2561.93it/s]\n",
      "100%|█████████████████████████████████████████| 18/18 [00:00<00:00, 3516.42it/s]\n"
     ]
    },
    {
     "name": "stdout",
     "output_type": "stream",
     "text": [
      "Z plane: 16\n"
     ]
    },
    {
     "name": "stderr",
     "output_type": "stream",
     "text": [
      "100%|█████████████████████████████████████████| 21/21 [00:00<00:00, 1949.89it/s]\n",
      "100%|█████████████████████████████████████████| 21/21 [00:00<00:00, 4726.36it/s]\n"
     ]
    },
    {
     "name": "stdout",
     "output_type": "stream",
     "text": [
      "Z plane: 17\n"
     ]
    },
    {
     "name": "stderr",
     "output_type": "stream",
     "text": [
      "100%|█████████████████████████████████████████| 21/21 [00:00<00:00, 2774.45it/s]\n",
      "100%|█████████████████████████████████████████| 21/21 [00:00<00:00, 6443.81it/s]\n"
     ]
    },
    {
     "name": "stdout",
     "output_type": "stream",
     "text": [
      "Z plane: 18\n"
     ]
    },
    {
     "name": "stderr",
     "output_type": "stream",
     "text": [
      "100%|█████████████████████████████████████████| 24/24 [00:00<00:00, 2703.68it/s]\n",
      "100%|█████████████████████████████████████████| 24/24 [00:00<00:00, 2862.60it/s]\n"
     ]
    },
    {
     "name": "stdout",
     "output_type": "stream",
     "text": [
      "Z plane: 19\n"
     ]
    },
    {
     "name": "stderr",
     "output_type": "stream",
     "text": [
      "100%|█████████████████████████████████████████| 27/27 [00:00<00:00, 1911.81it/s]\n",
      "100%|█████████████████████████████████████████| 27/27 [00:00<00:00, 7844.71it/s]\n"
     ]
    },
    {
     "name": "stdout",
     "output_type": "stream",
     "text": [
      "Z plane: 20\n"
     ]
    },
    {
     "name": "stderr",
     "output_type": "stream",
     "text": [
      "100%|█████████████████████████████████████████| 29/29 [00:00<00:00, 2253.08it/s]\n",
      "100%|████████████████████████████████████████| 29/29 [00:00<00:00, 10324.66it/s]\n"
     ]
    },
    {
     "name": "stdout",
     "output_type": "stream",
     "text": [
      "Z plane: 21\n"
     ]
    },
    {
     "name": "stderr",
     "output_type": "stream",
     "text": [
      "100%|█████████████████████████████████████████| 30/30 [00:00<00:00, 2357.94it/s]\n",
      "100%|█████████████████████████████████████████| 29/29 [00:00<00:00, 3656.21it/s]\n"
     ]
    },
    {
     "name": "stdout",
     "output_type": "stream",
     "text": [
      "Z plane: 22\n"
     ]
    },
    {
     "name": "stderr",
     "output_type": "stream",
     "text": [
      "100%|█████████████████████████████████████████| 30/30 [00:00<00:00, 2817.68it/s]\n",
      "100%|█████████████████████████████████████████| 30/30 [00:00<00:00, 4194.72it/s]\n"
     ]
    },
    {
     "name": "stdout",
     "output_type": "stream",
     "text": [
      "Z plane: 23\n"
     ]
    },
    {
     "name": "stderr",
     "output_type": "stream",
     "text": [
      "100%|█████████████████████████████████████████| 32/32 [00:00<00:00, 2377.26it/s]\n",
      "100%|█████████████████████████████████████████| 31/31 [00:00<00:00, 3975.40it/s]\n"
     ]
    },
    {
     "name": "stdout",
     "output_type": "stream",
     "text": [
      "Z plane: 24\n"
     ]
    },
    {
     "name": "stderr",
     "output_type": "stream",
     "text": [
      "100%|█████████████████████████████████████████| 32/32 [00:00<00:00, 2871.83it/s]\n",
      "100%|█████████████████████████████████████████| 32/32 [00:00<00:00, 7751.98it/s]\n"
     ]
    },
    {
     "name": "stdout",
     "output_type": "stream",
     "text": [
      "Z plane: 25\n"
     ]
    },
    {
     "name": "stderr",
     "output_type": "stream",
     "text": [
      "100%|█████████████████████████████████████████| 31/31 [00:00<00:00, 2463.68it/s]\n",
      "100%|█████████████████████████████████████████| 31/31 [00:00<00:00, 2996.83it/s]\n"
     ]
    },
    {
     "name": "stdout",
     "output_type": "stream",
     "text": [
      "Z plane: 26\n"
     ]
    },
    {
     "name": "stderr",
     "output_type": "stream",
     "text": [
      "100%|█████████████████████████████████████████| 28/28 [00:00<00:00, 1985.94it/s]\n",
      "100%|█████████████████████████████████████████| 28/28 [00:00<00:00, 2951.43it/s]\n"
     ]
    },
    {
     "name": "stdout",
     "output_type": "stream",
     "text": [
      "Z plane: 27\n"
     ]
    },
    {
     "name": "stderr",
     "output_type": "stream",
     "text": [
      "100%|█████████████████████████████████████████| 26/26 [00:00<00:00, 1863.94it/s]\n",
      "100%|█████████████████████████████████████████| 26/26 [00:00<00:00, 3214.22it/s]\n"
     ]
    },
    {
     "name": "stdout",
     "output_type": "stream",
     "text": [
      "Z plane: 28\n"
     ]
    },
    {
     "name": "stderr",
     "output_type": "stream",
     "text": [
      "100%|█████████████████████████████████████████| 19/19 [00:00<00:00, 2255.51it/s]\n",
      "100%|█████████████████████████████████████████| 19/19 [00:00<00:00, 2612.76it/s]\n"
     ]
    },
    {
     "name": "stdout",
     "output_type": "stream",
     "text": [
      "Z plane: 29\n"
     ]
    },
    {
     "name": "stderr",
     "output_type": "stream",
     "text": [
      "100%|█████████████████████████████████████████| 15/15 [00:00<00:00, 2544.98it/s]\n",
      "100%|█████████████████████████████████████████| 15/15 [00:00<00:00, 1970.58it/s]\n"
     ]
    },
    {
     "name": "stdout",
     "output_type": "stream",
     "text": [
      "Z plane: 30\n"
     ]
    },
    {
     "name": "stderr",
     "output_type": "stream",
     "text": [
      "100%|█████████████████████████████████████████| 13/13 [00:00<00:00, 1311.04it/s]\n",
      "100%|█████████████████████████████████████████| 13/13 [00:00<00:00, 1381.49it/s]\n"
     ]
    },
    {
     "name": "stdout",
     "output_type": "stream",
     "text": [
      "Z plane: 31\n"
     ]
    },
    {
     "name": "stderr",
     "output_type": "stream",
     "text": [
      "100%|███████████████████████████████████████████| 9/9 [00:00<00:00, 1261.57it/s]\n",
      "100%|███████████████████████████████████████████| 9/9 [00:00<00:00, 1542.40it/s]\n"
     ]
    },
    {
     "name": "stdout",
     "output_type": "stream",
     "text": [
      "Time point: 42\n",
      "Z plane: 0\n"
     ]
    },
    {
     "name": "stderr",
     "output_type": "stream",
     "text": [
      "100%|████████████████████████████████████████████| 3/3 [00:00<00:00, 893.86it/s]\n",
      "100%|████████████████████████████████████████████| 3/3 [00:00<00:00, 896.54it/s]\n"
     ]
    },
    {
     "name": "stdout",
     "output_type": "stream",
     "text": [
      "Z plane: 1\n"
     ]
    },
    {
     "name": "stderr",
     "output_type": "stream",
     "text": [
      "100%|███████████████████████████████████████████| 3/3 [00:00<00:00, 1166.81it/s]\n",
      "100%|████████████████████████████████████████████| 3/3 [00:00<00:00, 888.62it/s]\n"
     ]
    },
    {
     "name": "stdout",
     "output_type": "stream",
     "text": [
      "Z plane: 2\n"
     ]
    },
    {
     "name": "stderr",
     "output_type": "stream",
     "text": [
      "100%|███████████████████████████████████████████| 3/3 [00:00<00:00, 1340.60it/s]\n",
      "100%|███████████████████████████████████████████| 3/3 [00:00<00:00, 1124.88it/s]\n"
     ]
    },
    {
     "name": "stdout",
     "output_type": "stream",
     "text": [
      "Z plane: 3\n"
     ]
    },
    {
     "name": "stderr",
     "output_type": "stream",
     "text": [
      "100%|███████████████████████████████████████████| 3/3 [00:00<00:00, 1464.15it/s]\n",
      "100%|████████████████████████████████████████████| 3/3 [00:00<00:00, 803.87it/s]\n"
     ]
    },
    {
     "name": "stdout",
     "output_type": "stream",
     "text": [
      "Z plane: 4\n"
     ]
    },
    {
     "name": "stderr",
     "output_type": "stream",
     "text": [
      "100%|███████████████████████████████████████████| 3/3 [00:00<00:00, 1361.93it/s]\n",
      "100%|███████████████████████████████████████████| 3/3 [00:00<00:00, 1018.61it/s]\n"
     ]
    },
    {
     "name": "stdout",
     "output_type": "stream",
     "text": [
      "Z plane: 5\n"
     ]
    },
    {
     "name": "stderr",
     "output_type": "stream",
     "text": [
      "100%|████████████████████████████████████████████| 3/3 [00:00<00:00, 970.90it/s]\n",
      "100%|████████████████████████████████████████████| 3/3 [00:00<00:00, 871.27it/s]\n"
     ]
    },
    {
     "name": "stdout",
     "output_type": "stream",
     "text": [
      "Z plane: 6\n"
     ]
    },
    {
     "name": "stderr",
     "output_type": "stream",
     "text": [
      "100%|███████████████████████████████████████████| 7/7 [00:00<00:00, 1019.06it/s]\n",
      "100%|███████████████████████████████████████████| 7/7 [00:00<00:00, 1249.53it/s]\n"
     ]
    },
    {
     "name": "stdout",
     "output_type": "stream",
     "text": [
      "Z plane: 7\n"
     ]
    },
    {
     "name": "stderr",
     "output_type": "stream",
     "text": [
      "100%|███████████████████████████████████████████| 8/8 [00:00<00:00, 1316.69it/s]\n",
      "100%|███████████████████████████████████████████| 8/8 [00:00<00:00, 2122.76it/s]\n"
     ]
    },
    {
     "name": "stdout",
     "output_type": "stream",
     "text": [
      "Z plane: 8\n"
     ]
    },
    {
     "name": "stderr",
     "output_type": "stream",
     "text": [
      "100%|███████████████████████████████████████████| 9/9 [00:00<00:00, 1044.20it/s]\n",
      "100%|███████████████████████████████████████████| 9/9 [00:00<00:00, 1274.95it/s]\n"
     ]
    },
    {
     "name": "stdout",
     "output_type": "stream",
     "text": [
      "Z plane: 9\n"
     ]
    },
    {
     "name": "stderr",
     "output_type": "stream",
     "text": [
      "100%|█████████████████████████████████████████| 11/11 [00:00<00:00, 1216.41it/s]\n",
      "100%|█████████████████████████████████████████| 11/11 [00:00<00:00, 1452.00it/s]\n"
     ]
    },
    {
     "name": "stdout",
     "output_type": "stream",
     "text": [
      "Z plane: 10\n"
     ]
    },
    {
     "name": "stderr",
     "output_type": "stream",
     "text": [
      "100%|█████████████████████████████████████████| 14/14 [00:00<00:00, 2169.76it/s]\n",
      "100%|█████████████████████████████████████████| 14/14 [00:00<00:00, 3009.29it/s]\n"
     ]
    },
    {
     "name": "stdout",
     "output_type": "stream",
     "text": [
      "Z plane: 11\n"
     ]
    },
    {
     "name": "stderr",
     "output_type": "stream",
     "text": [
      "100%|█████████████████████████████████████████| 15/15 [00:00<00:00, 2024.60it/s]\n",
      "100%|█████████████████████████████████████████| 15/15 [00:00<00:00, 3246.70it/s]\n"
     ]
    },
    {
     "name": "stdout",
     "output_type": "stream",
     "text": [
      "Z plane: 12\n"
     ]
    },
    {
     "name": "stderr",
     "output_type": "stream",
     "text": [
      "100%|█████████████████████████████████████████| 15/15 [00:00<00:00, 1331.67it/s]\n",
      "100%|█████████████████████████████████████████| 15/15 [00:00<00:00, 3013.15it/s]\n"
     ]
    },
    {
     "name": "stdout",
     "output_type": "stream",
     "text": [
      "Z plane: 13\n"
     ]
    },
    {
     "name": "stderr",
     "output_type": "stream",
     "text": [
      "100%|█████████████████████████████████████████| 15/15 [00:00<00:00, 1450.25it/s]\n",
      "100%|█████████████████████████████████████████| 15/15 [00:00<00:00, 1822.34it/s]\n"
     ]
    },
    {
     "name": "stdout",
     "output_type": "stream",
     "text": [
      "Z plane: 14\n"
     ]
    },
    {
     "name": "stderr",
     "output_type": "stream",
     "text": [
      "100%|█████████████████████████████████████████| 14/14 [00:00<00:00, 1546.61it/s]\n",
      "100%|█████████████████████████████████████████| 14/14 [00:00<00:00, 3121.59it/s]\n"
     ]
    },
    {
     "name": "stdout",
     "output_type": "stream",
     "text": [
      "Z plane: 15\n"
     ]
    },
    {
     "name": "stderr",
     "output_type": "stream",
     "text": [
      "100%|█████████████████████████████████████████| 19/19 [00:00<00:00, 2277.88it/s]\n",
      "100%|█████████████████████████████████████████| 19/19 [00:00<00:00, 2530.30it/s]\n"
     ]
    },
    {
     "name": "stdout",
     "output_type": "stream",
     "text": [
      "Z plane: 16\n"
     ]
    },
    {
     "name": "stderr",
     "output_type": "stream",
     "text": [
      "100%|█████████████████████████████████████████| 25/25 [00:00<00:00, 2453.67it/s]\n",
      "100%|█████████████████████████████████████████| 25/25 [00:00<00:00, 3652.30it/s]\n"
     ]
    },
    {
     "name": "stdout",
     "output_type": "stream",
     "text": [
      "Z plane: 17\n"
     ]
    },
    {
     "name": "stderr",
     "output_type": "stream",
     "text": [
      "100%|█████████████████████████████████████████| 23/23 [00:00<00:00, 2800.99it/s]\n",
      "100%|█████████████████████████████████████████| 23/23 [00:00<00:00, 3188.21it/s]\n"
     ]
    },
    {
     "name": "stdout",
     "output_type": "stream",
     "text": [
      "Z plane: 18\n"
     ]
    },
    {
     "name": "stderr",
     "output_type": "stream",
     "text": [
      "100%|█████████████████████████████████████████| 24/24 [00:00<00:00, 2343.73it/s]\n",
      "100%|█████████████████████████████████████████| 24/24 [00:00<00:00, 4132.83it/s]\n"
     ]
    },
    {
     "name": "stdout",
     "output_type": "stream",
     "text": [
      "Z plane: 19\n"
     ]
    },
    {
     "name": "stderr",
     "output_type": "stream",
     "text": [
      "100%|█████████████████████████████████████████| 28/28 [00:00<00:00, 2660.34it/s]\n",
      "100%|█████████████████████████████████████████| 27/27 [00:00<00:00, 6491.99it/s]\n"
     ]
    },
    {
     "name": "stdout",
     "output_type": "stream",
     "text": [
      "Z plane: 20\n"
     ]
    },
    {
     "name": "stderr",
     "output_type": "stream",
     "text": [
      "100%|█████████████████████████████████████████| 31/31 [00:00<00:00, 2795.30it/s]\n",
      "100%|█████████████████████████████████████████| 31/31 [00:00<00:00, 5998.50it/s]\n"
     ]
    },
    {
     "name": "stdout",
     "output_type": "stream",
     "text": [
      "Z plane: 21\n"
     ]
    },
    {
     "name": "stderr",
     "output_type": "stream",
     "text": [
      "100%|█████████████████████████████████████████| 29/29 [00:00<00:00, 2388.56it/s]\n",
      "100%|█████████████████████████████████████████| 29/29 [00:00<00:00, 3825.36it/s]\n"
     ]
    },
    {
     "name": "stdout",
     "output_type": "stream",
     "text": [
      "Z plane: 22\n"
     ]
    },
    {
     "name": "stderr",
     "output_type": "stream",
     "text": [
      "100%|█████████████████████████████████████████| 31/31 [00:00<00:00, 2667.64it/s]\n",
      "100%|█████████████████████████████████████████| 30/30 [00:00<00:00, 6511.88it/s]\n"
     ]
    },
    {
     "name": "stdout",
     "output_type": "stream",
     "text": [
      "Z plane: 23\n"
     ]
    },
    {
     "name": "stderr",
     "output_type": "stream",
     "text": [
      "100%|█████████████████████████████████████████| 32/32 [00:00<00:00, 2605.01it/s]\n",
      "100%|█████████████████████████████████████████| 32/32 [00:00<00:00, 4440.77it/s]\n"
     ]
    },
    {
     "name": "stdout",
     "output_type": "stream",
     "text": [
      "Z plane: 24\n"
     ]
    },
    {
     "name": "stderr",
     "output_type": "stream",
     "text": [
      "100%|█████████████████████████████████████████| 34/34 [00:00<00:00, 2597.80it/s]\n",
      "100%|█████████████████████████████████████████| 34/34 [00:00<00:00, 5539.40it/s]\n"
     ]
    },
    {
     "name": "stdout",
     "output_type": "stream",
     "text": [
      "Z plane: 25\n"
     ]
    },
    {
     "name": "stderr",
     "output_type": "stream",
     "text": [
      "100%|█████████████████████████████████████████| 26/26 [00:00<00:00, 2046.73it/s]\n",
      "100%|█████████████████████████████████████████| 26/26 [00:00<00:00, 4561.51it/s]\n"
     ]
    },
    {
     "name": "stdout",
     "output_type": "stream",
     "text": [
      "Z plane: 26\n"
     ]
    },
    {
     "name": "stderr",
     "output_type": "stream",
     "text": [
      "100%|█████████████████████████████████████████| 25/25 [00:00<00:00, 2326.03it/s]\n",
      "100%|█████████████████████████████████████████| 25/25 [00:00<00:00, 3718.62it/s]\n"
     ]
    },
    {
     "name": "stdout",
     "output_type": "stream",
     "text": [
      "Z plane: 27\n"
     ]
    },
    {
     "name": "stderr",
     "output_type": "stream",
     "text": [
      "100%|█████████████████████████████████████████| 19/19 [00:00<00:00, 1730.44it/s]\n",
      "100%|█████████████████████████████████████████| 19/19 [00:00<00:00, 2854.60it/s]\n"
     ]
    },
    {
     "name": "stdout",
     "output_type": "stream",
     "text": [
      "Z plane: 28\n"
     ]
    },
    {
     "name": "stderr",
     "output_type": "stream",
     "text": [
      "100%|█████████████████████████████████████████| 17/17 [00:00<00:00, 2080.51it/s]\n",
      "100%|█████████████████████████████████████████| 17/17 [00:00<00:00, 2492.59it/s]\n"
     ]
    },
    {
     "name": "stdout",
     "output_type": "stream",
     "text": [
      "Z plane: 29\n"
     ]
    },
    {
     "name": "stderr",
     "output_type": "stream",
     "text": [
      "100%|█████████████████████████████████████████| 17/17 [00:00<00:00, 1446.17it/s]\n",
      "100%|█████████████████████████████████████████| 17/17 [00:00<00:00, 2996.69it/s]\n"
     ]
    },
    {
     "name": "stdout",
     "output_type": "stream",
     "text": [
      "Z plane: 30\n"
     ]
    },
    {
     "name": "stderr",
     "output_type": "stream",
     "text": [
      "100%|█████████████████████████████████████████| 12/12 [00:00<00:00, 1813.17it/s]\n",
      "100%|█████████████████████████████████████████| 12/12 [00:00<00:00, 2075.45it/s]\n"
     ]
    },
    {
     "name": "stdout",
     "output_type": "stream",
     "text": [
      "Z plane: 31\n"
     ]
    },
    {
     "name": "stderr",
     "output_type": "stream",
     "text": [
      "100%|███████████████████████████████████████████| 9/9 [00:00<00:00, 1736.45it/s]\n",
      "100%|███████████████████████████████████████████| 9/9 [00:00<00:00, 2070.35it/s]\n"
     ]
    },
    {
     "name": "stdout",
     "output_type": "stream",
     "text": [
      "Time point: 43\n",
      "Z plane: 0\n"
     ]
    },
    {
     "name": "stderr",
     "output_type": "stream",
     "text": [
      "100%|███████████████████████████████████████████| 4/4 [00:00<00:00, 1932.41it/s]\n",
      "100%|███████████████████████████████████████████| 4/4 [00:00<00:00, 1510.51it/s]\n"
     ]
    },
    {
     "name": "stdout",
     "output_type": "stream",
     "text": [
      "Z plane: 1\n"
     ]
    },
    {
     "name": "stderr",
     "output_type": "stream",
     "text": [
      "100%|███████████████████████████████████████████| 5/5 [00:00<00:00, 1444.72it/s]\n",
      "100%|███████████████████████████████████████████| 5/5 [00:00<00:00, 1575.38it/s]\n"
     ]
    },
    {
     "name": "stdout",
     "output_type": "stream",
     "text": [
      "Z plane: 2\n"
     ]
    },
    {
     "name": "stderr",
     "output_type": "stream",
     "text": [
      "100%|███████████████████████████████████████████| 4/4 [00:00<00:00, 1196.15it/s]\n",
      "100%|████████████████████████████████████████████| 4/4 [00:00<00:00, 932.84it/s]\n"
     ]
    },
    {
     "name": "stdout",
     "output_type": "stream",
     "text": [
      "Z plane: 3\n"
     ]
    },
    {
     "name": "stderr",
     "output_type": "stream",
     "text": [
      "100%|███████████████████████████████████████████| 3/3 [00:00<00:00, 1048.93it/s]\n",
      "100%|████████████████████████████████████████████| 3/3 [00:00<00:00, 793.92it/s]\n"
     ]
    },
    {
     "name": "stdout",
     "output_type": "stream",
     "text": [
      "Z plane: 4\n"
     ]
    },
    {
     "name": "stderr",
     "output_type": "stream",
     "text": [
      "100%|███████████████████████████████████████████| 4/4 [00:00<00:00, 1495.43it/s]\n",
      "100%|███████████████████████████████████████████| 4/4 [00:00<00:00, 1433.58it/s]\n"
     ]
    },
    {
     "name": "stdout",
     "output_type": "stream",
     "text": [
      "Z plane: 5\n"
     ]
    },
    {
     "name": "stderr",
     "output_type": "stream",
     "text": [
      "100%|███████████████████████████████████████████| 5/5 [00:00<00:00, 1813.67it/s]\n",
      "100%|███████████████████████████████████████████| 5/5 [00:00<00:00, 1056.93it/s]\n"
     ]
    },
    {
     "name": "stdout",
     "output_type": "stream",
     "text": [
      "Z plane: 6\n"
     ]
    },
    {
     "name": "stderr",
     "output_type": "stream",
     "text": [
      "100%|███████████████████████████████████████████| 8/8 [00:00<00:00, 1597.37it/s]\n",
      "100%|███████████████████████████████████████████| 8/8 [00:00<00:00, 2033.48it/s]\n"
     ]
    },
    {
     "name": "stdout",
     "output_type": "stream",
     "text": [
      "Z plane: 7\n"
     ]
    },
    {
     "name": "stderr",
     "output_type": "stream",
     "text": [
      "100%|███████████████████████████████████████████| 9/9 [00:00<00:00, 1064.33it/s]\n",
      "100%|███████████████████████████████████████████| 9/9 [00:00<00:00, 1679.06it/s]\n"
     ]
    },
    {
     "name": "stdout",
     "output_type": "stream",
     "text": [
      "Z plane: 8\n"
     ]
    },
    {
     "name": "stderr",
     "output_type": "stream",
     "text": [
      "100%|█████████████████████████████████████████| 10/10 [00:00<00:00, 1098.19it/s]\n",
      "100%|█████████████████████████████████████████| 10/10 [00:00<00:00, 2486.84it/s]\n"
     ]
    },
    {
     "name": "stdout",
     "output_type": "stream",
     "text": [
      "Z plane: 9\n"
     ]
    },
    {
     "name": "stderr",
     "output_type": "stream",
     "text": [
      "100%|█████████████████████████████████████████| 12/12 [00:00<00:00, 1487.17it/s]\n",
      "100%|█████████████████████████████████████████| 12/12 [00:00<00:00, 2339.05it/s]\n"
     ]
    },
    {
     "name": "stdout",
     "output_type": "stream",
     "text": [
      "Z plane: 10\n"
     ]
    },
    {
     "name": "stderr",
     "output_type": "stream",
     "text": [
      "100%|█████████████████████████████████████████| 14/14 [00:00<00:00, 1766.55it/s]\n",
      "100%|█████████████████████████████████████████| 14/14 [00:00<00:00, 3384.06it/s]\n"
     ]
    },
    {
     "name": "stdout",
     "output_type": "stream",
     "text": [
      "Z plane: 11\n"
     ]
    },
    {
     "name": "stderr",
     "output_type": "stream",
     "text": [
      "100%|█████████████████████████████████████████| 16/16 [00:00<00:00, 1620.87it/s]\n",
      "100%|█████████████████████████████████████████| 15/15 [00:00<00:00, 2081.54it/s]\n"
     ]
    },
    {
     "name": "stdout",
     "output_type": "stream",
     "text": [
      "Z plane: 12\n"
     ]
    },
    {
     "name": "stderr",
     "output_type": "stream",
     "text": [
      "100%|█████████████████████████████████████████| 16/16 [00:00<00:00, 2168.30it/s]\n",
      "100%|█████████████████████████████████████████| 16/16 [00:00<00:00, 2593.28it/s]\n"
     ]
    },
    {
     "name": "stdout",
     "output_type": "stream",
     "text": [
      "Z plane: 13\n"
     ]
    },
    {
     "name": "stderr",
     "output_type": "stream",
     "text": [
      "100%|█████████████████████████████████████████| 15/15 [00:00<00:00, 1611.83it/s]\n",
      "100%|█████████████████████████████████████████| 15/15 [00:00<00:00, 2254.60it/s]\n"
     ]
    },
    {
     "name": "stdout",
     "output_type": "stream",
     "text": [
      "Z plane: 14\n"
     ]
    },
    {
     "name": "stderr",
     "output_type": "stream",
     "text": [
      "100%|█████████████████████████████████████████| 15/15 [00:00<00:00, 1468.15it/s]\n",
      "100%|█████████████████████████████████████████| 15/15 [00:00<00:00, 2822.67it/s]\n"
     ]
    },
    {
     "name": "stdout",
     "output_type": "stream",
     "text": [
      "Z plane: 15\n"
     ]
    },
    {
     "name": "stderr",
     "output_type": "stream",
     "text": [
      "100%|█████████████████████████████████████████| 18/18 [00:00<00:00, 1639.50it/s]\n",
      "100%|█████████████████████████████████████████| 18/18 [00:00<00:00, 5386.14it/s]\n"
     ]
    },
    {
     "name": "stdout",
     "output_type": "stream",
     "text": [
      "Z plane: 16\n"
     ]
    },
    {
     "name": "stderr",
     "output_type": "stream",
     "text": [
      "100%|█████████████████████████████████████████| 22/22 [00:00<00:00, 2031.99it/s]\n",
      "100%|█████████████████████████████████████████| 22/22 [00:00<00:00, 2752.82it/s]\n"
     ]
    },
    {
     "name": "stdout",
     "output_type": "stream",
     "text": [
      "Z plane: 17\n"
     ]
    },
    {
     "name": "stderr",
     "output_type": "stream",
     "text": [
      "100%|█████████████████████████████████████████| 24/24 [00:00<00:00, 2431.13it/s]\n",
      "100%|█████████████████████████████████████████| 24/24 [00:00<00:00, 4456.10it/s]\n"
     ]
    },
    {
     "name": "stdout",
     "output_type": "stream",
     "text": [
      "Z plane: 18\n"
     ]
    },
    {
     "name": "stderr",
     "output_type": "stream",
     "text": [
      "100%|█████████████████████████████████████████| 26/26 [00:00<00:00, 1863.69it/s]\n",
      "100%|█████████████████████████████████████████| 26/26 [00:00<00:00, 4112.53it/s]\n"
     ]
    },
    {
     "name": "stdout",
     "output_type": "stream",
     "text": [
      "Z plane: 19\n"
     ]
    },
    {
     "name": "stderr",
     "output_type": "stream",
     "text": [
      "100%|█████████████████████████████████████████| 26/26 [00:00<00:00, 1905.57it/s]\n",
      "100%|█████████████████████████████████████████| 26/26 [00:00<00:00, 3305.00it/s]\n"
     ]
    },
    {
     "name": "stdout",
     "output_type": "stream",
     "text": [
      "Z plane: 20\n"
     ]
    },
    {
     "name": "stderr",
     "output_type": "stream",
     "text": [
      "100%|█████████████████████████████████████████| 30/30 [00:00<00:00, 2277.04it/s]\n",
      "100%|█████████████████████████████████████████| 30/30 [00:00<00:00, 6016.79it/s]\n"
     ]
    },
    {
     "name": "stdout",
     "output_type": "stream",
     "text": [
      "Z plane: 21\n"
     ]
    },
    {
     "name": "stderr",
     "output_type": "stream",
     "text": [
      "100%|█████████████████████████████████████████| 35/35 [00:00<00:00, 4090.75it/s]\n",
      "100%|█████████████████████████████████████████| 34/34 [00:00<00:00, 6347.93it/s]\n"
     ]
    },
    {
     "name": "stdout",
     "output_type": "stream",
     "text": [
      "Z plane: 22\n"
     ]
    },
    {
     "name": "stderr",
     "output_type": "stream",
     "text": [
      "100%|█████████████████████████████████████████| 33/33 [00:00<00:00, 5541.36it/s]\n",
      "100%|█████████████████████████████████████████| 33/33 [00:00<00:00, 7542.48it/s]\n"
     ]
    },
    {
     "name": "stdout",
     "output_type": "stream",
     "text": [
      "Z plane: 23\n"
     ]
    },
    {
     "name": "stderr",
     "output_type": "stream",
     "text": [
      "100%|█████████████████████████████████████████| 33/33 [00:00<00:00, 4863.73it/s]\n",
      "100%|█████████████████████████████████████████| 33/33 [00:00<00:00, 6313.55it/s]\n"
     ]
    },
    {
     "name": "stdout",
     "output_type": "stream",
     "text": [
      "Z plane: 24\n"
     ]
    },
    {
     "name": "stderr",
     "output_type": "stream",
     "text": [
      "100%|█████████████████████████████████████████| 33/33 [00:00<00:00, 2736.33it/s]\n",
      "100%|█████████████████████████████████████████| 33/33 [00:00<00:00, 6086.45it/s]\n"
     ]
    },
    {
     "name": "stdout",
     "output_type": "stream",
     "text": [
      "Z plane: 25\n"
     ]
    },
    {
     "name": "stderr",
     "output_type": "stream",
     "text": [
      "100%|█████████████████████████████████████████| 32/32 [00:00<00:00, 2535.04it/s]\n",
      "100%|█████████████████████████████████████████| 32/32 [00:00<00:00, 5882.36it/s]\n"
     ]
    },
    {
     "name": "stdout",
     "output_type": "stream",
     "text": [
      "Z plane: 26\n"
     ]
    },
    {
     "name": "stderr",
     "output_type": "stream",
     "text": [
      "100%|█████████████████████████████████████████| 28/28 [00:00<00:00, 2468.02it/s]\n",
      "100%|█████████████████████████████████████████| 28/28 [00:00<00:00, 5169.04it/s]\n"
     ]
    },
    {
     "name": "stdout",
     "output_type": "stream",
     "text": [
      "Z plane: 27\n"
     ]
    },
    {
     "name": "stderr",
     "output_type": "stream",
     "text": [
      "100%|█████████████████████████████████████████| 23/23 [00:00<00:00, 2585.12it/s]\n",
      "100%|█████████████████████████████████████████| 22/22 [00:00<00:00, 4871.43it/s]\n"
     ]
    },
    {
     "name": "stdout",
     "output_type": "stream",
     "text": [
      "Z plane: 28\n"
     ]
    },
    {
     "name": "stderr",
     "output_type": "stream",
     "text": [
      "100%|█████████████████████████████████████████| 20/20 [00:00<00:00, 2030.01it/s]\n",
      "100%|█████████████████████████████████████████| 20/20 [00:00<00:00, 3109.89it/s]\n"
     ]
    },
    {
     "name": "stdout",
     "output_type": "stream",
     "text": [
      "Z plane: 29\n"
     ]
    },
    {
     "name": "stderr",
     "output_type": "stream",
     "text": [
      "100%|█████████████████████████████████████████| 18/18 [00:00<00:00, 1623.53it/s]\n",
      "100%|█████████████████████████████████████████| 18/18 [00:00<00:00, 2606.51it/s]\n"
     ]
    },
    {
     "name": "stdout",
     "output_type": "stream",
     "text": [
      "Z plane: 30\n"
     ]
    },
    {
     "name": "stderr",
     "output_type": "stream",
     "text": [
      "100%|█████████████████████████████████████████| 16/16 [00:00<00:00, 2167.46it/s]\n",
      "100%|█████████████████████████████████████████| 16/16 [00:00<00:00, 3385.40it/s]\n"
     ]
    },
    {
     "name": "stdout",
     "output_type": "stream",
     "text": [
      "Z plane: 31\n"
     ]
    },
    {
     "name": "stderr",
     "output_type": "stream",
     "text": [
      "100%|█████████████████████████████████████████| 12/12 [00:00<00:00, 2005.64it/s]\n",
      "100%|█████████████████████████████████████████| 12/12 [00:00<00:00, 2497.35it/s]\n"
     ]
    },
    {
     "name": "stdout",
     "output_type": "stream",
     "text": [
      "Time point: 44\n",
      "Z plane: 0\n"
     ]
    },
    {
     "name": "stderr",
     "output_type": "stream",
     "text": [
      "100%|███████████████████████████████████████████| 5/5 [00:00<00:00, 1467.87it/s]\n",
      "100%|███████████████████████████████████████████| 5/5 [00:00<00:00, 1309.66it/s]\n"
     ]
    },
    {
     "name": "stdout",
     "output_type": "stream",
     "text": [
      "Z plane: 1\n"
     ]
    },
    {
     "name": "stderr",
     "output_type": "stream",
     "text": [
      "100%|███████████████████████████████████████████| 4/4 [00:00<00:00, 1283.74it/s]\n",
      "100%|████████████████████████████████████████████| 4/4 [00:00<00:00, 954.23it/s]\n"
     ]
    },
    {
     "name": "stdout",
     "output_type": "stream",
     "text": [
      "Z plane: 2\n"
     ]
    },
    {
     "name": "stderr",
     "output_type": "stream",
     "text": [
      "100%|███████████████████████████████████████████| 4/4 [00:00<00:00, 1328.47it/s]\n",
      "100%|███████████████████████████████████████████| 4/4 [00:00<00:00, 1534.27it/s]\n"
     ]
    },
    {
     "name": "stdout",
     "output_type": "stream",
     "text": [
      "Z plane: 3\n"
     ]
    },
    {
     "name": "stderr",
     "output_type": "stream",
     "text": [
      "100%|███████████████████████████████████████████| 4/4 [00:00<00:00, 1155.77it/s]\n",
      "100%|███████████████████████████████████████████| 4/4 [00:00<00:00, 1989.24it/s]\n"
     ]
    },
    {
     "name": "stdout",
     "output_type": "stream",
     "text": [
      "Z plane: 4\n"
     ]
    },
    {
     "name": "stderr",
     "output_type": "stream",
     "text": [
      "100%|███████████████████████████████████████████| 4/4 [00:00<00:00, 1959.73it/s]\n",
      "100%|███████████████████████████████████████████| 4/4 [00:00<00:00, 1027.45it/s]\n"
     ]
    },
    {
     "name": "stdout",
     "output_type": "stream",
     "text": [
      "Z plane: 5\n"
     ]
    },
    {
     "name": "stderr",
     "output_type": "stream",
     "text": [
      "100%|███████████████████████████████████████████| 5/5 [00:00<00:00, 1681.08it/s]\n",
      "100%|███████████████████████████████████████████| 5/5 [00:00<00:00, 1258.49it/s]\n"
     ]
    },
    {
     "name": "stdout",
     "output_type": "stream",
     "text": [
      "Z plane: 6\n"
     ]
    },
    {
     "name": "stderr",
     "output_type": "stream",
     "text": [
      "100%|███████████████████████████████████████████| 9/9 [00:00<00:00, 1536.44it/s]\n",
      "100%|███████████████████████████████████████████| 9/9 [00:00<00:00, 1834.87it/s]\n"
     ]
    },
    {
     "name": "stdout",
     "output_type": "stream",
     "text": [
      "Z plane: 7\n"
     ]
    },
    {
     "name": "stderr",
     "output_type": "stream",
     "text": [
      "100%|█████████████████████████████████████████| 11/11 [00:00<00:00, 1607.74it/s]\n",
      "100%|█████████████████████████████████████████| 10/10 [00:00<00:00, 1397.64it/s]\n"
     ]
    },
    {
     "name": "stdout",
     "output_type": "stream",
     "text": [
      "Z plane: 8\n"
     ]
    },
    {
     "name": "stderr",
     "output_type": "stream",
     "text": [
      "100%|█████████████████████████████████████████| 10/10 [00:00<00:00, 1005.13it/s]\n",
      "100%|█████████████████████████████████████████| 10/10 [00:00<00:00, 2339.79it/s]\n"
     ]
    },
    {
     "name": "stdout",
     "output_type": "stream",
     "text": [
      "Z plane: 9\n"
     ]
    },
    {
     "name": "stderr",
     "output_type": "stream",
     "text": [
      "100%|█████████████████████████████████████████| 12/12 [00:00<00:00, 1609.22it/s]\n",
      "100%|█████████████████████████████████████████| 12/12 [00:00<00:00, 1987.43it/s]\n"
     ]
    },
    {
     "name": "stdout",
     "output_type": "stream",
     "text": [
      "Z plane: 10\n"
     ]
    },
    {
     "name": "stderr",
     "output_type": "stream",
     "text": [
      "100%|█████████████████████████████████████████| 13/13 [00:00<00:00, 1923.11it/s]\n",
      "100%|█████████████████████████████████████████| 13/13 [00:00<00:00, 2445.33it/s]\n"
     ]
    },
    {
     "name": "stdout",
     "output_type": "stream",
     "text": [
      "Z plane: 11\n"
     ]
    },
    {
     "name": "stderr",
     "output_type": "stream",
     "text": [
      "100%|█████████████████████████████████████████| 17/17 [00:00<00:00, 2286.16it/s]\n",
      "100%|█████████████████████████████████████████| 17/17 [00:00<00:00, 3092.47it/s]\n"
     ]
    },
    {
     "name": "stdout",
     "output_type": "stream",
     "text": [
      "Z plane: 12\n"
     ]
    },
    {
     "name": "stderr",
     "output_type": "stream",
     "text": [
      "100%|█████████████████████████████████████████| 16/16 [00:00<00:00, 1640.48it/s]\n",
      "100%|█████████████████████████████████████████| 16/16 [00:00<00:00, 2826.35it/s]\n"
     ]
    },
    {
     "name": "stdout",
     "output_type": "stream",
     "text": [
      "Z plane: 13\n"
     ]
    },
    {
     "name": "stderr",
     "output_type": "stream",
     "text": [
      "100%|█████████████████████████████████████████| 16/16 [00:00<00:00, 1493.23it/s]\n",
      "100%|█████████████████████████████████████████| 16/16 [00:00<00:00, 2089.58it/s]\n"
     ]
    },
    {
     "name": "stdout",
     "output_type": "stream",
     "text": [
      "Z plane: 14\n"
     ]
    },
    {
     "name": "stderr",
     "output_type": "stream",
     "text": [
      "100%|█████████████████████████████████████████| 15/15 [00:00<00:00, 1747.87it/s]\n",
      "100%|█████████████████████████████████████████| 15/15 [00:00<00:00, 2181.13it/s]\n"
     ]
    },
    {
     "name": "stdout",
     "output_type": "stream",
     "text": [
      "Z plane: 15\n"
     ]
    },
    {
     "name": "stderr",
     "output_type": "stream",
     "text": [
      "100%|█████████████████████████████████████████| 18/18 [00:00<00:00, 3091.75it/s]\n",
      "100%|█████████████████████████████████████████| 18/18 [00:00<00:00, 2510.06it/s]\n"
     ]
    },
    {
     "name": "stdout",
     "output_type": "stream",
     "text": [
      "Z plane: 16\n"
     ]
    },
    {
     "name": "stderr",
     "output_type": "stream",
     "text": [
      "100%|█████████████████████████████████████████| 23/23 [00:00<00:00, 2258.38it/s]\n",
      "100%|█████████████████████████████████████████| 23/23 [00:00<00:00, 4505.16it/s]\n"
     ]
    },
    {
     "name": "stdout",
     "output_type": "stream",
     "text": [
      "Z plane: 17\n"
     ]
    },
    {
     "name": "stderr",
     "output_type": "stream",
     "text": [
      "100%|█████████████████████████████████████████| 27/27 [00:00<00:00, 2040.21it/s]\n",
      "100%|█████████████████████████████████████████| 27/27 [00:00<00:00, 3610.59it/s]\n"
     ]
    },
    {
     "name": "stdout",
     "output_type": "stream",
     "text": [
      "Z plane: 18\n"
     ]
    },
    {
     "name": "stderr",
     "output_type": "stream",
     "text": [
      "100%|█████████████████████████████████████████| 28/28 [00:00<00:00, 3307.34it/s]\n",
      "100%|█████████████████████████████████████████| 28/28 [00:00<00:00, 5578.59it/s]\n"
     ]
    },
    {
     "name": "stdout",
     "output_type": "stream",
     "text": [
      "Z plane: 19\n"
     ]
    },
    {
     "name": "stderr",
     "output_type": "stream",
     "text": [
      "100%|█████████████████████████████████████████| 29/29 [00:00<00:00, 2837.03it/s]\n",
      "100%|█████████████████████████████████████████| 29/29 [00:00<00:00, 6022.72it/s]\n"
     ]
    },
    {
     "name": "stdout",
     "output_type": "stream",
     "text": [
      "Z plane: 20\n"
     ]
    },
    {
     "name": "stderr",
     "output_type": "stream",
     "text": [
      "100%|█████████████████████████████████████████| 29/29 [00:00<00:00, 3521.97it/s]\n",
      "100%|█████████████████████████████████████████| 29/29 [00:00<00:00, 6744.00it/s]\n"
     ]
    },
    {
     "name": "stdout",
     "output_type": "stream",
     "text": [
      "Z plane: 21\n"
     ]
    },
    {
     "name": "stderr",
     "output_type": "stream",
     "text": [
      "100%|█████████████████████████████████████████| 30/30 [00:00<00:00, 2244.82it/s]\n",
      "100%|█████████████████████████████████████████| 29/29 [00:00<00:00, 5144.43it/s]\n"
     ]
    },
    {
     "name": "stdout",
     "output_type": "stream",
     "text": [
      "Z plane: 22\n"
     ]
    },
    {
     "name": "stderr",
     "output_type": "stream",
     "text": [
      "100%|█████████████████████████████████████████| 30/30 [00:00<00:00, 3687.30it/s]\n",
      "100%|█████████████████████████████████████████| 30/30 [00:00<00:00, 5880.14it/s]\n"
     ]
    },
    {
     "name": "stdout",
     "output_type": "stream",
     "text": [
      "Z plane: 23\n"
     ]
    },
    {
     "name": "stderr",
     "output_type": "stream",
     "text": [
      "100%|█████████████████████████████████████████| 34/34 [00:00<00:00, 3227.41it/s]\n",
      "100%|█████████████████████████████████████████| 34/34 [00:00<00:00, 6059.59it/s]\n"
     ]
    },
    {
     "name": "stdout",
     "output_type": "stream",
     "text": [
      "Z plane: 24\n"
     ]
    },
    {
     "name": "stderr",
     "output_type": "stream",
     "text": [
      "100%|█████████████████████████████████████████| 34/34 [00:00<00:00, 2441.68it/s]\n",
      "100%|█████████████████████████████████████████| 33/33 [00:00<00:00, 5275.85it/s]\n"
     ]
    },
    {
     "name": "stdout",
     "output_type": "stream",
     "text": [
      "Z plane: 25\n"
     ]
    },
    {
     "name": "stderr",
     "output_type": "stream",
     "text": [
      "100%|█████████████████████████████████████████| 28/28 [00:00<00:00, 2203.72it/s]\n",
      "100%|█████████████████████████████████████████| 28/28 [00:00<00:00, 4841.71it/s]\n"
     ]
    },
    {
     "name": "stdout",
     "output_type": "stream",
     "text": [
      "Z plane: 26\n"
     ]
    },
    {
     "name": "stderr",
     "output_type": "stream",
     "text": [
      "100%|█████████████████████████████████████████| 24/24 [00:00<00:00, 1679.01it/s]\n",
      "100%|█████████████████████████████████████████| 24/24 [00:00<00:00, 3875.39it/s]\n"
     ]
    },
    {
     "name": "stdout",
     "output_type": "stream",
     "text": [
      "Z plane: 27\n"
     ]
    },
    {
     "name": "stderr",
     "output_type": "stream",
     "text": [
      "100%|█████████████████████████████████████████| 20/20 [00:00<00:00, 1598.80it/s]\n",
      "100%|█████████████████████████████████████████| 20/20 [00:00<00:00, 3230.36it/s]\n"
     ]
    },
    {
     "name": "stdout",
     "output_type": "stream",
     "text": [
      "Z plane: 28\n"
     ]
    },
    {
     "name": "stderr",
     "output_type": "stream",
     "text": [
      "100%|█████████████████████████████████████████| 18/18 [00:00<00:00, 2461.29it/s]\n",
      "100%|█████████████████████████████████████████| 18/18 [00:00<00:00, 2583.94it/s]\n"
     ]
    },
    {
     "name": "stdout",
     "output_type": "stream",
     "text": [
      "Z plane: 29\n"
     ]
    },
    {
     "name": "stderr",
     "output_type": "stream",
     "text": [
      "100%|█████████████████████████████████████████| 20/20 [00:00<00:00, 2786.73it/s]\n",
      "100%|█████████████████████████████████████████| 20/20 [00:00<00:00, 6045.84it/s]\n"
     ]
    },
    {
     "name": "stdout",
     "output_type": "stream",
     "text": [
      "Z plane: 30\n"
     ]
    },
    {
     "name": "stderr",
     "output_type": "stream",
     "text": [
      "100%|█████████████████████████████████████████| 19/19 [00:00<00:00, 2217.85it/s]\n",
      "100%|█████████████████████████████████████████| 19/19 [00:00<00:00, 2313.19it/s]\n"
     ]
    },
    {
     "name": "stdout",
     "output_type": "stream",
     "text": [
      "Z plane: 31\n"
     ]
    },
    {
     "name": "stderr",
     "output_type": "stream",
     "text": [
      "100%|█████████████████████████████████████████| 15/15 [00:00<00:00, 2172.99it/s]\n",
      "100%|█████████████████████████████████████████| 15/15 [00:00<00:00, 3567.39it/s]\n"
     ]
    },
    {
     "name": "stdout",
     "output_type": "stream",
     "text": [
      "Time point: 45\n",
      "Z plane: 0\n"
     ]
    },
    {
     "name": "stderr",
     "output_type": "stream",
     "text": [
      "100%|███████████████████████████████████████████| 3/3 [00:00<00:00, 1438.05it/s]\n",
      "100%|████████████████████████████████████████████| 3/3 [00:00<00:00, 992.03it/s]\n"
     ]
    },
    {
     "name": "stdout",
     "output_type": "stream",
     "text": [
      "Z plane: 1\n"
     ]
    },
    {
     "name": "stderr",
     "output_type": "stream",
     "text": [
      "100%|███████████████████████████████████████████| 4/4 [00:00<00:00, 2002.77it/s]\n",
      "100%|████████████████████████████████████████████| 4/4 [00:00<00:00, 918.29it/s]\n"
     ]
    },
    {
     "name": "stdout",
     "output_type": "stream",
     "text": [
      "Z plane: 2\n"
     ]
    },
    {
     "name": "stderr",
     "output_type": "stream",
     "text": [
      "100%|███████████████████████████████████████████| 5/5 [00:00<00:00, 2373.96it/s]\n",
      "100%|███████████████████████████████████████████| 5/5 [00:00<00:00, 1496.04it/s]\n"
     ]
    },
    {
     "name": "stdout",
     "output_type": "stream",
     "text": [
      "Z plane: 3\n"
     ]
    },
    {
     "name": "stderr",
     "output_type": "stream",
     "text": [
      "100%|███████████████████████████████████████████| 4/4 [00:00<00:00, 2377.72it/s]\n",
      "100%|███████████████████████████████████████████| 4/4 [00:00<00:00, 1038.97it/s]\n"
     ]
    },
    {
     "name": "stdout",
     "output_type": "stream",
     "text": [
      "Z plane: 4\n"
     ]
    },
    {
     "name": "stderr",
     "output_type": "stream",
     "text": [
      "100%|███████████████████████████████████████████| 4/4 [00:00<00:00, 2245.95it/s]\n",
      "100%|███████████████████████████████████████████| 4/4 [00:00<00:00, 3383.87it/s]\n"
     ]
    },
    {
     "name": "stdout",
     "output_type": "stream",
     "text": [
      "Z plane: 5\n"
     ]
    },
    {
     "name": "stderr",
     "output_type": "stream",
     "text": [
      "100%|███████████████████████████████████████████| 4/4 [00:00<00:00, 1769.19it/s]\n",
      "100%|███████████████████████████████████████████| 4/4 [00:00<00:00, 1055.70it/s]\n"
     ]
    },
    {
     "name": "stdout",
     "output_type": "stream",
     "text": [
      "Z plane: 6\n"
     ]
    },
    {
     "name": "stderr",
     "output_type": "stream",
     "text": [
      "100%|███████████████████████████████████████████| 8/8 [00:00<00:00, 1451.13it/s]\n",
      "100%|███████████████████████████████████████████| 8/8 [00:00<00:00, 2004.69it/s]\n"
     ]
    },
    {
     "name": "stdout",
     "output_type": "stream",
     "text": [
      "Z plane: 7\n"
     ]
    },
    {
     "name": "stderr",
     "output_type": "stream",
     "text": [
      "100%|█████████████████████████████████████████| 10/10 [00:00<00:00, 1447.66it/s]\n",
      "100%|█████████████████████████████████████████| 10/10 [00:00<00:00, 3774.91it/s]\n"
     ]
    },
    {
     "name": "stdout",
     "output_type": "stream",
     "text": [
      "Z plane: 8\n"
     ]
    },
    {
     "name": "stderr",
     "output_type": "stream",
     "text": [
      "100%|█████████████████████████████████████████| 10/10 [00:00<00:00, 1391.38it/s]\n",
      "100%|█████████████████████████████████████████| 10/10 [00:00<00:00, 2875.96it/s]\n"
     ]
    },
    {
     "name": "stdout",
     "output_type": "stream",
     "text": [
      "Z plane: 9\n"
     ]
    },
    {
     "name": "stderr",
     "output_type": "stream",
     "text": [
      "100%|█████████████████████████████████████████| 13/13 [00:00<00:00, 1554.46it/s]\n",
      "100%|█████████████████████████████████████████| 13/13 [00:00<00:00, 2833.55it/s]\n"
     ]
    },
    {
     "name": "stdout",
     "output_type": "stream",
     "text": [
      "Z plane: 10\n"
     ]
    },
    {
     "name": "stderr",
     "output_type": "stream",
     "text": [
      "100%|█████████████████████████████████████████| 13/13 [00:00<00:00, 1451.39it/s]\n",
      "100%|█████████████████████████████████████████| 13/13 [00:00<00:00, 1820.02it/s]\n"
     ]
    },
    {
     "name": "stdout",
     "output_type": "stream",
     "text": [
      "Z plane: 11\n"
     ]
    },
    {
     "name": "stderr",
     "output_type": "stream",
     "text": [
      "100%|█████████████████████████████████████████| 15/15 [00:00<00:00, 1772.84it/s]\n",
      "100%|█████████████████████████████████████████| 15/15 [00:00<00:00, 2549.32it/s]\n"
     ]
    },
    {
     "name": "stdout",
     "output_type": "stream",
     "text": [
      "Z plane: 12\n"
     ]
    },
    {
     "name": "stderr",
     "output_type": "stream",
     "text": [
      "100%|█████████████████████████████████████████| 15/15 [00:00<00:00, 1937.74it/s]\n",
      "100%|█████████████████████████████████████████| 15/15 [00:00<00:00, 2481.74it/s]\n"
     ]
    },
    {
     "name": "stdout",
     "output_type": "stream",
     "text": [
      "Z plane: 13\n"
     ]
    },
    {
     "name": "stderr",
     "output_type": "stream",
     "text": [
      "100%|█████████████████████████████████████████| 17/17 [00:00<00:00, 1581.11it/s]\n",
      "100%|█████████████████████████████████████████| 17/17 [00:00<00:00, 3064.17it/s]\n"
     ]
    },
    {
     "name": "stdout",
     "output_type": "stream",
     "text": [
      "Z plane: 14\n"
     ]
    },
    {
     "name": "stderr",
     "output_type": "stream",
     "text": [
      "100%|█████████████████████████████████████████| 14/14 [00:00<00:00, 1378.80it/s]\n",
      "100%|█████████████████████████████████████████| 14/14 [00:00<00:00, 2658.11it/s]\n"
     ]
    },
    {
     "name": "stdout",
     "output_type": "stream",
     "text": [
      "Z plane: 15\n"
     ]
    },
    {
     "name": "stderr",
     "output_type": "stream",
     "text": [
      "100%|█████████████████████████████████████████| 22/22 [00:00<00:00, 1971.30it/s]\n",
      "100%|█████████████████████████████████████████| 18/18 [00:00<00:00, 2578.11it/s]\n"
     ]
    },
    {
     "name": "stdout",
     "output_type": "stream",
     "text": [
      "Z plane: 16\n"
     ]
    },
    {
     "name": "stderr",
     "output_type": "stream",
     "text": [
      "100%|█████████████████████████████████████████| 26/26 [00:00<00:00, 2527.45it/s]\n",
      "100%|█████████████████████████████████████████| 26/26 [00:00<00:00, 4535.89it/s]\n"
     ]
    },
    {
     "name": "stdout",
     "output_type": "stream",
     "text": [
      "Z plane: 17\n"
     ]
    },
    {
     "name": "stderr",
     "output_type": "stream",
     "text": [
      "100%|█████████████████████████████████████████| 24/24 [00:00<00:00, 2243.19it/s]\n",
      "100%|█████████████████████████████████████████| 24/24 [00:00<00:00, 4332.96it/s]\n"
     ]
    },
    {
     "name": "stdout",
     "output_type": "stream",
     "text": [
      "Z plane: 18\n"
     ]
    },
    {
     "name": "stderr",
     "output_type": "stream",
     "text": [
      "100%|█████████████████████████████████████████| 25/25 [00:00<00:00, 1949.79it/s]\n",
      "100%|█████████████████████████████████████████| 25/25 [00:00<00:00, 3429.86it/s]\n"
     ]
    },
    {
     "name": "stdout",
     "output_type": "stream",
     "text": [
      "Z plane: 19\n"
     ]
    },
    {
     "name": "stderr",
     "output_type": "stream",
     "text": [
      "100%|█████████████████████████████████████████| 24/24 [00:00<00:00, 2377.84it/s]\n",
      "100%|█████████████████████████████████████████| 23/23 [00:00<00:00, 7149.56it/s]\n"
     ]
    },
    {
     "name": "stdout",
     "output_type": "stream",
     "text": [
      "Z plane: 20\n"
     ]
    },
    {
     "name": "stderr",
     "output_type": "stream",
     "text": [
      "100%|█████████████████████████████████████████| 29/29 [00:00<00:00, 3850.30it/s]\n",
      "100%|████████████████████████████████████████| 29/29 [00:00<00:00, 11502.11it/s]\n"
     ]
    },
    {
     "name": "stdout",
     "output_type": "stream",
     "text": [
      "Z plane: 21\n"
     ]
    },
    {
     "name": "stderr",
     "output_type": "stream",
     "text": [
      "100%|█████████████████████████████████████████| 29/29 [00:00<00:00, 2219.33it/s]\n",
      "100%|█████████████████████████████████████████| 29/29 [00:00<00:00, 4944.71it/s]\n"
     ]
    },
    {
     "name": "stdout",
     "output_type": "stream",
     "text": [
      "Z plane: 22\n"
     ]
    },
    {
     "name": "stderr",
     "output_type": "stream",
     "text": [
      "100%|█████████████████████████████████████████| 31/31 [00:00<00:00, 3022.89it/s]\n",
      "100%|█████████████████████████████████████████| 31/31 [00:00<00:00, 6705.35it/s]\n"
     ]
    },
    {
     "name": "stdout",
     "output_type": "stream",
     "text": [
      "Z plane: 23\n"
     ]
    },
    {
     "name": "stderr",
     "output_type": "stream",
     "text": [
      "100%|█████████████████████████████████████████| 31/31 [00:00<00:00, 2403.30it/s]\n",
      "100%|█████████████████████████████████████████| 31/31 [00:00<00:00, 3823.32it/s]\n"
     ]
    },
    {
     "name": "stdout",
     "output_type": "stream",
     "text": [
      "Z plane: 24\n"
     ]
    },
    {
     "name": "stderr",
     "output_type": "stream",
     "text": [
      "100%|█████████████████████████████████████████| 34/34 [00:00<00:00, 3269.29it/s]\n",
      "100%|█████████████████████████████████████████| 34/34 [00:00<00:00, 5160.91it/s]\n"
     ]
    },
    {
     "name": "stdout",
     "output_type": "stream",
     "text": [
      "Z plane: 25\n"
     ]
    },
    {
     "name": "stderr",
     "output_type": "stream",
     "text": [
      "100%|█████████████████████████████████████████| 30/30 [00:00<00:00, 2915.48it/s]\n",
      "100%|█████████████████████████████████████████| 28/28 [00:00<00:00, 5027.85it/s]\n"
     ]
    },
    {
     "name": "stdout",
     "output_type": "stream",
     "text": [
      "Z plane: 26\n"
     ]
    },
    {
     "name": "stderr",
     "output_type": "stream",
     "text": [
      "100%|█████████████████████████████████████████| 25/25 [00:00<00:00, 2328.10it/s]\n",
      "100%|█████████████████████████████████████████| 25/25 [00:00<00:00, 4480.14it/s]\n"
     ]
    },
    {
     "name": "stdout",
     "output_type": "stream",
     "text": [
      "Z plane: 27\n"
     ]
    },
    {
     "name": "stderr",
     "output_type": "stream",
     "text": [
      "100%|█████████████████████████████████████████| 22/22 [00:00<00:00, 1913.38it/s]\n",
      "100%|█████████████████████████████████████████| 21/21 [00:00<00:00, 3428.99it/s]\n"
     ]
    },
    {
     "name": "stdout",
     "output_type": "stream",
     "text": [
      "Z plane: 28\n"
     ]
    },
    {
     "name": "stderr",
     "output_type": "stream",
     "text": [
      "100%|█████████████████████████████████████████| 20/20 [00:00<00:00, 1544.41it/s]\n",
      "100%|█████████████████████████████████████████| 20/20 [00:00<00:00, 2224.21it/s]\n"
     ]
    },
    {
     "name": "stdout",
     "output_type": "stream",
     "text": [
      "Z plane: 29\n"
     ]
    },
    {
     "name": "stderr",
     "output_type": "stream",
     "text": [
      "100%|█████████████████████████████████████████| 23/23 [00:00<00:00, 2470.46it/s]\n",
      "100%|█████████████████████████████████████████| 23/23 [00:00<00:00, 5824.37it/s]\n"
     ]
    },
    {
     "name": "stdout",
     "output_type": "stream",
     "text": [
      "Z plane: 30\n"
     ]
    },
    {
     "name": "stderr",
     "output_type": "stream",
     "text": [
      "100%|█████████████████████████████████████████| 17/17 [00:00<00:00, 2129.02it/s]\n",
      "100%|█████████████████████████████████████████| 17/17 [00:00<00:00, 2501.87it/s]\n"
     ]
    },
    {
     "name": "stdout",
     "output_type": "stream",
     "text": [
      "Z plane: 31\n"
     ]
    },
    {
     "name": "stderr",
     "output_type": "stream",
     "text": [
      "100%|█████████████████████████████████████████| 16/16 [00:00<00:00, 1845.88it/s]\n",
      "100%|█████████████████████████████████████████| 16/16 [00:00<00:00, 3429.00it/s]\n"
     ]
    },
    {
     "name": "stdout",
     "output_type": "stream",
     "text": [
      "Time point: 46\n",
      "Z plane: 0\n"
     ]
    },
    {
     "name": "stderr",
     "output_type": "stream",
     "text": [
      "100%|███████████████████████████████████████████| 3/3 [00:00<00:00, 1236.65it/s]\n",
      "100%|████████████████████████████████████████████| 3/3 [00:00<00:00, 779.66it/s]\n"
     ]
    },
    {
     "name": "stdout",
     "output_type": "stream",
     "text": [
      "Z plane: 1\n"
     ]
    },
    {
     "name": "stderr",
     "output_type": "stream",
     "text": [
      "100%|████████████████████████████████████████████| 3/3 [00:00<00:00, 992.34it/s]\n",
      "100%|████████████████████████████████████████████| 3/3 [00:00<00:00, 699.44it/s]\n"
     ]
    },
    {
     "name": "stdout",
     "output_type": "stream",
     "text": [
      "Z plane: 2\n"
     ]
    },
    {
     "name": "stderr",
     "output_type": "stream",
     "text": [
      "100%|████████████████████████████████████████████| 3/3 [00:00<00:00, 972.48it/s]\n",
      "100%|████████████████████████████████████████████| 3/3 [00:00<00:00, 758.28it/s]\n"
     ]
    },
    {
     "name": "stdout",
     "output_type": "stream",
     "text": [
      "Z plane: 3\n"
     ]
    },
    {
     "name": "stderr",
     "output_type": "stream",
     "text": [
      "100%|███████████████████████████████████████████| 3/3 [00:00<00:00, 3452.10it/s]\n",
      "100%|███████████████████████████████████████████| 3/3 [00:00<00:00, 1256.28it/s]\n"
     ]
    },
    {
     "name": "stdout",
     "output_type": "stream",
     "text": [
      "Z plane: 4\n"
     ]
    },
    {
     "name": "stderr",
     "output_type": "stream",
     "text": [
      "100%|███████████████████████████████████████████| 4/4 [00:00<00:00, 1229.91it/s]\n",
      "100%|███████████████████████████████████████████| 4/4 [00:00<00:00, 1388.50it/s]\n"
     ]
    },
    {
     "name": "stdout",
     "output_type": "stream",
     "text": [
      "Z plane: 5\n"
     ]
    },
    {
     "name": "stderr",
     "output_type": "stream",
     "text": [
      "100%|███████████████████████████████████████████| 4/4 [00:00<00:00, 1396.59it/s]\n",
      "100%|███████████████████████████████████████████| 4/4 [00:00<00:00, 1433.09it/s]\n"
     ]
    },
    {
     "name": "stdout",
     "output_type": "stream",
     "text": [
      "Z plane: 6\n"
     ]
    },
    {
     "name": "stderr",
     "output_type": "stream",
     "text": [
      "100%|███████████████████████████████████████████| 4/4 [00:00<00:00, 1066.10it/s]\n",
      "100%|████████████████████████████████████████████| 4/4 [00:00<00:00, 699.31it/s]\n"
     ]
    },
    {
     "name": "stdout",
     "output_type": "stream",
     "text": [
      "Z plane: 7\n"
     ]
    },
    {
     "name": "stderr",
     "output_type": "stream",
     "text": [
      "100%|███████████████████████████████████████████| 7/7 [00:00<00:00, 1341.50it/s]\n",
      "100%|███████████████████████████████████████████| 7/7 [00:00<00:00, 1316.72it/s]\n"
     ]
    },
    {
     "name": "stdout",
     "output_type": "stream",
     "text": [
      "Z plane: 8\n"
     ]
    },
    {
     "name": "stderr",
     "output_type": "stream",
     "text": [
      "100%|███████████████████████████████████████████| 8/8 [00:00<00:00, 1202.24it/s]\n",
      "100%|███████████████████████████████████████████| 8/8 [00:00<00:00, 1512.89it/s]\n"
     ]
    },
    {
     "name": "stdout",
     "output_type": "stream",
     "text": [
      "Z plane: 9\n"
     ]
    },
    {
     "name": "stderr",
     "output_type": "stream",
     "text": [
      "100%|█████████████████████████████████████████| 10/10 [00:00<00:00, 1104.35it/s]\n",
      "100%|█████████████████████████████████████████| 10/10 [00:00<00:00, 1338.49it/s]\n"
     ]
    },
    {
     "name": "stdout",
     "output_type": "stream",
     "text": [
      "Z plane: 10\n"
     ]
    },
    {
     "name": "stderr",
     "output_type": "stream",
     "text": [
      "100%|█████████████████████████████████████████| 13/13 [00:00<00:00, 1596.85it/s]\n",
      "100%|█████████████████████████████████████████| 13/13 [00:00<00:00, 2585.15it/s]\n"
     ]
    },
    {
     "name": "stdout",
     "output_type": "stream",
     "text": [
      "Z plane: 11\n"
     ]
    },
    {
     "name": "stderr",
     "output_type": "stream",
     "text": [
      "100%|█████████████████████████████████████████| 16/16 [00:00<00:00, 1848.68it/s]\n",
      "100%|█████████████████████████████████████████| 16/16 [00:00<00:00, 3862.16it/s]\n"
     ]
    },
    {
     "name": "stdout",
     "output_type": "stream",
     "text": [
      "Z plane: 12\n"
     ]
    },
    {
     "name": "stderr",
     "output_type": "stream",
     "text": [
      "100%|█████████████████████████████████████████| 18/18 [00:00<00:00, 1777.41it/s]\n",
      "100%|█████████████████████████████████████████| 18/18 [00:00<00:00, 2499.34it/s]\n"
     ]
    },
    {
     "name": "stdout",
     "output_type": "stream",
     "text": [
      "Z plane: 13\n"
     ]
    },
    {
     "name": "stderr",
     "output_type": "stream",
     "text": [
      "100%|█████████████████████████████████████████| 18/18 [00:00<00:00, 1668.19it/s]\n",
      "100%|█████████████████████████████████████████| 18/18 [00:00<00:00, 6109.69it/s]\n"
     ]
    },
    {
     "name": "stdout",
     "output_type": "stream",
     "text": [
      "Z plane: 14\n"
     ]
    },
    {
     "name": "stderr",
     "output_type": "stream",
     "text": [
      "100%|█████████████████████████████████████████| 21/21 [00:00<00:00, 2201.95it/s]\n",
      "100%|█████████████████████████████████████████| 21/21 [00:00<00:00, 4174.03it/s]\n"
     ]
    },
    {
     "name": "stdout",
     "output_type": "stream",
     "text": [
      "Z plane: 15\n"
     ]
    },
    {
     "name": "stderr",
     "output_type": "stream",
     "text": [
      "100%|█████████████████████████████████████████| 24/24 [00:00<00:00, 2487.05it/s]\n",
      "100%|█████████████████████████████████████████| 24/24 [00:00<00:00, 3848.13it/s]\n"
     ]
    },
    {
     "name": "stdout",
     "output_type": "stream",
     "text": [
      "Z plane: 16\n"
     ]
    },
    {
     "name": "stderr",
     "output_type": "stream",
     "text": [
      "100%|█████████████████████████████████████████| 30/30 [00:00<00:00, 3236.26it/s]\n",
      "100%|█████████████████████████████████████████| 29/29 [00:00<00:00, 4218.74it/s]\n"
     ]
    },
    {
     "name": "stdout",
     "output_type": "stream",
     "text": [
      "Z plane: 17\n"
     ]
    },
    {
     "name": "stderr",
     "output_type": "stream",
     "text": [
      "100%|█████████████████████████████████████████| 34/34 [00:00<00:00, 2811.31it/s]\n",
      "100%|█████████████████████████████████████████| 34/34 [00:00<00:00, 6299.70it/s]\n"
     ]
    },
    {
     "name": "stdout",
     "output_type": "stream",
     "text": [
      "Z plane: 18\n"
     ]
    },
    {
     "name": "stderr",
     "output_type": "stream",
     "text": [
      "100%|█████████████████████████████████████████| 36/36 [00:00<00:00, 3073.06it/s]\n",
      "100%|█████████████████████████████████████████| 35/35 [00:00<00:00, 9065.13it/s]\n"
     ]
    },
    {
     "name": "stdout",
     "output_type": "stream",
     "text": [
      "Z plane: 19\n"
     ]
    },
    {
     "name": "stderr",
     "output_type": "stream",
     "text": [
      "100%|█████████████████████████████████████████| 36/36 [00:00<00:00, 3859.69it/s]\n",
      "100%|████████████████████████████████████████| 35/35 [00:00<00:00, 11348.23it/s]\n"
     ]
    },
    {
     "name": "stdout",
     "output_type": "stream",
     "text": [
      "Z plane: 20\n"
     ]
    },
    {
     "name": "stderr",
     "output_type": "stream",
     "text": [
      "100%|█████████████████████████████████████████| 35/35 [00:00<00:00, 3358.05it/s]\n",
      "100%|█████████████████████████████████████████| 35/35 [00:00<00:00, 5565.06it/s]\n"
     ]
    },
    {
     "name": "stdout",
     "output_type": "stream",
     "text": [
      "Z plane: 21\n"
     ]
    },
    {
     "name": "stderr",
     "output_type": "stream",
     "text": [
      "100%|█████████████████████████████████████████| 39/39 [00:00<00:00, 4035.67it/s]\n",
      "100%|█████████████████████████████████████████| 39/39 [00:00<00:00, 6127.89it/s]\n"
     ]
    },
    {
     "name": "stdout",
     "output_type": "stream",
     "text": [
      "Z plane: 22\n"
     ]
    },
    {
     "name": "stderr",
     "output_type": "stream",
     "text": [
      "100%|█████████████████████████████████████████| 39/39 [00:00<00:00, 4553.44it/s]\n",
      "100%|█████████████████████████████████████████| 39/39 [00:00<00:00, 6807.52it/s]\n"
     ]
    },
    {
     "name": "stdout",
     "output_type": "stream",
     "text": [
      "Z plane: 23\n"
     ]
    },
    {
     "name": "stderr",
     "output_type": "stream",
     "text": [
      "100%|█████████████████████████████████████████| 37/37 [00:00<00:00, 3995.71it/s]\n",
      "100%|█████████████████████████████████████████| 37/37 [00:00<00:00, 7202.69it/s]\n"
     ]
    },
    {
     "name": "stdout",
     "output_type": "stream",
     "text": [
      "Z plane: 24\n"
     ]
    },
    {
     "name": "stderr",
     "output_type": "stream",
     "text": [
      "100%|█████████████████████████████████████████| 33/33 [00:00<00:00, 3096.05it/s]\n",
      "100%|█████████████████████████████████████████| 33/33 [00:00<00:00, 7125.83it/s]\n"
     ]
    },
    {
     "name": "stdout",
     "output_type": "stream",
     "text": [
      "Z plane: 25\n"
     ]
    },
    {
     "name": "stderr",
     "output_type": "stream",
     "text": [
      "100%|█████████████████████████████████████████| 31/31 [00:00<00:00, 2667.58it/s]\n",
      "100%|█████████████████████████████████████████| 30/30 [00:00<00:00, 7393.02it/s]\n"
     ]
    },
    {
     "name": "stdout",
     "output_type": "stream",
     "text": [
      "Z plane: 26\n"
     ]
    },
    {
     "name": "stderr",
     "output_type": "stream",
     "text": [
      "100%|█████████████████████████████████████████| 22/22 [00:00<00:00, 2289.75it/s]\n",
      "100%|█████████████████████████████████████████| 22/22 [00:00<00:00, 9120.76it/s]\n"
     ]
    },
    {
     "name": "stdout",
     "output_type": "stream",
     "text": [
      "Z plane: 27\n"
     ]
    },
    {
     "name": "stderr",
     "output_type": "stream",
     "text": [
      "100%|█████████████████████████████████████████| 20/20 [00:00<00:00, 2402.65it/s]\n",
      "100%|█████████████████████████████████████████| 20/20 [00:00<00:00, 2828.83it/s]\n"
     ]
    },
    {
     "name": "stdout",
     "output_type": "stream",
     "text": [
      "Z plane: 28\n"
     ]
    },
    {
     "name": "stderr",
     "output_type": "stream",
     "text": [
      "100%|█████████████████████████████████████████| 18/18 [00:00<00:00, 2012.25it/s]\n",
      "100%|█████████████████████████████████████████| 18/18 [00:00<00:00, 3592.04it/s]\n"
     ]
    },
    {
     "name": "stdout",
     "output_type": "stream",
     "text": [
      "Z plane: 29\n"
     ]
    },
    {
     "name": "stderr",
     "output_type": "stream",
     "text": [
      "100%|█████████████████████████████████████████| 16/16 [00:00<00:00, 2241.59it/s]\n",
      "100%|█████████████████████████████████████████| 16/16 [00:00<00:00, 2757.60it/s]\n"
     ]
    },
    {
     "name": "stdout",
     "output_type": "stream",
     "text": [
      "Z plane: 30\n"
     ]
    },
    {
     "name": "stderr",
     "output_type": "stream",
     "text": [
      "100%|█████████████████████████████████████████| 15/15 [00:00<00:00, 2126.21it/s]\n",
      "100%|█████████████████████████████████████████| 15/15 [00:00<00:00, 2533.81it/s]\n"
     ]
    },
    {
     "name": "stdout",
     "output_type": "stream",
     "text": [
      "Z plane: 31\n"
     ]
    },
    {
     "name": "stderr",
     "output_type": "stream",
     "text": [
      "100%|█████████████████████████████████████████| 11/11 [00:00<00:00, 2128.50it/s]\n",
      "100%|█████████████████████████████████████████| 11/11 [00:00<00:00, 2226.28it/s]\n"
     ]
    },
    {
     "name": "stdout",
     "output_type": "stream",
     "text": [
      "Time point: 47\n",
      "Z plane: 0\n"
     ]
    },
    {
     "name": "stderr",
     "output_type": "stream",
     "text": [
      "100%|███████████████████████████████████████████| 3/3 [00:00<00:00, 1183.05it/s]\n",
      "100%|████████████████████████████████████████████| 3/3 [00:00<00:00, 870.13it/s]\n"
     ]
    },
    {
     "name": "stdout",
     "output_type": "stream",
     "text": [
      "Z plane: 1\n"
     ]
    },
    {
     "name": "stderr",
     "output_type": "stream",
     "text": [
      "100%|████████████████████████████████████████████| 3/3 [00:00<00:00, 862.32it/s]\n",
      "100%|████████████████████████████████████████████| 3/3 [00:00<00:00, 816.97it/s]\n"
     ]
    },
    {
     "name": "stdout",
     "output_type": "stream",
     "text": [
      "Z plane: 2\n"
     ]
    },
    {
     "name": "stderr",
     "output_type": "stream",
     "text": [
      "100%|███████████████████████████████████████████| 3/3 [00:00<00:00, 1097.79it/s]\n",
      "100%|████████████████████████████████████████████| 3/3 [00:00<00:00, 898.01it/s]\n"
     ]
    },
    {
     "name": "stdout",
     "output_type": "stream",
     "text": [
      "Z plane: 3\n"
     ]
    },
    {
     "name": "stderr",
     "output_type": "stream",
     "text": [
      "100%|███████████████████████████████████████████| 3/3 [00:00<00:00, 2487.72it/s]\n",
      "100%|████████████████████████████████████████████| 3/3 [00:00<00:00, 756.28it/s]\n"
     ]
    },
    {
     "name": "stdout",
     "output_type": "stream",
     "text": [
      "Z plane: 4\n"
     ]
    },
    {
     "name": "stderr",
     "output_type": "stream",
     "text": [
      "100%|███████████████████████████████████████████| 2/2 [00:00<00:00, 1087.45it/s]\n",
      "100%|████████████████████████████████████████████| 2/2 [00:00<00:00, 721.97it/s]\n"
     ]
    },
    {
     "name": "stdout",
     "output_type": "stream",
     "text": [
      "Z plane: 5\n"
     ]
    },
    {
     "name": "stderr",
     "output_type": "stream",
     "text": [
      "100%|████████████████████████████████████████████| 2/2 [00:00<00:00, 876.37it/s]\n",
      "100%|████████████████████████████████████████████| 2/2 [00:00<00:00, 746.32it/s]\n"
     ]
    },
    {
     "name": "stdout",
     "output_type": "stream",
     "text": [
      "Z plane: 6\n"
     ]
    },
    {
     "name": "stderr",
     "output_type": "stream",
     "text": [
      "100%|████████████████████████████████████████████| 2/2 [00:00<00:00, 740.26it/s]\n",
      "100%|████████████████████████████████████████████| 2/2 [00:00<00:00, 584.82it/s]\n"
     ]
    },
    {
     "name": "stdout",
     "output_type": "stream",
     "text": [
      "Z plane: 7\n"
     ]
    },
    {
     "name": "stderr",
     "output_type": "stream",
     "text": [
      "100%|███████████████████████████████████████████| 8/8 [00:00<00:00, 1780.93it/s]\n",
      "100%|███████████████████████████████████████████| 8/8 [00:00<00:00, 1909.76it/s]\n"
     ]
    },
    {
     "name": "stdout",
     "output_type": "stream",
     "text": [
      "Z plane: 8\n"
     ]
    },
    {
     "name": "stderr",
     "output_type": "stream",
     "text": [
      "100%|███████████████████████████████████████████| 9/9 [00:00<00:00, 1368.20it/s]\n",
      "100%|███████████████████████████████████████████| 9/9 [00:00<00:00, 2997.12it/s]\n"
     ]
    },
    {
     "name": "stdout",
     "output_type": "stream",
     "text": [
      "Z plane: 9\n"
     ]
    },
    {
     "name": "stderr",
     "output_type": "stream",
     "text": [
      "100%|█████████████████████████████████████████| 10/10 [00:00<00:00, 1474.27it/s]\n",
      "100%|█████████████████████████████████████████| 10/10 [00:00<00:00, 2849.78it/s]\n"
     ]
    },
    {
     "name": "stdout",
     "output_type": "stream",
     "text": [
      "Z plane: 10\n"
     ]
    },
    {
     "name": "stderr",
     "output_type": "stream",
     "text": [
      "100%|█████████████████████████████████████████| 14/14 [00:00<00:00, 2188.52it/s]\n",
      "100%|█████████████████████████████████████████| 14/14 [00:00<00:00, 3382.31it/s]\n"
     ]
    },
    {
     "name": "stdout",
     "output_type": "stream",
     "text": [
      "Z plane: 11\n"
     ]
    },
    {
     "name": "stderr",
     "output_type": "stream",
     "text": [
      "100%|█████████████████████████████████████████| 17/17 [00:00<00:00, 2364.40it/s]\n",
      "100%|█████████████████████████████████████████| 17/17 [00:00<00:00, 4333.49it/s]\n"
     ]
    },
    {
     "name": "stdout",
     "output_type": "stream",
     "text": [
      "Z plane: 12\n"
     ]
    },
    {
     "name": "stderr",
     "output_type": "stream",
     "text": [
      "100%|█████████████████████████████████████████| 20/20 [00:00<00:00, 2986.44it/s]\n",
      "100%|█████████████████████████████████████████| 20/20 [00:00<00:00, 3084.05it/s]\n"
     ]
    },
    {
     "name": "stdout",
     "output_type": "stream",
     "text": [
      "Z plane: 13\n"
     ]
    },
    {
     "name": "stderr",
     "output_type": "stream",
     "text": [
      "100%|█████████████████████████████████████████| 19/19 [00:00<00:00, 2487.18it/s]\n",
      "100%|█████████████████████████████████████████| 18/18 [00:00<00:00, 3177.37it/s]\n"
     ]
    },
    {
     "name": "stdout",
     "output_type": "stream",
     "text": [
      "Z plane: 14\n"
     ]
    },
    {
     "name": "stderr",
     "output_type": "stream",
     "text": [
      "100%|█████████████████████████████████████████| 22/22 [00:00<00:00, 2801.04it/s]\n",
      "100%|█████████████████████████████████████████| 21/21 [00:00<00:00, 5023.98it/s]\n"
     ]
    },
    {
     "name": "stdout",
     "output_type": "stream",
     "text": [
      "Z plane: 15\n"
     ]
    },
    {
     "name": "stderr",
     "output_type": "stream",
     "text": [
      "100%|█████████████████████████████████████████| 23/23 [00:00<00:00, 3356.14it/s]\n",
      "100%|█████████████████████████████████████████| 22/22 [00:00<00:00, 4423.10it/s]\n"
     ]
    },
    {
     "name": "stdout",
     "output_type": "stream",
     "text": [
      "Z plane: 16\n"
     ]
    },
    {
     "name": "stderr",
     "output_type": "stream",
     "text": [
      "100%|█████████████████████████████████████████| 25/25 [00:00<00:00, 2001.94it/s]\n",
      "100%|█████████████████████████████████████████| 24/24 [00:00<00:00, 4077.58it/s]\n"
     ]
    },
    {
     "name": "stdout",
     "output_type": "stream",
     "text": [
      "Z plane: 17\n"
     ]
    },
    {
     "name": "stderr",
     "output_type": "stream",
     "text": [
      "100%|█████████████████████████████████████████| 30/30 [00:00<00:00, 2504.96it/s]\n",
      "100%|█████████████████████████████████████████| 26/26 [00:00<00:00, 4334.68it/s]\n"
     ]
    },
    {
     "name": "stdout",
     "output_type": "stream",
     "text": [
      "Z plane: 18\n"
     ]
    },
    {
     "name": "stderr",
     "output_type": "stream",
     "text": [
      "100%|█████████████████████████████████████████| 33/33 [00:00<00:00, 3100.07it/s]\n",
      "100%|█████████████████████████████████████████| 33/33 [00:00<00:00, 8316.53it/s]\n"
     ]
    },
    {
     "name": "stdout",
     "output_type": "stream",
     "text": [
      "Z plane: 19\n"
     ]
    },
    {
     "name": "stderr",
     "output_type": "stream",
     "text": [
      "100%|█████████████████████████████████████████| 36/36 [00:00<00:00, 4423.72it/s]\n",
      "100%|█████████████████████████████████████████| 36/36 [00:00<00:00, 8120.63it/s]\n"
     ]
    },
    {
     "name": "stdout",
     "output_type": "stream",
     "text": [
      "Z plane: 20\n"
     ]
    },
    {
     "name": "stderr",
     "output_type": "stream",
     "text": [
      "100%|█████████████████████████████████████████| 35/35 [00:00<00:00, 3700.27it/s]\n",
      "100%|█████████████████████████████████████████| 35/35 [00:00<00:00, 4497.02it/s]\n"
     ]
    },
    {
     "name": "stdout",
     "output_type": "stream",
     "text": [
      "Z plane: 21\n"
     ]
    },
    {
     "name": "stderr",
     "output_type": "stream",
     "text": [
      "100%|█████████████████████████████████████████| 34/34 [00:00<00:00, 3765.28it/s]\n",
      "100%|█████████████████████████████████████████| 34/34 [00:00<00:00, 6842.59it/s]\n"
     ]
    },
    {
     "name": "stdout",
     "output_type": "stream",
     "text": [
      "Z plane: 22\n"
     ]
    },
    {
     "name": "stderr",
     "output_type": "stream",
     "text": [
      "100%|█████████████████████████████████████████| 35/35 [00:00<00:00, 3915.41it/s]\n",
      "100%|█████████████████████████████████████████| 35/35 [00:00<00:00, 4910.21it/s]\n"
     ]
    },
    {
     "name": "stdout",
     "output_type": "stream",
     "text": [
      "Z plane: 23\n"
     ]
    },
    {
     "name": "stderr",
     "output_type": "stream",
     "text": [
      "100%|█████████████████████████████████████████| 37/37 [00:00<00:00, 3798.44it/s]\n",
      "100%|█████████████████████████████████████████| 37/37 [00:00<00:00, 5724.85it/s]\n"
     ]
    },
    {
     "name": "stdout",
     "output_type": "stream",
     "text": [
      "Z plane: 24\n"
     ]
    },
    {
     "name": "stderr",
     "output_type": "stream",
     "text": [
      "100%|█████████████████████████████████████████| 31/31 [00:00<00:00, 3310.84it/s]\n",
      "100%|█████████████████████████████████████████| 31/31 [00:00<00:00, 4488.36it/s]\n"
     ]
    },
    {
     "name": "stdout",
     "output_type": "stream",
     "text": [
      "Z plane: 25\n"
     ]
    },
    {
     "name": "stderr",
     "output_type": "stream",
     "text": [
      "100%|█████████████████████████████████████████| 27/27 [00:00<00:00, 3731.46it/s]\n",
      "100%|█████████████████████████████████████████| 27/27 [00:00<00:00, 7597.36it/s]\n"
     ]
    },
    {
     "name": "stdout",
     "output_type": "stream",
     "text": [
      "Z plane: 26\n"
     ]
    },
    {
     "name": "stderr",
     "output_type": "stream",
     "text": [
      "100%|█████████████████████████████████████████| 25/25 [00:00<00:00, 2557.07it/s]\n",
      "100%|█████████████████████████████████████████| 25/25 [00:00<00:00, 5853.39it/s]\n"
     ]
    },
    {
     "name": "stdout",
     "output_type": "stream",
     "text": [
      "Z plane: 27\n"
     ]
    },
    {
     "name": "stderr",
     "output_type": "stream",
     "text": [
      "100%|█████████████████████████████████████████| 21/21 [00:00<00:00, 2061.23it/s]\n",
      "100%|█████████████████████████████████████████| 20/20 [00:00<00:00, 3131.36it/s]\n"
     ]
    },
    {
     "name": "stdout",
     "output_type": "stream",
     "text": [
      "Z plane: 28\n"
     ]
    },
    {
     "name": "stderr",
     "output_type": "stream",
     "text": [
      "100%|█████████████████████████████████████████| 18/18 [00:00<00:00, 2046.67it/s]\n",
      "100%|█████████████████████████████████████████| 18/18 [00:00<00:00, 2469.74it/s]\n"
     ]
    },
    {
     "name": "stdout",
     "output_type": "stream",
     "text": [
      "Z plane: 29\n"
     ]
    },
    {
     "name": "stderr",
     "output_type": "stream",
     "text": [
      "100%|█████████████████████████████████████████| 17/17 [00:00<00:00, 2134.57it/s]\n",
      "100%|█████████████████████████████████████████| 17/17 [00:00<00:00, 2951.41it/s]\n"
     ]
    },
    {
     "name": "stdout",
     "output_type": "stream",
     "text": [
      "Z plane: 30\n"
     ]
    },
    {
     "name": "stderr",
     "output_type": "stream",
     "text": [
      "100%|█████████████████████████████████████████| 14/14 [00:00<00:00, 3668.87it/s]\n",
      "100%|█████████████████████████████████████████| 14/14 [00:00<00:00, 1571.28it/s]\n"
     ]
    },
    {
     "name": "stdout",
     "output_type": "stream",
     "text": [
      "Z plane: 31\n"
     ]
    },
    {
     "name": "stderr",
     "output_type": "stream",
     "text": [
      "100%|█████████████████████████████████████████| 12/12 [00:00<00:00, 2191.38it/s]\n",
      "100%|█████████████████████████████████████████| 12/12 [00:00<00:00, 2391.39it/s]\n"
     ]
    },
    {
     "name": "stdout",
     "output_type": "stream",
     "text": [
      "Time point: 48\n",
      "Z plane: 0\n"
     ]
    },
    {
     "name": "stderr",
     "output_type": "stream",
     "text": [
      "100%|███████████████████████████████████████████| 4/4 [00:00<00:00, 1258.70it/s]\n",
      "100%|████████████████████████████████████████████| 4/4 [00:00<00:00, 953.96it/s]\n"
     ]
    },
    {
     "name": "stdout",
     "output_type": "stream",
     "text": [
      "Z plane: 1\n"
     ]
    },
    {
     "name": "stderr",
     "output_type": "stream",
     "text": [
      "100%|███████████████████████████████████████████| 3/3 [00:00<00:00, 1070.25it/s]\n",
      "100%|███████████████████████████████████████████| 3/3 [00:00<00:00, 1145.98it/s]\n"
     ]
    },
    {
     "name": "stdout",
     "output_type": "stream",
     "text": [
      "Z plane: 2\n"
     ]
    },
    {
     "name": "stderr",
     "output_type": "stream",
     "text": [
      "100%|███████████████████████████████████████████| 3/3 [00:00<00:00, 1498.50it/s]\n",
      "100%|████████████████████████████████████████████| 3/3 [00:00<00:00, 971.80it/s]\n"
     ]
    },
    {
     "name": "stdout",
     "output_type": "stream",
     "text": [
      "Z plane: 3\n"
     ]
    },
    {
     "name": "stderr",
     "output_type": "stream",
     "text": [
      "100%|███████████████████████████████████████████| 4/4 [00:00<00:00, 1173.81it/s]\n",
      "100%|███████████████████████████████████████████| 4/4 [00:00<00:00, 1146.53it/s]\n"
     ]
    },
    {
     "name": "stdout",
     "output_type": "stream",
     "text": [
      "Z plane: 4\n"
     ]
    },
    {
     "name": "stderr",
     "output_type": "stream",
     "text": [
      "100%|███████████████████████████████████████████| 4/4 [00:00<00:00, 1198.03it/s]\n",
      "100%|███████████████████████████████████████████| 4/4 [00:00<00:00, 1094.76it/s]\n"
     ]
    },
    {
     "name": "stdout",
     "output_type": "stream",
     "text": [
      "Z plane: 5\n"
     ]
    },
    {
     "name": "stderr",
     "output_type": "stream",
     "text": [
      "100%|███████████████████████████████████████████| 4/4 [00:00<00:00, 1544.44it/s]\n",
      "100%|███████████████████████████████████████████| 4/4 [00:00<00:00, 1364.22it/s]\n"
     ]
    },
    {
     "name": "stdout",
     "output_type": "stream",
     "text": [
      "Z plane: 6\n"
     ]
    },
    {
     "name": "stderr",
     "output_type": "stream",
     "text": [
      "100%|███████████████████████████████████████████| 4/4 [00:00<00:00, 1948.35it/s]\n",
      "100%|███████████████████████████████████████████| 4/4 [00:00<00:00, 1621.46it/s]\n"
     ]
    },
    {
     "name": "stdout",
     "output_type": "stream",
     "text": [
      "Z plane: 7\n"
     ]
    },
    {
     "name": "stderr",
     "output_type": "stream",
     "text": [
      "100%|███████████████████████████████████████████| 6/6 [00:00<00:00, 1280.96it/s]\n",
      "100%|███████████████████████████████████████████| 6/6 [00:00<00:00, 1609.38it/s]\n"
     ]
    },
    {
     "name": "stdout",
     "output_type": "stream",
     "text": [
      "Z plane: 8\n"
     ]
    },
    {
     "name": "stderr",
     "output_type": "stream",
     "text": [
      "100%|███████████████████████████████████████████| 9/9 [00:00<00:00, 1199.67it/s]\n",
      "100%|███████████████████████████████████████████| 9/9 [00:00<00:00, 1718.59it/s]\n"
     ]
    },
    {
     "name": "stdout",
     "output_type": "stream",
     "text": [
      "Z plane: 9\n"
     ]
    },
    {
     "name": "stderr",
     "output_type": "stream",
     "text": [
      "100%|█████████████████████████████████████████| 10/10 [00:00<00:00, 1137.99it/s]\n",
      "100%|█████████████████████████████████████████| 10/10 [00:00<00:00, 2965.64it/s]\n"
     ]
    },
    {
     "name": "stdout",
     "output_type": "stream",
     "text": [
      "Z plane: 10\n"
     ]
    },
    {
     "name": "stderr",
     "output_type": "stream",
     "text": [
      "100%|█████████████████████████████████████████| 13/13 [00:00<00:00, 1786.45it/s]\n",
      "100%|█████████████████████████████████████████| 13/13 [00:00<00:00, 2053.48it/s]\n"
     ]
    },
    {
     "name": "stdout",
     "output_type": "stream",
     "text": [
      "Z plane: 11\n"
     ]
    },
    {
     "name": "stderr",
     "output_type": "stream",
     "text": [
      "100%|█████████████████████████████████████████| 14/14 [00:00<00:00, 1533.93it/s]\n",
      "100%|█████████████████████████████████████████| 14/14 [00:00<00:00, 2749.98it/s]\n"
     ]
    },
    {
     "name": "stdout",
     "output_type": "stream",
     "text": [
      "Z plane: 12\n"
     ]
    },
    {
     "name": "stderr",
     "output_type": "stream",
     "text": [
      "100%|█████████████████████████████████████████| 20/20 [00:00<00:00, 1920.16it/s]\n",
      "100%|█████████████████████████████████████████| 20/20 [00:00<00:00, 3846.22it/s]\n"
     ]
    },
    {
     "name": "stdout",
     "output_type": "stream",
     "text": [
      "Z plane: 13\n"
     ]
    },
    {
     "name": "stderr",
     "output_type": "stream",
     "text": [
      "100%|█████████████████████████████████████████| 19/19 [00:00<00:00, 1826.45it/s]\n",
      "100%|█████████████████████████████████████████| 19/19 [00:00<00:00, 2230.58it/s]\n"
     ]
    },
    {
     "name": "stdout",
     "output_type": "stream",
     "text": [
      "Z plane: 14\n"
     ]
    },
    {
     "name": "stderr",
     "output_type": "stream",
     "text": [
      "100%|█████████████████████████████████████████| 18/18 [00:00<00:00, 1843.07it/s]\n",
      "100%|█████████████████████████████████████████| 18/18 [00:00<00:00, 4036.00it/s]\n"
     ]
    },
    {
     "name": "stdout",
     "output_type": "stream",
     "text": [
      "Z plane: 15\n"
     ]
    },
    {
     "name": "stderr",
     "output_type": "stream",
     "text": [
      "100%|█████████████████████████████████████████| 21/21 [00:00<00:00, 2397.53it/s]\n",
      "100%|█████████████████████████████████████████| 21/21 [00:00<00:00, 3745.39it/s]\n"
     ]
    },
    {
     "name": "stdout",
     "output_type": "stream",
     "text": [
      "Z plane: 16\n"
     ]
    },
    {
     "name": "stderr",
     "output_type": "stream",
     "text": [
      "100%|█████████████████████████████████████████| 26/26 [00:00<00:00, 1916.55it/s]\n",
      "100%|█████████████████████████████████████████| 26/26 [00:00<00:00, 6100.12it/s]\n"
     ]
    },
    {
     "name": "stdout",
     "output_type": "stream",
     "text": [
      "Z plane: 17\n"
     ]
    },
    {
     "name": "stderr",
     "output_type": "stream",
     "text": [
      "100%|█████████████████████████████████████████| 31/31 [00:00<00:00, 2866.10it/s]\n",
      "100%|█████████████████████████████████████████| 31/31 [00:00<00:00, 5619.23it/s]\n"
     ]
    },
    {
     "name": "stdout",
     "output_type": "stream",
     "text": [
      "Z plane: 18\n"
     ]
    },
    {
     "name": "stderr",
     "output_type": "stream",
     "text": [
      "100%|█████████████████████████████████████████| 37/37 [00:00<00:00, 3058.40it/s]\n",
      "100%|█████████████████████████████████████████| 36/36 [00:00<00:00, 6175.91it/s]\n"
     ]
    },
    {
     "name": "stdout",
     "output_type": "stream",
     "text": [
      "Z plane: 19\n"
     ]
    },
    {
     "name": "stderr",
     "output_type": "stream",
     "text": [
      "100%|█████████████████████████████████████████| 35/35 [00:00<00:00, 3021.96it/s]\n",
      "100%|█████████████████████████████████████████| 35/35 [00:00<00:00, 5768.88it/s]\n"
     ]
    },
    {
     "name": "stdout",
     "output_type": "stream",
     "text": [
      "Z plane: 20\n"
     ]
    },
    {
     "name": "stderr",
     "output_type": "stream",
     "text": [
      "100%|█████████████████████████████████████████| 33/33 [00:00<00:00, 2589.66it/s]\n",
      "100%|█████████████████████████████████████████| 32/32 [00:00<00:00, 4561.04it/s]\n"
     ]
    },
    {
     "name": "stdout",
     "output_type": "stream",
     "text": [
      "Z plane: 21\n"
     ]
    },
    {
     "name": "stderr",
     "output_type": "stream",
     "text": [
      "100%|█████████████████████████████████████████| 34/34 [00:00<00:00, 2926.94it/s]\n",
      "100%|█████████████████████████████████████████| 34/34 [00:00<00:00, 5854.12it/s]\n"
     ]
    },
    {
     "name": "stdout",
     "output_type": "stream",
     "text": [
      "Z plane: 22\n"
     ]
    },
    {
     "name": "stderr",
     "output_type": "stream",
     "text": [
      "100%|█████████████████████████████████████████| 33/33 [00:00<00:00, 3501.44it/s]\n",
      "100%|█████████████████████████████████████████| 33/33 [00:00<00:00, 4415.76it/s]\n"
     ]
    },
    {
     "name": "stdout",
     "output_type": "stream",
     "text": [
      "Z plane: 23\n"
     ]
    },
    {
     "name": "stderr",
     "output_type": "stream",
     "text": [
      "100%|█████████████████████████████████████████| 33/33 [00:00<00:00, 4526.82it/s]\n",
      "100%|█████████████████████████████████████████| 32/32 [00:00<00:00, 7001.08it/s]\n"
     ]
    },
    {
     "name": "stdout",
     "output_type": "stream",
     "text": [
      "Z plane: 24\n"
     ]
    },
    {
     "name": "stderr",
     "output_type": "stream",
     "text": [
      "100%|█████████████████████████████████████████| 33/33 [00:00<00:00, 3040.89it/s]\n",
      "100%|█████████████████████████████████████████| 32/32 [00:00<00:00, 5260.55it/s]\n"
     ]
    },
    {
     "name": "stdout",
     "output_type": "stream",
     "text": [
      "Z plane: 25\n"
     ]
    },
    {
     "name": "stderr",
     "output_type": "stream",
     "text": [
      "100%|█████████████████████████████████████████| 30/30 [00:00<00:00, 2783.77it/s]\n",
      "100%|█████████████████████████████████████████| 30/30 [00:00<00:00, 5944.31it/s]\n"
     ]
    },
    {
     "name": "stdout",
     "output_type": "stream",
     "text": [
      "Z plane: 26\n"
     ]
    },
    {
     "name": "stderr",
     "output_type": "stream",
     "text": [
      "100%|█████████████████████████████████████████| 28/28 [00:00<00:00, 2353.09it/s]\n",
      "100%|█████████████████████████████████████████| 27/27 [00:00<00:00, 4541.47it/s]\n"
     ]
    },
    {
     "name": "stdout",
     "output_type": "stream",
     "text": [
      "Z plane: 27\n"
     ]
    },
    {
     "name": "stderr",
     "output_type": "stream",
     "text": [
      "100%|█████████████████████████████████████████| 25/25 [00:00<00:00, 1999.04it/s]\n",
      "100%|█████████████████████████████████████████| 25/25 [00:00<00:00, 3942.46it/s]\n"
     ]
    },
    {
     "name": "stdout",
     "output_type": "stream",
     "text": [
      "Z plane: 28\n"
     ]
    },
    {
     "name": "stderr",
     "output_type": "stream",
     "text": [
      "100%|█████████████████████████████████████████| 21/21 [00:00<00:00, 1702.73it/s]\n",
      "100%|█████████████████████████████████████████| 21/21 [00:00<00:00, 4007.66it/s]\n"
     ]
    },
    {
     "name": "stdout",
     "output_type": "stream",
     "text": [
      "Z plane: 29\n"
     ]
    },
    {
     "name": "stderr",
     "output_type": "stream",
     "text": [
      "100%|█████████████████████████████████████████| 16/16 [00:00<00:00, 1303.24it/s]\n",
      "100%|█████████████████████████████████████████| 16/16 [00:00<00:00, 2551.47it/s]\n"
     ]
    },
    {
     "name": "stdout",
     "output_type": "stream",
     "text": [
      "Z plane: 30\n"
     ]
    },
    {
     "name": "stderr",
     "output_type": "stream",
     "text": [
      "100%|█████████████████████████████████████████| 15/15 [00:00<00:00, 1681.26it/s]\n",
      "100%|█████████████████████████████████████████| 15/15 [00:00<00:00, 2901.83it/s]\n"
     ]
    },
    {
     "name": "stdout",
     "output_type": "stream",
     "text": [
      "Z plane: 31\n"
     ]
    },
    {
     "name": "stderr",
     "output_type": "stream",
     "text": [
      "100%|█████████████████████████████████████████| 11/11 [00:00<00:00, 1787.99it/s]\n",
      "100%|█████████████████████████████████████████| 11/11 [00:00<00:00, 1517.88it/s]\n"
     ]
    },
    {
     "name": "stdout",
     "output_type": "stream",
     "text": [
      "Time point: 49\n",
      "Z plane: 0\n"
     ]
    },
    {
     "name": "stderr",
     "output_type": "stream",
     "text": [
      "100%|████████████████████████████████████████████| 4/4 [00:00<00:00, 976.61it/s]\n",
      "100%|████████████████████████████████████████████| 4/4 [00:00<00:00, 863.96it/s]\n"
     ]
    },
    {
     "name": "stdout",
     "output_type": "stream",
     "text": [
      "Z plane: 1\n"
     ]
    },
    {
     "name": "stderr",
     "output_type": "stream",
     "text": [
      "100%|███████████████████████████████████████████| 3/3 [00:00<00:00, 1056.32it/s]\n",
      "100%|████████████████████████████████████████████| 3/3 [00:00<00:00, 738.17it/s]\n"
     ]
    },
    {
     "name": "stdout",
     "output_type": "stream",
     "text": [
      "Z plane: 2\n"
     ]
    },
    {
     "name": "stderr",
     "output_type": "stream",
     "text": [
      "100%|███████████████████████████████████████████| 4/4 [00:00<00:00, 1000.01it/s]\n",
      "100%|████████████████████████████████████████████| 4/4 [00:00<00:00, 806.02it/s]\n"
     ]
    },
    {
     "name": "stdout",
     "output_type": "stream",
     "text": [
      "Z plane: 3\n"
     ]
    },
    {
     "name": "stderr",
     "output_type": "stream",
     "text": [
      "100%|███████████████████████████████████████████| 3/3 [00:00<00:00, 1039.91it/s]\n",
      "100%|████████████████████████████████████████████| 3/3 [00:00<00:00, 685.23it/s]\n"
     ]
    },
    {
     "name": "stdout",
     "output_type": "stream",
     "text": [
      "Z plane: 4\n"
     ]
    },
    {
     "name": "stderr",
     "output_type": "stream",
     "text": [
      "100%|███████████████████████████████████████████| 3/3 [00:00<00:00, 1579.78it/s]\n",
      "100%|███████████████████████████████████████████| 3/3 [00:00<00:00, 1001.66it/s]\n"
     ]
    },
    {
     "name": "stdout",
     "output_type": "stream",
     "text": [
      "Z plane: 5\n"
     ]
    },
    {
     "name": "stderr",
     "output_type": "stream",
     "text": [
      "100%|████████████████████████████████████████████| 3/3 [00:00<00:00, 938.60it/s]\n",
      "100%|████████████████████████████████████████████| 3/3 [00:00<00:00, 688.23it/s]\n"
     ]
    },
    {
     "name": "stdout",
     "output_type": "stream",
     "text": [
      "Z plane: 6\n"
     ]
    },
    {
     "name": "stderr",
     "output_type": "stream",
     "text": [
      "100%|███████████████████████████████████████████| 3/3 [00:00<00:00, 2424.92it/s]\n",
      "100%|███████████████████████████████████████████| 3/3 [00:00<00:00, 2189.47it/s]\n"
     ]
    },
    {
     "name": "stdout",
     "output_type": "stream",
     "text": [
      "Z plane: 7\n"
     ]
    },
    {
     "name": "stderr",
     "output_type": "stream",
     "text": [
      "100%|███████████████████████████████████████████| 7/7 [00:00<00:00, 1115.00it/s]\n",
      "100%|███████████████████████████████████████████| 7/7 [00:00<00:00, 1153.05it/s]\n"
     ]
    },
    {
     "name": "stdout",
     "output_type": "stream",
     "text": [
      "Z plane: 8\n"
     ]
    },
    {
     "name": "stderr",
     "output_type": "stream",
     "text": [
      "100%|███████████████████████████████████████████| 8/8 [00:00<00:00, 1052.49it/s]\n",
      "100%|███████████████████████████████████████████| 8/8 [00:00<00:00, 1331.63it/s]\n"
     ]
    },
    {
     "name": "stdout",
     "output_type": "stream",
     "text": [
      "Z plane: 9\n"
     ]
    },
    {
     "name": "stderr",
     "output_type": "stream",
     "text": [
      "100%|███████████████████████████████████████████| 9/9 [00:00<00:00, 1390.17it/s]\n",
      "100%|███████████████████████████████████████████| 9/9 [00:00<00:00, 1364.05it/s]\n"
     ]
    },
    {
     "name": "stdout",
     "output_type": "stream",
     "text": [
      "Z plane: 10\n"
     ]
    },
    {
     "name": "stderr",
     "output_type": "stream",
     "text": [
      "100%|█████████████████████████████████████████| 12/12 [00:00<00:00, 1452.45it/s]\n",
      "100%|█████████████████████████████████████████| 12/12 [00:00<00:00, 1972.32it/s]\n"
     ]
    },
    {
     "name": "stdout",
     "output_type": "stream",
     "text": [
      "Z plane: 11\n"
     ]
    },
    {
     "name": "stderr",
     "output_type": "stream",
     "text": [
      "100%|█████████████████████████████████████████| 14/14 [00:00<00:00, 1623.00it/s]\n",
      "100%|█████████████████████████████████████████| 14/14 [00:00<00:00, 2546.85it/s]\n"
     ]
    },
    {
     "name": "stdout",
     "output_type": "stream",
     "text": [
      "Z plane: 12\n"
     ]
    },
    {
     "name": "stderr",
     "output_type": "stream",
     "text": [
      "100%|█████████████████████████████████████████| 18/18 [00:00<00:00, 1692.35it/s]\n",
      "100%|█████████████████████████████████████████| 18/18 [00:00<00:00, 3199.45it/s]\n"
     ]
    },
    {
     "name": "stdout",
     "output_type": "stream",
     "text": [
      "Z plane: 13\n"
     ]
    },
    {
     "name": "stderr",
     "output_type": "stream",
     "text": [
      "100%|█████████████████████████████████████████| 17/17 [00:00<00:00, 1752.91it/s]\n",
      "100%|█████████████████████████████████████████| 17/17 [00:00<00:00, 3862.79it/s]\n"
     ]
    },
    {
     "name": "stdout",
     "output_type": "stream",
     "text": [
      "Z plane: 14\n"
     ]
    },
    {
     "name": "stderr",
     "output_type": "stream",
     "text": [
      "100%|█████████████████████████████████████████| 19/19 [00:00<00:00, 1735.49it/s]\n",
      "100%|█████████████████████████████████████████| 19/19 [00:00<00:00, 3734.91it/s]\n"
     ]
    },
    {
     "name": "stdout",
     "output_type": "stream",
     "text": [
      "Z plane: 15\n"
     ]
    },
    {
     "name": "stderr",
     "output_type": "stream",
     "text": [
      "100%|█████████████████████████████████████████| 18/18 [00:00<00:00, 2405.76it/s]\n",
      "100%|█████████████████████████████████████████| 18/18 [00:00<00:00, 9009.24it/s]\n"
     ]
    },
    {
     "name": "stdout",
     "output_type": "stream",
     "text": [
      "Z plane: 16\n"
     ]
    },
    {
     "name": "stderr",
     "output_type": "stream",
     "text": [
      "100%|█████████████████████████████████████████| 24/24 [00:00<00:00, 2112.69it/s]\n",
      "100%|█████████████████████████████████████████| 24/24 [00:00<00:00, 6613.45it/s]\n"
     ]
    },
    {
     "name": "stdout",
     "output_type": "stream",
     "text": [
      "Z plane: 17\n"
     ]
    },
    {
     "name": "stderr",
     "output_type": "stream",
     "text": [
      "100%|█████████████████████████████████████████| 27/27 [00:00<00:00, 1838.11it/s]\n",
      "100%|█████████████████████████████████████████| 27/27 [00:00<00:00, 7887.87it/s]\n"
     ]
    },
    {
     "name": "stdout",
     "output_type": "stream",
     "text": [
      "Z plane: 18\n"
     ]
    },
    {
     "name": "stderr",
     "output_type": "stream",
     "text": [
      "100%|█████████████████████████████████████████| 30/30 [00:00<00:00, 2367.61it/s]\n",
      "100%|█████████████████████████████████████████| 30/30 [00:00<00:00, 5616.87it/s]\n"
     ]
    },
    {
     "name": "stdout",
     "output_type": "stream",
     "text": [
      "Z plane: 19\n"
     ]
    },
    {
     "name": "stderr",
     "output_type": "stream",
     "text": [
      "100%|█████████████████████████████████████████| 32/32 [00:00<00:00, 2683.44it/s]\n",
      "100%|█████████████████████████████████████████| 32/32 [00:00<00:00, 8969.38it/s]\n"
     ]
    },
    {
     "name": "stdout",
     "output_type": "stream",
     "text": [
      "Z plane: 20\n"
     ]
    },
    {
     "name": "stderr",
     "output_type": "stream",
     "text": [
      "100%|█████████████████████████████████████████| 32/32 [00:00<00:00, 3546.04it/s]\n",
      "100%|█████████████████████████████████████████| 32/32 [00:00<00:00, 4761.35it/s]\n"
     ]
    },
    {
     "name": "stdout",
     "output_type": "stream",
     "text": [
      "Z plane: 21\n"
     ]
    },
    {
     "name": "stderr",
     "output_type": "stream",
     "text": [
      "100%|█████████████████████████████████████████| 30/30 [00:00<00:00, 3188.37it/s]\n",
      "100%|█████████████████████████████████████████| 30/30 [00:00<00:00, 5201.91it/s]\n"
     ]
    },
    {
     "name": "stdout",
     "output_type": "stream",
     "text": [
      "Z plane: 22\n"
     ]
    },
    {
     "name": "stderr",
     "output_type": "stream",
     "text": [
      "100%|█████████████████████████████████████████| 31/31 [00:00<00:00, 2940.11it/s]\n",
      "100%|█████████████████████████████████████████| 31/31 [00:00<00:00, 8739.90it/s]\n"
     ]
    },
    {
     "name": "stdout",
     "output_type": "stream",
     "text": [
      "Z plane: 23\n"
     ]
    },
    {
     "name": "stderr",
     "output_type": "stream",
     "text": [
      "100%|█████████████████████████████████████████| 41/41 [00:00<00:00, 3894.43it/s]\n",
      "100%|█████████████████████████████████████████| 41/41 [00:00<00:00, 7639.22it/s]\n"
     ]
    },
    {
     "name": "stdout",
     "output_type": "stream",
     "text": [
      "Z plane: 24\n"
     ]
    },
    {
     "name": "stderr",
     "output_type": "stream",
     "text": [
      "100%|█████████████████████████████████████████| 36/36 [00:00<00:00, 3877.23it/s]\n",
      "100%|█████████████████████████████████████████| 36/36 [00:00<00:00, 6665.56it/s]\n"
     ]
    },
    {
     "name": "stdout",
     "output_type": "stream",
     "text": [
      "Z plane: 25\n"
     ]
    },
    {
     "name": "stderr",
     "output_type": "stream",
     "text": [
      "100%|█████████████████████████████████████████| 31/31 [00:00<00:00, 2440.20it/s]\n",
      "100%|█████████████████████████████████████████| 31/31 [00:00<00:00, 7148.07it/s]\n"
     ]
    },
    {
     "name": "stdout",
     "output_type": "stream",
     "text": [
      "Z plane: 26\n"
     ]
    },
    {
     "name": "stderr",
     "output_type": "stream",
     "text": [
      "100%|█████████████████████████████████████████| 29/29 [00:00<00:00, 2337.78it/s]\n",
      "100%|█████████████████████████████████████████| 29/29 [00:00<00:00, 6713.11it/s]\n"
     ]
    },
    {
     "name": "stdout",
     "output_type": "stream",
     "text": [
      "Z plane: 27\n"
     ]
    },
    {
     "name": "stderr",
     "output_type": "stream",
     "text": [
      "100%|█████████████████████████████████████████| 28/28 [00:00<00:00, 2179.14it/s]\n",
      "100%|█████████████████████████████████████████| 28/28 [00:00<00:00, 3892.11it/s]\n"
     ]
    },
    {
     "name": "stdout",
     "output_type": "stream",
     "text": [
      "Z plane: 28\n"
     ]
    },
    {
     "name": "stderr",
     "output_type": "stream",
     "text": [
      "100%|█████████████████████████████████████████| 21/21 [00:00<00:00, 3012.84it/s]\n",
      "100%|█████████████████████████████████████████| 21/21 [00:00<00:00, 4166.72it/s]\n"
     ]
    },
    {
     "name": "stdout",
     "output_type": "stream",
     "text": [
      "Z plane: 29\n"
     ]
    },
    {
     "name": "stderr",
     "output_type": "stream",
     "text": [
      "100%|█████████████████████████████████████████| 17/17 [00:00<00:00, 2472.28it/s]\n",
      "100%|█████████████████████████████████████████| 17/17 [00:00<00:00, 1685.18it/s]\n"
     ]
    },
    {
     "name": "stdout",
     "output_type": "stream",
     "text": [
      "Z plane: 30\n"
     ]
    },
    {
     "name": "stderr",
     "output_type": "stream",
     "text": [
      "100%|█████████████████████████████████████████| 13/13 [00:00<00:00, 1900.85it/s]\n",
      "100%|█████████████████████████████████████████| 13/13 [00:00<00:00, 3647.46it/s]\n"
     ]
    },
    {
     "name": "stdout",
     "output_type": "stream",
     "text": [
      "Z plane: 31\n"
     ]
    },
    {
     "name": "stderr",
     "output_type": "stream",
     "text": [
      "100%|█████████████████████████████████████████| 10/10 [00:00<00:00, 1854.16it/s]\n",
      "100%|█████████████████████████████████████████| 10/10 [00:00<00:00, 1412.98it/s]\n"
     ]
    },
    {
     "name": "stdout",
     "output_type": "stream",
     "text": [
      "Time point: 50\n",
      "Z plane: 0\n"
     ]
    },
    {
     "name": "stderr",
     "output_type": "stream",
     "text": [
      "100%|███████████████████████████████████████████| 3/3 [00:00<00:00, 1004.94it/s]\n",
      "100%|████████████████████████████████████████████| 3/3 [00:00<00:00, 933.10it/s]\n"
     ]
    },
    {
     "name": "stdout",
     "output_type": "stream",
     "text": [
      "Z plane: 1\n"
     ]
    },
    {
     "name": "stderr",
     "output_type": "stream",
     "text": [
      "100%|███████████████████████████████████████████| 3/3 [00:00<00:00, 1028.44it/s]\n",
      "100%|████████████████████████████████████████████| 3/3 [00:00<00:00, 948.79it/s]\n"
     ]
    },
    {
     "name": "stdout",
     "output_type": "stream",
     "text": [
      "Z plane: 2\n"
     ]
    },
    {
     "name": "stderr",
     "output_type": "stream",
     "text": [
      "100%|███████████████████████████████████████████| 3/3 [00:00<00:00, 1712.43it/s]\n",
      "100%|████████████████████████████████████████████| 3/3 [00:00<00:00, 856.97it/s]\n"
     ]
    },
    {
     "name": "stdout",
     "output_type": "stream",
     "text": [
      "Z plane: 3\n"
     ]
    },
    {
     "name": "stderr",
     "output_type": "stream",
     "text": [
      "100%|███████████████████████████████████████████| 3/3 [00:00<00:00, 1282.14it/s]\n",
      "100%|████████████████████████████████████████████| 3/3 [00:00<00:00, 820.11it/s]\n"
     ]
    },
    {
     "name": "stdout",
     "output_type": "stream",
     "text": [
      "Z plane: 4\n"
     ]
    },
    {
     "name": "stderr",
     "output_type": "stream",
     "text": [
      "100%|███████████████████████████████████████████| 3/3 [00:00<00:00, 1032.06it/s]\n",
      "100%|███████████████████████████████████████████| 3/3 [00:00<00:00, 1022.50it/s]\n"
     ]
    },
    {
     "name": "stdout",
     "output_type": "stream",
     "text": [
      "Z plane: 5\n"
     ]
    },
    {
     "name": "stderr",
     "output_type": "stream",
     "text": [
      "100%|███████████████████████████████████████████| 3/3 [00:00<00:00, 1008.08it/s]\n",
      "100%|████████████████████████████████████████████| 3/3 [00:00<00:00, 791.38it/s]\n"
     ]
    },
    {
     "name": "stdout",
     "output_type": "stream",
     "text": [
      "Z plane: 6\n"
     ]
    },
    {
     "name": "stderr",
     "output_type": "stream",
     "text": [
      "100%|███████████████████████████████████████████| 3/3 [00:00<00:00, 1618.80it/s]\n",
      "100%|███████████████████████████████████████████| 3/3 [00:00<00:00, 1602.71it/s]\n"
     ]
    },
    {
     "name": "stdout",
     "output_type": "stream",
     "text": [
      "Z plane: 7\n"
     ]
    },
    {
     "name": "stderr",
     "output_type": "stream",
     "text": [
      "100%|███████████████████████████████████████████| 8/8 [00:00<00:00, 1671.20it/s]\n",
      "100%|███████████████████████████████████████████| 7/7 [00:00<00:00, 1462.96it/s]\n"
     ]
    },
    {
     "name": "stdout",
     "output_type": "stream",
     "text": [
      "Z plane: 8\n"
     ]
    },
    {
     "name": "stderr",
     "output_type": "stream",
     "text": [
      "100%|███████████████████████████████████████████| 8/8 [00:00<00:00, 1000.52it/s]\n",
      "100%|███████████████████████████████████████████| 8/8 [00:00<00:00, 1391.55it/s]\n"
     ]
    },
    {
     "name": "stdout",
     "output_type": "stream",
     "text": [
      "Z plane: 9\n"
     ]
    },
    {
     "name": "stderr",
     "output_type": "stream",
     "text": [
      "100%|███████████████████████████████████████████| 9/9 [00:00<00:00, 1185.32it/s]\n",
      "100%|███████████████████████████████████████████| 9/9 [00:00<00:00, 1363.21it/s]\n"
     ]
    },
    {
     "name": "stdout",
     "output_type": "stream",
     "text": [
      "Z plane: 10\n"
     ]
    },
    {
     "name": "stderr",
     "output_type": "stream",
     "text": [
      "100%|█████████████████████████████████████████| 12/12 [00:00<00:00, 1182.60it/s]\n",
      "100%|█████████████████████████████████████████| 12/12 [00:00<00:00, 2245.55it/s]\n"
     ]
    },
    {
     "name": "stdout",
     "output_type": "stream",
     "text": [
      "Z plane: 11\n"
     ]
    },
    {
     "name": "stderr",
     "output_type": "stream",
     "text": [
      "100%|█████████████████████████████████████████| 14/14 [00:00<00:00, 1389.04it/s]\n",
      "100%|█████████████████████████████████████████| 14/14 [00:00<00:00, 2348.62it/s]\n"
     ]
    },
    {
     "name": "stdout",
     "output_type": "stream",
     "text": [
      "Z plane: 12\n"
     ]
    },
    {
     "name": "stderr",
     "output_type": "stream",
     "text": [
      "100%|█████████████████████████████████████████| 15/15 [00:00<00:00, 1358.00it/s]\n",
      "100%|█████████████████████████████████████████| 15/15 [00:00<00:00, 3049.37it/s]\n"
     ]
    },
    {
     "name": "stdout",
     "output_type": "stream",
     "text": [
      "Z plane: 13\n"
     ]
    },
    {
     "name": "stderr",
     "output_type": "stream",
     "text": [
      "100%|█████████████████████████████████████████| 17/17 [00:00<00:00, 2127.44it/s]\n",
      "100%|█████████████████████████████████████████| 17/17 [00:00<00:00, 2185.07it/s]\n"
     ]
    },
    {
     "name": "stdout",
     "output_type": "stream",
     "text": [
      "Z plane: 14\n"
     ]
    },
    {
     "name": "stderr",
     "output_type": "stream",
     "text": [
      "100%|█████████████████████████████████████████| 19/19 [00:00<00:00, 1801.76it/s]\n",
      "100%|█████████████████████████████████████████| 19/19 [00:00<00:00, 3994.98it/s]\n"
     ]
    },
    {
     "name": "stdout",
     "output_type": "stream",
     "text": [
      "Z plane: 15\n"
     ]
    },
    {
     "name": "stderr",
     "output_type": "stream",
     "text": [
      "100%|█████████████████████████████████████████| 20/20 [00:00<00:00, 1976.30it/s]\n",
      "100%|█████████████████████████████████████████| 20/20 [00:00<00:00, 6856.24it/s]\n"
     ]
    },
    {
     "name": "stdout",
     "output_type": "stream",
     "text": [
      "Z plane: 16\n"
     ]
    },
    {
     "name": "stderr",
     "output_type": "stream",
     "text": [
      "100%|█████████████████████████████████████████| 26/26 [00:00<00:00, 2994.04it/s]\n",
      "100%|█████████████████████████████████████████| 26/26 [00:00<00:00, 6205.30it/s]\n"
     ]
    },
    {
     "name": "stdout",
     "output_type": "stream",
     "text": [
      "Z plane: 17\n"
     ]
    },
    {
     "name": "stderr",
     "output_type": "stream",
     "text": [
      "100%|█████████████████████████████████████████| 27/27 [00:00<00:00, 2004.25it/s]\n",
      "100%|█████████████████████████████████████████| 27/27 [00:00<00:00, 5289.90it/s]\n"
     ]
    },
    {
     "name": "stdout",
     "output_type": "stream",
     "text": [
      "Z plane: 18\n"
     ]
    },
    {
     "name": "stderr",
     "output_type": "stream",
     "text": [
      "100%|█████████████████████████████████████████| 31/31 [00:00<00:00, 2134.12it/s]\n",
      "100%|████████████████████████████████████████| 31/31 [00:00<00:00, 10941.05it/s]\n"
     ]
    },
    {
     "name": "stdout",
     "output_type": "stream",
     "text": [
      "Z plane: 19\n"
     ]
    },
    {
     "name": "stderr",
     "output_type": "stream",
     "text": [
      "100%|█████████████████████████████████████████| 33/33 [00:00<00:00, 2669.21it/s]\n",
      "100%|█████████████████████████████████████████| 33/33 [00:00<00:00, 5098.05it/s]\n"
     ]
    },
    {
     "name": "stdout",
     "output_type": "stream",
     "text": [
      "Z plane: 20\n"
     ]
    },
    {
     "name": "stderr",
     "output_type": "stream",
     "text": [
      "100%|█████████████████████████████████████████| 32/32 [00:00<00:00, 2210.11it/s]\n",
      "100%|█████████████████████████████████████████| 32/32 [00:00<00:00, 5495.55it/s]\n"
     ]
    },
    {
     "name": "stdout",
     "output_type": "stream",
     "text": [
      "Z plane: 21\n"
     ]
    },
    {
     "name": "stderr",
     "output_type": "stream",
     "text": [
      "100%|█████████████████████████████████████████| 35/35 [00:00<00:00, 2582.11it/s]\n",
      "100%|█████████████████████████████████████████| 35/35 [00:00<00:00, 7510.91it/s]\n"
     ]
    },
    {
     "name": "stdout",
     "output_type": "stream",
     "text": [
      "Z plane: 22\n"
     ]
    },
    {
     "name": "stderr",
     "output_type": "stream",
     "text": [
      "100%|█████████████████████████████████████████| 36/36 [00:00<00:00, 2715.35it/s]\n",
      "100%|████████████████████████████████████████| 35/35 [00:00<00:00, 11228.44it/s]\n"
     ]
    },
    {
     "name": "stdout",
     "output_type": "stream",
     "text": [
      "Z plane: 23\n"
     ]
    },
    {
     "name": "stderr",
     "output_type": "stream",
     "text": [
      "100%|█████████████████████████████████████████| 39/39 [00:00<00:00, 3943.35it/s]\n",
      "100%|█████████████████████████████████████████| 38/38 [00:00<00:00, 7673.37it/s]\n"
     ]
    },
    {
     "name": "stdout",
     "output_type": "stream",
     "text": [
      "Z plane: 24\n"
     ]
    },
    {
     "name": "stderr",
     "output_type": "stream",
     "text": [
      "100%|█████████████████████████████████████████| 35/35 [00:00<00:00, 2440.41it/s]\n",
      "100%|█████████████████████████████████████████| 34/34 [00:00<00:00, 5812.84it/s]\n"
     ]
    },
    {
     "name": "stdout",
     "output_type": "stream",
     "text": [
      "Z plane: 25\n"
     ]
    },
    {
     "name": "stderr",
     "output_type": "stream",
     "text": [
      "100%|█████████████████████████████████████████| 32/32 [00:00<00:00, 2751.04it/s]\n",
      "100%|█████████████████████████████████████████| 32/32 [00:00<00:00, 7455.30it/s]\n"
     ]
    },
    {
     "name": "stdout",
     "output_type": "stream",
     "text": [
      "Z plane: 26\n"
     ]
    },
    {
     "name": "stderr",
     "output_type": "stream",
     "text": [
      "100%|█████████████████████████████████████████| 30/30 [00:00<00:00, 3154.88it/s]\n",
      "100%|█████████████████████████████████████████| 30/30 [00:00<00:00, 5503.37it/s]\n"
     ]
    },
    {
     "name": "stdout",
     "output_type": "stream",
     "text": [
      "Z plane: 27\n"
     ]
    },
    {
     "name": "stderr",
     "output_type": "stream",
     "text": [
      "100%|█████████████████████████████████████████| 30/30 [00:00<00:00, 2434.30it/s]\n",
      "100%|█████████████████████████████████████████| 30/30 [00:00<00:00, 4667.77it/s]\n"
     ]
    },
    {
     "name": "stdout",
     "output_type": "stream",
     "text": [
      "Z plane: 28\n"
     ]
    },
    {
     "name": "stderr",
     "output_type": "stream",
     "text": [
      "100%|█████████████████████████████████████████| 22/22 [00:00<00:00, 1869.95it/s]\n",
      "100%|█████████████████████████████████████████| 22/22 [00:00<00:00, 4729.37it/s]\n"
     ]
    },
    {
     "name": "stdout",
     "output_type": "stream",
     "text": [
      "Z plane: 29\n"
     ]
    },
    {
     "name": "stderr",
     "output_type": "stream",
     "text": [
      "100%|█████████████████████████████████████████| 15/15 [00:00<00:00, 1202.59it/s]\n",
      "100%|█████████████████████████████████████████| 15/15 [00:00<00:00, 2493.84it/s]\n"
     ]
    },
    {
     "name": "stdout",
     "output_type": "stream",
     "text": [
      "Z plane: 30\n"
     ]
    },
    {
     "name": "stderr",
     "output_type": "stream",
     "text": [
      "100%|█████████████████████████████████████████| 14/14 [00:00<00:00, 1288.80it/s]\n",
      "100%|█████████████████████████████████████████| 14/14 [00:00<00:00, 3003.59it/s]\n"
     ]
    },
    {
     "name": "stdout",
     "output_type": "stream",
     "text": [
      "Z plane: 31\n"
     ]
    },
    {
     "name": "stderr",
     "output_type": "stream",
     "text": [
      "100%|█████████████████████████████████████████| 13/13 [00:00<00:00, 2640.10it/s]\n",
      "100%|█████████████████████████████████████████| 13/13 [00:00<00:00, 2586.50it/s]\n"
     ]
    },
    {
     "name": "stdout",
     "output_type": "stream",
     "text": [
      "Time point: 51\n",
      "Z plane: 0\n"
     ]
    },
    {
     "name": "stderr",
     "output_type": "stream",
     "text": [
      "100%|███████████████████████████████████████████| 2/2 [00:00<00:00, 1930.63it/s]\n",
      "100%|████████████████████████████████████████████| 2/2 [00:00<00:00, 726.48it/s]\n"
     ]
    },
    {
     "name": "stdout",
     "output_type": "stream",
     "text": [
      "Z plane: 1\n"
     ]
    },
    {
     "name": "stderr",
     "output_type": "stream",
     "text": [
      "100%|███████████████████████████████████████████| 3/3 [00:00<00:00, 1312.77it/s]\n",
      "100%|███████████████████████████████████████████| 3/3 [00:00<00:00, 2187.95it/s]\n"
     ]
    },
    {
     "name": "stdout",
     "output_type": "stream",
     "text": [
      "Z plane: 2\n"
     ]
    },
    {
     "name": "stderr",
     "output_type": "stream",
     "text": [
      "100%|████████████████████████████████████████████| 3/3 [00:00<00:00, 922.23it/s]\n",
      "100%|███████████████████████████████████████████| 3/3 [00:00<00:00, 1392.84it/s]\n"
     ]
    },
    {
     "name": "stdout",
     "output_type": "stream",
     "text": [
      "Z plane: 3\n"
     ]
    },
    {
     "name": "stderr",
     "output_type": "stream",
     "text": [
      "100%|███████████████████████████████████████████| 3/3 [00:00<00:00, 1049.28it/s]\n",
      "100%|████████████████████████████████████████████| 3/3 [00:00<00:00, 712.27it/s]\n"
     ]
    },
    {
     "name": "stdout",
     "output_type": "stream",
     "text": [
      "Z plane: 4\n"
     ]
    },
    {
     "name": "stderr",
     "output_type": "stream",
     "text": [
      "100%|███████████████████████████████████████████| 3/3 [00:00<00:00, 1022.83it/s]\n",
      "100%|████████████████████████████████████████████| 3/3 [00:00<00:00, 756.05it/s]\n"
     ]
    },
    {
     "name": "stdout",
     "output_type": "stream",
     "text": [
      "Z plane: 5\n"
     ]
    },
    {
     "name": "stderr",
     "output_type": "stream",
     "text": [
      "100%|███████████████████████████████████████████| 2/2 [00:00<00:00, 1766.77it/s]\n",
      "100%|███████████████████████████████████████████| 2/2 [00:00<00:00, 1886.78it/s]\n"
     ]
    },
    {
     "name": "stdout",
     "output_type": "stream",
     "text": [
      "Z plane: 6\n"
     ]
    },
    {
     "name": "stderr",
     "output_type": "stream",
     "text": [
      "100%|████████████████████████████████████████████| 2/2 [00:00<00:00, 951.95it/s]\n",
      "100%|████████████████████████████████████████████| 2/2 [00:00<00:00, 514.26it/s]\n"
     ]
    },
    {
     "name": "stdout",
     "output_type": "stream",
     "text": [
      "Z plane: 7\n"
     ]
    },
    {
     "name": "stderr",
     "output_type": "stream",
     "text": [
      "100%|███████████████████████████████████████████| 6/6 [00:00<00:00, 1404.50it/s]\n",
      "100%|███████████████████████████████████████████| 6/6 [00:00<00:00, 1495.12it/s]\n"
     ]
    },
    {
     "name": "stdout",
     "output_type": "stream",
     "text": [
      "Z plane: 8\n"
     ]
    },
    {
     "name": "stderr",
     "output_type": "stream",
     "text": [
      "100%|███████████████████████████████████████████| 8/8 [00:00<00:00, 1047.53it/s]\n",
      "100%|███████████████████████████████████████████| 8/8 [00:00<00:00, 1841.63it/s]\n"
     ]
    },
    {
     "name": "stdout",
     "output_type": "stream",
     "text": [
      "Z plane: 9\n"
     ]
    },
    {
     "name": "stderr",
     "output_type": "stream",
     "text": [
      "100%|███████████████████████████████████████████| 9/9 [00:00<00:00, 1070.55it/s]\n",
      "100%|███████████████████████████████████████████| 9/9 [00:00<00:00, 2480.70it/s]\n"
     ]
    },
    {
     "name": "stdout",
     "output_type": "stream",
     "text": [
      "Z plane: 10\n"
     ]
    },
    {
     "name": "stderr",
     "output_type": "stream",
     "text": [
      "100%|█████████████████████████████████████████| 12/12 [00:00<00:00, 1731.81it/s]\n",
      "100%|█████████████████████████████████████████| 12/12 [00:00<00:00, 2435.95it/s]\n"
     ]
    },
    {
     "name": "stdout",
     "output_type": "stream",
     "text": [
      "Z plane: 11\n"
     ]
    },
    {
     "name": "stderr",
     "output_type": "stream",
     "text": [
      "100%|█████████████████████████████████████████| 14/14 [00:00<00:00, 1577.44it/s]\n",
      "100%|█████████████████████████████████████████| 14/14 [00:00<00:00, 2749.98it/s]\n"
     ]
    },
    {
     "name": "stdout",
     "output_type": "stream",
     "text": [
      "Z plane: 12\n"
     ]
    },
    {
     "name": "stderr",
     "output_type": "stream",
     "text": [
      "100%|█████████████████████████████████████████| 14/14 [00:00<00:00, 1348.25it/s]\n",
      "100%|█████████████████████████████████████████| 14/14 [00:00<00:00, 1737.39it/s]\n"
     ]
    },
    {
     "name": "stdout",
     "output_type": "stream",
     "text": [
      "Z plane: 13\n"
     ]
    },
    {
     "name": "stderr",
     "output_type": "stream",
     "text": [
      "100%|█████████████████████████████████████████| 17/17 [00:00<00:00, 1889.53it/s]\n",
      "100%|█████████████████████████████████████████| 17/17 [00:00<00:00, 3555.74it/s]\n"
     ]
    },
    {
     "name": "stdout",
     "output_type": "stream",
     "text": [
      "Z plane: 14\n"
     ]
    },
    {
     "name": "stderr",
     "output_type": "stream",
     "text": [
      "100%|█████████████████████████████████████████| 18/18 [00:00<00:00, 2026.40it/s]\n",
      "100%|█████████████████████████████████████████| 18/18 [00:00<00:00, 2788.56it/s]\n"
     ]
    },
    {
     "name": "stdout",
     "output_type": "stream",
     "text": [
      "Z plane: 15\n"
     ]
    },
    {
     "name": "stderr",
     "output_type": "stream",
     "text": [
      "100%|█████████████████████████████████████████| 19/19 [00:00<00:00, 2857.98it/s]\n",
      "100%|█████████████████████████████████████████| 19/19 [00:00<00:00, 7660.46it/s]\n"
     ]
    },
    {
     "name": "stdout",
     "output_type": "stream",
     "text": [
      "Z plane: 16\n"
     ]
    },
    {
     "name": "stderr",
     "output_type": "stream",
     "text": [
      "100%|█████████████████████████████████████████| 23/23 [00:00<00:00, 2209.45it/s]\n",
      "100%|█████████████████████████████████████████| 23/23 [00:00<00:00, 3327.09it/s]\n"
     ]
    },
    {
     "name": "stdout",
     "output_type": "stream",
     "text": [
      "Z plane: 17\n"
     ]
    },
    {
     "name": "stderr",
     "output_type": "stream",
     "text": [
      "100%|█████████████████████████████████████████| 27/27 [00:00<00:00, 2053.57it/s]\n",
      "100%|█████████████████████████████████████████| 27/27 [00:00<00:00, 5070.35it/s]\n"
     ]
    },
    {
     "name": "stdout",
     "output_type": "stream",
     "text": [
      "Z plane: 18\n"
     ]
    },
    {
     "name": "stderr",
     "output_type": "stream",
     "text": [
      "100%|█████████████████████████████████████████| 30/30 [00:00<00:00, 2745.98it/s]\n",
      "100%|█████████████████████████████████████████| 30/30 [00:00<00:00, 5223.73it/s]\n"
     ]
    },
    {
     "name": "stdout",
     "output_type": "stream",
     "text": [
      "Z plane: 19\n"
     ]
    },
    {
     "name": "stderr",
     "output_type": "stream",
     "text": [
      "100%|█████████████████████████████████████████| 32/32 [00:00<00:00, 2797.19it/s]\n",
      "100%|█████████████████████████████████████████| 32/32 [00:00<00:00, 8981.38it/s]\n"
     ]
    },
    {
     "name": "stdout",
     "output_type": "stream",
     "text": [
      "Z plane: 20\n"
     ]
    },
    {
     "name": "stderr",
     "output_type": "stream",
     "text": [
      "100%|█████████████████████████████████████████| 34/34 [00:00<00:00, 2817.14it/s]\n",
      "100%|█████████████████████████████████████████| 33/33 [00:00<00:00, 8116.58it/s]\n"
     ]
    },
    {
     "name": "stdout",
     "output_type": "stream",
     "text": [
      "Z plane: 21\n"
     ]
    },
    {
     "name": "stderr",
     "output_type": "stream",
     "text": [
      "100%|█████████████████████████████████████████| 38/38 [00:00<00:00, 2868.52it/s]\n",
      "100%|█████████████████████████████████████████| 34/34 [00:00<00:00, 5150.47it/s]\n"
     ]
    },
    {
     "name": "stdout",
     "output_type": "stream",
     "text": [
      "Z plane: 22\n"
     ]
    },
    {
     "name": "stderr",
     "output_type": "stream",
     "text": [
      "100%|█████████████████████████████████████████| 38/38 [00:00<00:00, 4441.39it/s]\n",
      "100%|█████████████████████████████████████████| 37/37 [00:00<00:00, 5891.77it/s]\n"
     ]
    },
    {
     "name": "stdout",
     "output_type": "stream",
     "text": [
      "Z plane: 23\n"
     ]
    },
    {
     "name": "stderr",
     "output_type": "stream",
     "text": [
      "100%|█████████████████████████████████████████| 36/36 [00:00<00:00, 3515.35it/s]\n",
      "100%|█████████████████████████████████████████| 35/35 [00:00<00:00, 6892.37it/s]\n"
     ]
    },
    {
     "name": "stdout",
     "output_type": "stream",
     "text": [
      "Z plane: 24\n"
     ]
    },
    {
     "name": "stderr",
     "output_type": "stream",
     "text": [
      "100%|█████████████████████████████████████████| 37/37 [00:00<00:00, 2865.81it/s]\n",
      "100%|█████████████████████████████████████████| 37/37 [00:00<00:00, 5192.36it/s]\n"
     ]
    },
    {
     "name": "stdout",
     "output_type": "stream",
     "text": [
      "Z plane: 25\n"
     ]
    },
    {
     "name": "stderr",
     "output_type": "stream",
     "text": [
      "100%|█████████████████████████████████████████| 34/34 [00:00<00:00, 2573.61it/s]\n",
      "100%|█████████████████████████████████████████| 34/34 [00:00<00:00, 6623.61it/s]\n"
     ]
    },
    {
     "name": "stdout",
     "output_type": "stream",
     "text": [
      "Z plane: 26\n"
     ]
    },
    {
     "name": "stderr",
     "output_type": "stream",
     "text": [
      "100%|█████████████████████████████████████████| 35/35 [00:00<00:00, 2706.90it/s]\n",
      "100%|█████████████████████████████████████████| 34/34 [00:00<00:00, 5908.94it/s]\n"
     ]
    },
    {
     "name": "stdout",
     "output_type": "stream",
     "text": [
      "Z plane: 27\n"
     ]
    },
    {
     "name": "stderr",
     "output_type": "stream",
     "text": [
      "100%|█████████████████████████████████████████| 29/29 [00:00<00:00, 2639.01it/s]\n",
      "100%|█████████████████████████████████████████| 29/29 [00:00<00:00, 5751.60it/s]\n"
     ]
    },
    {
     "name": "stdout",
     "output_type": "stream",
     "text": [
      "Z plane: 28\n"
     ]
    },
    {
     "name": "stderr",
     "output_type": "stream",
     "text": [
      "100%|█████████████████████████████████████████| 23/23 [00:00<00:00, 2400.56it/s]\n",
      "100%|█████████████████████████████████████████| 23/23 [00:00<00:00, 4217.04it/s]\n"
     ]
    },
    {
     "name": "stdout",
     "output_type": "stream",
     "text": [
      "Z plane: 29\n"
     ]
    },
    {
     "name": "stderr",
     "output_type": "stream",
     "text": [
      "100%|█████████████████████████████████████████| 18/18 [00:00<00:00, 2982.68it/s]\n",
      "100%|█████████████████████████████████████████| 18/18 [00:00<00:00, 3291.95it/s]\n"
     ]
    },
    {
     "name": "stdout",
     "output_type": "stream",
     "text": [
      "Z plane: 30\n"
     ]
    },
    {
     "name": "stderr",
     "output_type": "stream",
     "text": [
      "100%|█████████████████████████████████████████| 16/16 [00:00<00:00, 1631.35it/s]\n",
      "100%|█████████████████████████████████████████| 16/16 [00:00<00:00, 1976.29it/s]\n"
     ]
    },
    {
     "name": "stdout",
     "output_type": "stream",
     "text": [
      "Z plane: 31\n"
     ]
    },
    {
     "name": "stderr",
     "output_type": "stream",
     "text": [
      "100%|█████████████████████████████████████████| 13/13 [00:00<00:00, 3138.55it/s]\n",
      "100%|█████████████████████████████████████████| 13/13 [00:00<00:00, 2529.74it/s]\n"
     ]
    },
    {
     "name": "stdout",
     "output_type": "stream",
     "text": [
      "Time point: 52\n",
      "Z plane: 0\n"
     ]
    },
    {
     "name": "stderr",
     "output_type": "stream",
     "text": [
      "100%|███████████████████████████████████████████| 3/3 [00:00<00:00, 1067.71it/s]\n",
      "100%|████████████████████████████████████████████| 3/3 [00:00<00:00, 749.25it/s]\n"
     ]
    },
    {
     "name": "stdout",
     "output_type": "stream",
     "text": [
      "Z plane: 1\n"
     ]
    },
    {
     "name": "stderr",
     "output_type": "stream",
     "text": [
      "100%|███████████████████████████████████████████| 3/3 [00:00<00:00, 1473.58it/s]\n",
      "100%|███████████████████████████████████████████| 3/3 [00:00<00:00, 1252.65it/s]\n"
     ]
    },
    {
     "name": "stdout",
     "output_type": "stream",
     "text": [
      "Z plane: 2\n"
     ]
    },
    {
     "name": "stderr",
     "output_type": "stream",
     "text": [
      "100%|███████████████████████████████████████████| 4/4 [00:00<00:00, 1051.27it/s]\n",
      "100%|███████████████████████████████████████████| 4/4 [00:00<00:00, 1033.27it/s]\n"
     ]
    },
    {
     "name": "stdout",
     "output_type": "stream",
     "text": [
      "Z plane: 3\n"
     ]
    },
    {
     "name": "stderr",
     "output_type": "stream",
     "text": [
      "100%|███████████████████████████████████████████| 3/3 [00:00<00:00, 1019.77it/s]\n",
      "100%|████████████████████████████████████████████| 3/3 [00:00<00:00, 793.87it/s]\n"
     ]
    },
    {
     "name": "stdout",
     "output_type": "stream",
     "text": [
      "Z plane: 4\n"
     ]
    },
    {
     "name": "stderr",
     "output_type": "stream",
     "text": [
      "100%|███████████████████████████████████████████| 2/2 [00:00<00:00, 1315.03it/s]\n",
      "100%|████████████████████████████████████████████| 2/2 [00:00<00:00, 590.12it/s]\n"
     ]
    },
    {
     "name": "stdout",
     "output_type": "stream",
     "text": [
      "Z plane: 5\n"
     ]
    },
    {
     "name": "stderr",
     "output_type": "stream",
     "text": [
      "100%|███████████████████████████████████████████| 2/2 [00:00<00:00, 1082.26it/s]\n",
      "100%|████████████████████████████████████████████| 2/2 [00:00<00:00, 739.34it/s]\n"
     ]
    },
    {
     "name": "stdout",
     "output_type": "stream",
     "text": [
      "Z plane: 6\n"
     ]
    },
    {
     "name": "stderr",
     "output_type": "stream",
     "text": [
      "100%|████████████████████████████████████████████| 2/2 [00:00<00:00, 877.19it/s]\n",
      "100%|████████████████████████████████████████████| 2/2 [00:00<00:00, 832.29it/s]\n"
     ]
    },
    {
     "name": "stdout",
     "output_type": "stream",
     "text": [
      "Z plane: 7\n"
     ]
    },
    {
     "name": "stderr",
     "output_type": "stream",
     "text": [
      "100%|███████████████████████████████████████████| 5/5 [00:00<00:00, 1395.50it/s]\n",
      "100%|███████████████████████████████████████████| 5/5 [00:00<00:00, 1213.56it/s]\n"
     ]
    },
    {
     "name": "stdout",
     "output_type": "stream",
     "text": [
      "Z plane: 8\n"
     ]
    },
    {
     "name": "stderr",
     "output_type": "stream",
     "text": [
      "100%|████████████████████████████████████████████| 7/7 [00:00<00:00, 776.74it/s]\n",
      "100%|███████████████████████████████████████████| 7/7 [00:00<00:00, 2016.77it/s]\n"
     ]
    },
    {
     "name": "stdout",
     "output_type": "stream",
     "text": [
      "Z plane: 9\n"
     ]
    },
    {
     "name": "stderr",
     "output_type": "stream",
     "text": [
      "100%|████████████████████████████████████████████| 8/8 [00:00<00:00, 738.21it/s]\n",
      "100%|███████████████████████████████████████████| 8/8 [00:00<00:00, 1418.73it/s]\n"
     ]
    },
    {
     "name": "stdout",
     "output_type": "stream",
     "text": [
      "Z plane: 10\n"
     ]
    },
    {
     "name": "stderr",
     "output_type": "stream",
     "text": [
      "100%|█████████████████████████████████████████| 12/12 [00:00<00:00, 1798.78it/s]\n",
      "100%|█████████████████████████████████████████| 12/12 [00:00<00:00, 1866.28it/s]\n"
     ]
    },
    {
     "name": "stdout",
     "output_type": "stream",
     "text": [
      "Z plane: 11\n"
     ]
    },
    {
     "name": "stderr",
     "output_type": "stream",
     "text": [
      "100%|█████████████████████████████████████████| 12/12 [00:00<00:00, 1133.44it/s]\n",
      "100%|█████████████████████████████████████████| 12/12 [00:00<00:00, 1538.86it/s]\n"
     ]
    },
    {
     "name": "stdout",
     "output_type": "stream",
     "text": [
      "Z plane: 12\n"
     ]
    },
    {
     "name": "stderr",
     "output_type": "stream",
     "text": [
      "100%|█████████████████████████████████████████| 15/15 [00:00<00:00, 1311.18it/s]\n",
      "100%|█████████████████████████████████████████| 15/15 [00:00<00:00, 1752.54it/s]\n"
     ]
    },
    {
     "name": "stdout",
     "output_type": "stream",
     "text": [
      "Z plane: 13\n"
     ]
    },
    {
     "name": "stderr",
     "output_type": "stream",
     "text": [
      "100%|█████████████████████████████████████████| 15/15 [00:00<00:00, 2046.67it/s]\n",
      "100%|█████████████████████████████████████████| 15/15 [00:00<00:00, 3473.06it/s]\n"
     ]
    },
    {
     "name": "stdout",
     "output_type": "stream",
     "text": [
      "Z plane: 14\n"
     ]
    },
    {
     "name": "stderr",
     "output_type": "stream",
     "text": [
      "100%|█████████████████████████████████████████| 16/16 [00:00<00:00, 1579.33it/s]\n",
      "100%|█████████████████████████████████████████| 16/16 [00:00<00:00, 7210.58it/s]\n"
     ]
    },
    {
     "name": "stdout",
     "output_type": "stream",
     "text": [
      "Z plane: 15\n"
     ]
    },
    {
     "name": "stderr",
     "output_type": "stream",
     "text": [
      "100%|█████████████████████████████████████████| 18/18 [00:00<00:00, 1577.17it/s]\n",
      "100%|█████████████████████████████████████████| 18/18 [00:00<00:00, 3440.93it/s]\n"
     ]
    },
    {
     "name": "stdout",
     "output_type": "stream",
     "text": [
      "Z plane: 16\n"
     ]
    },
    {
     "name": "stderr",
     "output_type": "stream",
     "text": [
      "100%|█████████████████████████████████████████| 21/21 [00:00<00:00, 1483.91it/s]\n",
      "100%|█████████████████████████████████████████| 21/21 [00:00<00:00, 3819.45it/s]\n"
     ]
    },
    {
     "name": "stdout",
     "output_type": "stream",
     "text": [
      "Z plane: 17\n"
     ]
    },
    {
     "name": "stderr",
     "output_type": "stream",
     "text": [
      "100%|█████████████████████████████████████████| 27/27 [00:00<00:00, 2110.91it/s]\n",
      "100%|█████████████████████████████████████████| 26/26 [00:00<00:00, 4311.72it/s]\n"
     ]
    },
    {
     "name": "stdout",
     "output_type": "stream",
     "text": [
      "Z plane: 18\n"
     ]
    },
    {
     "name": "stderr",
     "output_type": "stream",
     "text": [
      "100%|█████████████████████████████████████████| 29/29 [00:00<00:00, 3757.52it/s]\n",
      "100%|█████████████████████████████████████████| 28/28 [00:00<00:00, 7648.36it/s]\n"
     ]
    },
    {
     "name": "stdout",
     "output_type": "stream",
     "text": [
      "Z plane: 19\n"
     ]
    },
    {
     "name": "stderr",
     "output_type": "stream",
     "text": [
      "100%|█████████████████████████████████████████| 32/32 [00:00<00:00, 2255.72it/s]\n",
      "100%|█████████████████████████████████████████| 32/32 [00:00<00:00, 5397.21it/s]\n"
     ]
    },
    {
     "name": "stdout",
     "output_type": "stream",
     "text": [
      "Z plane: 20\n"
     ]
    },
    {
     "name": "stderr",
     "output_type": "stream",
     "text": [
      "100%|█████████████████████████████████████████| 36/36 [00:00<00:00, 2768.62it/s]\n",
      "100%|█████████████████████████████████████████| 36/36 [00:00<00:00, 5855.47it/s]\n"
     ]
    },
    {
     "name": "stdout",
     "output_type": "stream",
     "text": [
      "Z plane: 21\n"
     ]
    },
    {
     "name": "stderr",
     "output_type": "stream",
     "text": [
      "100%|█████████████████████████████████████████| 32/32 [00:00<00:00, 2738.52it/s]\n",
      "100%|█████████████████████████████████████████| 32/32 [00:00<00:00, 4871.26it/s]\n"
     ]
    },
    {
     "name": "stdout",
     "output_type": "stream",
     "text": [
      "Z plane: 22\n"
     ]
    },
    {
     "name": "stderr",
     "output_type": "stream",
     "text": [
      "100%|█████████████████████████████████████████| 32/32 [00:00<00:00, 2785.00it/s]\n",
      "100%|█████████████████████████████████████████| 32/32 [00:00<00:00, 4298.27it/s]\n"
     ]
    },
    {
     "name": "stdout",
     "output_type": "stream",
     "text": [
      "Z plane: 23\n"
     ]
    },
    {
     "name": "stderr",
     "output_type": "stream",
     "text": [
      "100%|█████████████████████████████████████████| 35/35 [00:00<00:00, 4512.64it/s]\n",
      "100%|█████████████████████████████████████████| 33/33 [00:00<00:00, 3778.76it/s]\n"
     ]
    },
    {
     "name": "stdout",
     "output_type": "stream",
     "text": [
      "Z plane: 24\n"
     ]
    },
    {
     "name": "stderr",
     "output_type": "stream",
     "text": [
      "100%|█████████████████████████████████████████| 37/37 [00:00<00:00, 2798.72it/s]\n",
      "100%|█████████████████████████████████████████| 36/36 [00:00<00:00, 6508.68it/s]\n"
     ]
    },
    {
     "name": "stdout",
     "output_type": "stream",
     "text": [
      "Z plane: 25\n"
     ]
    },
    {
     "name": "stderr",
     "output_type": "stream",
     "text": [
      "100%|█████████████████████████████████████████| 32/32 [00:00<00:00, 2484.64it/s]\n",
      "100%|█████████████████████████████████████████| 32/32 [00:00<00:00, 3958.87it/s]\n"
     ]
    },
    {
     "name": "stdout",
     "output_type": "stream",
     "text": [
      "Z plane: 26\n"
     ]
    },
    {
     "name": "stderr",
     "output_type": "stream",
     "text": [
      "100%|█████████████████████████████████████████| 32/32 [00:00<00:00, 3117.36it/s]\n",
      "100%|█████████████████████████████████████████| 31/31 [00:00<00:00, 5302.75it/s]\n"
     ]
    },
    {
     "name": "stdout",
     "output_type": "stream",
     "text": [
      "Z plane: 27\n"
     ]
    },
    {
     "name": "stderr",
     "output_type": "stream",
     "text": [
      "100%|█████████████████████████████████████████| 30/30 [00:00<00:00, 2565.22it/s]\n",
      "100%|█████████████████████████████████████████| 29/29 [00:00<00:00, 4728.64it/s]\n"
     ]
    },
    {
     "name": "stdout",
     "output_type": "stream",
     "text": [
      "Z plane: 28\n"
     ]
    },
    {
     "name": "stderr",
     "output_type": "stream",
     "text": [
      "100%|█████████████████████████████████████████| 27/27 [00:00<00:00, 2418.09it/s]\n",
      "100%|█████████████████████████████████████████| 27/27 [00:00<00:00, 5082.86it/s]\n"
     ]
    },
    {
     "name": "stdout",
     "output_type": "stream",
     "text": [
      "Z plane: 29\n"
     ]
    },
    {
     "name": "stderr",
     "output_type": "stream",
     "text": [
      "100%|█████████████████████████████████████████| 21/21 [00:00<00:00, 3858.10it/s]\n",
      "100%|█████████████████████████████████████████| 21/21 [00:00<00:00, 6048.23it/s]\n"
     ]
    },
    {
     "name": "stdout",
     "output_type": "stream",
     "text": [
      "Z plane: 30\n"
     ]
    },
    {
     "name": "stderr",
     "output_type": "stream",
     "text": [
      "100%|█████████████████████████████████████████| 17/17 [00:00<00:00, 1753.82it/s]\n",
      "100%|█████████████████████████████████████████| 17/17 [00:00<00:00, 2857.27it/s]\n"
     ]
    },
    {
     "name": "stdout",
     "output_type": "stream",
     "text": [
      "Z plane: 31\n"
     ]
    },
    {
     "name": "stderr",
     "output_type": "stream",
     "text": [
      "100%|█████████████████████████████████████████| 16/16 [00:00<00:00, 1825.89it/s]\n",
      "100%|█████████████████████████████████████████| 16/16 [00:00<00:00, 3135.93it/s]\n"
     ]
    },
    {
     "name": "stdout",
     "output_type": "stream",
     "text": [
      "Time point: 53\n",
      "Z plane: 0\n"
     ]
    },
    {
     "name": "stderr",
     "output_type": "stream",
     "text": [
      "100%|███████████████████████████████████████████| 2/2 [00:00<00:00, 1534.13it/s]\n",
      "100%|████████████████████████████████████████████| 2/2 [00:00<00:00, 971.35it/s]\n"
     ]
    },
    {
     "name": "stdout",
     "output_type": "stream",
     "text": [
      "Z plane: 1\n"
     ]
    },
    {
     "name": "stderr",
     "output_type": "stream",
     "text": [
      "100%|████████████████████████████████████████████| 3/3 [00:00<00:00, 884.44it/s]\n",
      "100%|████████████████████████████████████████████| 3/3 [00:00<00:00, 936.65it/s]\n"
     ]
    },
    {
     "name": "stdout",
     "output_type": "stream",
     "text": [
      "Z plane: 2\n"
     ]
    },
    {
     "name": "stderr",
     "output_type": "stream",
     "text": [
      "100%|███████████████████████████████████████████| 3/3 [00:00<00:00, 1000.63it/s]\n",
      "100%|████████████████████████████████████████████| 3/3 [00:00<00:00, 859.31it/s]\n"
     ]
    },
    {
     "name": "stdout",
     "output_type": "stream",
     "text": [
      "Z plane: 3\n"
     ]
    },
    {
     "name": "stderr",
     "output_type": "stream",
     "text": [
      "100%|███████████████████████████████████████████| 3/3 [00:00<00:00, 1191.90it/s]\n",
      "100%|████████████████████████████████████████████| 3/3 [00:00<00:00, 612.34it/s]\n"
     ]
    },
    {
     "name": "stdout",
     "output_type": "stream",
     "text": [
      "Z plane: 4\n"
     ]
    },
    {
     "name": "stderr",
     "output_type": "stream",
     "text": [
      "100%|████████████████████████████████████████████| 3/3 [00:00<00:00, 788.70it/s]\n",
      "100%|████████████████████████████████████████████| 3/3 [00:00<00:00, 741.83it/s]\n"
     ]
    },
    {
     "name": "stdout",
     "output_type": "stream",
     "text": [
      "Z plane: 5\n"
     ]
    },
    {
     "name": "stderr",
     "output_type": "stream",
     "text": [
      "100%|████████████████████████████████████████████| 3/3 [00:00<00:00, 906.55it/s]\n",
      "100%|████████████████████████████████████████████| 3/3 [00:00<00:00, 663.73it/s]\n"
     ]
    },
    {
     "name": "stdout",
     "output_type": "stream",
     "text": [
      "Z plane: 6\n"
     ]
    },
    {
     "name": "stderr",
     "output_type": "stream",
     "text": [
      "100%|████████████████████████████████████████████| 2/2 [00:00<00:00, 677.76it/s]\n",
      "100%|████████████████████████████████████████████| 2/2 [00:00<00:00, 691.79it/s]\n"
     ]
    },
    {
     "name": "stdout",
     "output_type": "stream",
     "text": [
      "Z plane: 7\n"
     ]
    },
    {
     "name": "stderr",
     "output_type": "stream",
     "text": [
      "100%|███████████████████████████████████████████| 5/5 [00:00<00:00, 1051.94it/s]\n",
      "100%|███████████████████████████████████████████| 5/5 [00:00<00:00, 1211.88it/s]\n"
     ]
    },
    {
     "name": "stdout",
     "output_type": "stream",
     "text": [
      "Z plane: 8\n"
     ]
    },
    {
     "name": "stderr",
     "output_type": "stream",
     "text": [
      "100%|███████████████████████████████████████████| 8/8 [00:00<00:00, 1206.21it/s]\n",
      "100%|███████████████████████████████████████████| 8/8 [00:00<00:00, 1526.73it/s]\n"
     ]
    },
    {
     "name": "stdout",
     "output_type": "stream",
     "text": [
      "Z plane: 9\n"
     ]
    },
    {
     "name": "stderr",
     "output_type": "stream",
     "text": [
      "100%|███████████████████████████████████████████| 9/9 [00:00<00:00, 1154.29it/s]\n",
      "100%|███████████████████████████████████████████| 9/9 [00:00<00:00, 1935.04it/s]\n"
     ]
    },
    {
     "name": "stdout",
     "output_type": "stream",
     "text": [
      "Z plane: 10\n"
     ]
    },
    {
     "name": "stderr",
     "output_type": "stream",
     "text": [
      "100%|█████████████████████████████████████████| 12/12 [00:00<00:00, 1567.23it/s]\n",
      "100%|█████████████████████████████████████████| 12/12 [00:00<00:00, 2527.45it/s]\n"
     ]
    },
    {
     "name": "stdout",
     "output_type": "stream",
     "text": [
      "Z plane: 11\n"
     ]
    },
    {
     "name": "stderr",
     "output_type": "stream",
     "text": [
      "100%|█████████████████████████████████████████| 13/13 [00:00<00:00, 1697.78it/s]\n",
      "100%|█████████████████████████████████████████| 13/13 [00:00<00:00, 2395.06it/s]\n"
     ]
    },
    {
     "name": "stdout",
     "output_type": "stream",
     "text": [
      "Z plane: 12\n"
     ]
    },
    {
     "name": "stderr",
     "output_type": "stream",
     "text": [
      "100%|█████████████████████████████████████████| 15/15 [00:00<00:00, 2540.57it/s]\n",
      "100%|█████████████████████████████████████████| 15/15 [00:00<00:00, 3963.12it/s]\n"
     ]
    },
    {
     "name": "stdout",
     "output_type": "stream",
     "text": [
      "Z plane: 13\n"
     ]
    },
    {
     "name": "stderr",
     "output_type": "stream",
     "text": [
      "100%|█████████████████████████████████████████| 15/15 [00:00<00:00, 1867.40it/s]\n",
      "100%|█████████████████████████████████████████| 15/15 [00:00<00:00, 1729.90it/s]\n"
     ]
    },
    {
     "name": "stdout",
     "output_type": "stream",
     "text": [
      "Z plane: 14\n"
     ]
    },
    {
     "name": "stderr",
     "output_type": "stream",
     "text": [
      "100%|█████████████████████████████████████████| 15/15 [00:00<00:00, 1574.16it/s]\n",
      "100%|█████████████████████████████████████████| 15/15 [00:00<00:00, 3332.69it/s]\n"
     ]
    },
    {
     "name": "stdout",
     "output_type": "stream",
     "text": [
      "Z plane: 15\n"
     ]
    },
    {
     "name": "stderr",
     "output_type": "stream",
     "text": [
      "100%|█████████████████████████████████████████| 18/18 [00:00<00:00, 2066.89it/s]\n",
      "100%|█████████████████████████████████████████| 18/18 [00:00<00:00, 2532.11it/s]\n"
     ]
    },
    {
     "name": "stdout",
     "output_type": "stream",
     "text": [
      "Z plane: 16\n"
     ]
    },
    {
     "name": "stderr",
     "output_type": "stream",
     "text": [
      "100%|█████████████████████████████████████████| 22/22 [00:00<00:00, 2053.74it/s]\n",
      "100%|█████████████████████████████████████████| 22/22 [00:00<00:00, 2904.64it/s]\n"
     ]
    },
    {
     "name": "stdout",
     "output_type": "stream",
     "text": [
      "Z plane: 17\n"
     ]
    },
    {
     "name": "stderr",
     "output_type": "stream",
     "text": [
      "100%|█████████████████████████████████████████| 26/26 [00:00<00:00, 2856.86it/s]\n",
      "100%|█████████████████████████████████████████| 25/25 [00:00<00:00, 3652.94it/s]\n"
     ]
    },
    {
     "name": "stdout",
     "output_type": "stream",
     "text": [
      "Z plane: 18\n"
     ]
    },
    {
     "name": "stderr",
     "output_type": "stream",
     "text": [
      "100%|█████████████████████████████████████████| 27/27 [00:00<00:00, 2294.20it/s]\n",
      "100%|█████████████████████████████████████████| 27/27 [00:00<00:00, 4881.72it/s]\n"
     ]
    },
    {
     "name": "stdout",
     "output_type": "stream",
     "text": [
      "Z plane: 19\n"
     ]
    },
    {
     "name": "stderr",
     "output_type": "stream",
     "text": [
      "100%|█████████████████████████████████████████| 31/31 [00:00<00:00, 3508.36it/s]\n",
      "100%|█████████████████████████████████████████| 30/30 [00:00<00:00, 5510.60it/s]\n"
     ]
    },
    {
     "name": "stdout",
     "output_type": "stream",
     "text": [
      "Z plane: 20\n"
     ]
    },
    {
     "name": "stderr",
     "output_type": "stream",
     "text": [
      "100%|█████████████████████████████████████████| 31/31 [00:00<00:00, 2765.69it/s]\n",
      "100%|█████████████████████████████████████████| 31/31 [00:00<00:00, 6407.62it/s]\n"
     ]
    },
    {
     "name": "stdout",
     "output_type": "stream",
     "text": [
      "Z plane: 21\n"
     ]
    },
    {
     "name": "stderr",
     "output_type": "stream",
     "text": [
      "100%|█████████████████████████████████████████| 32/32 [00:00<00:00, 3170.60it/s]\n",
      "100%|█████████████████████████████████████████| 31/31 [00:00<00:00, 5509.93it/s]\n"
     ]
    },
    {
     "name": "stdout",
     "output_type": "stream",
     "text": [
      "Z plane: 22\n"
     ]
    },
    {
     "name": "stderr",
     "output_type": "stream",
     "text": [
      "100%|█████████████████████████████████████████| 35/35 [00:00<00:00, 4495.37it/s]\n",
      "100%|█████████████████████████████████████████| 35/35 [00:00<00:00, 3769.14it/s]\n"
     ]
    },
    {
     "name": "stdout",
     "output_type": "stream",
     "text": [
      "Z plane: 23\n"
     ]
    },
    {
     "name": "stderr",
     "output_type": "stream",
     "text": [
      "100%|█████████████████████████████████████████| 32/32 [00:00<00:00, 3179.99it/s]\n",
      "100%|█████████████████████████████████████████| 32/32 [00:00<00:00, 5531.33it/s]\n"
     ]
    },
    {
     "name": "stdout",
     "output_type": "stream",
     "text": [
      "Z plane: 24\n"
     ]
    },
    {
     "name": "stderr",
     "output_type": "stream",
     "text": [
      "100%|█████████████████████████████████████████| 33/33 [00:00<00:00, 2453.51it/s]\n",
      "100%|█████████████████████████████████████████| 33/33 [00:00<00:00, 5765.01it/s]\n"
     ]
    },
    {
     "name": "stdout",
     "output_type": "stream",
     "text": [
      "Z plane: 25\n"
     ]
    },
    {
     "name": "stderr",
     "output_type": "stream",
     "text": [
      "100%|█████████████████████████████████████████| 27/27 [00:00<00:00, 2348.68it/s]\n",
      "100%|█████████████████████████████████████████| 27/27 [00:00<00:00, 6416.22it/s]\n"
     ]
    },
    {
     "name": "stdout",
     "output_type": "stream",
     "text": [
      "Z plane: 26\n"
     ]
    },
    {
     "name": "stderr",
     "output_type": "stream",
     "text": [
      "100%|█████████████████████████████████████████| 29/29 [00:00<00:00, 2668.13it/s]\n",
      "100%|█████████████████████████████████████████| 29/29 [00:00<00:00, 5941.52it/s]\n"
     ]
    },
    {
     "name": "stdout",
     "output_type": "stream",
     "text": [
      "Z plane: 27\n"
     ]
    },
    {
     "name": "stderr",
     "output_type": "stream",
     "text": [
      "100%|█████████████████████████████████████████| 25/25 [00:00<00:00, 2127.88it/s]\n",
      "100%|█████████████████████████████████████████| 25/25 [00:00<00:00, 4463.74it/s]\n"
     ]
    },
    {
     "name": "stdout",
     "output_type": "stream",
     "text": [
      "Z plane: 28\n"
     ]
    },
    {
     "name": "stderr",
     "output_type": "stream",
     "text": [
      "100%|█████████████████████████████████████████| 23/23 [00:00<00:00, 2653.45it/s]\n",
      "100%|█████████████████████████████████████████| 23/23 [00:00<00:00, 4598.14it/s]\n"
     ]
    },
    {
     "name": "stdout",
     "output_type": "stream",
     "text": [
      "Z plane: 29\n"
     ]
    },
    {
     "name": "stderr",
     "output_type": "stream",
     "text": [
      "100%|█████████████████████████████████████████| 20/20 [00:00<00:00, 2313.46it/s]\n",
      "100%|█████████████████████████████████████████| 20/20 [00:00<00:00, 4581.94it/s]\n"
     ]
    },
    {
     "name": "stdout",
     "output_type": "stream",
     "text": [
      "Z plane: 30\n"
     ]
    },
    {
     "name": "stderr",
     "output_type": "stream",
     "text": [
      "100%|█████████████████████████████████████████| 18/18 [00:00<00:00, 2102.35it/s]\n",
      "100%|█████████████████████████████████████████| 18/18 [00:00<00:00, 3202.30it/s]\n"
     ]
    },
    {
     "name": "stdout",
     "output_type": "stream",
     "text": [
      "Z plane: 31\n"
     ]
    },
    {
     "name": "stderr",
     "output_type": "stream",
     "text": [
      "100%|█████████████████████████████████████████| 15/15 [00:00<00:00, 1716.82it/s]\n",
      "100%|█████████████████████████████████████████| 15/15 [00:00<00:00, 1721.38it/s]\n"
     ]
    },
    {
     "name": "stdout",
     "output_type": "stream",
     "text": [
      "Time point: 54\n",
      "Z plane: 0\n"
     ]
    },
    {
     "name": "stderr",
     "output_type": "stream",
     "text": [
      "100%|████████████████████████████████████████████| 2/2 [00:00<00:00, 750.79it/s]\n",
      "100%|████████████████████████████████████████████| 2/2 [00:00<00:00, 444.83it/s]\n"
     ]
    },
    {
     "name": "stdout",
     "output_type": "stream",
     "text": [
      "Z plane: 1\n"
     ]
    },
    {
     "name": "stderr",
     "output_type": "stream",
     "text": [
      "100%|███████████████████████████████████████████| 2/2 [00:00<00:00, 1349.52it/s]\n",
      "100%|████████████████████████████████████████████| 2/2 [00:00<00:00, 679.85it/s]\n"
     ]
    },
    {
     "name": "stdout",
     "output_type": "stream",
     "text": [
      "Z plane: 2\n"
     ]
    },
    {
     "name": "stderr",
     "output_type": "stream",
     "text": [
      "100%|████████████████████████████████████████████| 2/2 [00:00<00:00, 856.42it/s]\n",
      "100%|████████████████████████████████████████████| 2/2 [00:00<00:00, 780.63it/s]\n"
     ]
    },
    {
     "name": "stdout",
     "output_type": "stream",
     "text": [
      "Z plane: 3\n"
     ]
    },
    {
     "name": "stderr",
     "output_type": "stream",
     "text": [
      "100%|███████████████████████████████████████████| 4/4 [00:00<00:00, 1511.19it/s]\n",
      "100%|████████████████████████████████████████████| 4/4 [00:00<00:00, 902.15it/s]\n"
     ]
    },
    {
     "name": "stdout",
     "output_type": "stream",
     "text": [
      "Z plane: 4\n"
     ]
    },
    {
     "name": "stderr",
     "output_type": "stream",
     "text": [
      "100%|███████████████████████████████████████████| 2/2 [00:00<00:00, 1155.61it/s]\n",
      "100%|████████████████████████████████████████████| 2/2 [00:00<00:00, 886.18it/s]\n"
     ]
    },
    {
     "name": "stdout",
     "output_type": "stream",
     "text": [
      "Z plane: 5\n"
     ]
    },
    {
     "name": "stderr",
     "output_type": "stream",
     "text": [
      "100%|████████████████████████████████████████████| 2/2 [00:00<00:00, 953.36it/s]\n",
      "100%|████████████████████████████████████████████| 2/2 [00:00<00:00, 639.81it/s]\n"
     ]
    },
    {
     "name": "stdout",
     "output_type": "stream",
     "text": [
      "Z plane: 6\n"
     ]
    },
    {
     "name": "stderr",
     "output_type": "stream",
     "text": [
      "100%|████████████████████████████████████████████| 2/2 [00:00<00:00, 716.30it/s]\n",
      "100%|████████████████████████████████████████████| 2/2 [00:00<00:00, 658.60it/s]\n"
     ]
    },
    {
     "name": "stdout",
     "output_type": "stream",
     "text": [
      "Z plane: 7\n"
     ]
    },
    {
     "name": "stderr",
     "output_type": "stream",
     "text": [
      "100%|████████████████████████████████████████████| 5/5 [00:00<00:00, 891.46it/s]\n",
      "100%|███████████████████████████████████████████| 5/5 [00:00<00:00, 1708.75it/s]\n"
     ]
    },
    {
     "name": "stdout",
     "output_type": "stream",
     "text": [
      "Z plane: 8\n"
     ]
    },
    {
     "name": "stderr",
     "output_type": "stream",
     "text": [
      "100%|███████████████████████████████████████████| 7/7 [00:00<00:00, 1153.23it/s]\n",
      "100%|███████████████████████████████████████████| 7/7 [00:00<00:00, 1217.81it/s]\n"
     ]
    },
    {
     "name": "stdout",
     "output_type": "stream",
     "text": [
      "Z plane: 9\n"
     ]
    },
    {
     "name": "stderr",
     "output_type": "stream",
     "text": [
      "100%|███████████████████████████████████████████| 8/8 [00:00<00:00, 1113.73it/s]\n",
      "100%|███████████████████████████████████████████| 8/8 [00:00<00:00, 1449.25it/s]\n"
     ]
    },
    {
     "name": "stdout",
     "output_type": "stream",
     "text": [
      "Z plane: 10\n"
     ]
    },
    {
     "name": "stderr",
     "output_type": "stream",
     "text": [
      "100%|█████████████████████████████████████████| 10/10 [00:00<00:00, 2086.93it/s]\n",
      "100%|█████████████████████████████████████████| 10/10 [00:00<00:00, 1247.82it/s]\n"
     ]
    },
    {
     "name": "stdout",
     "output_type": "stream",
     "text": [
      "Z plane: 11\n"
     ]
    },
    {
     "name": "stderr",
     "output_type": "stream",
     "text": [
      "100%|█████████████████████████████████████████| 12/12 [00:00<00:00, 1856.43it/s]\n",
      "100%|█████████████████████████████████████████| 12/12 [00:00<00:00, 3050.22it/s]\n"
     ]
    },
    {
     "name": "stdout",
     "output_type": "stream",
     "text": [
      "Z plane: 12\n"
     ]
    },
    {
     "name": "stderr",
     "output_type": "stream",
     "text": [
      "100%|█████████████████████████████████████████| 15/15 [00:00<00:00, 1215.76it/s]\n",
      "100%|█████████████████████████████████████████| 15/15 [00:00<00:00, 1832.16it/s]\n"
     ]
    },
    {
     "name": "stdout",
     "output_type": "stream",
     "text": [
      "Z plane: 13\n"
     ]
    },
    {
     "name": "stderr",
     "output_type": "stream",
     "text": [
      "100%|█████████████████████████████████████████| 14/14 [00:00<00:00, 1453.47it/s]\n",
      "100%|█████████████████████████████████████████| 14/14 [00:00<00:00, 2441.59it/s]\n"
     ]
    },
    {
     "name": "stdout",
     "output_type": "stream",
     "text": [
      "Z plane: 14\n"
     ]
    },
    {
     "name": "stderr",
     "output_type": "stream",
     "text": [
      "100%|█████████████████████████████████████████| 15/15 [00:00<00:00, 1513.13it/s]\n",
      "100%|█████████████████████████████████████████| 15/15 [00:00<00:00, 3443.41it/s]\n"
     ]
    },
    {
     "name": "stdout",
     "output_type": "stream",
     "text": [
      "Z plane: 15\n"
     ]
    },
    {
     "name": "stderr",
     "output_type": "stream",
     "text": [
      "100%|█████████████████████████████████████████| 16/16 [00:00<00:00, 2159.23it/s]\n",
      "100%|█████████████████████████████████████████| 16/16 [00:00<00:00, 2563.76it/s]\n"
     ]
    },
    {
     "name": "stdout",
     "output_type": "stream",
     "text": [
      "Z plane: 16\n"
     ]
    },
    {
     "name": "stderr",
     "output_type": "stream",
     "text": [
      "100%|█████████████████████████████████████████| 20/20 [00:00<00:00, 1597.07it/s]\n",
      "100%|█████████████████████████████████████████| 20/20 [00:00<00:00, 3903.31it/s]\n"
     ]
    },
    {
     "name": "stdout",
     "output_type": "stream",
     "text": [
      "Z plane: 17\n"
     ]
    },
    {
     "name": "stderr",
     "output_type": "stream",
     "text": [
      "100%|█████████████████████████████████████████| 27/27 [00:00<00:00, 2950.81it/s]\n",
      "100%|████████████████████████████████████████| 27/27 [00:00<00:00, 14234.06it/s]\n"
     ]
    },
    {
     "name": "stdout",
     "output_type": "stream",
     "text": [
      "Z plane: 18\n"
     ]
    },
    {
     "name": "stderr",
     "output_type": "stream",
     "text": [
      "100%|█████████████████████████████████████████| 27/27 [00:00<00:00, 2323.76it/s]\n",
      "100%|█████████████████████████████████████████| 26/26 [00:00<00:00, 4487.36it/s]\n"
     ]
    },
    {
     "name": "stdout",
     "output_type": "stream",
     "text": [
      "Z plane: 19\n"
     ]
    },
    {
     "name": "stderr",
     "output_type": "stream",
     "text": [
      "100%|█████████████████████████████████████████| 34/34 [00:00<00:00, 2617.21it/s]\n",
      "100%|█████████████████████████████████████████| 34/34 [00:00<00:00, 5490.98it/s]\n"
     ]
    },
    {
     "name": "stdout",
     "output_type": "stream",
     "text": [
      "Z plane: 20\n"
     ]
    },
    {
     "name": "stderr",
     "output_type": "stream",
     "text": [
      "100%|█████████████████████████████████████████| 40/40 [00:00<00:00, 3327.23it/s]\n",
      "100%|█████████████████████████████████████████| 35/35 [00:00<00:00, 4897.27it/s]\n"
     ]
    },
    {
     "name": "stdout",
     "output_type": "stream",
     "text": [
      "Z plane: 21\n"
     ]
    },
    {
     "name": "stderr",
     "output_type": "stream",
     "text": [
      "100%|█████████████████████████████████████████| 41/41 [00:00<00:00, 3312.27it/s]\n",
      "100%|█████████████████████████████████████████| 37/37 [00:00<00:00, 4779.76it/s]\n"
     ]
    },
    {
     "name": "stdout",
     "output_type": "stream",
     "text": [
      "Z plane: 22\n"
     ]
    },
    {
     "name": "stderr",
     "output_type": "stream",
     "text": [
      "100%|█████████████████████████████████████████| 41/41 [00:00<00:00, 3479.55it/s]\n",
      "100%|█████████████████████████████████████████| 38/38 [00:00<00:00, 9664.29it/s]\n"
     ]
    },
    {
     "name": "stdout",
     "output_type": "stream",
     "text": [
      "Z plane: 23\n"
     ]
    },
    {
     "name": "stderr",
     "output_type": "stream",
     "text": [
      "100%|█████████████████████████████████████████| 38/38 [00:00<00:00, 3559.42it/s]\n",
      "100%|█████████████████████████████████████████| 38/38 [00:00<00:00, 8453.57it/s]\n"
     ]
    },
    {
     "name": "stdout",
     "output_type": "stream",
     "text": [
      "Z plane: 24\n"
     ]
    },
    {
     "name": "stderr",
     "output_type": "stream",
     "text": [
      "100%|█████████████████████████████████████████| 43/43 [00:00<00:00, 4577.42it/s]\n",
      "100%|█████████████████████████████████████████| 40/40 [00:00<00:00, 6878.73it/s]\n"
     ]
    },
    {
     "name": "stdout",
     "output_type": "stream",
     "text": [
      "Z plane: 25\n"
     ]
    },
    {
     "name": "stderr",
     "output_type": "stream",
     "text": [
      "100%|█████████████████████████████████████████| 30/30 [00:00<00:00, 3313.91it/s]\n",
      "100%|█████████████████████████████████████████| 30/30 [00:00<00:00, 5480.36it/s]\n"
     ]
    },
    {
     "name": "stdout",
     "output_type": "stream",
     "text": [
      "Z plane: 26\n"
     ]
    },
    {
     "name": "stderr",
     "output_type": "stream",
     "text": [
      "100%|█████████████████████████████████████████| 29/29 [00:00<00:00, 2086.61it/s]\n",
      "100%|█████████████████████████████████████████| 29/29 [00:00<00:00, 6415.68it/s]\n"
     ]
    },
    {
     "name": "stdout",
     "output_type": "stream",
     "text": [
      "Z plane: 27\n"
     ]
    },
    {
     "name": "stderr",
     "output_type": "stream",
     "text": [
      "100%|█████████████████████████████████████████| 29/29 [00:00<00:00, 3553.87it/s]\n",
      "100%|█████████████████████████████████████████| 29/29 [00:00<00:00, 7789.11it/s]\n"
     ]
    },
    {
     "name": "stdout",
     "output_type": "stream",
     "text": [
      "Z plane: 28\n"
     ]
    },
    {
     "name": "stderr",
     "output_type": "stream",
     "text": [
      "100%|█████████████████████████████████████████| 26/26 [00:00<00:00, 2754.25it/s]\n",
      "100%|█████████████████████████████████████████| 26/26 [00:00<00:00, 4993.22it/s]\n"
     ]
    },
    {
     "name": "stdout",
     "output_type": "stream",
     "text": [
      "Z plane: 29\n"
     ]
    },
    {
     "name": "stderr",
     "output_type": "stream",
     "text": [
      "100%|█████████████████████████████████████████| 22/22 [00:00<00:00, 2668.60it/s]\n",
      "100%|█████████████████████████████████████████| 22/22 [00:00<00:00, 3706.11it/s]\n"
     ]
    },
    {
     "name": "stdout",
     "output_type": "stream",
     "text": [
      "Z plane: 30\n"
     ]
    },
    {
     "name": "stderr",
     "output_type": "stream",
     "text": [
      "100%|█████████████████████████████████████████| 17/17 [00:00<00:00, 2116.51it/s]\n",
      "100%|█████████████████████████████████████████| 17/17 [00:00<00:00, 2928.62it/s]\n"
     ]
    },
    {
     "name": "stdout",
     "output_type": "stream",
     "text": [
      "Z plane: 31\n"
     ]
    },
    {
     "name": "stderr",
     "output_type": "stream",
     "text": [
      "100%|█████████████████████████████████████████| 13/13 [00:00<00:00, 1564.77it/s]\n",
      "100%|█████████████████████████████████████████| 13/13 [00:00<00:00, 1848.96it/s]\n"
     ]
    },
    {
     "name": "stdout",
     "output_type": "stream",
     "text": [
      "Time point: 55\n",
      "Z plane: 0\n"
     ]
    },
    {
     "name": "stderr",
     "output_type": "stream",
     "text": [
      "100%|███████████████████████████████████████████| 3/3 [00:00<00:00, 2115.84it/s]\n",
      "100%|████████████████████████████████████████████| 3/3 [00:00<00:00, 754.37it/s]\n"
     ]
    },
    {
     "name": "stdout",
     "output_type": "stream",
     "text": [
      "Z plane: 1\n"
     ]
    },
    {
     "name": "stderr",
     "output_type": "stream",
     "text": [
      "100%|████████████████████████████████████████████| 3/3 [00:00<00:00, 954.26it/s]\n",
      "100%|████████████████████████████████████████████| 3/3 [00:00<00:00, 927.94it/s]\n"
     ]
    },
    {
     "name": "stdout",
     "output_type": "stream",
     "text": [
      "Z plane: 2\n"
     ]
    },
    {
     "name": "stderr",
     "output_type": "stream",
     "text": [
      "100%|███████████████████████████████████████████| 3/3 [00:00<00:00, 1155.99it/s]\n",
      "100%|███████████████████████████████████████████| 3/3 [00:00<00:00, 1405.13it/s]\n"
     ]
    },
    {
     "name": "stdout",
     "output_type": "stream",
     "text": [
      "Z plane: 3\n"
     ]
    },
    {
     "name": "stderr",
     "output_type": "stream",
     "text": [
      "100%|███████████████████████████████████████████| 3/3 [00:00<00:00, 1147.13it/s]\n",
      "100%|████████████████████████████████████████████| 3/3 [00:00<00:00, 947.58it/s]\n"
     ]
    },
    {
     "name": "stdout",
     "output_type": "stream",
     "text": [
      "Z plane: 4\n"
     ]
    },
    {
     "name": "stderr",
     "output_type": "stream",
     "text": [
      "100%|███████████████████████████████████████████| 3/3 [00:00<00:00, 1074.18it/s]\n",
      "100%|███████████████████████████████████████████| 3/3 [00:00<00:00, 1377.44it/s]\n"
     ]
    },
    {
     "name": "stdout",
     "output_type": "stream",
     "text": [
      "Z plane: 5\n"
     ]
    },
    {
     "name": "stderr",
     "output_type": "stream",
     "text": [
      "100%|███████████████████████████████████████████| 3/3 [00:00<00:00, 1140.17it/s]\n",
      "100%|████████████████████████████████████████████| 3/3 [00:00<00:00, 829.19it/s]\n"
     ]
    },
    {
     "name": "stdout",
     "output_type": "stream",
     "text": [
      "Z plane: 6\n"
     ]
    },
    {
     "name": "stderr",
     "output_type": "stream",
     "text": [
      "100%|███████████████████████████████████████████| 3/3 [00:00<00:00, 1255.28it/s]\n",
      "100%|████████████████████████████████████████████| 3/3 [00:00<00:00, 510.65it/s]\n"
     ]
    },
    {
     "name": "stdout",
     "output_type": "stream",
     "text": [
      "Z plane: 7\n"
     ]
    },
    {
     "name": "stderr",
     "output_type": "stream",
     "text": [
      "100%|███████████████████████████████████████████| 6/6 [00:00<00:00, 1172.79it/s]\n",
      "100%|███████████████████████████████████████████| 6/6 [00:00<00:00, 1469.11it/s]\n"
     ]
    },
    {
     "name": "stdout",
     "output_type": "stream",
     "text": [
      "Z plane: 8\n"
     ]
    },
    {
     "name": "stderr",
     "output_type": "stream",
     "text": [
      "100%|████████████████████████████████████████████| 7/7 [00:00<00:00, 996.75it/s]\n",
      "100%|███████████████████████████████████████████| 7/7 [00:00<00:00, 1511.23it/s]\n"
     ]
    },
    {
     "name": "stdout",
     "output_type": "stream",
     "text": [
      "Z plane: 9\n"
     ]
    },
    {
     "name": "stderr",
     "output_type": "stream",
     "text": [
      "100%|█████████████████████████████████████████| 10/10 [00:00<00:00, 1007.57it/s]\n",
      "100%|█████████████████████████████████████████| 10/10 [00:00<00:00, 2175.36it/s]\n"
     ]
    },
    {
     "name": "stdout",
     "output_type": "stream",
     "text": [
      "Z plane: 10\n"
     ]
    },
    {
     "name": "stderr",
     "output_type": "stream",
     "text": [
      "100%|█████████████████████████████████████████| 11/11 [00:00<00:00, 1371.95it/s]\n",
      "100%|█████████████████████████████████████████| 11/11 [00:00<00:00, 3421.64it/s]\n"
     ]
    },
    {
     "name": "stdout",
     "output_type": "stream",
     "text": [
      "Z plane: 11\n"
     ]
    },
    {
     "name": "stderr",
     "output_type": "stream",
     "text": [
      "100%|█████████████████████████████████████████| 14/14 [00:00<00:00, 1473.98it/s]\n",
      "100%|█████████████████████████████████████████| 14/14 [00:00<00:00, 2779.53it/s]\n"
     ]
    },
    {
     "name": "stdout",
     "output_type": "stream",
     "text": [
      "Z plane: 12\n"
     ]
    },
    {
     "name": "stderr",
     "output_type": "stream",
     "text": [
      "100%|█████████████████████████████████████████| 16/16 [00:00<00:00, 2125.65it/s]\n",
      "100%|█████████████████████████████████████████| 16/16 [00:00<00:00, 1977.51it/s]\n"
     ]
    },
    {
     "name": "stdout",
     "output_type": "stream",
     "text": [
      "Z plane: 13\n"
     ]
    },
    {
     "name": "stderr",
     "output_type": "stream",
     "text": [
      "100%|█████████████████████████████████████████| 15/15 [00:00<00:00, 1582.32it/s]\n",
      "100%|█████████████████████████████████████████| 15/15 [00:00<00:00, 2939.93it/s]\n"
     ]
    },
    {
     "name": "stdout",
     "output_type": "stream",
     "text": [
      "Z plane: 14\n"
     ]
    },
    {
     "name": "stderr",
     "output_type": "stream",
     "text": [
      "100%|█████████████████████████████████████████| 17/17 [00:00<00:00, 1688.37it/s]\n",
      "100%|█████████████████████████████████████████| 17/17 [00:00<00:00, 2741.48it/s]\n"
     ]
    },
    {
     "name": "stdout",
     "output_type": "stream",
     "text": [
      "Z plane: 15\n"
     ]
    },
    {
     "name": "stderr",
     "output_type": "stream",
     "text": [
      "100%|█████████████████████████████████████████| 17/17 [00:00<00:00, 1606.51it/s]\n",
      "100%|█████████████████████████████████████████| 17/17 [00:00<00:00, 3265.54it/s]\n"
     ]
    },
    {
     "name": "stdout",
     "output_type": "stream",
     "text": [
      "Z plane: 16\n"
     ]
    },
    {
     "name": "stderr",
     "output_type": "stream",
     "text": [
      "100%|█████████████████████████████████████████| 22/22 [00:00<00:00, 1657.14it/s]\n",
      "100%|█████████████████████████████████████████| 22/22 [00:00<00:00, 3118.44it/s]\n"
     ]
    },
    {
     "name": "stdout",
     "output_type": "stream",
     "text": [
      "Z plane: 17\n"
     ]
    },
    {
     "name": "stderr",
     "output_type": "stream",
     "text": [
      "100%|█████████████████████████████████████████| 26/26 [00:00<00:00, 2283.09it/s]\n",
      "100%|█████████████████████████████████████████| 26/26 [00:00<00:00, 4308.14it/s]\n"
     ]
    },
    {
     "name": "stdout",
     "output_type": "stream",
     "text": [
      "Z plane: 18\n"
     ]
    },
    {
     "name": "stderr",
     "output_type": "stream",
     "text": [
      "100%|█████████████████████████████████████████| 28/28 [00:00<00:00, 2551.00it/s]\n",
      "100%|█████████████████████████████████████████| 27/27 [00:00<00:00, 3911.25it/s]\n"
     ]
    },
    {
     "name": "stdout",
     "output_type": "stream",
     "text": [
      "Z plane: 19\n"
     ]
    },
    {
     "name": "stderr",
     "output_type": "stream",
     "text": [
      "100%|█████████████████████████████████████████| 29/29 [00:00<00:00, 3115.01it/s]\n",
      "100%|█████████████████████████████████████████| 28/28 [00:00<00:00, 5543.57it/s]\n"
     ]
    },
    {
     "name": "stdout",
     "output_type": "stream",
     "text": [
      "Z plane: 20\n"
     ]
    },
    {
     "name": "stderr",
     "output_type": "stream",
     "text": [
      "100%|█████████████████████████████████████████| 29/29 [00:00<00:00, 2082.72it/s]\n",
      "100%|█████████████████████████████████████████| 28/28 [00:00<00:00, 4194.15it/s]\n"
     ]
    },
    {
     "name": "stdout",
     "output_type": "stream",
     "text": [
      "Z plane: 21\n"
     ]
    },
    {
     "name": "stderr",
     "output_type": "stream",
     "text": [
      "100%|█████████████████████████████████████████| 32/32 [00:00<00:00, 2517.07it/s]\n",
      "100%|█████████████████████████████████████████| 30/30 [00:00<00:00, 2720.51it/s]\n"
     ]
    },
    {
     "name": "stdout",
     "output_type": "stream",
     "text": [
      "Z plane: 22\n"
     ]
    },
    {
     "name": "stderr",
     "output_type": "stream",
     "text": [
      "100%|█████████████████████████████████████████| 32/32 [00:00<00:00, 2544.75it/s]\n",
      "100%|█████████████████████████████████████████| 31/31 [00:00<00:00, 4859.78it/s]\n"
     ]
    },
    {
     "name": "stdout",
     "output_type": "stream",
     "text": [
      "Z plane: 23\n"
     ]
    },
    {
     "name": "stderr",
     "output_type": "stream",
     "text": [
      "100%|█████████████████████████████████████████| 34/34 [00:00<00:00, 4620.92it/s]\n",
      "100%|█████████████████████████████████████████| 34/34 [00:00<00:00, 7388.16it/s]\n"
     ]
    },
    {
     "name": "stdout",
     "output_type": "stream",
     "text": [
      "Z plane: 24\n"
     ]
    },
    {
     "name": "stderr",
     "output_type": "stream",
     "text": [
      "100%|█████████████████████████████████████████| 36/36 [00:00<00:00, 2762.89it/s]\n",
      "100%|█████████████████████████████████████████| 36/36 [00:00<00:00, 3782.34it/s]\n"
     ]
    },
    {
     "name": "stdout",
     "output_type": "stream",
     "text": [
      "Z plane: 25\n"
     ]
    },
    {
     "name": "stderr",
     "output_type": "stream",
     "text": [
      "100%|█████████████████████████████████████████| 37/37 [00:00<00:00, 3583.22it/s]\n",
      "100%|█████████████████████████████████████████| 37/37 [00:00<00:00, 6772.09it/s]\n"
     ]
    },
    {
     "name": "stdout",
     "output_type": "stream",
     "text": [
      "Z plane: 26\n"
     ]
    },
    {
     "name": "stderr",
     "output_type": "stream",
     "text": [
      "100%|█████████████████████████████████████████| 33/33 [00:00<00:00, 3132.13it/s]\n",
      "100%|████████████████████████████████████████| 33/33 [00:00<00:00, 10848.19it/s]\n"
     ]
    },
    {
     "name": "stdout",
     "output_type": "stream",
     "text": [
      "Z plane: 27\n"
     ]
    },
    {
     "name": "stderr",
     "output_type": "stream",
     "text": [
      "100%|█████████████████████████████████████████| 28/28 [00:00<00:00, 2336.80it/s]\n",
      "100%|█████████████████████████████████████████| 28/28 [00:00<00:00, 5563.26it/s]\n"
     ]
    },
    {
     "name": "stdout",
     "output_type": "stream",
     "text": [
      "Z plane: 28\n"
     ]
    },
    {
     "name": "stderr",
     "output_type": "stream",
     "text": [
      "100%|█████████████████████████████████████████| 25/25 [00:00<00:00, 2236.53it/s]\n",
      "100%|█████████████████████████████████████████| 25/25 [00:00<00:00, 3292.34it/s]\n"
     ]
    },
    {
     "name": "stdout",
     "output_type": "stream",
     "text": [
      "Z plane: 29\n"
     ]
    },
    {
     "name": "stderr",
     "output_type": "stream",
     "text": [
      "100%|█████████████████████████████████████████| 24/24 [00:00<00:00, 2276.57it/s]\n",
      "100%|█████████████████████████████████████████| 24/24 [00:00<00:00, 4106.86it/s]\n"
     ]
    },
    {
     "name": "stdout",
     "output_type": "stream",
     "text": [
      "Z plane: 30\n"
     ]
    },
    {
     "name": "stderr",
     "output_type": "stream",
     "text": [
      "100%|█████████████████████████████████████████| 19/19 [00:00<00:00, 1826.41it/s]\n",
      "100%|█████████████████████████████████████████| 19/19 [00:00<00:00, 3531.50it/s]\n"
     ]
    },
    {
     "name": "stdout",
     "output_type": "stream",
     "text": [
      "Z plane: 31\n"
     ]
    },
    {
     "name": "stderr",
     "output_type": "stream",
     "text": [
      "100%|█████████████████████████████████████████| 15/15 [00:00<00:00, 1551.68it/s]\n",
      "100%|█████████████████████████████████████████| 15/15 [00:00<00:00, 2036.66it/s]\n"
     ]
    },
    {
     "name": "stdout",
     "output_type": "stream",
     "text": [
      "Time point: 56\n",
      "Z plane: 0\n"
     ]
    },
    {
     "name": "stderr",
     "output_type": "stream",
     "text": [
      "100%|███████████████████████████████████████████| 3/3 [00:00<00:00, 1154.71it/s]\n",
      "100%|████████████████████████████████████████████| 3/3 [00:00<00:00, 810.60it/s]\n"
     ]
    },
    {
     "name": "stdout",
     "output_type": "stream",
     "text": [
      "Z plane: 1\n"
     ]
    },
    {
     "name": "stderr",
     "output_type": "stream",
     "text": [
      "100%|███████████████████████████████████████████| 3/3 [00:00<00:00, 1004.70it/s]\n",
      "100%|████████████████████████████████████████████| 3/3 [00:00<00:00, 854.01it/s]\n"
     ]
    },
    {
     "name": "stdout",
     "output_type": "stream",
     "text": [
      "Z plane: 2\n"
     ]
    },
    {
     "name": "stderr",
     "output_type": "stream",
     "text": [
      "100%|████████████████████████████████████████████| 3/3 [00:00<00:00, 984.89it/s]\n",
      "100%|████████████████████████████████████████████| 3/3 [00:00<00:00, 823.97it/s]\n"
     ]
    },
    {
     "name": "stdout",
     "output_type": "stream",
     "text": [
      "Z plane: 3\n"
     ]
    },
    {
     "name": "stderr",
     "output_type": "stream",
     "text": [
      "100%|████████████████████████████████████████████| 3/3 [00:00<00:00, 954.19it/s]\n",
      "100%|████████████████████████████████████████████| 3/3 [00:00<00:00, 672.49it/s]\n"
     ]
    },
    {
     "name": "stdout",
     "output_type": "stream",
     "text": [
      "Z plane: 4\n"
     ]
    },
    {
     "name": "stderr",
     "output_type": "stream",
     "text": [
      "100%|███████████████████████████████████████████| 3/3 [00:00<00:00, 1078.78it/s]\n",
      "100%|████████████████████████████████████████████| 3/3 [00:00<00:00, 837.30it/s]\n"
     ]
    },
    {
     "name": "stdout",
     "output_type": "stream",
     "text": [
      "Z plane: 5\n"
     ]
    },
    {
     "name": "stderr",
     "output_type": "stream",
     "text": [
      "100%|███████████████████████████████████████████| 4/4 [00:00<00:00, 1522.02it/s]\n",
      "100%|███████████████████████████████████████████| 4/4 [00:00<00:00, 1132.52it/s]\n"
     ]
    },
    {
     "name": "stdout",
     "output_type": "stream",
     "text": [
      "Z plane: 6\n"
     ]
    },
    {
     "name": "stderr",
     "output_type": "stream",
     "text": [
      "100%|███████████████████████████████████████████| 3/3 [00:00<00:00, 1279.27it/s]\n",
      "100%|████████████████████████████████████████████| 3/3 [00:00<00:00, 883.14it/s]\n"
     ]
    },
    {
     "name": "stdout",
     "output_type": "stream",
     "text": [
      "Z plane: 7\n"
     ]
    },
    {
     "name": "stderr",
     "output_type": "stream",
     "text": [
      "100%|███████████████████████████████████████████| 8/8 [00:00<00:00, 1785.29it/s]\n",
      "100%|███████████████████████████████████████████| 7/7 [00:00<00:00, 1779.83it/s]\n"
     ]
    },
    {
     "name": "stdout",
     "output_type": "stream",
     "text": [
      "Z plane: 8\n"
     ]
    },
    {
     "name": "stderr",
     "output_type": "stream",
     "text": [
      "100%|███████████████████████████████████████████| 9/9 [00:00<00:00, 1374.73it/s]\n",
      "100%|███████████████████████████████████████████| 8/8 [00:00<00:00, 5730.90it/s]\n"
     ]
    },
    {
     "name": "stdout",
     "output_type": "stream",
     "text": [
      "Z plane: 9\n"
     ]
    },
    {
     "name": "stderr",
     "output_type": "stream",
     "text": [
      "100%|█████████████████████████████████████████| 10/10 [00:00<00:00, 1500.38it/s]\n",
      "100%|█████████████████████████████████████████| 10/10 [00:00<00:00, 2247.63it/s]\n"
     ]
    },
    {
     "name": "stdout",
     "output_type": "stream",
     "text": [
      "Z plane: 10\n"
     ]
    },
    {
     "name": "stderr",
     "output_type": "stream",
     "text": [
      "100%|█████████████████████████████████████████| 11/11 [00:00<00:00, 2087.28it/s]\n",
      "100%|█████████████████████████████████████████| 11/11 [00:00<00:00, 3124.99it/s]\n"
     ]
    },
    {
     "name": "stdout",
     "output_type": "stream",
     "text": [
      "Z plane: 11\n"
     ]
    },
    {
     "name": "stderr",
     "output_type": "stream",
     "text": [
      "100%|█████████████████████████████████████████| 13/13 [00:00<00:00, 2005.59it/s]\n",
      "100%|█████████████████████████████████████████| 13/13 [00:00<00:00, 2183.75it/s]\n"
     ]
    },
    {
     "name": "stdout",
     "output_type": "stream",
     "text": [
      "Z plane: 12\n"
     ]
    },
    {
     "name": "stderr",
     "output_type": "stream",
     "text": [
      "100%|█████████████████████████████████████████| 16/16 [00:00<00:00, 1689.93it/s]\n",
      "100%|█████████████████████████████████████████| 16/16 [00:00<00:00, 1456.26it/s]\n"
     ]
    },
    {
     "name": "stdout",
     "output_type": "stream",
     "text": [
      "Z plane: 13\n"
     ]
    },
    {
     "name": "stderr",
     "output_type": "stream",
     "text": [
      "100%|█████████████████████████████████████████| 16/16 [00:00<00:00, 1929.08it/s]\n",
      "100%|█████████████████████████████████████████| 16/16 [00:00<00:00, 3292.23it/s]\n"
     ]
    },
    {
     "name": "stdout",
     "output_type": "stream",
     "text": [
      "Z plane: 14\n"
     ]
    },
    {
     "name": "stderr",
     "output_type": "stream",
     "text": [
      "100%|█████████████████████████████████████████| 17/17 [00:00<00:00, 2170.57it/s]\n",
      "100%|█████████████████████████████████████████| 17/17 [00:00<00:00, 6453.94it/s]\n"
     ]
    },
    {
     "name": "stdout",
     "output_type": "stream",
     "text": [
      "Z plane: 15\n"
     ]
    },
    {
     "name": "stderr",
     "output_type": "stream",
     "text": [
      "100%|█████████████████████████████████████████| 18/18 [00:00<00:00, 2571.53it/s]\n",
      "100%|█████████████████████████████████████████| 18/18 [00:00<00:00, 3709.22it/s]\n"
     ]
    },
    {
     "name": "stdout",
     "output_type": "stream",
     "text": [
      "Z plane: 16\n"
     ]
    },
    {
     "name": "stderr",
     "output_type": "stream",
     "text": [
      "100%|█████████████████████████████████████████| 20/20 [00:00<00:00, 1588.42it/s]\n",
      "100%|█████████████████████████████████████████| 20/20 [00:00<00:00, 2562.50it/s]\n"
     ]
    },
    {
     "name": "stdout",
     "output_type": "stream",
     "text": [
      "Z plane: 17\n"
     ]
    },
    {
     "name": "stderr",
     "output_type": "stream",
     "text": [
      "100%|█████████████████████████████████████████| 26/26 [00:00<00:00, 2838.41it/s]\n",
      "100%|█████████████████████████████████████████| 26/26 [00:00<00:00, 6739.50it/s]\n"
     ]
    },
    {
     "name": "stdout",
     "output_type": "stream",
     "text": [
      "Z plane: 18\n"
     ]
    },
    {
     "name": "stderr",
     "output_type": "stream",
     "text": [
      "100%|█████████████████████████████████████████| 27/27 [00:00<00:00, 2854.49it/s]\n",
      "100%|█████████████████████████████████████████| 26/26 [00:00<00:00, 5708.93it/s]\n"
     ]
    },
    {
     "name": "stdout",
     "output_type": "stream",
     "text": [
      "Z plane: 19\n"
     ]
    },
    {
     "name": "stderr",
     "output_type": "stream",
     "text": [
      "100%|█████████████████████████████████████████| 31/31 [00:00<00:00, 3810.21it/s]\n",
      "100%|█████████████████████████████████████████| 31/31 [00:00<00:00, 4877.28it/s]\n"
     ]
    },
    {
     "name": "stdout",
     "output_type": "stream",
     "text": [
      "Z plane: 20\n"
     ]
    },
    {
     "name": "stderr",
     "output_type": "stream",
     "text": [
      "100%|█████████████████████████████████████████| 32/32 [00:00<00:00, 2910.94it/s]\n",
      "100%|█████████████████████████████████████████| 32/32 [00:00<00:00, 5888.03it/s]\n"
     ]
    },
    {
     "name": "stdout",
     "output_type": "stream",
     "text": [
      "Z plane: 21\n"
     ]
    },
    {
     "name": "stderr",
     "output_type": "stream",
     "text": [
      "100%|█████████████████████████████████████████| 32/32 [00:00<00:00, 3069.24it/s]\n",
      "100%|█████████████████████████████████████████| 32/32 [00:00<00:00, 5318.29it/s]\n"
     ]
    },
    {
     "name": "stdout",
     "output_type": "stream",
     "text": [
      "Z plane: 22\n"
     ]
    },
    {
     "name": "stderr",
     "output_type": "stream",
     "text": [
      "100%|█████████████████████████████████████████| 36/36 [00:00<00:00, 4275.06it/s]\n",
      "100%|█████████████████████████████████████████| 35/35 [00:00<00:00, 6485.85it/s]\n"
     ]
    },
    {
     "name": "stdout",
     "output_type": "stream",
     "text": [
      "Z plane: 23\n"
     ]
    },
    {
     "name": "stderr",
     "output_type": "stream",
     "text": [
      "100%|█████████████████████████████████████████| 43/43 [00:00<00:00, 3171.30it/s]\n",
      "100%|█████████████████████████████████████████| 42/42 [00:00<00:00, 6498.72it/s]\n"
     ]
    },
    {
     "name": "stdout",
     "output_type": "stream",
     "text": [
      "Z plane: 24\n"
     ]
    },
    {
     "name": "stderr",
     "output_type": "stream",
     "text": [
      "100%|█████████████████████████████████████████| 42/42 [00:00<00:00, 3635.70it/s]\n",
      "100%|█████████████████████████████████████████| 42/42 [00:00<00:00, 5422.83it/s]\n"
     ]
    },
    {
     "name": "stdout",
     "output_type": "stream",
     "text": [
      "Z plane: 25\n"
     ]
    },
    {
     "name": "stderr",
     "output_type": "stream",
     "text": [
      "100%|█████████████████████████████████████████| 41/41 [00:00<00:00, 3641.58it/s]\n",
      "100%|█████████████████████████████████████████| 40/40 [00:00<00:00, 4976.34it/s]\n"
     ]
    },
    {
     "name": "stdout",
     "output_type": "stream",
     "text": [
      "Z plane: 26\n"
     ]
    },
    {
     "name": "stderr",
     "output_type": "stream",
     "text": [
      "100%|█████████████████████████████████████████| 36/36 [00:00<00:00, 3752.45it/s]\n",
      "100%|█████████████████████████████████████████| 36/36 [00:00<00:00, 6118.36it/s]\n"
     ]
    },
    {
     "name": "stdout",
     "output_type": "stream",
     "text": [
      "Z plane: 27\n"
     ]
    },
    {
     "name": "stderr",
     "output_type": "stream",
     "text": [
      "100%|█████████████████████████████████████████| 34/34 [00:00<00:00, 3363.99it/s]\n",
      "100%|█████████████████████████████████████████| 34/34 [00:00<00:00, 6690.42it/s]\n"
     ]
    },
    {
     "name": "stdout",
     "output_type": "stream",
     "text": [
      "Z plane: 28\n"
     ]
    },
    {
     "name": "stderr",
     "output_type": "stream",
     "text": [
      "100%|█████████████████████████████████████████| 31/31 [00:00<00:00, 3142.48it/s]\n",
      "100%|█████████████████████████████████████████| 31/31 [00:00<00:00, 4422.26it/s]\n"
     ]
    },
    {
     "name": "stdout",
     "output_type": "stream",
     "text": [
      "Z plane: 29\n"
     ]
    },
    {
     "name": "stderr",
     "output_type": "stream",
     "text": [
      "100%|█████████████████████████████████████████| 26/26 [00:00<00:00, 4289.67it/s]\n",
      "100%|█████████████████████████████████████████| 26/26 [00:00<00:00, 3937.60it/s]\n"
     ]
    },
    {
     "name": "stdout",
     "output_type": "stream",
     "text": [
      "Z plane: 30\n"
     ]
    },
    {
     "name": "stderr",
     "output_type": "stream",
     "text": [
      "100%|█████████████████████████████████████████| 20/20 [00:00<00:00, 2229.41it/s]\n",
      "100%|█████████████████████████████████████████| 19/19 [00:00<00:00, 3312.49it/s]\n"
     ]
    },
    {
     "name": "stdout",
     "output_type": "stream",
     "text": [
      "Z plane: 31\n"
     ]
    },
    {
     "name": "stderr",
     "output_type": "stream",
     "text": [
      "100%|█████████████████████████████████████████| 15/15 [00:00<00:00, 1810.54it/s]\n",
      "100%|█████████████████████████████████████████| 15/15 [00:00<00:00, 2688.20it/s]\n"
     ]
    },
    {
     "name": "stdout",
     "output_type": "stream",
     "text": [
      "Time point: 57\n",
      "Z plane: 0\n"
     ]
    },
    {
     "name": "stderr",
     "output_type": "stream",
     "text": [
      "100%|███████████████████████████████████████████| 4/4 [00:00<00:00, 1086.04it/s]\n",
      "100%|████████████████████████████████████████████| 4/4 [00:00<00:00, 947.92it/s]\n"
     ]
    },
    {
     "name": "stdout",
     "output_type": "stream",
     "text": [
      "Z plane: 1\n"
     ]
    },
    {
     "name": "stderr",
     "output_type": "stream",
     "text": [
      "100%|███████████████████████████████████████████| 3/3 [00:00<00:00, 1196.09it/s]\n",
      "100%|████████████████████████████████████████████| 3/3 [00:00<00:00, 694.96it/s]\n"
     ]
    },
    {
     "name": "stdout",
     "output_type": "stream",
     "text": [
      "Z plane: 2\n"
     ]
    },
    {
     "name": "stderr",
     "output_type": "stream",
     "text": [
      "100%|███████████████████████████████████████████| 3/3 [00:00<00:00, 2555.94it/s]\n",
      "100%|████████████████████████████████████████████| 3/3 [00:00<00:00, 853.95it/s]\n"
     ]
    },
    {
     "name": "stdout",
     "output_type": "stream",
     "text": [
      "Z plane: 3\n"
     ]
    },
    {
     "name": "stderr",
     "output_type": "stream",
     "text": [
      "100%|███████████████████████████████████████████| 3/3 [00:00<00:00, 1337.61it/s]\n",
      "100%|████████████████████████████████████████████| 3/3 [00:00<00:00, 864.33it/s]\n"
     ]
    },
    {
     "name": "stdout",
     "output_type": "stream",
     "text": [
      "Z plane: 4\n"
     ]
    },
    {
     "name": "stderr",
     "output_type": "stream",
     "text": [
      "100%|███████████████████████████████████████████| 4/4 [00:00<00:00, 3360.82it/s]\n",
      "100%|███████████████████████████████████████████| 4/4 [00:00<00:00, 1464.75it/s]\n"
     ]
    },
    {
     "name": "stdout",
     "output_type": "stream",
     "text": [
      "Z plane: 5\n"
     ]
    },
    {
     "name": "stderr",
     "output_type": "stream",
     "text": [
      "100%|███████████████████████████████████████████| 5/5 [00:00<00:00, 1525.31it/s]\n",
      "100%|███████████████████████████████████████████| 5/5 [00:00<00:00, 2406.09it/s]\n"
     ]
    },
    {
     "name": "stdout",
     "output_type": "stream",
     "text": [
      "Z plane: 6\n"
     ]
    },
    {
     "name": "stderr",
     "output_type": "stream",
     "text": [
      "100%|███████████████████████████████████████████| 4/4 [00:00<00:00, 1272.74it/s]\n",
      "100%|████████████████████████████████████████████| 4/4 [00:00<00:00, 822.17it/s]\n"
     ]
    },
    {
     "name": "stdout",
     "output_type": "stream",
     "text": [
      "Z plane: 7\n"
     ]
    },
    {
     "name": "stderr",
     "output_type": "stream",
     "text": [
      "100%|███████████████████████████████████████████| 4/4 [00:00<00:00, 1445.19it/s]\n",
      "100%|███████████████████████████████████████████| 4/4 [00:00<00:00, 1038.97it/s]\n"
     ]
    },
    {
     "name": "stdout",
     "output_type": "stream",
     "text": [
      "Z plane: 8\n"
     ]
    },
    {
     "name": "stderr",
     "output_type": "stream",
     "text": [
      "100%|███████████████████████████████████████████| 7/7 [00:00<00:00, 1990.92it/s]\n",
      "100%|███████████████████████████████████████████| 7/7 [00:00<00:00, 2412.10it/s]\n"
     ]
    },
    {
     "name": "stdout",
     "output_type": "stream",
     "text": [
      "Z plane: 9\n"
     ]
    },
    {
     "name": "stderr",
     "output_type": "stream",
     "text": [
      "100%|████████████████████████████████████████████| 8/8 [00:00<00:00, 944.16it/s]\n",
      "100%|███████████████████████████████████████████| 8/8 [00:00<00:00, 2091.53it/s]\n"
     ]
    },
    {
     "name": "stdout",
     "output_type": "stream",
     "text": [
      "Z plane: 10\n"
     ]
    },
    {
     "name": "stderr",
     "output_type": "stream",
     "text": [
      "100%|███████████████████████████████████████████| 9/9 [00:00<00:00, 1072.19it/s]\n",
      "100%|███████████████████████████████████████████| 9/9 [00:00<00:00, 2704.45it/s]\n"
     ]
    },
    {
     "name": "stdout",
     "output_type": "stream",
     "text": [
      "Z plane: 11\n"
     ]
    },
    {
     "name": "stderr",
     "output_type": "stream",
     "text": [
      "100%|█████████████████████████████████████████| 13/13 [00:00<00:00, 1710.35it/s]\n",
      "100%|█████████████████████████████████████████| 13/13 [00:00<00:00, 2994.62it/s]\n"
     ]
    },
    {
     "name": "stdout",
     "output_type": "stream",
     "text": [
      "Z plane: 12\n"
     ]
    },
    {
     "name": "stderr",
     "output_type": "stream",
     "text": [
      "100%|█████████████████████████████████████████| 13/13 [00:00<00:00, 1863.31it/s]\n",
      "100%|█████████████████████████████████████████| 13/13 [00:00<00:00, 3964.66it/s]\n"
     ]
    },
    {
     "name": "stdout",
     "output_type": "stream",
     "text": [
      "Z plane: 13\n"
     ]
    },
    {
     "name": "stderr",
     "output_type": "stream",
     "text": [
      "100%|█████████████████████████████████████████| 17/17 [00:00<00:00, 1805.37it/s]\n",
      "100%|█████████████████████████████████████████| 17/17 [00:00<00:00, 2786.48it/s]\n"
     ]
    },
    {
     "name": "stdout",
     "output_type": "stream",
     "text": [
      "Z plane: 14\n"
     ]
    },
    {
     "name": "stderr",
     "output_type": "stream",
     "text": [
      "100%|█████████████████████████████████████████| 16/16 [00:00<00:00, 2261.54it/s]\n",
      "100%|█████████████████████████████████████████| 16/16 [00:00<00:00, 3591.40it/s]\n"
     ]
    },
    {
     "name": "stdout",
     "output_type": "stream",
     "text": [
      "Z plane: 15\n"
     ]
    },
    {
     "name": "stderr",
     "output_type": "stream",
     "text": [
      "100%|█████████████████████████████████████████| 19/19 [00:00<00:00, 1801.11it/s]\n",
      "100%|█████████████████████████████████████████| 19/19 [00:00<00:00, 3320.49it/s]\n"
     ]
    },
    {
     "name": "stdout",
     "output_type": "stream",
     "text": [
      "Z plane: 16\n"
     ]
    },
    {
     "name": "stderr",
     "output_type": "stream",
     "text": [
      "100%|█████████████████████████████████████████| 23/23 [00:00<00:00, 1750.04it/s]\n",
      "100%|█████████████████████████████████████████| 22/22 [00:00<00:00, 5198.57it/s]\n"
     ]
    },
    {
     "name": "stdout",
     "output_type": "stream",
     "text": [
      "Z plane: 17\n"
     ]
    },
    {
     "name": "stderr",
     "output_type": "stream",
     "text": [
      "100%|█████████████████████████████████████████| 28/28 [00:00<00:00, 2160.98it/s]\n",
      "100%|█████████████████████████████████████████| 27/27 [00:00<00:00, 4959.76it/s]\n"
     ]
    },
    {
     "name": "stdout",
     "output_type": "stream",
     "text": [
      "Z plane: 18\n"
     ]
    },
    {
     "name": "stderr",
     "output_type": "stream",
     "text": [
      "100%|█████████████████████████████████████████| 33/33 [00:00<00:00, 2771.23it/s]\n",
      "100%|█████████████████████████████████████████| 33/33 [00:00<00:00, 7310.62it/s]\n"
     ]
    },
    {
     "name": "stdout",
     "output_type": "stream",
     "text": [
      "Z plane: 19\n"
     ]
    },
    {
     "name": "stderr",
     "output_type": "stream",
     "text": [
      "100%|█████████████████████████████████████████| 31/31 [00:00<00:00, 2232.58it/s]\n",
      "100%|█████████████████████████████████████████| 31/31 [00:00<00:00, 5681.85it/s]\n"
     ]
    },
    {
     "name": "stdout",
     "output_type": "stream",
     "text": [
      "Z plane: 20\n"
     ]
    },
    {
     "name": "stderr",
     "output_type": "stream",
     "text": [
      "100%|█████████████████████████████████████████| 32/32 [00:00<00:00, 3765.19it/s]\n",
      "100%|█████████████████████████████████████████| 31/31 [00:00<00:00, 4673.74it/s]\n"
     ]
    },
    {
     "name": "stdout",
     "output_type": "stream",
     "text": [
      "Z plane: 21\n"
     ]
    },
    {
     "name": "stderr",
     "output_type": "stream",
     "text": [
      "100%|█████████████████████████████████████████| 33/33 [00:00<00:00, 4277.39it/s]\n",
      "100%|█████████████████████████████████████████| 33/33 [00:00<00:00, 5142.75it/s]\n"
     ]
    },
    {
     "name": "stdout",
     "output_type": "stream",
     "text": [
      "Z plane: 22\n"
     ]
    },
    {
     "name": "stderr",
     "output_type": "stream",
     "text": [
      "100%|█████████████████████████████████████████| 36/36 [00:00<00:00, 3778.27it/s]\n",
      "100%|█████████████████████████████████████████| 36/36 [00:00<00:00, 5027.80it/s]\n"
     ]
    },
    {
     "name": "stdout",
     "output_type": "stream",
     "text": [
      "Z plane: 23\n"
     ]
    },
    {
     "name": "stderr",
     "output_type": "stream",
     "text": [
      "100%|█████████████████████████████████████████| 39/39 [00:00<00:00, 3044.05it/s]\n",
      "100%|█████████████████████████████████████████| 39/39 [00:00<00:00, 6221.11it/s]\n"
     ]
    },
    {
     "name": "stdout",
     "output_type": "stream",
     "text": [
      "Z plane: 24\n"
     ]
    },
    {
     "name": "stderr",
     "output_type": "stream",
     "text": [
      "100%|█████████████████████████████████████████| 42/42 [00:00<00:00, 3484.61it/s]\n",
      "100%|█████████████████████████████████████████| 42/42 [00:00<00:00, 4527.39it/s]\n"
     ]
    },
    {
     "name": "stdout",
     "output_type": "stream",
     "text": [
      "Z plane: 25\n"
     ]
    },
    {
     "name": "stderr",
     "output_type": "stream",
     "text": [
      "100%|█████████████████████████████████████████| 37/37 [00:00<00:00, 2920.77it/s]\n",
      "100%|█████████████████████████████████████████| 37/37 [00:00<00:00, 5478.11it/s]\n"
     ]
    },
    {
     "name": "stdout",
     "output_type": "stream",
     "text": [
      "Z plane: 26\n"
     ]
    },
    {
     "name": "stderr",
     "output_type": "stream",
     "text": [
      "100%|█████████████████████████████████████████| 37/37 [00:00<00:00, 3558.73it/s]\n",
      "100%|█████████████████████████████████████████| 37/37 [00:00<00:00, 5445.05it/s]\n"
     ]
    },
    {
     "name": "stdout",
     "output_type": "stream",
     "text": [
      "Z plane: 27\n"
     ]
    },
    {
     "name": "stderr",
     "output_type": "stream",
     "text": [
      "100%|█████████████████████████████████████████| 35/35 [00:00<00:00, 2822.87it/s]\n",
      "100%|█████████████████████████████████████████| 35/35 [00:00<00:00, 7134.21it/s]\n"
     ]
    },
    {
     "name": "stdout",
     "output_type": "stream",
     "text": [
      "Z plane: 28\n"
     ]
    },
    {
     "name": "stderr",
     "output_type": "stream",
     "text": [
      "100%|█████████████████████████████████████████| 34/34 [00:00<00:00, 4660.79it/s]\n",
      "100%|█████████████████████████████████████████| 34/34 [00:00<00:00, 5516.69it/s]\n"
     ]
    },
    {
     "name": "stdout",
     "output_type": "stream",
     "text": [
      "Z plane: 29\n"
     ]
    },
    {
     "name": "stderr",
     "output_type": "stream",
     "text": [
      "100%|█████████████████████████████████████████| 21/21 [00:00<00:00, 2662.33it/s]\n",
      "100%|█████████████████████████████████████████| 21/21 [00:00<00:00, 3120.43it/s]\n"
     ]
    },
    {
     "name": "stdout",
     "output_type": "stream",
     "text": [
      "Z plane: 30\n"
     ]
    },
    {
     "name": "stderr",
     "output_type": "stream",
     "text": [
      "100%|█████████████████████████████████████████| 18/18 [00:00<00:00, 2002.48it/s]\n",
      "100%|█████████████████████████████████████████| 18/18 [00:00<00:00, 2724.36it/s]\n"
     ]
    },
    {
     "name": "stdout",
     "output_type": "stream",
     "text": [
      "Z plane: 31\n"
     ]
    },
    {
     "name": "stderr",
     "output_type": "stream",
     "text": [
      "100%|█████████████████████████████████████████| 16/16 [00:00<00:00, 2752.96it/s]\n",
      "100%|█████████████████████████████████████████| 16/16 [00:00<00:00, 2101.68it/s]\n"
     ]
    },
    {
     "name": "stdout",
     "output_type": "stream",
     "text": [
      "Time point: 58\n",
      "Z plane: 0\n"
     ]
    },
    {
     "name": "stderr",
     "output_type": "stream",
     "text": [
      "100%|███████████████████████████████████████████| 2/2 [00:00<00:00, 1175.20it/s]\n",
      "100%|████████████████████████████████████████████| 2/2 [00:00<00:00, 640.35it/s]\n"
     ]
    },
    {
     "name": "stdout",
     "output_type": "stream",
     "text": [
      "Z plane: 1\n"
     ]
    },
    {
     "name": "stderr",
     "output_type": "stream",
     "text": [
      "100%|███████████████████████████████████████████| 3/3 [00:00<00:00, 1185.28it/s]\n",
      "100%|████████████████████████████████████████████| 3/3 [00:00<00:00, 682.59it/s]\n"
     ]
    },
    {
     "name": "stdout",
     "output_type": "stream",
     "text": [
      "Z plane: 2\n"
     ]
    },
    {
     "name": "stderr",
     "output_type": "stream",
     "text": [
      "100%|███████████████████████████████████████████| 3/3 [00:00<00:00, 2457.12it/s]\n",
      "100%|███████████████████████████████████████████| 3/3 [00:00<00:00, 1183.94it/s]\n"
     ]
    },
    {
     "name": "stdout",
     "output_type": "stream",
     "text": [
      "Z plane: 3\n"
     ]
    },
    {
     "name": "stderr",
     "output_type": "stream",
     "text": [
      "100%|████████████████████████████████████████████| 2/2 [00:00<00:00, 786.11it/s]\n",
      "100%|███████████████████████████████████████████| 2/2 [00:00<00:00, 1041.03it/s]\n"
     ]
    },
    {
     "name": "stdout",
     "output_type": "stream",
     "text": [
      "Z plane: 4\n"
     ]
    },
    {
     "name": "stderr",
     "output_type": "stream",
     "text": [
      "100%|███████████████████████████████████████████| 3/3 [00:00<00:00, 1675.04it/s]\n",
      "100%|████████████████████████████████████████████| 3/3 [00:00<00:00, 793.67it/s]\n"
     ]
    },
    {
     "name": "stdout",
     "output_type": "stream",
     "text": [
      "Z plane: 5\n"
     ]
    },
    {
     "name": "stderr",
     "output_type": "stream",
     "text": [
      "100%|███████████████████████████████████████████| 3/3 [00:00<00:00, 1158.86it/s]\n",
      "100%|████████████████████████████████████████████| 3/3 [00:00<00:00, 489.95it/s]\n"
     ]
    },
    {
     "name": "stdout",
     "output_type": "stream",
     "text": [
      "Z plane: 6\n"
     ]
    },
    {
     "name": "stderr",
     "output_type": "stream",
     "text": [
      "100%|████████████████████████████████████████████| 3/3 [00:00<00:00, 975.87it/s]\n",
      "100%|████████████████████████████████████████████| 3/3 [00:00<00:00, 860.08it/s]\n"
     ]
    },
    {
     "name": "stdout",
     "output_type": "stream",
     "text": [
      "Z plane: 7\n"
     ]
    },
    {
     "name": "stderr",
     "output_type": "stream",
     "text": [
      "100%|███████████████████████████████████████████| 4/4 [00:00<00:00, 2875.77it/s]\n",
      "100%|████████████████████████████████████████████| 4/4 [00:00<00:00, 657.44it/s]\n"
     ]
    },
    {
     "name": "stdout",
     "output_type": "stream",
     "text": [
      "Z plane: 8\n"
     ]
    },
    {
     "name": "stderr",
     "output_type": "stream",
     "text": [
      "100%|████████████████████████████████████████████| 6/6 [00:00<00:00, 925.11it/s]\n",
      "100%|███████████████████████████████████████████| 6/6 [00:00<00:00, 1190.44it/s]\n"
     ]
    },
    {
     "name": "stdout",
     "output_type": "stream",
     "text": [
      "Z plane: 9\n"
     ]
    },
    {
     "name": "stderr",
     "output_type": "stream",
     "text": [
      "100%|███████████████████████████████████████████| 9/9 [00:00<00:00, 1293.65it/s]\n",
      "100%|███████████████████████████████████████████| 9/9 [00:00<00:00, 1401.68it/s]\n"
     ]
    },
    {
     "name": "stdout",
     "output_type": "stream",
     "text": [
      "Z plane: 10\n"
     ]
    },
    {
     "name": "stderr",
     "output_type": "stream",
     "text": [
      "100%|█████████████████████████████████████████| 11/11 [00:00<00:00, 1085.35it/s]\n",
      "100%|█████████████████████████████████████████| 11/11 [00:00<00:00, 3127.74it/s]\n"
     ]
    },
    {
     "name": "stdout",
     "output_type": "stream",
     "text": [
      "Z plane: 11\n"
     ]
    },
    {
     "name": "stderr",
     "output_type": "stream",
     "text": [
      "100%|█████████████████████████████████████████| 13/13 [00:00<00:00, 2092.08it/s]\n",
      "100%|█████████████████████████████████████████| 13/13 [00:00<00:00, 2692.64it/s]\n"
     ]
    },
    {
     "name": "stdout",
     "output_type": "stream",
     "text": [
      "Z plane: 12\n"
     ]
    },
    {
     "name": "stderr",
     "output_type": "stream",
     "text": [
      "100%|█████████████████████████████████████████| 14/14 [00:00<00:00, 1720.54it/s]\n",
      "100%|█████████████████████████████████████████| 14/14 [00:00<00:00, 2484.04it/s]\n"
     ]
    },
    {
     "name": "stdout",
     "output_type": "stream",
     "text": [
      "Z plane: 13\n"
     ]
    },
    {
     "name": "stderr",
     "output_type": "stream",
     "text": [
      "100%|█████████████████████████████████████████| 17/17 [00:00<00:00, 1701.91it/s]\n",
      "100%|█████████████████████████████████████████| 17/17 [00:00<00:00, 3315.81it/s]\n"
     ]
    },
    {
     "name": "stdout",
     "output_type": "stream",
     "text": [
      "Z plane: 14\n"
     ]
    },
    {
     "name": "stderr",
     "output_type": "stream",
     "text": [
      "100%|█████████████████████████████████████████| 19/19 [00:00<00:00, 1585.84it/s]\n",
      "100%|█████████████████████████████████████████| 19/19 [00:00<00:00, 3364.51it/s]\n"
     ]
    },
    {
     "name": "stdout",
     "output_type": "stream",
     "text": [
      "Z plane: 15\n"
     ]
    },
    {
     "name": "stderr",
     "output_type": "stream",
     "text": [
      "100%|█████████████████████████████████████████| 19/19 [00:00<00:00, 1693.12it/s]\n",
      "100%|█████████████████████████████████████████| 19/19 [00:00<00:00, 3414.24it/s]\n"
     ]
    },
    {
     "name": "stdout",
     "output_type": "stream",
     "text": [
      "Z plane: 16\n"
     ]
    },
    {
     "name": "stderr",
     "output_type": "stream",
     "text": [
      "100%|█████████████████████████████████████████| 22/22 [00:00<00:00, 2760.32it/s]\n",
      "100%|█████████████████████████████████████████| 21/21 [00:00<00:00, 4761.62it/s]\n"
     ]
    },
    {
     "name": "stdout",
     "output_type": "stream",
     "text": [
      "Z plane: 17\n"
     ]
    },
    {
     "name": "stderr",
     "output_type": "stream",
     "text": [
      "100%|█████████████████████████████████████████| 24/24 [00:00<00:00, 2086.76it/s]\n",
      "100%|█████████████████████████████████████████| 24/24 [00:00<00:00, 5484.24it/s]\n"
     ]
    },
    {
     "name": "stdout",
     "output_type": "stream",
     "text": [
      "Z plane: 18\n"
     ]
    },
    {
     "name": "stderr",
     "output_type": "stream",
     "text": [
      "100%|█████████████████████████████████████████| 31/31 [00:00<00:00, 2254.10it/s]\n",
      "100%|█████████████████████████████████████████| 31/31 [00:00<00:00, 5741.56it/s]\n"
     ]
    },
    {
     "name": "stdout",
     "output_type": "stream",
     "text": [
      "Z plane: 19\n"
     ]
    },
    {
     "name": "stderr",
     "output_type": "stream",
     "text": [
      "100%|█████████████████████████████████████████| 33/33 [00:00<00:00, 2959.61it/s]\n",
      "100%|█████████████████████████████████████████| 32/32 [00:00<00:00, 6626.40it/s]\n"
     ]
    },
    {
     "name": "stdout",
     "output_type": "stream",
     "text": [
      "Z plane: 20\n"
     ]
    },
    {
     "name": "stderr",
     "output_type": "stream",
     "text": [
      "100%|█████████████████████████████████████████| 33/33 [00:00<00:00, 4114.26it/s]\n",
      "100%|█████████████████████████████████████████| 32/32 [00:00<00:00, 3736.89it/s]\n"
     ]
    },
    {
     "name": "stdout",
     "output_type": "stream",
     "text": [
      "Z plane: 21\n"
     ]
    },
    {
     "name": "stderr",
     "output_type": "stream",
     "text": [
      "100%|█████████████████████████████████████████| 34/34 [00:00<00:00, 2795.60it/s]\n",
      "100%|█████████████████████████████████████████| 33/33 [00:00<00:00, 5179.51it/s]\n"
     ]
    },
    {
     "name": "stdout",
     "output_type": "stream",
     "text": [
      "Z plane: 22\n"
     ]
    },
    {
     "name": "stderr",
     "output_type": "stream",
     "text": [
      "100%|█████████████████████████████████████████| 36/36 [00:00<00:00, 5112.23it/s]\n",
      "100%|█████████████████████████████████████████| 36/36 [00:00<00:00, 4348.93it/s]\n"
     ]
    },
    {
     "name": "stdout",
     "output_type": "stream",
     "text": [
      "Z plane: 23\n"
     ]
    },
    {
     "name": "stderr",
     "output_type": "stream",
     "text": [
      "100%|█████████████████████████████████████████| 38/38 [00:00<00:00, 5705.11it/s]\n",
      "100%|█████████████████████████████████████████| 38/38 [00:00<00:00, 4642.01it/s]\n"
     ]
    },
    {
     "name": "stdout",
     "output_type": "stream",
     "text": [
      "Z plane: 24\n"
     ]
    },
    {
     "name": "stderr",
     "output_type": "stream",
     "text": [
      "100%|█████████████████████████████████████████| 35/35 [00:00<00:00, 2725.65it/s]\n",
      "100%|█████████████████████████████████████████| 35/35 [00:00<00:00, 7164.85it/s]\n"
     ]
    },
    {
     "name": "stdout",
     "output_type": "stream",
     "text": [
      "Z plane: 25\n"
     ]
    },
    {
     "name": "stderr",
     "output_type": "stream",
     "text": [
      "100%|█████████████████████████████████████████| 38/38 [00:00<00:00, 3881.16it/s]\n",
      "100%|█████████████████████████████████████████| 38/38 [00:00<00:00, 4716.33it/s]\n"
     ]
    },
    {
     "name": "stdout",
     "output_type": "stream",
     "text": [
      "Z plane: 26\n"
     ]
    },
    {
     "name": "stderr",
     "output_type": "stream",
     "text": [
      "100%|█████████████████████████████████████████| 39/39 [00:00<00:00, 3962.64it/s]\n",
      "100%|█████████████████████████████████████████| 37/37 [00:00<00:00, 6300.82it/s]\n"
     ]
    },
    {
     "name": "stdout",
     "output_type": "stream",
     "text": [
      "Z plane: 27\n"
     ]
    },
    {
     "name": "stderr",
     "output_type": "stream",
     "text": [
      "100%|█████████████████████████████████████████| 35/35 [00:00<00:00, 3817.56it/s]\n",
      "100%|█████████████████████████████████████████| 35/35 [00:00<00:00, 6305.06it/s]\n"
     ]
    },
    {
     "name": "stdout",
     "output_type": "stream",
     "text": [
      "Z plane: 28\n"
     ]
    },
    {
     "name": "stderr",
     "output_type": "stream",
     "text": [
      "100%|█████████████████████████████████████████| 30/30 [00:00<00:00, 2920.01it/s]\n",
      "100%|█████████████████████████████████████████| 30/30 [00:00<00:00, 5979.90it/s]\n"
     ]
    },
    {
     "name": "stdout",
     "output_type": "stream",
     "text": [
      "Z plane: 29\n"
     ]
    },
    {
     "name": "stderr",
     "output_type": "stream",
     "text": [
      "100%|█████████████████████████████████████████| 23/23 [00:00<00:00, 2203.90it/s]\n",
      "100%|█████████████████████████████████████████| 23/23 [00:00<00:00, 3624.88it/s]\n"
     ]
    },
    {
     "name": "stdout",
     "output_type": "stream",
     "text": [
      "Z plane: 30\n"
     ]
    },
    {
     "name": "stderr",
     "output_type": "stream",
     "text": [
      "100%|█████████████████████████████████████████| 17/17 [00:00<00:00, 1776.45it/s]\n",
      "100%|█████████████████████████████████████████| 17/17 [00:00<00:00, 2492.68it/s]\n"
     ]
    },
    {
     "name": "stdout",
     "output_type": "stream",
     "text": [
      "Z plane: 31\n"
     ]
    },
    {
     "name": "stderr",
     "output_type": "stream",
     "text": [
      "100%|█████████████████████████████████████████| 15/15 [00:00<00:00, 1566.60it/s]\n",
      "100%|█████████████████████████████████████████| 15/15 [00:00<00:00, 2099.74it/s]\n"
     ]
    },
    {
     "name": "stdout",
     "output_type": "stream",
     "text": [
      "Time point: 59\n",
      "Z plane: 0\n"
     ]
    },
    {
     "name": "stderr",
     "output_type": "stream",
     "text": [
      "100%|███████████████████████████████████████████| 5/5 [00:00<00:00, 1816.19it/s]\n",
      "100%|████████████████████████████████████████████| 5/5 [00:00<00:00, 926.92it/s]\n"
     ]
    },
    {
     "name": "stdout",
     "output_type": "stream",
     "text": [
      "Z plane: 1\n"
     ]
    },
    {
     "name": "stderr",
     "output_type": "stream",
     "text": [
      "100%|███████████████████████████████████████████| 4/4 [00:00<00:00, 1395.66it/s]\n",
      "100%|████████████████████████████████████████████| 4/4 [00:00<00:00, 637.26it/s]\n"
     ]
    },
    {
     "name": "stdout",
     "output_type": "stream",
     "text": [
      "Z plane: 2\n"
     ]
    },
    {
     "name": "stderr",
     "output_type": "stream",
     "text": [
      "100%|███████████████████████████████████████████| 4/4 [00:00<00:00, 1397.75it/s]\n",
      "100%|████████████████████████████████████████████| 4/4 [00:00<00:00, 920.16it/s]\n"
     ]
    },
    {
     "name": "stdout",
     "output_type": "stream",
     "text": [
      "Z plane: 3\n"
     ]
    },
    {
     "name": "stderr",
     "output_type": "stream",
     "text": [
      "100%|███████████████████████████████████████████| 6/6 [00:00<00:00, 1538.54it/s]\n",
      "100%|███████████████████████████████████████████| 5/5 [00:00<00:00, 1052.89it/s]\n"
     ]
    },
    {
     "name": "stdout",
     "output_type": "stream",
     "text": [
      "Z plane: 4\n"
     ]
    },
    {
     "name": "stderr",
     "output_type": "stream",
     "text": [
      "100%|███████████████████████████████████████████| 5/5 [00:00<00:00, 2451.95it/s]\n",
      "100%|███████████████████████████████████████████| 5/5 [00:00<00:00, 1029.02it/s]\n"
     ]
    },
    {
     "name": "stdout",
     "output_type": "stream",
     "text": [
      "Z plane: 5\n"
     ]
    },
    {
     "name": "stderr",
     "output_type": "stream",
     "text": [
      "100%|███████████████████████████████████████████| 4/4 [00:00<00:00, 2069.47it/s]\n",
      "100%|███████████████████████████████████████████| 4/4 [00:00<00:00, 1015.02it/s]\n"
     ]
    },
    {
     "name": "stdout",
     "output_type": "stream",
     "text": [
      "Z plane: 6\n"
     ]
    },
    {
     "name": "stderr",
     "output_type": "stream",
     "text": [
      "100%|███████████████████████████████████████████| 4/4 [00:00<00:00, 1690.57it/s]\n",
      "100%|███████████████████████████████████████████| 4/4 [00:00<00:00, 1418.55it/s]\n"
     ]
    },
    {
     "name": "stdout",
     "output_type": "stream",
     "text": [
      "Z plane: 7\n"
     ]
    },
    {
     "name": "stderr",
     "output_type": "stream",
     "text": [
      "100%|███████████████████████████████████████████| 5/5 [00:00<00:00, 1363.20it/s]\n",
      "100%|███████████████████████████████████████████| 5/5 [00:00<00:00, 1156.86it/s]\n"
     ]
    },
    {
     "name": "stdout",
     "output_type": "stream",
     "text": [
      "Z plane: 8\n"
     ]
    },
    {
     "name": "stderr",
     "output_type": "stream",
     "text": [
      "100%|███████████████████████████████████████████| 7/7 [00:00<00:00, 1047.12it/s]\n",
      "100%|███████████████████████████████████████████| 7/7 [00:00<00:00, 1675.52it/s]\n"
     ]
    },
    {
     "name": "stdout",
     "output_type": "stream",
     "text": [
      "Z plane: 9\n"
     ]
    },
    {
     "name": "stderr",
     "output_type": "stream",
     "text": [
      "100%|█████████████████████████████████████████| 10/10 [00:00<00:00, 1458.74it/s]\n",
      "100%|█████████████████████████████████████████| 10/10 [00:00<00:00, 1855.23it/s]\n"
     ]
    },
    {
     "name": "stdout",
     "output_type": "stream",
     "text": [
      "Z plane: 10\n"
     ]
    },
    {
     "name": "stderr",
     "output_type": "stream",
     "text": [
      "100%|█████████████████████████████████████████| 12/12 [00:00<00:00, 1913.31it/s]\n",
      "100%|█████████████████████████████████████████| 12/12 [00:00<00:00, 2736.16it/s]\n"
     ]
    },
    {
     "name": "stdout",
     "output_type": "stream",
     "text": [
      "Z plane: 11\n"
     ]
    },
    {
     "name": "stderr",
     "output_type": "stream",
     "text": [
      "100%|█████████████████████████████████████████| 14/14 [00:00<00:00, 1779.13it/s]\n",
      "100%|█████████████████████████████████████████| 14/14 [00:00<00:00, 2334.52it/s]\n"
     ]
    },
    {
     "name": "stdout",
     "output_type": "stream",
     "text": [
      "Z plane: 12\n"
     ]
    },
    {
     "name": "stderr",
     "output_type": "stream",
     "text": [
      "100%|█████████████████████████████████████████| 15/15 [00:00<00:00, 1767.41it/s]\n",
      "100%|█████████████████████████████████████████| 15/15 [00:00<00:00, 2538.11it/s]\n"
     ]
    },
    {
     "name": "stdout",
     "output_type": "stream",
     "text": [
      "Z plane: 13\n"
     ]
    },
    {
     "name": "stderr",
     "output_type": "stream",
     "text": [
      "100%|█████████████████████████████████████████| 18/18 [00:00<00:00, 1792.31it/s]\n",
      "100%|█████████████████████████████████████████| 18/18 [00:00<00:00, 3932.77it/s]\n"
     ]
    },
    {
     "name": "stdout",
     "output_type": "stream",
     "text": [
      "Z plane: 14\n"
     ]
    },
    {
     "name": "stderr",
     "output_type": "stream",
     "text": [
      "100%|█████████████████████████████████████████| 20/20 [00:00<00:00, 2344.17it/s]\n",
      "100%|█████████████████████████████████████████| 20/20 [00:00<00:00, 3694.12it/s]\n"
     ]
    },
    {
     "name": "stdout",
     "output_type": "stream",
     "text": [
      "Z plane: 15\n"
     ]
    },
    {
     "name": "stderr",
     "output_type": "stream",
     "text": [
      "100%|█████████████████████████████████████████| 19/19 [00:00<00:00, 1755.05it/s]\n",
      "100%|█████████████████████████████████████████| 19/19 [00:00<00:00, 3923.96it/s]\n"
     ]
    },
    {
     "name": "stdout",
     "output_type": "stream",
     "text": [
      "Z plane: 16\n"
     ]
    },
    {
     "name": "stderr",
     "output_type": "stream",
     "text": [
      "100%|█████████████████████████████████████████| 23/23 [00:00<00:00, 1915.85it/s]\n",
      "100%|█████████████████████████████████████████| 23/23 [00:00<00:00, 2585.47it/s]\n"
     ]
    },
    {
     "name": "stdout",
     "output_type": "stream",
     "text": [
      "Z plane: 17\n"
     ]
    },
    {
     "name": "stderr",
     "output_type": "stream",
     "text": [
      "100%|█████████████████████████████████████████| 28/28 [00:00<00:00, 2547.35it/s]\n",
      "100%|█████████████████████████████████████████| 26/26 [00:00<00:00, 3175.38it/s]\n"
     ]
    },
    {
     "name": "stdout",
     "output_type": "stream",
     "text": [
      "Z plane: 18\n"
     ]
    },
    {
     "name": "stderr",
     "output_type": "stream",
     "text": [
      "100%|█████████████████████████████████████████| 31/31 [00:00<00:00, 2565.37it/s]\n",
      "100%|█████████████████████████████████████████| 31/31 [00:00<00:00, 4732.25it/s]\n"
     ]
    },
    {
     "name": "stdout",
     "output_type": "stream",
     "text": [
      "Z plane: 19\n"
     ]
    },
    {
     "name": "stderr",
     "output_type": "stream",
     "text": [
      "100%|█████████████████████████████████████████| 31/31 [00:00<00:00, 2737.10it/s]\n",
      "100%|█████████████████████████████████████████| 30/30 [00:00<00:00, 5629.69it/s]\n"
     ]
    },
    {
     "name": "stdout",
     "output_type": "stream",
     "text": [
      "Z plane: 20\n"
     ]
    },
    {
     "name": "stderr",
     "output_type": "stream",
     "text": [
      "100%|█████████████████████████████████████████| 31/31 [00:00<00:00, 2783.51it/s]\n",
      "100%|█████████████████████████████████████████| 31/31 [00:00<00:00, 5532.68it/s]\n"
     ]
    },
    {
     "name": "stdout",
     "output_type": "stream",
     "text": [
      "Z plane: 21\n"
     ]
    },
    {
     "name": "stderr",
     "output_type": "stream",
     "text": [
      "100%|█████████████████████████████████████████| 34/34 [00:00<00:00, 2715.23it/s]\n",
      "100%|█████████████████████████████████████████| 34/34 [00:00<00:00, 4498.62it/s]\n"
     ]
    },
    {
     "name": "stdout",
     "output_type": "stream",
     "text": [
      "Z plane: 22\n"
     ]
    },
    {
     "name": "stderr",
     "output_type": "stream",
     "text": [
      "100%|█████████████████████████████████████████| 40/40 [00:00<00:00, 3192.38it/s]\n",
      "100%|█████████████████████████████████████████| 40/40 [00:00<00:00, 5358.93it/s]\n"
     ]
    },
    {
     "name": "stdout",
     "output_type": "stream",
     "text": [
      "Z plane: 23\n"
     ]
    },
    {
     "name": "stderr",
     "output_type": "stream",
     "text": [
      "100%|█████████████████████████████████████████| 35/35 [00:00<00:00, 2461.32it/s]\n",
      "100%|█████████████████████████████████████████| 35/35 [00:00<00:00, 4490.55it/s]\n"
     ]
    },
    {
     "name": "stdout",
     "output_type": "stream",
     "text": [
      "Z plane: 24\n"
     ]
    },
    {
     "name": "stderr",
     "output_type": "stream",
     "text": [
      "100%|█████████████████████████████████████████| 35/35 [00:00<00:00, 3098.17it/s]\n",
      "100%|█████████████████████████████████████████| 35/35 [00:00<00:00, 7507.45it/s]\n"
     ]
    },
    {
     "name": "stdout",
     "output_type": "stream",
     "text": [
      "Z plane: 25\n"
     ]
    },
    {
     "name": "stderr",
     "output_type": "stream",
     "text": [
      "100%|█████████████████████████████████████████| 34/34 [00:00<00:00, 4525.46it/s]\n",
      "100%|█████████████████████████████████████████| 34/34 [00:00<00:00, 7839.82it/s]\n"
     ]
    },
    {
     "name": "stdout",
     "output_type": "stream",
     "text": [
      "Z plane: 26\n"
     ]
    },
    {
     "name": "stderr",
     "output_type": "stream",
     "text": [
      "100%|█████████████████████████████████████████| 35/35 [00:00<00:00, 2909.36it/s]\n",
      "100%|█████████████████████████████████████████| 35/35 [00:00<00:00, 7037.76it/s]\n"
     ]
    },
    {
     "name": "stdout",
     "output_type": "stream",
     "text": [
      "Z plane: 27\n"
     ]
    },
    {
     "name": "stderr",
     "output_type": "stream",
     "text": [
      "100%|█████████████████████████████████████████| 32/32 [00:00<00:00, 3164.54it/s]\n",
      "100%|█████████████████████████████████████████| 32/32 [00:00<00:00, 6881.90it/s]\n"
     ]
    },
    {
     "name": "stdout",
     "output_type": "stream",
     "text": [
      "Z plane: 28\n"
     ]
    },
    {
     "name": "stderr",
     "output_type": "stream",
     "text": [
      "100%|█████████████████████████████████████████| 29/29 [00:00<00:00, 2046.86it/s]\n",
      "100%|█████████████████████████████████████████| 29/29 [00:00<00:00, 3674.99it/s]\n"
     ]
    },
    {
     "name": "stdout",
     "output_type": "stream",
     "text": [
      "Z plane: 29\n"
     ]
    },
    {
     "name": "stderr",
     "output_type": "stream",
     "text": [
      "100%|█████████████████████████████████████████| 25/25 [00:00<00:00, 1923.85it/s]\n",
      "100%|█████████████████████████████████████████| 25/25 [00:00<00:00, 3698.81it/s]\n"
     ]
    },
    {
     "name": "stdout",
     "output_type": "stream",
     "text": [
      "Z plane: 30\n"
     ]
    },
    {
     "name": "stderr",
     "output_type": "stream",
     "text": [
      "100%|█████████████████████████████████████████| 19/19 [00:00<00:00, 1832.37it/s]\n",
      "100%|█████████████████████████████████████████| 19/19 [00:00<00:00, 2737.80it/s]\n"
     ]
    },
    {
     "name": "stdout",
     "output_type": "stream",
     "text": [
      "Z plane: 31\n"
     ]
    },
    {
     "name": "stderr",
     "output_type": "stream",
     "text": [
      "100%|█████████████████████████████████████████| 16/16 [00:00<00:00, 1417.68it/s]\n",
      "100%|█████████████████████████████████████████| 16/16 [00:00<00:00, 4063.02it/s]\n"
     ]
    },
    {
     "name": "stdout",
     "output_type": "stream",
     "text": [
      "Time point: 60\n",
      "Z plane: 0\n"
     ]
    },
    {
     "name": "stderr",
     "output_type": "stream",
     "text": [
      "100%|███████████████████████████████████████████| 3/3 [00:00<00:00, 2417.93it/s]\n",
      "100%|████████████████████████████████████████████| 3/3 [00:00<00:00, 828.70it/s]\n"
     ]
    },
    {
     "name": "stdout",
     "output_type": "stream",
     "text": [
      "Z plane: 1\n"
     ]
    },
    {
     "name": "stderr",
     "output_type": "stream",
     "text": [
      "100%|███████████████████████████████████████████| 3/3 [00:00<00:00, 1230.12it/s]\n",
      "100%|███████████████████████████████████████████| 3/3 [00:00<00:00, 1012.71it/s]\n"
     ]
    },
    {
     "name": "stdout",
     "output_type": "stream",
     "text": [
      "Z plane: 2\n"
     ]
    },
    {
     "name": "stderr",
     "output_type": "stream",
     "text": [
      "100%|███████████████████████████████████████████| 3/3 [00:00<00:00, 2415.15it/s]\n",
      "100%|████████████████████████████████████████████| 3/3 [00:00<00:00, 805.56it/s]\n"
     ]
    },
    {
     "name": "stdout",
     "output_type": "stream",
     "text": [
      "Z plane: 3\n"
     ]
    },
    {
     "name": "stderr",
     "output_type": "stream",
     "text": [
      "100%|███████████████████████████████████████████| 3/3 [00:00<00:00, 9091.70it/s]\n",
      "100%|███████████████████████████████████████████| 3/3 [00:00<00:00, 3233.02it/s]\n"
     ]
    },
    {
     "name": "stdout",
     "output_type": "stream",
     "text": [
      "Z plane: 4\n"
     ]
    },
    {
     "name": "stderr",
     "output_type": "stream",
     "text": [
      "100%|███████████████████████████████████████████| 3/3 [00:00<00:00, 1327.45it/s]\n",
      "100%|███████████████████████████████████████████| 3/3 [00:00<00:00, 1031.22it/s]\n"
     ]
    },
    {
     "name": "stdout",
     "output_type": "stream",
     "text": [
      "Z plane: 5\n"
     ]
    },
    {
     "name": "stderr",
     "output_type": "stream",
     "text": [
      "100%|███████████████████████████████████████████| 3/3 [00:00<00:00, 1356.79it/s]\n",
      "100%|███████████████████████████████████████████| 3/3 [00:00<00:00, 1121.07it/s]\n"
     ]
    },
    {
     "name": "stdout",
     "output_type": "stream",
     "text": [
      "Z plane: 6\n"
     ]
    },
    {
     "name": "stderr",
     "output_type": "stream",
     "text": [
      "100%|███████████████████████████████████████████| 4/4 [00:00<00:00, 1579.78it/s]\n",
      "100%|███████████████████████████████████████████| 4/4 [00:00<00:00, 4619.28it/s]\n"
     ]
    },
    {
     "name": "stdout",
     "output_type": "stream",
     "text": [
      "Z plane: 7\n"
     ]
    },
    {
     "name": "stderr",
     "output_type": "stream",
     "text": [
      "100%|███████████████████████████████████████████| 4/4 [00:00<00:00, 2623.08it/s]\n",
      "100%|███████████████████████████████████████████| 4/4 [00:00<00:00, 1241.84it/s]\n"
     ]
    },
    {
     "name": "stdout",
     "output_type": "stream",
     "text": [
      "Z plane: 8\n"
     ]
    },
    {
     "name": "stderr",
     "output_type": "stream",
     "text": [
      "100%|███████████████████████████████████████████| 6/6 [00:00<00:00, 1623.29it/s]\n",
      "100%|███████████████████████████████████████████| 6/6 [00:00<00:00, 2313.04it/s]\n"
     ]
    },
    {
     "name": "stdout",
     "output_type": "stream",
     "text": [
      "Z plane: 9\n"
     ]
    },
    {
     "name": "stderr",
     "output_type": "stream",
     "text": [
      "100%|███████████████████████████████████████████| 9/9 [00:00<00:00, 1810.14it/s]\n",
      "100%|███████████████████████████████████████████| 9/9 [00:00<00:00, 3222.26it/s]\n"
     ]
    },
    {
     "name": "stdout",
     "output_type": "stream",
     "text": [
      "Z plane: 10\n"
     ]
    },
    {
     "name": "stderr",
     "output_type": "stream",
     "text": [
      "100%|█████████████████████████████████████████| 10/10 [00:00<00:00, 2849.00it/s]\n",
      "100%|█████████████████████████████████████████| 10/10 [00:00<00:00, 2107.90it/s]\n"
     ]
    },
    {
     "name": "stdout",
     "output_type": "stream",
     "text": [
      "Z plane: 11\n"
     ]
    },
    {
     "name": "stderr",
     "output_type": "stream",
     "text": [
      "100%|█████████████████████████████████████████| 13/13 [00:00<00:00, 2882.53it/s]\n",
      "100%|█████████████████████████████████████████| 13/13 [00:00<00:00, 4792.23it/s]\n"
     ]
    },
    {
     "name": "stdout",
     "output_type": "stream",
     "text": [
      "Z plane: 12\n"
     ]
    },
    {
     "name": "stderr",
     "output_type": "stream",
     "text": [
      "100%|█████████████████████████████████████████| 18/18 [00:00<00:00, 2924.44it/s]\n",
      "100%|█████████████████████████████████████████| 18/18 [00:00<00:00, 5699.64it/s]\n"
     ]
    },
    {
     "name": "stdout",
     "output_type": "stream",
     "text": [
      "Z plane: 13\n"
     ]
    },
    {
     "name": "stderr",
     "output_type": "stream",
     "text": [
      "100%|█████████████████████████████████████████| 20/20 [00:00<00:00, 3498.31it/s]\n",
      "100%|█████████████████████████████████████████| 20/20 [00:00<00:00, 6963.81it/s]\n"
     ]
    },
    {
     "name": "stdout",
     "output_type": "stream",
     "text": [
      "Z plane: 14\n"
     ]
    },
    {
     "name": "stderr",
     "output_type": "stream",
     "text": [
      "100%|█████████████████████████████████████████| 21/21 [00:00<00:00, 3832.91it/s]\n",
      "100%|█████████████████████████████████████████| 21/21 [00:00<00:00, 6369.25it/s]\n"
     ]
    },
    {
     "name": "stdout",
     "output_type": "stream",
     "text": [
      "Z plane: 15\n"
     ]
    },
    {
     "name": "stderr",
     "output_type": "stream",
     "text": [
      "100%|█████████████████████████████████████████| 23/23 [00:00<00:00, 2991.29it/s]\n",
      "100%|█████████████████████████████████████████| 23/23 [00:00<00:00, 5566.59it/s]\n"
     ]
    },
    {
     "name": "stdout",
     "output_type": "stream",
     "text": [
      "Z plane: 16\n"
     ]
    },
    {
     "name": "stderr",
     "output_type": "stream",
     "text": [
      "100%|█████████████████████████████████████████| 24/24 [00:00<00:00, 2644.58it/s]\n",
      "100%|█████████████████████████████████████████| 24/24 [00:00<00:00, 5308.41it/s]\n"
     ]
    },
    {
     "name": "stdout",
     "output_type": "stream",
     "text": [
      "Z plane: 17\n"
     ]
    },
    {
     "name": "stderr",
     "output_type": "stream",
     "text": [
      "100%|█████████████████████████████████████████| 28/28 [00:00<00:00, 3236.26it/s]\n",
      "100%|█████████████████████████████████████████| 28/28 [00:00<00:00, 4293.67it/s]\n"
     ]
    },
    {
     "name": "stdout",
     "output_type": "stream",
     "text": [
      "Z plane: 18\n"
     ]
    },
    {
     "name": "stderr",
     "output_type": "stream",
     "text": [
      "100%|█████████████████████████████████████████| 32/32 [00:00<00:00, 5762.40it/s]\n",
      "100%|█████████████████████████████████████████| 30/30 [00:00<00:00, 6107.91it/s]\n"
     ]
    },
    {
     "name": "stdout",
     "output_type": "stream",
     "text": [
      "Z plane: 19\n"
     ]
    },
    {
     "name": "stderr",
     "output_type": "stream",
     "text": [
      "100%|█████████████████████████████████████████| 34/34 [00:00<00:00, 5401.14it/s]\n",
      "100%|█████████████████████████████████████████| 34/34 [00:00<00:00, 9064.15it/s]\n"
     ]
    },
    {
     "name": "stdout",
     "output_type": "stream",
     "text": [
      "Z plane: 20\n"
     ]
    },
    {
     "name": "stderr",
     "output_type": "stream",
     "text": [
      "100%|█████████████████████████████████████████| 36/36 [00:00<00:00, 3977.00it/s]\n",
      "100%|█████████████████████████████████████████| 35/35 [00:00<00:00, 7144.28it/s]\n"
     ]
    },
    {
     "name": "stdout",
     "output_type": "stream",
     "text": [
      "Z plane: 21\n"
     ]
    },
    {
     "name": "stderr",
     "output_type": "stream",
     "text": [
      "100%|█████████████████████████████████████████| 36/36 [00:00<00:00, 4877.41it/s]\n",
      "100%|█████████████████████████████████████████| 36/36 [00:00<00:00, 5771.32it/s]\n"
     ]
    },
    {
     "name": "stdout",
     "output_type": "stream",
     "text": [
      "Z plane: 22\n"
     ]
    },
    {
     "name": "stderr",
     "output_type": "stream",
     "text": [
      "100%|█████████████████████████████████████████| 36/36 [00:00<00:00, 4322.79it/s]\n",
      "100%|█████████████████████████████████████████| 36/36 [00:00<00:00, 4659.62it/s]\n"
     ]
    },
    {
     "name": "stdout",
     "output_type": "stream",
     "text": [
      "Z plane: 23\n"
     ]
    },
    {
     "name": "stderr",
     "output_type": "stream",
     "text": [
      "100%|█████████████████████████████████████████| 36/36 [00:00<00:00, 4871.43it/s]\n",
      "100%|█████████████████████████████████████████| 36/36 [00:00<00:00, 5764.71it/s]\n"
     ]
    },
    {
     "name": "stdout",
     "output_type": "stream",
     "text": [
      "Z plane: 24\n"
     ]
    },
    {
     "name": "stderr",
     "output_type": "stream",
     "text": [
      "100%|█████████████████████████████████████████| 37/37 [00:00<00:00, 3132.67it/s]\n",
      "100%|█████████████████████████████████████████| 36/36 [00:00<00:00, 5835.78it/s]\n"
     ]
    },
    {
     "name": "stdout",
     "output_type": "stream",
     "text": [
      "Z plane: 25\n"
     ]
    },
    {
     "name": "stderr",
     "output_type": "stream",
     "text": [
      "100%|█████████████████████████████████████████| 32/32 [00:00<00:00, 4076.47it/s]\n",
      "100%|█████████████████████████████████████████| 32/32 [00:00<00:00, 5512.25it/s]\n"
     ]
    },
    {
     "name": "stdout",
     "output_type": "stream",
     "text": [
      "Z plane: 26\n"
     ]
    },
    {
     "name": "stderr",
     "output_type": "stream",
     "text": [
      "100%|█████████████████████████████████████████| 33/33 [00:00<00:00, 4004.40it/s]\n",
      "100%|█████████████████████████████████████████| 33/33 [00:00<00:00, 6168.37it/s]\n"
     ]
    },
    {
     "name": "stdout",
     "output_type": "stream",
     "text": [
      "Z plane: 27\n"
     ]
    },
    {
     "name": "stderr",
     "output_type": "stream",
     "text": [
      "100%|█████████████████████████████████████████| 30/30 [00:00<00:00, 4048.17it/s]\n",
      "100%|█████████████████████████████████████████| 30/30 [00:00<00:00, 4862.21it/s]\n"
     ]
    },
    {
     "name": "stdout",
     "output_type": "stream",
     "text": [
      "Z plane: 28\n"
     ]
    },
    {
     "name": "stderr",
     "output_type": "stream",
     "text": [
      "100%|█████████████████████████████████████████| 27/27 [00:00<00:00, 3977.04it/s]\n",
      "100%|█████████████████████████████████████████| 27/27 [00:00<00:00, 5553.19it/s]\n"
     ]
    },
    {
     "name": "stdout",
     "output_type": "stream",
     "text": [
      "Z plane: 29\n"
     ]
    },
    {
     "name": "stderr",
     "output_type": "stream",
     "text": [
      "100%|█████████████████████████████████████████| 25/25 [00:00<00:00, 2487.61it/s]\n",
      "100%|█████████████████████████████████████████| 25/25 [00:00<00:00, 3433.23it/s]\n"
     ]
    },
    {
     "name": "stdout",
     "output_type": "stream",
     "text": [
      "Z plane: 30\n"
     ]
    },
    {
     "name": "stderr",
     "output_type": "stream",
     "text": [
      "100%|█████████████████████████████████████████| 21/21 [00:00<00:00, 2494.63it/s]\n",
      "100%|█████████████████████████████████████████| 21/21 [00:00<00:00, 3172.24it/s]\n"
     ]
    },
    {
     "name": "stdout",
     "output_type": "stream",
     "text": [
      "Z plane: 31\n"
     ]
    },
    {
     "name": "stderr",
     "output_type": "stream",
     "text": [
      "100%|█████████████████████████████████████████| 17/17 [00:00<00:00, 2314.44it/s]\n",
      "100%|█████████████████████████████████████████| 17/17 [00:00<00:00, 2995.05it/s]\n"
     ]
    },
    {
     "name": "stdout",
     "output_type": "stream",
     "text": [
      "Time point: 61\n",
      "Z plane: 0\n"
     ]
    },
    {
     "name": "stderr",
     "output_type": "stream",
     "text": [
      "100%|███████████████████████████████████████████| 3/3 [00:00<00:00, 1261.57it/s]\n",
      "100%|███████████████████████████████████████████| 3/3 [00:00<00:00, 1142.45it/s]\n"
     ]
    },
    {
     "name": "stdout",
     "output_type": "stream",
     "text": [
      "Z plane: 1\n"
     ]
    },
    {
     "name": "stderr",
     "output_type": "stream",
     "text": [
      "100%|███████████████████████████████████████████| 3/3 [00:00<00:00, 1034.86it/s]\n",
      "100%|███████████████████████████████████████████| 3/3 [00:00<00:00, 1095.31it/s]\n"
     ]
    },
    {
     "name": "stdout",
     "output_type": "stream",
     "text": [
      "Z plane: 2\n"
     ]
    },
    {
     "name": "stderr",
     "output_type": "stream",
     "text": [
      "100%|███████████████████████████████████████████| 3/3 [00:00<00:00, 1155.56it/s]\n",
      "100%|███████████████████████████████████████████| 3/3 [00:00<00:00, 1214.68it/s]\n"
     ]
    },
    {
     "name": "stdout",
     "output_type": "stream",
     "text": [
      "Z plane: 3\n"
     ]
    },
    {
     "name": "stderr",
     "output_type": "stream",
     "text": [
      "100%|███████████████████████████████████████████| 3/3 [00:00<00:00, 1344.18it/s]\n",
      "100%|████████████████████████████████████████████| 3/3 [00:00<00:00, 854.93it/s]\n"
     ]
    },
    {
     "name": "stdout",
     "output_type": "stream",
     "text": [
      "Z plane: 4\n"
     ]
    },
    {
     "name": "stderr",
     "output_type": "stream",
     "text": [
      "100%|███████████████████████████████████████████| 2/2 [00:00<00:00, 1043.36it/s]\n",
      "100%|████████████████████████████████████████████| 2/2 [00:00<00:00, 797.78it/s]\n"
     ]
    },
    {
     "name": "stdout",
     "output_type": "stream",
     "text": [
      "Z plane: 5\n"
     ]
    },
    {
     "name": "stderr",
     "output_type": "stream",
     "text": [
      "100%|███████████████████████████████████████████| 2/2 [00:00<00:00, 1011.77it/s]\n",
      "100%|████████████████████████████████████████████| 2/2 [00:00<00:00, 840.46it/s]\n"
     ]
    },
    {
     "name": "stdout",
     "output_type": "stream",
     "text": [
      "Z plane: 6\n"
     ]
    },
    {
     "name": "stderr",
     "output_type": "stream",
     "text": [
      "100%|████████████████████████████████████████████| 2/2 [00:00<00:00, 946.05it/s]\n",
      "100%|████████████████████████████████████████████| 2/2 [00:00<00:00, 870.73it/s]\n"
     ]
    },
    {
     "name": "stdout",
     "output_type": "stream",
     "text": [
      "Z plane: 7\n"
     ]
    },
    {
     "name": "stderr",
     "output_type": "stream",
     "text": [
      "100%|███████████████████████████████████████████| 3/3 [00:00<00:00, 2060.75it/s]\n",
      "100%|████████████████████████████████████████████| 3/3 [00:00<00:00, 960.60it/s]\n"
     ]
    },
    {
     "name": "stdout",
     "output_type": "stream",
     "text": [
      "Z plane: 8\n"
     ]
    },
    {
     "name": "stderr",
     "output_type": "stream",
     "text": [
      "100%|████████████████████████████████████████████| 5/5 [00:00<00:00, 983.52it/s]\n",
      "100%|███████████████████████████████████████████| 5/5 [00:00<00:00, 1146.30it/s]\n"
     ]
    },
    {
     "name": "stdout",
     "output_type": "stream",
     "text": [
      "Z plane: 9\n"
     ]
    },
    {
     "name": "stderr",
     "output_type": "stream",
     "text": [
      "100%|█████████████████████████████████████████| 10/10 [00:00<00:00, 1375.50it/s]\n",
      "100%|█████████████████████████████████████████| 10/10 [00:00<00:00, 2458.13it/s]\n"
     ]
    },
    {
     "name": "stdout",
     "output_type": "stream",
     "text": [
      "Z plane: 10\n"
     ]
    },
    {
     "name": "stderr",
     "output_type": "stream",
     "text": [
      "100%|███████████████████████████████████████████| 9/9 [00:00<00:00, 1234.75it/s]\n",
      "100%|███████████████████████████████████████████| 9/9 [00:00<00:00, 1911.23it/s]\n"
     ]
    },
    {
     "name": "stdout",
     "output_type": "stream",
     "text": [
      "Z plane: 11\n"
     ]
    },
    {
     "name": "stderr",
     "output_type": "stream",
     "text": [
      "100%|█████████████████████████████████████████| 13/13 [00:00<00:00, 2750.22it/s]\n",
      "100%|█████████████████████████████████████████| 13/13 [00:00<00:00, 2408.82it/s]\n"
     ]
    },
    {
     "name": "stdout",
     "output_type": "stream",
     "text": [
      "Z plane: 12\n"
     ]
    },
    {
     "name": "stderr",
     "output_type": "stream",
     "text": [
      "100%|█████████████████████████████████████████| 15/15 [00:00<00:00, 3874.05it/s]\n",
      "100%|█████████████████████████████████████████| 15/15 [00:00<00:00, 4450.98it/s]\n"
     ]
    },
    {
     "name": "stdout",
     "output_type": "stream",
     "text": [
      "Z plane: 13\n"
     ]
    },
    {
     "name": "stderr",
     "output_type": "stream",
     "text": [
      "100%|█████████████████████████████████████████| 19/19 [00:00<00:00, 2124.83it/s]\n",
      "100%|█████████████████████████████████████████| 19/19 [00:00<00:00, 5100.60it/s]\n"
     ]
    },
    {
     "name": "stdout",
     "output_type": "stream",
     "text": [
      "Z plane: 14\n"
     ]
    },
    {
     "name": "stderr",
     "output_type": "stream",
     "text": [
      "100%|█████████████████████████████████████████| 20/20 [00:00<00:00, 1947.22it/s]\n",
      "100%|█████████████████████████████████████████| 20/20 [00:00<00:00, 3104.13it/s]\n"
     ]
    },
    {
     "name": "stdout",
     "output_type": "stream",
     "text": [
      "Z plane: 15\n"
     ]
    },
    {
     "name": "stderr",
     "output_type": "stream",
     "text": [
      "100%|█████████████████████████████████████████| 22/22 [00:00<00:00, 2088.51it/s]\n",
      "100%|█████████████████████████████████████████| 21/21 [00:00<00:00, 6404.45it/s]\n"
     ]
    },
    {
     "name": "stdout",
     "output_type": "stream",
     "text": [
      "Z plane: 16\n"
     ]
    },
    {
     "name": "stderr",
     "output_type": "stream",
     "text": [
      "100%|█████████████████████████████████████████| 25/25 [00:00<00:00, 3107.90it/s]\n",
      "100%|█████████████████████████████████████████| 25/25 [00:00<00:00, 4656.41it/s]\n"
     ]
    },
    {
     "name": "stdout",
     "output_type": "stream",
     "text": [
      "Z plane: 17\n"
     ]
    },
    {
     "name": "stderr",
     "output_type": "stream",
     "text": [
      "100%|█████████████████████████████████████████| 27/27 [00:00<00:00, 5278.56it/s]\n",
      "100%|█████████████████████████████████████████| 27/27 [00:00<00:00, 5474.53it/s]\n"
     ]
    },
    {
     "name": "stdout",
     "output_type": "stream",
     "text": [
      "Z plane: 18\n"
     ]
    },
    {
     "name": "stderr",
     "output_type": "stream",
     "text": [
      "100%|█████████████████████████████████████████| 28/28 [00:00<00:00, 4673.51it/s]\n",
      "100%|█████████████████████████████████████████| 28/28 [00:00<00:00, 5928.34it/s]\n"
     ]
    },
    {
     "name": "stdout",
     "output_type": "stream",
     "text": [
      "Z plane: 19\n"
     ]
    },
    {
     "name": "stderr",
     "output_type": "stream",
     "text": [
      "100%|█████████████████████████████████████████| 31/31 [00:00<00:00, 3251.89it/s]\n",
      "100%|█████████████████████████████████████████| 31/31 [00:00<00:00, 8226.73it/s]\n"
     ]
    },
    {
     "name": "stdout",
     "output_type": "stream",
     "text": [
      "Z plane: 20\n"
     ]
    },
    {
     "name": "stderr",
     "output_type": "stream",
     "text": [
      "100%|█████████████████████████████████████████| 34/34 [00:00<00:00, 7881.42it/s]\n",
      "100%|█████████████████████████████████████████| 33/33 [00:00<00:00, 7737.27it/s]\n"
     ]
    },
    {
     "name": "stdout",
     "output_type": "stream",
     "text": [
      "Z plane: 21\n"
     ]
    },
    {
     "name": "stderr",
     "output_type": "stream",
     "text": [
      "100%|█████████████████████████████████████████| 29/29 [00:00<00:00, 3154.27it/s]\n",
      "100%|█████████████████████████████████████████| 29/29 [00:00<00:00, 6658.72it/s]\n"
     ]
    },
    {
     "name": "stdout",
     "output_type": "stream",
     "text": [
      "Z plane: 22\n"
     ]
    },
    {
     "name": "stderr",
     "output_type": "stream",
     "text": [
      "100%|█████████████████████████████████████████| 30/30 [00:00<00:00, 2710.72it/s]\n",
      "100%|█████████████████████████████████████████| 30/30 [00:00<00:00, 6182.95it/s]\n"
     ]
    },
    {
     "name": "stdout",
     "output_type": "stream",
     "text": [
      "Z plane: 23\n"
     ]
    },
    {
     "name": "stderr",
     "output_type": "stream",
     "text": [
      "100%|█████████████████████████████████████████| 34/34 [00:00<00:00, 4794.13it/s]\n",
      "100%|████████████████████████████████████████| 33/33 [00:00<00:00, 13348.64it/s]\n"
     ]
    },
    {
     "name": "stdout",
     "output_type": "stream",
     "text": [
      "Z plane: 24\n"
     ]
    },
    {
     "name": "stderr",
     "output_type": "stream",
     "text": [
      "100%|█████████████████████████████████████████| 38/38 [00:00<00:00, 3386.82it/s]\n",
      "100%|█████████████████████████████████████████| 37/37 [00:00<00:00, 7749.00it/s]\n"
     ]
    },
    {
     "name": "stdout",
     "output_type": "stream",
     "text": [
      "Z plane: 25\n"
     ]
    },
    {
     "name": "stderr",
     "output_type": "stream",
     "text": [
      "100%|█████████████████████████████████████████| 32/32 [00:00<00:00, 2843.23it/s]\n",
      "100%|█████████████████████████████████████████| 31/31 [00:00<00:00, 8882.59it/s]\n"
     ]
    },
    {
     "name": "stdout",
     "output_type": "stream",
     "text": [
      "Z plane: 26\n"
     ]
    },
    {
     "name": "stderr",
     "output_type": "stream",
     "text": [
      "100%|█████████████████████████████████████████| 35/35 [00:00<00:00, 2931.79it/s]\n",
      "100%|█████████████████████████████████████████| 35/35 [00:00<00:00, 7667.43it/s]\n"
     ]
    },
    {
     "name": "stdout",
     "output_type": "stream",
     "text": [
      "Z plane: 27\n"
     ]
    },
    {
     "name": "stderr",
     "output_type": "stream",
     "text": [
      "100%|█████████████████████████████████████████| 34/34 [00:00<00:00, 3900.82it/s]\n",
      "100%|█████████████████████████████████████████| 34/34 [00:00<00:00, 7133.88it/s]\n"
     ]
    },
    {
     "name": "stdout",
     "output_type": "stream",
     "text": [
      "Z plane: 28\n"
     ]
    },
    {
     "name": "stderr",
     "output_type": "stream",
     "text": [
      "100%|█████████████████████████████████████████| 32/32 [00:00<00:00, 9431.36it/s]\n",
      "100%|█████████████████████████████████████████| 32/32 [00:00<00:00, 5370.00it/s]\n"
     ]
    },
    {
     "name": "stdout",
     "output_type": "stream",
     "text": [
      "Z plane: 29\n"
     ]
    },
    {
     "name": "stderr",
     "output_type": "stream",
     "text": [
      "100%|█████████████████████████████████████████| 30/30 [00:00<00:00, 5391.83it/s]\n",
      "100%|█████████████████████████████████████████| 30/30 [00:00<00:00, 5171.56it/s]\n"
     ]
    },
    {
     "name": "stdout",
     "output_type": "stream",
     "text": [
      "Z plane: 30\n"
     ]
    },
    {
     "name": "stderr",
     "output_type": "stream",
     "text": [
      "100%|█████████████████████████████████████████| 20/20 [00:00<00:00, 2446.44it/s]\n",
      "100%|█████████████████████████████████████████| 20/20 [00:00<00:00, 3921.01it/s]\n"
     ]
    },
    {
     "name": "stdout",
     "output_type": "stream",
     "text": [
      "Z plane: 31\n"
     ]
    },
    {
     "name": "stderr",
     "output_type": "stream",
     "text": [
      "100%|█████████████████████████████████████████| 16/16 [00:00<00:00, 2895.37it/s]\n",
      "100%|█████████████████████████████████████████| 16/16 [00:00<00:00, 2545.28it/s]\n"
     ]
    },
    {
     "name": "stdout",
     "output_type": "stream",
     "text": [
      "Time point: 62\n",
      "Z plane: 0\n"
     ]
    },
    {
     "name": "stderr",
     "output_type": "stream",
     "text": [
      "100%|███████████████████████████████████████████| 3/3 [00:00<00:00, 1105.80it/s]\n",
      "100%|████████████████████████████████████████████| 3/3 [00:00<00:00, 832.37it/s]\n"
     ]
    },
    {
     "name": "stdout",
     "output_type": "stream",
     "text": [
      "Z plane: 1\n"
     ]
    },
    {
     "name": "stderr",
     "output_type": "stream",
     "text": [
      "100%|███████████████████████████████████████████| 3/3 [00:00<00:00, 1144.63it/s]\n",
      "100%|████████████████████████████████████████████| 3/3 [00:00<00:00, 964.95it/s]\n"
     ]
    },
    {
     "name": "stdout",
     "output_type": "stream",
     "text": [
      "Z plane: 2\n"
     ]
    },
    {
     "name": "stderr",
     "output_type": "stream",
     "text": [
      "100%|███████████████████████████████████████████| 3/3 [00:00<00:00, 1024.92it/s]\n",
      "100%|████████████████████████████████████████████| 3/3 [00:00<00:00, 996.67it/s]\n"
     ]
    },
    {
     "name": "stdout",
     "output_type": "stream",
     "text": [
      "Z plane: 3\n"
     ]
    },
    {
     "name": "stderr",
     "output_type": "stream",
     "text": [
      "100%|███████████████████████████████████████████| 3/3 [00:00<00:00, 1218.09it/s]\n",
      "100%|███████████████████████████████████████████| 3/3 [00:00<00:00, 1073.72it/s]\n"
     ]
    },
    {
     "name": "stdout",
     "output_type": "stream",
     "text": [
      "Z plane: 4\n"
     ]
    },
    {
     "name": "stderr",
     "output_type": "stream",
     "text": [
      "100%|███████████████████████████████████████████| 3/3 [00:00<00:00, 1058.63it/s]\n",
      "100%|███████████████████████████████████████████| 3/3 [00:00<00:00, 1545.05it/s]\n"
     ]
    },
    {
     "name": "stdout",
     "output_type": "stream",
     "text": [
      "Z plane: 5\n"
     ]
    },
    {
     "name": "stderr",
     "output_type": "stream",
     "text": [
      "100%|███████████████████████████████████████████| 3/3 [00:00<00:00, 1180.61it/s]\n",
      "100%|███████████████████████████████████████████| 3/3 [00:00<00:00, 1087.73it/s]\n"
     ]
    },
    {
     "name": "stdout",
     "output_type": "stream",
     "text": [
      "Z plane: 6\n"
     ]
    },
    {
     "name": "stderr",
     "output_type": "stream",
     "text": [
      "100%|███████████████████████████████████████████| 3/3 [00:00<00:00, 1072.16it/s]\n",
      "100%|████████████████████████████████████████████| 3/3 [00:00<00:00, 900.58it/s]\n"
     ]
    },
    {
     "name": "stdout",
     "output_type": "stream",
     "text": [
      "Z plane: 7\n"
     ]
    },
    {
     "name": "stderr",
     "output_type": "stream",
     "text": [
      "100%|███████████████████████████████████████████| 4/4 [00:00<00:00, 4024.28it/s]\n",
      "100%|███████████████████████████████████████████| 4/4 [00:00<00:00, 1409.49it/s]\n"
     ]
    },
    {
     "name": "stdout",
     "output_type": "stream",
     "text": [
      "Z plane: 8\n"
     ]
    },
    {
     "name": "stderr",
     "output_type": "stream",
     "text": [
      "100%|███████████████████████████████████████████| 5/5 [00:00<00:00, 1068.18it/s]\n",
      "100%|███████████████████████████████████████████| 5/5 [00:00<00:00, 1387.37it/s]\n"
     ]
    },
    {
     "name": "stdout",
     "output_type": "stream",
     "text": [
      "Z plane: 9\n"
     ]
    },
    {
     "name": "stderr",
     "output_type": "stream",
     "text": [
      "100%|████████████████████████████████████████████| 7/7 [00:00<00:00, 858.81it/s]\n",
      "100%|███████████████████████████████████████████| 7/7 [00:00<00:00, 2719.54it/s]\n"
     ]
    },
    {
     "name": "stdout",
     "output_type": "stream",
     "text": [
      "Z plane: 10\n"
     ]
    },
    {
     "name": "stderr",
     "output_type": "stream",
     "text": [
      "100%|█████████████████████████████████████████| 11/11 [00:00<00:00, 1638.11it/s]\n",
      "100%|█████████████████████████████████████████| 11/11 [00:00<00:00, 1504.32it/s]\n"
     ]
    },
    {
     "name": "stdout",
     "output_type": "stream",
     "text": [
      "Z plane: 11\n"
     ]
    },
    {
     "name": "stderr",
     "output_type": "stream",
     "text": [
      "100%|█████████████████████████████████████████| 11/11 [00:00<00:00, 2209.33it/s]\n",
      "100%|█████████████████████████████████████████| 11/11 [00:00<00:00, 2098.01it/s]\n"
     ]
    },
    {
     "name": "stdout",
     "output_type": "stream",
     "text": [
      "Z plane: 12\n"
     ]
    },
    {
     "name": "stderr",
     "output_type": "stream",
     "text": [
      "100%|█████████████████████████████████████████| 14/14 [00:00<00:00, 1868.94it/s]\n",
      "100%|█████████████████████████████████████████| 14/14 [00:00<00:00, 3531.62it/s]\n"
     ]
    },
    {
     "name": "stdout",
     "output_type": "stream",
     "text": [
      "Z plane: 13\n"
     ]
    },
    {
     "name": "stderr",
     "output_type": "stream",
     "text": [
      "100%|█████████████████████████████████████████| 18/18 [00:00<00:00, 1959.09it/s]\n",
      "100%|█████████████████████████████████████████| 18/18 [00:00<00:00, 3503.85it/s]\n"
     ]
    },
    {
     "name": "stdout",
     "output_type": "stream",
     "text": [
      "Z plane: 14\n"
     ]
    },
    {
     "name": "stderr",
     "output_type": "stream",
     "text": [
      "100%|█████████████████████████████████████████| 19/19 [00:00<00:00, 2057.57it/s]\n",
      "100%|█████████████████████████████████████████| 19/19 [00:00<00:00, 4250.45it/s]\n"
     ]
    },
    {
     "name": "stdout",
     "output_type": "stream",
     "text": [
      "Z plane: 15\n"
     ]
    },
    {
     "name": "stderr",
     "output_type": "stream",
     "text": [
      "100%|█████████████████████████████████████████| 23/23 [00:00<00:00, 2524.97it/s]\n",
      "100%|█████████████████████████████████████████| 22/22 [00:00<00:00, 5654.43it/s]\n"
     ]
    },
    {
     "name": "stdout",
     "output_type": "stream",
     "text": [
      "Z plane: 16\n"
     ]
    },
    {
     "name": "stderr",
     "output_type": "stream",
     "text": [
      "100%|█████████████████████████████████████████| 24/24 [00:00<00:00, 2259.61it/s]\n",
      "100%|█████████████████████████████████████████| 23/23 [00:00<00:00, 3365.51it/s]\n"
     ]
    },
    {
     "name": "stdout",
     "output_type": "stream",
     "text": [
      "Z plane: 17\n"
     ]
    },
    {
     "name": "stderr",
     "output_type": "stream",
     "text": [
      "100%|█████████████████████████████████████████| 26/26 [00:00<00:00, 2836.57it/s]\n",
      "100%|█████████████████████████████████████████| 26/26 [00:00<00:00, 3980.43it/s]\n"
     ]
    },
    {
     "name": "stdout",
     "output_type": "stream",
     "text": [
      "Z plane: 18\n"
     ]
    },
    {
     "name": "stderr",
     "output_type": "stream",
     "text": [
      "100%|█████████████████████████████████████████| 30/30 [00:00<00:00, 6766.10it/s]\n",
      "100%|█████████████████████████████████████████| 28/28 [00:00<00:00, 6454.90it/s]\n"
     ]
    },
    {
     "name": "stdout",
     "output_type": "stream",
     "text": [
      "Z plane: 19\n"
     ]
    },
    {
     "name": "stderr",
     "output_type": "stream",
     "text": [
      "100%|█████████████████████████████████████████| 32/32 [00:00<00:00, 3417.64it/s]\n",
      "100%|████████████████████████████████████████| 32/32 [00:00<00:00, 11551.57it/s]\n"
     ]
    },
    {
     "name": "stdout",
     "output_type": "stream",
     "text": [
      "Z plane: 20\n"
     ]
    },
    {
     "name": "stderr",
     "output_type": "stream",
     "text": [
      "100%|█████████████████████████████████████████| 33/33 [00:00<00:00, 4695.28it/s]\n",
      "100%|████████████████████████████████████████| 30/30 [00:00<00:00, 12107.10it/s]\n"
     ]
    },
    {
     "name": "stdout",
     "output_type": "stream",
     "text": [
      "Z plane: 21\n"
     ]
    },
    {
     "name": "stderr",
     "output_type": "stream",
     "text": [
      "100%|█████████████████████████████████████████| 29/29 [00:00<00:00, 2358.68it/s]\n",
      "100%|█████████████████████████████████████████| 29/29 [00:00<00:00, 4358.42it/s]\n"
     ]
    },
    {
     "name": "stdout",
     "output_type": "stream",
     "text": [
      "Z plane: 22\n"
     ]
    },
    {
     "name": "stderr",
     "output_type": "stream",
     "text": [
      "100%|█████████████████████████████████████████| 36/36 [00:00<00:00, 3269.21it/s]\n",
      "100%|█████████████████████████████████████████| 35/35 [00:00<00:00, 5674.77it/s]\n"
     ]
    },
    {
     "name": "stdout",
     "output_type": "stream",
     "text": [
      "Z plane: 23\n"
     ]
    },
    {
     "name": "stderr",
     "output_type": "stream",
     "text": [
      "100%|█████████████████████████████████████████| 30/30 [00:00<00:00, 2795.08it/s]\n",
      "100%|█████████████████████████████████████████| 30/30 [00:00<00:00, 7080.59it/s]\n"
     ]
    },
    {
     "name": "stdout",
     "output_type": "stream",
     "text": [
      "Z plane: 24\n"
     ]
    },
    {
     "name": "stderr",
     "output_type": "stream",
     "text": [
      "100%|█████████████████████████████████████████| 32/32 [00:00<00:00, 3231.67it/s]\n",
      "100%|█████████████████████████████████████████| 32/32 [00:00<00:00, 6707.53it/s]\n"
     ]
    },
    {
     "name": "stdout",
     "output_type": "stream",
     "text": [
      "Z plane: 25\n"
     ]
    },
    {
     "name": "stderr",
     "output_type": "stream",
     "text": [
      "100%|█████████████████████████████████████████| 31/31 [00:00<00:00, 3036.80it/s]\n",
      "100%|█████████████████████████████████████████| 31/31 [00:00<00:00, 4184.58it/s]\n"
     ]
    },
    {
     "name": "stdout",
     "output_type": "stream",
     "text": [
      "Z plane: 26\n"
     ]
    },
    {
     "name": "stderr",
     "output_type": "stream",
     "text": [
      "100%|█████████████████████████████████████████| 27/27 [00:00<00:00, 2276.58it/s]\n",
      "100%|█████████████████████████████████████████| 27/27 [00:00<00:00, 4233.34it/s]\n"
     ]
    },
    {
     "name": "stdout",
     "output_type": "stream",
     "text": [
      "Z plane: 27\n"
     ]
    },
    {
     "name": "stderr",
     "output_type": "stream",
     "text": [
      "100%|█████████████████████████████████████████| 30/30 [00:00<00:00, 3842.23it/s]\n",
      "100%|█████████████████████████████████████████| 30/30 [00:00<00:00, 5952.18it/s]\n"
     ]
    },
    {
     "name": "stdout",
     "output_type": "stream",
     "text": [
      "Z plane: 28\n"
     ]
    },
    {
     "name": "stderr",
     "output_type": "stream",
     "text": [
      "100%|█████████████████████████████████████████| 26/26 [00:00<00:00, 4945.66it/s]\n",
      "100%|█████████████████████████████████████████| 26/26 [00:00<00:00, 5300.73it/s]\n"
     ]
    },
    {
     "name": "stdout",
     "output_type": "stream",
     "text": [
      "Z plane: 29\n"
     ]
    },
    {
     "name": "stderr",
     "output_type": "stream",
     "text": [
      "100%|█████████████████████████████████████████| 27/27 [00:00<00:00, 3513.80it/s]\n",
      "100%|█████████████████████████████████████████| 27/27 [00:00<00:00, 4134.13it/s]\n"
     ]
    },
    {
     "name": "stdout",
     "output_type": "stream",
     "text": [
      "Z plane: 30\n"
     ]
    },
    {
     "name": "stderr",
     "output_type": "stream",
     "text": [
      "100%|█████████████████████████████████████████| 19/19 [00:00<00:00, 1429.78it/s]\n",
      "100%|█████████████████████████████████████████| 19/19 [00:00<00:00, 3373.63it/s]\n"
     ]
    },
    {
     "name": "stdout",
     "output_type": "stream",
     "text": [
      "Z plane: 31\n"
     ]
    },
    {
     "name": "stderr",
     "output_type": "stream",
     "text": [
      "100%|█████████████████████████████████████████| 14/14 [00:00<00:00, 1798.59it/s]\n",
      "100%|█████████████████████████████████████████| 14/14 [00:00<00:00, 2714.63it/s]\n"
     ]
    },
    {
     "name": "stdout",
     "output_type": "stream",
     "text": [
      "Time point: 63\n",
      "Z plane: 0\n"
     ]
    },
    {
     "name": "stderr",
     "output_type": "stream",
     "text": [
      "100%|███████████████████████████████████████████| 3/3 [00:00<00:00, 1506.94it/s]\n",
      "100%|███████████████████████████████████████████| 3/3 [00:00<00:00, 1082.96it/s]\n"
     ]
    },
    {
     "name": "stdout",
     "output_type": "stream",
     "text": [
      "Z plane: 1\n"
     ]
    },
    {
     "name": "stderr",
     "output_type": "stream",
     "text": [
      "100%|███████████████████████████████████████████| 3/3 [00:00<00:00, 1157.05it/s]\n",
      "100%|███████████████████████████████████████████| 3/3 [00:00<00:00, 1295.20it/s]\n"
     ]
    },
    {
     "name": "stdout",
     "output_type": "stream",
     "text": [
      "Z plane: 2\n"
     ]
    },
    {
     "name": "stderr",
     "output_type": "stream",
     "text": [
      "100%|███████████████████████████████████████████| 3/3 [00:00<00:00, 1461.94it/s]\n",
      "100%|███████████████████████████████████████████| 3/3 [00:00<00:00, 1376.84it/s]\n"
     ]
    },
    {
     "name": "stdout",
     "output_type": "stream",
     "text": [
      "Z plane: 3\n"
     ]
    },
    {
     "name": "stderr",
     "output_type": "stream",
     "text": [
      "100%|██████████████████████████████████████████| 3/3 [00:00<00:00, 12761.57it/s]\n",
      "100%|███████████████████████████████████████████| 3/3 [00:00<00:00, 6275.77it/s]\n"
     ]
    },
    {
     "name": "stdout",
     "output_type": "stream",
     "text": [
      "Z plane: 4\n"
     ]
    },
    {
     "name": "stderr",
     "output_type": "stream",
     "text": [
      "100%|███████████████████████████████████████████| 3/3 [00:00<00:00, 1298.28it/s]\n",
      "100%|███████████████████████████████████████████| 3/3 [00:00<00:00, 1135.03it/s]\n"
     ]
    },
    {
     "name": "stdout",
     "output_type": "stream",
     "text": [
      "Z plane: 5\n"
     ]
    },
    {
     "name": "stderr",
     "output_type": "stream",
     "text": [
      "100%|███████████████████████████████████████████| 3/3 [00:00<00:00, 2001.10it/s]\n",
      "100%|████████████████████████████████████████████| 3/3 [00:00<00:00, 909.04it/s]\n"
     ]
    },
    {
     "name": "stdout",
     "output_type": "stream",
     "text": [
      "Z plane: 6\n"
     ]
    },
    {
     "name": "stderr",
     "output_type": "stream",
     "text": [
      "100%|███████████████████████████████████████████| 3/3 [00:00<00:00, 2929.67it/s]\n",
      "100%|███████████████████████████████████████████| 3/3 [00:00<00:00, 1024.67it/s]\n"
     ]
    },
    {
     "name": "stdout",
     "output_type": "stream",
     "text": [
      "Z plane: 7\n"
     ]
    },
    {
     "name": "stderr",
     "output_type": "stream",
     "text": [
      "100%|███████████████████████████████████████████| 4/4 [00:00<00:00, 2261.08it/s]\n",
      "100%|███████████████████████████████████████████| 3/3 [00:00<00:00, 2793.72it/s]\n"
     ]
    },
    {
     "name": "stdout",
     "output_type": "stream",
     "text": [
      "Z plane: 8\n"
     ]
    },
    {
     "name": "stderr",
     "output_type": "stream",
     "text": [
      "100%|███████████████████████████████████████████| 7/7 [00:00<00:00, 1424.83it/s]\n",
      "100%|███████████████████████████████████████████| 6/6 [00:00<00:00, 2021.51it/s]\n"
     ]
    },
    {
     "name": "stdout",
     "output_type": "stream",
     "text": [
      "Z plane: 9\n"
     ]
    },
    {
     "name": "stderr",
     "output_type": "stream",
     "text": [
      "100%|███████████████████████████████████████████| 7/7 [00:00<00:00, 1726.25it/s]\n",
      "100%|███████████████████████████████████████████| 7/7 [00:00<00:00, 1715.66it/s]\n"
     ]
    },
    {
     "name": "stdout",
     "output_type": "stream",
     "text": [
      "Z plane: 10\n"
     ]
    },
    {
     "name": "stderr",
     "output_type": "stream",
     "text": [
      "100%|███████████████████████████████████████████| 9/9 [00:00<00:00, 1400.96it/s]\n",
      "100%|███████████████████████████████████████████| 9/9 [00:00<00:00, 2247.22it/s]\n"
     ]
    },
    {
     "name": "stdout",
     "output_type": "stream",
     "text": [
      "Z plane: 11\n"
     ]
    },
    {
     "name": "stderr",
     "output_type": "stream",
     "text": [
      "100%|█████████████████████████████████████████| 13/13 [00:00<00:00, 3850.70it/s]\n",
      "100%|█████████████████████████████████████████| 13/13 [00:00<00:00, 2669.83it/s]\n"
     ]
    },
    {
     "name": "stdout",
     "output_type": "stream",
     "text": [
      "Z plane: 12\n"
     ]
    },
    {
     "name": "stderr",
     "output_type": "stream",
     "text": [
      "100%|█████████████████████████████████████████| 15/15 [00:00<00:00, 3399.68it/s]\n",
      "100%|█████████████████████████████████████████| 15/15 [00:00<00:00, 6237.19it/s]\n"
     ]
    },
    {
     "name": "stdout",
     "output_type": "stream",
     "text": [
      "Z plane: 13\n"
     ]
    },
    {
     "name": "stderr",
     "output_type": "stream",
     "text": [
      "100%|█████████████████████████████████████████| 18/18 [00:00<00:00, 2765.88it/s]\n",
      "100%|█████████████████████████████████████████| 18/18 [00:00<00:00, 3469.55it/s]\n"
     ]
    },
    {
     "name": "stdout",
     "output_type": "stream",
     "text": [
      "Z plane: 14\n"
     ]
    },
    {
     "name": "stderr",
     "output_type": "stream",
     "text": [
      "100%|█████████████████████████████████████████| 18/18 [00:00<00:00, 2523.14it/s]\n",
      "100%|█████████████████████████████████████████| 18/18 [00:00<00:00, 4995.86it/s]\n"
     ]
    },
    {
     "name": "stdout",
     "output_type": "stream",
     "text": [
      "Z plane: 15\n"
     ]
    },
    {
     "name": "stderr",
     "output_type": "stream",
     "text": [
      "100%|█████████████████████████████████████████| 22/22 [00:00<00:00, 4704.77it/s]\n",
      "100%|█████████████████████████████████████████| 22/22 [00:00<00:00, 4793.99it/s]\n"
     ]
    },
    {
     "name": "stdout",
     "output_type": "stream",
     "text": [
      "Z plane: 16\n"
     ]
    },
    {
     "name": "stderr",
     "output_type": "stream",
     "text": [
      "100%|█████████████████████████████████████████| 23/23 [00:00<00:00, 2710.34it/s]\n",
      "100%|█████████████████████████████████████████| 23/23 [00:00<00:00, 3350.20it/s]\n"
     ]
    },
    {
     "name": "stdout",
     "output_type": "stream",
     "text": [
      "Z plane: 17\n"
     ]
    },
    {
     "name": "stderr",
     "output_type": "stream",
     "text": [
      "100%|█████████████████████████████████████████| 25/25 [00:00<00:00, 2896.54it/s]\n",
      "100%|█████████████████████████████████████████| 25/25 [00:00<00:00, 3579.12it/s]\n"
     ]
    },
    {
     "name": "stdout",
     "output_type": "stream",
     "text": [
      "Z plane: 18\n"
     ]
    },
    {
     "name": "stderr",
     "output_type": "stream",
     "text": [
      "100%|█████████████████████████████████████████| 29/29 [00:00<00:00, 5466.49it/s]\n",
      "100%|█████████████████████████████████████████| 28/28 [00:00<00:00, 6532.82it/s]\n"
     ]
    },
    {
     "name": "stdout",
     "output_type": "stream",
     "text": [
      "Z plane: 19\n"
     ]
    },
    {
     "name": "stderr",
     "output_type": "stream",
     "text": [
      "100%|█████████████████████████████████████████| 28/28 [00:00<00:00, 8469.67it/s]\n",
      "100%|████████████████████████████████████████| 27/27 [00:00<00:00, 16554.04it/s]\n"
     ]
    },
    {
     "name": "stdout",
     "output_type": "stream",
     "text": [
      "Z plane: 20\n"
     ]
    },
    {
     "name": "stderr",
     "output_type": "stream",
     "text": [
      "100%|█████████████████████████████████████████| 32/32 [00:00<00:00, 3677.80it/s]\n",
      "100%|█████████████████████████████████████████| 32/32 [00:00<00:00, 5192.38it/s]\n"
     ]
    },
    {
     "name": "stdout",
     "output_type": "stream",
     "text": [
      "Z plane: 21\n"
     ]
    },
    {
     "name": "stderr",
     "output_type": "stream",
     "text": [
      "100%|█████████████████████████████████████████| 32/32 [00:00<00:00, 2807.73it/s]\n",
      "100%|█████████████████████████████████████████| 32/32 [00:00<00:00, 4687.36it/s]\n"
     ]
    },
    {
     "name": "stdout",
     "output_type": "stream",
     "text": [
      "Z plane: 22\n"
     ]
    },
    {
     "name": "stderr",
     "output_type": "stream",
     "text": [
      "100%|█████████████████████████████████████████| 35/35 [00:00<00:00, 4275.54it/s]\n",
      "100%|█████████████████████████████████████████| 34/34 [00:00<00:00, 5640.40it/s]\n"
     ]
    },
    {
     "name": "stdout",
     "output_type": "stream",
     "text": [
      "Z plane: 23\n"
     ]
    },
    {
     "name": "stderr",
     "output_type": "stream",
     "text": [
      "100%|█████████████████████████████████████████| 35/35 [00:00<00:00, 4106.43it/s]\n",
      "100%|█████████████████████████████████████████| 33/33 [00:00<00:00, 5565.65it/s]\n"
     ]
    },
    {
     "name": "stdout",
     "output_type": "stream",
     "text": [
      "Z plane: 24\n"
     ]
    },
    {
     "name": "stderr",
     "output_type": "stream",
     "text": [
      "100%|█████████████████████████████████████████| 34/34 [00:00<00:00, 3348.43it/s]\n",
      "100%|█████████████████████████████████████████| 34/34 [00:00<00:00, 4436.90it/s]\n"
     ]
    },
    {
     "name": "stdout",
     "output_type": "stream",
     "text": [
      "Z plane: 25\n"
     ]
    },
    {
     "name": "stderr",
     "output_type": "stream",
     "text": [
      "100%|█████████████████████████████████████████| 32/32 [00:00<00:00, 2206.00it/s]\n",
      "100%|█████████████████████████████████████████| 31/31 [00:00<00:00, 5140.08it/s]\n"
     ]
    },
    {
     "name": "stdout",
     "output_type": "stream",
     "text": [
      "Z plane: 26\n"
     ]
    },
    {
     "name": "stderr",
     "output_type": "stream",
     "text": [
      "100%|█████████████████████████████████████████| 32/32 [00:00<00:00, 2300.81it/s]\n",
      "100%|█████████████████████████████████████████| 32/32 [00:00<00:00, 5104.50it/s]\n"
     ]
    },
    {
     "name": "stdout",
     "output_type": "stream",
     "text": [
      "Z plane: 27\n"
     ]
    },
    {
     "name": "stderr",
     "output_type": "stream",
     "text": [
      "100%|█████████████████████████████████████████| 34/34 [00:00<00:00, 3931.58it/s]\n",
      "100%|█████████████████████████████████████████| 34/34 [00:00<00:00, 8631.82it/s]\n"
     ]
    },
    {
     "name": "stdout",
     "output_type": "stream",
     "text": [
      "Z plane: 28\n"
     ]
    },
    {
     "name": "stderr",
     "output_type": "stream",
     "text": [
      "100%|████████████████████████████████████████| 32/32 [00:00<00:00, 11510.95it/s]\n",
      "100%|████████████████████████████████████████| 32/32 [00:00<00:00, 12865.96it/s]\n"
     ]
    },
    {
     "name": "stdout",
     "output_type": "stream",
     "text": [
      "Z plane: 29\n"
     ]
    },
    {
     "name": "stderr",
     "output_type": "stream",
     "text": [
      "100%|█████████████████████████████████████████| 26/26 [00:00<00:00, 2922.70it/s]\n",
      "100%|█████████████████████████████████████████| 26/26 [00:00<00:00, 4458.19it/s]\n"
     ]
    },
    {
     "name": "stdout",
     "output_type": "stream",
     "text": [
      "Z plane: 30\n"
     ]
    },
    {
     "name": "stderr",
     "output_type": "stream",
     "text": [
      "100%|█████████████████████████████████████████| 22/22 [00:00<00:00, 2407.00it/s]\n",
      "100%|█████████████████████████████████████████| 22/22 [00:00<00:00, 2852.30it/s]\n"
     ]
    },
    {
     "name": "stdout",
     "output_type": "stream",
     "text": [
      "Z plane: 31\n"
     ]
    },
    {
     "name": "stderr",
     "output_type": "stream",
     "text": [
      "100%|█████████████████████████████████████████| 16/16 [00:00<00:00, 2198.70it/s]\n",
      "100%|█████████████████████████████████████████| 16/16 [00:00<00:00, 2747.21it/s]\n"
     ]
    },
    {
     "name": "stdout",
     "output_type": "stream",
     "text": [
      "Time point: 64\n",
      "Z plane: 0\n"
     ]
    },
    {
     "name": "stderr",
     "output_type": "stream",
     "text": [
      "100%|███████████████████████████████████████████| 2/2 [00:00<00:00, 2611.65it/s]\n",
      "100%|████████████████████████████████████████████| 2/2 [00:00<00:00, 672.27it/s]\n"
     ]
    },
    {
     "name": "stdout",
     "output_type": "stream",
     "text": [
      "Z plane: 1\n"
     ]
    },
    {
     "name": "stderr",
     "output_type": "stream",
     "text": [
      "100%|████████████████████████████████████████████| 2/2 [00:00<00:00, 782.74it/s]\n",
      "100%|████████████████████████████████████████████| 2/2 [00:00<00:00, 503.28it/s]\n"
     ]
    },
    {
     "name": "stdout",
     "output_type": "stream",
     "text": [
      "Z plane: 2\n"
     ]
    },
    {
     "name": "stderr",
     "output_type": "stream",
     "text": [
      "100%|███████████████████████████████████████████| 2/2 [00:00<00:00, 1071.21it/s]\n",
      "100%|███████████████████████████████████████████| 2/2 [00:00<00:00, 1731.75it/s]\n"
     ]
    },
    {
     "name": "stdout",
     "output_type": "stream",
     "text": [
      "Z plane: 3\n"
     ]
    },
    {
     "name": "stderr",
     "output_type": "stream",
     "text": [
      "100%|███████████████████████████████████████████| 2/2 [00:00<00:00, 1281.88it/s]\n",
      "100%|███████████████████████████████████████████| 2/2 [00:00<00:00, 2137.22it/s]\n"
     ]
    },
    {
     "name": "stdout",
     "output_type": "stream",
     "text": [
      "Z plane: 4\n"
     ]
    },
    {
     "name": "stderr",
     "output_type": "stream",
     "text": [
      "100%|███████████████████████████████████████████| 2/2 [00:00<00:00, 1533.57it/s]\n",
      "100%|████████████████████████████████████████████| 2/2 [00:00<00:00, 846.39it/s]\n"
     ]
    },
    {
     "name": "stdout",
     "output_type": "stream",
     "text": [
      "Z plane: 5\n"
     ]
    },
    {
     "name": "stderr",
     "output_type": "stream",
     "text": [
      "100%|███████████████████████████████████████████| 3/3 [00:00<00:00, 1348.22it/s]\n",
      "100%|███████████████████████████████████████████| 3/3 [00:00<00:00, 1643.75it/s]\n"
     ]
    },
    {
     "name": "stdout",
     "output_type": "stream",
     "text": [
      "Z plane: 6\n"
     ]
    },
    {
     "name": "stderr",
     "output_type": "stream",
     "text": [
      "100%|████████████████████████████████████████████| 2/2 [00:00<00:00, 859.84it/s]\n",
      "100%|████████████████████████████████████████████| 2/2 [00:00<00:00, 818.32it/s]\n"
     ]
    },
    {
     "name": "stdout",
     "output_type": "stream",
     "text": [
      "Z plane: 7\n"
     ]
    },
    {
     "name": "stderr",
     "output_type": "stream",
     "text": [
      "100%|████████████████████████████████████████████| 3/3 [00:00<00:00, 931.10it/s]\n",
      "100%|████████████████████████████████████████████| 3/3 [00:00<00:00, 833.08it/s]\n"
     ]
    },
    {
     "name": "stdout",
     "output_type": "stream",
     "text": [
      "Z plane: 8\n"
     ]
    },
    {
     "name": "stderr",
     "output_type": "stream",
     "text": [
      "100%|███████████████████████████████████████████| 5/5 [00:00<00:00, 2059.87it/s]\n",
      "100%|███████████████████████████████████████████| 5/5 [00:00<00:00, 1698.37it/s]\n"
     ]
    },
    {
     "name": "stdout",
     "output_type": "stream",
     "text": [
      "Z plane: 9\n"
     ]
    },
    {
     "name": "stderr",
     "output_type": "stream",
     "text": [
      "100%|███████████████████████████████████████████| 6/6 [00:00<00:00, 1282.60it/s]\n",
      "100%|████████████████████████████████████████████| 6/6 [00:00<00:00, 994.38it/s]\n"
     ]
    },
    {
     "name": "stdout",
     "output_type": "stream",
     "text": [
      "Z plane: 10\n"
     ]
    },
    {
     "name": "stderr",
     "output_type": "stream",
     "text": [
      "100%|███████████████████████████████████████████| 9/9 [00:00<00:00, 6228.14it/s]\n",
      "100%|███████████████████████████████████████████| 9/9 [00:00<00:00, 1740.46it/s]\n"
     ]
    },
    {
     "name": "stdout",
     "output_type": "stream",
     "text": [
      "Z plane: 11\n"
     ]
    },
    {
     "name": "stderr",
     "output_type": "stream",
     "text": [
      "100%|█████████████████████████████████████████| 11/11 [00:00<00:00, 4258.96it/s]\n",
      "100%|█████████████████████████████████████████| 11/11 [00:00<00:00, 4180.62it/s]\n"
     ]
    },
    {
     "name": "stdout",
     "output_type": "stream",
     "text": [
      "Z plane: 12\n"
     ]
    },
    {
     "name": "stderr",
     "output_type": "stream",
     "text": [
      "100%|█████████████████████████████████████████| 13/13 [00:00<00:00, 3134.04it/s]\n",
      "100%|█████████████████████████████████████████| 13/13 [00:00<00:00, 6310.87it/s]\n"
     ]
    },
    {
     "name": "stdout",
     "output_type": "stream",
     "text": [
      "Z plane: 13\n"
     ]
    },
    {
     "name": "stderr",
     "output_type": "stream",
     "text": [
      "100%|█████████████████████████████████████████| 16/16 [00:00<00:00, 2484.41it/s]\n",
      "100%|█████████████████████████████████████████| 16/16 [00:00<00:00, 3546.98it/s]\n"
     ]
    },
    {
     "name": "stdout",
     "output_type": "stream",
     "text": [
      "Z plane: 14\n"
     ]
    },
    {
     "name": "stderr",
     "output_type": "stream",
     "text": [
      "100%|█████████████████████████████████████████| 18/18 [00:00<00:00, 3459.70it/s]\n",
      "100%|█████████████████████████████████████████| 18/18 [00:00<00:00, 2818.23it/s]\n"
     ]
    },
    {
     "name": "stdout",
     "output_type": "stream",
     "text": [
      "Z plane: 15\n"
     ]
    },
    {
     "name": "stderr",
     "output_type": "stream",
     "text": [
      "100%|█████████████████████████████████████████| 20/20 [00:00<00:00, 2737.08it/s]\n",
      "100%|█████████████████████████████████████████| 20/20 [00:00<00:00, 4701.08it/s]\n"
     ]
    },
    {
     "name": "stdout",
     "output_type": "stream",
     "text": [
      "Z plane: 16\n"
     ]
    },
    {
     "name": "stderr",
     "output_type": "stream",
     "text": [
      "100%|█████████████████████████████████████████| 20/20 [00:00<00:00, 1853.34it/s]\n",
      "100%|█████████████████████████████████████████| 20/20 [00:00<00:00, 5497.48it/s]\n"
     ]
    },
    {
     "name": "stdout",
     "output_type": "stream",
     "text": [
      "Z plane: 17\n"
     ]
    },
    {
     "name": "stderr",
     "output_type": "stream",
     "text": [
      "100%|█████████████████████████████████████████| 22/22 [00:00<00:00, 2464.93it/s]\n",
      "100%|█████████████████████████████████████████| 21/21 [00:00<00:00, 3742.69it/s]\n"
     ]
    },
    {
     "name": "stdout",
     "output_type": "stream",
     "text": [
      "Z plane: 18\n"
     ]
    },
    {
     "name": "stderr",
     "output_type": "stream",
     "text": [
      "100%|█████████████████████████████████████████| 27/27 [00:00<00:00, 4620.97it/s]\n",
      "100%|█████████████████████████████████████████| 26/26 [00:00<00:00, 3619.26it/s]\n"
     ]
    },
    {
     "name": "stdout",
     "output_type": "stream",
     "text": [
      "Z plane: 19\n"
     ]
    },
    {
     "name": "stderr",
     "output_type": "stream",
     "text": [
      "100%|█████████████████████████████████████████| 31/31 [00:00<00:00, 2575.13it/s]\n",
      "100%|█████████████████████████████████████████| 29/29 [00:00<00:00, 3515.97it/s]\n"
     ]
    },
    {
     "name": "stdout",
     "output_type": "stream",
     "text": [
      "Z plane: 20\n"
     ]
    },
    {
     "name": "stderr",
     "output_type": "stream",
     "text": [
      "100%|█████████████████████████████████████████| 31/31 [00:00<00:00, 4588.47it/s]\n",
      "100%|████████████████████████████████████████| 31/31 [00:00<00:00, 13990.04it/s]\n"
     ]
    },
    {
     "name": "stdout",
     "output_type": "stream",
     "text": [
      "Z plane: 21\n"
     ]
    },
    {
     "name": "stderr",
     "output_type": "stream",
     "text": [
      "100%|█████████████████████████████████████████| 31/31 [00:00<00:00, 2956.02it/s]\n",
      "100%|█████████████████████████████████████████| 31/31 [00:00<00:00, 5395.16it/s]\n"
     ]
    },
    {
     "name": "stdout",
     "output_type": "stream",
     "text": [
      "Z plane: 22\n"
     ]
    },
    {
     "name": "stderr",
     "output_type": "stream",
     "text": [
      "100%|█████████████████████████████████████████| 33/33 [00:00<00:00, 3070.84it/s]\n",
      "100%|█████████████████████████████████████████| 32/32 [00:00<00:00, 6372.81it/s]\n"
     ]
    },
    {
     "name": "stdout",
     "output_type": "stream",
     "text": [
      "Z plane: 23\n"
     ]
    },
    {
     "name": "stderr",
     "output_type": "stream",
     "text": [
      "100%|█████████████████████████████████████████| 34/34 [00:00<00:00, 3307.43it/s]\n",
      "100%|█████████████████████████████████████████| 34/34 [00:00<00:00, 4953.33it/s]\n"
     ]
    },
    {
     "name": "stdout",
     "output_type": "stream",
     "text": [
      "Z plane: 24\n"
     ]
    },
    {
     "name": "stderr",
     "output_type": "stream",
     "text": [
      "100%|█████████████████████████████████████████| 35/35 [00:00<00:00, 3351.00it/s]\n",
      "100%|█████████████████████████████████████████| 34/34 [00:00<00:00, 5333.27it/s]\n"
     ]
    },
    {
     "name": "stdout",
     "output_type": "stream",
     "text": [
      "Z plane: 25\n"
     ]
    },
    {
     "name": "stderr",
     "output_type": "stream",
     "text": [
      "100%|█████████████████████████████████████████| 31/31 [00:00<00:00, 3380.92it/s]\n",
      "100%|█████████████████████████████████████████| 31/31 [00:00<00:00, 6252.33it/s]\n"
     ]
    },
    {
     "name": "stdout",
     "output_type": "stream",
     "text": [
      "Z plane: 26\n"
     ]
    },
    {
     "name": "stderr",
     "output_type": "stream",
     "text": [
      "100%|█████████████████████████████████████████| 32/32 [00:00<00:00, 4456.69it/s]\n",
      "100%|█████████████████████████████████████████| 32/32 [00:00<00:00, 7677.92it/s]\n"
     ]
    },
    {
     "name": "stdout",
     "output_type": "stream",
     "text": [
      "Z plane: 27\n"
     ]
    },
    {
     "name": "stderr",
     "output_type": "stream",
     "text": [
      "100%|█████████████████████████████████████████| 30/30 [00:00<00:00, 4475.04it/s]\n",
      "100%|█████████████████████████████████████████| 30/30 [00:00<00:00, 6732.43it/s]\n"
     ]
    },
    {
     "name": "stdout",
     "output_type": "stream",
     "text": [
      "Z plane: 28\n"
     ]
    },
    {
     "name": "stderr",
     "output_type": "stream",
     "text": [
      "100%|█████████████████████████████████████████| 31/31 [00:00<00:00, 3369.62it/s]\n",
      "100%|█████████████████████████████████████████| 31/31 [00:00<00:00, 4899.70it/s]\n"
     ]
    },
    {
     "name": "stdout",
     "output_type": "stream",
     "text": [
      "Z plane: 29\n"
     ]
    },
    {
     "name": "stderr",
     "output_type": "stream",
     "text": [
      "100%|█████████████████████████████████████████| 22/22 [00:00<00:00, 2579.74it/s]\n",
      "100%|█████████████████████████████████████████| 22/22 [00:00<00:00, 4160.27it/s]\n"
     ]
    },
    {
     "name": "stdout",
     "output_type": "stream",
     "text": [
      "Z plane: 30\n"
     ]
    },
    {
     "name": "stderr",
     "output_type": "stream",
     "text": [
      "100%|█████████████████████████████████████████| 22/22 [00:00<00:00, 2463.81it/s]\n",
      "100%|█████████████████████████████████████████| 22/22 [00:00<00:00, 4317.95it/s]\n"
     ]
    },
    {
     "name": "stdout",
     "output_type": "stream",
     "text": [
      "Z plane: 31\n"
     ]
    },
    {
     "name": "stderr",
     "output_type": "stream",
     "text": [
      "100%|█████████████████████████████████████████| 15/15 [00:00<00:00, 1735.91it/s]\n",
      "100%|█████████████████████████████████████████| 15/15 [00:00<00:00, 3026.78it/s]\n"
     ]
    },
    {
     "name": "stdout",
     "output_type": "stream",
     "text": [
      "Time point: 65\n",
      "Z plane: 0\n"
     ]
    },
    {
     "name": "stderr",
     "output_type": "stream",
     "text": [
      "100%|███████████████████████████████████████████| 2/2 [00:00<00:00, 2347.78it/s]\n",
      "100%|████████████████████████████████████████████| 2/2 [00:00<00:00, 873.36it/s]\n"
     ]
    },
    {
     "name": "stdout",
     "output_type": "stream",
     "text": [
      "Z plane: 1\n"
     ]
    },
    {
     "name": "stderr",
     "output_type": "stream",
     "text": [
      "100%|████████████████████████████████████████████| 2/2 [00:00<00:00, 698.82it/s]\n",
      "100%|████████████████████████████████████████████| 2/2 [00:00<00:00, 825.73it/s]\n"
     ]
    },
    {
     "name": "stdout",
     "output_type": "stream",
     "text": [
      "Z plane: 2\n"
     ]
    },
    {
     "name": "stderr",
     "output_type": "stream",
     "text": [
      "100%|███████████████████████████████████████████| 2/2 [00:00<00:00, 1030.41it/s]\n",
      "100%|████████████████████████████████████████████| 2/2 [00:00<00:00, 659.17it/s]\n"
     ]
    },
    {
     "name": "stdout",
     "output_type": "stream",
     "text": [
      "Z plane: 3\n"
     ]
    },
    {
     "name": "stderr",
     "output_type": "stream",
     "text": [
      "100%|██████████████████████████████████████████| 2/2 [00:00<00:00, 17734.90it/s]\n",
      "100%|███████████████████████████████████████████| 2/2 [00:00<00:00, 1558.64it/s]\n"
     ]
    },
    {
     "name": "stdout",
     "output_type": "stream",
     "text": [
      "Z plane: 4\n"
     ]
    },
    {
     "name": "stderr",
     "output_type": "stream",
     "text": [
      "100%|███████████████████████████████████████████| 2/2 [00:00<00:00, 9351.85it/s]\n",
      "100%|███████████████████████████████████████████| 2/2 [00:00<00:00, 4785.29it/s]\n"
     ]
    },
    {
     "name": "stdout",
     "output_type": "stream",
     "text": [
      "Z plane: 5\n"
     ]
    },
    {
     "name": "stderr",
     "output_type": "stream",
     "text": [
      "100%|████████████████████████████████████████████| 2/2 [00:00<00:00, 877.10it/s]\n",
      "100%|████████████████████████████████████████████| 2/2 [00:00<00:00, 704.98it/s]\n"
     ]
    },
    {
     "name": "stdout",
     "output_type": "stream",
     "text": [
      "Z plane: 6\n"
     ]
    },
    {
     "name": "stderr",
     "output_type": "stream",
     "text": [
      "100%|███████████████████████████████████████████| 3/3 [00:00<00:00, 1413.18it/s]\n",
      "100%|███████████████████████████████████████████| 3/3 [00:00<00:00, 1379.10it/s]\n"
     ]
    },
    {
     "name": "stdout",
     "output_type": "stream",
     "text": [
      "Z plane: 7\n"
     ]
    },
    {
     "name": "stderr",
     "output_type": "stream",
     "text": [
      "100%|████████████████████████████████████████████| 2/2 [00:00<00:00, 923.65it/s]\n",
      "100%|████████████████████████████████████████████| 2/2 [00:00<00:00, 631.53it/s]\n"
     ]
    },
    {
     "name": "stdout",
     "output_type": "stream",
     "text": [
      "Z plane: 8\n"
     ]
    },
    {
     "name": "stderr",
     "output_type": "stream",
     "text": [
      "100%|███████████████████████████████████████████| 4/4 [00:00<00:00, 1554.60it/s]\n",
      "100%|███████████████████████████████████████████| 4/4 [00:00<00:00, 1138.60it/s]\n"
     ]
    },
    {
     "name": "stdout",
     "output_type": "stream",
     "text": [
      "Z plane: 9\n"
     ]
    },
    {
     "name": "stderr",
     "output_type": "stream",
     "text": [
      "100%|███████████████████████████████████████████| 6/6 [00:00<00:00, 1464.92it/s]\n",
      "100%|████████████████████████████████████████████| 6/6 [00:00<00:00, 972.25it/s]\n"
     ]
    },
    {
     "name": "stdout",
     "output_type": "stream",
     "text": [
      "Z plane: 10\n"
     ]
    },
    {
     "name": "stderr",
     "output_type": "stream",
     "text": [
      "100%|███████████████████████████████████████████| 8/8 [00:00<00:00, 1167.68it/s]\n",
      "100%|███████████████████████████████████████████| 8/8 [00:00<00:00, 2642.08it/s]\n"
     ]
    },
    {
     "name": "stdout",
     "output_type": "stream",
     "text": [
      "Z plane: 11\n"
     ]
    },
    {
     "name": "stderr",
     "output_type": "stream",
     "text": [
      "100%|█████████████████████████████████████████| 10/10 [00:00<00:00, 1324.71it/s]\n",
      "100%|█████████████████████████████████████████| 10/10 [00:00<00:00, 3487.70it/s]\n"
     ]
    },
    {
     "name": "stdout",
     "output_type": "stream",
     "text": [
      "Z plane: 12\n"
     ]
    },
    {
     "name": "stderr",
     "output_type": "stream",
     "text": [
      "100%|█████████████████████████████████████████| 13/13 [00:00<00:00, 3848.53it/s]\n",
      "100%|█████████████████████████████████████████| 13/13 [00:00<00:00, 2584.41it/s]\n"
     ]
    },
    {
     "name": "stdout",
     "output_type": "stream",
     "text": [
      "Z plane: 13\n"
     ]
    },
    {
     "name": "stderr",
     "output_type": "stream",
     "text": [
      "100%|█████████████████████████████████████████| 17/17 [00:00<00:00, 4226.88it/s]\n",
      "100%|█████████████████████████████████████████| 17/17 [00:00<00:00, 2935.98it/s]\n"
     ]
    },
    {
     "name": "stdout",
     "output_type": "stream",
     "text": [
      "Z plane: 14\n"
     ]
    },
    {
     "name": "stderr",
     "output_type": "stream",
     "text": [
      "100%|█████████████████████████████████████████| 19/19 [00:00<00:00, 3833.73it/s]\n",
      "100%|█████████████████████████████████████████| 19/19 [00:00<00:00, 3846.31it/s]\n"
     ]
    },
    {
     "name": "stdout",
     "output_type": "stream",
     "text": [
      "Z plane: 15\n"
     ]
    },
    {
     "name": "stderr",
     "output_type": "stream",
     "text": [
      "100%|█████████████████████████████████████████| 21/21 [00:00<00:00, 3206.07it/s]\n",
      "100%|█████████████████████████████████████████| 20/20 [00:00<00:00, 4326.03it/s]\n"
     ]
    },
    {
     "name": "stdout",
     "output_type": "stream",
     "text": [
      "Z plane: 16\n"
     ]
    },
    {
     "name": "stderr",
     "output_type": "stream",
     "text": [
      "100%|█████████████████████████████████████████| 20/20 [00:00<00:00, 1884.83it/s]\n",
      "100%|█████████████████████████████████████████| 20/20 [00:00<00:00, 3226.26it/s]\n"
     ]
    },
    {
     "name": "stdout",
     "output_type": "stream",
     "text": [
      "Z plane: 17\n"
     ]
    },
    {
     "name": "stderr",
     "output_type": "stream",
     "text": [
      "100%|█████████████████████████████████████████| 21/21 [00:00<00:00, 1835.35it/s]\n",
      "100%|█████████████████████████████████████████| 21/21 [00:00<00:00, 4169.09it/s]\n"
     ]
    },
    {
     "name": "stdout",
     "output_type": "stream",
     "text": [
      "Z plane: 18\n"
     ]
    },
    {
     "name": "stderr",
     "output_type": "stream",
     "text": [
      "100%|█████████████████████████████████████████| 27/27 [00:00<00:00, 5649.88it/s]\n",
      "100%|█████████████████████████████████████████| 26/26 [00:00<00:00, 7180.61it/s]\n"
     ]
    },
    {
     "name": "stdout",
     "output_type": "stream",
     "text": [
      "Z plane: 19\n"
     ]
    },
    {
     "name": "stderr",
     "output_type": "stream",
     "text": [
      "100%|█████████████████████████████████████████| 34/34 [00:00<00:00, 6518.55it/s]\n",
      "100%|████████████████████████████████████████| 34/34 [00:00<00:00, 11039.35it/s]\n"
     ]
    },
    {
     "name": "stdout",
     "output_type": "stream",
     "text": [
      "Z plane: 20\n"
     ]
    },
    {
     "name": "stderr",
     "output_type": "stream",
     "text": [
      "100%|█████████████████████████████████████████| 32/32 [00:00<00:00, 7934.37it/s]\n",
      "100%|████████████████████████████████████████| 29/29 [00:00<00:00, 14871.60it/s]\n"
     ]
    },
    {
     "name": "stdout",
     "output_type": "stream",
     "text": [
      "Z plane: 21\n"
     ]
    },
    {
     "name": "stderr",
     "output_type": "stream",
     "text": [
      "100%|█████████████████████████████████████████| 32/32 [00:00<00:00, 4006.02it/s]\n",
      "100%|████████████████████████████████████████| 32/32 [00:00<00:00, 11523.80it/s]\n"
     ]
    },
    {
     "name": "stdout",
     "output_type": "stream",
     "text": [
      "Z plane: 22\n"
     ]
    },
    {
     "name": "stderr",
     "output_type": "stream",
     "text": [
      "100%|█████████████████████████████████████████| 37/37 [00:00<00:00, 3996.53it/s]\n",
      "100%|█████████████████████████████████████████| 37/37 [00:00<00:00, 5991.86it/s]\n"
     ]
    },
    {
     "name": "stdout",
     "output_type": "stream",
     "text": [
      "Z plane: 23\n"
     ]
    },
    {
     "name": "stderr",
     "output_type": "stream",
     "text": [
      "100%|█████████████████████████████████████████| 34/34 [00:00<00:00, 3533.97it/s]\n",
      "100%|█████████████████████████████████████████| 34/34 [00:00<00:00, 7597.97it/s]\n"
     ]
    },
    {
     "name": "stdout",
     "output_type": "stream",
     "text": [
      "Z plane: 24\n"
     ]
    },
    {
     "name": "stderr",
     "output_type": "stream",
     "text": [
      "100%|█████████████████████████████████████████| 37/37 [00:00<00:00, 7037.74it/s]\n",
      "100%|█████████████████████████████████████████| 37/37 [00:00<00:00, 4483.81it/s]\n"
     ]
    },
    {
     "name": "stdout",
     "output_type": "stream",
     "text": [
      "Z plane: 25\n"
     ]
    },
    {
     "name": "stderr",
     "output_type": "stream",
     "text": [
      "100%|█████████████████████████████████████████| 33/33 [00:00<00:00, 4354.63it/s]\n",
      "100%|█████████████████████████████████████████| 32/32 [00:00<00:00, 4965.88it/s]\n"
     ]
    },
    {
     "name": "stdout",
     "output_type": "stream",
     "text": [
      "Z plane: 26\n"
     ]
    },
    {
     "name": "stderr",
     "output_type": "stream",
     "text": [
      "100%|█████████████████████████████████████████| 33/33 [00:00<00:00, 4419.43it/s]\n",
      "100%|█████████████████████████████████████████| 33/33 [00:00<00:00, 7173.84it/s]\n"
     ]
    },
    {
     "name": "stdout",
     "output_type": "stream",
     "text": [
      "Z plane: 27\n"
     ]
    },
    {
     "name": "stderr",
     "output_type": "stream",
     "text": [
      "100%|█████████████████████████████████████████| 31/31 [00:00<00:00, 6823.59it/s]\n",
      "100%|█████████████████████████████████████████| 31/31 [00:00<00:00, 4620.59it/s]\n"
     ]
    },
    {
     "name": "stdout",
     "output_type": "stream",
     "text": [
      "Z plane: 28\n"
     ]
    },
    {
     "name": "stderr",
     "output_type": "stream",
     "text": [
      "100%|████████████████████████████████████████| 30/30 [00:00<00:00, 10901.85it/s]\n",
      "100%|████████████████████████████████████████| 30/30 [00:00<00:00, 10675.25it/s]\n"
     ]
    },
    {
     "name": "stdout",
     "output_type": "stream",
     "text": [
      "Z plane: 29\n"
     ]
    },
    {
     "name": "stderr",
     "output_type": "stream",
     "text": [
      "100%|█████████████████████████████████████████| 23/23 [00:00<00:00, 5080.52it/s]\n",
      "100%|█████████████████████████████████████████| 23/23 [00:00<00:00, 8141.53it/s]\n"
     ]
    },
    {
     "name": "stdout",
     "output_type": "stream",
     "text": [
      "Z plane: 30\n"
     ]
    },
    {
     "name": "stderr",
     "output_type": "stream",
     "text": [
      "100%|█████████████████████████████████████████| 18/18 [00:00<00:00, 2715.74it/s]\n",
      "100%|█████████████████████████████████████████| 18/18 [00:00<00:00, 3004.04it/s]\n"
     ]
    },
    {
     "name": "stdout",
     "output_type": "stream",
     "text": [
      "Z plane: 31\n"
     ]
    },
    {
     "name": "stderr",
     "output_type": "stream",
     "text": [
      "100%|█████████████████████████████████████████| 15/15 [00:00<00:00, 2152.69it/s]\n",
      "100%|█████████████████████████████████████████| 15/15 [00:00<00:00, 3300.35it/s]\n"
     ]
    },
    {
     "name": "stdout",
     "output_type": "stream",
     "text": [
      "Time point: 66\n",
      "Z plane: 0\n"
     ]
    },
    {
     "name": "stderr",
     "output_type": "stream",
     "text": [
      "100%|███████████████████████████████████████████| 2/2 [00:00<00:00, 5181.35it/s]\n",
      "100%|███████████████████████████████████████████| 2/2 [00:00<00:00, 3710.13it/s]\n"
     ]
    },
    {
     "name": "stdout",
     "output_type": "stream",
     "text": [
      "Z plane: 1\n"
     ]
    },
    {
     "name": "stderr",
     "output_type": "stream",
     "text": [
      "100%|███████████████████████████████████████████| 2/2 [00:00<00:00, 5667.98it/s]\n",
      "100%|███████████████████████████████████████████| 2/2 [00:00<00:00, 3515.76it/s]\n"
     ]
    },
    {
     "name": "stdout",
     "output_type": "stream",
     "text": [
      "Z plane: 2\n"
     ]
    },
    {
     "name": "stderr",
     "output_type": "stream",
     "text": [
      "100%|███████████████████████████████████████████| 2/2 [00:00<00:00, 6369.48it/s]\n",
      "100%|███████████████████████████████████████████| 2/2 [00:00<00:00, 3390.71it/s]\n"
     ]
    },
    {
     "name": "stdout",
     "output_type": "stream",
     "text": [
      "Z plane: 3\n"
     ]
    },
    {
     "name": "stderr",
     "output_type": "stream",
     "text": [
      "100%|███████████████████████████████████████████| 2/2 [00:00<00:00, 6528.10it/s]\n",
      "100%|███████████████████████████████████████████| 2/2 [00:00<00:00, 3472.11it/s]\n"
     ]
    },
    {
     "name": "stdout",
     "output_type": "stream",
     "text": [
      "Z plane: 4\n"
     ]
    },
    {
     "name": "stderr",
     "output_type": "stream",
     "text": [
      "100%|███████████████████████████████████████████| 2/2 [00:00<00:00, 8507.72it/s]\n",
      "100%|███████████████████████████████████████████| 2/2 [00:00<00:00, 3133.59it/s]\n"
     ]
    },
    {
     "name": "stdout",
     "output_type": "stream",
     "text": [
      "Z plane: 5\n"
     ]
    },
    {
     "name": "stderr",
     "output_type": "stream",
     "text": [
      "100%|███████████████████████████████████████████| 2/2 [00:00<00:00, 6689.48it/s]\n",
      "100%|███████████████████████████████████████████| 2/2 [00:00<00:00, 3008.83it/s]\n"
     ]
    },
    {
     "name": "stdout",
     "output_type": "stream",
     "text": [
      "Z plane: 6\n"
     ]
    },
    {
     "name": "stderr",
     "output_type": "stream",
     "text": [
      "100%|███████████████████████████████████████████| 2/2 [00:00<00:00, 6605.20it/s]\n",
      "100%|███████████████████████████████████████████| 2/2 [00:00<00:00, 2766.69it/s]\n"
     ]
    },
    {
     "name": "stdout",
     "output_type": "stream",
     "text": [
      "Z plane: 7\n"
     ]
    },
    {
     "name": "stderr",
     "output_type": "stream",
     "text": [
      "100%|███████████████████████████████████████████| 3/3 [00:00<00:00, 8338.58it/s]\n",
      "100%|███████████████████████████████████████████| 3/3 [00:00<00:00, 2816.86it/s]\n"
     ]
    },
    {
     "name": "stdout",
     "output_type": "stream",
     "text": [
      "Z plane: 8\n"
     ]
    },
    {
     "name": "stderr",
     "output_type": "stream",
     "text": [
      "100%|███████████████████████████████████████████| 5/5 [00:00<00:00, 1881.87it/s]\n",
      "100%|███████████████████████████████████████████| 5/5 [00:00<00:00, 1869.62it/s]\n"
     ]
    },
    {
     "name": "stdout",
     "output_type": "stream",
     "text": [
      "Z plane: 9\n"
     ]
    },
    {
     "name": "stderr",
     "output_type": "stream",
     "text": [
      "100%|███████████████████████████████████████████| 7/7 [00:00<00:00, 1391.01it/s]\n",
      "100%|███████████████████████████████████████████| 7/7 [00:00<00:00, 1546.57it/s]\n"
     ]
    },
    {
     "name": "stdout",
     "output_type": "stream",
     "text": [
      "Z plane: 10\n"
     ]
    },
    {
     "name": "stderr",
     "output_type": "stream",
     "text": [
      "100%|███████████████████████████████████████████| 8/8 [00:00<00:00, 1995.98it/s]\n",
      "100%|███████████████████████████████████████████| 8/8 [00:00<00:00, 3336.09it/s]\n"
     ]
    },
    {
     "name": "stdout",
     "output_type": "stream",
     "text": [
      "Z plane: 11\n"
     ]
    },
    {
     "name": "stderr",
     "output_type": "stream",
     "text": [
      "100%|█████████████████████████████████████████| 11/11 [00:00<00:00, 1919.67it/s]\n",
      "100%|█████████████████████████████████████████| 11/11 [00:00<00:00, 2420.26it/s]\n"
     ]
    },
    {
     "name": "stdout",
     "output_type": "stream",
     "text": [
      "Z plane: 12\n"
     ]
    },
    {
     "name": "stderr",
     "output_type": "stream",
     "text": [
      "100%|█████████████████████████████████████████| 12/12 [00:00<00:00, 3516.01it/s]\n",
      "100%|█████████████████████████████████████████| 12/12 [00:00<00:00, 2850.36it/s]\n"
     ]
    },
    {
     "name": "stdout",
     "output_type": "stream",
     "text": [
      "Z plane: 13\n"
     ]
    },
    {
     "name": "stderr",
     "output_type": "stream",
     "text": [
      "100%|█████████████████████████████████████████| 17/17 [00:00<00:00, 8503.66it/s]\n",
      "100%|█████████████████████████████████████████| 17/17 [00:00<00:00, 5906.49it/s]\n"
     ]
    },
    {
     "name": "stdout",
     "output_type": "stream",
     "text": [
      "Z plane: 14\n"
     ]
    },
    {
     "name": "stderr",
     "output_type": "stream",
     "text": [
      "100%|█████████████████████████████████████████| 18/18 [00:00<00:00, 2561.58it/s]\n",
      "100%|█████████████████████████████████████████| 18/18 [00:00<00:00, 2948.89it/s]\n"
     ]
    },
    {
     "name": "stdout",
     "output_type": "stream",
     "text": [
      "Z plane: 15\n"
     ]
    },
    {
     "name": "stderr",
     "output_type": "stream",
     "text": [
      "100%|█████████████████████████████████████████| 22/22 [00:00<00:00, 2575.49it/s]\n",
      "100%|█████████████████████████████████████████| 22/22 [00:00<00:00, 5263.22it/s]\n"
     ]
    },
    {
     "name": "stdout",
     "output_type": "stream",
     "text": [
      "Z plane: 16\n"
     ]
    },
    {
     "name": "stderr",
     "output_type": "stream",
     "text": [
      "100%|████████████████████████████████████████| 22/22 [00:00<00:00, 11224.27it/s]\n",
      "100%|█████████████████████████████████████████| 22/22 [00:00<00:00, 7578.41it/s]\n"
     ]
    },
    {
     "name": "stdout",
     "output_type": "stream",
     "text": [
      "Z plane: 17\n"
     ]
    },
    {
     "name": "stderr",
     "output_type": "stream",
     "text": [
      "100%|█████████████████████████████████████████| 24/24 [00:00<00:00, 5959.58it/s]\n",
      "100%|█████████████████████████████████████████| 24/24 [00:00<00:00, 5809.62it/s]\n"
     ]
    },
    {
     "name": "stdout",
     "output_type": "stream",
     "text": [
      "Z plane: 18\n"
     ]
    },
    {
     "name": "stderr",
     "output_type": "stream",
     "text": [
      "100%|█████████████████████████████████████████| 29/29 [00:00<00:00, 6212.83it/s]\n",
      "100%|█████████████████████████████████████████| 28/28 [00:00<00:00, 6225.31it/s]\n"
     ]
    },
    {
     "name": "stdout",
     "output_type": "stream",
     "text": [
      "Z plane: 19\n"
     ]
    },
    {
     "name": "stderr",
     "output_type": "stream",
     "text": [
      "100%|█████████████████████████████████████████| 32/32 [00:00<00:00, 7478.14it/s]\n",
      "100%|█████████████████████████████████████████| 31/31 [00:00<00:00, 4463.10it/s]\n"
     ]
    },
    {
     "name": "stdout",
     "output_type": "stream",
     "text": [
      "Z plane: 20\n"
     ]
    },
    {
     "name": "stderr",
     "output_type": "stream",
     "text": [
      "100%|████████████████████████████████████████| 30/30 [00:00<00:00, 13291.34it/s]\n",
      "100%|████████████████████████████████████████| 30/30 [00:00<00:00, 22848.94it/s]\n"
     ]
    },
    {
     "name": "stdout",
     "output_type": "stream",
     "text": [
      "Z plane: 21\n"
     ]
    },
    {
     "name": "stderr",
     "output_type": "stream",
     "text": [
      "100%|████████████████████████████████████████| 30/30 [00:00<00:00, 18842.34it/s]\n",
      "100%|█████████████████████████████████████████| 29/29 [00:00<00:00, 7047.21it/s]\n"
     ]
    },
    {
     "name": "stdout",
     "output_type": "stream",
     "text": [
      "Z plane: 22\n"
     ]
    },
    {
     "name": "stderr",
     "output_type": "stream",
     "text": [
      "100%|█████████████████████████████████████████| 32/32 [00:00<00:00, 8275.85it/s]\n",
      "100%|█████████████████████████████████████████| 32/32 [00:00<00:00, 9187.33it/s]\n"
     ]
    },
    {
     "name": "stdout",
     "output_type": "stream",
     "text": [
      "Z plane: 23\n"
     ]
    },
    {
     "name": "stderr",
     "output_type": "stream",
     "text": [
      "100%|█████████████████████████████████████████| 31/31 [00:00<00:00, 3917.55it/s]\n",
      "100%|█████████████████████████████████████████| 31/31 [00:00<00:00, 4640.71it/s]\n"
     ]
    },
    {
     "name": "stdout",
     "output_type": "stream",
     "text": [
      "Z plane: 24\n"
     ]
    },
    {
     "name": "stderr",
     "output_type": "stream",
     "text": [
      "100%|████████████████████████████████████████| 33/33 [00:00<00:00, 10322.32it/s]\n",
      "100%|████████████████████████████████████████| 32/32 [00:00<00:00, 13445.98it/s]\n"
     ]
    },
    {
     "name": "stdout",
     "output_type": "stream",
     "text": [
      "Z plane: 25\n"
     ]
    },
    {
     "name": "stderr",
     "output_type": "stream",
     "text": [
      "100%|████████████████████████████████████████| 31/31 [00:00<00:00, 11191.55it/s]\n",
      "100%|█████████████████████████████████████████| 31/31 [00:00<00:00, 8812.16it/s]\n"
     ]
    },
    {
     "name": "stdout",
     "output_type": "stream",
     "text": [
      "Z plane: 26\n"
     ]
    },
    {
     "name": "stderr",
     "output_type": "stream",
     "text": [
      "100%|████████████████████████████████████████| 28/28 [00:00<00:00, 14308.05it/s]\n",
      "100%|████████████████████████████████████████| 28/28 [00:00<00:00, 10057.42it/s]\n"
     ]
    },
    {
     "name": "stdout",
     "output_type": "stream",
     "text": [
      "Z plane: 27\n"
     ]
    },
    {
     "name": "stderr",
     "output_type": "stream",
     "text": [
      "100%|█████████████████████████████████████████| 31/31 [00:00<00:00, 8460.66it/s]\n",
      "100%|█████████████████████████████████████████| 31/31 [00:00<00:00, 8784.77it/s]\n"
     ]
    },
    {
     "name": "stdout",
     "output_type": "stream",
     "text": [
      "Z plane: 28\n"
     ]
    },
    {
     "name": "stderr",
     "output_type": "stream",
     "text": [
      "100%|█████████████████████████████████████████| 27/27 [00:00<00:00, 9105.59it/s]\n",
      "100%|█████████████████████████████████████████| 27/27 [00:00<00:00, 9502.91it/s]\n"
     ]
    },
    {
     "name": "stdout",
     "output_type": "stream",
     "text": [
      "Z plane: 29\n"
     ]
    },
    {
     "name": "stderr",
     "output_type": "stream",
     "text": [
      "100%|████████████████████████████████████████| 24/24 [00:00<00:00, 10767.28it/s]\n",
      "100%|████████████████████████████████████████| 24/24 [00:00<00:00, 10845.00it/s]\n"
     ]
    },
    {
     "name": "stdout",
     "output_type": "stream",
     "text": [
      "Z plane: 30\n"
     ]
    },
    {
     "name": "stderr",
     "output_type": "stream",
     "text": [
      "100%|████████████████████████████████████████| 21/21 [00:00<00:00, 10029.65it/s]\n",
      "100%|█████████████████████████████████████████| 21/21 [00:00<00:00, 9138.87it/s]\n"
     ]
    },
    {
     "name": "stdout",
     "output_type": "stream",
     "text": [
      "Z plane: 31\n"
     ]
    },
    {
     "name": "stderr",
     "output_type": "stream",
     "text": [
      "100%|█████████████████████████████████████████| 15/15 [00:00<00:00, 7974.97it/s]\n",
      "100%|█████████████████████████████████████████| 15/15 [00:00<00:00, 9014.84it/s]\n"
     ]
    },
    {
     "name": "stdout",
     "output_type": "stream",
     "text": [
      "Time point: 67\n",
      "Z plane: 0\n"
     ]
    },
    {
     "name": "stderr",
     "output_type": "stream",
     "text": [
      "100%|███████████████████████████████████████████| 2/2 [00:00<00:00, 7516.67it/s]\n",
      "100%|███████████████████████████████████████████| 2/2 [00:00<00:00, 3210.34it/s]\n"
     ]
    },
    {
     "name": "stdout",
     "output_type": "stream",
     "text": [
      "Z plane: 1\n"
     ]
    },
    {
     "name": "stderr",
     "output_type": "stream",
     "text": [
      "100%|███████████████████████████████████████████| 4/4 [00:00<00:00, 8886.24it/s]\n",
      "100%|███████████████████████████████████████████| 4/4 [00:00<00:00, 3520.93it/s]\n"
     ]
    },
    {
     "name": "stdout",
     "output_type": "stream",
     "text": [
      "Z plane: 2\n"
     ]
    },
    {
     "name": "stderr",
     "output_type": "stream",
     "text": [
      "100%|███████████████████████████████████████████| 2/2 [00:00<00:00, 5603.61it/s]\n",
      "100%|███████████████████████████████████████████| 2/2 [00:00<00:00, 3566.59it/s]\n"
     ]
    },
    {
     "name": "stdout",
     "output_type": "stream",
     "text": [
      "Z plane: 3\n"
     ]
    },
    {
     "name": "stderr",
     "output_type": "stream",
     "text": [
      "100%|███████████████████████████████████████████| 2/2 [00:00<00:00, 5479.17it/s]\n",
      "100%|███████████████████████████████████████████| 2/2 [00:00<00:00, 3423.92it/s]\n"
     ]
    },
    {
     "name": "stdout",
     "output_type": "stream",
     "text": [
      "Z plane: 4\n"
     ]
    },
    {
     "name": "stderr",
     "output_type": "stream",
     "text": [
      "100%|███████████████████████████████████████████| 2/2 [00:00<00:00, 5573.83it/s]\n",
      "100%|███████████████████████████████████████████| 2/2 [00:00<00:00, 3589.48it/s]\n"
     ]
    },
    {
     "name": "stdout",
     "output_type": "stream",
     "text": [
      "Z plane: 5\n"
     ]
    },
    {
     "name": "stderr",
     "output_type": "stream",
     "text": [
      "100%|██████████████████████████████████████████| 3/3 [00:00<00:00, 17647.84it/s]\n",
      "100%|███████████████████████████████████████████| 3/3 [00:00<00:00, 4813.66it/s]\n"
     ]
    },
    {
     "name": "stdout",
     "output_type": "stream",
     "text": [
      "Z plane: 6\n"
     ]
    },
    {
     "name": "stderr",
     "output_type": "stream",
     "text": [
      "100%|███████████████████████████████████████████| 3/3 [00:00<00:00, 8040.20it/s]\n",
      "100%|███████████████████████████████████████████| 3/3 [00:00<00:00, 3067.51it/s]\n"
     ]
    },
    {
     "name": "stdout",
     "output_type": "stream",
     "text": [
      "Z plane: 7\n"
     ]
    },
    {
     "name": "stderr",
     "output_type": "stream",
     "text": [
      "100%|██████████████████████████████████████████| 3/3 [00:00<00:00, 21732.15it/s]\n",
      "100%|███████████████████████████████████████████| 3/3 [00:00<00:00, 6834.82it/s]\n"
     ]
    },
    {
     "name": "stdout",
     "output_type": "stream",
     "text": [
      "Z plane: 8\n"
     ]
    },
    {
     "name": "stderr",
     "output_type": "stream",
     "text": [
      "100%|███████████████████████████████████████████| 4/4 [00:00<00:00, 7303.97it/s]\n",
      "100%|███████████████████████████████████████████| 4/4 [00:00<00:00, 3697.87it/s]\n"
     ]
    },
    {
     "name": "stdout",
     "output_type": "stream",
     "text": [
      "Z plane: 9\n"
     ]
    },
    {
     "name": "stderr",
     "output_type": "stream",
     "text": [
      "100%|███████████████████████████████████████████| 6/6 [00:00<00:00, 5357.85it/s]\n",
      "100%|███████████████████████████████████████████| 6/6 [00:00<00:00, 3534.03it/s]\n"
     ]
    },
    {
     "name": "stdout",
     "output_type": "stream",
     "text": [
      "Z plane: 10\n"
     ]
    },
    {
     "name": "stderr",
     "output_type": "stream",
     "text": [
      "100%|███████████████████████████████████████████| 9/9 [00:00<00:00, 5828.12it/s]\n",
      "100%|███████████████████████████████████████████| 9/9 [00:00<00:00, 1657.17it/s]\n"
     ]
    },
    {
     "name": "stdout",
     "output_type": "stream",
     "text": [
      "Z plane: 11\n"
     ]
    },
    {
     "name": "stderr",
     "output_type": "stream",
     "text": [
      "100%|█████████████████████████████████████████| 11/11 [00:00<00:00, 6940.03it/s]\n",
      "100%|█████████████████████████████████████████| 11/11 [00:00<00:00, 5863.92it/s]\n"
     ]
    },
    {
     "name": "stdout",
     "output_type": "stream",
     "text": [
      "Z plane: 12\n"
     ]
    },
    {
     "name": "stderr",
     "output_type": "stream",
     "text": [
      "100%|█████████████████████████████████████████| 13/13 [00:00<00:00, 8469.39it/s]\n",
      "100%|█████████████████████████████████████████| 13/13 [00:00<00:00, 3644.30it/s]\n"
     ]
    },
    {
     "name": "stdout",
     "output_type": "stream",
     "text": [
      "Z plane: 13\n"
     ]
    },
    {
     "name": "stderr",
     "output_type": "stream",
     "text": [
      "100%|█████████████████████████████████████████| 16/16 [00:00<00:00, 4809.29it/s]\n",
      "100%|█████████████████████████████████████████| 16/16 [00:00<00:00, 8176.03it/s]\n"
     ]
    },
    {
     "name": "stdout",
     "output_type": "stream",
     "text": [
      "Z plane: 14\n"
     ]
    },
    {
     "name": "stderr",
     "output_type": "stream",
     "text": [
      "100%|████████████████████████████████████████| 20/20 [00:00<00:00, 14632.14it/s]\n",
      "100%|█████████████████████████████████████████| 20/20 [00:00<00:00, 8885.30it/s]\n"
     ]
    },
    {
     "name": "stdout",
     "output_type": "stream",
     "text": [
      "Z plane: 15\n"
     ]
    },
    {
     "name": "stderr",
     "output_type": "stream",
     "text": [
      "100%|████████████████████████████████████████| 22/22 [00:00<00:00, 13613.85it/s]\n",
      "100%|████████████████████████████████████████| 22/22 [00:00<00:00, 10381.94it/s]\n"
     ]
    },
    {
     "name": "stdout",
     "output_type": "stream",
     "text": [
      "Z plane: 16\n"
     ]
    },
    {
     "name": "stderr",
     "output_type": "stream",
     "text": [
      "100%|█████████████████████████████████████████| 24/24 [00:00<00:00, 9844.82it/s]\n",
      "100%|█████████████████████████████████████████| 24/24 [00:00<00:00, 4391.56it/s]\n"
     ]
    },
    {
     "name": "stdout",
     "output_type": "stream",
     "text": [
      "Z plane: 17\n"
     ]
    },
    {
     "name": "stderr",
     "output_type": "stream",
     "text": [
      "100%|████████████████████████████████████████| 27/27 [00:00<00:00, 15297.34it/s]\n",
      "100%|████████████████████████████████████████| 27/27 [00:00<00:00, 10691.67it/s]\n"
     ]
    },
    {
     "name": "stdout",
     "output_type": "stream",
     "text": [
      "Z plane: 18\n"
     ]
    },
    {
     "name": "stderr",
     "output_type": "stream",
     "text": [
      "100%|█████████████████████████████████████████| 34/34 [00:00<00:00, 5613.32it/s]\n",
      "100%|█████████████████████████████████████████| 33/33 [00:00<00:00, 7268.78it/s]\n"
     ]
    },
    {
     "name": "stdout",
     "output_type": "stream",
     "text": [
      "Z plane: 19\n"
     ]
    },
    {
     "name": "stderr",
     "output_type": "stream",
     "text": [
      "100%|████████████████████████████████████████| 34/34 [00:00<00:00, 11405.77it/s]\n",
      "100%|████████████████████████████████████████| 34/34 [00:00<00:00, 11864.09it/s]\n"
     ]
    },
    {
     "name": "stdout",
     "output_type": "stream",
     "text": [
      "Z plane: 20\n"
     ]
    },
    {
     "name": "stderr",
     "output_type": "stream",
     "text": [
      "100%|████████████████████████████████████████| 32/32 [00:00<00:00, 17473.99it/s]\n",
      "100%|█████████████████████████████████████████| 32/32 [00:00<00:00, 7766.78it/s]\n"
     ]
    },
    {
     "name": "stdout",
     "output_type": "stream",
     "text": [
      "Z plane: 21\n"
     ]
    },
    {
     "name": "stderr",
     "output_type": "stream",
     "text": [
      "100%|████████████████████████████████████████| 32/32 [00:00<00:00, 15974.50it/s]\n",
      "100%|████████████████████████████████████████| 32/32 [00:00<00:00, 11636.70it/s]\n"
     ]
    },
    {
     "name": "stdout",
     "output_type": "stream",
     "text": [
      "Z plane: 22\n"
     ]
    },
    {
     "name": "stderr",
     "output_type": "stream",
     "text": [
      "100%|████████████████████████████████████████| 36/36 [00:00<00:00, 26862.65it/s]\n",
      "100%|████████████████████████████████████████| 36/36 [00:00<00:00, 25714.40it/s]\n"
     ]
    },
    {
     "name": "stdout",
     "output_type": "stream",
     "text": [
      "Z plane: 23\n"
     ]
    },
    {
     "name": "stderr",
     "output_type": "stream",
     "text": [
      "100%|█████████████████████████████████████████| 36/36 [00:00<00:00, 7148.37it/s]\n",
      "100%|████████████████████████████████████████| 36/36 [00:00<00:00, 23176.51it/s]\n"
     ]
    },
    {
     "name": "stdout",
     "output_type": "stream",
     "text": [
      "Z plane: 24\n"
     ]
    },
    {
     "name": "stderr",
     "output_type": "stream",
     "text": [
      "100%|████████████████████████████████████████| 34/34 [00:00<00:00, 20421.93it/s]\n",
      "100%|████████████████████████████████████████| 32/32 [00:00<00:00, 10210.55it/s]\n"
     ]
    },
    {
     "name": "stdout",
     "output_type": "stream",
     "text": [
      "Z plane: 25\n"
     ]
    },
    {
     "name": "stderr",
     "output_type": "stream",
     "text": [
      "100%|████████████████████████████████████████| 33/33 [00:00<00:00, 10138.59it/s]\n",
      "100%|█████████████████████████████████████████| 33/33 [00:00<00:00, 7525.67it/s]\n"
     ]
    },
    {
     "name": "stdout",
     "output_type": "stream",
     "text": [
      "Z plane: 26\n"
     ]
    },
    {
     "name": "stderr",
     "output_type": "stream",
     "text": [
      "100%|████████████████████████████████████████| 29/29 [00:00<00:00, 12575.97it/s]\n",
      "100%|█████████████████████████████████████████| 29/29 [00:00<00:00, 6569.53it/s]\n"
     ]
    },
    {
     "name": "stdout",
     "output_type": "stream",
     "text": [
      "Z plane: 27\n"
     ]
    },
    {
     "name": "stderr",
     "output_type": "stream",
     "text": [
      "100%|████████████████████████████████████████| 33/33 [00:00<00:00, 12785.15it/s]\n",
      "100%|████████████████████████████████████████| 33/33 [00:00<00:00, 12909.16it/s]\n"
     ]
    },
    {
     "name": "stdout",
     "output_type": "stream",
     "text": [
      "Z plane: 28\n"
     ]
    },
    {
     "name": "stderr",
     "output_type": "stream",
     "text": [
      "100%|████████████████████████████████████████| 25/25 [00:00<00:00, 10646.52it/s]\n",
      "100%|█████████████████████████████████████████| 25/25 [00:00<00:00, 6537.26it/s]\n"
     ]
    },
    {
     "name": "stdout",
     "output_type": "stream",
     "text": [
      "Z plane: 29\n"
     ]
    },
    {
     "name": "stderr",
     "output_type": "stream",
     "text": [
      "100%|████████████████████████████████████████| 21/21 [00:00<00:00, 10604.43it/s]\n",
      "100%|█████████████████████████████████████████| 21/21 [00:00<00:00, 7966.75it/s]\n"
     ]
    },
    {
     "name": "stdout",
     "output_type": "stream",
     "text": [
      "Z plane: 30\n"
     ]
    },
    {
     "name": "stderr",
     "output_type": "stream",
     "text": [
      "100%|████████████████████████████████████████| 18/18 [00:00<00:00, 18964.45it/s]\n",
      "100%|█████████████████████████████████████████| 18/18 [00:00<00:00, 8216.07it/s]\n"
     ]
    },
    {
     "name": "stdout",
     "output_type": "stream",
     "text": [
      "Z plane: 31\n"
     ]
    },
    {
     "name": "stderr",
     "output_type": "stream",
     "text": [
      "100%|█████████████████████████████████████████| 14/14 [00:00<00:00, 7172.38it/s]\n",
      "100%|████████████████████████████████████████| 14/14 [00:00<00:00, 13471.04it/s]\n"
     ]
    },
    {
     "name": "stdout",
     "output_type": "stream",
     "text": [
      "Time point: 68\n",
      "Z plane: 0\n"
     ]
    },
    {
     "name": "stderr",
     "output_type": "stream",
     "text": [
      "100%|██████████████████████████████████████████| 3/3 [00:00<00:00, 10600.60it/s]\n",
      "100%|███████████████████████████████████████████| 3/3 [00:00<00:00, 3534.53it/s]\n"
     ]
    },
    {
     "name": "stdout",
     "output_type": "stream",
     "text": [
      "Z plane: 1\n"
     ]
    },
    {
     "name": "stderr",
     "output_type": "stream",
     "text": [
      "100%|███████████████████████████████████████████| 3/3 [00:00<00:00, 8955.81it/s]\n",
      "100%|███████████████████████████████████████████| 3/3 [00:00<00:00, 4053.77it/s]\n"
     ]
    },
    {
     "name": "stdout",
     "output_type": "stream",
     "text": [
      "Z plane: 2\n"
     ]
    },
    {
     "name": "stderr",
     "output_type": "stream",
     "text": [
      "100%|███████████████████████████████████████████| 2/2 [00:00<00:00, 6388.89it/s]\n",
      "100%|███████████████████████████████████████████| 2/2 [00:00<00:00, 2759.41it/s]\n"
     ]
    },
    {
     "name": "stdout",
     "output_type": "stream",
     "text": [
      "Z plane: 3\n"
     ]
    },
    {
     "name": "stderr",
     "output_type": "stream",
     "text": [
      "100%|███████████████████████████████████████████| 3/3 [00:00<00:00, 7973.96it/s]\n",
      "100%|███████████████████████████████████████████| 3/3 [00:00<00:00, 4391.94it/s]\n"
     ]
    },
    {
     "name": "stdout",
     "output_type": "stream",
     "text": [
      "Z plane: 4\n"
     ]
    },
    {
     "name": "stderr",
     "output_type": "stream",
     "text": [
      "100%|███████████████████████████████████████████| 2/2 [00:00<00:00, 7612.17it/s]\n",
      "100%|███████████████████████████████████████████| 2/2 [00:00<00:00, 3572.66it/s]\n"
     ]
    },
    {
     "name": "stdout",
     "output_type": "stream",
     "text": [
      "Z plane: 5\n"
     ]
    },
    {
     "name": "stderr",
     "output_type": "stream",
     "text": [
      "100%|██████████████████████████████████████████| 2/2 [00:00<00:00, 13336.42it/s]\n",
      "100%|███████████████████████████████████████████| 2/2 [00:00<00:00, 4843.31it/s]\n"
     ]
    },
    {
     "name": "stdout",
     "output_type": "stream",
     "text": [
      "Z plane: 6\n"
     ]
    },
    {
     "name": "stderr",
     "output_type": "stream",
     "text": [
      "100%|██████████████████████████████████████████| 2/2 [00:00<00:00, 10880.17it/s]\n",
      "100%|███████████████████████████████████████████| 2/2 [00:00<00:00, 4851.71it/s]\n"
     ]
    },
    {
     "name": "stdout",
     "output_type": "stream",
     "text": [
      "Z plane: 7\n"
     ]
    },
    {
     "name": "stderr",
     "output_type": "stream",
     "text": [
      "100%|██████████████████████████████████████████| 2/2 [00:00<00:00, 17586.18it/s]\n",
      "100%|███████████████████████████████████████████| 2/2 [00:00<00:00, 4760.84it/s]\n"
     ]
    },
    {
     "name": "stdout",
     "output_type": "stream",
     "text": [
      "Z plane: 8\n"
     ]
    },
    {
     "name": "stderr",
     "output_type": "stream",
     "text": [
      "100%|███████████████████████████████████████████| 3/3 [00:00<00:00, 5193.11it/s]\n",
      "100%|███████████████████████████████████████████| 3/3 [00:00<00:00, 1876.09it/s]\n"
     ]
    },
    {
     "name": "stdout",
     "output_type": "stream",
     "text": [
      "Z plane: 9\n"
     ]
    },
    {
     "name": "stderr",
     "output_type": "stream",
     "text": [
      "100%|███████████████████████████████████████████| 5/5 [00:00<00:00, 4533.40it/s]\n",
      "100%|███████████████████████████████████████████| 5/5 [00:00<00:00, 2066.16it/s]\n"
     ]
    },
    {
     "name": "stdout",
     "output_type": "stream",
     "text": [
      "Z plane: 10\n"
     ]
    },
    {
     "name": "stderr",
     "output_type": "stream",
     "text": [
      "100%|███████████████████████████████████████████| 8/8 [00:00<00:00, 4597.76it/s]\n",
      "100%|███████████████████████████████████████████| 8/8 [00:00<00:00, 4357.15it/s]\n"
     ]
    },
    {
     "name": "stdout",
     "output_type": "stream",
     "text": [
      "Z plane: 11\n"
     ]
    },
    {
     "name": "stderr",
     "output_type": "stream",
     "text": [
      "100%|█████████████████████████████████████████| 10/10 [00:00<00:00, 8865.58it/s]\n",
      "100%|█████████████████████████████████████████| 10/10 [00:00<00:00, 3231.11it/s]\n"
     ]
    },
    {
     "name": "stdout",
     "output_type": "stream",
     "text": [
      "Z plane: 12\n"
     ]
    },
    {
     "name": "stderr",
     "output_type": "stream",
     "text": [
      "100%|█████████████████████████████████████████| 12/12 [00:00<00:00, 6924.15it/s]\n",
      "100%|█████████████████████████████████████████| 12/12 [00:00<00:00, 2542.39it/s]\n"
     ]
    },
    {
     "name": "stdout",
     "output_type": "stream",
     "text": [
      "Z plane: 13\n"
     ]
    },
    {
     "name": "stderr",
     "output_type": "stream",
     "text": [
      "100%|█████████████████████████████████████████| 15/15 [00:00<00:00, 7035.85it/s]\n",
      "100%|█████████████████████████████████████████| 15/15 [00:00<00:00, 4336.54it/s]\n"
     ]
    },
    {
     "name": "stdout",
     "output_type": "stream",
     "text": [
      "Z plane: 14\n"
     ]
    },
    {
     "name": "stderr",
     "output_type": "stream",
     "text": [
      "100%|████████████████████████████████████████| 18/18 [00:00<00:00, 13794.53it/s]\n",
      "100%|█████████████████████████████████████████| 18/18 [00:00<00:00, 7395.19it/s]\n"
     ]
    },
    {
     "name": "stdout",
     "output_type": "stream",
     "text": [
      "Z plane: 15\n"
     ]
    },
    {
     "name": "stderr",
     "output_type": "stream",
     "text": [
      "100%|████████████████████████████████████████| 22/22 [00:00<00:00, 10929.14it/s]\n",
      "100%|█████████████████████████████████████████| 22/22 [00:00<00:00, 9569.09it/s]\n"
     ]
    },
    {
     "name": "stdout",
     "output_type": "stream",
     "text": [
      "Z plane: 16\n"
     ]
    },
    {
     "name": "stderr",
     "output_type": "stream",
     "text": [
      "100%|█████████████████████████████████████████| 20/20 [00:00<00:00, 8653.40it/s]\n",
      "100%|█████████████████████████████████████████| 20/20 [00:00<00:00, 7980.79it/s]\n"
     ]
    },
    {
     "name": "stdout",
     "output_type": "stream",
     "text": [
      "Z plane: 17\n"
     ]
    },
    {
     "name": "stderr",
     "output_type": "stream",
     "text": [
      "100%|████████████████████████████████████████| 23/23 [00:00<00:00, 12148.22it/s]\n",
      "100%|█████████████████████████████████████████| 23/23 [00:00<00:00, 4536.52it/s]\n"
     ]
    },
    {
     "name": "stdout",
     "output_type": "stream",
     "text": [
      "Z plane: 18\n"
     ]
    },
    {
     "name": "stderr",
     "output_type": "stream",
     "text": [
      "100%|████████████████████████████████████████| 31/31 [00:00<00:00, 10855.19it/s]\n",
      "100%|████████████████████████████████████████| 31/31 [00:00<00:00, 11206.98it/s]\n"
     ]
    },
    {
     "name": "stdout",
     "output_type": "stream",
     "text": [
      "Z plane: 19\n"
     ]
    },
    {
     "name": "stderr",
     "output_type": "stream",
     "text": [
      "100%|████████████████████████████████████████| 30/30 [00:00<00:00, 10578.32it/s]\n",
      "100%|█████████████████████████████████████████| 30/30 [00:00<00:00, 5962.05it/s]\n"
     ]
    },
    {
     "name": "stdout",
     "output_type": "stream",
     "text": [
      "Z plane: 20\n"
     ]
    },
    {
     "name": "stderr",
     "output_type": "stream",
     "text": [
      "100%|████████████████████████████████████████| 33/33 [00:00<00:00, 12510.13it/s]\n",
      "100%|████████████████████████████████████████| 33/33 [00:00<00:00, 23587.60it/s]\n"
     ]
    },
    {
     "name": "stdout",
     "output_type": "stream",
     "text": [
      "Z plane: 21\n"
     ]
    },
    {
     "name": "stderr",
     "output_type": "stream",
     "text": [
      "100%|████████████████████████████████████████| 41/41 [00:00<00:00, 22825.39it/s]\n",
      "100%|████████████████████████████████████████| 38/38 [00:00<00:00, 16705.12it/s]\n"
     ]
    },
    {
     "name": "stdout",
     "output_type": "stream",
     "text": [
      "Z plane: 22\n"
     ]
    },
    {
     "name": "stderr",
     "output_type": "stream",
     "text": [
      "100%|████████████████████████████████████████| 46/46 [00:00<00:00, 15086.24it/s]\n",
      "100%|████████████████████████████████████████| 46/46 [00:00<00:00, 17597.41it/s]\n"
     ]
    },
    {
     "name": "stdout",
     "output_type": "stream",
     "text": [
      "Z plane: 23\n"
     ]
    },
    {
     "name": "stderr",
     "output_type": "stream",
     "text": [
      "100%|████████████████████████████████████████| 44/44 [00:00<00:00, 12322.19it/s]\n",
      "100%|████████████████████████████████████████| 43/43 [00:00<00:00, 10469.93it/s]\n"
     ]
    },
    {
     "name": "stdout",
     "output_type": "stream",
     "text": [
      "Z plane: 24\n"
     ]
    },
    {
     "name": "stderr",
     "output_type": "stream",
     "text": [
      "100%|████████████████████████████████████████| 38/38 [00:00<00:00, 12226.42it/s]\n",
      "100%|████████████████████████████████████████| 38/38 [00:00<00:00, 12930.68it/s]\n"
     ]
    },
    {
     "name": "stdout",
     "output_type": "stream",
     "text": [
      "Z plane: 25\n"
     ]
    },
    {
     "name": "stderr",
     "output_type": "stream",
     "text": [
      "100%|████████████████████████████████████████| 40/40 [00:00<00:00, 11880.20it/s]\n",
      "100%|█████████████████████████████████████████| 40/40 [00:00<00:00, 7445.95it/s]\n"
     ]
    },
    {
     "name": "stdout",
     "output_type": "stream",
     "text": [
      "Z plane: 26\n"
     ]
    },
    {
     "name": "stderr",
     "output_type": "stream",
     "text": [
      "100%|████████████████████████████████████████| 34/34 [00:00<00:00, 11337.76it/s]\n",
      "100%|█████████████████████████████████████████| 34/34 [00:00<00:00, 6703.63it/s]\n"
     ]
    },
    {
     "name": "stdout",
     "output_type": "stream",
     "text": [
      "Z plane: 27\n"
     ]
    },
    {
     "name": "stderr",
     "output_type": "stream",
     "text": [
      "100%|████████████████████████████████████████| 31/31 [00:00<00:00, 10462.14it/s]\n",
      "100%|█████████████████████████████████████████| 31/31 [00:00<00:00, 6073.87it/s]\n"
     ]
    },
    {
     "name": "stdout",
     "output_type": "stream",
     "text": [
      "Z plane: 28\n"
     ]
    },
    {
     "name": "stderr",
     "output_type": "stream",
     "text": [
      "100%|████████████████████████████████████████| 30/30 [00:00<00:00, 10299.51it/s]\n",
      "100%|█████████████████████████████████████████| 30/30 [00:00<00:00, 8947.53it/s]\n"
     ]
    },
    {
     "name": "stdout",
     "output_type": "stream",
     "text": [
      "Z plane: 29\n"
     ]
    },
    {
     "name": "stderr",
     "output_type": "stream",
     "text": [
      "100%|█████████████████████████████████████████| 24/24 [00:00<00:00, 8998.24it/s]\n",
      "100%|█████████████████████████████████████████| 24/24 [00:00<00:00, 7726.69it/s]\n"
     ]
    },
    {
     "name": "stdout",
     "output_type": "stream",
     "text": [
      "Z plane: 30\n"
     ]
    },
    {
     "name": "stderr",
     "output_type": "stream",
     "text": [
      "100%|█████████████████████████████████████████| 21/21 [00:00<00:00, 7984.81it/s]\n",
      "100%|█████████████████████████████████████████| 21/21 [00:00<00:00, 5029.72it/s]\n"
     ]
    },
    {
     "name": "stdout",
     "output_type": "stream",
     "text": [
      "Z plane: 31\n"
     ]
    },
    {
     "name": "stderr",
     "output_type": "stream",
     "text": [
      "100%|████████████████████████████████████████| 14/14 [00:00<00:00, 16352.06it/s]\n",
      "100%|█████████████████████████████████████████| 14/14 [00:00<00:00, 9601.09it/s]\n"
     ]
    },
    {
     "name": "stdout",
     "output_type": "stream",
     "text": [
      "Time point: 69\n",
      "Z plane: 0\n"
     ]
    },
    {
     "name": "stderr",
     "output_type": "stream",
     "text": [
      "100%|███████████████████████████████████████████| 2/2 [00:00<00:00, 4247.40it/s]\n",
      "100%|███████████████████████████████████████████| 2/2 [00:00<00:00, 2710.37it/s]\n"
     ]
    },
    {
     "name": "stdout",
     "output_type": "stream",
     "text": [
      "Z plane: 1\n"
     ]
    },
    {
     "name": "stderr",
     "output_type": "stream",
     "text": [
      "100%|███████████████████████████████████████████| 2/2 [00:00<00:00, 5507.95it/s]\n",
      "100%|███████████████████████████████████████████| 2/2 [00:00<00:00, 3355.44it/s]\n"
     ]
    },
    {
     "name": "stdout",
     "output_type": "stream",
     "text": [
      "Z plane: 2\n"
     ]
    },
    {
     "name": "stderr",
     "output_type": "stream",
     "text": [
      "100%|███████████████████████████████████████████| 2/2 [00:00<00:00, 3577.23it/s]\n",
      "100%|███████████████████████████████████████████| 2/2 [00:00<00:00, 6004.73it/s]\n"
     ]
    },
    {
     "name": "stdout",
     "output_type": "stream",
     "text": [
      "Z plane: 3\n"
     ]
    },
    {
     "name": "stderr",
     "output_type": "stream",
     "text": [
      "100%|███████████████████████████████████████████| 3/3 [00:00<00:00, 8548.17it/s]\n",
      "100%|███████████████████████████████████████████| 2/2 [00:00<00:00, 3539.50it/s]\n"
     ]
    },
    {
     "name": "stdout",
     "output_type": "stream",
     "text": [
      "Z plane: 4\n"
     ]
    },
    {
     "name": "stderr",
     "output_type": "stream",
     "text": [
      "100%|███████████████████████████████████████████| 3/3 [00:00<00:00, 9177.91it/s]\n",
      "100%|███████████████████████████████████████████| 2/2 [00:00<00:00, 2557.50it/s]\n"
     ]
    },
    {
     "name": "stdout",
     "output_type": "stream",
     "text": [
      "Z plane: 5\n"
     ]
    },
    {
     "name": "stderr",
     "output_type": "stream",
     "text": [
      "100%|███████████████████████████████████████████| 2/2 [00:00<00:00, 5664.15it/s]\n",
      "100%|███████████████████████████████████████████| 2/2 [00:00<00:00, 1591.16it/s]\n"
     ]
    },
    {
     "name": "stdout",
     "output_type": "stream",
     "text": [
      "Z plane: 6\n"
     ]
    },
    {
     "name": "stderr",
     "output_type": "stream",
     "text": [
      "100%|███████████████████████████████████████████| 2/2 [00:00<00:00, 5168.58it/s]\n",
      "100%|████████████████████████████████████████████| 2/2 [00:00<00:00, 953.79it/s]\n"
     ]
    },
    {
     "name": "stdout",
     "output_type": "stream",
     "text": [
      "Z plane: 7\n"
     ]
    },
    {
     "name": "stderr",
     "output_type": "stream",
     "text": [
      "100%|██████████████████████████████████████████| 2/2 [00:00<00:00, 16810.84it/s]\n",
      "100%|███████████████████████████████████████████| 2/2 [00:00<00:00, 8405.42it/s]\n"
     ]
    },
    {
     "name": "stdout",
     "output_type": "stream",
     "text": [
      "Z plane: 8\n"
     ]
    },
    {
     "name": "stderr",
     "output_type": "stream",
     "text": [
      "100%|██████████████████████████████████████████| 3/3 [00:00<00:00, 21583.04it/s]\n",
      "100%|███████████████████████████████████████████| 3/3 [00:00<00:00, 8854.97it/s]\n"
     ]
    },
    {
     "name": "stdout",
     "output_type": "stream",
     "text": [
      "Z plane: 9\n"
     ]
    },
    {
     "name": "stderr",
     "output_type": "stream",
     "text": [
      "100%|███████████████████████████████████████████| 5/5 [00:00<00:00, 4752.21it/s]\n",
      "100%|███████████████████████████████████████████| 5/5 [00:00<00:00, 3407.79it/s]\n"
     ]
    },
    {
     "name": "stdout",
     "output_type": "stream",
     "text": [
      "Z plane: 10\n"
     ]
    },
    {
     "name": "stderr",
     "output_type": "stream",
     "text": [
      "100%|███████████████████████████████████████████| 8/8 [00:00<00:00, 7491.50it/s]\n",
      "100%|███████████████████████████████████████████| 8/8 [00:00<00:00, 2134.51it/s]\n"
     ]
    },
    {
     "name": "stdout",
     "output_type": "stream",
     "text": [
      "Z plane: 11\n"
     ]
    },
    {
     "name": "stderr",
     "output_type": "stream",
     "text": [
      "100%|█████████████████████████████████████████| 10/10 [00:00<00:00, 6725.95it/s]\n",
      "100%|█████████████████████████████████████████| 10/10 [00:00<00:00, 5807.68it/s]\n"
     ]
    },
    {
     "name": "stdout",
     "output_type": "stream",
     "text": [
      "Z plane: 12\n"
     ]
    },
    {
     "name": "stderr",
     "output_type": "stream",
     "text": [
      "100%|█████████████████████████████████████████| 11/11 [00:00<00:00, 6970.44it/s]\n",
      "100%|█████████████████████████████████████████| 11/11 [00:00<00:00, 1611.28it/s]\n"
     ]
    },
    {
     "name": "stdout",
     "output_type": "stream",
     "text": [
      "Z plane: 13\n"
     ]
    },
    {
     "name": "stderr",
     "output_type": "stream",
     "text": [
      "100%|████████████████████████████████████████| 15/15 [00:00<00:00, 11086.27it/s]\n",
      "100%|█████████████████████████████████████████| 15/15 [00:00<00:00, 6960.35it/s]\n"
     ]
    },
    {
     "name": "stdout",
     "output_type": "stream",
     "text": [
      "Z plane: 14\n"
     ]
    },
    {
     "name": "stderr",
     "output_type": "stream",
     "text": [
      "100%|████████████████████████████████████████| 19/19 [00:00<00:00, 10644.02it/s]\n",
      "100%|█████████████████████████████████████████| 19/19 [00:00<00:00, 8767.94it/s]\n"
     ]
    },
    {
     "name": "stdout",
     "output_type": "stream",
     "text": [
      "Z plane: 15\n"
     ]
    },
    {
     "name": "stderr",
     "output_type": "stream",
     "text": [
      "100%|████████████████████████████████████████| 19/19 [00:00<00:00, 11431.90it/s]\n",
      "100%|█████████████████████████████████████████| 19/19 [00:00<00:00, 9471.33it/s]\n"
     ]
    },
    {
     "name": "stdout",
     "output_type": "stream",
     "text": [
      "Z plane: 16\n"
     ]
    },
    {
     "name": "stderr",
     "output_type": "stream",
     "text": [
      "100%|█████████████████████████████████████████| 23/23 [00:00<00:00, 9368.65it/s]\n",
      "100%|████████████████████████████████████████| 23/23 [00:00<00:00, 10069.83it/s]\n"
     ]
    },
    {
     "name": "stdout",
     "output_type": "stream",
     "text": [
      "Z plane: 17\n"
     ]
    },
    {
     "name": "stderr",
     "output_type": "stream",
     "text": [
      "100%|█████████████████████████████████████████| 25/25 [00:00<00:00, 9491.09it/s]\n",
      "100%|█████████████████████████████████████████| 25/25 [00:00<00:00, 8428.39it/s]\n"
     ]
    },
    {
     "name": "stdout",
     "output_type": "stream",
     "text": [
      "Z plane: 18\n"
     ]
    },
    {
     "name": "stderr",
     "output_type": "stream",
     "text": [
      "100%|████████████████████████████████████████| 32/32 [00:00<00:00, 16666.80it/s]\n",
      "100%|█████████████████████████████████████████| 32/32 [00:00<00:00, 7344.74it/s]\n"
     ]
    },
    {
     "name": "stdout",
     "output_type": "stream",
     "text": [
      "Z plane: 19\n"
     ]
    },
    {
     "name": "stderr",
     "output_type": "stream",
     "text": [
      "100%|████████████████████████████████████████| 39/39 [00:00<00:00, 14862.61it/s]\n",
      "100%|████████████████████████████████████████| 39/39 [00:00<00:00, 13028.90it/s]\n"
     ]
    },
    {
     "name": "stdout",
     "output_type": "stream",
     "text": [
      "Z plane: 20\n"
     ]
    },
    {
     "name": "stderr",
     "output_type": "stream",
     "text": [
      "100%|████████████████████████████████████████| 42/42 [00:00<00:00, 13026.75it/s]\n",
      "100%|████████████████████████████████████████| 42/42 [00:00<00:00, 11434.56it/s]\n"
     ]
    },
    {
     "name": "stdout",
     "output_type": "stream",
     "text": [
      "Z plane: 21\n"
     ]
    },
    {
     "name": "stderr",
     "output_type": "stream",
     "text": [
      "100%|████████████████████████████████████████| 45/45 [00:00<00:00, 19028.50it/s]\n",
      "100%|████████████████████████████████████████| 44/44 [00:00<00:00, 13406.17it/s]\n"
     ]
    },
    {
     "name": "stdout",
     "output_type": "stream",
     "text": [
      "Z plane: 22\n"
     ]
    },
    {
     "name": "stderr",
     "output_type": "stream",
     "text": [
      "100%|████████████████████████████████████████| 45/45 [00:00<00:00, 24627.31it/s]\n",
      "100%|████████████████████████████████████████| 43/43 [00:00<00:00, 22373.78it/s]\n"
     ]
    },
    {
     "name": "stdout",
     "output_type": "stream",
     "text": [
      "Z plane: 23\n"
     ]
    },
    {
     "name": "stderr",
     "output_type": "stream",
     "text": [
      "100%|████████████████████████████████████████| 42/42 [00:00<00:00, 27269.47it/s]\n",
      "100%|████████████████████████████████████████| 41/41 [00:00<00:00, 30127.27it/s]\n"
     ]
    },
    {
     "name": "stdout",
     "output_type": "stream",
     "text": [
      "Z plane: 24\n"
     ]
    },
    {
     "name": "stderr",
     "output_type": "stream",
     "text": [
      "100%|████████████████████████████████████████| 44/44 [00:00<00:00, 19485.73it/s]\n",
      "100%|████████████████████████████████████████| 42/42 [00:00<00:00, 12270.03it/s]\n"
     ]
    },
    {
     "name": "stdout",
     "output_type": "stream",
     "text": [
      "Z plane: 25\n"
     ]
    },
    {
     "name": "stderr",
     "output_type": "stream",
     "text": [
      "100%|████████████████████████████████████████| 37/37 [00:00<00:00, 14742.02it/s]\n",
      "100%|████████████████████████████████████████| 37/37 [00:00<00:00, 10170.34it/s]\n"
     ]
    },
    {
     "name": "stdout",
     "output_type": "stream",
     "text": [
      "Z plane: 26\n"
     ]
    },
    {
     "name": "stderr",
     "output_type": "stream",
     "text": [
      "100%|████████████████████████████████████████| 39/39 [00:00<00:00, 24327.46it/s]\n",
      "100%|████████████████████████████████████████| 38/38 [00:00<00:00, 14307.32it/s]\n"
     ]
    },
    {
     "name": "stdout",
     "output_type": "stream",
     "text": [
      "Z plane: 27\n"
     ]
    },
    {
     "name": "stderr",
     "output_type": "stream",
     "text": [
      "100%|████████████████████████████████████████| 31/31 [00:00<00:00, 15414.75it/s]\n",
      "100%|████████████████████████████████████████| 31/31 [00:00<00:00, 11214.72it/s]\n"
     ]
    },
    {
     "name": "stdout",
     "output_type": "stream",
     "text": [
      "Z plane: 28\n"
     ]
    },
    {
     "name": "stderr",
     "output_type": "stream",
     "text": [
      "100%|████████████████████████████████████████| 30/30 [00:00<00:00, 20042.87it/s]\n",
      "100%|████████████████████████████████████████| 30/30 [00:00<00:00, 10457.00it/s]\n"
     ]
    },
    {
     "name": "stdout",
     "output_type": "stream",
     "text": [
      "Z plane: 29\n"
     ]
    },
    {
     "name": "stderr",
     "output_type": "stream",
     "text": [
      "100%|████████████████████████████████████████| 26/26 [00:00<00:00, 11585.24it/s]\n",
      "100%|█████████████████████████████████████████| 26/26 [00:00<00:00, 9995.59it/s]\n"
     ]
    },
    {
     "name": "stdout",
     "output_type": "stream",
     "text": [
      "Z plane: 30\n"
     ]
    },
    {
     "name": "stderr",
     "output_type": "stream",
     "text": [
      "100%|█████████████████████████████████████████| 22/22 [00:00<00:00, 9227.47it/s]\n",
      "100%|█████████████████████████████████████████| 22/22 [00:00<00:00, 5552.36it/s]\n"
     ]
    },
    {
     "name": "stdout",
     "output_type": "stream",
     "text": [
      "Z plane: 31\n"
     ]
    },
    {
     "name": "stderr",
     "output_type": "stream",
     "text": [
      "100%|████████████████████████████████████████| 20/20 [00:00<00:00, 11615.35it/s]\n",
      "100%|█████████████████████████████████████████| 20/20 [00:00<00:00, 5014.71it/s]\n"
     ]
    },
    {
     "name": "stdout",
     "output_type": "stream",
     "text": [
      "Time point: 70\n",
      "Z plane: 0\n"
     ]
    },
    {
     "name": "stderr",
     "output_type": "stream",
     "text": [
      "100%|███████████████████████████████████████████| 3/3 [00:00<00:00, 7616.77it/s]\n",
      "100%|███████████████████████████████████████████| 3/3 [00:00<00:00, 2830.16it/s]\n"
     ]
    },
    {
     "name": "stdout",
     "output_type": "stream",
     "text": [
      "Z plane: 1\n"
     ]
    },
    {
     "name": "stderr",
     "output_type": "stream",
     "text": [
      "100%|██████████████████████████████████████████| 3/3 [00:00<00:00, 10090.55it/s]\n",
      "100%|███████████████████████████████████████████| 3/3 [00:00<00:00, 5435.38it/s]\n"
     ]
    },
    {
     "name": "stdout",
     "output_type": "stream",
     "text": [
      "Z plane: 2\n"
     ]
    },
    {
     "name": "stderr",
     "output_type": "stream",
     "text": [
      "100%|███████████████████████████████████████████| 3/3 [00:00<00:00, 8427.94it/s]\n",
      "100%|███████████████████████████████████████████| 3/3 [00:00<00:00, 4223.87it/s]\n"
     ]
    },
    {
     "name": "stdout",
     "output_type": "stream",
     "text": [
      "Z plane: 3\n"
     ]
    },
    {
     "name": "stderr",
     "output_type": "stream",
     "text": [
      "100%|███████████████████████████████████████████| 3/3 [00:00<00:00, 8422.30it/s]\n",
      "100%|███████████████████████████████████████████| 3/3 [00:00<00:00, 3264.05it/s]\n"
     ]
    },
    {
     "name": "stdout",
     "output_type": "stream",
     "text": [
      "Z plane: 4\n"
     ]
    },
    {
     "name": "stderr",
     "output_type": "stream",
     "text": [
      "100%|███████████████████████████████████████████| 4/4 [00:00<00:00, 8529.34it/s]\n",
      "100%|███████████████████████████████████████████| 4/4 [00:00<00:00, 3536.51it/s]\n"
     ]
    },
    {
     "name": "stdout",
     "output_type": "stream",
     "text": [
      "Z plane: 5\n"
     ]
    },
    {
     "name": "stderr",
     "output_type": "stream",
     "text": [
      "100%|███████████████████████████████████████████| 3/3 [00:00<00:00, 7953.80it/s]\n",
      "100%|███████████████████████████████████████████| 3/3 [00:00<00:00, 3534.53it/s]\n"
     ]
    },
    {
     "name": "stdout",
     "output_type": "stream",
     "text": [
      "Z plane: 6\n"
     ]
    },
    {
     "name": "stderr",
     "output_type": "stream",
     "text": [
      "100%|███████████████████████████████████████████| 3/3 [00:00<00:00, 6577.58it/s]\n",
      "100%|███████████████████████████████████████████| 3/3 [00:00<00:00, 4418.16it/s]\n"
     ]
    },
    {
     "name": "stdout",
     "output_type": "stream",
     "text": [
      "Z plane: 7\n"
     ]
    },
    {
     "name": "stderr",
     "output_type": "stream",
     "text": [
      "100%|███████████████████████████████████████████| 3/3 [00:00<00:00, 7714.84it/s]\n",
      "100%|███████████████████████████████████████████| 3/3 [00:00<00:00, 2920.82it/s]\n"
     ]
    },
    {
     "name": "stdout",
     "output_type": "stream",
     "text": [
      "Z plane: 8\n"
     ]
    },
    {
     "name": "stderr",
     "output_type": "stream",
     "text": [
      "100%|███████████████████████████████████████████| 4/4 [00:00<00:00, 7453.23it/s]\n",
      "100%|███████████████████████████████████████████| 4/4 [00:00<00:00, 3537.26it/s]\n"
     ]
    },
    {
     "name": "stdout",
     "output_type": "stream",
     "text": [
      "Z plane: 9\n"
     ]
    },
    {
     "name": "stderr",
     "output_type": "stream",
     "text": [
      "100%|███████████████████████████████████████████| 5/5 [00:00<00:00, 7256.58it/s]\n",
      "100%|███████████████████████████████████████████| 5/5 [00:00<00:00, 6486.71it/s]\n"
     ]
    },
    {
     "name": "stdout",
     "output_type": "stream",
     "text": [
      "Z plane: 10\n"
     ]
    },
    {
     "name": "stderr",
     "output_type": "stream",
     "text": [
      "100%|███████████████████████████████████████████| 9/9 [00:00<00:00, 4711.52it/s]\n",
      "100%|███████████████████████████████████████████| 9/9 [00:00<00:00, 4620.41it/s]\n"
     ]
    },
    {
     "name": "stdout",
     "output_type": "stream",
     "text": [
      "Z plane: 11\n"
     ]
    },
    {
     "name": "stderr",
     "output_type": "stream",
     "text": [
      "100%|█████████████████████████████████████████| 10/10 [00:00<00:00, 8725.41it/s]\n",
      "100%|█████████████████████████████████████████| 10/10 [00:00<00:00, 5452.81it/s]\n"
     ]
    },
    {
     "name": "stdout",
     "output_type": "stream",
     "text": [
      "Z plane: 12\n"
     ]
    },
    {
     "name": "stderr",
     "output_type": "stream",
     "text": [
      "100%|█████████████████████████████████████████| 12/12 [00:00<00:00, 8452.00it/s]\n",
      "100%|█████████████████████████████████████████| 12/12 [00:00<00:00, 3490.16it/s]\n"
     ]
    },
    {
     "name": "stdout",
     "output_type": "stream",
     "text": [
      "Z plane: 13\n"
     ]
    },
    {
     "name": "stderr",
     "output_type": "stream",
     "text": [
      "100%|████████████████████████████████████████| 16/16 [00:00<00:00, 11765.23it/s]\n",
      "100%|█████████████████████████████████████████| 16/16 [00:00<00:00, 3155.98it/s]\n"
     ]
    },
    {
     "name": "stdout",
     "output_type": "stream",
     "text": [
      "Z plane: 14\n"
     ]
    },
    {
     "name": "stderr",
     "output_type": "stream",
     "text": [
      "100%|████████████████████████████████████████| 19/19 [00:00<00:00, 12102.02it/s]\n",
      "100%|█████████████████████████████████████████| 19/19 [00:00<00:00, 8687.65it/s]\n"
     ]
    },
    {
     "name": "stdout",
     "output_type": "stream",
     "text": [
      "Z plane: 15\n"
     ]
    },
    {
     "name": "stderr",
     "output_type": "stream",
     "text": [
      "100%|████████████████████████████████████████| 20/20 [00:00<00:00, 10131.17it/s]\n",
      "100%|█████████████████████████████████████████| 20/20 [00:00<00:00, 9415.88it/s]\n"
     ]
    },
    {
     "name": "stdout",
     "output_type": "stream",
     "text": [
      "Z plane: 16\n"
     ]
    },
    {
     "name": "stderr",
     "output_type": "stream",
     "text": [
      "100%|████████████████████████████████████████| 25/25 [00:00<00:00, 14501.12it/s]\n",
      "100%|████████████████████████████████████████| 25/25 [00:00<00:00, 10157.67it/s]\n"
     ]
    },
    {
     "name": "stdout",
     "output_type": "stream",
     "text": [
      "Z plane: 17\n"
     ]
    },
    {
     "name": "stderr",
     "output_type": "stream",
     "text": [
      "100%|████████████████████████████████████████| 27/27 [00:00<00:00, 12386.11it/s]\n",
      "100%|█████████████████████████████████████████| 27/27 [00:00<00:00, 5227.39it/s]\n"
     ]
    },
    {
     "name": "stdout",
     "output_type": "stream",
     "text": [
      "Z plane: 18\n"
     ]
    },
    {
     "name": "stderr",
     "output_type": "stream",
     "text": [
      "100%|████████████████████████████████████████| 30/30 [00:00<00:00, 12464.50it/s]\n",
      "100%|█████████████████████████████████████████| 29/29 [00:00<00:00, 7037.02it/s]\n"
     ]
    },
    {
     "name": "stdout",
     "output_type": "stream",
     "text": [
      "Z plane: 19\n"
     ]
    },
    {
     "name": "stderr",
     "output_type": "stream",
     "text": [
      "100%|████████████████████████████████████████| 37/37 [00:00<00:00, 13092.82it/s]\n",
      "100%|████████████████████████████████████████| 34/34 [00:00<00:00, 13183.54it/s]\n"
     ]
    },
    {
     "name": "stdout",
     "output_type": "stream",
     "text": [
      "Z plane: 20\n"
     ]
    },
    {
     "name": "stderr",
     "output_type": "stream",
     "text": [
      "100%|████████████████████████████████████████| 37/37 [00:00<00:00, 16925.43it/s]\n",
      "100%|█████████████████████████████████████████| 34/34 [00:00<00:00, 6757.95it/s]\n"
     ]
    },
    {
     "name": "stdout",
     "output_type": "stream",
     "text": [
      "Z plane: 21\n"
     ]
    },
    {
     "name": "stderr",
     "output_type": "stream",
     "text": [
      "100%|████████████████████████████████████████| 38/38 [00:00<00:00, 14791.98it/s]\n",
      "100%|█████████████████████████████████████████| 38/38 [00:00<00:00, 8259.07it/s]\n"
     ]
    },
    {
     "name": "stdout",
     "output_type": "stream",
     "text": [
      "Z plane: 22\n"
     ]
    },
    {
     "name": "stderr",
     "output_type": "stream",
     "text": [
      "100%|████████████████████████████████████████| 37/37 [00:00<00:00, 14051.91it/s]\n",
      "100%|████████████████████████████████████████| 37/37 [00:00<00:00, 11602.07it/s]\n"
     ]
    },
    {
     "name": "stdout",
     "output_type": "stream",
     "text": [
      "Z plane: 23\n"
     ]
    },
    {
     "name": "stderr",
     "output_type": "stream",
     "text": [
      "100%|████████████████████████████████████████| 40/40 [00:00<00:00, 27512.65it/s]\n",
      "100%|████████████████████████████████████████| 38/38 [00:00<00:00, 23456.00it/s]\n"
     ]
    },
    {
     "name": "stdout",
     "output_type": "stream",
     "text": [
      "Z plane: 24\n"
     ]
    },
    {
     "name": "stderr",
     "output_type": "stream",
     "text": [
      "100%|████████████████████████████████████████| 40/40 [00:00<00:00, 13146.23it/s]\n",
      "100%|████████████████████████████████████████| 38/38 [00:00<00:00, 23397.47it/s]\n"
     ]
    },
    {
     "name": "stdout",
     "output_type": "stream",
     "text": [
      "Z plane: 25\n"
     ]
    },
    {
     "name": "stderr",
     "output_type": "stream",
     "text": [
      "100%|████████████████████████████████████████| 38/38 [00:00<00:00, 21276.67it/s]\n",
      "100%|████████████████████████████████████████| 37/37 [00:00<00:00, 12471.01it/s]\n"
     ]
    },
    {
     "name": "stdout",
     "output_type": "stream",
     "text": [
      "Z plane: 26\n"
     ]
    },
    {
     "name": "stderr",
     "output_type": "stream",
     "text": [
      "100%|████████████████████████████████████████| 36/36 [00:00<00:00, 12991.05it/s]\n",
      "100%|████████████████████████████████████████| 36/36 [00:00<00:00, 11281.75it/s]\n"
     ]
    },
    {
     "name": "stdout",
     "output_type": "stream",
     "text": [
      "Z plane: 27\n"
     ]
    },
    {
     "name": "stderr",
     "output_type": "stream",
     "text": [
      "100%|████████████████████████████████████████| 36/36 [00:00<00:00, 15377.83it/s]\n",
      "100%|████████████████████████████████████████| 36/36 [00:00<00:00, 11572.27it/s]\n"
     ]
    },
    {
     "name": "stdout",
     "output_type": "stream",
     "text": [
      "Z plane: 28\n"
     ]
    },
    {
     "name": "stderr",
     "output_type": "stream",
     "text": [
      "100%|████████████████████████████████████████| 32/32 [00:00<00:00, 13524.56it/s]\n",
      "100%|████████████████████████████████████████| 32/32 [00:00<00:00, 12934.16it/s]\n"
     ]
    },
    {
     "name": "stdout",
     "output_type": "stream",
     "text": [
      "Z plane: 29\n"
     ]
    },
    {
     "name": "stderr",
     "output_type": "stream",
     "text": [
      "100%|████████████████████████████████████████| 27/27 [00:00<00:00, 10173.03it/s]\n",
      "100%|█████████████████████████████████████████| 27/27 [00:00<00:00, 5881.39it/s]\n"
     ]
    },
    {
     "name": "stdout",
     "output_type": "stream",
     "text": [
      "Z plane: 30\n"
     ]
    },
    {
     "name": "stderr",
     "output_type": "stream",
     "text": [
      "100%|████████████████████████████████████████| 23/23 [00:00<00:00, 14609.87it/s]\n",
      "100%|█████████████████████████████████████████| 23/23 [00:00<00:00, 8877.24it/s]\n"
     ]
    },
    {
     "name": "stdout",
     "output_type": "stream",
     "text": [
      "Z plane: 31\n"
     ]
    },
    {
     "name": "stderr",
     "output_type": "stream",
     "text": [
      "100%|█████████████████████████████████████████| 14/14 [00:00<00:00, 7863.97it/s]\n",
      "100%|█████████████████████████████████████████| 14/14 [00:00<00:00, 7748.78it/s]\n"
     ]
    },
    {
     "name": "stdout",
     "output_type": "stream",
     "text": [
      "Time point: 71\n",
      "Z plane: 0\n"
     ]
    },
    {
     "name": "stderr",
     "output_type": "stream",
     "text": [
      "100%|███████████████████████████████████████████| 4/4 [00:00<00:00, 9478.65it/s]\n",
      "100%|███████████████████████████████████████████| 4/4 [00:00<00:00, 5310.93it/s]\n"
     ]
    },
    {
     "name": "stdout",
     "output_type": "stream",
     "text": [
      "Z plane: 1\n"
     ]
    },
    {
     "name": "stderr",
     "output_type": "stream",
     "text": [
      "100%|██████████████████████████████████████████| 5/5 [00:00<00:00, 10570.32it/s]\n",
      "100%|███████████████████████████████████████████| 5/5 [00:00<00:00, 3739.57it/s]\n"
     ]
    },
    {
     "name": "stdout",
     "output_type": "stream",
     "text": [
      "Z plane: 2\n"
     ]
    },
    {
     "name": "stderr",
     "output_type": "stream",
     "text": [
      "100%|██████████████████████████████████████████| 5/5 [00:00<00:00, 10225.02it/s]\n",
      "100%|███████████████████████████████████████████| 5/5 [00:00<00:00, 3219.95it/s]\n"
     ]
    },
    {
     "name": "stdout",
     "output_type": "stream",
     "text": [
      "Z plane: 3\n"
     ]
    },
    {
     "name": "stderr",
     "output_type": "stream",
     "text": [
      "100%|██████████████████████████████████████████| 5/5 [00:00<00:00, 19293.03it/s]\n",
      "100%|███████████████████████████████████████████| 5/5 [00:00<00:00, 4562.00it/s]\n"
     ]
    },
    {
     "name": "stdout",
     "output_type": "stream",
     "text": [
      "Z plane: 4\n"
     ]
    },
    {
     "name": "stderr",
     "output_type": "stream",
     "text": [
      "100%|██████████████████████████████████████████| 4/4 [00:00<00:00, 10046.24it/s]\n",
      "100%|███████████████████████████████████████████| 4/4 [00:00<00:00, 4086.02it/s]\n"
     ]
    },
    {
     "name": "stdout",
     "output_type": "stream",
     "text": [
      "Z plane: 5\n"
     ]
    },
    {
     "name": "stderr",
     "output_type": "stream",
     "text": [
      "100%|███████████████████████████████████████████| 3/3 [00:00<00:00, 8305.55it/s]\n",
      "100%|███████████████████████████████████████████| 3/3 [00:00<00:00, 3341.19it/s]\n"
     ]
    },
    {
     "name": "stdout",
     "output_type": "stream",
     "text": [
      "Z plane: 6\n"
     ]
    },
    {
     "name": "stderr",
     "output_type": "stream",
     "text": [
      "100%|███████████████████████████████████████████| 3/3 [00:00<00:00, 7371.36it/s]\n",
      "100%|███████████████████████████████████████████| 3/3 [00:00<00:00, 3330.57it/s]\n"
     ]
    },
    {
     "name": "stdout",
     "output_type": "stream",
     "text": [
      "Z plane: 7\n"
     ]
    },
    {
     "name": "stderr",
     "output_type": "stream",
     "text": [
      "100%|███████████████████████████████████████████| 3/3 [00:00<00:00, 8311.04it/s]\n",
      "100%|███████████████████████████████████████████| 3/3 [00:00<00:00, 3668.49it/s]\n"
     ]
    },
    {
     "name": "stdout",
     "output_type": "stream",
     "text": [
      "Z plane: 8\n"
     ]
    },
    {
     "name": "stderr",
     "output_type": "stream",
     "text": [
      "100%|███████████████████████████████████████████| 4/4 [00:00<00:00, 6515.42it/s]\n",
      "100%|███████████████████████████████████████████| 4/4 [00:00<00:00, 3752.45it/s]\n"
     ]
    },
    {
     "name": "stdout",
     "output_type": "stream",
     "text": [
      "Z plane: 9\n"
     ]
    },
    {
     "name": "stderr",
     "output_type": "stream",
     "text": [
      "100%|███████████████████████████████████████████| 7/7 [00:00<00:00, 5988.20it/s]\n",
      "100%|███████████████████████████████████████████| 7/7 [00:00<00:00, 2341.88it/s]\n"
     ]
    },
    {
     "name": "stdout",
     "output_type": "stream",
     "text": [
      "Z plane: 10\n"
     ]
    },
    {
     "name": "stderr",
     "output_type": "stream",
     "text": [
      "100%|█████████████████████████████████████████| 11/11 [00:00<00:00, 7106.80it/s]\n",
      "100%|████████████████████████████████████████| 10/10 [00:00<00:00, 10602.39it/s]\n"
     ]
    },
    {
     "name": "stdout",
     "output_type": "stream",
     "text": [
      "Z plane: 11\n"
     ]
    },
    {
     "name": "stderr",
     "output_type": "stream",
     "text": [
      "100%|███████████████████████████████████████████| 9/9 [00:00<00:00, 5769.33it/s]\n",
      "100%|███████████████████████████████████████████| 9/9 [00:00<00:00, 4743.50it/s]\n"
     ]
    },
    {
     "name": "stdout",
     "output_type": "stream",
     "text": [
      "Z plane: 12\n"
     ]
    },
    {
     "name": "stderr",
     "output_type": "stream",
     "text": [
      "100%|█████████████████████████████████████████| 12/12 [00:00<00:00, 6441.21it/s]\n",
      "100%|█████████████████████████████████████████| 12/12 [00:00<00:00, 3242.39it/s]\n"
     ]
    },
    {
     "name": "stdout",
     "output_type": "stream",
     "text": [
      "Z plane: 13\n"
     ]
    },
    {
     "name": "stderr",
     "output_type": "stream",
     "text": [
      "100%|█████████████████████████████████████████| 16/16 [00:00<00:00, 7551.35it/s]\n",
      "100%|█████████████████████████████████████████| 16/16 [00:00<00:00, 6917.01it/s]\n"
     ]
    },
    {
     "name": "stdout",
     "output_type": "stream",
     "text": [
      "Z plane: 14\n"
     ]
    },
    {
     "name": "stderr",
     "output_type": "stream",
     "text": [
      "100%|████████████████████████████████████████| 19/19 [00:00<00:00, 10976.83it/s]\n",
      "100%|█████████████████████████████████████████| 19/19 [00:00<00:00, 8551.54it/s]\n"
     ]
    },
    {
     "name": "stdout",
     "output_type": "stream",
     "text": [
      "Z plane: 15\n"
     ]
    },
    {
     "name": "stderr",
     "output_type": "stream",
     "text": [
      "100%|████████████████████████████████████████| 21/21 [00:00<00:00, 12308.61it/s]\n",
      "100%|█████████████████████████████████████████| 21/21 [00:00<00:00, 5381.91it/s]\n"
     ]
    },
    {
     "name": "stdout",
     "output_type": "stream",
     "text": [
      "Z plane: 16\n"
     ]
    },
    {
     "name": "stderr",
     "output_type": "stream",
     "text": [
      "100%|█████████████████████████████████████████| 22/22 [00:00<00:00, 8789.74it/s]\n",
      "100%|████████████████████████████████████████| 22/22 [00:00<00:00, 12002.43it/s]\n"
     ]
    },
    {
     "name": "stdout",
     "output_type": "stream",
     "text": [
      "Z plane: 17\n"
     ]
    },
    {
     "name": "stderr",
     "output_type": "stream",
     "text": [
      "100%|████████████████████████████████████████| 26/26 [00:00<00:00, 11173.35it/s]\n",
      "100%|█████████████████████████████████████████| 26/26 [00:00<00:00, 6029.63it/s]\n"
     ]
    },
    {
     "name": "stdout",
     "output_type": "stream",
     "text": [
      "Z plane: 18\n"
     ]
    },
    {
     "name": "stderr",
     "output_type": "stream",
     "text": [
      "100%|████████████████████████████████████████| 28/28 [00:00<00:00, 11023.14it/s]\n",
      "100%|████████████████████████████████████████| 28/28 [00:00<00:00, 10167.13it/s]\n"
     ]
    },
    {
     "name": "stdout",
     "output_type": "stream",
     "text": [
      "Z plane: 19\n"
     ]
    },
    {
     "name": "stderr",
     "output_type": "stream",
     "text": [
      "100%|████████████████████████████████████████| 34/34 [00:00<00:00, 12400.55it/s]\n",
      "100%|█████████████████████████████████████████| 33/33 [00:00<00:00, 5949.11it/s]\n"
     ]
    },
    {
     "name": "stdout",
     "output_type": "stream",
     "text": [
      "Z plane: 20\n"
     ]
    },
    {
     "name": "stderr",
     "output_type": "stream",
     "text": [
      "100%|████████████████████████████████████████| 35/35 [00:00<00:00, 12199.84it/s]\n",
      "100%|████████████████████████████████████████| 34/34 [00:00<00:00, 14284.92it/s]\n"
     ]
    },
    {
     "name": "stdout",
     "output_type": "stream",
     "text": [
      "Z plane: 21\n"
     ]
    },
    {
     "name": "stderr",
     "output_type": "stream",
     "text": [
      "100%|████████████████████████████████████████| 35/35 [00:00<00:00, 14211.10it/s]\n",
      "100%|████████████████████████████████████████| 34/34 [00:00<00:00, 16775.24it/s]\n"
     ]
    },
    {
     "name": "stdout",
     "output_type": "stream",
     "text": [
      "Z plane: 22\n"
     ]
    },
    {
     "name": "stderr",
     "output_type": "stream",
     "text": [
      "100%|████████████████████████████████████████| 35/35 [00:00<00:00, 12394.52it/s]\n",
      "100%|█████████████████████████████████████████| 35/35 [00:00<00:00, 6900.47it/s]\n"
     ]
    },
    {
     "name": "stdout",
     "output_type": "stream",
     "text": [
      "Z plane: 23\n"
     ]
    },
    {
     "name": "stderr",
     "output_type": "stream",
     "text": [
      "100%|████████████████████████████████████████| 38/38 [00:00<00:00, 14837.42it/s]\n",
      "100%|████████████████████████████████████████| 38/38 [00:00<00:00, 25554.52it/s]\n"
     ]
    },
    {
     "name": "stdout",
     "output_type": "stream",
     "text": [
      "Z plane: 24\n"
     ]
    },
    {
     "name": "stderr",
     "output_type": "stream",
     "text": [
      "100%|████████████████████████████████████████| 40/40 [00:00<00:00, 13825.48it/s]\n",
      "100%|█████████████████████████████████████████| 40/40 [00:00<00:00, 9287.65it/s]\n"
     ]
    },
    {
     "name": "stdout",
     "output_type": "stream",
     "text": [
      "Z plane: 25\n"
     ]
    },
    {
     "name": "stderr",
     "output_type": "stream",
     "text": [
      "100%|████████████████████████████████████████| 38/38 [00:00<00:00, 14421.24it/s]\n",
      "100%|████████████████████████████████████████| 38/38 [00:00<00:00, 11411.44it/s]\n"
     ]
    },
    {
     "name": "stdout",
     "output_type": "stream",
     "text": [
      "Z plane: 26\n"
     ]
    },
    {
     "name": "stderr",
     "output_type": "stream",
     "text": [
      "100%|████████████████████████████████████████| 37/37 [00:00<00:00, 26546.23it/s]\n",
      "100%|████████████████████████████████████████| 37/37 [00:00<00:00, 29861.31it/s]\n"
     ]
    },
    {
     "name": "stdout",
     "output_type": "stream",
     "text": [
      "Z plane: 27\n"
     ]
    },
    {
     "name": "stderr",
     "output_type": "stream",
     "text": [
      "100%|████████████████████████████████████████| 40/40 [00:00<00:00, 15515.78it/s]\n",
      "100%|█████████████████████████████████████████| 38/38 [00:00<00:00, 9476.40it/s]\n"
     ]
    },
    {
     "name": "stdout",
     "output_type": "stream",
     "text": [
      "Z plane: 28\n"
     ]
    },
    {
     "name": "stderr",
     "output_type": "stream",
     "text": [
      "100%|████████████████████████████████████████| 37/37 [00:00<00:00, 12292.22it/s]\n",
      "100%|████████████████████████████████████████| 36/36 [00:00<00:00, 12968.73it/s]\n"
     ]
    },
    {
     "name": "stdout",
     "output_type": "stream",
     "text": [
      "Z plane: 29\n"
     ]
    },
    {
     "name": "stderr",
     "output_type": "stream",
     "text": [
      "100%|████████████████████████████████████████| 28/28 [00:00<00:00, 21825.03it/s]\n",
      "100%|████████████████████████████████████████| 28/28 [00:00<00:00, 11258.80it/s]\n"
     ]
    },
    {
     "name": "stdout",
     "output_type": "stream",
     "text": [
      "Z plane: 30\n"
     ]
    },
    {
     "name": "stderr",
     "output_type": "stream",
     "text": [
      "100%|█████████████████████████████████████████| 26/26 [00:00<00:00, 9796.25it/s]\n",
      "100%|████████████████████████████████████████| 26/26 [00:00<00:00, 11092.66it/s]\n"
     ]
    },
    {
     "name": "stdout",
     "output_type": "stream",
     "text": [
      "Z plane: 31\n"
     ]
    },
    {
     "name": "stderr",
     "output_type": "stream",
     "text": [
      "100%|█████████████████████████████████████████| 18/18 [00:00<00:00, 9193.55it/s]\n",
      "100%|█████████████████████████████████████████| 18/18 [00:00<00:00, 8497.18it/s]\n"
     ]
    },
    {
     "name": "stdout",
     "output_type": "stream",
     "text": [
      "Time point: 72\n",
      "Z plane: 0\n"
     ]
    },
    {
     "name": "stderr",
     "output_type": "stream",
     "text": [
      "100%|██████████████████████████████████████████| 4/4 [00:00<00:00, 10782.27it/s]\n",
      "100%|███████████████████████████████████████████| 4/4 [00:00<00:00, 2316.02it/s]\n"
     ]
    },
    {
     "name": "stdout",
     "output_type": "stream",
     "text": [
      "Z plane: 1\n"
     ]
    },
    {
     "name": "stderr",
     "output_type": "stream",
     "text": [
      "100%|██████████████████████████████████████████| 4/4 [00:00<00:00, 13606.83it/s]\n",
      "100%|███████████████████████████████████████████| 4/4 [00:00<00:00, 3300.65it/s]\n"
     ]
    },
    {
     "name": "stdout",
     "output_type": "stream",
     "text": [
      "Z plane: 2\n"
     ]
    },
    {
     "name": "stderr",
     "output_type": "stream",
     "text": [
      "100%|██████████████████████████████████████████| 4/4 [00:00<00:00, 11305.40it/s]\n",
      "100%|███████████████████████████████████████████| 4/4 [00:00<00:00, 3457.79it/s]\n"
     ]
    },
    {
     "name": "stdout",
     "output_type": "stream",
     "text": [
      "Z plane: 3\n"
     ]
    },
    {
     "name": "stderr",
     "output_type": "stream",
     "text": [
      "100%|███████████████████████████████████████████| 3/3 [00:00<00:00, 7129.13it/s]\n",
      "100%|███████████████████████████████████████████| 3/3 [00:00<00:00, 3846.81it/s]\n"
     ]
    },
    {
     "name": "stdout",
     "output_type": "stream",
     "text": [
      "Z plane: 4\n"
     ]
    },
    {
     "name": "stderr",
     "output_type": "stream",
     "text": [
      "100%|███████████████████████████████████████████| 3/3 [00:00<00:00, 8600.76it/s]\n",
      "100%|███████████████████████████████████████████| 3/3 [00:00<00:00, 2820.02it/s]\n"
     ]
    },
    {
     "name": "stdout",
     "output_type": "stream",
     "text": [
      "Z plane: 5\n"
     ]
    },
    {
     "name": "stderr",
     "output_type": "stream",
     "text": [
      "100%|██████████████████████████████████████████| 3/3 [00:00<00:00, 19448.09it/s]\n",
      "100%|███████████████████████████████████████████| 3/3 [00:00<00:00, 8433.59it/s]\n"
     ]
    },
    {
     "name": "stdout",
     "output_type": "stream",
     "text": [
      "Z plane: 6\n"
     ]
    },
    {
     "name": "stderr",
     "output_type": "stream",
     "text": [
      "100%|██████████████████████████████████████████| 4/4 [00:00<00:00, 12729.30it/s]\n",
      "100%|███████████████████████████████████████████| 4/4 [00:00<00:00, 4269.01it/s]\n"
     ]
    },
    {
     "name": "stdout",
     "output_type": "stream",
     "text": [
      "Z plane: 7\n"
     ]
    },
    {
     "name": "stderr",
     "output_type": "stream",
     "text": [
      "100%|███████████████████████████████████████████| 4/4 [00:00<00:00, 9430.70it/s]\n",
      "100%|███████████████████████████████████████████| 4/4 [00:00<00:00, 2321.78it/s]\n"
     ]
    },
    {
     "name": "stdout",
     "output_type": "stream",
     "text": [
      "Z plane: 8\n"
     ]
    },
    {
     "name": "stderr",
     "output_type": "stream",
     "text": [
      "100%|██████████████████████████████████████████| 5/5 [00:00<00:00, 10034.22it/s]\n",
      "100%|███████████████████████████████████████████| 5/5 [00:00<00:00, 3795.75it/s]\n"
     ]
    },
    {
     "name": "stdout",
     "output_type": "stream",
     "text": [
      "Z plane: 9\n"
     ]
    },
    {
     "name": "stderr",
     "output_type": "stream",
     "text": [
      "100%|███████████████████████████████████████████| 6/6 [00:00<00:00, 9131.29it/s]\n",
      "100%|███████████████████████████████████████████| 6/6 [00:00<00:00, 3658.35it/s]\n"
     ]
    },
    {
     "name": "stdout",
     "output_type": "stream",
     "text": [
      "Z plane: 10\n"
     ]
    },
    {
     "name": "stderr",
     "output_type": "stream",
     "text": [
      "100%|████████████████████████████████████████| 10/10 [00:00<00:00, 18016.77it/s]\n",
      "100%|█████████████████████████████████████████| 10/10 [00:00<00:00, 8432.46it/s]\n"
     ]
    },
    {
     "name": "stdout",
     "output_type": "stream",
     "text": [
      "Z plane: 11\n"
     ]
    },
    {
     "name": "stderr",
     "output_type": "stream",
     "text": [
      "100%|█████████████████████████████████████████| 12/12 [00:00<00:00, 6511.21it/s]\n",
      "100%|█████████████████████████████████████████| 12/12 [00:00<00:00, 7594.94it/s]\n"
     ]
    },
    {
     "name": "stdout",
     "output_type": "stream",
     "text": [
      "Z plane: 12\n"
     ]
    },
    {
     "name": "stderr",
     "output_type": "stream",
     "text": [
      "100%|████████████████████████████████████████| 16/16 [00:00<00:00, 11112.58it/s]\n",
      "100%|█████████████████████████████████████████| 16/16 [00:00<00:00, 3909.18it/s]\n"
     ]
    },
    {
     "name": "stdout",
     "output_type": "stream",
     "text": [
      "Z plane: 13\n"
     ]
    },
    {
     "name": "stderr",
     "output_type": "stream",
     "text": [
      "100%|████████████████████████████████████████| 15/15 [00:00<00:00, 14234.06it/s]\n",
      "100%|█████████████████████████████████████████| 15/15 [00:00<00:00, 3644.26it/s]\n"
     ]
    },
    {
     "name": "stdout",
     "output_type": "stream",
     "text": [
      "Z plane: 14\n"
     ]
    },
    {
     "name": "stderr",
     "output_type": "stream",
     "text": [
      "100%|█████████████████████████████████████████| 17/17 [00:00<00:00, 8300.72it/s]\n",
      "100%|█████████████████████████████████████████| 17/17 [00:00<00:00, 4913.39it/s]\n"
     ]
    },
    {
     "name": "stdout",
     "output_type": "stream",
     "text": [
      "Z plane: 15\n"
     ]
    },
    {
     "name": "stderr",
     "output_type": "stream",
     "text": [
      "100%|████████████████████████████████████████| 20/20 [00:00<00:00, 10011.47it/s]\n",
      "100%|█████████████████████████████████████████| 20/20 [00:00<00:00, 8779.29it/s]\n"
     ]
    },
    {
     "name": "stdout",
     "output_type": "stream",
     "text": [
      "Z plane: 16\n"
     ]
    },
    {
     "name": "stderr",
     "output_type": "stream",
     "text": [
      "100%|████████████████████████████████████████| 19/19 [00:00<00:00, 10709.82it/s]\n",
      "100%|█████████████████████████████████████████| 19/19 [00:00<00:00, 5121.58it/s]\n"
     ]
    },
    {
     "name": "stdout",
     "output_type": "stream",
     "text": [
      "Z plane: 17\n"
     ]
    },
    {
     "name": "stderr",
     "output_type": "stream",
     "text": [
      "100%|████████████████████████████████████████| 23/23 [00:00<00:00, 10087.73it/s]\n",
      "100%|█████████████████████████████████████████| 23/23 [00:00<00:00, 5966.66it/s]\n"
     ]
    },
    {
     "name": "stdout",
     "output_type": "stream",
     "text": [
      "Z plane: 18\n"
     ]
    },
    {
     "name": "stderr",
     "output_type": "stream",
     "text": [
      "100%|████████████████████████████████████████| 32/32 [00:00<00:00, 13417.75it/s]\n",
      "100%|████████████████████████████████████████| 30/30 [00:00<00:00, 12852.82it/s]\n"
     ]
    },
    {
     "name": "stdout",
     "output_type": "stream",
     "text": [
      "Z plane: 19\n"
     ]
    },
    {
     "name": "stderr",
     "output_type": "stream",
     "text": [
      "100%|████████████████████████████████████████| 35/35 [00:00<00:00, 12862.58it/s]\n",
      "100%|████████████████████████████████████████| 35/35 [00:00<00:00, 10806.08it/s]\n"
     ]
    },
    {
     "name": "stdout",
     "output_type": "stream",
     "text": [
      "Z plane: 20\n"
     ]
    },
    {
     "name": "stderr",
     "output_type": "stream",
     "text": [
      "100%|████████████████████████████████████████| 34/34 [00:00<00:00, 13172.58it/s]\n",
      "100%|████████████████████████████████████████| 34/34 [00:00<00:00, 12987.83it/s]\n"
     ]
    },
    {
     "name": "stdout",
     "output_type": "stream",
     "text": [
      "Z plane: 21\n"
     ]
    },
    {
     "name": "stderr",
     "output_type": "stream",
     "text": [
      "100%|████████████████████████████████████████| 35/35 [00:00<00:00, 15059.57it/s]\n",
      "100%|████████████████████████████████████████| 35/35 [00:00<00:00, 24751.41it/s]\n"
     ]
    },
    {
     "name": "stdout",
     "output_type": "stream",
     "text": [
      "Z plane: 22\n"
     ]
    },
    {
     "name": "stderr",
     "output_type": "stream",
     "text": [
      "100%|████████████████████████████████████████| 37/37 [00:00<00:00, 20262.34it/s]\n",
      "100%|████████████████████████████████████████| 37/37 [00:00<00:00, 12087.33it/s]\n"
     ]
    },
    {
     "name": "stdout",
     "output_type": "stream",
     "text": [
      "Z plane: 23\n"
     ]
    },
    {
     "name": "stderr",
     "output_type": "stream",
     "text": [
      "100%|████████████████████████████████████████| 41/41 [00:00<00:00, 19396.17it/s]\n",
      "100%|████████████████████████████████████████| 41/41 [00:00<00:00, 20375.17it/s]\n"
     ]
    },
    {
     "name": "stdout",
     "output_type": "stream",
     "text": [
      "Z plane: 24\n"
     ]
    },
    {
     "name": "stderr",
     "output_type": "stream",
     "text": [
      "100%|████████████████████████████████████████| 38/38 [00:00<00:00, 24581.05it/s]\n",
      "100%|████████████████████████████████████████| 38/38 [00:00<00:00, 20979.80it/s]\n"
     ]
    },
    {
     "name": "stdout",
     "output_type": "stream",
     "text": [
      "Z plane: 25\n"
     ]
    },
    {
     "name": "stderr",
     "output_type": "stream",
     "text": [
      "100%|████████████████████████████████████████| 37/37 [00:00<00:00, 14095.30it/s]\n",
      "100%|█████████████████████████████████████████| 37/37 [00:00<00:00, 8158.41it/s]\n"
     ]
    },
    {
     "name": "stdout",
     "output_type": "stream",
     "text": [
      "Z plane: 26\n"
     ]
    },
    {
     "name": "stderr",
     "output_type": "stream",
     "text": [
      "100%|████████████████████████████████████████| 37/37 [00:00<00:00, 14406.73it/s]\n",
      "100%|████████████████████████████████████████| 36/36 [00:00<00:00, 12658.87it/s]\n"
     ]
    },
    {
     "name": "stdout",
     "output_type": "stream",
     "text": [
      "Z plane: 27\n"
     ]
    },
    {
     "name": "stderr",
     "output_type": "stream",
     "text": [
      "100%|████████████████████████████████████████| 32/32 [00:00<00:00, 26081.95it/s]\n",
      "100%|████████████████████████████████████████| 32/32 [00:00<00:00, 29247.71it/s]\n"
     ]
    },
    {
     "name": "stdout",
     "output_type": "stream",
     "text": [
      "Z plane: 28\n"
     ]
    },
    {
     "name": "stderr",
     "output_type": "stream",
     "text": [
      "100%|████████████████████████████████████████| 30/30 [00:00<00:00, 15151.01it/s]\n",
      "100%|█████████████████████████████████████████| 30/30 [00:00<00:00, 9933.62it/s]\n"
     ]
    },
    {
     "name": "stdout",
     "output_type": "stream",
     "text": [
      "Z plane: 29\n"
     ]
    },
    {
     "name": "stderr",
     "output_type": "stream",
     "text": [
      "100%|████████████████████████████████████████| 30/30 [00:00<00:00, 12268.83it/s]\n",
      "100%|████████████████████████████████████████| 30/30 [00:00<00:00, 12199.84it/s]\n"
     ]
    },
    {
     "name": "stdout",
     "output_type": "stream",
     "text": [
      "Z plane: 30\n"
     ]
    },
    {
     "name": "stderr",
     "output_type": "stream",
     "text": [
      "100%|████████████████████████████████████████| 28/28 [00:00<00:00, 12291.00it/s]\n",
      "100%|████████████████████████████████████████| 28/28 [00:00<00:00, 14996.87it/s]\n"
     ]
    },
    {
     "name": "stdout",
     "output_type": "stream",
     "text": [
      "Z plane: 31\n"
     ]
    },
    {
     "name": "stderr",
     "output_type": "stream",
     "text": [
      "100%|████████████████████████████████████████| 22/22 [00:00<00:00, 10501.27it/s]\n",
      "100%|█████████████████████████████████████████| 22/22 [00:00<00:00, 8520.29it/s]\n"
     ]
    },
    {
     "name": "stdout",
     "output_type": "stream",
     "text": [
      "Time point: 73\n",
      "Z plane: 0\n"
     ]
    },
    {
     "name": "stderr",
     "output_type": "stream",
     "text": [
      "100%|██████████████████████████████████████████| 3/3 [00:00<00:00, 10913.19it/s]\n",
      "100%|███████████████████████████████████████████| 3/3 [00:00<00:00, 3297.41it/s]\n"
     ]
    },
    {
     "name": "stdout",
     "output_type": "stream",
     "text": [
      "Z plane: 1\n"
     ]
    },
    {
     "name": "stderr",
     "output_type": "stream",
     "text": [
      "100%|███████████████████████████████████████████| 3/3 [00:00<00:00, 7388.67it/s]\n",
      "100%|███████████████████████████████████████████| 3/3 [00:00<00:00, 3264.05it/s]\n"
     ]
    },
    {
     "name": "stdout",
     "output_type": "stream",
     "text": [
      "Z plane: 2\n"
     ]
    },
    {
     "name": "stderr",
     "output_type": "stream",
     "text": [
      "100%|███████████████████████████████████████████| 4/4 [00:00<00:00, 9088.42it/s]\n",
      "100%|███████████████████████████████████████████| 4/4 [00:00<00:00, 5290.83it/s]\n"
     ]
    },
    {
     "name": "stdout",
     "output_type": "stream",
     "text": [
      "Z plane: 3\n"
     ]
    },
    {
     "name": "stderr",
     "output_type": "stream",
     "text": [
      "100%|███████████████████████████████████████████| 2/2 [00:00<00:00, 8656.97it/s]\n",
      "100%|███████████████████████████████████████████| 2/2 [00:00<00:00, 3975.64it/s]\n"
     ]
    },
    {
     "name": "stdout",
     "output_type": "stream",
     "text": [
      "Z plane: 4\n"
     ]
    },
    {
     "name": "stderr",
     "output_type": "stream",
     "text": [
      "100%|███████████████████████████████████████████| 2/2 [00:00<00:00, 6472.69it/s]\n",
      "100%|███████████████████████████████████████████| 2/2 [00:00<00:00, 4032.98it/s]\n"
     ]
    },
    {
     "name": "stdout",
     "output_type": "stream",
     "text": [
      "Z plane: 5\n"
     ]
    },
    {
     "name": "stderr",
     "output_type": "stream",
     "text": [
      "100%|███████████████████████████████████████████| 3/3 [00:00<00:00, 7854.50it/s]\n",
      "100%|███████████████████████████████████████████| 3/3 [00:00<00:00, 4322.54it/s]\n"
     ]
    },
    {
     "name": "stdout",
     "output_type": "stream",
     "text": [
      "Z plane: 6\n"
     ]
    },
    {
     "name": "stderr",
     "output_type": "stream",
     "text": [
      "100%|███████████████████████████████████████████| 3/3 [00:00<00:00, 8701.88it/s]\n",
      "100%|███████████████████████████████████████████| 3/3 [00:00<00:00, 2687.51it/s]\n"
     ]
    },
    {
     "name": "stdout",
     "output_type": "stream",
     "text": [
      "Z plane: 7\n"
     ]
    },
    {
     "name": "stderr",
     "output_type": "stream",
     "text": [
      "100%|███████████████████████████████████████████| 3/3 [00:00<00:00, 7973.96it/s]\n",
      "100%|███████████████████████████████████████████| 3/3 [00:00<00:00, 3699.77it/s]\n"
     ]
    },
    {
     "name": "stdout",
     "output_type": "stream",
     "text": [
      "Z plane: 8\n"
     ]
    },
    {
     "name": "stderr",
     "output_type": "stream",
     "text": [
      "100%|███████████████████████████████████████████| 5/5 [00:00<00:00, 8623.16it/s]\n",
      "100%|███████████████████████████████████████████| 5/5 [00:00<00:00, 4057.96it/s]\n"
     ]
    },
    {
     "name": "stdout",
     "output_type": "stream",
     "text": [
      "Z plane: 9\n"
     ]
    },
    {
     "name": "stderr",
     "output_type": "stream",
     "text": [
      "100%|███████████████████████████████████████████| 7/7 [00:00<00:00, 9163.59it/s]\n",
      "100%|███████████████████████████████████████████| 7/7 [00:00<00:00, 4226.91it/s]\n"
     ]
    },
    {
     "name": "stdout",
     "output_type": "stream",
     "text": [
      "Z plane: 10\n"
     ]
    },
    {
     "name": "stderr",
     "output_type": "stream",
     "text": [
      "100%|█████████████████████████████████████████| 10/10 [00:00<00:00, 6134.71it/s]\n",
      "100%|█████████████████████████████████████████| 10/10 [00:00<00:00, 2812.14it/s]\n"
     ]
    },
    {
     "name": "stdout",
     "output_type": "stream",
     "text": [
      "Z plane: 11\n"
     ]
    },
    {
     "name": "stderr",
     "output_type": "stream",
     "text": [
      "100%|████████████████████████████████████████| 12/12 [00:00<00:00, 10498.88it/s]\n",
      "100%|█████████████████████████████████████████| 12/12 [00:00<00:00, 7767.23it/s]\n"
     ]
    },
    {
     "name": "stdout",
     "output_type": "stream",
     "text": [
      "Z plane: 12\n"
     ]
    },
    {
     "name": "stderr",
     "output_type": "stream",
     "text": [
      "100%|█████████████████████████████████████████| 14/14 [00:00<00:00, 7604.28it/s]\n",
      "100%|█████████████████████████████████████████| 14/14 [00:00<00:00, 6792.40it/s]\n"
     ]
    },
    {
     "name": "stdout",
     "output_type": "stream",
     "text": [
      "Z plane: 13\n"
     ]
    },
    {
     "name": "stderr",
     "output_type": "stream",
     "text": [
      "100%|████████████████████████████████████████| 17/17 [00:00<00:00, 10765.99it/s]\n",
      "100%|█████████████████████████████████████████| 17/17 [00:00<00:00, 4279.13it/s]\n"
     ]
    },
    {
     "name": "stdout",
     "output_type": "stream",
     "text": [
      "Z plane: 14\n"
     ]
    },
    {
     "name": "stderr",
     "output_type": "stream",
     "text": [
      "100%|█████████████████████████████████████████| 20/20 [00:00<00:00, 8005.92it/s]\n",
      "100%|█████████████████████████████████████████| 20/20 [00:00<00:00, 5169.54it/s]\n"
     ]
    },
    {
     "name": "stdout",
     "output_type": "stream",
     "text": [
      "Z plane: 15\n"
     ]
    },
    {
     "name": "stderr",
     "output_type": "stream",
     "text": [
      "100%|█████████████████████████████████████████| 20/20 [00:00<00:00, 9111.12it/s]\n",
      "100%|█████████████████████████████████████████| 20/20 [00:00<00:00, 9666.52it/s]\n"
     ]
    },
    {
     "name": "stdout",
     "output_type": "stream",
     "text": [
      "Z plane: 16\n"
     ]
    },
    {
     "name": "stderr",
     "output_type": "stream",
     "text": [
      "100%|████████████████████████████████████████| 25/25 [00:00<00:00, 10983.30it/s]\n",
      "100%|████████████████████████████████████████| 25/25 [00:00<00:00, 10411.84it/s]\n"
     ]
    },
    {
     "name": "stdout",
     "output_type": "stream",
     "text": [
      "Z plane: 17\n"
     ]
    },
    {
     "name": "stderr",
     "output_type": "stream",
     "text": [
      "100%|█████████████████████████████████████████| 22/22 [00:00<00:00, 8793.09it/s]\n",
      "100%|█████████████████████████████████████████| 22/22 [00:00<00:00, 7573.43it/s]\n"
     ]
    },
    {
     "name": "stdout",
     "output_type": "stream",
     "text": [
      "Z plane: 18\n"
     ]
    },
    {
     "name": "stderr",
     "output_type": "stream",
     "text": [
      "100%|████████████████████████████████████████| 27/27 [00:00<00:00, 10684.61it/s]\n",
      "100%|████████████████████████████████████████| 27/27 [00:00<00:00, 10885.92it/s]\n"
     ]
    },
    {
     "name": "stdout",
     "output_type": "stream",
     "text": [
      "Z plane: 19\n"
     ]
    },
    {
     "name": "stderr",
     "output_type": "stream",
     "text": [
      "100%|████████████████████████████████████████| 36/36 [00:00<00:00, 13590.90it/s]\n",
      "100%|█████████████████████████████████████████| 35/35 [00:00<00:00, 9620.59it/s]\n"
     ]
    },
    {
     "name": "stdout",
     "output_type": "stream",
     "text": [
      "Z plane: 20\n"
     ]
    },
    {
     "name": "stderr",
     "output_type": "stream",
     "text": [
      "100%|████████████████████████████████████████| 35/35 [00:00<00:00, 12341.37it/s]\n",
      "100%|█████████████████████████████████████████| 34/34 [00:00<00:00, 6985.71it/s]\n"
     ]
    },
    {
     "name": "stdout",
     "output_type": "stream",
     "text": [
      "Z plane: 21\n"
     ]
    },
    {
     "name": "stderr",
     "output_type": "stream",
     "text": [
      "100%|████████████████████████████████████████| 34/34 [00:00<00:00, 12381.17it/s]\n",
      "100%|████████████████████████████████████████| 34/34 [00:00<00:00, 11089.14it/s]\n"
     ]
    },
    {
     "name": "stdout",
     "output_type": "stream",
     "text": [
      "Z plane: 22\n"
     ]
    },
    {
     "name": "stderr",
     "output_type": "stream",
     "text": [
      "100%|████████████████████████████████████████| 36/36 [00:00<00:00, 11639.17it/s]\n",
      "100%|████████████████████████████████████████| 36/36 [00:00<00:00, 11572.27it/s]\n"
     ]
    },
    {
     "name": "stdout",
     "output_type": "stream",
     "text": [
      "Z plane: 23\n"
     ]
    },
    {
     "name": "stderr",
     "output_type": "stream",
     "text": [
      "100%|████████████████████████████████████████| 38/38 [00:00<00:00, 12463.52it/s]\n",
      "100%|████████████████████████████████████████| 38/38 [00:00<00:00, 12044.40it/s]\n"
     ]
    },
    {
     "name": "stdout",
     "output_type": "stream",
     "text": [
      "Z plane: 24\n"
     ]
    },
    {
     "name": "stderr",
     "output_type": "stream",
     "text": [
      "100%|████████████████████████████████████████| 36/36 [00:00<00:00, 11710.48it/s]\n",
      "100%|█████████████████████████████████████████| 36/36 [00:00<00:00, 8210.26it/s]\n"
     ]
    },
    {
     "name": "stdout",
     "output_type": "stream",
     "text": [
      "Z plane: 25\n"
     ]
    },
    {
     "name": "stderr",
     "output_type": "stream",
     "text": [
      "100%|████████████████████████████████████████| 38/38 [00:00<00:00, 11343.22it/s]\n",
      "100%|█████████████████████████████████████████| 38/38 [00:00<00:00, 8127.25it/s]\n"
     ]
    },
    {
     "name": "stdout",
     "output_type": "stream",
     "text": [
      "Z plane: 26\n"
     ]
    },
    {
     "name": "stderr",
     "output_type": "stream",
     "text": [
      "100%|████████████████████████████████████████| 37/37 [00:00<00:00, 13420.03it/s]\n",
      "100%|████████████████████████████████████████| 37/37 [00:00<00:00, 10933.44it/s]\n"
     ]
    },
    {
     "name": "stdout",
     "output_type": "stream",
     "text": [
      "Z plane: 27\n"
     ]
    },
    {
     "name": "stderr",
     "output_type": "stream",
     "text": [
      "100%|████████████████████████████████████████| 36/36 [00:00<00:00, 30326.36it/s]\n",
      "100%|████████████████████████████████████████| 36/36 [00:00<00:00, 28657.23it/s]\n"
     ]
    },
    {
     "name": "stdout",
     "output_type": "stream",
     "text": [
      "Z plane: 28\n"
     ]
    },
    {
     "name": "stderr",
     "output_type": "stream",
     "text": [
      "100%|████████████████████████████████████████| 31/31 [00:00<00:00, 12066.02it/s]\n",
      "100%|████████████████████████████████████████| 30/30 [00:00<00:00, 11324.73it/s]\n"
     ]
    },
    {
     "name": "stdout",
     "output_type": "stream",
     "text": [
      "Z plane: 29\n"
     ]
    },
    {
     "name": "stderr",
     "output_type": "stream",
     "text": [
      "100%|████████████████████████████████████████| 35/35 [00:00<00:00, 25583.94it/s]\n",
      "100%|████████████████████████████████████████| 34/34 [00:00<00:00, 23594.69it/s]\n"
     ]
    },
    {
     "name": "stdout",
     "output_type": "stream",
     "text": [
      "Z plane: 30\n"
     ]
    },
    {
     "name": "stderr",
     "output_type": "stream",
     "text": [
      "100%|████████████████████████████████████████| 27/27 [00:00<00:00, 10538.45it/s]\n",
      "100%|█████████████████████████████████████████| 27/27 [00:00<00:00, 9698.23it/s]\n"
     ]
    },
    {
     "name": "stdout",
     "output_type": "stream",
     "text": [
      "Z plane: 31\n"
     ]
    },
    {
     "name": "stderr",
     "output_type": "stream",
     "text": [
      "100%|████████████████████████████████████████| 24/24 [00:00<00:00, 13793.27it/s]\n",
      "100%|████████████████████████████████████████| 24/24 [00:00<00:00, 10563.89it/s]\n"
     ]
    },
    {
     "name": "stdout",
     "output_type": "stream",
     "text": [
      "Time point: 74\n",
      "Z plane: 0\n"
     ]
    },
    {
     "name": "stderr",
     "output_type": "stream",
     "text": [
      "100%|███████████████████████████████████████████| 2/2 [00:00<00:00, 5749.56it/s]\n",
      "100%|███████████████████████████████████████████| 2/2 [00:00<00:00, 2516.08it/s]\n"
     ]
    },
    {
     "name": "stdout",
     "output_type": "stream",
     "text": [
      "Z plane: 1\n"
     ]
    },
    {
     "name": "stderr",
     "output_type": "stream",
     "text": [
      "100%|███████████████████████████████████████████| 2/2 [00:00<00:00, 8224.13it/s]\n",
      "100%|███████████████████████████████████████████| 2/2 [00:00<00:00, 4317.35it/s]\n"
     ]
    },
    {
     "name": "stdout",
     "output_type": "stream",
     "text": [
      "Z plane: 2\n"
     ]
    },
    {
     "name": "stderr",
     "output_type": "stream",
     "text": [
      "100%|███████████████████████████████████████████| 3/3 [00:00<00:00, 9561.48it/s]\n",
      "100%|███████████████████████████████████████████| 3/3 [00:00<00:00, 3167.90it/s]\n"
     ]
    },
    {
     "name": "stdout",
     "output_type": "stream",
     "text": [
      "Z plane: 3\n"
     ]
    },
    {
     "name": "stderr",
     "output_type": "stream",
     "text": [
      "100%|███████████████████████████████████████████| 3/3 [00:00<00:00, 7248.22it/s]\n",
      "100%|███████████████████████████████████████████| 2/2 [00:00<00:00, 3054.85it/s]\n"
     ]
    },
    {
     "name": "stdout",
     "output_type": "stream",
     "text": [
      "Z plane: 4\n"
     ]
    },
    {
     "name": "stderr",
     "output_type": "stream",
     "text": [
      "100%|███████████████████████████████████████████| 2/2 [00:00<00:00, 7876.63it/s]\n",
      "100%|███████████████████████████████████████████| 2/2 [00:00<00:00, 7403.89it/s]\n"
     ]
    },
    {
     "name": "stdout",
     "output_type": "stream",
     "text": [
      "Z plane: 5\n"
     ]
    },
    {
     "name": "stderr",
     "output_type": "stream",
     "text": [
      "100%|███████████████████████████████████████████| 2/2 [00:00<00:00, 6154.52it/s]\n",
      "100%|███████████████████████████████████████████| 2/2 [00:00<00:00, 2478.90it/s]\n"
     ]
    },
    {
     "name": "stdout",
     "output_type": "stream",
     "text": [
      "Z plane: 6\n"
     ]
    },
    {
     "name": "stderr",
     "output_type": "stream",
     "text": [
      "100%|███████████████████████████████████████████| 2/2 [00:00<00:00, 5813.31it/s]\n",
      "100%|███████████████████████████████████████████| 2/2 [00:00<00:00, 2127.47it/s]\n"
     ]
    },
    {
     "name": "stdout",
     "output_type": "stream",
     "text": [
      "Z plane: 7\n"
     ]
    },
    {
     "name": "stderr",
     "output_type": "stream",
     "text": [
      "100%|███████████████████████████████████████████| 4/4 [00:00<00:00, 6154.52it/s]\n",
      "100%|███████████████████████████████████████████| 3/3 [00:00<00:00, 3690.00it/s]\n"
     ]
    },
    {
     "name": "stdout",
     "output_type": "stream",
     "text": [
      "Z plane: 8\n"
     ]
    },
    {
     "name": "stderr",
     "output_type": "stream",
     "text": [
      "100%|███████████████████████████████████████████| 4/4 [00:00<00:00, 7608.71it/s]\n",
      "100%|███████████████████████████████████████████| 4/4 [00:00<00:00, 3069.94it/s]\n"
     ]
    },
    {
     "name": "stdout",
     "output_type": "stream",
     "text": [
      "Z plane: 9\n"
     ]
    },
    {
     "name": "stderr",
     "output_type": "stream",
     "text": [
      "100%|███████████████████████████████████████████| 7/7 [00:00<00:00, 9875.59it/s]\n",
      "100%|███████████████████████████████████████████| 7/7 [00:00<00:00, 3292.97it/s]\n"
     ]
    },
    {
     "name": "stdout",
     "output_type": "stream",
     "text": [
      "Z plane: 10\n"
     ]
    },
    {
     "name": "stderr",
     "output_type": "stream",
     "text": [
      "100%|███████████████████████████████████████████| 8/8 [00:00<00:00, 5206.27it/s]\n",
      "100%|███████████████████████████████████████████| 8/8 [00:00<00:00, 2226.42it/s]\n"
     ]
    },
    {
     "name": "stdout",
     "output_type": "stream",
     "text": [
      "Z plane: 11\n"
     ]
    },
    {
     "name": "stderr",
     "output_type": "stream",
     "text": [
      "100%|█████████████████████████████████████████| 10/10 [00:00<00:00, 2650.43it/s]\n",
      "100%|███████████████████████████████████████████| 9/9 [00:00<00:00, 8515.39it/s]\n"
     ]
    },
    {
     "name": "stdout",
     "output_type": "stream",
     "text": [
      "Z plane: 12\n"
     ]
    },
    {
     "name": "stderr",
     "output_type": "stream",
     "text": [
      "100%|█████████████████████████████████████████| 14/14 [00:00<00:00, 7742.65it/s]\n",
      "100%|█████████████████████████████████████████| 14/14 [00:00<00:00, 3400.52it/s]\n"
     ]
    },
    {
     "name": "stdout",
     "output_type": "stream",
     "text": [
      "Z plane: 13\n"
     ]
    },
    {
     "name": "stderr",
     "output_type": "stream",
     "text": [
      "100%|█████████████████████████████████████████| 18/18 [00:00<00:00, 7978.18it/s]\n",
      "100%|█████████████████████████████████████████| 18/18 [00:00<00:00, 4805.08it/s]\n"
     ]
    },
    {
     "name": "stdout",
     "output_type": "stream",
     "text": [
      "Z plane: 14\n"
     ]
    },
    {
     "name": "stderr",
     "output_type": "stream",
     "text": [
      "100%|█████████████████████████████████████████| 18/18 [00:00<00:00, 8686.86it/s]\n",
      "100%|█████████████████████████████████████████| 18/18 [00:00<00:00, 6147.50it/s]\n"
     ]
    },
    {
     "name": "stdout",
     "output_type": "stream",
     "text": [
      "Z plane: 15\n"
     ]
    },
    {
     "name": "stderr",
     "output_type": "stream",
     "text": [
      "100%|████████████████████████████████████████| 21/21 [00:00<00:00, 13816.53it/s]\n",
      "100%|█████████████████████████████████████████| 21/21 [00:00<00:00, 6333.07it/s]\n"
     ]
    },
    {
     "name": "stdout",
     "output_type": "stream",
     "text": [
      "Z plane: 16\n"
     ]
    },
    {
     "name": "stderr",
     "output_type": "stream",
     "text": [
      "100%|████████████████████████████████████████| 21/21 [00:00<00:00, 10691.96it/s]\n",
      "100%|█████████████████████████████████████████| 21/21 [00:00<00:00, 9960.46it/s]\n"
     ]
    },
    {
     "name": "stdout",
     "output_type": "stream",
     "text": [
      "Z plane: 17\n"
     ]
    },
    {
     "name": "stderr",
     "output_type": "stream",
     "text": [
      "100%|█████████████████████████████████████████| 20/20 [00:00<00:00, 9799.78it/s]\n",
      "100%|█████████████████████████████████████████| 20/20 [00:00<00:00, 4718.27it/s]\n"
     ]
    },
    {
     "name": "stdout",
     "output_type": "stream",
     "text": [
      "Z plane: 18\n"
     ]
    },
    {
     "name": "stderr",
     "output_type": "stream",
     "text": [
      "100%|█████████████████████████████████████████| 28/28 [00:00<00:00, 9552.67it/s]\n",
      "100%|████████████████████████████████████████| 28/28 [00:00<00:00, 12885.73it/s]\n"
     ]
    },
    {
     "name": "stdout",
     "output_type": "stream",
     "text": [
      "Z plane: 19\n"
     ]
    },
    {
     "name": "stderr",
     "output_type": "stream",
     "text": [
      "100%|████████████████████████████████████████| 33/33 [00:00<00:00, 17062.63it/s]\n",
      "100%|█████████████████████████████████████████| 33/33 [00:00<00:00, 7110.82it/s]\n"
     ]
    },
    {
     "name": "stdout",
     "output_type": "stream",
     "text": [
      "Z plane: 20\n"
     ]
    },
    {
     "name": "stderr",
     "output_type": "stream",
     "text": [
      "100%|████████████████████████████████████████| 35/35 [00:00<00:00, 12662.87it/s]\n",
      "100%|█████████████████████████████████████████| 34/34 [00:00<00:00, 6963.20it/s]\n"
     ]
    },
    {
     "name": "stdout",
     "output_type": "stream",
     "text": [
      "Z plane: 21\n"
     ]
    },
    {
     "name": "stderr",
     "output_type": "stream",
     "text": [
      "100%|████████████████████████████████████████| 33/33 [00:00<00:00, 12091.56it/s]\n",
      "100%|████████████████████████████████████████| 33/33 [00:00<00:00, 18142.88it/s]\n"
     ]
    },
    {
     "name": "stdout",
     "output_type": "stream",
     "text": [
      "Z plane: 22\n"
     ]
    },
    {
     "name": "stderr",
     "output_type": "stream",
     "text": [
      "100%|████████████████████████████████████████| 32/32 [00:00<00:00, 10393.20it/s]\n",
      "100%|████████████████████████████████████████| 32/32 [00:00<00:00, 13306.01it/s]\n"
     ]
    },
    {
     "name": "stdout",
     "output_type": "stream",
     "text": [
      "Z plane: 23\n"
     ]
    },
    {
     "name": "stderr",
     "output_type": "stream",
     "text": [
      "100%|████████████████████████████████████████| 34/34 [00:00<00:00, 14828.57it/s]\n",
      "100%|████████████████████████████████████████| 34/34 [00:00<00:00, 14853.28it/s]\n"
     ]
    },
    {
     "name": "stdout",
     "output_type": "stream",
     "text": [
      "Z plane: 24\n"
     ]
    },
    {
     "name": "stderr",
     "output_type": "stream",
     "text": [
      "100%|████████████████████████████████████████| 37/37 [00:00<00:00, 11867.34it/s]\n",
      "100%|████████████████████████████████████████| 37/37 [00:00<00:00, 11649.97it/s]\n"
     ]
    },
    {
     "name": "stdout",
     "output_type": "stream",
     "text": [
      "Z plane: 25\n"
     ]
    },
    {
     "name": "stderr",
     "output_type": "stream",
     "text": [
      "100%|████████████████████████████████████████| 36/36 [00:00<00:00, 11749.66it/s]\n",
      "100%|████████████████████████████████████████| 36/36 [00:00<00:00, 15839.18it/s]\n"
     ]
    },
    {
     "name": "stdout",
     "output_type": "stream",
     "text": [
      "Z plane: 26\n"
     ]
    },
    {
     "name": "stderr",
     "output_type": "stream",
     "text": [
      "100%|████████████████████████████████████████| 33/33 [00:00<00:00, 11266.75it/s]\n",
      "100%|█████████████████████████████████████████| 33/33 [00:00<00:00, 7025.63it/s]\n"
     ]
    },
    {
     "name": "stdout",
     "output_type": "stream",
     "text": [
      "Z plane: 27\n"
     ]
    },
    {
     "name": "stderr",
     "output_type": "stream",
     "text": [
      "100%|████████████████████████████████████████| 34/34 [00:00<00:00, 16535.99it/s]\n",
      "100%|████████████████████████████████████████| 34/34 [00:00<00:00, 22773.29it/s]\n"
     ]
    },
    {
     "name": "stdout",
     "output_type": "stream",
     "text": [
      "Z plane: 28\n"
     ]
    },
    {
     "name": "stderr",
     "output_type": "stream",
     "text": [
      "100%|████████████████████████████████████████| 29/29 [00:00<00:00, 19634.35it/s]\n",
      "100%|████████████████████████████████████████| 29/29 [00:00<00:00, 12027.57it/s]\n"
     ]
    },
    {
     "name": "stdout",
     "output_type": "stream",
     "text": [
      "Z plane: 29\n"
     ]
    },
    {
     "name": "stderr",
     "output_type": "stream",
     "text": [
      "100%|████████████████████████████████████████| 26/26 [00:00<00:00, 11215.87it/s]\n",
      "100%|█████████████████████████████████████████| 26/26 [00:00<00:00, 9818.30it/s]\n"
     ]
    },
    {
     "name": "stdout",
     "output_type": "stream",
     "text": [
      "Z plane: 30\n"
     ]
    },
    {
     "name": "stderr",
     "output_type": "stream",
     "text": [
      "100%|████████████████████████████████████████| 25/25 [00:00<00:00, 11106.62it/s]\n",
      "100%|█████████████████████████████████████████| 25/25 [00:00<00:00, 9808.03it/s]\n"
     ]
    },
    {
     "name": "stdout",
     "output_type": "stream",
     "text": [
      "Z plane: 31\n"
     ]
    },
    {
     "name": "stderr",
     "output_type": "stream",
     "text": [
      "100%|█████████████████████████████████████████| 22/22 [00:00<00:00, 9052.75it/s]\n",
      "100%|████████████████████████████████████████| 22/22 [00:00<00:00, 10283.59it/s]\n"
     ]
    },
    {
     "name": "stdout",
     "output_type": "stream",
     "text": [
      "Time point: 75\n",
      "Z plane: 0\n"
     ]
    },
    {
     "name": "stderr",
     "output_type": "stream",
     "text": [
      "100%|███████████████████████████████████████████| 2/2 [00:00<00:00, 6364.65it/s]\n",
      "100%|███████████████████████████████████████████| 2/2 [00:00<00:00, 1917.83it/s]\n"
     ]
    },
    {
     "name": "stdout",
     "output_type": "stream",
     "text": [
      "Z plane: 1\n"
     ]
    },
    {
     "name": "stderr",
     "output_type": "stream",
     "text": [
      "100%|███████████████████████████████████████████| 3/3 [00:00<00:00, 7953.80it/s]\n",
      "100%|███████████████████████████████████████████| 3/3 [00:00<00:00, 3061.54it/s]\n"
     ]
    },
    {
     "name": "stdout",
     "output_type": "stream",
     "text": [
      "Z plane: 2\n"
     ]
    },
    {
     "name": "stderr",
     "output_type": "stream",
     "text": [
      "100%|██████████████████████████████████████████| 3/3 [00:00<00:00, 11543.96it/s]\n",
      "100%|███████████████████████████████████████████| 3/3 [00:00<00:00, 3440.77it/s]\n"
     ]
    },
    {
     "name": "stdout",
     "output_type": "stream",
     "text": [
      "Z plane: 3\n"
     ]
    },
    {
     "name": "stderr",
     "output_type": "stream",
     "text": [
      "100%|██████████████████████████████████████████| 4/4 [00:00<00:00, 10255.02it/s]\n",
      "100%|███████████████████████████████████████████| 4/4 [00:00<00:00, 5014.11it/s]\n"
     ]
    },
    {
     "name": "stdout",
     "output_type": "stream",
     "text": [
      "Z plane: 4\n"
     ]
    },
    {
     "name": "stderr",
     "output_type": "stream",
     "text": [
      "100%|██████████████████████████████████████████| 3/3 [00:00<00:00, 10791.52it/s]\n",
      "100%|███████████████████████████████████████████| 3/3 [00:00<00:00, 4430.60it/s]\n"
     ]
    },
    {
     "name": "stdout",
     "output_type": "stream",
     "text": [
      "Z plane: 5\n"
     ]
    },
    {
     "name": "stderr",
     "output_type": "stream",
     "text": [
      "100%|███████████████████████████████████████████| 3/3 [00:00<00:00, 8360.74it/s]\n",
      "100%|███████████████████████████████████████████| 3/3 [00:00<00:00, 2772.18it/s]\n"
     ]
    },
    {
     "name": "stdout",
     "output_type": "stream",
     "text": [
      "Z plane: 6\n"
     ]
    },
    {
     "name": "stderr",
     "output_type": "stream",
     "text": [
      "100%|███████████████████████████████████████████| 2/2 [00:00<00:00, 6132.02it/s]\n",
      "100%|███████████████████████████████████████████| 2/2 [00:00<00:00, 2817.81it/s]\n"
     ]
    },
    {
     "name": "stdout",
     "output_type": "stream",
     "text": [
      "Z plane: 7\n"
     ]
    },
    {
     "name": "stderr",
     "output_type": "stream",
     "text": [
      "100%|██████████████████████████████████████████| 2/2 [00:00<00:00, 15768.06it/s]\n",
      "100%|███████████████████████████████████████████| 2/2 [00:00<00:00, 2989.53it/s]\n"
     ]
    },
    {
     "name": "stdout",
     "output_type": "stream",
     "text": [
      "Z plane: 8\n"
     ]
    },
    {
     "name": "stderr",
     "output_type": "stream",
     "text": [
      "100%|███████████████████████████████████████████| 3/3 [00:00<00:00, 6864.65it/s]\n",
      "100%|███████████████████████████████████████████| 3/3 [00:00<00:00, 3032.76it/s]\n"
     ]
    },
    {
     "name": "stdout",
     "output_type": "stream",
     "text": [
      "Z plane: 9\n"
     ]
    },
    {
     "name": "stderr",
     "output_type": "stream",
     "text": [
      "100%|███████████████████████████████████████████| 6/6 [00:00<00:00, 5769.33it/s]\n",
      "100%|███████████████████████████████████████████| 6/6 [00:00<00:00, 3649.87it/s]\n"
     ]
    },
    {
     "name": "stdout",
     "output_type": "stream",
     "text": [
      "Z plane: 10\n"
     ]
    },
    {
     "name": "stderr",
     "output_type": "stream",
     "text": [
      "100%|███████████████████████████████████████████| 8/8 [00:00<00:00, 5336.26it/s]\n",
      "100%|███████████████████████████████████████████| 8/8 [00:00<00:00, 1727.47it/s]\n"
     ]
    },
    {
     "name": "stdout",
     "output_type": "stream",
     "text": [
      "Z plane: 11\n"
     ]
    },
    {
     "name": "stderr",
     "output_type": "stream",
     "text": [
      "100%|███████████████████████████████████████████| 8/8 [00:00<00:00, 5743.65it/s]\n",
      "100%|███████████████████████████████████████████| 8/8 [00:00<00:00, 4863.67it/s]\n"
     ]
    },
    {
     "name": "stdout",
     "output_type": "stream",
     "text": [
      "Z plane: 12\n"
     ]
    },
    {
     "name": "stderr",
     "output_type": "stream",
     "text": [
      "100%|████████████████████████████████████████| 14/14 [00:00<00:00, 11382.10it/s]\n",
      "100%|█████████████████████████████████████████| 14/14 [00:00<00:00, 2688.16it/s]\n"
     ]
    },
    {
     "name": "stdout",
     "output_type": "stream",
     "text": [
      "Z plane: 13\n"
     ]
    },
    {
     "name": "stderr",
     "output_type": "stream",
     "text": [
      "100%|█████████████████████████████████████████| 16/16 [00:00<00:00, 8978.98it/s]\n",
      "100%|█████████████████████████████████████████| 16/16 [00:00<00:00, 5999.90it/s]\n"
     ]
    },
    {
     "name": "stdout",
     "output_type": "stream",
     "text": [
      "Z plane: 14\n"
     ]
    },
    {
     "name": "stderr",
     "output_type": "stream",
     "text": [
      "100%|█████████████████████████████████████████| 18/18 [00:00<00:00, 9326.43it/s]\n",
      "100%|█████████████████████████████████████████| 18/18 [00:00<00:00, 4347.93it/s]\n"
     ]
    },
    {
     "name": "stdout",
     "output_type": "stream",
     "text": [
      "Z plane: 15\n"
     ]
    },
    {
     "name": "stderr",
     "output_type": "stream",
     "text": [
      "100%|█████████████████████████████████████████| 21/21 [00:00<00:00, 9713.32it/s]\n",
      "100%|█████████████████████████████████████████| 21/21 [00:00<00:00, 8330.69it/s]\n"
     ]
    },
    {
     "name": "stdout",
     "output_type": "stream",
     "text": [
      "Z plane: 16\n"
     ]
    },
    {
     "name": "stderr",
     "output_type": "stream",
     "text": [
      "100%|█████████████████████████████████████████| 21/21 [00:00<00:00, 9650.53it/s]\n",
      "100%|█████████████████████████████████████████| 21/21 [00:00<00:00, 5642.20it/s]\n"
     ]
    },
    {
     "name": "stdout",
     "output_type": "stream",
     "text": [
      "Z plane: 17\n"
     ]
    },
    {
     "name": "stderr",
     "output_type": "stream",
     "text": [
      "100%|████████████████████████████████████████| 23/23 [00:00<00:00, 10491.46it/s]\n",
      "100%|█████████████████████████████████████████| 23/23 [00:00<00:00, 5648.40it/s]\n"
     ]
    },
    {
     "name": "stdout",
     "output_type": "stream",
     "text": [
      "Z plane: 18\n"
     ]
    },
    {
     "name": "stderr",
     "output_type": "stream",
     "text": [
      "100%|████████████████████████████████████████| 25/25 [00:00<00:00, 10592.75it/s]\n",
      "100%|████████████████████████████████████████| 25/25 [00:00<00:00, 10854.82it/s]\n"
     ]
    },
    {
     "name": "stdout",
     "output_type": "stream",
     "text": [
      "Z plane: 19\n"
     ]
    },
    {
     "name": "stderr",
     "output_type": "stream",
     "text": [
      "100%|████████████████████████████████████████| 28/28 [00:00<00:00, 10381.02it/s]\n",
      "100%|████████████████████████████████████████| 28/28 [00:00<00:00, 10086.79it/s]\n"
     ]
    },
    {
     "name": "stdout",
     "output_type": "stream",
     "text": [
      "Z plane: 20\n"
     ]
    },
    {
     "name": "stderr",
     "output_type": "stream",
     "text": [
      "100%|████████████████████████████████████████| 34/34 [00:00<00:00, 26770.48it/s]\n",
      "100%|████████████████████████████████████████| 33/33 [00:00<00:00, 24624.09it/s]\n"
     ]
    },
    {
     "name": "stdout",
     "output_type": "stream",
     "text": [
      "Z plane: 21\n"
     ]
    },
    {
     "name": "stderr",
     "output_type": "stream",
     "text": [
      "100%|████████████████████████████████████████| 32/32 [00:00<00:00, 11457.89it/s]\n",
      "100%|████████████████████████████████████████| 31/31 [00:00<00:00, 12354.94it/s]\n"
     ]
    },
    {
     "name": "stdout",
     "output_type": "stream",
     "text": [
      "Z plane: 22\n"
     ]
    },
    {
     "name": "stderr",
     "output_type": "stream",
     "text": [
      "100%|████████████████████████████████████████| 35/35 [00:00<00:00, 10254.31it/s]\n",
      "100%|█████████████████████████████████████████| 34/34 [00:00<00:00, 7398.13it/s]\n"
     ]
    },
    {
     "name": "stdout",
     "output_type": "stream",
     "text": [
      "Z plane: 23\n"
     ]
    },
    {
     "name": "stderr",
     "output_type": "stream",
     "text": [
      "100%|████████████████████████████████████████| 36/36 [00:00<00:00, 13829.91it/s]\n",
      "100%|████████████████████████████████████████| 36/36 [00:00<00:00, 14675.38it/s]\n"
     ]
    },
    {
     "name": "stdout",
     "output_type": "stream",
     "text": [
      "Z plane: 24\n"
     ]
    },
    {
     "name": "stderr",
     "output_type": "stream",
     "text": [
      "100%|████████████████████████████████████████| 40/40 [00:00<00:00, 15036.04it/s]\n",
      "100%|████████████████████████████████████████| 39/39 [00:00<00:00, 12380.07it/s]\n"
     ]
    },
    {
     "name": "stdout",
     "output_type": "stream",
     "text": [
      "Z plane: 25\n"
     ]
    },
    {
     "name": "stderr",
     "output_type": "stream",
     "text": [
      "100%|████████████████████████████████████████| 38/38 [00:00<00:00, 16573.11it/s]\n",
      "100%|█████████████████████████████████████████| 38/38 [00:00<00:00, 9030.74it/s]\n"
     ]
    },
    {
     "name": "stdout",
     "output_type": "stream",
     "text": [
      "Z plane: 26\n"
     ]
    },
    {
     "name": "stderr",
     "output_type": "stream",
     "text": [
      "100%|████████████████████████████████████████| 35/35 [00:00<00:00, 24978.84it/s]\n",
      "100%|████████████████████████████████████████| 34/34 [00:00<00:00, 16236.63it/s]\n"
     ]
    },
    {
     "name": "stdout",
     "output_type": "stream",
     "text": [
      "Z plane: 27\n"
     ]
    },
    {
     "name": "stderr",
     "output_type": "stream",
     "text": [
      "100%|████████████████████████████████████████| 31/31 [00:00<00:00, 11597.84it/s]\n",
      "100%|████████████████████████████████████████| 31/31 [00:00<00:00, 11472.99it/s]\n"
     ]
    },
    {
     "name": "stdout",
     "output_type": "stream",
     "text": [
      "Z plane: 28\n"
     ]
    },
    {
     "name": "stderr",
     "output_type": "stream",
     "text": [
      "100%|████████████████████████████████████████| 29/29 [00:00<00:00, 20849.30it/s]\n",
      "100%|████████████████████████████████████████| 29/29 [00:00<00:00, 25824.80it/s]\n"
     ]
    },
    {
     "name": "stdout",
     "output_type": "stream",
     "text": [
      "Z plane: 29\n"
     ]
    },
    {
     "name": "stderr",
     "output_type": "stream",
     "text": [
      "100%|████████████████████████████████████████| 31/31 [00:00<00:00, 12257.11it/s]\n",
      "100%|█████████████████████████████████████████| 30/30 [00:00<00:00, 6523.70it/s]\n"
     ]
    },
    {
     "name": "stdout",
     "output_type": "stream",
     "text": [
      "Z plane: 30\n"
     ]
    },
    {
     "name": "stderr",
     "output_type": "stream",
     "text": [
      "100%|████████████████████████████████████████| 24/24 [00:00<00:00, 11055.83it/s]\n",
      "100%|████████████████████████████████████████| 24/24 [00:00<00:00, 12459.87it/s]\n"
     ]
    },
    {
     "name": "stdout",
     "output_type": "stream",
     "text": [
      "Z plane: 31\n"
     ]
    },
    {
     "name": "stderr",
     "output_type": "stream",
     "text": [
      "100%|█████████████████████████████████████████| 19/19 [00:00<00:00, 9133.73it/s]\n",
      "100%|█████████████████████████████████████████| 19/19 [00:00<00:00, 4128.68it/s]\n"
     ]
    },
    {
     "name": "stdout",
     "output_type": "stream",
     "text": [
      "Time point: 76\n",
      "Z plane: 0\n"
     ]
    },
    {
     "name": "stderr",
     "output_type": "stream",
     "text": [
      "100%|███████████████████████████████████████████| 3/3 [00:00<00:00, 7913.78it/s]\n",
      "100%|███████████████████████████████████████████| 3/3 [00:00<00:00, 4076.10it/s]\n"
     ]
    },
    {
     "name": "stdout",
     "output_type": "stream",
     "text": [
      "Z plane: 1\n"
     ]
    },
    {
     "name": "stderr",
     "output_type": "stream",
     "text": [
      "100%|██████████████████████████████████████████| 3/3 [00:00<00:00, 17119.61it/s]\n",
      "100%|███████████████████████████████████████████| 3/3 [00:00<00:00, 2724.75it/s]\n"
     ]
    },
    {
     "name": "stdout",
     "output_type": "stream",
     "text": [
      "Z plane: 2\n"
     ]
    },
    {
     "name": "stderr",
     "output_type": "stream",
     "text": [
      "100%|███████████████████████████████████████████| 4/4 [00:00<00:00, 9034.58it/s]\n",
      "100%|███████████████████████████████████████████| 4/4 [00:00<00:00, 5564.58it/s]\n"
     ]
    },
    {
     "name": "stdout",
     "output_type": "stream",
     "text": [
      "Z plane: 3\n"
     ]
    },
    {
     "name": "stderr",
     "output_type": "stream",
     "text": [
      "100%|███████████████████████████████████████████| 4/4 [00:00<00:00, 9980.50it/s]\n",
      "100%|███████████████████████████████████████████| 3/3 [00:00<00:00, 7612.17it/s]\n"
     ]
    },
    {
     "name": "stdout",
     "output_type": "stream",
     "text": [
      "Z plane: 4\n"
     ]
    },
    {
     "name": "stderr",
     "output_type": "stream",
     "text": [
      "100%|██████████████████████████████████████████| 3/3 [00:00<00:00, 15215.13it/s]\n",
      "100%|███████████████████████████████████████████| 3/3 [00:00<00:00, 3623.07it/s]\n"
     ]
    },
    {
     "name": "stdout",
     "output_type": "stream",
     "text": [
      "Z plane: 5\n"
     ]
    },
    {
     "name": "stderr",
     "output_type": "stream",
     "text": [
      "100%|███████████████████████████████████████████| 4/4 [00:00<00:00, 9614.45it/s]\n",
      "100%|███████████████████████████████████████████| 4/4 [00:00<00:00, 3930.01it/s]\n"
     ]
    },
    {
     "name": "stdout",
     "output_type": "stream",
     "text": [
      "Z plane: 6\n"
     ]
    },
    {
     "name": "stderr",
     "output_type": "stream",
     "text": [
      "100%|███████████████████████████████████████████| 3/3 [00:00<00:00, 8333.05it/s]\n",
      "100%|███████████████████████████████████████████| 3/3 [00:00<00:00, 7332.70it/s]\n"
     ]
    },
    {
     "name": "stdout",
     "output_type": "stream",
     "text": [
      "Z plane: 7\n"
     ]
    },
    {
     "name": "stderr",
     "output_type": "stream",
     "text": [
      "100%|███████████████████████████████████████████| 3/3 [00:00<00:00, 8261.93it/s]\n",
      "100%|███████████████████████████████████████████| 3/3 [00:00<00:00, 2442.81it/s]\n"
     ]
    },
    {
     "name": "stdout",
     "output_type": "stream",
     "text": [
      "Z plane: 8\n"
     ]
    },
    {
     "name": "stderr",
     "output_type": "stream",
     "text": [
      "100%|███████████████████████████████████████████| 4/4 [00:00<00:00, 7043.33it/s]\n",
      "100%|███████████████████████████████████████████| 4/4 [00:00<00:00, 4619.28it/s]\n"
     ]
    },
    {
     "name": "stdout",
     "output_type": "stream",
     "text": [
      "Z plane: 9\n"
     ]
    },
    {
     "name": "stderr",
     "output_type": "stream",
     "text": [
      "100%|███████████████████████████████████████████| 7/7 [00:00<00:00, 6585.94it/s]\n",
      "100%|███████████████████████████████████████████| 7/7 [00:00<00:00, 3989.15it/s]\n"
     ]
    },
    {
     "name": "stdout",
     "output_type": "stream",
     "text": [
      "Z plane: 10\n"
     ]
    },
    {
     "name": "stderr",
     "output_type": "stream",
     "text": [
      "100%|███████████████████████████████████████████| 9/9 [00:00<00:00, 3512.82it/s]\n",
      "100%|███████████████████████████████████████████| 9/9 [00:00<00:00, 7354.13it/s]\n"
     ]
    },
    {
     "name": "stdout",
     "output_type": "stream",
     "text": [
      "Z plane: 11\n"
     ]
    },
    {
     "name": "stderr",
     "output_type": "stream",
     "text": [
      "100%|███████████████████████████████████████████| 9/9 [00:00<00:00, 4213.50it/s]\n",
      "100%|███████████████████████████████████████████| 9/9 [00:00<00:00, 3695.06it/s]\n"
     ]
    },
    {
     "name": "stdout",
     "output_type": "stream",
     "text": [
      "Z plane: 12\n"
     ]
    },
    {
     "name": "stderr",
     "output_type": "stream",
     "text": [
      "100%|████████████████████████████████████████| 14/14 [00:00<00:00, 11925.32it/s]\n",
      "100%|█████████████████████████████████████████| 14/14 [00:00<00:00, 7742.65it/s]\n"
     ]
    },
    {
     "name": "stdout",
     "output_type": "stream",
     "text": [
      "Z plane: 13\n"
     ]
    },
    {
     "name": "stderr",
     "output_type": "stream",
     "text": [
      "100%|█████████████████████████████████████████| 16/16 [00:00<00:00, 7736.78it/s]\n",
      "100%|█████████████████████████████████████████| 16/16 [00:00<00:00, 2841.43it/s]\n"
     ]
    },
    {
     "name": "stdout",
     "output_type": "stream",
     "text": [
      "Z plane: 14\n"
     ]
    },
    {
     "name": "stderr",
     "output_type": "stream",
     "text": [
      "100%|████████████████████████████████████████| 17/17 [00:00<00:00, 15164.43it/s]\n",
      "100%|█████████████████████████████████████████| 17/17 [00:00<00:00, 4078.66it/s]\n"
     ]
    },
    {
     "name": "stdout",
     "output_type": "stream",
     "text": [
      "Z plane: 15\n"
     ]
    },
    {
     "name": "stderr",
     "output_type": "stream",
     "text": [
      "100%|█████████████████████████████████████████| 18/18 [00:00<00:00, 8985.65it/s]\n",
      "100%|█████████████████████████████████████████| 18/18 [00:00<00:00, 6006.16it/s]\n"
     ]
    },
    {
     "name": "stdout",
     "output_type": "stream",
     "text": [
      "Z plane: 16\n"
     ]
    },
    {
     "name": "stderr",
     "output_type": "stream",
     "text": [
      "100%|████████████████████████████████████████| 23/23 [00:00<00:00, 11062.96it/s]\n",
      "100%|█████████████████████████████████████████| 23/23 [00:00<00:00, 5022.07it/s]\n"
     ]
    },
    {
     "name": "stdout",
     "output_type": "stream",
     "text": [
      "Z plane: 17\n"
     ]
    },
    {
     "name": "stderr",
     "output_type": "stream",
     "text": [
      "100%|████████████████████████████████████████| 23/23 [00:00<00:00, 11878.95it/s]\n",
      "100%|█████████████████████████████████████████| 23/23 [00:00<00:00, 6750.33it/s]\n"
     ]
    },
    {
     "name": "stdout",
     "output_type": "stream",
     "text": [
      "Z plane: 18\n"
     ]
    },
    {
     "name": "stderr",
     "output_type": "stream",
     "text": [
      "100%|████████████████████████████████████████| 30/30 [00:00<00:00, 11877.39it/s]\n",
      "100%|████████████████████████████████████████| 29/29 [00:00<00:00, 12582.48it/s]\n"
     ]
    },
    {
     "name": "stdout",
     "output_type": "stream",
     "text": [
      "Z plane: 19\n"
     ]
    },
    {
     "name": "stderr",
     "output_type": "stream",
     "text": [
      "100%|████████████████████████████████████████| 29/29 [00:00<00:00, 13080.42it/s]\n",
      "100%|█████████████████████████████████████████| 28/28 [00:00<00:00, 7656.83it/s]\n"
     ]
    },
    {
     "name": "stdout",
     "output_type": "stream",
     "text": [
      "Z plane: 20\n"
     ]
    },
    {
     "name": "stderr",
     "output_type": "stream",
     "text": [
      "100%|████████████████████████████████████████| 35/35 [00:00<00:00, 26798.22it/s]\n",
      "100%|████████████████████████████████████████| 34/34 [00:00<00:00, 26541.29it/s]\n"
     ]
    },
    {
     "name": "stdout",
     "output_type": "stream",
     "text": [
      "Z plane: 21\n"
     ]
    },
    {
     "name": "stderr",
     "output_type": "stream",
     "text": [
      "100%|████████████████████████████████████████| 37/37 [00:00<00:00, 13143.83it/s]\n",
      "100%|█████████████████████████████████████████| 36/36 [00:00<00:00, 7423.91it/s]\n"
     ]
    },
    {
     "name": "stdout",
     "output_type": "stream",
     "text": [
      "Z plane: 22\n"
     ]
    },
    {
     "name": "stderr",
     "output_type": "stream",
     "text": [
      "100%|████████████████████████████████████████| 37/37 [00:00<00:00, 19152.07it/s]\n",
      "100%|█████████████████████████████████████████| 36/36 [00:00<00:00, 8370.01it/s]\n"
     ]
    },
    {
     "name": "stdout",
     "output_type": "stream",
     "text": [
      "Z plane: 23\n"
     ]
    },
    {
     "name": "stderr",
     "output_type": "stream",
     "text": [
      "100%|████████████████████████████████████████| 37/37 [00:00<00:00, 12767.52it/s]\n",
      "100%|█████████████████████████████████████████| 36/36 [00:00<00:00, 6882.18it/s]\n"
     ]
    },
    {
     "name": "stdout",
     "output_type": "stream",
     "text": [
      "Z plane: 24\n"
     ]
    },
    {
     "name": "stderr",
     "output_type": "stream",
     "text": [
      "100%|████████████████████████████████████████| 36/36 [00:00<00:00, 14199.26it/s]\n",
      "100%|████████████████████████████████████████| 36/36 [00:00<00:00, 13662.23it/s]\n"
     ]
    },
    {
     "name": "stdout",
     "output_type": "stream",
     "text": [
      "Z plane: 25\n"
     ]
    },
    {
     "name": "stderr",
     "output_type": "stream",
     "text": [
      "100%|████████████████████████████████████████| 33/33 [00:00<00:00, 11636.15it/s]\n",
      "100%|█████████████████████████████████████████| 33/33 [00:00<00:00, 9093.49it/s]\n"
     ]
    },
    {
     "name": "stdout",
     "output_type": "stream",
     "text": [
      "Z plane: 26\n"
     ]
    },
    {
     "name": "stderr",
     "output_type": "stream",
     "text": [
      "100%|████████████████████████████████████████| 31/31 [00:00<00:00, 10767.09it/s]\n",
      "100%|█████████████████████████████████████████| 31/31 [00:00<00:00, 8127.99it/s]\n"
     ]
    },
    {
     "name": "stdout",
     "output_type": "stream",
     "text": [
      "Z plane: 27\n"
     ]
    },
    {
     "name": "stderr",
     "output_type": "stream",
     "text": [
      "100%|████████████████████████████████████████| 31/31 [00:00<00:00, 19363.13it/s]\n",
      "100%|████████████████████████████████████████| 31/31 [00:00<00:00, 17765.19it/s]\n"
     ]
    },
    {
     "name": "stdout",
     "output_type": "stream",
     "text": [
      "Z plane: 28\n"
     ]
    },
    {
     "name": "stderr",
     "output_type": "stream",
     "text": [
      "100%|████████████████████████████████████████| 32/32 [00:00<00:00, 10423.87it/s]\n",
      "100%|████████████████████████████████████████| 31/31 [00:00<00:00, 11066.77it/s]\n"
     ]
    },
    {
     "name": "stdout",
     "output_type": "stream",
     "text": [
      "Z plane: 29\n"
     ]
    },
    {
     "name": "stderr",
     "output_type": "stream",
     "text": [
      "100%|████████████████████████████████████████| 28/28 [00:00<00:00, 11701.92it/s]\n",
      "100%|████████████████████████████████████████| 27/27 [00:00<00:00, 18402.05it/s]\n"
     ]
    },
    {
     "name": "stdout",
     "output_type": "stream",
     "text": [
      "Z plane: 30\n"
     ]
    },
    {
     "name": "stderr",
     "output_type": "stream",
     "text": [
      "100%|████████████████████████████████████████| 28/28 [00:00<00:00, 10569.75it/s]\n",
      "100%|████████████████████████████████████████| 27/27 [00:00<00:00, 10480.91it/s]\n"
     ]
    },
    {
     "name": "stdout",
     "output_type": "stream",
     "text": [
      "Z plane: 31\n"
     ]
    },
    {
     "name": "stderr",
     "output_type": "stream",
     "text": [
      "100%|████████████████████████████████████████| 23/23 [00:00<00:00, 17828.31it/s]\n",
      "100%|█████████████████████████████████████████| 23/23 [00:00<00:00, 9909.50it/s]\n"
     ]
    },
    {
     "name": "stdout",
     "output_type": "stream",
     "text": [
      "Time point: 77\n",
      "Z plane: 0\n"
     ]
    },
    {
     "name": "stderr",
     "output_type": "stream",
     "text": [
      "100%|███████████████████████████████████████████| 2/2 [00:00<00:00, 5540.69it/s]\n",
      "100%|███████████████████████████████████████████| 2/2 [00:00<00:00, 3658.35it/s]\n"
     ]
    },
    {
     "name": "stdout",
     "output_type": "stream",
     "text": [
      "Z plane: 1\n"
     ]
    },
    {
     "name": "stderr",
     "output_type": "stream",
     "text": [
      "100%|███████████████████████████████████████████| 2/2 [00:00<00:00, 7717.21it/s]\n",
      "100%|███████████████████████████████████████████| 2/2 [00:00<00:00, 2580.32it/s]\n"
     ]
    },
    {
     "name": "stdout",
     "output_type": "stream",
     "text": [
      "Z plane: 2\n"
     ]
    },
    {
     "name": "stderr",
     "output_type": "stream",
     "text": [
      "100%|███████████████████████████████████████████| 3/3 [00:00<00:00, 7691.27it/s]\n",
      "100%|███████████████████████████████████████████| 3/3 [00:00<00:00, 3749.38it/s]\n"
     ]
    },
    {
     "name": "stdout",
     "output_type": "stream",
     "text": [
      "Z plane: 3\n"
     ]
    },
    {
     "name": "stderr",
     "output_type": "stream",
     "text": [
      "100%|███████████████████████████████████████████| 3/3 [00:00<00:00, 6710.89it/s]\n",
      "100%|███████████████████████████████████████████| 3/3 [00:00<00:00, 4173.44it/s]\n"
     ]
    },
    {
     "name": "stdout",
     "output_type": "stream",
     "text": [
      "Z plane: 4\n"
     ]
    },
    {
     "name": "stderr",
     "output_type": "stream",
     "text": [
      "100%|███████████████████████████████████████████| 3/3 [00:00<00:00, 9679.16it/s]\n",
      "100%|███████████████████████████████████████████| 3/3 [00:00<00:00, 3105.36it/s]\n"
     ]
    },
    {
     "name": "stdout",
     "output_type": "stream",
     "text": [
      "Z plane: 5\n"
     ]
    },
    {
     "name": "stderr",
     "output_type": "stream",
     "text": [
      "100%|███████████████████████████████████████████| 3/3 [00:00<00:00, 7108.99it/s]\n",
      "100%|███████████████████████████████████████████| 3/3 [00:00<00:00, 2120.12it/s]\n"
     ]
    },
    {
     "name": "stdout",
     "output_type": "stream",
     "text": [
      "Z plane: 6\n"
     ]
    },
    {
     "name": "stderr",
     "output_type": "stream",
     "text": [
      "100%|███████████████████████████████████████████| 3/3 [00:00<00:00, 7441.11it/s]\n",
      "100%|███████████████████████████████████████████| 3/3 [00:00<00:00, 2567.94it/s]\n"
     ]
    },
    {
     "name": "stdout",
     "output_type": "stream",
     "text": [
      "Z plane: 7\n"
     ]
    },
    {
     "name": "stderr",
     "output_type": "stream",
     "text": [
      "100%|███████████████████████████████████████████| 3/3 [00:00<00:00, 8648.05it/s]\n",
      "100%|███████████████████████████████████████████| 3/3 [00:00<00:00, 2042.02it/s]\n"
     ]
    },
    {
     "name": "stdout",
     "output_type": "stream",
     "text": [
      "Z plane: 8\n"
     ]
    },
    {
     "name": "stderr",
     "output_type": "stream",
     "text": [
      "100%|███████████████████████████████████████████| 6/6 [00:00<00:00, 4095.33it/s]\n",
      "100%|███████████████████████████████████████████| 6/6 [00:00<00:00, 4706.53it/s]\n"
     ]
    },
    {
     "name": "stdout",
     "output_type": "stream",
     "text": [
      "Z plane: 9\n"
     ]
    },
    {
     "name": "stderr",
     "output_type": "stream",
     "text": [
      "100%|███████████████████████████████████████████| 7/7 [00:00<00:00, 5631.02it/s]\n",
      "100%|███████████████████████████████████████████| 7/7 [00:00<00:00, 3612.22it/s]\n"
     ]
    },
    {
     "name": "stdout",
     "output_type": "stream",
     "text": [
      "Z plane: 10\n"
     ]
    },
    {
     "name": "stderr",
     "output_type": "stream",
     "text": [
      "100%|███████████████████████████████████████████| 9/9 [00:00<00:00, 5889.96it/s]\n",
      "100%|███████████████████████████████████████████| 9/9 [00:00<00:00, 2646.25it/s]\n"
     ]
    },
    {
     "name": "stdout",
     "output_type": "stream",
     "text": [
      "Z plane: 11\n"
     ]
    },
    {
     "name": "stderr",
     "output_type": "stream",
     "text": [
      "100%|█████████████████████████████████████████| 10/10 [00:00<00:00, 7715.79it/s]\n",
      "100%|█████████████████████████████████████████| 10/10 [00:00<00:00, 2022.72it/s]\n"
     ]
    },
    {
     "name": "stdout",
     "output_type": "stream",
     "text": [
      "Z plane: 12\n"
     ]
    },
    {
     "name": "stderr",
     "output_type": "stream",
     "text": [
      "100%|█████████████████████████████████████████| 15/15 [00:00<00:00, 8649.24it/s]\n",
      "100%|█████████████████████████████████████████| 15/15 [00:00<00:00, 6273.26it/s]\n"
     ]
    },
    {
     "name": "stdout",
     "output_type": "stream",
     "text": [
      "Z plane: 13\n"
     ]
    },
    {
     "name": "stderr",
     "output_type": "stream",
     "text": [
      "100%|█████████████████████████████████████████| 17/17 [00:00<00:00, 8357.15it/s]\n",
      "100%|█████████████████████████████████████████| 17/17 [00:00<00:00, 3195.45it/s]\n"
     ]
    },
    {
     "name": "stdout",
     "output_type": "stream",
     "text": [
      "Z plane: 14\n"
     ]
    },
    {
     "name": "stderr",
     "output_type": "stream",
     "text": [
      "100%|█████████████████████████████████████████| 17/17 [00:00<00:00, 8537.26it/s]\n",
      "100%|█████████████████████████████████████████| 17/17 [00:00<00:00, 5859.89it/s]\n"
     ]
    },
    {
     "name": "stdout",
     "output_type": "stream",
     "text": [
      "Z plane: 15\n"
     ]
    },
    {
     "name": "stderr",
     "output_type": "stream",
     "text": [
      "100%|████████████████████████████████████████| 18/18 [00:00<00:00, 10199.60it/s]\n",
      "100%|█████████████████████████████████████████| 18/18 [00:00<00:00, 4443.38it/s]\n"
     ]
    },
    {
     "name": "stdout",
     "output_type": "stream",
     "text": [
      "Z plane: 16\n"
     ]
    },
    {
     "name": "stderr",
     "output_type": "stream",
     "text": [
      "100%|████████████████████████████████████████| 21/21 [00:00<00:00, 12719.19it/s]\n",
      "100%|█████████████████████████████████████████| 21/21 [00:00<00:00, 9205.73it/s]\n"
     ]
    },
    {
     "name": "stdout",
     "output_type": "stream",
     "text": [
      "Z plane: 17\n"
     ]
    },
    {
     "name": "stderr",
     "output_type": "stream",
     "text": [
      "100%|████████████████████████████████████████| 22/22 [00:00<00:00, 12415.86it/s]\n",
      "100%|█████████████████████████████████████████| 22/22 [00:00<00:00, 5877.37it/s]\n"
     ]
    },
    {
     "name": "stdout",
     "output_type": "stream",
     "text": [
      "Z plane: 18\n"
     ]
    },
    {
     "name": "stderr",
     "output_type": "stream",
     "text": [
      "100%|████████████████████████████████████████| 24/24 [00:00<00:00, 10679.32it/s]\n",
      "100%|█████████████████████████████████████████| 24/24 [00:00<00:00, 5905.39it/s]\n"
     ]
    },
    {
     "name": "stdout",
     "output_type": "stream",
     "text": [
      "Z plane: 19\n"
     ]
    },
    {
     "name": "stderr",
     "output_type": "stream",
     "text": [
      "100%|████████████████████████████████████████| 29/29 [00:00<00:00, 11599.73it/s]\n",
      "100%|█████████████████████████████████████████| 27/27 [00:00<00:00, 6612.53it/s]\n"
     ]
    },
    {
     "name": "stdout",
     "output_type": "stream",
     "text": [
      "Z plane: 20\n"
     ]
    },
    {
     "name": "stderr",
     "output_type": "stream",
     "text": [
      "100%|████████████████████████████████████████| 36/36 [00:00<00:00, 13406.28it/s]\n",
      "100%|████████████████████████████████████████| 33/33 [00:00<00:00, 12235.86it/s]\n"
     ]
    },
    {
     "name": "stdout",
     "output_type": "stream",
     "text": [
      "Z plane: 21\n"
     ]
    },
    {
     "name": "stderr",
     "output_type": "stream",
     "text": [
      "100%|████████████████████████████████████████| 33/33 [00:00<00:00, 18739.78it/s]\n",
      "100%|████████████████████████████████████████| 33/33 [00:00<00:00, 15056.24it/s]\n"
     ]
    },
    {
     "name": "stdout",
     "output_type": "stream",
     "text": [
      "Z plane: 22\n"
     ]
    },
    {
     "name": "stderr",
     "output_type": "stream",
     "text": [
      "100%|████████████████████████████████████████| 38/38 [00:00<00:00, 12726.25it/s]\n",
      "100%|█████████████████████████████████████████| 37/37 [00:00<00:00, 7904.51it/s]\n"
     ]
    },
    {
     "name": "stdout",
     "output_type": "stream",
     "text": [
      "Z plane: 23\n"
     ]
    },
    {
     "name": "stderr",
     "output_type": "stream",
     "text": [
      "100%|████████████████████████████████████████| 37/37 [00:00<00:00, 15190.80it/s]\n",
      "100%|████████████████████████████████████████| 37/37 [00:00<00:00, 12390.36it/s]\n"
     ]
    },
    {
     "name": "stdout",
     "output_type": "stream",
     "text": [
      "Z plane: 24\n"
     ]
    },
    {
     "name": "stderr",
     "output_type": "stream",
     "text": [
      "100%|████████████████████████████████████████| 38/38 [00:00<00:00, 18680.68it/s]\n",
      "100%|█████████████████████████████████████████| 38/38 [00:00<00:00, 8200.01it/s]\n"
     ]
    },
    {
     "name": "stdout",
     "output_type": "stream",
     "text": [
      "Z plane: 25\n"
     ]
    },
    {
     "name": "stderr",
     "output_type": "stream",
     "text": [
      "100%|████████████████████████████████████████| 41/41 [00:00<00:00, 22200.68it/s]\n",
      "100%|████████████████████████████████████████| 41/41 [00:00<00:00, 10763.38it/s]\n"
     ]
    },
    {
     "name": "stdout",
     "output_type": "stream",
     "text": [
      "Z plane: 26\n"
     ]
    },
    {
     "name": "stderr",
     "output_type": "stream",
     "text": [
      "100%|████████████████████████████████████████| 36/36 [00:00<00:00, 14205.94it/s]\n",
      "100%|█████████████████████████████████████████| 36/36 [00:00<00:00, 9324.13it/s]\n"
     ]
    },
    {
     "name": "stdout",
     "output_type": "stream",
     "text": [
      "Z plane: 27\n"
     ]
    },
    {
     "name": "stderr",
     "output_type": "stream",
     "text": [
      "100%|████████████████████████████████████████| 34/34 [00:00<00:00, 11053.90it/s]\n",
      "100%|█████████████████████████████████████████| 34/34 [00:00<00:00, 7269.90it/s]\n"
     ]
    },
    {
     "name": "stdout",
     "output_type": "stream",
     "text": [
      "Z plane: 28\n"
     ]
    },
    {
     "name": "stderr",
     "output_type": "stream",
     "text": [
      "100%|████████████████████████████████████████| 36/36 [00:00<00:00, 13544.58it/s]\n",
      "100%|████████████████████████████████████████| 36/36 [00:00<00:00, 13953.88it/s]\n"
     ]
    },
    {
     "name": "stdout",
     "output_type": "stream",
     "text": [
      "Z plane: 29\n"
     ]
    },
    {
     "name": "stderr",
     "output_type": "stream",
     "text": [
      "100%|████████████████████████████████████████| 31/31 [00:00<00:00, 12252.49it/s]\n",
      "100%|█████████████████████████████████████████| 31/31 [00:00<00:00, 8857.78it/s]\n"
     ]
    },
    {
     "name": "stdout",
     "output_type": "stream",
     "text": [
      "Z plane: 30\n"
     ]
    },
    {
     "name": "stderr",
     "output_type": "stream",
     "text": [
      "100%|████████████████████████████████████████| 24/24 [00:00<00:00, 11343.62it/s]\n",
      "100%|█████████████████████████████████████████| 24/24 [00:00<00:00, 8917.73it/s]\n"
     ]
    },
    {
     "name": "stdout",
     "output_type": "stream",
     "text": [
      "Z plane: 31\n"
     ]
    },
    {
     "name": "stderr",
     "output_type": "stream",
     "text": [
      "100%|████████████████████████████████████████| 21/21 [00:00<00:00, 11200.46it/s]\n",
      "100%|████████████████████████████████████████| 21/21 [00:00<00:00, 11104.44it/s]\n"
     ]
    }
   ],
   "source": [
    "for time_point in range(img_tmp.shape[0]):\n",
    "    print('Time point: ' + str(time_point))\n",
    "    dhb_time = dhb_img[time_point, :, :, :]\n",
    "    nuc_time = nuc_img[time_point, :, :, :]\n",
    "    for z_plane in range(img_tmp.shape[2]):\n",
    "        print('Z plane: ' + str(z_plane))\n",
    "        dhb_slice = dhb_time[z_plane, :, :]\n",
    "        nuc_slice = nuc_time[z_plane, :, :]\n",
    "        cyto_slice = cyto_expand(nuc_slice, 12)\n",
    "        cyto_name = 'cyto_' + str(time_point) + '_' + str(z_plane) + '.tif'\n",
    "        cyto_path = os.path.join(output_path, cyto_name)\n",
    "        imwrite(cyto_path, cyto_slice)\n",
    "        nuc_df = roi_quant(nuc_slice, dhb_slice)\n",
    "        nuc_df['time_point'] = time_point\n",
    "        nuc_df['z_plane'] = z_plane\n",
    "        nuc_df_name = 'nuc_output_' + str(time_point) + '_' + str(z_plane) + '.csv'\n",
    "        nuc_df_path = os.path.join(output_path, nuc_df_name)\n",
    "        nuc_df.to_csv(nuc_df_path, header = True)\n",
    "        cyto_df = roi_quant(cyto_slice, dhb_slice)\n",
    "        cyto_df['time_point'] = time_point\n",
    "        cyto_df['z_plane'] = z_plane\n",
    "        cyto_df_name = 'cyto_output_' + str(time_point) + '_' + str(z_plane) + '.csv'\n",
    "        cyto_df_path = os.path.join(output_path, cyto_df_name)\n",
    "        cyto_df.to_csv(cyto_df_path, header = True)"
   ]
  },
  {
   "cell_type": "code",
   "execution_count": null,
   "id": "fd390e14-ecdb-4221-a0d8-4cf391b74f93",
   "metadata": {},
   "outputs": [],
   "source": []
  }
 ],
 "metadata": {
  "kernelspec": {
   "display_name": "Python 3 (ipykernel)",
   "language": "python",
   "name": "python3"
  },
  "language_info": {
   "codemirror_mode": {
    "name": "ipython",
    "version": 3
   },
   "file_extension": ".py",
   "mimetype": "text/x-python",
   "name": "python",
   "nbconvert_exporter": "python",
   "pygments_lexer": "ipython3",
   "version": "3.11.7"
  }
 },
 "nbformat": 4,
 "nbformat_minor": 5
}
