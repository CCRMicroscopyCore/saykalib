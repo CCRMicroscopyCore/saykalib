{
 "cells": [
  {
   "cell_type": "code",
   "execution_count": 2,
   "id": "683201a0-18ce-475c-bf38-d767358b8dde",
   "metadata": {},
   "outputs": [],
   "source": [
    "# Import libraries------------------------------------------------------------------------------------------------------\n",
    "\n",
    "import os\n",
    "import numpy as np \n",
    "import pandas as pd \n",
    "import napari\n",
    "import re\n",
    "\n",
    "from scipy import ndimage as nd\n",
    "from tifffile import imread, imwrite\n",
    "from skimage.measure import label, regionprops \n",
    "from skimage.segmentation import expand_labels\n",
    "from skimage.morphology import binary_erosion, square, opening\n",
    "from tqdm import tqdm"
   ]
  },
  {
   "cell_type": "code",
   "execution_count": 2,
   "id": "eaad0fdc-107d-4c9f-b9d2-f6b4c9c482a2",
   "metadata": {},
   "outputs": [],
   "source": [
    "base_path = 'Z:/Analysis/[NCI] [LGI] Sergio Ruiz/Bechara Saykali/images/fgf4_cdx2_embryo/05_17'"
   ]
  },
  {
   "cell_type": "code",
   "execution_count": 4,
   "id": "f4683a62-873f-4002-80c6-8ff4560a82b4",
   "metadata": {},
   "outputs": [
    {
     "name": "stdout",
     "output_type": "stream",
     "text": [
      "['240519_iDHB_FGF_day1_fixed_cdx2_fgf_001_561nm.tif', '240519_iDHB_FGF_day1_fixed_cdx2_fgf_002_561nm.tif', '240519_iDHB_FGF_day1_fixed_cdx2_fgf_003_561nm.tif', '240519_iDHB_FGF_day1_fixed_cdx2_fgf_004_561nm.tif', '240519_iDHB_FGF_day1_fixed_cdx2_fgf_005_561nm.tif', '240519_iDHB_FGF_day1_fixed_cdx2_nofgf_001_561nm.tif', '240519_iDHB_FGF_day1_fixed_cdx2_nofgf_002_561nm.tif', '240519_iDHB_FGF_day1_fixed_cdx2_nofgf_003_561nm.tif']\n",
      "8\n"
     ]
    }
   ],
   "source": [
    "tmp_list = os.listdir(base_path)\n",
    "img_list = []\n",
    "\n",
    "for tmp in tmp_list:\n",
    "    if re.search('_561nm.tif', tmp):\n",
    "        img_list.append(tmp)\n",
    "\n",
    "print(img_list)\n",
    "print(len(img_list))"
   ]
  },
  {
   "cell_type": "code",
   "execution_count": 10,
   "id": "f4237906-1bff-44c4-b063-46d76815812b",
   "metadata": {},
   "outputs": [
    {
     "name": "stdout",
     "output_type": "stream",
     "text": [
      "(32, 2200, 2200)\n"
     ]
    }
   ],
   "source": [
    "img_name = img_list[0]\n",
    "img_path = os.path.join(base_path, img_name)\n",
    "\n",
    "img = imread(img_path)\n",
    "print(img.shape)"
   ]
  },
  {
   "cell_type": "markdown",
   "id": "4f6b85a8-34b6-4de4-8d01-897deda7b9eb",
   "metadata": {},
   "source": [
    "### Editing masks"
   ]
  },
  {
   "cell_type": "code",
   "execution_count": 40,
   "id": "e2e9c56e-0cb9-4399-95e0-7f29fd79f84a",
   "metadata": {},
   "outputs": [],
   "source": [
    "img_name = img_list[7]\n",
    "img_path = os.path.join(base_path, img_name)\n",
    "\n",
    "mask_name = img_name.replace('.tif', '_cp_masks.tif')\n",
    "mask_path = os.path.join(base_path, mask_name)\n",
    "\n",
    "img = imread(img_path)\n",
    "mask = imread(mask_path)"
   ]
  },
  {
   "cell_type": "code",
   "execution_count": 41,
   "id": "0051c1d0-8f6b-4ca6-8463-b64560c2c8d5",
   "metadata": {},
   "outputs": [],
   "source": [
    "viewer = napari.view_image(img, blending = 'additive')\n",
    "mask_layer = viewer.add_labels(mask, opacity = 0.25)"
   ]
  },
  {
   "cell_type": "code",
   "execution_count": 38,
   "id": "1013354b-672c-4b68-92a9-05c231872f1f",
   "metadata": {},
   "outputs": [],
   "source": [
    "mask = viewer.layers['mask'].data\n",
    "mask = np.uint16(mask)\n",
    "imwrite(mask_path, mask)\n",
    "\n",
    "embryo = viewer.layers['Labels'].data\n",
    "embryo = np.uint8(embryo)\n",
    "embryo_path = os.path.join(base_path, img_name.replace('.tif', '_embryo.tif'))\n",
    "imwrite(embryo_path, embryo)"
   ]
  },
  {
   "cell_type": "code",
   "execution_count": 39,
   "id": "ec118f06-bad2-4462-84b5-fe6559e582e6",
   "metadata": {},
   "outputs": [],
   "source": [
    "viewer.close()"
   ]
  },
  {
   "cell_type": "markdown",
   "id": "0237a34c-27f2-4673-a737-a4add5786b0f",
   "metadata": {},
   "source": [
    "### Create cytoplasm and analyze"
   ]
  },
  {
   "cell_type": "code",
   "execution_count": 3,
   "id": "fda93d97-0c72-45fb-9bf7-0148028fc6bb",
   "metadata": {},
   "outputs": [],
   "source": [
    "# Define functions--------------------------------------------------------------\n",
    "\n",
    "def cyto_expand(img, px): \n",
    "    cyto_shell = expand_labels(img, distance = px) \n",
    "    cyto_buffer = expand_labels(img, distance = 2) \n",
    "    cyto = np.subtract(cyto_shell, cyto_buffer) \n",
    "\n",
    "    return cyto \n",
    "\n",
    "def roi_quant(mask_img, embryo_img, ch405_img, ch488_img, ch561_img):\n",
    "    df = pd.DataFrame()\n",
    "\n",
    "    id = []\n",
    "    embryo_id = []\n",
    "    area = []\n",
    "    ch405_int = []\n",
    "    ch488_int = []\n",
    "    ch561_int = []\n",
    "\n",
    "    embryo_props = regionprops(mask_img, intensity_image = embryo_img)\n",
    "    ch405_props = regionprops(mask_img, intensity_image = ch405_img)\n",
    "    ch488_props = regionprops(mask_img, intensity_image = ch488_img)\n",
    "    ch561_props = regionprops(mask_img, intensity_image = ch561_img)\n",
    "\n",
    "    for roi in range(len(embryo_props)):\n",
    "        id.append(embryo_props[roi].label)\n",
    "        embryo_id.append(round(embryo_props[roi].mean_intensity, 0))\n",
    "        area.append(embryo_props[roi].area)\n",
    "        ch405_int.append(ch405_props[roi].mean_intensity)\n",
    "        ch488_int.append(ch488_props[roi].mean_intensity)\n",
    "        ch561_int.append(ch561_props[roi].mean_intensity)\n",
    "\n",
    "    df['id'] = id\n",
    "    df['embryo_id'] = embryo_id\n",
    "    df['area'] = area\n",
    "    df['ch405_int'] = ch405_int\n",
    "    df['ch488_int'] = ch488_int\n",
    "    df['ch561_int'] = ch561_int\n",
    "\n",
    "    return df"
   ]
  },
  {
   "cell_type": "code",
   "execution_count": 4,
   "id": "d2b850ee-c0c2-44ae-8fe7-ea6a5f905b4d",
   "metadata": {},
   "outputs": [],
   "source": [
    "base_path = '/Volumes/LECIMAGE/Analysis/[NCI] [LGI] Sergio Ruiz/Bechara Saykali/images/fgf4_cdx2_embryo/05_17'"
   ]
  },
  {
   "cell_type": "code",
   "execution_count": 5,
   "id": "c6e03723-4f52-45f4-9059-380cc1d6b0ca",
   "metadata": {},
   "outputs": [
    {
     "name": "stdout",
     "output_type": "stream",
     "text": [
      "['240519_iDHB_FGF_day1_fixed_cdx2_fgf_005', '240519_iDHB_FGF_day1_fixed_cdx2_nofgf_002', '240519_iDHB_FGF_day1_fixed_cdx2_fgf_003', '240519_iDHB_FGF_day1_fixed_cdx2_fgf_001', '240519_iDHB_FGF_day1_fixed_cdx2_fgf_004', '240519_iDHB_FGF_day1_fixed_cdx2_nofgf_001', '240519_iDHB_FGF_day1_fixed_cdx2_fgf_002', '240519_iDHB_FGF_day1_fixed_cdx2_nofgf_003']\n",
      "8\n"
     ]
    }
   ],
   "source": [
    "tmp_list = os.listdir(base_path)\n",
    "img_list = []\n",
    "\n",
    "for tmp in tmp_list:\n",
    "    if re.search('_405nm.tif', tmp):\n",
    "        img_list.append(tmp.replace('_405nm.tif', ''))\n",
    "\n",
    "print(img_list)\n",
    "print(len(img_list))"
   ]
  },
  {
   "cell_type": "code",
   "execution_count": 11,
   "id": "0f84ced3-161a-4412-8e9f-ac215b3df19b",
   "metadata": {},
   "outputs": [
    {
     "name": "stdout",
     "output_type": "stream",
     "text": [
      "240519_iDHB_FGF_day1_fixed_cdx2_fgf_005\n"
     ]
    },
    {
     "name": "stderr",
     "output_type": "stream",
     "text": [
      "100%|███████████████████████████████████████████| 22/22 [00:13<00:00,  1.68it/s]\n"
     ]
    },
    {
     "name": "stdout",
     "output_type": "stream",
     "text": [
      "240519_iDHB_FGF_day1_fixed_cdx2_nofgf_002\n"
     ]
    },
    {
     "name": "stderr",
     "output_type": "stream",
     "text": [
      "100%|███████████████████████████████████████████| 24/24 [00:15<00:00,  1.53it/s]\n"
     ]
    },
    {
     "name": "stdout",
     "output_type": "stream",
     "text": [
      "240519_iDHB_FGF_day1_fixed_cdx2_fgf_003\n"
     ]
    },
    {
     "name": "stderr",
     "output_type": "stream",
     "text": [
      "100%|███████████████████████████████████████████| 26/26 [00:18<00:00,  1.44it/s]\n"
     ]
    },
    {
     "name": "stdout",
     "output_type": "stream",
     "text": [
      "240519_iDHB_FGF_day1_fixed_cdx2_fgf_001\n"
     ]
    },
    {
     "name": "stderr",
     "output_type": "stream",
     "text": [
      "100%|███████████████████████████████████████████| 24/24 [00:13<00:00,  1.81it/s]\n"
     ]
    },
    {
     "name": "stdout",
     "output_type": "stream",
     "text": [
      "240519_iDHB_FGF_day1_fixed_cdx2_fgf_004\n"
     ]
    },
    {
     "name": "stderr",
     "output_type": "stream",
     "text": [
      "100%|███████████████████████████████████████████| 26/26 [00:15<00:00,  1.70it/s]\n"
     ]
    },
    {
     "name": "stdout",
     "output_type": "stream",
     "text": [
      "240519_iDHB_FGF_day1_fixed_cdx2_nofgf_001\n"
     ]
    },
    {
     "name": "stderr",
     "output_type": "stream",
     "text": [
      "100%|███████████████████████████████████████████| 21/21 [00:11<00:00,  1.82it/s]\n"
     ]
    },
    {
     "name": "stdout",
     "output_type": "stream",
     "text": [
      "240519_iDHB_FGF_day1_fixed_cdx2_fgf_002\n"
     ]
    },
    {
     "name": "stderr",
     "output_type": "stream",
     "text": [
      "100%|███████████████████████████████████████████| 32/32 [00:26<00:00,  1.22it/s]\n"
     ]
    },
    {
     "name": "stdout",
     "output_type": "stream",
     "text": [
      "240519_iDHB_FGF_day1_fixed_cdx2_nofgf_003\n"
     ]
    },
    {
     "name": "stderr",
     "output_type": "stream",
     "text": [
      "100%|███████████████████████████████████████████| 25/25 [00:14<00:00,  1.68it/s]\n"
     ]
    }
   ],
   "source": [
    "for img_name in img_list:\n",
    "    print(img_name)\n",
    "    \n",
    "    mask_path = os.path.join(base_path, img_name + '_561nm_cp_masks.tif')\n",
    "    mask_img = imread(mask_path)\n",
    "\n",
    "    embryo_path = os.path.join(base_path, img_name + '_561nm_embryo.tif')\n",
    "    embryo_img = imread(embryo_path)\n",
    "\n",
    "    ch405_path = os.path.join(base_path, img_name + '_405nm.tif')\n",
    "    ch405_img = imread(ch405_path)\n",
    "\n",
    "    ch488_path = os.path.join(base_path, img_name + '_488nm.tif')\n",
    "    ch488_img = imread(ch488_path)\n",
    "\n",
    "    ch561_path = os.path.join(base_path, img_name + '_561nm.tif')\n",
    "    ch561_img = imread(ch561_path)\n",
    "\n",
    "    cyto_img = np.empty([mask_img.shape[0], mask_img.shape[1], mask_img.shape[2]])\n",
    "    df_nuc = pd.DataFrame()\n",
    "    df_cyto = pd.DataFrame()\n",
    "    \n",
    "    for z_plane in tqdm(range(mask_img.shape[0])):\n",
    "        mask_frame = mask_img[z_plane, :, :]\n",
    "        embryo_frame = embryo_img[z_plane, :, :]\n",
    "        ch405_frame = ch405_img[z_plane, :, :]\n",
    "        ch488_frame = ch488_img[z_plane, :, :]\n",
    "        ch561_frame = ch561_img[z_plane, :, :]\n",
    "\n",
    "        cyto_frame = cyto_expand(mask_frame, 12)\n",
    "        cyto_frame = np.uint16(cyto_frame)\n",
    "        \n",
    "        df_tmp = roi_quant(mask_frame, embryo_frame, ch405_frame, ch488_frame, ch561_frame)\n",
    "        df_tmp['z_plane'] = z_plane\n",
    "        df_nuc = pd.concat([df_nuc, df_tmp])\n",
    "\n",
    "        df_tmp = roi_quant(cyto_frame, embryo_frame, ch405_frame, ch488_frame, ch561_frame)\n",
    "        df_tmp['z_plane'] = z_plane\n",
    "        df_cyto = pd.concat([df_cyto, df_tmp])\n",
    "\n",
    "        cyto_frame = np.expand_dims(cyto_frame, axis = 0)\n",
    "        cyto_img = np.concatenate((cyto_img, cyto_frame), axis = 0)\n",
    "\n",
    "    cyto_img = np.uint16(cyto_img)\n",
    "    cyto_path = os.path.join(base_path, img_name + '_cyto.tif')\n",
    "    imwrite(cyto_path, cyto_img)\n",
    "\n",
    "    df_nuc_path = os.path.join(base_path, img_name + '_output.csv')\n",
    "    df_nuc.to_csv(df_nuc_path, header = True)\n",
    "\n",
    "    df_cyto_path = os.path.join(base_path, img_name + '_cyto.csv')\n",
    "    df_cyto.to_csv(df_cyto_path, header = True)"
   ]
  },
  {
   "cell_type": "markdown",
   "id": "eca3a399-38e0-482c-abd8-3d466b6a2958",
   "metadata": {},
   "source": [
    "### Visualization"
   ]
  },
  {
   "cell_type": "code",
   "execution_count": 6,
   "id": "c82e2033-30fd-4ab9-b9df-14bcdcb2b4ab",
   "metadata": {},
   "outputs": [
    {
     "name": "stdout",
     "output_type": "stream",
     "text": [
      "240519_iDHB_FGF_day1_fixed_cdx2_fgf_005\n"
     ]
    }
   ],
   "source": [
    "img_name = img_list[0]\n",
    "print(img_name)\n",
    "\n",
    "mask_path = os.path.join(base_path, img_name + '_561nm_cp_masks.tif')\n",
    "mask_img = imread(mask_path)\n",
    "\n",
    "cyto_path = os.path.join(base_path, img_name + '_cyto.tif')\n",
    "cyto_img = imread(cyto_path)"
   ]
  },
  {
   "cell_type": "code",
   "execution_count": 7,
   "id": "00d76731-5d0d-45dc-873c-7a320cdcdb50",
   "metadata": {},
   "outputs": [
    {
     "name": "stderr",
     "output_type": "stream",
     "text": [
      "Invalid schema for package 'ome-types', please run 'npe2 validate ome-types' to check for manifest errors.\n"
     ]
    },
    {
     "ename": "TypeError",
     "evalue": "Only integer types are supported for Labels layers, but data contains float64.",
     "output_type": "error",
     "traceback": [
      "\u001b[0;31m---------------------------------------------------------------------------\u001b[0m",
      "\u001b[0;31mTypeError\u001b[0m                                 Traceback (most recent call last)",
      "Cell \u001b[0;32mIn[7], line 2\u001b[0m\n\u001b[1;32m      1\u001b[0m viewer \u001b[38;5;241m=\u001b[39m napari\u001b[38;5;241m.\u001b[39mview_image(mask_img, blending \u001b[38;5;241m=\u001b[39m \u001b[38;5;124m'\u001b[39m\u001b[38;5;124madditive\u001b[39m\u001b[38;5;124m'\u001b[39m)\n\u001b[0;32m----> 2\u001b[0m cyto_layer \u001b[38;5;241m=\u001b[39m \u001b[43mviewer\u001b[49m\u001b[38;5;241;43m.\u001b[39;49m\u001b[43madd_labels\u001b[49m\u001b[43m(\u001b[49m\u001b[43mcyto_img\u001b[49m\u001b[43m)\u001b[49m\n",
      "File \u001b[0;32m~/anaconda3/envs/napari-env/lib/python3.11/site-packages/napari/components/viewer_model.py:7\u001b[0m, in \u001b[0;36madd_labels\u001b[0;34m(self, data, affine, blending, cache, colormap, depiction, experimental_clipping_planes, features, metadata, multiscale, name, opacity, plane, properties, rendering, rotate, scale, shear, translate, visible, seed, num_colors, color)\u001b[0m\n\u001b[1;32m      5\u001b[0m \u001b[38;5;28;01mimport\u001b[39;00m \u001b[38;5;21;01mos\u001b[39;00m\n\u001b[1;32m      6\u001b[0m \u001b[38;5;28;01mimport\u001b[39;00m \u001b[38;5;21;01mwarnings\u001b[39;00m\n\u001b[0;32m----> 7\u001b[0m \u001b[38;5;28;01mfrom\u001b[39;00m \u001b[38;5;21;01mfunctools\u001b[39;00m \u001b[38;5;28;01mimport\u001b[39;00m lru_cache\n\u001b[1;32m      8\u001b[0m \u001b[38;5;28;01mfrom\u001b[39;00m \u001b[38;5;21;01mpathlib\u001b[39;00m \u001b[38;5;28;01mimport\u001b[39;00m Path\n\u001b[1;32m      9\u001b[0m \u001b[38;5;28;01mfrom\u001b[39;00m \u001b[38;5;21;01mtyping\u001b[39;00m \u001b[38;5;28;01mimport\u001b[39;00m (\n\u001b[1;32m     10\u001b[0m     TYPE_CHECKING,\n\u001b[1;32m     11\u001b[0m     Any,\n\u001b[0;32m   (...)\u001b[0m\n\u001b[1;32m     19\u001b[0m     Union,\n\u001b[1;32m     20\u001b[0m )\n",
      "File \u001b[0;32m~/anaconda3/envs/napari-env/lib/python3.11/site-packages/napari/layers/base/base.py:88\u001b[0m, in \u001b[0;36mPostInit.__call__\u001b[0;34m(self, *args, **kwargs)\u001b[0m\n\u001b[1;32m     87\u001b[0m \u001b[38;5;28;01mdef\u001b[39;00m \u001b[38;5;21m__call__\u001b[39m(\u001b[38;5;28mself\u001b[39m, \u001b[38;5;241m*\u001b[39margs, \u001b[38;5;241m*\u001b[39m\u001b[38;5;241m*\u001b[39mkwargs):\n\u001b[0;32m---> 88\u001b[0m     obj \u001b[38;5;241m=\u001b[39m \u001b[38;5;28;43msuper\u001b[39;49m\u001b[43m(\u001b[49m\u001b[43m)\u001b[49m\u001b[38;5;241;43m.\u001b[39;49m\u001b[38;5;21;43m__call__\u001b[39;49m\u001b[43m(\u001b[49m\u001b[38;5;241;43m*\u001b[39;49m\u001b[43margs\u001b[49m\u001b[43m,\u001b[49m\u001b[43m \u001b[49m\u001b[38;5;241;43m*\u001b[39;49m\u001b[38;5;241;43m*\u001b[39;49m\u001b[43mkwargs\u001b[49m\u001b[43m)\u001b[49m\n\u001b[1;32m     89\u001b[0m     obj\u001b[38;5;241m.\u001b[39m_post_init()\n\u001b[1;32m     90\u001b[0m     \u001b[38;5;28;01mreturn\u001b[39;00m obj\n",
      "File \u001b[0;32m~/anaconda3/envs/napari-env/lib/python3.11/site-packages/napari/utils/migrations.py:92\u001b[0m, in \u001b[0;36mdeprecated_constructor_arg_by_attr.<locals>.wrapper.<locals>._wrapper\u001b[0;34m(*args, **kwargs)\u001b[0m\n\u001b[1;32m     90\u001b[0m \u001b[38;5;28;01mif\u001b[39;00m name \u001b[38;5;129;01min\u001b[39;00m kwargs:\n\u001b[1;32m     91\u001b[0m     value \u001b[38;5;241m=\u001b[39m kwargs\u001b[38;5;241m.\u001b[39mpop(name)\n\u001b[0;32m---> 92\u001b[0m res \u001b[38;5;241m=\u001b[39m \u001b[43mfunc\u001b[49m\u001b[43m(\u001b[49m\u001b[38;5;241;43m*\u001b[39;49m\u001b[43margs\u001b[49m\u001b[43m,\u001b[49m\u001b[43m \u001b[49m\u001b[38;5;241;43m*\u001b[39;49m\u001b[38;5;241;43m*\u001b[39;49m\u001b[43mkwargs\u001b[49m\u001b[43m)\u001b[49m\n\u001b[1;32m     94\u001b[0m \u001b[38;5;28;01mif\u001b[39;00m value \u001b[38;5;129;01mis\u001b[39;00m \u001b[38;5;129;01mnot\u001b[39;00m _UNSET:\n\u001b[1;32m     95\u001b[0m     \u001b[38;5;28msetattr\u001b[39m(args[\u001b[38;5;241m0\u001b[39m], name, value)\n",
      "File \u001b[0;32m~/anaconda3/envs/napari-env/lib/python3.11/site-packages/napari/utils/migrations.py:92\u001b[0m, in \u001b[0;36mdeprecated_constructor_arg_by_attr.<locals>.wrapper.<locals>._wrapper\u001b[0;34m(*args, **kwargs)\u001b[0m\n\u001b[1;32m     90\u001b[0m \u001b[38;5;28;01mif\u001b[39;00m name \u001b[38;5;129;01min\u001b[39;00m kwargs:\n\u001b[1;32m     91\u001b[0m     value \u001b[38;5;241m=\u001b[39m kwargs\u001b[38;5;241m.\u001b[39mpop(name)\n\u001b[0;32m---> 92\u001b[0m res \u001b[38;5;241m=\u001b[39m \u001b[43mfunc\u001b[49m\u001b[43m(\u001b[49m\u001b[38;5;241;43m*\u001b[39;49m\u001b[43margs\u001b[49m\u001b[43m,\u001b[49m\u001b[43m \u001b[49m\u001b[38;5;241;43m*\u001b[39;49m\u001b[38;5;241;43m*\u001b[39;49m\u001b[43mkwargs\u001b[49m\u001b[43m)\u001b[49m\n\u001b[1;32m     94\u001b[0m \u001b[38;5;28;01mif\u001b[39;00m value \u001b[38;5;129;01mis\u001b[39;00m \u001b[38;5;129;01mnot\u001b[39;00m _UNSET:\n\u001b[1;32m     95\u001b[0m     \u001b[38;5;28msetattr\u001b[39m(args[\u001b[38;5;241m0\u001b[39m], name, value)\n",
      "File \u001b[0;32m~/anaconda3/envs/napari-env/lib/python3.11/site-packages/napari/utils/migrations.py:92\u001b[0m, in \u001b[0;36mdeprecated_constructor_arg_by_attr.<locals>.wrapper.<locals>._wrapper\u001b[0;34m(*args, **kwargs)\u001b[0m\n\u001b[1;32m     90\u001b[0m \u001b[38;5;28;01mif\u001b[39;00m name \u001b[38;5;129;01min\u001b[39;00m kwargs:\n\u001b[1;32m     91\u001b[0m     value \u001b[38;5;241m=\u001b[39m kwargs\u001b[38;5;241m.\u001b[39mpop(name)\n\u001b[0;32m---> 92\u001b[0m res \u001b[38;5;241m=\u001b[39m \u001b[43mfunc\u001b[49m\u001b[43m(\u001b[49m\u001b[38;5;241;43m*\u001b[39;49m\u001b[43margs\u001b[49m\u001b[43m,\u001b[49m\u001b[43m \u001b[49m\u001b[38;5;241;43m*\u001b[39;49m\u001b[38;5;241;43m*\u001b[39;49m\u001b[43mkwargs\u001b[49m\u001b[43m)\u001b[49m\n\u001b[1;32m     94\u001b[0m \u001b[38;5;28;01mif\u001b[39;00m value \u001b[38;5;129;01mis\u001b[39;00m \u001b[38;5;129;01mnot\u001b[39;00m _UNSET:\n\u001b[1;32m     95\u001b[0m     \u001b[38;5;28msetattr\u001b[39m(args[\u001b[38;5;241m0\u001b[39m], name, value)\n",
      "File \u001b[0;32m~/anaconda3/envs/napari-env/lib/python3.11/site-packages/napari/layers/labels/labels.py:306\u001b[0m, in \u001b[0;36mLabels.__init__\u001b[0;34m(self, data, affine, blending, cache, colormap, depiction, experimental_clipping_planes, features, metadata, multiscale, name, opacity, plane, properties, rendering, rotate, scale, shear, translate, visible)\u001b[0m\n\u001b[1;32m    303\u001b[0m \u001b[38;5;28mself\u001b[39m\u001b[38;5;241m.\u001b[39m_show_selected_label \u001b[38;5;241m=\u001b[39m \u001b[38;5;28;01mFalse\u001b[39;00m\n\u001b[1;32m    304\u001b[0m \u001b[38;5;28mself\u001b[39m\u001b[38;5;241m.\u001b[39m_contour \u001b[38;5;241m=\u001b[39m \u001b[38;5;241m0\u001b[39m\n\u001b[0;32m--> 306\u001b[0m data \u001b[38;5;241m=\u001b[39m \u001b[38;5;28;43mself\u001b[39;49m\u001b[38;5;241;43m.\u001b[39;49m\u001b[43m_ensure_int_labels\u001b[49m\u001b[43m(\u001b[49m\u001b[43mdata\u001b[49m\u001b[43m)\u001b[49m\n\u001b[1;32m    308\u001b[0m \u001b[38;5;28msuper\u001b[39m()\u001b[38;5;241m.\u001b[39m\u001b[38;5;21m__init__\u001b[39m(\n\u001b[1;32m    309\u001b[0m     data,\n\u001b[1;32m    310\u001b[0m     rendering\u001b[38;5;241m=\u001b[39mrendering,\n\u001b[0;32m   (...)\u001b[0m\n\u001b[1;32m    325\u001b[0m     experimental_clipping_planes\u001b[38;5;241m=\u001b[39mexperimental_clipping_planes,\n\u001b[1;32m    326\u001b[0m )\n\u001b[1;32m    328\u001b[0m \u001b[38;5;28mself\u001b[39m\u001b[38;5;241m.\u001b[39mevents\u001b[38;5;241m.\u001b[39madd(\n\u001b[1;32m    329\u001b[0m     brush_shape\u001b[38;5;241m=\u001b[39mEvent,\n\u001b[1;32m    330\u001b[0m     brush_size\u001b[38;5;241m=\u001b[39mEvent,\n\u001b[0;32m   (...)\u001b[0m\n\u001b[1;32m    350\u001b[0m     show_selected_label\u001b[38;5;241m=\u001b[39mEvent,\n\u001b[1;32m    351\u001b[0m )\n",
      "File \u001b[0;32m~/anaconda3/envs/napari-env/lib/python3.11/site-packages/napari/layers/labels/labels.py:691\u001b[0m, in \u001b[0;36mLabels._ensure_int_labels\u001b[0;34m(self, data)\u001b[0m\n\u001b[1;32m    687\u001b[0m \u001b[38;5;28;01mfor\u001b[39;00m data_level \u001b[38;5;129;01min\u001b[39;00m data:\n\u001b[1;32m    688\u001b[0m     \u001b[38;5;66;03m# normalize_dtype turns e.g. tensorstore or torch dtypes into\u001b[39;00m\n\u001b[1;32m    689\u001b[0m     \u001b[38;5;66;03m# numpy dtypes\u001b[39;00m\n\u001b[1;32m    690\u001b[0m     \u001b[38;5;28;01mif\u001b[39;00m np\u001b[38;5;241m.\u001b[39missubdtype(normalize_dtype(data_level\u001b[38;5;241m.\u001b[39mdtype), np\u001b[38;5;241m.\u001b[39mfloating):\n\u001b[0;32m--> 691\u001b[0m         \u001b[38;5;28;01mraise\u001b[39;00m \u001b[38;5;167;01mTypeError\u001b[39;00m(\n\u001b[1;32m    692\u001b[0m             trans\u001b[38;5;241m.\u001b[39m_(\n\u001b[1;32m    693\u001b[0m                 \u001b[38;5;124m\"\u001b[39m\u001b[38;5;124mOnly integer types are supported for Labels layers, but data contains \u001b[39m\u001b[38;5;132;01m{data_level_type}\u001b[39;00m\u001b[38;5;124m.\u001b[39m\u001b[38;5;124m\"\u001b[39m,\n\u001b[1;32m    694\u001b[0m                 data_level_type\u001b[38;5;241m=\u001b[39mdata_level\u001b[38;5;241m.\u001b[39mdtype,\n\u001b[1;32m    695\u001b[0m             )\n\u001b[1;32m    696\u001b[0m         )\n\u001b[1;32m    697\u001b[0m     \u001b[38;5;28;01mif\u001b[39;00m data_level\u001b[38;5;241m.\u001b[39mdtype \u001b[38;5;241m==\u001b[39m \u001b[38;5;28mbool\u001b[39m:\n\u001b[1;32m    698\u001b[0m         int_data\u001b[38;5;241m.\u001b[39mappend(data_level\u001b[38;5;241m.\u001b[39mastype(np\u001b[38;5;241m.\u001b[39mint8))\n",
      "\u001b[0;31mTypeError\u001b[0m: Only integer types are supported for Labels layers, but data contains float64."
     ]
    }
   ],
   "source": [
    "viewer = napari.view_image(mask_img, blending = 'additive')\n",
    "cyto_layer = viewer.add_labels(cyto_img)"
   ]
  },
  {
   "cell_type": "code",
   "execution_count": null,
   "id": "100331f0-9dc6-4e23-bef8-9c8506cc2b8b",
   "metadata": {},
   "outputs": [],
   "source": []
  }
 ],
 "metadata": {
  "kernelspec": {
   "display_name": "Python 3 (ipykernel)",
   "language": "python",
   "name": "python3"
  },
  "language_info": {
   "codemirror_mode": {
    "name": "ipython",
    "version": 3
   },
   "file_extension": ".py",
   "mimetype": "text/x-python",
   "name": "python",
   "nbconvert_exporter": "python",
   "pygments_lexer": "ipython3",
   "version": "3.11.7"
  }
 },
 "nbformat": 4,
 "nbformat_minor": 5
}
